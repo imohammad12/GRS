{
 "cells": [
  {
   "cell_type": "code",
   "execution_count": 39,
   "metadata": {
    "collapsed": true,
    "pycharm": {
     "name": "#%%\n"
    }
   },
   "outputs": [
    {
     "name": "stdout",
     "output_type": "stream",
     "text": [
      "/home/m25dehgh/simplification/Edit-Unsup-TS\n"
     ]
    }
   ],
   "source": [
    "import torch\n",
    "from nltk.parse import CoreNLPParser\n",
    "\n",
    "# %cd /home/m25dehgh/simplification/Edit-Unsup-TS\n",
    "# from normalizing import *\n"
   ]
  },
  {
   "cell_type": "code",
   "execution_count": 9,
   "outputs": [],
   "source": [
    "# %cd /home/m25dehgh/simplification/asset/dataset\n",
    "# train_src = open('/home/m25dehgh/simplification/asset/dataset/asset.test.orig', encoding='utf-8').read().split('\\n')\n",
    "# valid_src = open('/home/m25dehgh/simplification/asset/dataset/asset.valid.orig', encoding='utf-8').read().split('\\n')\n",
    "# valid_dst = open('/home/m25dehgh/simplification/asset/dataset/asset.valid.simp.0', encoding='utf-8').read().split('\\n')\n",
    "\n",
    "wiki_orig_out = open('src/Wikilarge/output/RM+EX+LS+RO.txt', encoding='utf-8').read().split('\\n')\n",
    "wiki_me_out = open('src/Wikilarge/output/simplifications_Wikilarge.txt', encoding='utf-8').read().split('\\n')\n",
    "\n"
   ],
   "metadata": {
    "collapsed": false,
    "pycharm": {
     "name": "#%%\n"
    }
   }
  },
  {
   "cell_type": "code",
   "execution_count": 25,
   "outputs": [],
   "source": [
    "new_wiki = []\n",
    "for i in range(len(wiki_me_out)):\n",
    "    if i % 8 == 2:\n",
    "        new_wiki.append(wiki_me_out[i])"
   ],
   "metadata": {
    "collapsed": false,
    "pycharm": {
     "name": "#%%\n"
    }
   }
  },
  {
   "cell_type": "code",
   "execution_count": 27,
   "outputs": [
    {
     "data": {
      "text/plain": "156"
     },
     "execution_count": 27,
     "metadata": {},
     "output_type": "execute_result"
    }
   ],
   "source": [
    "len(new_wiki)"
   ],
   "metadata": {
    "collapsed": false,
    "pycharm": {
     "name": "#%%\n"
    }
   }
  },
  {
   "cell_type": "code",
   "execution_count": 34,
   "outputs": [],
   "source": [
    "len(wiki_orig_out)\n",
    "\n",
    "with open('src/Wikilarge/output/wiki_me.txt', \"a\") as file:\n",
    "    for i in range(len(new_wiki)):\n",
    "        file.write(new_wiki[i] + \"\\n\")\n",
    "        \n",
    "\n",
    "# with open('wiki_me.txt', \"r\") as file:\n",
    "#     print(file.read())\n",
    "#     file.close()"
   ],
   "metadata": {
    "collapsed": false,
    "pycharm": {
     "name": "#%%\n"
    }
   }
  },
  {
   "cell_type": "code",
   "execution_count": 33,
   "outputs": [
    {
     "name": "stdout",
     "output_type": "stream",
     "text": [
      "/home/m25dehgh/simplification/Edit-Unsup-TS\r\n"
     ]
    }
   ],
   "source": [
    "!pwd"
   ],
   "metadata": {
    "collapsed": false,
    "pycharm": {
     "name": "#%%\n"
    }
   }
  },
  {
   "cell_type": "code",
   "execution_count": 7,
   "outputs": [
    {
     "name": "stdout",
     "output_type": "stream",
     "text": [
      "One side of the armed conflicts is composed mainly of the Sudanese military and the Janjaweed, a Sudanese militia group recruited mostly from the Afro-Arab Abbala tribes of the northern Rizeigat region in Sudan.\n"
     ]
    }
   ],
   "source": [
    "print(train_src[0])\n",
    "train_src = [all_norms(i) for i in train_src]\n",
    "valid_src = [all_norms(i) for i in valid_src]\n",
    "valid_dst = [all_norms(i) for i in valid_dst]\n"
   ],
   "metadata": {
    "collapsed": false,
    "pycharm": {
     "name": "#%%\n"
    }
   }
  },
  {
   "cell_type": "code",
   "source": [
    "\n",
    "parser = CoreNLPParser(url='http://localhost:9000')\n",
    "list(parser.parse('What is the airspeed of an unladen swallow hihi hi ?'.split()))\n",
    "# list(parser.parse(valid_src[233].split()))\n"
   ],
   "metadata": {
    "collapsed": false,
    "pycharm": {
     "name": "#%%\n"
    }
   },
   "execution_count": 3,
   "outputs": [
    {
     "data": {
      "text/plain": "[Tree('ROOT', [Tree('SBARQ', [Tree('WHNP', [Tree('WP', ['What'])]), Tree('SQ', [Tree('VBZ', ['is']), Tree('NP', [Tree('NP', [Tree('DT', ['the']), Tree('NN', ['airspeed'])]), Tree('PP', [Tree('IN', ['of']), Tree('NP', [Tree('DT', ['an']), Tree('JJ', ['unladen'])])])])]), Tree('VP', [Tree('VB', ['swallow']), Tree('NP', [Tree('FW', ['hihi'])]), Tree('INTJ', [Tree('UH', ['hi'])])]), Tree('.', ['?'])])])]"
     },
     "execution_count": 3,
     "metadata": {},
     "output_type": "execute_result"
    }
   ]
  },
  {
   "cell_type": "code",
   "execution_count": 16,
   "outputs": [
    {
     "data": {
      "text/plain": "['the',\n 'state',\n 'covers',\n 'an',\n 'area',\n 'of',\n '74,122',\n 'sq',\n 'mi',\n '-LRB-',\n '191,976',\n 'km',\n '²',\n '-RRB-',\n ',',\n 'or',\n '5.83',\n '%',\n 'of',\n 'the',\n 'total',\n 'geographical',\n 'area',\n 'of',\n 'india',\n '.']"
     },
     "execution_count": 16,
     "metadata": {},
     "output_type": "execute_result"
    }
   ],
   "source": [
    "valid_src[232].split()"
   ],
   "metadata": {
    "collapsed": false,
    "pycharm": {
     "name": "#%%\n"
    }
   }
  },
  {
   "cell_type": "code",
   "execution_count": null,
   "outputs": [],
   "source": [
    "\"one side of the armed conflicts is composed mainly of the sudanese military and the janjaweed , a sudanese militia group recruited mostly from the afro - arab abbala tribes of the northern rizeigat region in sudan .\"\n",
    "\"one side of the armed disputes is produced mainly of the sudanese military and the janjaweed , a sudanese rebel group .\"\n",
    "\"one side of the armed disputes is composed mainly of the sudanese military and the janjaweed , a sudanese rebel group recruited mostly from the afro - arab abbala tribes of the northern rizeigat region in sudan .\"\n",
    "\n",
    "\"jeddah is the principal gateway to mecca , islam ` s holiest city , which able - bodied muslims are required to visit at least once in their lifetime .\"\n",
    "\"jeddah is the principal gateway to mecca , islam 's holiest city , which able-bodied muslims are required to visit at least once in their lifetime .\"\n",
    "\"jeddah is the principal gateway to mecca , islam ` s able - stout holiest city , which muslims are needed to leave at least once in their lifetime .\"\n"
   ],
   "metadata": {
    "collapsed": false,
    "pycharm": {
     "name": "#%%\n"
    }
   }
  }
 ],
 "metadata": {
  "kernelspec": {
   "name": "simpenv38",
   "language": "python",
   "display_name": "simpenv38"
  },
  "language_info": {
   "codemirror_mode": {
    "name": "ipython",
    "version": 2
   },
   "file_extension": ".py",
   "mimetype": "text/x-python",
   "name": "python",
   "nbconvert_exporter": "python",
   "pygments_lexer": "ipython2",
   "version": "2.7.6"
  }
 },
 "nbformat": 4,
 "nbformat_minor": 0
}
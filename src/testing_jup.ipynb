{
 "cells": [
  {
   "cell_type": "code",
   "execution_count": 1,
   "metadata": {
    "pycharm": {
     "name": "#%%\n"
    }
   },
   "outputs": [
    {
     "name": "stdout",
     "output_type": "stream",
     "text": [
      "{'clip': 50, 'lr': 0.001, 'num_steps': 87, 'threshold': {'ls': 0.8, 'dl': 1.25, 'las': 3.0, 'rl': 1.25, 'par': 1}, 'epochs': 100, 'set': 'test', 'lm_name': 'Wikilarge/structured_lm_forward_300_150_0_4_freq5', 'use_structural_as_standard': False, 'lm_backward': False, 'embedding_dim': 300, 'tag_dim': 150, 'dep_dim': 150, 'hidden_size': 256, 'num_layers': 2, 'freq': 0, 'min_length': 100, 'dataset': 'Wikilarge', 'ver': 'glove.6B.', 'dropout': 0.4, 'batch_size': 64, 'print_every': 100, 'MAX_LENGTH': 85, 'double_LM': False, 'gpu': 1, 'awd': False, 'file_name': 'Wikilarge/output/simplifications.txt', 'fre': True, 'SLOR': True, 'beam_size': 1, 'elmo': False, 'min_length_of_edited_sent': 6, 'lexical_simplification': False, 'constrained_paraphrasing': True, 'delete_leaves': True, 'leaves_as_sent': False, 'reorder_leaves': False, 'check_min_length': True, 'cos_similarity_threshold': 0.5, 'cos_value_for_synonym_acceptance': 0.5, 'min_idf_value_for_ls': 11, 'sentence_probability_power': 1.0, 'named_entity_score_power': 0.0, 'len_power': 0, 'fre_power': 1.0, 'operation': 'sample'}\n",
      "{'clip': 50, 'lr': 0.001, 'num_steps': 87, 'threshold': {'ls': 0.8, 'dl': 1.25, 'las': 3.0, 'rl': 1.25, 'par': 1}, 'epochs': 100, 'set': 'test', 'lm_name': 'Wikilarge/structured_lm_forward_300_150_0_4_freq5', 'use_structural_as_standard': False, 'lm_backward': False, 'embedding_dim': 300, 'tag_dim': 150, 'dep_dim': 150, 'hidden_size': 256, 'num_layers': 2, 'freq': 0, 'min_length': 100, 'dataset': 'Wikilarge', 'ver': 'glove.6B.', 'dropout': 0.4, 'batch_size': 64, 'print_every': 100, 'MAX_LENGTH': 85, 'double_LM': False, 'gpu': 1, 'awd': False, 'file_name': 'Wikilarge/output/simplifications.txt', 'fre': True, 'SLOR': True, 'beam_size': 1, 'elmo': False, 'min_length_of_edited_sent': 6, 'lexical_simplification': False, 'constrained_paraphrasing': True, 'delete_leaves': True, 'leaves_as_sent': False, 'reorder_leaves': False, 'check_min_length': True, 'cos_similarity_threshold': 0.5, 'cos_value_for_synonym_acceptance': 0.5, 'min_idf_value_for_ls': 11, 'sentence_probability_power': 1.0, 'named_entity_score_power': 0.0, 'len_power': 0, 'fre_power': 1.0, 'operation': 'sample'}\n",
      "sample\n",
      "cuda:1\n"
     ]
    }
   ],
   "source": [
    "import importlib\n",
    "import sys\n",
    "import utils\n",
    "importlib.reload(sys.modules['utils'])\n",
    "import sys, importlib\n",
    "importlib.reload(sys.modules['config'])\n",
    "from config import model_config as config\n",
    "import spacy\n",
    "from pattern.en import lexeme\n",
    "nlp = spacy.load(\"en_core_web_lg\")\n",
    "config['gpu'] = 1\n",
    "# importlib.reload(sys.modules['config'])\n",
    "config['file_name'] = 'testing_paraphrasing.txt'\n",
    "open(config['file_name'], \"w\").close()\n",
    "\n",
    "from utils import *\n",
    "print(config['operation'])\n",
    "print(device)\n"
   ]
  },
  {
   "cell_type": "code",
   "execution_count": 36,
   "metadata": {
    "pycharm": {
     "name": "#%%\n"
    }
   },
   "outputs": [
    {
     "name": "stdout",
     "output_type": "stream",
     "text": [
      "/home/m25dehgh/simplification/Edit-Unsup-TS/src\n",
      "/home/m25dehgh/anaconda3/envs/simpenv38/bin/python\n",
      "Reading lines...\n",
      "loading Wikilarge data\n",
      "Read 296402 train sentence pairs\n",
      "Read 1999 valid sentence pairs\n",
      "Read 358 test sentence pairs\n",
      "Read 237052 unique train sentence pairs\n",
      "Read 1999 unique valid sentence pairs\n",
      "Read 358 unique test sentence pairs\n",
      "Trimmed to 296402 train sentence pairs\n",
      "Trimmed to 1999 valid sentence pairs\n",
      "Trimmed to 358 test sentence pairs\n",
      "Trimmed to 237052 unique train sentence pairs\n",
      "Trimmed to 1999 unique valid sentence pairs\n",
      "Trimmed to 358 unique test sentence pairs\n",
      "Loading/Building vocabulary\n",
      "outputword2count (Vocab) file present\n",
      "Generating tf-idf file using simple sentences from the training set\n",
      "Calculating unigram probabilities\n",
      "OOV count\n",
      "1213\n",
      "Total vocabulary size:\n",
      "simple 35650\n"
     ]
    }
   ],
   "source": [
    "%cd ~/simplification/Edit-Unsup-TS/src/\n",
    "! which python\n",
    "\n",
    "from model.structural_decoder import DecoderGRU\n",
    "\n",
    "\n",
    "idf, unigram_prob, output_lang, tag_lang, dep_lang, train_simple, valid_simple, test_simple, train_complex, valid_complex, test_complex, output_embedding_weights, tag_embedding_weights, dep_embedding_weights = prepareData(config['embedding_dim'],\n",
    "config['freq'], config['ver'], config['dataset'], config['operation'])\n",
    "\n",
    "\n",
    "\n",
    "lm_forward = DecoderGRU(config['hidden_size'], output_lang.n_words, tag_lang.n_words, dep_lang.n_words, config['num_layers'],\n",
    "    output_embedding_weights, tag_embedding_weights, dep_embedding_weights, config['embedding_dim'], config['tag_dim'], config['dep_dim'], config['dropout'], config['use_structural_as_standard']).to(device)\n",
    "lm_backward = DecoderGRU(config['hidden_size'], output_lang.n_words, tag_lang.n_words, dep_lang.n_words, config['num_layers'],\n",
    "    output_embedding_weights, tag_embedding_weights, dep_embedding_weights, config['embedding_dim'], config['tag_dim'], config['dep_dim'], config['dropout'], config['use_structural_as_standard']).to(device)"
   ]
  },
  {
   "cell_type": "code",
   "execution_count": 50,
   "metadata": {
    "scrolled": false
   },
   "outputs": [
    {
     "name": "stdout",
     "output_type": "stream",
     "text": [
      "{'clip': 50, 'lr': 0.001, 'num_steps': 87, 'threshold': {'ls': 0.8, 'dl': 1.25, 'las': 3.0, 'rl': 1.25, 'par': 1}, 'epochs': 100, 'set': 'test', 'lm_name': 'Wikilarge/structured_lm_forward_300_150_0_4_freq5', 'use_structural_as_standard': False, 'lm_backward': False, 'embedding_dim': 300, 'tag_dim': 150, 'dep_dim': 150, 'hidden_size': 256, 'num_layers': 2, 'freq': 0, 'min_length': 100, 'dataset': 'Wikilarge', 'ver': 'glove.6B.', 'dropout': 0.4, 'batch_size': 64, 'print_every': 100, 'MAX_LENGTH': 85, 'double_LM': False, 'gpu': 1, 'awd': False, 'file_name': 'Wikilarge/output/simplifications.txt', 'fre': True, 'SLOR': True, 'beam_size': 1, 'elmo': False, 'min_length_of_edited_sent': 6, 'lexical_simplification': False, 'constrained_paraphrasing': True, 'delete_leaves': True, 'leaves_as_sent': False, 'reorder_leaves': False, 'check_min_length': True, 'cos_similarity_threshold': 0.5, 'cos_value_for_synonym_acceptance': 0.5, 'min_idf_value_for_ls': 11, 'sentence_probability_power': 1.0, 'named_entity_score_power': 1.0, 'len_power': 0, 'fre_power': 1.0, 'operation': 'sample'}\n"
     ]
    }
   ],
   "source": [
    "importlib.reload(sys.modules['config'])\n",
    "import utils\n",
    "importlib.reload(sys.modules['utils'])\n",
    "from utils import *"
   ]
  },
  {
   "cell_type": "code",
   "execution_count": 51,
   "metadata": {
    "scrolled": true
   },
   "outputs": [
    {
     "name": "stdout",
     "output_type": "stream",
     "text": [
      "{'ls': 0, 'dl': 0, 'las': 0, 'rl': 0, 'par': 0}\n",
      "similarity of the two sentences:  tensor(1.0000, device='cuda:0')\n",
      "candidate sentence and original sentence grammar validity probability, respectively:  0.9473620057106018 0.9473620057106018\n",
      "Getting candidates for iteration:  0\n",
      "neg constraints:  headline headlines headlining headlined headline headliner stern sterns sterning sterned Stern sternly sterned sternness cut cuts cutting cut cutted cuttingly , ,s ,ing ,ed\n",
      "entities are:  ['late', '2004', 'suleman', 'four', 'four', '2004', 'late', '2004', 'four']\n",
      "input:  in late 2004 , suleman made headlines by cutting howard stern ` s radio show from four citadel stations , citing stern ` s frequent discussions regarding his upcoming move to sirius satellite radio .suleman cut howard stern ` s radio show from four citadel stations in 2004 . he said it was because of stern ` s discussions regarding his move to sirius satellite radio . in late 2004 , suleman made headlines by cutting from four citadel stations , citing stern ..\theadline|headlines|headlining|headlined|headline|headliner|stern|sterns|sterning|sterned|Stern|sternly|sterned|sternness|cut|cuts|cutting|cut|cutted|cuttingly|,|,s|,ing|,ed\t\n",
      "new:  At the end of 2004 the suleman made headliners by chopping Howard aft `s radio show from four citadel stations citing aft` s frequent discussions about his upcoming move to sirius satellite. Made headliners from four citadel stations citing aft...\n",
      "\n",
      "similarity of the two sentences:  tensor(0.9442, device='cuda:0')\n",
      "candidate sentence and original sentence grammar validity probability, respectively:  0.8395180702209473 0.9473620057106018\n",
      "Candidate: in late 2004 , suleman made headlines by cutting howard ` s radio show from four citadel stations , citing ` s frequent discussions regarding his upcoming move to sirius satellite radio .suleman cut howard ` s radio show from four citadel stations in 2004 . he said it was because of ` s discussions regarding his move to sirius satellite radio . in late 2004 , suleman made headlines by cutting from four citadel stations , citing .\n",
      "Old Prob: 0.0, New Sent Prob: 0.0 \n",
      "\n",
      "similarity of the two sentences:  tensor(0.9961, device='cuda:0')\n",
      "candidate sentence and original sentence grammar validity probability, respectively:  0.5065059661865234 0.9473620057106018\n",
      "Candidate: in late 2004 , suleman made headlines by cutting howard stern ` s radio show from four citadel stations , ` s frequent discussions regarding his upcoming move to sirius satellite radio .suleman cut howard stern ` s radio show from four citadel stations in 2004 . he said it was because of stern ` s discussions regarding his move to sirius satellite radio . in late 2004 , suleman made headlines by cutting from four citadel stations .\n",
      "Old Prob: 0.0, New Sent Prob: 0 \n",
      "\n",
      "similarity of the two sentences:  tensor(0.9541, device='cuda:0')\n",
      "candidate sentence and original sentence grammar validity probability, respectively:  0.9328739643096924 0.9473620057106018\n",
      "Candidate: in late 2004 , suleman made headlines by cutting howard stern ` s radio show from , citing stern ` s frequent discussions regarding his upcoming move to sirius satellite radio .suleman cut howard stern ` s radio show from in 2004 . he said it was because of stern ` s discussions regarding his move to sirius satellite radio . in late 2004 , suleman made headlines by cutting from , citing stern .\n",
      "Old Prob: 0.0, New Sent Prob: 6460.6085555133 \n",
      "\n",
      "similarity of the two sentences:  tensor(0.9522, device='cuda:0')\n",
      "candidate sentence and original sentence grammar validity probability, respectively:  0.7348892688751221 0.9473620057106018\n",
      "Candidate: in late 2004 , suleman made headlines by cutting howard stern ` s radio show , citing stern ` s frequent discussions regarding his upcoming move to sirius satellite radio .suleman cut howard stern ` s radio show in 2004 . he said it was because of stern ` s discussions regarding his move to sirius satellite radio . in late 2004 , suleman made headlines by cutting , citing stern .\n",
      "Old Prob: 0.0, New Sent Prob: 8396.505923272829 \n",
      "\n",
      "similarity of the two sentences:  tensor(0.9965, device='cuda:0')\n",
      "candidate sentence and original sentence grammar validity probability, respectively:  0.8901798725128174 0.9473620057106018\n",
      "Candidate: in late 2004 , suleman made headlines by cutting howard stern ` s radio show from four citadel stations , citing stern ` s frequent discussions regarding his upcoming move to sirius satellite radio .suleman cut howard stern ` s radio show from four citadel stations in 2004 . he said it was because of stern ` s discussions regarding his move to sirius satellite radio . in late 2004 , suleman made headlines by , citing stern .\n",
      "Old Prob: 0.0, New Sent Prob: 2872.979134131302 \n",
      "\n",
      "similarity of the two sentences:  tensor(0.9948, device='cuda:0')\n",
      "candidate sentence and original sentence grammar validity probability, respectively:  0.9459638595581055 0.9473620057106018\n",
      "Candidate: in late 2004 , suleman made headlines by cutting howard stern ` s radio show from four citadel stations , citing stern ` s frequent discussions regarding his upcoming move to sirius satellite radio .suleman cut howard stern ` s radio show from four citadel stations in 2004 . he said it was because of stern ` s discussions regarding his move to sirius satellite radio . in late 2004 , suleman made headlines by .\n",
      "Old Prob: 0.0, New Sent Prob: 4661.034140588262 \n",
      "\n",
      "similarity of the two sentences:  tensor(0.9948, device='cuda:0')\n",
      "candidate sentence and original sentence grammar validity probability, respectively:  0.9459638595581055 0.9473620057106018\n",
      "Candidate: in late 2004 , suleman made headlines by cutting howard stern ` s radio show from four citadel stations , citing stern ` s frequent discussions regarding his upcoming move to sirius satellite radio .suleman cut howard stern ` s radio show from four citadel stations in 2004 . he said it was because of stern ` s discussions regarding his move to sirius satellite radio . in late 2004 , suleman made headlines by .\n",
      "Old Prob: 0.0, New Sent Prob: 4661.034140588262 \n",
      "\n",
      "similarity of the two sentences:  tensor(0.9954, device='cuda:0')\n",
      "candidate sentence and original sentence grammar validity probability, respectively:  0.9821632504463196 0.9473620057106018\n",
      "Candidate: in late 2004 , suleman made headlines by cutting howard stern ` s radio show from four citadel stations , citing stern ` s frequent discussions regarding his upcoming move to sirius satellite radio .suleman cut howard stern ` s radio show from four citadel stations in 2004 . he said it was because of stern ` s discussions regarding his move to sirius satellite radio . in late 2004 , suleman made headlines .\n",
      "Old Prob: 0.0, New Sent Prob: 5290.838673134756 \n",
      "\n",
      "similarity of the two sentences:  tensor(0.9682, device='cuda:0')\n",
      "candidate sentence and original sentence grammar validity probability, respectively:  0.9176462292671204 0.9473620057106018\n",
      "Candidate: in late 2004 , suleman made by cutting howard stern ` s radio show from four citadel stations , citing stern ` s frequent discussions regarding his upcoming move to sirius satellite radio .suleman cut howard stern ` s radio show from four citadel stations in 2004 . he said it was because of stern ` s discussions regarding his move to sirius satellite radio . in late 2004 , suleman made by cutting from four citadel stations , citing stern .\n",
      "Old Prob: 0.0, New Sent Prob: 1986.4973566248937 \n",
      "\n",
      "similarity of the two sentences:  tensor(0.9946, device='cuda:0')\n",
      "candidate sentence and original sentence grammar validity probability, respectively:  0.9373963475227356 0.9473620057106018\n",
      "Candidate: in late 2004 , suleman made headlines by cutting howard stern ` s radio show from four citadel stations , citing stern ` s frequent discussions regarding his upcoming move to sirius satellite radio .suleman cut howard stern ` s radio show from four citadel stations in 2004 . he said it was because of stern ` s discussions regarding his move to sirius satellite radio . in late 2004 , suleman .\n",
      "Old Prob: 0.0, New Sent Prob: 8632.978077371512 \n",
      "\n",
      "similarity of the two sentences:  tensor(0.9587, device='cuda:0')\n",
      "candidate sentence and original sentence grammar validity probability, respectively:  0.9275571703910828 0.9473620057106018\n",
      "Candidate: in late 2004 , made headlines by cutting howard stern ` s radio show from four citadel stations , citing stern ` s frequent discussions regarding his upcoming move to sirius satellite radio .suleman cut howard stern ` s radio show from four citadel stations in 2004 . he said it was because of stern ` s discussions regarding his move to sirius satellite radio . in late 2004 , made headlines by cutting from four citadel stations , citing stern .\n",
      "Old Prob: 0.0, New Sent Prob: 1656.584383014138 \n",
      "\n"
     ]
    },
    {
     "name": "stdout",
     "output_type": "stream",
     "text": [
      "similarity of the two sentences:  tensor(0.9922, device='cuda:0')\n",
      "candidate sentence and original sentence grammar validity probability, respectively:  0.8684730529785156 0.9473620057106018\n",
      "Candidate: in , suleman made headlines by cutting howard stern ` s radio show from four citadel stations , citing stern ` s frequent discussions regarding his upcoming move to sirius satellite radio .suleman cut howard stern ` s radio show from four citadel stations in 2004 . he said it was because of stern ` s discussions regarding his move to sirius satellite radio . in , suleman made headlines by cutting from four citadel stations , citing stern .\n",
      "Old Prob: 0.0, New Sent Prob: 0.0 \n",
      "\n",
      "similarity of the two sentences:  tensor(0.9994, device='cuda:0')\n",
      "candidate sentence and original sentence grammar validity probability, respectively:  0.918253481388092 0.9473620057106018\n",
      "Candidate: in late 2004 , suleman made headlines by cutting howard stern ` s radio show from four citadel stations , citing stern ` s frequent discussions regarding his upcoming move to sirius satellite radio .suleman cut howard stern ` s radio show from four citadel stations in 2004 . he said it was because of stern ` s discussions regarding his move to sirius satellite radio . , suleman made headlines by cutting from four citadel stations , citing stern .\n",
      "Old Prob: 0.0, New Sent Prob: 0.0 \n",
      "\n",
      "similarity of the two sentences:  tensor(0.9915, device='cuda:0')\n",
      "candidate sentence and original sentence grammar validity probability, respectively:  0.9826986789703369 0.9473620057106018\n",
      "Candidate: in late 2004 , suleman made headlines by cutting howard stern ` s radio show from four citadel stations , citing stern ` s frequent discussions regarding his upcoming move to sirius satellite radio .suleman cut howard stern ` s radio show from four citadel stations in 2004 . he said it was because of stern ` s discussions regarding his move to sirius satellite radio . .\n",
      "Old Prob: 0.0, New Sent Prob: 8379.286907385445 \n",
      "\n",
      "similarity of the two sentences:  tensor(0.9875, device='cuda:0')\n",
      "candidate sentence and original sentence grammar validity probability, respectively:  0.8800998330116272 0.9473620057106018\n",
      "Candidate: in late 2004 , suleman made headlines by cutting howard stern ` s radio show from four citadel stations , citing stern ` s frequent discussions regarding his upcoming move to .suleman cut howard stern ` s radio show from four citadel stations in 2004 . he said it was because of stern ` s discussions regarding his move to . in late 2004 , suleman made headlines by cutting from four citadel stations , citing stern .\n",
      "Old Prob: 0.0, New Sent Prob: 11916.180972377224 \n",
      "\n",
      "similarity of the two sentences:  tensor(0.9874, device='cuda:0')\n",
      "candidate sentence and original sentence grammar validity probability, respectively:  0.9441817998886108 0.9473620057106018\n",
      "Candidate: in late 2004 , suleman made headlines by cutting howard stern ` s radio show from four citadel stations , citing stern ` s frequent discussions regarding his upcoming move .suleman cut howard stern ` s radio show from four citadel stations in 2004 . he said it was because of stern ` s discussions regarding his move . in late 2004 , suleman made headlines by cutting from four citadel stations , citing stern .\n",
      "Old Prob: 0.0, New Sent Prob: 12516.822373048679 \n",
      "\n",
      "similarity of the two sentences:  tensor(0.9996, device='cuda:0')\n",
      "candidate sentence and original sentence grammar validity probability, respectively:  0.18783853948116302 0.9473620057106018\n",
      "Candidate: in late 2004 , suleman made headlines by cutting howard stern ` s radio show from four citadel stations , citing stern ` s frequent discussions regarding his upcoming move to sirius satellite radio .suleman cut howard stern ` s radio show from four citadel stations in 2004 . he said it was because of stern ` s discussions regarding to sirius satellite radio . in late 2004 , suleman made headlines by cutting from four citadel stations , citing stern .\n",
      "Old Prob: 0.0, New Sent Prob: 0 \n",
      "\n",
      "similarity of the two sentences:  tensor(0.9979, device='cuda:0')\n",
      "candidate sentence and original sentence grammar validity probability, respectively:  0.1575324684381485 0.9473620057106018\n",
      "Candidate: in late 2004 , suleman made headlines by cutting howard stern ` s radio show from four citadel stations , citing stern ` s frequent discussions regarding his upcoming move to sirius satellite radio .suleman cut howard stern ` s radio show from four citadel stations in 2004 . he said it was because of stern ` s discussions regarding . in late 2004 , suleman made headlines by cutting from four citadel stations , citing stern .\n",
      "Old Prob: 0.0, New Sent Prob: 0 \n",
      "\n",
      "similarity of the two sentences:  tensor(0.9974, device='cuda:0')\n",
      "candidate sentence and original sentence grammar validity probability, respectively:  0.9139043092727661 0.9473620057106018\n",
      "Candidate: in late 2004 , suleman made headlines by cutting howard stern ` s radio show from four citadel stations , citing stern ` s frequent discussions regarding his upcoming move to sirius satellite radio .suleman cut howard stern ` s radio show from four citadel stations in 2004 . he said it was because of stern ` s discussions . in late 2004 , suleman made headlines by cutting from four citadel stations , citing stern .\n",
      "Old Prob: 0.0, New Sent Prob: 8639.780621129325 \n",
      "\n",
      "similarity of the two sentences:  tensor(0.9988, device='cuda:0')\n",
      "candidate sentence and original sentence grammar validity probability, respectively:  0.22519038617610931 0.9473620057106018\n",
      "Candidate: in late 2004 , suleman made headlines by cutting howard stern ` s radio show from four citadel stations , citing stern ` s frequent regarding his upcoming move to sirius satellite radio .suleman cut howard stern ` s radio show from four citadel stations in 2004 . he said it was because of stern ` s regarding his move to sirius satellite radio . in late 2004 , suleman made headlines by cutting from four citadel stations , citing stern .\n",
      "Old Prob: 0.0, New Sent Prob: 0 \n",
      "\n",
      "similarity of the two sentences:  tensor(0.9965, device='cuda:0')\n",
      "candidate sentence and original sentence grammar validity probability, respectively:  0.6971121430397034 0.9473620057106018\n",
      "Candidate: in late 2004 , suleman made headlines by cutting howard stern ` s radio show from four citadel stations , citing stern ` s frequent discussions regarding his upcoming move to sirius satellite radio .suleman cut howard stern ` s radio show from four citadel stations in 2004 . he said it was because of stern ` s . in late 2004 , suleman made headlines by cutting from four citadel stations , citing stern .\n",
      "Old Prob: 0.0, New Sent Prob: 11568.546572535222 \n",
      "\n",
      "similarity of the two sentences:  tensor(0.9965, device='cuda:0')\n",
      "candidate sentence and original sentence grammar validity probability, respectively:  0.6971121430397034 0.9473620057106018\n",
      "Candidate: in late 2004 , suleman made headlines by cutting howard stern ` s radio show from four citadel stations , citing stern ` s frequent discussions regarding his upcoming move to sirius satellite radio .suleman cut howard stern ` s radio show from four citadel stations in 2004 . he said it was because of stern ` s . in late 2004 , suleman made headlines by cutting from four citadel stations , citing stern .\n",
      "Old Prob: 0.0, New Sent Prob: 11568.546572535222 \n",
      "\n",
      "similarity of the two sentences:  tensor(0.9981, device='cuda:0')\n",
      "candidate sentence and original sentence grammar validity probability, respectively:  0.8592548966407776 0.9473620057106018\n",
      "Candidate: in late 2004 , suleman made headlines by cutting howard stern ` radio show from four citadel stations , citing stern ` frequent discussions regarding his upcoming move to sirius satellite radio .suleman cut howard stern ` radio show from four citadel stations in 2004 . he said it was because of stern ` discussions regarding his move to sirius satellite radio . in late 2004 , suleman made headlines by cutting from four citadel stations , citing stern .\n",
      "Old Prob: 0.0, New Sent Prob: 0.0 \n",
      "\n",
      "similarity of the two sentences:  tensor(0.9981, device='cuda:0')\n",
      "candidate sentence and original sentence grammar validity probability, respectively:  0.8592548966407776 0.9473620057106018\n",
      "Candidate: in late 2004 , suleman made headlines by cutting howard stern ` radio show from four citadel stations , citing stern ` frequent discussions regarding his upcoming move to sirius satellite radio .suleman cut howard stern ` radio show from four citadel stations in 2004 . he said it was because of stern ` discussions regarding his move to sirius satellite radio . in late 2004 , suleman made headlines by cutting from four citadel stations , citing stern .\n",
      "Old Prob: 0.0, New Sent Prob: 0.0 \n",
      "\n"
     ]
    },
    {
     "name": "stdout",
     "output_type": "stream",
     "text": [
      "similarity of the two sentences:  tensor(0.9442, device='cuda:0')\n",
      "candidate sentence and original sentence grammar validity probability, respectively:  0.8395180702209473 0.9473620057106018\n",
      "Candidate: in late 2004 , suleman made headlines by cutting howard ` s radio show from four citadel stations , citing ` s frequent discussions regarding his upcoming move to sirius satellite radio .suleman cut howard ` s radio show from four citadel stations in 2004 . he said it was because of ` s discussions regarding his move to sirius satellite radio . in late 2004 , suleman made headlines by cutting from four citadel stations , citing .\n",
      "Old Prob: 0.0, New Sent Prob: 0.0 \n",
      "\n",
      "similarity of the two sentences:  tensor(0.9643, device='cuda:0')\n",
      "candidate sentence and original sentence grammar validity probability, respectively:  0.2538120746612549 0.9473620057106018\n",
      "Candidate: in late 2004 , suleman made headlines by cutting howard s radio show from four citadel stations , citing s frequent discussions regarding his upcoming move to sirius satellite radio .suleman cut howard s radio show from four citadel stations in 2004 . he said it was because of s discussions regarding his move to sirius satellite radio . in late 2004 , suleman made headlines by cutting from four citadel stations , citing stern .\n",
      "Old Prob: 0.0, New Sent Prob: 0 \n",
      "\n",
      "similarity of the two sentences:  tensor(0.9998, device='cuda:0')\n",
      "candidate sentence and original sentence grammar validity probability, respectively:  0.9071909785270691 0.9473620057106018\n",
      "Candidate: in late 2004 , suleman made headlines by cutting howard stern ` s radio show from four citadel stations , citing stern ` s frequent discussions regarding his upcoming move to sirius satellite radio .suleman cut howard stern ` s radio show from four citadel stations in 2004 . he said it was because stern ` s discussions regarding his move to sirius satellite radio . in late 2004 , suleman made headlines by cutting from four citadel stations , citing stern .\n",
      "Old Prob: 0.0, New Sent Prob: 0.0 \n",
      "\n",
      "similarity of the two sentences:  tensor(0.9990, device='cuda:0')\n",
      "candidate sentence and original sentence grammar validity probability, respectively:  0.8501272797584534 0.9473620057106018\n",
      "Candidate: in late 2004 , suleman made headlines by cutting howard stern ` s radio show from four citadel stations , citing stern ` s frequent discussions regarding his upcoming move to sirius satellite radio .suleman cut howard stern ` s radio show from four citadel stations in 2004 . he said it was because s discussions regarding his move to sirius satellite radio . in late 2004 , suleman made headlines by cutting from four citadel stations , citing stern .\n",
      "Old Prob: 0.0, New Sent Prob: 0.0 \n",
      "\n",
      "similarity of the two sentences:  tensor(0.9997, device='cuda:0')\n",
      "candidate sentence and original sentence grammar validity probability, respectively:  0.48218104243278503 0.9473620057106018\n",
      "Candidate: in late 2004 , suleman made headlines by cutting howard stern ` s radio show from four citadel stations , citing stern ` s frequent discussions regarding his upcoming move to sirius satellite radio .suleman cut howard stern ` s radio show from four citadel stations in 2004 . he said it was of stern ` s discussions regarding his move to sirius satellite radio . in late 2004 , suleman made headlines by cutting from four citadel stations , citing stern .\n",
      "Old Prob: 0.0, New Sent Prob: 0 \n",
      "\n",
      "similarity of the two sentences:  tensor(0.9991, device='cuda:0')\n",
      "candidate sentence and original sentence grammar validity probability, respectively:  0.3275494873523712 0.9473620057106018\n",
      "Candidate: in late 2004 , suleman made headlines by cutting howard stern ` s radio show from four citadel stations , citing stern ` s frequent discussions regarding his upcoming move to sirius satellite radio .suleman cut howard stern ` s radio show from four citadel stations in 2004 . he said it of stern ` s discussions regarding his move to sirius satellite radio . in late 2004 , suleman made headlines by cutting from four citadel stations , citing stern .\n",
      "Old Prob: 0.0, New Sent Prob: 0 \n",
      "\n",
      "similarity of the two sentences:  tensor(0.9952, device='cuda:0')\n",
      "candidate sentence and original sentence grammar validity probability, respectively:  0.5607849955558777 0.9473620057106018\n",
      "Candidate: in late 2004 , suleman made headlines by cutting howard stern ` s radio show from four citadel stations , citing stern ` s frequent discussions regarding his upcoming move to sirius satellite radio .suleman cut howard stern ` s radio show from four citadel stations in 2004 . he said it s discussions regarding his move to sirius satellite radio . in late 2004 , suleman made headlines by cutting from four citadel stations , citing stern .\n",
      "Old Prob: 0.0, New Sent Prob: 0 \n",
      "\n",
      "similarity of the two sentences:  tensor(0.9999, device='cuda:0')\n",
      "candidate sentence and original sentence grammar validity probability, respectively:  0.7969457507133484 0.9473620057106018\n",
      "Candidate: in late 2004 , suleman made headlines by cutting howard stern ` s radio show from four citadel stations , citing stern ` s frequent discussions regarding his upcoming move to sirius satellite radio .suleman cut howard stern ` s radio show from four citadel stations in 2004 . he said was because of stern ` s discussions regarding his move to sirius satellite radio . in late 2004 , suleman made headlines by cutting from four citadel stations , citing stern .\n",
      "Old Prob: 0.0, New Sent Prob: 0.0 \n",
      "\n",
      "similarity of the two sentences:  tensor(0.9958, device='cuda:0')\n",
      "candidate sentence and original sentence grammar validity probability, respectively:  0.36123648285865784 0.9473620057106018\n",
      "Candidate: in late 2004 , suleman made headlines by cutting howard stern ` s radio show from four citadel stations , citing stern ` s frequent discussions regarding his upcoming move to sirius satellite radio .suleman cut howard stern ` s radio show from four citadel stations in 2004 . he said s discussions regarding his move to sirius satellite radio . in late 2004 , suleman made headlines by cutting from four citadel stations , citing stern .\n",
      "Old Prob: 0.0, New Sent Prob: 0 \n",
      "\n",
      "similarity of the two sentences:  tensor(0.9958, device='cuda:0')\n",
      "candidate sentence and original sentence grammar validity probability, respectively:  0.36123648285865784 0.9473620057106018\n",
      "Candidate: in late 2004 , suleman made headlines by cutting howard stern ` s radio show from four citadel stations , citing stern ` s frequent discussions regarding his upcoming move to sirius satellite radio .suleman cut howard stern ` s radio show from four citadel stations in 2004 . he said s discussions regarding his move to sirius satellite radio . in late 2004 , suleman made headlines by cutting from four citadel stations , citing stern .\n",
      "Old Prob: 0.0, New Sent Prob: 0 \n",
      "\n",
      "similarity of the two sentences:  tensor(0.9947, device='cuda:0')\n",
      "candidate sentence and original sentence grammar validity probability, respectively:  0.6087250709533691 0.9473620057106018\n",
      "Candidate: in late 2004 , suleman made headlines by cutting howard stern ` s radio show from four citadel stations , citing stern ` s frequent discussions regarding his upcoming move to sirius satellite radio .suleman cut howard stern ` s radio show from four citadel stations in 2004 . he s discussions regarding his move to sirius satellite radio . in late 2004 , suleman made headlines by cutting from four citadel stations , citing stern .\n",
      "Old Prob: 0.0, New Sent Prob: 0 \n",
      "\n",
      "similarity of the two sentences:  tensor(0.9995, device='cuda:0')\n",
      "candidate sentence and original sentence grammar validity probability, respectively:  0.9271143674850464 0.9473620057106018\n",
      "Candidate: in late 2004 , suleman made headlines by cutting howard stern ` s radio show from four citadel stations , citing stern ` s frequent discussions regarding his upcoming move to sirius satellite radio .suleman cut howard stern ` s radio show from four citadel stations in 2004 . said it was because of stern ` s discussions regarding his move to sirius satellite radio . in late 2004 , suleman made headlines by cutting from four citadel stations , citing stern .\n",
      "Old Prob: 0.0, New Sent Prob: 0.0 \n",
      "\n"
     ]
    },
    {
     "name": "stdout",
     "output_type": "stream",
     "text": [
      "similarity of the two sentences:  tensor(0.9968, device='cuda:0')\n",
      "candidate sentence and original sentence grammar validity probability, respectively:  0.70522540807724 0.9473620057106018\n",
      "Candidate: in late 2004 , suleman made headlines by cutting howard stern ` s radio show from four citadel stations , citing stern ` s frequent discussions regarding his upcoming move to sirius satellite radio .suleman cut howard stern ` s radio show from four citadel stations in 2004 . s discussions regarding his move to sirius satellite radio . in late 2004 , suleman made headlines by cutting from four citadel stations , citing stern .\n",
      "Old Prob: 0.0, New Sent Prob: 0.0 \n",
      "\n",
      "similarity of the two sentences:  tensor(0.9861, device='cuda:0')\n",
      "candidate sentence and original sentence grammar validity probability, respectively:  0.27667996287345886 0.9473620057106018\n",
      "Candidate: in late , suleman made headlines by cutting howard stern ` s radio show from four citadel stations , citing stern ` s frequent discussions regarding his upcoming move to sirius satellite radio .suleman cut howard stern ` s radio show from four citadel stations in . he said it was because of stern ` s discussions regarding his move to sirius satellite radio . in late , suleman made headlines by cutting from four citadel stations , citing stern .\n",
      "Old Prob: 0.0, New Sent Prob: 0 \n",
      "\n",
      "similarity of the two sentences:  tensor(0.9995, device='cuda:0')\n",
      "candidate sentence and original sentence grammar validity probability, respectively:  0.9476935267448425 0.9473620057106018\n",
      "Candidate: in late 2004 , suleman made headlines by cutting howard stern ` s radio show from four citadel stations , citing stern ` s frequent discussions regarding his upcoming move to sirius satellite radio .suleman cut howard stern ` s radio show from four citadel stations . he said it was because of stern ` s discussions regarding his move to sirius satellite radio . in late 2004 , suleman made headlines by cutting from four citadel stations , citing stern .\n",
      "Old Prob: 0.0, New Sent Prob: 0.0 \n",
      "\n",
      "similarity of the two sentences:  tensor(0.9541, device='cuda:0')\n",
      "candidate sentence and original sentence grammar validity probability, respectively:  0.9328739643096924 0.9473620057106018\n",
      "Candidate: in late 2004 , suleman made headlines by cutting howard stern ` s radio show from , citing stern ` s frequent discussions regarding his upcoming move to sirius satellite radio .suleman cut howard stern ` s radio show from in 2004 . he said it was because of stern ` s discussions regarding his move to sirius satellite radio . in late 2004 , suleman made headlines by cutting from , citing stern .\n",
      "Old Prob: 0.0, New Sent Prob: 6460.6085555133 \n",
      "\n",
      "similarity of the two sentences:  tensor(0.9982, device='cuda:0')\n",
      "candidate sentence and original sentence grammar validity probability, respectively:  0.8651190400123596 0.9473620057106018\n",
      "Candidate: in late 2004 , suleman made headlines by cutting howard stern ` s radio show from four citadel stations , citing stern ` s frequent discussions regarding his upcoming move to sirius satellite radio .suleman cut howard stern ` s radio show from . he said it was because of stern ` s discussions regarding his move to sirius satellite radio . in late 2004 , suleman made headlines by cutting from four citadel stations , citing stern .\n",
      "Old Prob: 0.0, New Sent Prob: 536.4203903385117 \n",
      "\n",
      "similarity of the two sentences:  tensor(0.9971, device='cuda:0')\n",
      "candidate sentence and original sentence grammar validity probability, respectively:  0.9332622289657593 0.9473620057106018\n",
      "Candidate: in late 2004 , suleman made headlines by cutting howard stern ` s radio show from four citadel stations , citing stern ` s frequent discussions regarding his upcoming move to sirius satellite radio .suleman cut howard stern ` s radio show . he said it was because of stern ` s discussions regarding his move to sirius satellite radio . in late 2004 , suleman made headlines by cutting from four citadel stations , citing stern .\n",
      "Old Prob: 0.0, New Sent Prob: 781.8780967000916 \n",
      "\n",
      "similarity of the two sentences:  tensor(0.9925, device='cuda:0')\n",
      "candidate sentence and original sentence grammar validity probability, respectively:  0.9228111505508423 0.9473620057106018\n",
      "Candidate: in late 2004 , suleman made headlines by cutting howard stern ` s from four citadel stations , citing stern ` s frequent discussions regarding his upcoming move to sirius satellite radio .suleman cut howard stern ` s from four citadel stations in 2004 . he said it was because of stern ` s discussions regarding his move to sirius satellite radio . in late 2004 , suleman made headlines by cutting from four citadel stations , citing stern .\n",
      "Old Prob: 0.0, New Sent Prob: 2615.8829877837034 \n",
      "\n",
      "similarity of the two sentences:  tensor(0.9961, device='cuda:0')\n",
      "candidate sentence and original sentence grammar validity probability, respectively:  0.8144635558128357 0.9473620057106018\n",
      "Candidate: in late 2004 , suleman made headlines by cutting howard stern ` s radio show from four citadel stations , citing stern ` s frequent discussions regarding his upcoming move to sirius satellite radio .suleman cut howard stern ` s . he said it was because of stern ` s discussions regarding his move to sirius satellite radio . in late 2004 , suleman made headlines by cutting from four citadel stations , citing stern .\n",
      "Old Prob: 0.0, New Sent Prob: 2967.65738804239 \n",
      "\n",
      "similarity of the two sentences:  tensor(0.9981, device='cuda:0')\n",
      "candidate sentence and original sentence grammar validity probability, respectively:  0.8592548966407776 0.9473620057106018\n",
      "Candidate: in late 2004 , suleman made headlines by cutting howard stern ` radio show from four citadel stations , citing stern ` frequent discussions regarding his upcoming move to sirius satellite radio .suleman cut howard stern ` radio show from four citadel stations in 2004 . he said it was because of stern ` discussions regarding his move to sirius satellite radio . in late 2004 , suleman made headlines by cutting from four citadel stations , citing stern .\n",
      "Old Prob: 0.0, New Sent Prob: 0.0 \n",
      "\n",
      "similarity of the two sentences:  tensor(0.9981, device='cuda:0')\n",
      "candidate sentence and original sentence grammar validity probability, respectively:  0.8592548966407776 0.9473620057106018\n",
      "Candidate: in late 2004 , suleman made headlines by cutting howard stern ` radio show from four citadel stations , citing stern ` frequent discussions regarding his upcoming move to sirius satellite radio .suleman cut howard stern ` radio show from four citadel stations in 2004 . he said it was because of stern ` discussions regarding his move to sirius satellite radio . in late 2004 , suleman made headlines by cutting from four citadel stations , citing stern .\n",
      "Old Prob: 0.0, New Sent Prob: 0.0 \n",
      "\n",
      "similarity of the two sentences:  tensor(0.9871, device='cuda:0')\n",
      "candidate sentence and original sentence grammar validity probability, respectively:  0.9491246938705444 0.9473620057106018\n",
      "Candidate: in late 2004 , suleman made headlines by cutting ` s radio show from four citadel stations , citing stern ` s frequent discussions regarding his upcoming move to sirius satellite radio .suleman cut ` s radio show from four citadel stations in 2004 . he said it was because of stern ` s discussions regarding his move to sirius satellite radio . in late 2004 , suleman made headlines by cutting from four citadel stations , citing stern .\n",
      "Old Prob: 0.0, New Sent Prob: 467.9776565519055 \n",
      "\n",
      "similarity of the two sentences:  tensor(0.9967, device='cuda:0')\n",
      "candidate sentence and original sentence grammar validity probability, respectively:  0.25217050313949585 0.9473620057106018\n",
      "Candidate: in late 2004 , suleman made headlines by cutting howard stern ` s radio show from four citadel stations , citing stern ` s frequent discussions regarding his upcoming move to sirius satellite radio .suleman radio show from four citadel stations in 2004 . he said it was because of stern ` s discussions regarding his move to sirius satellite radio . in late 2004 , suleman made headlines by cutting from four citadel stations , citing stern .\n",
      "Old Prob: 0.0, New Sent Prob: 0 \n",
      "\n",
      "similarity of the two sentences:  tensor(0.9587, device='cuda:0')\n",
      "candidate sentence and original sentence grammar validity probability, respectively:  0.9275571703910828 0.9473620057106018\n",
      "Candidate: in late 2004 , made headlines by cutting howard stern ` s radio show from four citadel stations , citing stern ` s frequent discussions regarding his upcoming move to sirius satellite radio .suleman cut howard stern ` s radio show from four citadel stations in 2004 . he said it was because of stern ` s discussions regarding his move to sirius satellite radio . in late 2004 , made headlines by cutting from four citadel stations , citing stern .\n",
      "Old Prob: 0.0, New Sent Prob: 1656.584383014138 \n",
      "\n"
     ]
    },
    {
     "name": "stdout",
     "output_type": "stream",
     "text": [
      "similarity of the two sentences:  tensor(0.9949, device='cuda:0')\n",
      "candidate sentence and original sentence grammar validity probability, respectively:  0.3042791187763214 0.9473620057106018\n",
      "Candidate: in late 2004 , suleman made headlines by cutting howard stern ` s radio show from four citadel stations , citing stern ` s frequent discussions regarding his upcoming move to sirius satellite radio . radio show from four citadel stations in 2004 . he said it was because of stern ` s discussions regarding his move to sirius satellite radio . in late 2004 , suleman made headlines by cutting from four citadel stations , citing stern .\n",
      "Old Prob: 0.0, New Sent Prob: 0 \n",
      "\n",
      "similarity of the two sentences:  tensor(0.9959, device='cuda:0')\n",
      "candidate sentence and original sentence grammar validity probability, respectively:  0.9447550773620605 0.9473620057106018\n",
      "Candidate: in late 2004 , suleman made headlines by cutting howard stern ` s radio show from four citadel stations , citing stern ` s frequent discussions regarding his upcoming move to sirius .suleman cut howard stern ` s radio show from four citadel stations in 2004 . he said it was because of stern ` s discussions regarding his move to sirius . in late 2004 , suleman made headlines by cutting from four citadel stations , citing stern .\n",
      "Old Prob: 0.0, New Sent Prob: 7281.882186658768 \n",
      "\n",
      "similarity of the two sentences:  tensor(0.9875, device='cuda:0')\n",
      "candidate sentence and original sentence grammar validity probability, respectively:  0.8800998330116272 0.9473620057106018\n",
      "Candidate: in late 2004 , suleman made headlines by cutting howard stern ` s radio show from four citadel stations , citing stern ` s frequent discussions regarding his upcoming move to .suleman cut howard stern ` s radio show from four citadel stations in 2004 . he said it was because of stern ` s discussions regarding his move to . in late 2004 , suleman made headlines by cutting from four citadel stations , citing stern .\n",
      "Old Prob: 0.0, New Sent Prob: 11916.180972377224 \n",
      "\n",
      "similarity of the two sentences:  tensor(0.9874, device='cuda:0')\n",
      "candidate sentence and original sentence grammar validity probability, respectively:  0.9441817998886108 0.9473620057106018\n",
      "Candidate: in late 2004 , suleman made headlines by cutting howard stern ` s radio show from four citadel stations , citing stern ` s frequent discussions regarding his upcoming move .suleman cut howard stern ` s radio show from four citadel stations in 2004 . he said it was because of stern ` s discussions regarding his move . in late 2004 , suleman made headlines by cutting from four citadel stations , citing stern .\n",
      "Old Prob: 0.0, New Sent Prob: 12516.822373048679 \n",
      "\n",
      "similarity of the two sentences:  tensor(0.9990, device='cuda:0')\n",
      "candidate sentence and original sentence grammar validity probability, respectively:  0.13062725961208344 0.9473620057106018\n",
      "Candidate: in late 2004 , suleman made headlines by cutting howard stern ` s radio show from four citadel stations , citing stern ` s frequent discussions regarding to sirius satellite radio .suleman cut howard stern ` s radio show from four citadel stations in 2004 . he said it was because of stern ` s discussions regarding his move to sirius satellite radio . in late 2004 , suleman made headlines by cutting from four citadel stations , citing stern .\n",
      "Old Prob: 0.0, New Sent Prob: 0 \n",
      "\n",
      "similarity of the two sentences:  tensor(0.9933, device='cuda:0')\n",
      "candidate sentence and original sentence grammar validity probability, respectively:  0.12893563508987427 0.9473620057106018\n",
      "Candidate: in late 2004 , suleman made headlines by cutting howard stern ` s radio show from four citadel stations , citing stern ` s frequent discussions regarding .suleman cut howard stern ` s radio show from four citadel stations in 2004 . he said it was because of stern ` s discussions regarding his move to sirius satellite radio . in late 2004 , suleman made headlines by cutting from four citadel stations , citing stern .\n",
      "Old Prob: 0.0, New Sent Prob: 0 \n",
      "\n",
      "similarity of the two sentences:  tensor(0.9988, device='cuda:0')\n",
      "candidate sentence and original sentence grammar validity probability, respectively:  0.22519038617610931 0.9473620057106018\n",
      "Candidate: in late 2004 , suleman made headlines by cutting howard stern ` s radio show from four citadel stations , citing stern ` s frequent regarding his upcoming move to sirius satellite radio .suleman cut howard stern ` s radio show from four citadel stations in 2004 . he said it was because of stern ` s regarding his move to sirius satellite radio . in late 2004 , suleman made headlines by cutting from four citadel stations , citing stern .\n",
      "Old Prob: 0.0, New Sent Prob: 0 \n",
      "\n",
      "similarity of the two sentences:  tensor(0.9992, device='cuda:0')\n",
      "candidate sentence and original sentence grammar validity probability, respectively:  0.9385419487953186 0.9473620057106018\n",
      "Candidate: in late 2004 , suleman made headlines by cutting howard stern ` s radio show from four citadel stations , citing stern ` s regarding his upcoming move to sirius satellite radio .suleman cut howard stern ` s radio show from four citadel stations in 2004 . he said it was because of stern ` s discussions regarding his move to sirius satellite radio . in late 2004 , suleman made headlines by cutting from four citadel stations , citing stern .\n",
      "Old Prob: 0.0, New Sent Prob: 1037.1340617349192 \n",
      "\n",
      "similarity of the two sentences:  tensor(0.9917, device='cuda:0')\n",
      "candidate sentence and original sentence grammar validity probability, respectively:  0.8842876553535461 0.9473620057106018\n",
      "Candidate: in late 2004 , suleman made headlines by cutting howard stern ` s radio show from four citadel stations , citing stern ` s .suleman cut howard stern ` s radio show from four citadel stations in 2004 . he said it was because of stern ` s discussions regarding his move to sirius satellite radio . in late 2004 , suleman made headlines by cutting from four citadel stations , citing stern .\n",
      "Old Prob: 0.0, New Sent Prob: 15925.253070543025 \n",
      "\n",
      "similarity of the two sentences:  tensor(0.9981, device='cuda:0')\n",
      "candidate sentence and original sentence grammar validity probability, respectively:  0.8592548966407776 0.9473620057106018\n",
      "Candidate: in late 2004 , suleman made headlines by cutting howard stern ` radio show from four citadel stations , citing stern ` frequent discussions regarding his upcoming move to sirius satellite radio .suleman cut howard stern ` radio show from four citadel stations in 2004 . he said it was because of stern ` discussions regarding his move to sirius satellite radio . in late 2004 , suleman made headlines by cutting from four citadel stations , citing stern .\n",
      "Old Prob: 0.0, New Sent Prob: 0.0 \n",
      "\n",
      "similarity of the two sentences:  tensor(0.9929, device='cuda:0')\n",
      "candidate sentence and original sentence grammar validity probability, respectively:  0.8321511745452881 0.9473620057106018\n",
      "Candidate: in late 2004 , suleman made headlines by cutting howard stern ` s radio show from four citadel stations , citing stern ` .suleman cut howard stern ` s radio show from four citadel stations in 2004 . he said it was because of stern ` s discussions regarding his move to sirius satellite radio . in late 2004 , suleman made headlines by cutting from four citadel stations , citing stern .\n",
      "Old Prob: 0.0, New Sent Prob: 14801.928384629367 \n",
      "\n",
      "similarity of the two sentences:  tensor(1.0000, device='cuda:0')\n",
      "candidate sentence and original sentence grammar validity probability, respectively:  0.9473620057106018 0.9473620057106018\n",
      "Candidate: in late 2004 , suleman made headlines by cutting howard stern ` s radio show from four citadel stations , citing stern ` s frequent discussions regarding his upcoming move to sirius satellite radio .suleman cut howard stern ` s radio show from four citadel stations in 2004 . he said it was because of stern ` s discussions regarding his move to sirius satellite radio . in late 2004 , suleman made headlines by cutting from four citadel stations , citing stern .\n",
      "Old Prob: 0.0, New Sent Prob: 0.0 \n",
      "\n",
      "similarity of the two sentences:  tensor(0.9442, device='cuda:0')\n",
      "candidate sentence and original sentence grammar validity probability, respectively:  0.8395180702209473 0.9473620057106018\n",
      "Candidate: in late 2004 , suleman made headlines by cutting howard ` s radio show from four citadel stations , citing ` s frequent discussions regarding his upcoming move to sirius satellite radio .suleman cut howard ` s radio show from four citadel stations in 2004 . he said it was because of ` s discussions regarding his move to sirius satellite radio . in late 2004 , suleman made headlines by cutting from four citadel stations , citing .\n",
      "Old Prob: 0.0, New Sent Prob: 0.0 \n",
      "\n"
     ]
    },
    {
     "name": "stdout",
     "output_type": "stream",
     "text": [
      "similarity of the two sentences:  tensor(1.0000, device='cuda:0')\n",
      "candidate sentence and original sentence grammar validity probability, respectively:  0.9473620057106018 0.9473620057106018\n",
      "Candidate: in late 2004 , suleman made headlines by cutting howard stern ` s radio show from four citadel stations , citing stern ` s frequent discussions regarding his upcoming move to sirius satellite radio .suleman cut howard stern ` s radio show from four citadel stations in 2004 . he said it was because of stern ` s discussions regarding his move to sirius satellite radio . in late 2004 , suleman made headlines by cutting from four citadel stations , citing stern .\n",
      "Old Prob: 0.0, New Sent Prob: 0.0 \n",
      "\n",
      "similarity of the two sentences:  tensor(0.9541, device='cuda:0')\n",
      "candidate sentence and original sentence grammar validity probability, respectively:  0.9328739643096924 0.9473620057106018\n",
      "Candidate: in late 2004 , suleman made headlines by cutting howard stern ` s radio show from , citing stern ` s frequent discussions regarding his upcoming move to sirius satellite radio .suleman cut howard stern ` s radio show from in 2004 . he said it was because of stern ` s discussions regarding his move to sirius satellite radio . in late 2004 , suleman made headlines by cutting from , citing stern .\n",
      "Old Prob: 0.0, New Sent Prob: 6460.6085555133 \n",
      "\n",
      "similarity of the two sentences:  tensor(0.9925, device='cuda:0')\n",
      "candidate sentence and original sentence grammar validity probability, respectively:  0.9228111505508423 0.9473620057106018\n",
      "Candidate: in late 2004 , suleman made headlines by cutting howard stern ` s from four citadel stations , citing stern ` s frequent discussions regarding his upcoming move to sirius satellite radio .suleman cut howard stern ` s from four citadel stations in 2004 . he said it was because of stern ` s discussions regarding his move to sirius satellite radio . in late 2004 , suleman made headlines by cutting from four citadel stations , citing stern .\n",
      "Old Prob: 0.0, New Sent Prob: 2615.8829877837034 \n",
      "\n",
      "similarity of the two sentences:  tensor(0.9626, device='cuda:0')\n",
      "candidate sentence and original sentence grammar validity probability, respectively:  0.9008017182350159 0.9473620057106018\n",
      "Candidate: in late 2004 , suleman made headlines by cutting howard stern ` s , citing stern ` s frequent discussions regarding his upcoming move to sirius satellite radio .suleman cut howard stern ` s in 2004 . he said it was because of stern ` s discussions regarding his move to sirius satellite radio . in late 2004 , suleman made headlines by cutting from four citadel stations , citing stern .\n",
      "Old Prob: 0.0, New Sent Prob: 10217.651802764318 \n",
      "\n",
      "similarity of the two sentences:  tensor(1.0000, device='cuda:0')\n",
      "candidate sentence and original sentence grammar validity probability, respectively:  0.9473620057106018 0.9473620057106018\n",
      "Candidate: in late 2004 , suleman made headlines by cutting howard stern ` s radio show from four citadel stations , citing stern ` s frequent discussions regarding his upcoming move to sirius satellite radio .suleman cut howard stern ` s radio show from four citadel stations in 2004 . he said it was because of stern ` s discussions regarding his move to sirius satellite radio . in late 2004 , suleman made headlines by cutting from four citadel stations , citing stern .\n",
      "Old Prob: 0.0, New Sent Prob: 0.0 \n",
      "\n",
      "similarity of the two sentences:  tensor(1.0000, device='cuda:0')\n",
      "candidate sentence and original sentence grammar validity probability, respectively:  0.9473620057106018 0.9473620057106018\n",
      "Candidate: in late 2004 , suleman made headlines by cutting howard stern ` s radio show from four citadel stations , citing stern ` s frequent discussions regarding his upcoming move to sirius satellite radio .suleman cut howard stern ` s radio show from four citadel stations in 2004 . he said it was because of stern ` s discussions regarding his move to sirius satellite radio . in late 2004 , suleman made headlines by cutting from four citadel stations , citing stern .\n",
      "Old Prob: 0.0, New Sent Prob: 0.0 \n",
      "\n",
      "similarity of the two sentences:  tensor(0.9981, device='cuda:0')\n",
      "candidate sentence and original sentence grammar validity probability, respectively:  0.8592548966407776 0.9473620057106018\n",
      "Candidate: in late 2004 , suleman made headlines by cutting howard stern ` radio show from four citadel stations , citing stern ` frequent discussions regarding his upcoming move to sirius satellite radio .suleman cut howard stern ` radio show from four citadel stations in 2004 . he said it was because of stern ` discussions regarding his move to sirius satellite radio . in late 2004 , suleman made headlines by cutting from four citadel stations , citing stern .\n",
      "Old Prob: 0.0, New Sent Prob: 0.0 \n",
      "\n",
      "similarity of the two sentences:  tensor(1.0000, device='cuda:0')\n",
      "candidate sentence and original sentence grammar validity probability, respectively:  0.9473620057106018 0.9473620057106018\n",
      "Candidate: in late 2004 , suleman made headlines by cutting howard stern ` s radio show from four citadel stations , citing stern ` s frequent discussions regarding his upcoming move to sirius satellite radio .suleman cut howard stern ` s radio show from four citadel stations in 2004 . he said it was because of stern ` s discussions regarding his move to sirius satellite radio . in late 2004 , suleman made headlines by cutting from four citadel stations , citing stern .\n",
      "Old Prob: 0.0, New Sent Prob: 0.0 \n",
      "\n",
      "similarity of the two sentences:  tensor(1.0000, device='cuda:0')\n",
      "candidate sentence and original sentence grammar validity probability, respectively:  0.9473620057106018 0.9473620057106018\n",
      "Candidate: in late 2004 , suleman made headlines by cutting howard stern ` s radio show from four citadel stations , citing stern ` s frequent discussions regarding his upcoming move to sirius satellite radio .suleman cut howard stern ` s radio show from four citadel stations in 2004 . he said it was because of stern ` s discussions regarding his move to sirius satellite radio . in late 2004 , suleman made headlines by cutting from four citadel stations , citing stern .\n",
      "Old Prob: 0.0, New Sent Prob: 0.0 \n",
      "\n",
      "similarity of the two sentences:  tensor(0.9871, device='cuda:0')\n",
      "candidate sentence and original sentence grammar validity probability, respectively:  0.9491246938705444 0.9473620057106018\n",
      "Candidate: in late 2004 , suleman made headlines by cutting ` s radio show from four citadel stations , citing stern ` s frequent discussions regarding his upcoming move to sirius satellite radio .suleman cut ` s radio show from four citadel stations in 2004 . he said it was because of stern ` s discussions regarding his move to sirius satellite radio . in late 2004 , suleman made headlines by cutting from four citadel stations , citing stern .\n",
      "Old Prob: 0.0, New Sent Prob: 467.9776565519055 \n",
      "\n",
      "similarity of the two sentences:  tensor(1.0000, device='cuda:0')\n",
      "candidate sentence and original sentence grammar validity probability, respectively:  0.9473620057106018 0.9473620057106018\n",
      "Candidate: in late 2004 , suleman made headlines by cutting howard stern ` s radio show from four citadel stations , citing stern ` s frequent discussions regarding his upcoming move to sirius satellite radio .suleman cut howard stern ` s radio show from four citadel stations in 2004 . he said it was because of stern ` s discussions regarding his move to sirius satellite radio . in late 2004 , suleman made headlines by cutting from four citadel stations , citing stern .\n",
      "Old Prob: 0.0, New Sent Prob: 0.0 \n",
      "\n",
      "similarity of the two sentences:  tensor(1.0000, device='cuda:0')\n",
      "candidate sentence and original sentence grammar validity probability, respectively:  0.9473620057106018 0.9473620057106018\n",
      "Candidate: in late 2004 , suleman made headlines by cutting howard stern ` s radio show from four citadel stations , citing stern ` s frequent discussions regarding his upcoming move to sirius satellite radio .suleman cut howard stern ` s radio show from four citadel stations in 2004 . he said it was because of stern ` s discussions regarding his move to sirius satellite radio . in late 2004 , suleman made headlines by cutting from four citadel stations , citing stern .\n",
      "Old Prob: 0.0, New Sent Prob: 0.0 \n",
      "\n"
     ]
    },
    {
     "name": "stdout",
     "output_type": "stream",
     "text": [
      "similarity of the two sentences:  tensor(1.0000, device='cuda:0')\n",
      "candidate sentence and original sentence grammar validity probability, respectively:  0.9473620057106018 0.9473620057106018\n",
      "Candidate: in late 2004 , suleman made headlines by cutting howard stern ` s radio show from four citadel stations , citing stern ` s frequent discussions regarding his upcoming move to sirius satellite radio .suleman cut howard stern ` s radio show from four citadel stations in 2004 . he said it was because of stern ` s discussions regarding his move to sirius satellite radio . in late 2004 , suleman made headlines by cutting from four citadel stations , citing stern .\n",
      "Old Prob: 0.0, New Sent Prob: 0.0 \n",
      "\n",
      "similarity of the two sentences:  tensor(0.9682, device='cuda:0')\n",
      "candidate sentence and original sentence grammar validity probability, respectively:  0.9176462292671204 0.9473620057106018\n",
      "Candidate: in late 2004 , suleman made by cutting howard stern ` s radio show from four citadel stations , citing stern ` s frequent discussions regarding his upcoming move to sirius satellite radio .suleman cut howard stern ` s radio show from four citadel stations in 2004 . he said it was because of stern ` s discussions regarding his move to sirius satellite radio . in late 2004 , suleman made by cutting from four citadel stations , citing stern .\n",
      "Old Prob: 0.0, New Sent Prob: 1986.4973566248937 \n",
      "\n",
      "similarity of the two sentences:  tensor(1.0000, device='cuda:0')\n",
      "candidate sentence and original sentence grammar validity probability, respectively:  0.9473620057106018 0.9473620057106018\n",
      "Candidate: in late 2004 , suleman made headlines by cutting howard stern ` s radio show from four citadel stations , citing stern ` s frequent discussions regarding his upcoming move to sirius satellite radio .suleman cut howard stern ` s radio show from four citadel stations in 2004 . he said it was because of stern ` s discussions regarding his move to sirius satellite radio . in late 2004 , suleman made headlines by cutting from four citadel stations , citing stern .\n",
      "Old Prob: 0.0, New Sent Prob: 0.0 \n",
      "\n",
      "similarity of the two sentences:  tensor(1.0000, device='cuda:0')\n",
      "candidate sentence and original sentence grammar validity probability, respectively:  0.9473620057106018 0.9473620057106018\n",
      "Candidate: in late 2004 , suleman made headlines by cutting howard stern ` s radio show from four citadel stations , citing stern ` s frequent discussions regarding his upcoming move to sirius satellite radio .suleman cut howard stern ` s radio show from four citadel stations in 2004 . he said it was because of stern ` s discussions regarding his move to sirius satellite radio . in late 2004 , suleman made headlines by cutting from four citadel stations , citing stern .\n",
      "Old Prob: 0.0, New Sent Prob: 0.0 \n",
      "\n",
      "similarity of the two sentences:  tensor(0.9587, device='cuda:0')\n",
      "candidate sentence and original sentence grammar validity probability, respectively:  0.9275571703910828 0.9473620057106018\n",
      "Candidate: in late 2004 , made headlines by cutting howard stern ` s radio show from four citadel stations , citing stern ` s frequent discussions regarding his upcoming move to sirius satellite radio .suleman cut howard stern ` s radio show from four citadel stations in 2004 . he said it was because of stern ` s discussions regarding his move to sirius satellite radio . in late 2004 , made headlines by cutting from four citadel stations , citing stern .\n",
      "Old Prob: 0.0, New Sent Prob: 1656.584383014138 \n",
      "\n",
      "similarity of the two sentences:  tensor(0.9922, device='cuda:0')\n",
      "candidate sentence and original sentence grammar validity probability, respectively:  0.8684730529785156 0.9473620057106018\n",
      "Candidate: in , suleman made headlines by cutting howard stern ` s radio show from four citadel stations , citing stern ` s frequent discussions regarding his upcoming move to sirius satellite radio .suleman cut howard stern ` s radio show from four citadel stations in 2004 . he said it was because of stern ` s discussions regarding his move to sirius satellite radio . in , suleman made headlines by cutting from four citadel stations , citing stern .\n",
      "Old Prob: 0.0, New Sent Prob: 0.0 \n",
      "\n",
      "similarity of the two sentences:  tensor(0.9994, device='cuda:0')\n",
      "candidate sentence and original sentence grammar validity probability, respectively:  0.918253481388092 0.9473620057106018\n",
      "Candidate: in late 2004 , suleman made headlines by cutting howard stern ` s radio show from four citadel stations , citing stern ` s frequent discussions regarding his upcoming move to sirius satellite radio .suleman cut howard stern ` s radio show from four citadel stations in 2004 . he said it was because of stern ` s discussions regarding his move to sirius satellite radio . , suleman made headlines by cutting from four citadel stations , citing stern .\n",
      "Old Prob: 0.0, New Sent Prob: 0.0 \n",
      "\n",
      "similarity of the two sentences:  tensor(1.0000, device='cuda:0')\n",
      "candidate sentence and original sentence grammar validity probability, respectively:  0.9473620057106018 0.9473620057106018\n",
      "Candidate: in late 2004 , suleman made headlines by cutting howard stern ` s radio show from four citadel stations , citing stern ` s frequent discussions regarding his upcoming move to sirius satellite radio .suleman cut howard stern ` s radio show from four citadel stations in 2004 . he said it was because of stern ` s discussions regarding his move to sirius satellite radio . in late 2004 , suleman made headlines by cutting from four citadel stations , citing stern .\n",
      "Old Prob: 0.0, New Sent Prob: 0.0 \n",
      "\n",
      "similarity of the two sentences:  tensor(0.8239, device='cuda:0')\n",
      "candidate sentence and original sentence grammar validity probability, respectively:  0.13075821101665497 0.9473620057106018\n",
      "Candidate: at the end of 2004 the suleman made headliners by chopping howard aft ` s radio show from four citadel stations citing aft ` s frequent discussions about his upcoming move to sirius satellite . made headliners from four citadel stations citing aft . .\n",
      "Old Prob: 0.0, New Sent Prob: 0 \n",
      "\n",
      "similarity of the two sentences:  tensor(0.9917, device='cuda:0')\n",
      "candidate sentence and original sentence grammar validity probability, respectively:  0.8842876553535461 0.9473620057106018\n",
      "Getting candidates for iteration:  1\n",
      "neg constraints:  headline headlines headlining headlined headline headliner stern sterns sterning sterned Stern sternly sterned sternness cut cuts cutting cut cutted cuttingly , ,s ,ing ,ed\n",
      "entities are:  ['late', '2004', 'suleman', 'four', 'four', '2004', 'late', '2004', 'four']\n",
      "input:  in late 2004 , suleman made headlines by cutting howard stern ` s radio show from four citadel stations , citing stern ` s .suleman cut howard stern ` s radio show from four citadel stations in 2004 . he said it was because of stern ` s discussions regarding his move to sirius satellite radio . in late 2004 , suleman made headlines by cutting from four citadel stations , citing stern ..\theadline|headlines|headlining|headlined|headline|headliner|stern|sterns|sterning|sterned|Stern|sternly|sterned|sternness|cut|cuts|cutting|cut|cutted|cuttingly|,|,s|,ing|,ed\t\n",
      "new:  At the end of 2004 the Suleman made headliners by chopping Howard aft `s radio show from four citadel stations citing aft` s. Sterly.\n",
      "\n",
      "similarity of the two sentences:  tensor(0.9327, device='cuda:0')\n",
      "candidate sentence and original sentence grammar validity probability, respectively:  0.4128020703792572 0.9473620057106018\n",
      "Candidate: in late 2004 , suleman made headlines by cutting howard ` s radio show from four citadel stations , citing ` s .suleman cut howard ` s radio show from four citadel stations in 2004 . he said it was because of ` s discussions regarding his move to sirius satellite radio . in late 2004 , suleman made headlines by cutting from four citadel stations , citing .\n",
      "Old Prob: 15925.253070543025, New Sent Prob: 0 \n",
      "\n",
      "similarity of the two sentences:  tensor(0.9899, device='cuda:0')\n",
      "candidate sentence and original sentence grammar validity probability, respectively:  0.08986560255289078 0.9473620057106018\n",
      "Candidate: in late 2004 , suleman made headlines by cutting howard stern ` s radio show from four citadel stations , ` s .suleman cut howard stern ` s radio show from four citadel stations in 2004 . he said it was because of stern ` s discussions regarding his move to sirius satellite radio . in late 2004 , suleman made headlines by cutting from four citadel stations .\n",
      "Old Prob: 15925.253070543025, New Sent Prob: 0 \n",
      "\n"
     ]
    },
    {
     "name": "stdout",
     "output_type": "stream",
     "text": [
      "similarity of the two sentences:  tensor(0.9382, device='cuda:0')\n",
      "candidate sentence and original sentence grammar validity probability, respectively:  0.8044986724853516 0.9473620057106018\n",
      "Candidate: in late 2004 , suleman made headlines by cutting howard stern ` s radio show from , citing stern ` s .suleman cut howard stern ` s radio show from in 2004 . he said it was because of stern ` s discussions regarding his move to sirius satellite radio . in late 2004 , suleman made headlines by cutting from , citing stern .\n",
      "Old Prob: 15925.253070543025, New Sent Prob: 18164.560316095718 \n",
      "\n",
      "similarity of the two sentences:  tensor(0.9322, device='cuda:0')\n",
      "candidate sentence and original sentence grammar validity probability, respectively:  0.5747673511505127 0.9473620057106018\n",
      "Candidate: in late 2004 , suleman made headlines by cutting howard stern ` s radio show , citing stern ` s .suleman cut howard stern ` s radio show in 2004 . he said it was because of stern ` s discussions regarding his move to sirius satellite radio . in late 2004 , suleman made headlines by cutting , citing stern .\n",
      "Old Prob: 15925.253070543025, New Sent Prob: 0 \n",
      "\n",
      "similarity of the two sentences:  tensor(0.9870, device='cuda:0')\n",
      "candidate sentence and original sentence grammar validity probability, respectively:  0.7396008968353271 0.9473620057106018\n",
      "Candidate: in late 2004 , suleman made headlines by cutting howard stern ` s radio show from four citadel stations , citing stern ` s .suleman cut howard stern ` s radio show from four citadel stations in 2004 . he said it was because of stern ` s discussions regarding his move to sirius satellite radio . in late 2004 , suleman made headlines by , citing stern .\n",
      "Old Prob: 15925.253070543025, New Sent Prob: 19510.757877024127 \n",
      "\n",
      "similarity of the two sentences:  tensor(0.9848, device='cuda:0')\n",
      "candidate sentence and original sentence grammar validity probability, respectively:  0.8915921449661255 0.9473620057106018\n",
      "Candidate: in late 2004 , suleman made headlines by cutting howard stern ` s radio show from four citadel stations , citing stern ` s .suleman cut howard stern ` s radio show from four citadel stations in 2004 . he said it was because of stern ` s discussions regarding his move to sirius satellite radio . in late 2004 , suleman made headlines by .\n",
      "Old Prob: 15925.253070543025, New Sent Prob: 21782.75486250627 \n",
      "\n",
      "similarity of the two sentences:  tensor(0.9848, device='cuda:0')\n",
      "candidate sentence and original sentence grammar validity probability, respectively:  0.8915921449661255 0.9473620057106018\n",
      "Candidate: in late 2004 , suleman made headlines by cutting howard stern ` s radio show from four citadel stations , citing stern ` s .suleman cut howard stern ` s radio show from four citadel stations in 2004 . he said it was because of stern ` s discussions regarding his move to sirius satellite radio . in late 2004 , suleman made headlines by .\n",
      "Old Prob: 15925.253070543025, New Sent Prob: 21782.75486250627 \n",
      "\n",
      "similarity of the two sentences:  tensor(0.9857, device='cuda:0')\n",
      "candidate sentence and original sentence grammar validity probability, respectively:  0.9603962302207947 0.9473620057106018\n",
      "Candidate: in late 2004 , suleman made headlines by cutting howard stern ` s radio show from four citadel stations , citing stern ` s .suleman cut howard stern ` s radio show from four citadel stations in 2004 . he said it was because of stern ` s discussions regarding his move to sirius satellite radio . in late 2004 , suleman made headlines .\n",
      "Old Prob: 15925.253070543025, New Sent Prob: 23931.979164185228 \n",
      "\n",
      "similarity of the two sentences:  tensor(0.9561, device='cuda:0')\n",
      "candidate sentence and original sentence grammar validity probability, respectively:  0.8141805529594421 0.9473620057106018\n",
      "Candidate: in late 2004 , suleman made by cutting howard stern ` s radio show from four citadel stations , citing stern ` s .suleman cut howard stern ` s radio show from four citadel stations in 2004 . he said it was because of stern ` s discussions regarding his move to sirius satellite radio . in late 2004 , suleman made by cutting from four citadel stations , citing stern .\n",
      "Old Prob: 15925.253070543025, New Sent Prob: 19094.127400974106 \n",
      "\n",
      "similarity of the two sentences:  tensor(0.9851, device='cuda:0')\n",
      "candidate sentence and original sentence grammar validity probability, respectively:  0.8782706260681152 0.9473620057106018\n",
      "Candidate: in late 2004 , suleman made headlines by cutting howard stern ` s radio show from four citadel stations , citing stern ` s .suleman cut howard stern ` s radio show from four citadel stations in 2004 . he said it was because of stern ` s discussions regarding his move to sirius satellite radio . in late 2004 , suleman .\n",
      "Old Prob: 15925.253070543025, New Sent Prob: 28037.444976900915 \n",
      "\n",
      "similarity of the two sentences:  tensor(0.9607, device='cuda:0')\n",
      "candidate sentence and original sentence grammar validity probability, respectively:  0.8299577832221985 0.9473620057106018\n",
      "Candidate: in late 2004 , made headlines by cutting howard stern ` s radio show from four citadel stations , citing stern ` s .suleman cut howard stern ` s radio show from four citadel stations in 2004 . he said it was because of stern ` s discussions regarding his move to sirius satellite radio . in late 2004 , made headlines by cutting from four citadel stations , citing stern .\n",
      "Old Prob: 15925.253070543025, New Sent Prob: 15420.438553406893 \n",
      "\n",
      "similarity of the two sentences:  tensor(0.9824, device='cuda:0')\n",
      "candidate sentence and original sentence grammar validity probability, respectively:  0.7120057344436646 0.9473620057106018\n",
      "Candidate: in , suleman made headlines by cutting howard stern ` s radio show from four citadel stations , citing stern ` s .suleman cut howard stern ` s radio show from four citadel stations in 2004 . he said it was because of stern ` s discussions regarding his move to sirius satellite radio . in , suleman made headlines by cutting from four citadel stations , citing stern .\n",
      "Old Prob: 15925.253070543025, New Sent Prob: 5763.876521132877 \n",
      "\n",
      "similarity of the two sentences:  tensor(0.9912, device='cuda:0')\n",
      "candidate sentence and original sentence grammar validity probability, respectively:  0.8668438792228699 0.9473620057106018\n",
      "Candidate: in late 2004 , suleman made headlines by cutting howard stern ` s radio show from four citadel stations , citing stern ` s .suleman cut howard stern ` s radio show from four citadel stations in 2004 . he said it was because of stern ` s discussions regarding his move to sirius satellite radio . , suleman made headlines by cutting from four citadel stations , citing stern .\n",
      "Old Prob: 15925.253070543025, New Sent Prob: 14375.406810529836 \n",
      "\n",
      "similarity of the two sentences:  tensor(0.9868, device='cuda:0')\n",
      "candidate sentence and original sentence grammar validity probability, respectively:  0.9617850184440613 0.9473620057106018\n",
      "Candidate: in late 2004 , suleman made headlines by cutting howard stern ` s radio show from four citadel stations , citing stern ` s .suleman cut howard stern ` s radio show from four citadel stations in 2004 . he said it was because of stern ` s discussions regarding his move to sirius satellite radio . .\n",
      "Old Prob: 15925.253070543025, New Sent Prob: 22854.030234504084 \n",
      "\n",
      "similarity of the two sentences:  tensor(0.9844, device='cuda:0')\n",
      "candidate sentence and original sentence grammar validity probability, respectively:  0.4663306474685669 0.9473620057106018\n",
      "Candidate: in late 2004 , suleman made headlines by cutting howard stern ` s radio show from four citadel stations , citing stern ` s .suleman cut howard stern ` s radio show from four citadel stations in 2004 . he said it was because of stern ` s discussions regarding his move to . in late 2004 , suleman made headlines by cutting from four citadel stations , citing stern .\n",
      "Old Prob: 15925.253070543025, New Sent Prob: 0 \n",
      "\n",
      "similarity of the two sentences:  tensor(0.9836, device='cuda:0')\n",
      "candidate sentence and original sentence grammar validity probability, respectively:  0.8893749117851257 0.9473620057106018\n",
      "Candidate: in late 2004 , suleman made headlines by cutting howard stern ` s radio show from four citadel stations , citing stern ` s .suleman cut howard stern ` s radio show from four citadel stations in 2004 . he said it was because of stern ` s discussions regarding his move . in late 2004 , suleman made headlines by cutting from four citadel stations , citing stern .\n",
      "Old Prob: 15925.253070543025, New Sent Prob: 23471.74468595146 \n",
      "\n"
     ]
    },
    {
     "name": "stdout",
     "output_type": "stream",
     "text": [
      "similarity of the two sentences:  tensor(0.9904, device='cuda:0')\n",
      "candidate sentence and original sentence grammar validity probability, respectively:  0.372136652469635 0.9473620057106018\n",
      "Candidate: in late 2004 , suleman made headlines by cutting howard stern ` s radio show from four citadel stations , citing stern ` s .suleman cut howard stern ` s radio show from four citadel stations in 2004 . he said it was because of stern ` s discussions regarding to sirius satellite radio . in late 2004 , suleman made headlines by cutting from four citadel stations , citing stern .\n",
      "Old Prob: 15925.253070543025, New Sent Prob: 0 \n",
      "\n",
      "similarity of the two sentences:  tensor(0.9806, device='cuda:0')\n",
      "candidate sentence and original sentence grammar validity probability, respectively:  0.10890457034111023 0.9473620057106018\n",
      "Candidate: in late 2004 , suleman made headlines by cutting howard stern ` s radio show from four citadel stations , citing stern ` s .suleman cut howard stern ` s radio show from four citadel stations in 2004 . he said it was because of stern ` s discussions regarding . in late 2004 , suleman made headlines by cutting from four citadel stations , citing stern .\n",
      "Old Prob: 15925.253070543025, New Sent Prob: 0 \n",
      "\n",
      "similarity of the two sentences:  tensor(0.9784, device='cuda:0')\n",
      "candidate sentence and original sentence grammar validity probability, respectively:  0.8594880104064941 0.9473620057106018\n",
      "Candidate: in late 2004 , suleman made headlines by cutting howard stern ` s radio show from four citadel stations , citing stern ` s .suleman cut howard stern ` s radio show from four citadel stations in 2004 . he said it was because of stern ` s discussions . in late 2004 , suleman made headlines by cutting from four citadel stations , citing stern .\n",
      "Old Prob: 15925.253070543025, New Sent Prob: 27195.763116192953 \n",
      "\n",
      "similarity of the two sentences:  tensor(0.9906, device='cuda:0')\n",
      "candidate sentence and original sentence grammar validity probability, respectively:  0.9273166060447693 0.9473620057106018\n",
      "Candidate: in late 2004 , suleman made headlines by cutting howard stern ` s radio show from four citadel stations , citing stern ` s .suleman cut howard stern ` s radio show from four citadel stations in 2004 . he said it was because of stern ` s regarding his move to sirius satellite radio . in late 2004 , suleman made headlines by cutting from four citadel stations , citing stern .\n",
      "Old Prob: 15925.253070543025, New Sent Prob: 18444.642281100772 \n",
      "\n",
      "similarity of the two sentences:  tensor(0.9744, device='cuda:0')\n",
      "candidate sentence and original sentence grammar validity probability, respectively:  0.8941192626953125 0.9473620057106018\n",
      "Candidate: in late 2004 , suleman made headlines by cutting howard stern ` s radio show from four citadel stations , citing stern ` s .suleman cut howard stern ` s radio show from four citadel stations in 2004 . he said it was because of stern ` s . in late 2004 , suleman made headlines by cutting from four citadel stations , citing stern .\n",
      "Old Prob: 15925.253070543025, New Sent Prob: 30301.166134198324 \n",
      "\n",
      "similarity of the two sentences:  tensor(0.9744, device='cuda:0')\n",
      "candidate sentence and original sentence grammar validity probability, respectively:  0.8941192626953125 0.9473620057106018\n",
      "Candidate: in late 2004 , suleman made headlines by cutting howard stern ` s radio show from four citadel stations , citing stern ` s .suleman cut howard stern ` s radio show from four citadel stations in 2004 . he said it was because of stern ` s . in late 2004 , suleman made headlines by cutting from four citadel stations , citing stern .\n",
      "Old Prob: 15925.253070543025, New Sent Prob: 30301.166134198324 \n",
      "\n",
      "similarity of the two sentences:  tensor(0.9897, device='cuda:0')\n",
      "candidate sentence and original sentence grammar validity probability, respectively:  0.8864399194717407 0.9473620057106018\n",
      "Candidate: in late 2004 , suleman made headlines by cutting howard stern ` radio show from four citadel stations , citing stern ` .suleman cut howard stern ` radio show from four citadel stations in 2004 . he said it was because of stern ` discussions regarding his move to sirius satellite radio . in late 2004 , suleman made headlines by cutting from four citadel stations , citing stern .\n",
      "Old Prob: 15925.253070543025, New Sent Prob: 11806.443267028806 \n",
      "\n",
      "similarity of the two sentences:  tensor(0.9897, device='cuda:0')\n",
      "candidate sentence and original sentence grammar validity probability, respectively:  0.8864399194717407 0.9473620057106018\n",
      "Candidate: in late 2004 , suleman made headlines by cutting howard stern ` radio show from four citadel stations , citing stern ` .suleman cut howard stern ` radio show from four citadel stations in 2004 . he said it was because of stern ` discussions regarding his move to sirius satellite radio . in late 2004 , suleman made headlines by cutting from four citadel stations , citing stern .\n",
      "Old Prob: 15925.253070543025, New Sent Prob: 11806.443267028806 \n",
      "\n",
      "similarity of the two sentences:  tensor(0.9327, device='cuda:0')\n",
      "candidate sentence and original sentence grammar validity probability, respectively:  0.4128020703792572 0.9473620057106018\n",
      "Candidate: in late 2004 , suleman made headlines by cutting howard ` s radio show from four citadel stations , citing ` s .suleman cut howard ` s radio show from four citadel stations in 2004 . he said it was because of ` s discussions regarding his move to sirius satellite radio . in late 2004 , suleman made headlines by cutting from four citadel stations , citing .\n",
      "Old Prob: 15925.253070543025, New Sent Prob: 0 \n",
      "\n",
      "similarity of the two sentences:  tensor(0.9485, device='cuda:0')\n",
      "candidate sentence and original sentence grammar validity probability, respectively:  0.5403427481651306 0.9473620057106018\n",
      "Candidate: in late 2004 , suleman made headlines by cutting howard s radio show from four citadel stations , citing s .suleman cut howard s radio show from four citadel stations in 2004 . he said it was because of s discussions regarding his move to sirius satellite radio . in late 2004 , suleman made headlines by cutting from four citadel stations , citing stern .\n",
      "Old Prob: 15925.253070543025, New Sent Prob: 0 \n",
      "\n",
      "similarity of the two sentences:  tensor(0.9913, device='cuda:0')\n",
      "candidate sentence and original sentence grammar validity probability, respectively:  0.6309091448783875 0.9473620057106018\n",
      "Candidate: in late 2004 , suleman made headlines by cutting howard stern ` s radio show from four citadel stations , citing stern ` s .suleman cut howard stern ` s radio show from four citadel stations in 2004 . he said it was because stern ` s discussions regarding his move to sirius satellite radio . in late 2004 , suleman made headlines by cutting from four citadel stations , citing stern .\n",
      "Old Prob: 15925.253070543025, New Sent Prob: 0 \n",
      "\n",
      "similarity of the two sentences:  tensor(0.9913, device='cuda:0')\n",
      "candidate sentence and original sentence grammar validity probability, respectively:  0.5537218451499939 0.9473620057106018\n",
      "Candidate: in late 2004 , suleman made headlines by cutting howard stern ` s radio show from four citadel stations , citing stern ` s .suleman cut howard stern ` s radio show from four citadel stations in 2004 . he said it was because s discussions regarding his move to sirius satellite radio . in late 2004 , suleman made headlines by cutting from four citadel stations , citing stern .\n",
      "Old Prob: 15925.253070543025, New Sent Prob: 0 \n",
      "\n",
      "similarity of the two sentences:  tensor(0.9909, device='cuda:0')\n",
      "candidate sentence and original sentence grammar validity probability, respectively:  0.3916546404361725 0.9473620057106018\n",
      "Candidate: in late 2004 , suleman made headlines by cutting howard stern ` s radio show from four citadel stations , citing stern ` s .suleman cut howard stern ` s radio show from four citadel stations in 2004 . he said it was of stern ` s discussions regarding his move to sirius satellite radio . in late 2004 , suleman made headlines by cutting from four citadel stations , citing stern .\n",
      "Old Prob: 15925.253070543025, New Sent Prob: 0 \n",
      "\n",
      "similarity of the two sentences:  tensor(0.9899, device='cuda:0')\n",
      "candidate sentence and original sentence grammar validity probability, respectively:  0.1612529158592224 0.9473620057106018\n",
      "Candidate: in late 2004 , suleman made headlines by cutting howard stern ` s radio show from four citadel stations , citing stern ` s .suleman cut howard stern ` s radio show from four citadel stations in 2004 . he said it of stern ` s discussions regarding his move to sirius satellite radio . in late 2004 , suleman made headlines by cutting from four citadel stations , citing stern .\n",
      "Old Prob: 15925.253070543025, New Sent Prob: 0 \n",
      "\n"
     ]
    },
    {
     "name": "stdout",
     "output_type": "stream",
     "text": [
      "similarity of the two sentences:  tensor(0.9883, device='cuda:0')\n",
      "candidate sentence and original sentence grammar validity probability, respectively:  0.269857794046402 0.9473620057106018\n",
      "Candidate: in late 2004 , suleman made headlines by cutting howard stern ` s radio show from four citadel stations , citing stern ` s .suleman cut howard stern ` s radio show from four citadel stations in 2004 . he said it s discussions regarding his move to sirius satellite radio . in late 2004 , suleman made headlines by cutting from four citadel stations , citing stern .\n",
      "Old Prob: 15925.253070543025, New Sent Prob: 0 \n",
      "\n",
      "similarity of the two sentences:  tensor(0.9914, device='cuda:0')\n",
      "candidate sentence and original sentence grammar validity probability, respectively:  0.801889955997467 0.9473620057106018\n",
      "Candidate: in late 2004 , suleman made headlines by cutting howard stern ` s radio show from four citadel stations , citing stern ` s .suleman cut howard stern ` s radio show from four citadel stations in 2004 . he said was because of stern ` s discussions regarding his move to sirius satellite radio . in late 2004 , suleman made headlines by cutting from four citadel stations , citing stern .\n",
      "Old Prob: 15925.253070543025, New Sent Prob: 15674.619069561 \n",
      "\n",
      "similarity of the two sentences:  tensor(0.9876, device='cuda:0')\n",
      "candidate sentence and original sentence grammar validity probability, respectively:  0.13508160412311554 0.9473620057106018\n",
      "Candidate: in late 2004 , suleman made headlines by cutting howard stern ` s radio show from four citadel stations , citing stern ` s .suleman cut howard stern ` s radio show from four citadel stations in 2004 . he said s discussions regarding his move to sirius satellite radio . in late 2004 , suleman made headlines by cutting from four citadel stations , citing stern .\n",
      "Old Prob: 15925.253070543025, New Sent Prob: 0 \n",
      "\n",
      "similarity of the two sentences:  tensor(0.9876, device='cuda:0')\n",
      "candidate sentence and original sentence grammar validity probability, respectively:  0.13508160412311554 0.9473620057106018\n",
      "Candidate: in late 2004 , suleman made headlines by cutting howard stern ` s radio show from four citadel stations , citing stern ` s .suleman cut howard stern ` s radio show from four citadel stations in 2004 . he said s discussions regarding his move to sirius satellite radio . in late 2004 , suleman made headlines by cutting from four citadel stations , citing stern .\n",
      "Old Prob: 15925.253070543025, New Sent Prob: 0 \n",
      "\n",
      "similarity of the two sentences:  tensor(0.9862, device='cuda:0')\n",
      "candidate sentence and original sentence grammar validity probability, respectively:  0.3734237849712372 0.9473620057106018\n",
      "Candidate: in late 2004 , suleman made headlines by cutting howard stern ` s radio show from four citadel stations , citing stern ` s .suleman cut howard stern ` s radio show from four citadel stations in 2004 . he s discussions regarding his move to sirius satellite radio . in late 2004 , suleman made headlines by cutting from four citadel stations , citing stern .\n",
      "Old Prob: 15925.253070543025, New Sent Prob: 0 \n",
      "\n",
      "similarity of the two sentences:  tensor(0.9913, device='cuda:0')\n",
      "candidate sentence and original sentence grammar validity probability, respectively:  0.8620189428329468 0.9473620057106018\n",
      "Candidate: in late 2004 , suleman made headlines by cutting howard stern ` s radio show from four citadel stations , citing stern ` s .suleman cut howard stern ` s radio show from four citadel stations in 2004 . said it was because of stern ` s discussions regarding his move to sirius satellite radio . in late 2004 , suleman made headlines by cutting from four citadel stations , citing stern .\n",
      "Old Prob: 15925.253070543025, New Sent Prob: 13745.995311406921 \n",
      "\n",
      "similarity of the two sentences:  tensor(0.9869, device='cuda:0')\n",
      "candidate sentence and original sentence grammar validity probability, respectively:  0.2695927321910858 0.9473620057106018\n",
      "Candidate: in late 2004 , suleman made headlines by cutting howard stern ` s radio show from four citadel stations , citing stern ` s .suleman cut howard stern ` s radio show from four citadel stations in 2004 . s discussions regarding his move to sirius satellite radio . in late 2004 , suleman made headlines by cutting from four citadel stations , citing stern .\n",
      "Old Prob: 15925.253070543025, New Sent Prob: 0 \n",
      "\n",
      "similarity of the two sentences:  tensor(0.9774, device='cuda:0')\n",
      "candidate sentence and original sentence grammar validity probability, respectively:  0.21463090181350708 0.9473620057106018\n",
      "Candidate: in late , suleman made headlines by cutting howard stern ` s radio show from four citadel stations , citing stern ` s .suleman cut howard stern ` s radio show from four citadel stations in . he said it was because of stern ` s discussions regarding his move to sirius satellite radio . in late , suleman made headlines by cutting from four citadel stations , citing stern .\n",
      "Old Prob: 15925.253070543025, New Sent Prob: 0 \n",
      "\n",
      "similarity of the two sentences:  tensor(0.9914, device='cuda:0')\n",
      "candidate sentence and original sentence grammar validity probability, respectively:  0.8559858202934265 0.9473620057106018\n",
      "Candidate: in late 2004 , suleman made headlines by cutting howard stern ` s radio show from four citadel stations , citing stern ` s .suleman cut howard stern ` s radio show from four citadel stations . he said it was because of stern ` s discussions regarding his move to sirius satellite radio . in late 2004 , suleman made headlines by cutting from four citadel stations , citing stern .\n",
      "Old Prob: 15925.253070543025, New Sent Prob: 13225.691801391697 \n",
      "\n",
      "similarity of the two sentences:  tensor(0.9382, device='cuda:0')\n",
      "candidate sentence and original sentence grammar validity probability, respectively:  0.8044986724853516 0.9473620057106018\n",
      "Candidate: in late 2004 , suleman made headlines by cutting howard stern ` s radio show from , citing stern ` s .suleman cut howard stern ` s radio show from in 2004 . he said it was because of stern ` s discussions regarding his move to sirius satellite radio . in late 2004 , suleman made headlines by cutting from , citing stern .\n",
      "Old Prob: 15925.253070543025, New Sent Prob: 18164.560316095718 \n",
      "\n",
      "similarity of the two sentences:  tensor(0.9922, device='cuda:0')\n",
      "candidate sentence and original sentence grammar validity probability, respectively:  0.7407596111297607 0.9473620057106018\n",
      "Candidate: in late 2004 , suleman made headlines by cutting howard stern ` s radio show from four citadel stations , citing stern ` s .suleman cut howard stern ` s radio show from . he said it was because of stern ` s discussions regarding his move to sirius satellite radio . in late 2004 , suleman made headlines by cutting from four citadel stations , citing stern .\n",
      "Old Prob: 15925.253070543025, New Sent Prob: 14584.499645912483 \n",
      "\n",
      "similarity of the two sentences:  tensor(0.9913, device='cuda:0')\n",
      "candidate sentence and original sentence grammar validity probability, respectively:  0.7811478972434998 0.9473620057106018\n",
      "Candidate: in late 2004 , suleman made headlines by cutting howard stern ` s radio show from four citadel stations , citing stern ` s .suleman cut howard stern ` s radio show . he said it was because of stern ` s discussions regarding his move to sirius satellite radio . in late 2004 , suleman made headlines by cutting from four citadel stations , citing stern .\n",
      "Old Prob: 15925.253070543025, New Sent Prob: 16140.866815486665 \n",
      "\n",
      "similarity of the two sentences:  tensor(0.9806, device='cuda:0')\n",
      "candidate sentence and original sentence grammar validity probability, respectively:  0.8331739902496338 0.9473620057106018\n",
      "Candidate: in late 2004 , suleman made headlines by cutting howard stern ` s from four citadel stations , citing stern ` s .suleman cut howard stern ` s from four citadel stations in 2004 . he said it was because of stern ` s discussions regarding his move to sirius satellite radio . in late 2004 , suleman made headlines by cutting from four citadel stations , citing stern .\n",
      "Old Prob: 15925.253070543025, New Sent Prob: 20108.147477489412 \n",
      "\n",
      "similarity of the two sentences:  tensor(0.9890, device='cuda:0')\n",
      "candidate sentence and original sentence grammar validity probability, respectively:  0.739098072052002 0.9473620057106018\n",
      "Candidate: in late 2004 , suleman made headlines by cutting howard stern ` s radio show from four citadel stations , citing stern ` s .suleman cut howard stern ` s . he said it was because of stern ` s discussions regarding his move to sirius satellite radio . in late 2004 , suleman made headlines by cutting from four citadel stations , citing stern .\n",
      "Old Prob: 15925.253070543025, New Sent Prob: 17679.003184305886 \n",
      "\n"
     ]
    },
    {
     "name": "stdout",
     "output_type": "stream",
     "text": [
      "similarity of the two sentences:  tensor(0.9897, device='cuda:0')\n",
      "candidate sentence and original sentence grammar validity probability, respectively:  0.8864399194717407 0.9473620057106018\n",
      "Candidate: in late 2004 , suleman made headlines by cutting howard stern ` radio show from four citadel stations , citing stern ` .suleman cut howard stern ` radio show from four citadel stations in 2004 . he said it was because of stern ` discussions regarding his move to sirius satellite radio . in late 2004 , suleman made headlines by cutting from four citadel stations , citing stern .\n",
      "Old Prob: 15925.253070543025, New Sent Prob: 11806.443267028806 \n",
      "\n",
      "similarity of the two sentences:  tensor(0.9897, device='cuda:0')\n",
      "candidate sentence and original sentence grammar validity probability, respectively:  0.8864399194717407 0.9473620057106018\n",
      "Candidate: in late 2004 , suleman made headlines by cutting howard stern ` radio show from four citadel stations , citing stern ` .suleman cut howard stern ` radio show from four citadel stations in 2004 . he said it was because of stern ` discussions regarding his move to sirius satellite radio . in late 2004 , suleman made headlines by cutting from four citadel stations , citing stern .\n",
      "Old Prob: 15925.253070543025, New Sent Prob: 11806.443267028806 \n",
      "\n",
      "similarity of the two sentences:  tensor(0.9800, device='cuda:0')\n",
      "candidate sentence and original sentence grammar validity probability, respectively:  0.9175047874450684 0.9473620057106018\n",
      "Candidate: in late 2004 , suleman made headlines by cutting ` s radio show from four citadel stations , citing stern ` s .suleman cut ` s radio show from four citadel stations in 2004 . he said it was because of stern ` s discussions regarding his move to sirius satellite radio . in late 2004 , suleman made headlines by cutting from four citadel stations , citing stern .\n",
      "Old Prob: 15925.253070543025, New Sent Prob: 20238.48971689028 \n",
      "\n",
      "similarity of the two sentences:  tensor(0.9903, device='cuda:0')\n",
      "candidate sentence and original sentence grammar validity probability, respectively:  0.24192112684249878 0.9473620057106018\n",
      "Candidate: in late 2004 , suleman made headlines by cutting howard stern ` s radio show from four citadel stations , citing stern ` s .suleman radio show from four citadel stations in 2004 . he said it was because of stern ` s discussions regarding his move to sirius satellite radio . in late 2004 , suleman made headlines by cutting from four citadel stations , citing stern .\n",
      "Old Prob: 15925.253070543025, New Sent Prob: 0 \n",
      "\n",
      "similarity of the two sentences:  tensor(0.9607, device='cuda:0')\n",
      "candidate sentence and original sentence grammar validity probability, respectively:  0.8299577832221985 0.9473620057106018\n",
      "Candidate: in late 2004 , made headlines by cutting howard stern ` s radio show from four citadel stations , citing stern ` s .suleman cut howard stern ` s radio show from four citadel stations in 2004 . he said it was because of stern ` s discussions regarding his move to sirius satellite radio . in late 2004 , made headlines by cutting from four citadel stations , citing stern .\n",
      "Old Prob: 15925.253070543025, New Sent Prob: 15420.438553406893 \n",
      "\n",
      "similarity of the two sentences:  tensor(0.9909, device='cuda:0')\n",
      "candidate sentence and original sentence grammar validity probability, respectively:  0.29158520698547363 0.9473620057106018\n",
      "Candidate: in late 2004 , suleman made headlines by cutting howard stern ` s radio show from four citadel stations , citing stern ` s . radio show from four citadel stations in 2004 . he said it was because of stern ` s discussions regarding his move to sirius satellite radio . in late 2004 , suleman made headlines by cutting from four citadel stations , citing stern .\n",
      "Old Prob: 15925.253070543025, New Sent Prob: 0 \n",
      "\n",
      "similarity of the two sentences:  tensor(0.9909, device='cuda:0')\n",
      "candidate sentence and original sentence grammar validity probability, respectively:  0.29158520698547363 0.9473620057106018\n",
      "Candidate: in late 2004 , suleman made headlines by cutting howard stern ` s radio show from four citadel stations , citing stern ` s . radio show from four citadel stations in 2004 . he said it was because of stern ` s discussions regarding his move to sirius satellite radio . in late 2004 , suleman made headlines by cutting from four citadel stations , citing stern .\n",
      "Old Prob: 15925.253070543025, New Sent Prob: 0 \n",
      "\n",
      "similarity of the two sentences:  tensor(0.9897, device='cuda:0')\n",
      "candidate sentence and original sentence grammar validity probability, respectively:  0.8864399194717407 0.9473620057106018\n",
      "Candidate: in late 2004 , suleman made headlines by cutting howard stern ` radio show from four citadel stations , citing stern ` .suleman cut howard stern ` radio show from four citadel stations in 2004 . he said it was because of stern ` discussions regarding his move to sirius satellite radio . in late 2004 , suleman made headlines by cutting from four citadel stations , citing stern .\n",
      "Old Prob: 15925.253070543025, New Sent Prob: 11806.443267028806 \n",
      "\n",
      "similarity of the two sentences:  tensor(0.9327, device='cuda:0')\n",
      "candidate sentence and original sentence grammar validity probability, respectively:  0.4128020703792572 0.9473620057106018\n",
      "Candidate: in late 2004 , suleman made headlines by cutting howard ` s radio show from four citadel stations , citing ` s .suleman cut howard ` s radio show from four citadel stations in 2004 . he said it was because of ` s discussions regarding his move to sirius satellite radio . in late 2004 , suleman made headlines by cutting from four citadel stations , citing .\n",
      "Old Prob: 15925.253070543025, New Sent Prob: 0 \n",
      "\n",
      "similarity of the two sentences:  tensor(0.9917, device='cuda:0')\n",
      "candidate sentence and original sentence grammar validity probability, respectively:  0.8842876553535461 0.9473620057106018\n",
      "Candidate: in late 2004 , suleman made headlines by cutting howard stern ` s radio show from four citadel stations , citing stern ` s .suleman cut howard stern ` s radio show from four citadel stations in 2004 . he said it was because of stern ` s discussions regarding his move to sirius satellite radio . in late 2004 , suleman made headlines by cutting from four citadel stations , citing stern .\n",
      "Old Prob: 15925.253070543025, New Sent Prob: 15925.253070543025 \n",
      "\n",
      "similarity of the two sentences:  tensor(0.9917, device='cuda:0')\n",
      "candidate sentence and original sentence grammar validity probability, respectively:  0.8842876553535461 0.9473620057106018\n",
      "Candidate: in late 2004 , suleman made headlines by cutting howard stern ` s radio show from four citadel stations , citing stern ` s .suleman cut howard stern ` s radio show from four citadel stations in 2004 . he said it was because of stern ` s discussions regarding his move to sirius satellite radio . in late 2004 , suleman made headlines by cutting from four citadel stations , citing stern .\n",
      "Old Prob: 15925.253070543025, New Sent Prob: 15925.253070543025 \n",
      "\n",
      "similarity of the two sentences:  tensor(0.9917, device='cuda:0')\n",
      "candidate sentence and original sentence grammar validity probability, respectively:  0.8842876553535461 0.9473620057106018\n",
      "Candidate: in late 2004 , suleman made headlines by cutting howard stern ` s radio show from four citadel stations , citing stern ` s .suleman cut howard stern ` s radio show from four citadel stations in 2004 . he said it was because of stern ` s discussions regarding his move to sirius satellite radio . in late 2004 , suleman made headlines by cutting from four citadel stations , citing stern .\n",
      "Old Prob: 15925.253070543025, New Sent Prob: 15925.253070543025 \n",
      "\n",
      "similarity of the two sentences:  tensor(0.9382, device='cuda:0')\n",
      "candidate sentence and original sentence grammar validity probability, respectively:  0.8044986724853516 0.9473620057106018\n",
      "Candidate: in late 2004 , suleman made headlines by cutting howard stern ` s radio show from , citing stern ` s .suleman cut howard stern ` s radio show from in 2004 . he said it was because of stern ` s discussions regarding his move to sirius satellite radio . in late 2004 , suleman made headlines by cutting from , citing stern .\n",
      "Old Prob: 15925.253070543025, New Sent Prob: 18164.560316095718 \n",
      "\n"
     ]
    },
    {
     "name": "stdout",
     "output_type": "stream",
     "text": [
      "similarity of the two sentences:  tensor(0.9806, device='cuda:0')\n",
      "candidate sentence and original sentence grammar validity probability, respectively:  0.8331739902496338 0.9473620057106018\n",
      "Candidate: in late 2004 , suleman made headlines by cutting howard stern ` s from four citadel stations , citing stern ` s .suleman cut howard stern ` s from four citadel stations in 2004 . he said it was because of stern ` s discussions regarding his move to sirius satellite radio . in late 2004 , suleman made headlines by cutting from four citadel stations , citing stern .\n",
      "Old Prob: 15925.253070543025, New Sent Prob: 20108.147477489412 \n",
      "\n",
      "similarity of the two sentences:  tensor(0.9354, device='cuda:0')\n",
      "candidate sentence and original sentence grammar validity probability, respectively:  0.6702820658683777 0.9473620057106018\n",
      "Candidate: in late 2004 , suleman made headlines by cutting howard stern ` s , citing stern ` s .suleman cut howard stern ` s in 2004 . he said it was because of stern ` s discussions regarding his move to sirius satellite radio . in late 2004 , suleman made headlines by cutting from four citadel stations , citing stern .\n",
      "Old Prob: 15925.253070543025, New Sent Prob: 26172.432565754858 \n",
      "\n",
      "similarity of the two sentences:  tensor(0.9917, device='cuda:0')\n",
      "candidate sentence and original sentence grammar validity probability, respectively:  0.8842876553535461 0.9473620057106018\n",
      "Candidate: in late 2004 , suleman made headlines by cutting howard stern ` s radio show from four citadel stations , citing stern ` s .suleman cut howard stern ` s radio show from four citadel stations in 2004 . he said it was because of stern ` s discussions regarding his move to sirius satellite radio . in late 2004 , suleman made headlines by cutting from four citadel stations , citing stern .\n",
      "Old Prob: 15925.253070543025, New Sent Prob: 15925.253070543025 \n",
      "\n",
      "similarity of the two sentences:  tensor(0.9917, device='cuda:0')\n",
      "candidate sentence and original sentence grammar validity probability, respectively:  0.8842876553535461 0.9473620057106018\n",
      "Candidate: in late 2004 , suleman made headlines by cutting howard stern ` s radio show from four citadel stations , citing stern ` s .suleman cut howard stern ` s radio show from four citadel stations in 2004 . he said it was because of stern ` s discussions regarding his move to sirius satellite radio . in late 2004 , suleman made headlines by cutting from four citadel stations , citing stern .\n",
      "Old Prob: 15925.253070543025, New Sent Prob: 15925.253070543025 \n",
      "\n",
      "similarity of the two sentences:  tensor(0.9897, device='cuda:0')\n",
      "candidate sentence and original sentence grammar validity probability, respectively:  0.8864399194717407 0.9473620057106018\n",
      "Candidate: in late 2004 , suleman made headlines by cutting howard stern ` radio show from four citadel stations , citing stern ` .suleman cut howard stern ` radio show from four citadel stations in 2004 . he said it was because of stern ` discussions regarding his move to sirius satellite radio . in late 2004 , suleman made headlines by cutting from four citadel stations , citing stern .\n",
      "Old Prob: 15925.253070543025, New Sent Prob: 11806.443267028806 \n",
      "\n",
      "similarity of the two sentences:  tensor(0.9917, device='cuda:0')\n",
      "candidate sentence and original sentence grammar validity probability, respectively:  0.8842876553535461 0.9473620057106018\n",
      "Candidate: in late 2004 , suleman made headlines by cutting howard stern ` s radio show from four citadel stations , citing stern ` s .suleman cut howard stern ` s radio show from four citadel stations in 2004 . he said it was because of stern ` s discussions regarding his move to sirius satellite radio . in late 2004 , suleman made headlines by cutting from four citadel stations , citing stern .\n",
      "Old Prob: 15925.253070543025, New Sent Prob: 15925.253070543025 \n",
      "\n",
      "similarity of the two sentences:  tensor(0.9917, device='cuda:0')\n",
      "candidate sentence and original sentence grammar validity probability, respectively:  0.8842876553535461 0.9473620057106018\n",
      "Candidate: in late 2004 , suleman made headlines by cutting howard stern ` s radio show from four citadel stations , citing stern ` s .suleman cut howard stern ` s radio show from four citadel stations in 2004 . he said it was because of stern ` s discussions regarding his move to sirius satellite radio . in late 2004 , suleman made headlines by cutting from four citadel stations , citing stern .\n",
      "Old Prob: 15925.253070543025, New Sent Prob: 15925.253070543025 \n",
      "\n",
      "similarity of the two sentences:  tensor(0.9800, device='cuda:0')\n",
      "candidate sentence and original sentence grammar validity probability, respectively:  0.9175047874450684 0.9473620057106018\n",
      "Candidate: in late 2004 , suleman made headlines by cutting ` s radio show from four citadel stations , citing stern ` s .suleman cut ` s radio show from four citadel stations in 2004 . he said it was because of stern ` s discussions regarding his move to sirius satellite radio . in late 2004 , suleman made headlines by cutting from four citadel stations , citing stern .\n",
      "Old Prob: 15925.253070543025, New Sent Prob: 20238.48971689028 \n",
      "\n",
      "similarity of the two sentences:  tensor(0.9917, device='cuda:0')\n",
      "candidate sentence and original sentence grammar validity probability, respectively:  0.8842876553535461 0.9473620057106018\n",
      "Candidate: in late 2004 , suleman made headlines by cutting howard stern ` s radio show from four citadel stations , citing stern ` s .suleman cut howard stern ` s radio show from four citadel stations in 2004 . he said it was because of stern ` s discussions regarding his move to sirius satellite radio . in late 2004 , suleman made headlines by cutting from four citadel stations , citing stern .\n",
      "Old Prob: 15925.253070543025, New Sent Prob: 15925.253070543025 \n",
      "\n",
      "similarity of the two sentences:  tensor(0.9917, device='cuda:0')\n",
      "candidate sentence and original sentence grammar validity probability, respectively:  0.8842876553535461 0.9473620057106018\n",
      "Candidate: in late 2004 , suleman made headlines by cutting howard stern ` s radio show from four citadel stations , citing stern ` s .suleman cut howard stern ` s radio show from four citadel stations in 2004 . he said it was because of stern ` s discussions regarding his move to sirius satellite radio . in late 2004 , suleman made headlines by cutting from four citadel stations , citing stern .\n",
      "Old Prob: 15925.253070543025, New Sent Prob: 15925.253070543025 \n",
      "\n",
      "similarity of the two sentences:  tensor(0.9917, device='cuda:0')\n",
      "candidate sentence and original sentence grammar validity probability, respectively:  0.8842876553535461 0.9473620057106018\n",
      "Candidate: in late 2004 , suleman made headlines by cutting howard stern ` s radio show from four citadel stations , citing stern ` s .suleman cut howard stern ` s radio show from four citadel stations in 2004 . he said it was because of stern ` s discussions regarding his move to sirius satellite radio . in late 2004 , suleman made headlines by cutting from four citadel stations , citing stern .\n",
      "Old Prob: 15925.253070543025, New Sent Prob: 15925.253070543025 \n",
      "\n",
      "similarity of the two sentences:  tensor(0.9561, device='cuda:0')\n",
      "candidate sentence and original sentence grammar validity probability, respectively:  0.8141805529594421 0.9473620057106018\n",
      "Candidate: in late 2004 , suleman made by cutting howard stern ` s radio show from four citadel stations , citing stern ` s .suleman cut howard stern ` s radio show from four citadel stations in 2004 . he said it was because of stern ` s discussions regarding his move to sirius satellite radio . in late 2004 , suleman made by cutting from four citadel stations , citing stern .\n",
      "Old Prob: 15925.253070543025, New Sent Prob: 19094.127400974106 \n",
      "\n",
      "similarity of the two sentences:  tensor(0.9917, device='cuda:0')\n",
      "candidate sentence and original sentence grammar validity probability, respectively:  0.8842876553535461 0.9473620057106018\n",
      "Candidate: in late 2004 , suleman made headlines by cutting howard stern ` s radio show from four citadel stations , citing stern ` s .suleman cut howard stern ` s radio show from four citadel stations in 2004 . he said it was because of stern ` s discussions regarding his move to sirius satellite radio . in late 2004 , suleman made headlines by cutting from four citadel stations , citing stern .\n",
      "Old Prob: 15925.253070543025, New Sent Prob: 15925.253070543025 \n",
      "\n"
     ]
    },
    {
     "name": "stdout",
     "output_type": "stream",
     "text": [
      "similarity of the two sentences:  tensor(0.9917, device='cuda:0')\n",
      "candidate sentence and original sentence grammar validity probability, respectively:  0.8842876553535461 0.9473620057106018\n",
      "Candidate: in late 2004 , suleman made headlines by cutting howard stern ` s radio show from four citadel stations , citing stern ` s .suleman cut howard stern ` s radio show from four citadel stations in 2004 . he said it was because of stern ` s discussions regarding his move to sirius satellite radio . in late 2004 , suleman made headlines by cutting from four citadel stations , citing stern .\n",
      "Old Prob: 15925.253070543025, New Sent Prob: 15925.253070543025 \n",
      "\n",
      "similarity of the two sentences:  tensor(0.9607, device='cuda:0')\n",
      "candidate sentence and original sentence grammar validity probability, respectively:  0.8299577832221985 0.9473620057106018\n",
      "Candidate: in late 2004 , made headlines by cutting howard stern ` s radio show from four citadel stations , citing stern ` s .suleman cut howard stern ` s radio show from four citadel stations in 2004 . he said it was because of stern ` s discussions regarding his move to sirius satellite radio . in late 2004 , made headlines by cutting from four citadel stations , citing stern .\n",
      "Old Prob: 15925.253070543025, New Sent Prob: 15420.438553406893 \n",
      "\n",
      "similarity of the two sentences:  tensor(0.9824, device='cuda:0')\n",
      "candidate sentence and original sentence grammar validity probability, respectively:  0.7120057344436646 0.9473620057106018\n",
      "Candidate: in , suleman made headlines by cutting howard stern ` s radio show from four citadel stations , citing stern ` s .suleman cut howard stern ` s radio show from four citadel stations in 2004 . he said it was because of stern ` s discussions regarding his move to sirius satellite radio . in , suleman made headlines by cutting from four citadel stations , citing stern .\n",
      "Old Prob: 15925.253070543025, New Sent Prob: 5763.876521132877 \n",
      "\n",
      "similarity of the two sentences:  tensor(0.9912, device='cuda:0')\n",
      "candidate sentence and original sentence grammar validity probability, respectively:  0.8668438792228699 0.9473620057106018\n",
      "Candidate: in late 2004 , suleman made headlines by cutting howard stern ` s radio show from four citadel stations , citing stern ` s .suleman cut howard stern ` s radio show from four citadel stations in 2004 . he said it was because of stern ` s discussions regarding his move to sirius satellite radio . , suleman made headlines by cutting from four citadel stations , citing stern .\n",
      "Old Prob: 15925.253070543025, New Sent Prob: 14375.406810529836 \n",
      "\n",
      "similarity of the two sentences:  tensor(0.9917, device='cuda:0')\n",
      "candidate sentence and original sentence grammar validity probability, respectively:  0.8842876553535461 0.9473620057106018\n",
      "Candidate: in late 2004 , suleman made headlines by cutting howard stern ` s radio show from four citadel stations , citing stern ` s .suleman cut howard stern ` s radio show from four citadel stations in 2004 . he said it was because of stern ` s discussions regarding his move to sirius satellite radio . in late 2004 , suleman made headlines by cutting from four citadel stations , citing stern .\n",
      "Old Prob: 15925.253070543025, New Sent Prob: 15925.253070543025 \n",
      "\n",
      "similarity of the two sentences:  tensor(0.7781, device='cuda:0')\n",
      "candidate sentence and original sentence grammar validity probability, respectively:  0.02821304276585579 0.9473620057106018\n",
      "Candidate: at the end of 2004 the suleman made headliners by chopping howard aft ` s radio show from four citadel stations citing aft ` s . sterly .\n",
      "Old Prob: 15925.253070543025, New Sent Prob: 0 \n",
      "\n",
      "similarity of the two sentences:  tensor(0.9744, device='cuda:0')\n",
      "candidate sentence and original sentence grammar validity probability, respectively:  0.8941192626953125 0.9473620057106018\n",
      "Getting candidates for iteration:  2\n",
      "neg constraints:  headline headlines headlining headlined headline headliner stern sterns sterning sterned Stern sternly sterned sternness , ,s ,ing ,ed cut cuts cutting cut cutted cuttingly\n",
      "entities are:  ['late', '2004', 'suleman', 'four', 'four', '2004', 'late', '2004', 'four']\n",
      "input:  in late 2004 , suleman made headlines by cutting howard stern ` s radio show from four citadel stations , citing stern ` s .suleman cut howard stern ` s radio show from four citadel stations in 2004 . he said it was because of stern ` s . in late 2004 , suleman made headlines by cutting from four citadel stations , citing stern ..\theadline|headlines|headlining|headlined|headline|headliner|stern|sterns|sterning|sterned|Stern|sternly|sterned|sternness|,|,s|,ing|,ed|cut|cuts|cutting|cut|cutted|cuttingly\t\n",
      "new:  At the end of 2004 the Suleman made headliners by chopping Howard aft `s radio show from four citadel stations citing aft` s. suleman chopped Howard aft `s radio show from four citadel stations in 2004.\n",
      "\n",
      "similarity of the two sentences:  tensor(0.8697, device='cuda:0')\n",
      "candidate sentence and original sentence grammar validity probability, respectively:  0.6466609835624695 0.9473620057106018\n",
      "Candidate: in late 2004 , suleman made headlines by cutting howard ` s radio show from four citadel stations , citing ` s .suleman cut howard ` s radio show from four citadel stations in 2004 . he said it was because of ` s . in late 2004 , suleman made headlines by cutting from four citadel stations , citing .\n",
      "Old Prob: 30301.166134198324, New Sent Prob: 0 \n",
      "\n",
      "similarity of the two sentences:  tensor(0.9744, device='cuda:0')\n",
      "candidate sentence and original sentence grammar validity probability, respectively:  0.08555496484041214 0.9473620057106018\n",
      "Candidate: in late 2004 , suleman made headlines by cutting howard stern ` s radio show from four citadel stations , ` s .suleman cut howard stern ` s radio show from four citadel stations in 2004 . he said it was because of stern ` s . in late 2004 , suleman made headlines by cutting from four citadel stations .\n",
      "Old Prob: 30301.166134198324, New Sent Prob: 0 \n",
      "\n",
      "similarity of the two sentences:  tensor(0.9744, device='cuda:0')\n",
      "candidate sentence and original sentence grammar validity probability, respectively:  0.08555496484041214 0.9473620057106018\n",
      "Candidate: in late 2004 , suleman made headlines by cutting howard stern ` s radio show from four citadel stations , ` s .suleman cut howard stern ` s radio show from four citadel stations in 2004 . he said it was because of stern ` s . in late 2004 , suleman made headlines by cutting from four citadel stations .\n",
      "Old Prob: 30301.166134198324, New Sent Prob: 0 \n",
      "\n",
      "similarity of the two sentences:  tensor(0.9023, device='cuda:0')\n",
      "candidate sentence and original sentence grammar validity probability, respectively:  0.8982688784599304 0.9473620057106018\n",
      "Candidate: in late 2004 , suleman made headlines by cutting howard stern ` s radio show from , citing stern ` s .suleman cut howard stern ` s radio show from in 2004 . he said it was because of stern ` s . in late 2004 , suleman made headlines by cutting from , citing stern .\n",
      "Old Prob: 30301.166134198324, New Sent Prob: 26794.571711634322 \n",
      "\n",
      "similarity of the two sentences:  tensor(0.8914, device='cuda:0')\n",
      "candidate sentence and original sentence grammar validity probability, respectively:  0.7186792492866516 0.9473620057106018\n",
      "Candidate: in late 2004 , suleman made headlines by cutting howard stern ` s radio show , citing stern ` s .suleman cut howard stern ` s radio show in 2004 . he said it was because of stern ` s . in late 2004 , suleman made headlines by cutting , citing stern .\n",
      "Old Prob: 30301.166134198324, New Sent Prob: 35270.81906123695 \n",
      "\n",
      "similarity of the two sentences:  tensor(0.9648, device='cuda:0')\n",
      "candidate sentence and original sentence grammar validity probability, respectively:  0.7220736145973206 0.9473620057106018\n",
      "Candidate: in late 2004 , suleman made headlines by cutting howard stern ` s radio show from four citadel stations , citing stern ` s .suleman cut howard stern ` s radio show from four citadel stations in 2004 . he said it was because of stern ` s . in late 2004 , suleman made headlines by , citing stern .\n",
      "Old Prob: 30301.166134198324, New Sent Prob: 32372.97475583294 \n",
      "\n",
      "similarity of the two sentences:  tensor(0.9648, device='cuda:0')\n",
      "candidate sentence and original sentence grammar validity probability, respectively:  0.7220736145973206 0.9473620057106018\n",
      "Candidate: in late 2004 , suleman made headlines by cutting howard stern ` s radio show from four citadel stations , citing stern ` s .suleman cut howard stern ` s radio show from four citadel stations in 2004 . he said it was because of stern ` s . in late 2004 , suleman made headlines by , citing stern .\n",
      "Old Prob: 30301.166134198324, New Sent Prob: 32372.97475583294 \n",
      "\n"
     ]
    },
    {
     "name": "stdout",
     "output_type": "stream",
     "text": [
      "similarity of the two sentences:  tensor(0.9654, device='cuda:0')\n",
      "candidate sentence and original sentence grammar validity probability, respectively:  0.9374380111694336 0.9473620057106018\n",
      "Candidate: in late 2004 , suleman made headlines by cutting howard stern ` s radio show from four citadel stations , citing stern ` s .suleman cut howard stern ` s radio show from four citadel stations in 2004 . he said it was because of stern ` s . in late 2004 , suleman made headlines , citing stern .\n",
      "Old Prob: 30301.166134198324, New Sent Prob: 35252.91650570291 \n",
      "\n",
      "similarity of the two sentences:  tensor(0.9294, device='cuda:0')\n",
      "candidate sentence and original sentence grammar validity probability, respectively:  0.7675403356552124 0.9473620057106018\n",
      "Candidate: in late 2004 , suleman made by cutting howard stern ` s radio show from four citadel stations , citing stern ` s .suleman cut howard stern ` s radio show from four citadel stations in 2004 . he said it was because of stern ` s . in late 2004 , suleman made by cutting from four citadel stations , citing stern .\n",
      "Old Prob: 30301.166134198324, New Sent Prob: 32340.850867056768 \n",
      "\n",
      "similarity of the two sentences:  tensor(0.9621, device='cuda:0')\n",
      "candidate sentence and original sentence grammar validity probability, respectively:  0.5634819865226746 0.9473620057106018\n",
      "Candidate: in late 2004 , suleman made headlines by cutting howard stern ` s radio show from four citadel stations , citing stern ` s .suleman cut howard stern ` s radio show from four citadel stations in 2004 . he said it was because of stern ` s . in late 2004 , suleman , citing stern .\n",
      "Old Prob: 30301.166134198324, New Sent Prob: 0 \n",
      "\n",
      "similarity of the two sentences:  tensor(0.9505, device='cuda:0')\n",
      "candidate sentence and original sentence grammar validity probability, respectively:  0.8077270984649658 0.9473620057106018\n",
      "Candidate: in late 2004 , made headlines by cutting howard stern ` s radio show from four citadel stations , citing stern ` s .suleman cut howard stern ` s radio show from four citadel stations in 2004 . he said it was because of stern ` s . in late 2004 , made headlines by cutting from four citadel stations , citing stern .\n",
      "Old Prob: 30301.166134198324, New Sent Prob: 25042.495341060174 \n",
      "\n",
      "similarity of the two sentences:  tensor(0.9615, device='cuda:0')\n",
      "candidate sentence and original sentence grammar validity probability, respectively:  0.6087821125984192 0.9473620057106018\n",
      "Candidate: in , suleman made headlines by cutting howard stern ` s radio show from four citadel stations , citing stern ` s .suleman cut howard stern ` s radio show from four citadel stations in 2004 . he said it was because of stern ` s . in , suleman made headlines by cutting from four citadel stations , citing stern .\n",
      "Old Prob: 30301.166134198324, New Sent Prob: 0 \n",
      "\n",
      "similarity of the two sentences:  tensor(0.9734, device='cuda:0')\n",
      "candidate sentence and original sentence grammar validity probability, respectively:  0.7303981184959412 0.9473620057106018\n",
      "Candidate: in late 2004 , suleman made headlines by cutting howard stern ` s radio show from four citadel stations , citing stern ` s .suleman cut howard stern ` s radio show from four citadel stations in 2004 . he said it was because of stern ` s . , suleman made headlines by cutting from four citadel stations , citing stern .\n",
      "Old Prob: 30301.166134198324, New Sent Prob: 23499.255255993026 \n",
      "\n",
      "similarity of the two sentences:  tensor(0.9737, device='cuda:0')\n",
      "candidate sentence and original sentence grammar validity probability, respectively:  0.939220666885376 0.9473620057106018\n",
      "Candidate: in late 2004 , suleman made headlines by cutting howard stern ` radio show from four citadel stations , citing stern ` .suleman cut howard stern ` radio show from four citadel stations in 2004 . he said it was because of stern ` . in late 2004 , suleman made headlines by cutting from four citadel stations , citing stern .\n",
      "Old Prob: 30301.166134198324, New Sent Prob: 24959.675076853095 \n",
      "\n",
      "similarity of the two sentences:  tensor(0.8697, device='cuda:0')\n",
      "candidate sentence and original sentence grammar validity probability, respectively:  0.6466609835624695 0.9473620057106018\n",
      "Candidate: in late 2004 , suleman made headlines by cutting howard ` s radio show from four citadel stations , citing ` s .suleman cut howard ` s radio show from four citadel stations in 2004 . he said it was because of ` s . in late 2004 , suleman made headlines by cutting from four citadel stations , citing .\n",
      "Old Prob: 30301.166134198324, New Sent Prob: 0 \n",
      "\n",
      "similarity of the two sentences:  tensor(0.9753, device='cuda:0')\n",
      "candidate sentence and original sentence grammar validity probability, respectively:  0.36695700883865356 0.9473620057106018\n",
      "Candidate: in late 2004 , suleman made headlines by cutting howard stern ` s radio show from four citadel stations , citing stern ` s .suleman cut howard stern ` s radio show from four citadel stations in 2004 . he said it was because of in late 2004 , suleman made headlines by cutting from four citadel stations , citing stern .\n",
      "Old Prob: 30301.166134198324, New Sent Prob: 0 \n",
      "\n",
      "similarity of the two sentences:  tensor(0.9734, device='cuda:0')\n",
      "candidate sentence and original sentence grammar validity probability, respectively:  0.1976853311061859 0.9473620057106018\n",
      "Candidate: in late 2004 , suleman made headlines by cutting howard stern ` s radio show from four citadel stations , citing stern ` s .suleman cut howard stern ` s radio show from four citadel stations in 2004 . he said it was because of , suleman made headlines by cutting from four citadel stations , citing stern .\n",
      "Old Prob: 30301.166134198324, New Sent Prob: 0 \n",
      "\n",
      "similarity of the two sentences:  tensor(0.9739, device='cuda:0')\n",
      "candidate sentence and original sentence grammar validity probability, respectively:  0.31336766481399536 0.9473620057106018\n",
      "Candidate: in late 2004 , suleman made headlines by cutting howard stern ` s radio show from four citadel stations , citing stern ` s .suleman cut howard stern ` s radio show from four citadel stations in 2004 . he said it was because , suleman made headlines by cutting from four citadel stations , citing stern .\n",
      "Old Prob: 30301.166134198324, New Sent Prob: 0 \n",
      "\n",
      "similarity of the two sentences:  tensor(0.9669, device='cuda:0')\n",
      "candidate sentence and original sentence grammar validity probability, respectively:  0.4123954772949219 0.9473620057106018\n",
      "Candidate: in late 2004 , suleman made headlines by cutting howard stern ` s radio show from four citadel stations , citing stern ` s .suleman cut howard stern ` s radio show from four citadel stations in 2004 . he said it was because , citing stern .\n",
      "Old Prob: 30301.166134198324, New Sent Prob: 0 \n",
      "\n",
      "similarity of the two sentences:  tensor(0.9589, device='cuda:0')\n",
      "candidate sentence and original sentence grammar validity probability, respectively:  0.2718517482280731 0.9473620057106018\n",
      "Candidate: in late 2004 , suleman made headlines by cutting howard stern ` s radio show from four citadel stations , citing stern ` s .suleman cut howard stern ` s radio show from four citadel stations in 2004 . he said it was , citing stern .\n",
      "Old Prob: 30301.166134198324, New Sent Prob: 0 \n",
      "\n",
      "similarity of the two sentences:  tensor(0.9645, device='cuda:0')\n",
      "candidate sentence and original sentence grammar validity probability, respectively:  0.7056077122688293 0.9473620057106018\n",
      "Candidate: in late 2004 , suleman made headlines by cutting howard stern ` s radio show from four citadel stations , citing stern ` s .suleman cut howard stern ` s radio show from four citadel stations in 2004 . he said it , citing stern .\n",
      "Old Prob: 30301.166134198324, New Sent Prob: 28965.864738859855 \n",
      "\n",
      "similarity of the two sentences:  tensor(0.9745, device='cuda:0')\n",
      "candidate sentence and original sentence grammar validity probability, respectively:  0.541714608669281 0.9473620057106018\n",
      "Candidate: in late 2004 , suleman made headlines by cutting howard stern ` s radio show from four citadel stations , citing stern ` s .suleman cut howard stern ` s radio show from four citadel stations in 2004 . he said was because of stern ` s . in late 2004 , suleman made headlines by cutting from four citadel stations , citing stern .\n",
      "Old Prob: 30301.166134198324, New Sent Prob: 0 \n",
      "\n"
     ]
    },
    {
     "name": "stdout",
     "output_type": "stream",
     "text": [
      "similarity of the two sentences:  tensor(0.9681, device='cuda:0')\n",
      "candidate sentence and original sentence grammar validity probability, respectively:  0.40336719155311584 0.9473620057106018\n",
      "Candidate: in late 2004 , suleman made headlines by cutting howard stern ` s radio show from four citadel stations , citing stern ` s .suleman cut howard stern ` s radio show from four citadel stations in 2004 . he said , citing stern .\n",
      "Old Prob: 30301.166134198324, New Sent Prob: 0 \n",
      "\n",
      "similarity of the two sentences:  tensor(0.9681, device='cuda:0')\n",
      "candidate sentence and original sentence grammar validity probability, respectively:  0.40336719155311584 0.9473620057106018\n",
      "Candidate: in late 2004 , suleman made headlines by cutting howard stern ` s radio show from four citadel stations , citing stern ` s .suleman cut howard stern ` s radio show from four citadel stations in 2004 . he said , citing stern .\n",
      "Old Prob: 30301.166134198324, New Sent Prob: 0 \n",
      "\n",
      "similarity of the two sentences:  tensor(0.9681, device='cuda:0')\n",
      "candidate sentence and original sentence grammar validity probability, respectively:  0.11012614518404007 0.9473620057106018\n",
      "Candidate: in late 2004 , suleman made headlines by cutting howard stern ` s radio show from four citadel stations , citing stern ` s .suleman cut howard stern ` s radio show from four citadel stations in 2004 . he , citing stern .\n",
      "Old Prob: 30301.166134198324, New Sent Prob: 0 \n",
      "\n",
      "similarity of the two sentences:  tensor(0.9743, device='cuda:0')\n",
      "candidate sentence and original sentence grammar validity probability, respectively:  0.8729188442230225 0.9473620057106018\n",
      "Candidate: in late 2004 , suleman made headlines by cutting howard stern ` s radio show from four citadel stations , citing stern ` s .suleman cut howard stern ` s radio show from four citadel stations in 2004 . said it was because of stern ` s . in late 2004 , suleman made headlines by cutting from four citadel stations , citing stern .\n",
      "Old Prob: 30301.166134198324, New Sent Prob: 26805.431735637165 \n",
      "\n",
      "similarity of the two sentences:  tensor(0.9664, device='cuda:0')\n",
      "candidate sentence and original sentence grammar validity probability, respectively:  0.7513138055801392 0.9473620057106018\n",
      "Candidate: in late 2004 , suleman made headlines by cutting howard stern ` s radio show from four citadel stations , citing stern ` s .suleman cut howard stern ` s radio show from four citadel stations in 2004 . , citing stern .\n",
      "Old Prob: 30301.166134198324, New Sent Prob: 24937.399826936395 \n",
      "\n",
      "similarity of the two sentences:  tensor(0.9565, device='cuda:0')\n",
      "candidate sentence and original sentence grammar validity probability, respectively:  0.5455335378646851 0.9473620057106018\n",
      "Candidate: in late , suleman made headlines by cutting howard stern ` s radio show from four citadel stations , citing stern ` s .suleman cut howard stern ` s radio show from four citadel stations in . he said it was because of stern ` s . in late , suleman made headlines by cutting from four citadel stations , citing stern .\n",
      "Old Prob: 30301.166134198324, New Sent Prob: 0 \n",
      "\n",
      "similarity of the two sentences:  tensor(0.9715, device='cuda:0')\n",
      "candidate sentence and original sentence grammar validity probability, respectively:  0.8973164558410645 0.9473620057106018\n",
      "Candidate: in late 2004 , suleman made headlines by cutting howard stern ` s radio show from four citadel stations , citing stern ` s .suleman cut howard stern ` s radio show from four citadel stations . he said it was because of stern ` s . in late 2004 , suleman made headlines by cutting from four citadel stations , citing stern .\n",
      "Old Prob: 30301.166134198324, New Sent Prob: 25749.51096696892 \n",
      "\n",
      "similarity of the two sentences:  tensor(0.9023, device='cuda:0')\n",
      "candidate sentence and original sentence grammar validity probability, respectively:  0.8982688784599304 0.9473620057106018\n",
      "Candidate: in late 2004 , suleman made headlines by cutting howard stern ` s radio show from , citing stern ` s .suleman cut howard stern ` s radio show from in 2004 . he said it was because of stern ` s . in late 2004 , suleman made headlines by cutting from , citing stern .\n",
      "Old Prob: 30301.166134198324, New Sent Prob: 26794.571711634322 \n",
      "\n",
      "similarity of the two sentences:  tensor(0.9711, device='cuda:0')\n",
      "candidate sentence and original sentence grammar validity probability, respectively:  0.8116037249565125 0.9473620057106018\n",
      "Candidate: in late 2004 , suleman made headlines by cutting howard stern ` s radio show from four citadel stations , citing stern ` s .suleman cut howard stern ` s radio show from . he said it was because of stern ` s . in late 2004 , suleman made headlines by cutting from four citadel stations , citing stern .\n",
      "Old Prob: 30301.166134198324, New Sent Prob: 25135.287495320157 \n",
      "\n",
      "similarity of the two sentences:  tensor(0.9687, device='cuda:0')\n",
      "candidate sentence and original sentence grammar validity probability, respectively:  0.8534902334213257 0.9473620057106018\n",
      "Candidate: in late 2004 , suleman made headlines by cutting howard stern ` s radio show from four citadel stations , citing stern ` s .suleman cut howard stern ` s radio show . he said it was because of stern ` s . in late 2004 , suleman made headlines by cutting from four citadel stations , citing stern .\n",
      "Old Prob: 30301.166134198324, New Sent Prob: 27808.244394083395 \n",
      "\n",
      "similarity of the two sentences:  tensor(0.9554, device='cuda:0')\n",
      "candidate sentence and original sentence grammar validity probability, respectively:  0.9218460321426392 0.9473620057106018\n",
      "Candidate: in late 2004 , suleman made headlines by cutting howard stern ` s from four citadel stations , citing stern ` s .suleman cut howard stern ` s from four citadel stations in 2004 . he said it was because of stern ` s . in late 2004 , suleman made headlines by cutting from four citadel stations , citing stern .\n",
      "Old Prob: 30301.166134198324, New Sent Prob: 32811.59522464498 \n",
      "\n",
      "similarity of the two sentences:  tensor(0.9628, device='cuda:0')\n",
      "candidate sentence and original sentence grammar validity probability, respectively:  0.2710500657558441 0.9473620057106018\n",
      "Candidate: in late 2004 , suleman made headlines by cutting howard stern ` s radio show from four citadel stations , citing stern ` s .suleman cut howard stern ` s . he said it was because of stern ` s . in late 2004 , suleman made headlines by cutting from four citadel stations , citing stern .\n",
      "Old Prob: 30301.166134198324, New Sent Prob: 0 \n",
      "\n",
      "similarity of the two sentences:  tensor(0.9737, device='cuda:0')\n",
      "candidate sentence and original sentence grammar validity probability, respectively:  0.939220666885376 0.9473620057106018\n",
      "Candidate: in late 2004 , suleman made headlines by cutting howard stern ` radio show from four citadel stations , citing stern ` .suleman cut howard stern ` radio show from four citadel stations in 2004 . he said it was because of stern ` . in late 2004 , suleman made headlines by cutting from four citadel stations , citing stern .\n",
      "Old Prob: 30301.166134198324, New Sent Prob: 24959.675076853095 \n",
      "\n",
      "similarity of the two sentences:  tensor(0.9737, device='cuda:0')\n",
      "candidate sentence and original sentence grammar validity probability, respectively:  0.939220666885376 0.9473620057106018\n",
      "Candidate: in late 2004 , suleman made headlines by cutting howard stern ` radio show from four citadel stations , citing stern ` .suleman cut howard stern ` radio show from four citadel stations in 2004 . he said it was because of stern ` . in late 2004 , suleman made headlines by cutting from four citadel stations , citing stern .\n",
      "Old Prob: 30301.166134198324, New Sent Prob: 24959.675076853095 \n",
      "\n",
      "similarity of the two sentences:  tensor(0.9606, device='cuda:0')\n",
      "candidate sentence and original sentence grammar validity probability, respectively:  0.901153028011322 0.9473620057106018\n",
      "Candidate: in late 2004 , suleman made headlines by cutting ` s radio show from four citadel stations , citing stern ` s .suleman cut ` s radio show from four citadel stations in 2004 . he said it was because of stern ` s . in late 2004 , suleman made headlines by cutting from four citadel stations , citing stern .\n",
      "Old Prob: 30301.166134198324, New Sent Prob: 35423.831365167825 \n",
      "\n"
     ]
    },
    {
     "name": "stdout",
     "output_type": "stream",
     "text": [
      "similarity of the two sentences:  tensor(0.9719, device='cuda:0')\n",
      "candidate sentence and original sentence grammar validity probability, respectively:  0.0938168615102768 0.9473620057106018\n",
      "Candidate: in late 2004 , suleman made headlines by cutting howard stern ` s radio show from four citadel stations , citing stern ` s .suleman radio show from four citadel stations in 2004 . he said it was because of stern ` s . in late 2004 , suleman made headlines by cutting from four citadel stations , citing stern .\n",
      "Old Prob: 30301.166134198324, New Sent Prob: 0 \n",
      "\n",
      "similarity of the two sentences:  tensor(0.9505, device='cuda:0')\n",
      "candidate sentence and original sentence grammar validity probability, respectively:  0.8077270984649658 0.9473620057106018\n",
      "Candidate: in late 2004 , made headlines by cutting howard stern ` s radio show from four citadel stations , citing stern ` s .suleman cut howard stern ` s radio show from four citadel stations in 2004 . he said it was because of stern ` s . in late 2004 , made headlines by cutting from four citadel stations , citing stern .\n",
      "Old Prob: 30301.166134198324, New Sent Prob: 25042.495341060174 \n",
      "\n",
      "similarity of the two sentences:  tensor(0.9709, device='cuda:0')\n",
      "candidate sentence and original sentence grammar validity probability, respectively:  0.10232597589492798 0.9473620057106018\n",
      "Candidate: in late 2004 , suleman made headlines by cutting howard stern ` s radio show from four citadel stations , citing stern ` s . radio show from four citadel stations in 2004 . he said it was because of stern ` s . in late 2004 , suleman made headlines by cutting from four citadel stations , citing stern .\n",
      "Old Prob: 30301.166134198324, New Sent Prob: 0 \n",
      "\n",
      "similarity of the two sentences:  tensor(0.9709, device='cuda:0')\n",
      "candidate sentence and original sentence grammar validity probability, respectively:  0.10232597589492798 0.9473620057106018\n",
      "Candidate: in late 2004 , suleman made headlines by cutting howard stern ` s radio show from four citadel stations , citing stern ` s . radio show from four citadel stations in 2004 . he said it was because of stern ` s . in late 2004 , suleman made headlines by cutting from four citadel stations , citing stern .\n",
      "Old Prob: 30301.166134198324, New Sent Prob: 0 \n",
      "\n",
      "similarity of the two sentences:  tensor(0.9737, device='cuda:0')\n",
      "candidate sentence and original sentence grammar validity probability, respectively:  0.939220666885376 0.9473620057106018\n",
      "Candidate: in late 2004 , suleman made headlines by cutting howard stern ` radio show from four citadel stations , citing stern ` .suleman cut howard stern ` radio show from four citadel stations in 2004 . he said it was because of stern ` . in late 2004 , suleman made headlines by cutting from four citadel stations , citing stern .\n",
      "Old Prob: 30301.166134198324, New Sent Prob: 24959.675076853095 \n",
      "\n",
      "similarity of the two sentences:  tensor(0.8697, device='cuda:0')\n",
      "candidate sentence and original sentence grammar validity probability, respectively:  0.6466609835624695 0.9473620057106018\n",
      "Candidate: in late 2004 , suleman made headlines by cutting howard ` s radio show from four citadel stations , citing ` s .suleman cut howard ` s radio show from four citadel stations in 2004 . he said it was because of ` s . in late 2004 , suleman made headlines by cutting from four citadel stations , citing .\n",
      "Old Prob: 30301.166134198324, New Sent Prob: 0 \n",
      "\n",
      "similarity of the two sentences:  tensor(0.9753, device='cuda:0')\n",
      "candidate sentence and original sentence grammar validity probability, respectively:  0.36695700883865356 0.9473620057106018\n",
      "Candidate: in late 2004 , suleman made headlines by cutting howard stern ` s radio show from four citadel stations , citing stern ` s .suleman cut howard stern ` s radio show from four citadel stations in 2004 . he said it was because of in late 2004 , suleman made headlines by cutting from four citadel stations , citing stern .\n",
      "Old Prob: 30301.166134198324, New Sent Prob: 0 \n",
      "\n",
      "similarity of the two sentences:  tensor(0.9744, device='cuda:0')\n",
      "candidate sentence and original sentence grammar validity probability, respectively:  0.8941192626953125 0.9473620057106018\n",
      "Candidate: in late 2004 , suleman made headlines by cutting howard stern ` s radio show from four citadel stations , citing stern ` s .suleman cut howard stern ` s radio show from four citadel stations in 2004 . he said it was because of stern ` s . in late 2004 , suleman made headlines by cutting from four citadel stations , citing stern .\n",
      "Old Prob: 30301.166134198324, New Sent Prob: 30301.166134198324 \n",
      "\n",
      "similarity of the two sentences:  tensor(0.9744, device='cuda:0')\n",
      "candidate sentence and original sentence grammar validity probability, respectively:  0.8941192626953125 0.9473620057106018\n",
      "Candidate: in late 2004 , suleman made headlines by cutting howard stern ` s radio show from four citadel stations , citing stern ` s .suleman cut howard stern ` s radio show from four citadel stations in 2004 . he said it was because of stern ` s . in late 2004 , suleman made headlines by cutting from four citadel stations , citing stern .\n",
      "Old Prob: 30301.166134198324, New Sent Prob: 30301.166134198324 \n",
      "\n",
      "similarity of the two sentences:  tensor(0.9023, device='cuda:0')\n",
      "candidate sentence and original sentence grammar validity probability, respectively:  0.8982688784599304 0.9473620057106018\n",
      "Candidate: in late 2004 , suleman made headlines by cutting howard stern ` s radio show from , citing stern ` s .suleman cut howard stern ` s radio show from in 2004 . he said it was because of stern ` s . in late 2004 , suleman made headlines by cutting from , citing stern .\n",
      "Old Prob: 30301.166134198324, New Sent Prob: 26794.571711634322 \n",
      "\n",
      "similarity of the two sentences:  tensor(0.9554, device='cuda:0')\n",
      "candidate sentence and original sentence grammar validity probability, respectively:  0.9218460321426392 0.9473620057106018\n",
      "Candidate: in late 2004 , suleman made headlines by cutting howard stern ` s from four citadel stations , citing stern ` s .suleman cut howard stern ` s from four citadel stations in 2004 . he said it was because of stern ` s . in late 2004 , suleman made headlines by cutting from four citadel stations , citing stern .\n",
      "Old Prob: 30301.166134198324, New Sent Prob: 32811.59522464498 \n",
      "\n",
      "similarity of the two sentences:  tensor(0.8853, device='cuda:0')\n",
      "candidate sentence and original sentence grammar validity probability, respectively:  0.8798466920852661 0.9473620057106018\n",
      "Candidate: in late 2004 , suleman made headlines by cutting howard stern ` s , citing stern ` s .suleman cut howard stern ` s in 2004 . he said it was because of stern ` s . in late 2004 , suleman made headlines by cutting from four citadel stations , citing stern .\n",
      "Old Prob: 30301.166134198324, New Sent Prob: 38992.782030958035 \n",
      "\n",
      "similarity of the two sentences:  tensor(0.9744, device='cuda:0')\n",
      "candidate sentence and original sentence grammar validity probability, respectively:  0.8941192626953125 0.9473620057106018\n",
      "Candidate: in late 2004 , suleman made headlines by cutting howard stern ` s radio show from four citadel stations , citing stern ` s .suleman cut howard stern ` s radio show from four citadel stations in 2004 . he said it was because of stern ` s . in late 2004 , suleman made headlines by cutting from four citadel stations , citing stern .\n",
      "Old Prob: 30301.166134198324, New Sent Prob: 30301.166134198324 \n",
      "\n",
      "similarity of the two sentences:  tensor(0.9744, device='cuda:0')\n",
      "candidate sentence and original sentence grammar validity probability, respectively:  0.8941192626953125 0.9473620057106018\n",
      "Candidate: in late 2004 , suleman made headlines by cutting howard stern ` s radio show from four citadel stations , citing stern ` s .suleman cut howard stern ` s radio show from four citadel stations in 2004 . he said it was because of stern ` s . in late 2004 , suleman made headlines by cutting from four citadel stations , citing stern .\n",
      "Old Prob: 30301.166134198324, New Sent Prob: 30301.166134198324 \n",
      "\n",
      "similarity of the two sentences:  tensor(0.9737, device='cuda:0')\n",
      "candidate sentence and original sentence grammar validity probability, respectively:  0.939220666885376 0.9473620057106018\n",
      "Candidate: in late 2004 , suleman made headlines by cutting howard stern ` radio show from four citadel stations , citing stern ` .suleman cut howard stern ` radio show from four citadel stations in 2004 . he said it was because of stern ` . in late 2004 , suleman made headlines by cutting from four citadel stations , citing stern .\n",
      "Old Prob: 30301.166134198324, New Sent Prob: 24959.675076853095 \n",
      "\n"
     ]
    },
    {
     "name": "stdout",
     "output_type": "stream",
     "text": [
      "similarity of the two sentences:  tensor(0.9744, device='cuda:0')\n",
      "candidate sentence and original sentence grammar validity probability, respectively:  0.8941192626953125 0.9473620057106018\n",
      "Candidate: in late 2004 , suleman made headlines by cutting howard stern ` s radio show from four citadel stations , citing stern ` s .suleman cut howard stern ` s radio show from four citadel stations in 2004 . he said it was because of stern ` s . in late 2004 , suleman made headlines by cutting from four citadel stations , citing stern .\n",
      "Old Prob: 30301.166134198324, New Sent Prob: 30301.166134198324 \n",
      "\n",
      "similarity of the two sentences:  tensor(0.9744, device='cuda:0')\n",
      "candidate sentence and original sentence grammar validity probability, respectively:  0.8941192626953125 0.9473620057106018\n",
      "Candidate: in late 2004 , suleman made headlines by cutting howard stern ` s radio show from four citadel stations , citing stern ` s .suleman cut howard stern ` s radio show from four citadel stations in 2004 . he said it was because of stern ` s . in late 2004 , suleman made headlines by cutting from four citadel stations , citing stern .\n",
      "Old Prob: 30301.166134198324, New Sent Prob: 30301.166134198324 \n",
      "\n",
      "similarity of the two sentences:  tensor(0.9606, device='cuda:0')\n",
      "candidate sentence and original sentence grammar validity probability, respectively:  0.901153028011322 0.9473620057106018\n",
      "Candidate: in late 2004 , suleman made headlines by cutting ` s radio show from four citadel stations , citing stern ` s .suleman cut ` s radio show from four citadel stations in 2004 . he said it was because of stern ` s . in late 2004 , suleman made headlines by cutting from four citadel stations , citing stern .\n",
      "Old Prob: 30301.166134198324, New Sent Prob: 35423.831365167825 \n",
      "\n",
      "similarity of the two sentences:  tensor(0.9744, device='cuda:0')\n",
      "candidate sentence and original sentence grammar validity probability, respectively:  0.8941192626953125 0.9473620057106018\n",
      "Candidate: in late 2004 , suleman made headlines by cutting howard stern ` s radio show from four citadel stations , citing stern ` s .suleman cut howard stern ` s radio show from four citadel stations in 2004 . he said it was because of stern ` s . in late 2004 , suleman made headlines by cutting from four citadel stations , citing stern .\n",
      "Old Prob: 30301.166134198324, New Sent Prob: 30301.166134198324 \n",
      "\n",
      "similarity of the two sentences:  tensor(0.9744, device='cuda:0')\n",
      "candidate sentence and original sentence grammar validity probability, respectively:  0.8941192626953125 0.9473620057106018\n",
      "Candidate: in late 2004 , suleman made headlines by cutting howard stern ` s radio show from four citadel stations , citing stern ` s .suleman cut howard stern ` s radio show from four citadel stations in 2004 . he said it was because of stern ` s . in late 2004 , suleman made headlines by cutting from four citadel stations , citing stern .\n",
      "Old Prob: 30301.166134198324, New Sent Prob: 30301.166134198324 \n",
      "\n",
      "similarity of the two sentences:  tensor(0.9744, device='cuda:0')\n",
      "candidate sentence and original sentence grammar validity probability, respectively:  0.8941192626953125 0.9473620057106018\n",
      "Candidate: in late 2004 , suleman made headlines by cutting howard stern ` s radio show from four citadel stations , citing stern ` s .suleman cut howard stern ` s radio show from four citadel stations in 2004 . he said it was because of stern ` s . in late 2004 , suleman made headlines by cutting from four citadel stations , citing stern .\n",
      "Old Prob: 30301.166134198324, New Sent Prob: 30301.166134198324 \n",
      "\n",
      "similarity of the two sentences:  tensor(0.9744, device='cuda:0')\n",
      "candidate sentence and original sentence grammar validity probability, respectively:  0.8941192626953125 0.9473620057106018\n",
      "Candidate: in late 2004 , suleman made headlines by cutting howard stern ` s radio show from four citadel stations , citing stern ` s .suleman cut howard stern ` s radio show from four citadel stations in 2004 . he said it was because of stern ` s . in late 2004 , suleman made headlines by cutting from four citadel stations , citing stern .\n",
      "Old Prob: 30301.166134198324, New Sent Prob: 30301.166134198324 \n",
      "\n",
      "similarity of the two sentences:  tensor(0.9294, device='cuda:0')\n",
      "candidate sentence and original sentence grammar validity probability, respectively:  0.7675403356552124 0.9473620057106018\n",
      "Candidate: in late 2004 , suleman made by cutting howard stern ` s radio show from four citadel stations , citing stern ` s .suleman cut howard stern ` s radio show from four citadel stations in 2004 . he said it was because of stern ` s . in late 2004 , suleman made by cutting from four citadel stations , citing stern .\n",
      "Old Prob: 30301.166134198324, New Sent Prob: 32340.850867056768 \n",
      "\n",
      "similarity of the two sentences:  tensor(0.9744, device='cuda:0')\n",
      "candidate sentence and original sentence grammar validity probability, respectively:  0.8941192626953125 0.9473620057106018\n",
      "Candidate: in late 2004 , suleman made headlines by cutting howard stern ` s radio show from four citadel stations , citing stern ` s .suleman cut howard stern ` s radio show from four citadel stations in 2004 . he said it was because of stern ` s . in late 2004 , suleman made headlines by cutting from four citadel stations , citing stern .\n",
      "Old Prob: 30301.166134198324, New Sent Prob: 30301.166134198324 \n",
      "\n",
      "similarity of the two sentences:  tensor(0.9505, device='cuda:0')\n",
      "candidate sentence and original sentence grammar validity probability, respectively:  0.8077270984649658 0.9473620057106018\n",
      "Candidate: in late 2004 , made headlines by cutting howard stern ` s radio show from four citadel stations , citing stern ` s .suleman cut howard stern ` s radio show from four citadel stations in 2004 . he said it was because of stern ` s . in late 2004 , made headlines by cutting from four citadel stations , citing stern .\n",
      "Old Prob: 30301.166134198324, New Sent Prob: 25042.495341060174 \n",
      "\n",
      "similarity of the two sentences:  tensor(0.9615, device='cuda:0')\n",
      "candidate sentence and original sentence grammar validity probability, respectively:  0.6087821125984192 0.9473620057106018\n",
      "Candidate: in , suleman made headlines by cutting howard stern ` s radio show from four citadel stations , citing stern ` s .suleman cut howard stern ` s radio show from four citadel stations in 2004 . he said it was because of stern ` s . in , suleman made headlines by cutting from four citadel stations , citing stern .\n",
      "Old Prob: 30301.166134198324, New Sent Prob: 0 \n",
      "\n",
      "similarity of the two sentences:  tensor(0.9734, device='cuda:0')\n",
      "candidate sentence and original sentence grammar validity probability, respectively:  0.7303981184959412 0.9473620057106018\n",
      "Candidate: in late 2004 , suleman made headlines by cutting howard stern ` s radio show from four citadel stations , citing stern ` s .suleman cut howard stern ` s radio show from four citadel stations in 2004 . he said it was because of stern ` s . , suleman made headlines by cutting from four citadel stations , citing stern .\n",
      "Old Prob: 30301.166134198324, New Sent Prob: 23499.255255993026 \n",
      "\n",
      "similarity of the two sentences:  tensor(0.8423, device='cuda:0')\n",
      "candidate sentence and original sentence grammar validity probability, respectively:  0.07900229841470718 0.9473620057106018\n",
      "Candidate: at the end of 2004 the suleman made headliners by chopping howard aft ` s radio show from four citadel stations citing aft ` s . suleman chopped howard aft ` s radio show from four citadel stations in 2004 .\n",
      "Old Prob: 30301.166134198324, New Sent Prob: 0 \n",
      "\n",
      "similarity of the two sentences:  tensor(0.8853, device='cuda:0')\n",
      "candidate sentence and original sentence grammar validity probability, respectively:  0.8798466920852661 0.9473620057106018\n",
      "Getting candidates for iteration:  3\n",
      "neg constraints:  headline headlines headlining headlined headline headliner , ,s ,ing ,ed cite cites citing cited cite citee cut cuts cutting cut cutted cuttingly\n",
      "entities are:  ['late', '2004', 'suleman', 'four', 'four', '2004', 'late', '2004', 'four']\n",
      "input:  in late 2004 , suleman made headlines by cutting howard stern ` s , citing stern ` s .suleman cut howard stern ` s in 2004 . he said it was because of stern ` s . in late 2004 , suleman made headlines by cutting from four citadel stations , citing stern ..\theadline|headlines|headlining|headlined|headline|headliner|,|,s|,ing|,ed|cite|cites|citing|cited|cite|citee|cut|cuts|cutting|cut|cutted|cuttingly\t\n"
     ]
    },
    {
     "name": "stdout",
     "output_type": "stream",
     "text": [
      "new:  At the end of 2004 the suleman made headliners by chopping Howard aft `s; citation aft` s. suleman chopped Howard aft `s in 2004. he said it was because of stern` s.\n",
      "\n",
      "similarity of the two sentences:  tensor(0.7742, device='cuda:0')\n",
      "candidate sentence and original sentence grammar validity probability, respectively:  0.5576679110527039 0.9473620057106018\n",
      "Candidate: in late 2004 , suleman made headlines by cutting howard ` s , citing ` s .suleman cut howard ` s in 2004 . he said it was because of ` s . in late 2004 , suleman made headlines by cutting from four citadel stations , citing .\n",
      "Old Prob: 38992.782030958035, New Sent Prob: 0 \n",
      "\n",
      "similarity of the two sentences:  tensor(0.8977, device='cuda:0')\n",
      "candidate sentence and original sentence grammar validity probability, respectively:  0.20153748989105225 0.9473620057106018\n",
      "Candidate: in late 2004 , suleman made headlines by cutting howard stern ` s , ` s .suleman cut howard stern ` s in 2004 . he said it was because of stern ` s . in late 2004 , suleman made headlines by cutting from four citadel stations .\n",
      "Old Prob: 38992.782030958035, New Sent Prob: 0 \n",
      "\n",
      "similarity of the two sentences:  tensor(0.8257, device='cuda:0')\n",
      "candidate sentence and original sentence grammar validity probability, respectively:  0.3922758400440216 0.9473620057106018\n",
      "Candidate: in late 2004 , suleman made headlines by cutting howard stern ` s , citing stern ` s .suleman cut howard stern ` s in 2004 . he said it was because of stern ` s . in late 2004 , suleman made headlines by cutting from , citing stern .\n",
      "Old Prob: 38992.782030958035, New Sent Prob: 0 \n",
      "\n",
      "similarity of the two sentences:  tensor(0.8140, device='cuda:0')\n",
      "candidate sentence and original sentence grammar validity probability, respectively:  0.7962031960487366 0.9473620057106018\n",
      "Candidate: in late 2004 , suleman made headlines by cutting howard stern ` s , citing stern ` s .suleman cut howard stern ` s in 2004 . he said it was because of stern ` s . in late 2004 , suleman made headlines by cutting , citing stern .\n",
      "Old Prob: 38992.782030958035, New Sent Prob: 36641.606858044404 \n",
      "\n",
      "similarity of the two sentences:  tensor(0.8174, device='cuda:0')\n",
      "candidate sentence and original sentence grammar validity probability, respectively:  0.6251987218856812 0.9473620057106018\n",
      "Candidate: in late 2004 , suleman made headlines by cutting howard stern ` s , citing stern ` s .suleman cut howard stern ` s in 2004 . he said it was because of stern ` s . in late 2004 , suleman made headlines by , citing stern .\n",
      "Old Prob: 38992.782030958035, New Sent Prob: 0 \n",
      "\n",
      "similarity of the two sentences:  tensor(0.8174, device='cuda:0')\n",
      "candidate sentence and original sentence grammar validity probability, respectively:  0.6251987218856812 0.9473620057106018\n",
      "Candidate: in late 2004 , suleman made headlines by cutting howard stern ` s , citing stern ` s .suleman cut howard stern ` s in 2004 . he said it was because of stern ` s . in late 2004 , suleman made headlines by , citing stern .\n",
      "Old Prob: 38992.782030958035, New Sent Prob: 0 \n",
      "\n",
      "similarity of the two sentences:  tensor(0.8125, device='cuda:0')\n",
      "candidate sentence and original sentence grammar validity probability, respectively:  0.9321628212928772 0.9473620057106018\n",
      "Candidate: in late 2004 , suleman made headlines by cutting howard stern ` s , citing stern ` s .suleman cut howard stern ` s in 2004 . he said it was because of stern ` s . in late 2004 , suleman made headlines , citing stern .\n",
      "Old Prob: 38992.782030958035, New Sent Prob: 32154.403214864076 \n",
      "\n",
      "similarity of the two sentences:  tensor(0.8315, device='cuda:0')\n",
      "candidate sentence and original sentence grammar validity probability, respectively:  0.886904776096344 0.9473620057106018\n",
      "Candidate: in late 2004 , suleman made by cutting howard stern ` s , citing stern ` s .suleman cut howard stern ` s in 2004 . he said it was because of stern ` s . in late 2004 , suleman made by cutting from four citadel stations , citing stern .\n",
      "Old Prob: 38992.782030958035, New Sent Prob: 29647.053641623846 \n",
      "\n",
      "similarity of the two sentences:  tensor(0.8034, device='cuda:0')\n",
      "candidate sentence and original sentence grammar validity probability, respectively:  0.6360960006713867 0.9473620057106018\n",
      "Candidate: in late 2004 , suleman made headlines by cutting howard stern ` s , citing stern ` s .suleman cut howard stern ` s in 2004 . he said it was because of stern ` s . in late 2004 , suleman , citing stern .\n",
      "Old Prob: 38992.782030958035, New Sent Prob: 0 \n",
      "\n",
      "similarity of the two sentences:  tensor(0.8729, device='cuda:0')\n",
      "candidate sentence and original sentence grammar validity probability, respectively:  0.8387075662612915 0.9473620057106018\n",
      "Candidate: in late 2004 , made headlines by cutting howard stern ` s , citing stern ` s .suleman cut howard stern ` s in 2004 . he said it was because of stern ` s . in late 2004 , made headlines by cutting from four citadel stations , citing stern .\n",
      "Old Prob: 38992.782030958035, New Sent Prob: 27195.74245451883 \n",
      "\n",
      "similarity of the two sentences:  tensor(0.8758, device='cuda:0')\n",
      "candidate sentence and original sentence grammar validity probability, respectively:  0.6304266452789307 0.9473620057106018\n",
      "Candidate: in , suleman made headlines by cutting howard stern ` s , citing stern ` s .suleman cut howard stern ` s in 2004 . he said it was because of stern ` s . in , suleman made headlines by cutting from four citadel stations , citing stern .\n",
      "Old Prob: 38992.782030958035, New Sent Prob: 0 \n",
      "\n",
      "similarity of the two sentences:  tensor(0.8885, device='cuda:0')\n",
      "candidate sentence and original sentence grammar validity probability, respectively:  0.79664546251297 0.9473620057106018\n",
      "Candidate: in late 2004 , suleman made headlines by cutting howard stern ` s , citing stern ` s .suleman cut howard stern ` s in 2004 . he said it was because of stern ` s . , suleman made headlines by cutting from four citadel stations , citing stern .\n",
      "Old Prob: 38992.782030958035, New Sent Prob: 26506.993768089218 \n",
      "\n",
      "similarity of the two sentences:  tensor(0.8961, device='cuda:0')\n",
      "candidate sentence and original sentence grammar validity probability, respectively:  0.8978457450866699 0.9473620057106018\n",
      "Candidate: in late 2004 , suleman made headlines by cutting howard stern ` , citing stern ` .suleman cut howard stern ` in 2004 . he said it was because of stern ` . in late 2004 , suleman made headlines by cutting from four citadel stations , citing stern .\n",
      "Old Prob: 38992.782030958035, New Sent Prob: 30741.753669614824 \n",
      "\n",
      "similarity of the two sentences:  tensor(0.7742, device='cuda:0')\n",
      "candidate sentence and original sentence grammar validity probability, respectively:  0.5576679110527039 0.9473620057106018\n",
      "Candidate: in late 2004 , suleman made headlines by cutting howard ` s , citing ` s .suleman cut howard ` s in 2004 . he said it was because of ` s . in late 2004 , suleman made headlines by cutting from four citadel stations , citing .\n",
      "Old Prob: 38992.782030958035, New Sent Prob: 0 \n",
      "\n",
      "similarity of the two sentences:  tensor(0.8965, device='cuda:0')\n",
      "candidate sentence and original sentence grammar validity probability, respectively:  0.3832293450832367 0.9473620057106018\n",
      "Candidate: in late 2004 , suleman made headlines by cutting howard stern ` s , citing stern ` s .suleman cut howard stern ` s in 2004 . he said it was because of in late 2004 , suleman made headlines by cutting from four citadel stations , citing stern .\n",
      "Old Prob: 38992.782030958035, New Sent Prob: 0 \n",
      "\n",
      "similarity of the two sentences:  tensor(0.8976, device='cuda:0')\n",
      "candidate sentence and original sentence grammar validity probability, respectively:  0.15393809974193573 0.9473620057106018\n",
      "Candidate: in late 2004 , suleman made headlines by cutting howard stern ` s , citing stern ` s .suleman cut howard stern ` s in 2004 . he said it was because of , suleman made headlines by cutting from four citadel stations , citing stern .\n",
      "Old Prob: 38992.782030958035, New Sent Prob: 0 \n",
      "\n",
      "similarity of the two sentences:  tensor(0.8935, device='cuda:0')\n",
      "candidate sentence and original sentence grammar validity probability, respectively:  0.33636346459388733 0.9473620057106018\n",
      "Candidate: in late 2004 , suleman made headlines by cutting howard stern ` s , citing stern ` s .suleman cut howard stern ` s in 2004 . he said it was because , suleman made headlines by cutting from four citadel stations , citing stern .\n",
      "Old Prob: 38992.782030958035, New Sent Prob: 0 \n",
      "\n"
     ]
    },
    {
     "name": "stdout",
     "output_type": "stream",
     "text": [
      "similarity of the two sentences:  tensor(0.8146, device='cuda:0')\n",
      "candidate sentence and original sentence grammar validity probability, respectively:  0.37808525562286377 0.9473620057106018\n",
      "Candidate: in late 2004 , suleman made headlines by cutting howard stern ` s , citing stern ` s .suleman cut howard stern ` s in 2004 . he said it was because , citing stern .\n",
      "Old Prob: 38992.782030958035, New Sent Prob: 0 \n",
      "\n",
      "similarity of the two sentences:  tensor(0.7810, device='cuda:0')\n",
      "candidate sentence and original sentence grammar validity probability, respectively:  0.28909561038017273 0.9473620057106018\n",
      "Candidate: in late 2004 , suleman made headlines by cutting howard stern ` s , citing stern ` s .suleman cut howard stern ` s in 2004 . he said it was , citing stern .\n",
      "Old Prob: 38992.782030958035, New Sent Prob: 0 \n",
      "\n",
      "similarity of the two sentences:  tensor(0.7953, device='cuda:0')\n",
      "candidate sentence and original sentence grammar validity probability, respectively:  0.7009782195091248 0.9473620057106018\n",
      "Candidate: in late 2004 , suleman made headlines by cutting howard stern ` s , citing stern ` s .suleman cut howard stern ` s in 2004 . he said it , citing stern .\n",
      "Old Prob: 38992.782030958035, New Sent Prob: 0 \n",
      "\n",
      "similarity of the two sentences:  tensor(0.8876, device='cuda:0')\n",
      "candidate sentence and original sentence grammar validity probability, respectively:  0.5909016132354736 0.9473620057106018\n",
      "Candidate: in late 2004 , suleman made headlines by cutting howard stern ` s , citing stern ` s .suleman cut howard stern ` s in 2004 . he said was because of stern ` s . in late 2004 , suleman made headlines by cutting from four citadel stations , citing stern .\n",
      "Old Prob: 38992.782030958035, New Sent Prob: 0 \n",
      "\n",
      "similarity of the two sentences:  tensor(0.8117, device='cuda:0')\n",
      "candidate sentence and original sentence grammar validity probability, respectively:  0.31692424416542053 0.9473620057106018\n",
      "Candidate: in late 2004 , suleman made headlines by cutting howard stern ` s , citing stern ` s .suleman cut howard stern ` s in 2004 . he said , citing stern .\n",
      "Old Prob: 38992.782030958035, New Sent Prob: 0 \n",
      "\n",
      "similarity of the two sentences:  tensor(0.8117, device='cuda:0')\n",
      "candidate sentence and original sentence grammar validity probability, respectively:  0.31692424416542053 0.9473620057106018\n",
      "Candidate: in late 2004 , suleman made headlines by cutting howard stern ` s , citing stern ` s .suleman cut howard stern ` s in 2004 . he said , citing stern .\n",
      "Old Prob: 38992.782030958035, New Sent Prob: 0 \n",
      "\n",
      "similarity of the two sentences:  tensor(0.8153, device='cuda:0')\n",
      "candidate sentence and original sentence grammar validity probability, respectively:  0.13020560145378113 0.9473620057106018\n",
      "Candidate: in late 2004 , suleman made headlines by cutting howard stern ` s , citing stern ` s .suleman cut howard stern ` s in 2004 . he , citing stern .\n",
      "Old Prob: 38992.782030958035, New Sent Prob: 0 \n",
      "\n",
      "similarity of the two sentences:  tensor(0.8865, device='cuda:0')\n",
      "candidate sentence and original sentence grammar validity probability, respectively:  0.8479576110839844 0.9473620057106018\n",
      "Candidate: in late 2004 , suleman made headlines by cutting howard stern ` s , citing stern ` s .suleman cut howard stern ` s in 2004 . said it was because of stern ` s . in late 2004 , suleman made headlines by cutting from four citadel stations , citing stern .\n",
      "Old Prob: 38992.782030958035, New Sent Prob: 33931.04068215802 \n",
      "\n",
      "similarity of the two sentences:  tensor(0.8161, device='cuda:0')\n",
      "candidate sentence and original sentence grammar validity probability, respectively:  0.8334550261497498 0.9473620057106018\n",
      "Candidate: in late 2004 , suleman made headlines by cutting howard stern ` s , citing stern ` s .suleman cut howard stern ` s in 2004 . , citing stern .\n",
      "Old Prob: 38992.782030958035, New Sent Prob: 22753.997920983205 \n",
      "\n",
      "similarity of the two sentences:  tensor(0.8619, device='cuda:0')\n",
      "candidate sentence and original sentence grammar validity probability, respectively:  0.44280263781547546 0.9473620057106018\n",
      "Candidate: in late , suleman made headlines by cutting howard stern ` s , citing stern ` s .suleman cut howard stern ` s in . he said it was because of stern ` s . in late , suleman made headlines by cutting from four citadel stations , citing stern .\n",
      "Old Prob: 38992.782030958035, New Sent Prob: 0 \n",
      "\n",
      "similarity of the two sentences:  tensor(0.8799, device='cuda:0')\n",
      "candidate sentence and original sentence grammar validity probability, respectively:  0.8629383444786072 0.9473620057106018\n",
      "Candidate: in late 2004 , suleman made headlines by cutting howard stern ` s , citing stern ` s .suleman cut howard stern ` s . he said it was because of stern ` s . in late 2004 , suleman made headlines by cutting from four citadel stations , citing stern .\n",
      "Old Prob: 38992.782030958035, New Sent Prob: 29651.140637950415 \n",
      "\n",
      "similarity of the two sentences:  tensor(0.8680, device='cuda:0')\n",
      "candidate sentence and original sentence grammar validity probability, respectively:  0.8165547251701355 0.9473620057106018\n",
      "Candidate: in late 2004 , suleman made headlines by cutting , citing stern ` s .suleman cut in 2004 . he said it was because of stern ` s . in late 2004 , suleman made headlines by cutting from four citadel stations , citing stern .\n",
      "Old Prob: 38992.782030958035, New Sent Prob: 45158.38120853477 \n",
      "\n",
      "similarity of the two sentences:  tensor(0.8898, device='cuda:0')\n",
      "candidate sentence and original sentence grammar validity probability, respectively:  0.06403287500143051 0.9473620057106018\n",
      "Candidate: in late 2004 , suleman made headlines by cutting howard stern ` s , citing stern ` s .suleman . he said it was because of stern ` s . in late 2004 , suleman made headlines by cutting from four citadel stations , citing stern .\n",
      "Old Prob: 38992.782030958035, New Sent Prob: 0 \n",
      "\n",
      "similarity of the two sentences:  tensor(0.8729, device='cuda:0')\n",
      "candidate sentence and original sentence grammar validity probability, respectively:  0.8387075662612915 0.9473620057106018\n",
      "Candidate: in late 2004 , made headlines by cutting howard stern ` s , citing stern ` s .suleman cut howard stern ` s in 2004 . he said it was because of stern ` s . in late 2004 , made headlines by cutting from four citadel stations , citing stern .\n",
      "Old Prob: 38992.782030958035, New Sent Prob: 27195.74245451883 \n",
      "\n",
      "similarity of the two sentences:  tensor(0.8961, device='cuda:0')\n",
      "candidate sentence and original sentence grammar validity probability, respectively:  0.8978457450866699 0.9473620057106018\n",
      "Candidate: in late 2004 , suleman made headlines by cutting howard stern ` , citing stern ` .suleman cut howard stern ` in 2004 . he said it was because of stern ` . in late 2004 , suleman made headlines by cutting from four citadel stations , citing stern .\n",
      "Old Prob: 38992.782030958035, New Sent Prob: 30741.753669614824 \n",
      "\n",
      "similarity of the two sentences:  tensor(0.7742, device='cuda:0')\n",
      "candidate sentence and original sentence grammar validity probability, respectively:  0.5576679110527039 0.9473620057106018\n",
      "Candidate: in late 2004 , suleman made headlines by cutting howard ` s , citing ` s .suleman cut howard ` s in 2004 . he said it was because of ` s . in late 2004 , suleman made headlines by cutting from four citadel stations , citing .\n",
      "Old Prob: 38992.782030958035, New Sent Prob: 0 \n",
      "\n",
      "similarity of the two sentences:  tensor(0.8965, device='cuda:0')\n",
      "candidate sentence and original sentence grammar validity probability, respectively:  0.3832293450832367 0.9473620057106018\n",
      "Candidate: in late 2004 , suleman made headlines by cutting howard stern ` s , citing stern ` s .suleman cut howard stern ` s in 2004 . he said it was because of in late 2004 , suleman made headlines by cutting from four citadel stations , citing stern .\n",
      "Old Prob: 38992.782030958035, New Sent Prob: 0 \n",
      "\n",
      "similarity of the two sentences:  tensor(0.8853, device='cuda:0')\n",
      "candidate sentence and original sentence grammar validity probability, respectively:  0.8798466920852661 0.9473620057106018\n",
      "Candidate: in late 2004 , suleman made headlines by cutting howard stern ` s , citing stern ` s .suleman cut howard stern ` s in 2004 . he said it was because of stern ` s . in late 2004 , suleman made headlines by cutting from four citadel stations , citing stern .\n",
      "Old Prob: 38992.782030958035, New Sent Prob: 38992.782030958035 \n",
      "\n"
     ]
    },
    {
     "name": "stdout",
     "output_type": "stream",
     "text": [
      "similarity of the two sentences:  tensor(0.8853, device='cuda:0')\n",
      "candidate sentence and original sentence grammar validity probability, respectively:  0.8798466920852661 0.9473620057106018\n",
      "Candidate: in late 2004 , suleman made headlines by cutting howard stern ` s , citing stern ` s .suleman cut howard stern ` s in 2004 . he said it was because of stern ` s . in late 2004 , suleman made headlines by cutting from four citadel stations , citing stern .\n",
      "Old Prob: 38992.782030958035, New Sent Prob: 38992.782030958035 \n",
      "\n",
      "similarity of the two sentences:  tensor(0.8853, device='cuda:0')\n",
      "candidate sentence and original sentence grammar validity probability, respectively:  0.8798466920852661 0.9473620057106018\n",
      "Candidate: in late 2004 , suleman made headlines by cutting howard stern ` s , citing stern ` s .suleman cut howard stern ` s in 2004 . he said it was because of stern ` s . in late 2004 , suleman made headlines by cutting from four citadel stations , citing stern .\n",
      "Old Prob: 38992.782030958035, New Sent Prob: 38992.782030958035 \n",
      "\n",
      "similarity of the two sentences:  tensor(0.8853, device='cuda:0')\n",
      "candidate sentence and original sentence grammar validity probability, respectively:  0.8798466920852661 0.9473620057106018\n",
      "Candidate: in late 2004 , suleman made headlines by cutting howard stern ` s , citing stern ` s .suleman cut howard stern ` s in 2004 . he said it was because of stern ` s . in late 2004 , suleman made headlines by cutting from four citadel stations , citing stern .\n",
      "Old Prob: 38992.782030958035, New Sent Prob: 38992.782030958035 \n",
      "\n",
      "similarity of the two sentences:  tensor(0.8680, device='cuda:0')\n",
      "candidate sentence and original sentence grammar validity probability, respectively:  0.8165547251701355 0.9473620057106018\n",
      "Candidate: in late 2004 , suleman made headlines by cutting , citing stern ` s .suleman cut in 2004 . he said it was because of stern ` s . in late 2004 , suleman made headlines by cutting from four citadel stations , citing stern .\n",
      "Old Prob: 38992.782030958035, New Sent Prob: 45158.38120853477 \n",
      "\n",
      "similarity of the two sentences:  tensor(0.8840, device='cuda:0')\n",
      "candidate sentence and original sentence grammar validity probability, respectively:  0.048861369490623474 0.9473620057106018\n",
      "Candidate: in late 2004 , suleman made headlines by , citing stern ` s .suleman cut howard stern ` s in 2004 . he said it was because of stern ` s . in late 2004 , suleman made headlines by cutting from four citadel stations , citing stern .\n",
      "Old Prob: 38992.782030958035, New Sent Prob: 0 \n",
      "\n",
      "similarity of the two sentences:  tensor(0.8853, device='cuda:0')\n",
      "candidate sentence and original sentence grammar validity probability, respectively:  0.8798466920852661 0.9473620057106018\n",
      "Candidate: in late 2004 , suleman made headlines by cutting howard stern ` s , citing stern ` s .suleman cut howard stern ` s in 2004 . he said it was because of stern ` s . in late 2004 , suleman made headlines by cutting from four citadel stations , citing stern .\n",
      "Old Prob: 38992.782030958035, New Sent Prob: 38992.782030958035 \n",
      "\n",
      "similarity of the two sentences:  tensor(0.8853, device='cuda:0')\n",
      "candidate sentence and original sentence grammar validity probability, respectively:  0.8798466920852661 0.9473620057106018\n",
      "Candidate: in late 2004 , suleman made headlines by cutting howard stern ` s , citing stern ` s .suleman cut howard stern ` s in 2004 . he said it was because of stern ` s . in late 2004 , suleman made headlines by cutting from four citadel stations , citing stern .\n",
      "Old Prob: 38992.782030958035, New Sent Prob: 38992.782030958035 \n",
      "\n",
      "similarity of the two sentences:  tensor(0.8853, device='cuda:0')\n",
      "candidate sentence and original sentence grammar validity probability, respectively:  0.8798466920852661 0.9473620057106018\n",
      "Candidate: in late 2004 , suleman made headlines by cutting howard stern ` s , citing stern ` s .suleman cut howard stern ` s in 2004 . he said it was because of stern ` s . in late 2004 , suleman made headlines by cutting from four citadel stations , citing stern .\n",
      "Old Prob: 38992.782030958035, New Sent Prob: 38992.782030958035 \n",
      "\n",
      "similarity of the two sentences:  tensor(0.8315, device='cuda:0')\n",
      "candidate sentence and original sentence grammar validity probability, respectively:  0.886904776096344 0.9473620057106018\n",
      "Candidate: in late 2004 , suleman made by cutting howard stern ` s , citing stern ` s .suleman cut howard stern ` s in 2004 . he said it was because of stern ` s . in late 2004 , suleman made by cutting from four citadel stations , citing stern .\n",
      "Old Prob: 38992.782030958035, New Sent Prob: 29647.053641623846 \n",
      "\n",
      "similarity of the two sentences:  tensor(0.8853, device='cuda:0')\n",
      "candidate sentence and original sentence grammar validity probability, respectively:  0.8798466920852661 0.9473620057106018\n",
      "Candidate: in late 2004 , suleman made headlines by cutting howard stern ` s , citing stern ` s .suleman cut howard stern ` s in 2004 . he said it was because of stern ` s . in late 2004 , suleman made headlines by cutting from four citadel stations , citing stern .\n",
      "Old Prob: 38992.782030958035, New Sent Prob: 38992.782030958035 \n",
      "\n",
      "similarity of the two sentences:  tensor(0.8729, device='cuda:0')\n",
      "candidate sentence and original sentence grammar validity probability, respectively:  0.8387075662612915 0.9473620057106018\n",
      "Candidate: in late 2004 , made headlines by cutting howard stern ` s , citing stern ` s .suleman cut howard stern ` s in 2004 . he said it was because of stern ` s . in late 2004 , made headlines by cutting from four citadel stations , citing stern .\n",
      "Old Prob: 38992.782030958035, New Sent Prob: 27195.74245451883 \n",
      "\n",
      "similarity of the two sentences:  tensor(0.8758, device='cuda:0')\n",
      "candidate sentence and original sentence grammar validity probability, respectively:  0.6304266452789307 0.9473620057106018\n",
      "Candidate: in , suleman made headlines by cutting howard stern ` s , citing stern ` s .suleman cut howard stern ` s in 2004 . he said it was because of stern ` s . in , suleman made headlines by cutting from four citadel stations , citing stern .\n",
      "Old Prob: 38992.782030958035, New Sent Prob: 0 \n",
      "\n",
      "similarity of the two sentences:  tensor(0.8885, device='cuda:0')\n",
      "candidate sentence and original sentence grammar validity probability, respectively:  0.79664546251297 0.9473620057106018\n",
      "Candidate: in late 2004 , suleman made headlines by cutting howard stern ` s , citing stern ` s .suleman cut howard stern ` s in 2004 . he said it was because of stern ` s . , suleman made headlines by cutting from four citadel stations , citing stern .\n",
      "Old Prob: 38992.782030958035, New Sent Prob: 26506.993768089218 \n",
      "\n",
      "similarity of the two sentences:  tensor(0.7289, device='cuda:0')\n",
      "candidate sentence and original sentence grammar validity probability, respectively:  0.47567018866539 0.9473620057106018\n",
      "Candidate: at the end of 2004 the suleman made headliners by chopping howard aft ` s ; citation aft ` s . suleman chopped howard aft ` s in 2004 . he said it was because of stern ` s .\n",
      "Old Prob: 38992.782030958035, New Sent Prob: 0 \n",
      "\n",
      "Input complex sentence\n",
      "in late 2004 , suleman made headlines by cutting howard stern ` s radio show from four citadel stations , citing stern ` s frequent discussions regarding his upcoming move to sirius satellite radio .suleman cut howard stern ` s radio show from four citadel stations in 2004 . he said it was because of stern ` s discussions regarding his move to sirius satellite radio . in late 2004 , suleman made headlines by cutting from four citadel stations , citing stern .\n",
      "Reference sentence\n",
      "below are some useful links to to help you get involved .\n",
      "Simplified sentence\n",
      "in late 2004 , suleman made headlines by cutting howard stern ` s , citing stern ` s .suleman cut howard stern ` s in 2004 . he said it was because of stern ` s . in late 2004 , suleman made headlines by cutting from four citadel stations , citing stern .\n",
      "\n",
      "\n",
      "Average sentence level SARI till now for sentences\n",
      "0.32978580990629186\n",
      "0.006024096385542168\n",
      "0.9833333333333334\n",
      "0.0\n",
      "Average sentence level BLEU till now for sentences\n",
      "0.0067358781020460555\n",
      "Average perplexity of sentences\n",
      "38992.782030958035\n",
      "Average sentence level FKGL and FRE till now for sentences\n",
      "16.32\n",
      "56.42500000000001\n",
      "\n",
      "\n",
      "1\n",
      "Runtime of the program is 316.8126368522644\n",
      "total paraphrasing calls 4, total beam calls 4\n",
      "{'ls': 0, 'dl': 49, 'las': 0, 'rl': 0, 'par': 0}\n"
     ]
    }
   ],
   "source": [
    "import tree_edits_beam\n",
    "importlib.reload(sys.modules['tree_edits_beam'])\n",
    "from tree_edits_beam import *\n",
    "cmplx = [\"below are some useful links to facilitate your involvement .\"]\n",
    "simp = [\"below are some useful links to to help you get involved .\"]\n",
    "# cmplx = ['this was demonstrated in the miller - urey experiment by stanley l . miller and harold c . urey in 1953 .']\n",
    "# simp = ['this was shown in the miller - urey experiment by stanley l . miller and harold c . urey in 1953 .']\n",
    "# cmplx = [\"one side of the armed conflicts is composed mainly of the sudanese military and the janjaweed, a sudanese militia group recruited mostly from the afro-arab abbala tribes of the northern rizeigat region in sudan.\"]\n",
    "# simp = [\"On one side of the conflicts are the Sudanese military and the Janjaweed, a Sudanese militia group.  They are mostly recruited from the Afro-Arab Abbala tribes.\"] \n",
    "# cmplx = [\"none of the authors , contributors , sponsors , administrators , vandals , or anyone else connected with wikipedia , in any way whatsoever , can be responsible for your use of the information contained in or linked from these web pages .\"]\n",
    "# cmplx = ['The Kindle 2 features 16-level grayscale display, improved battery life, 20 percent faster page-refreshing, a text-to-speech option to read the text aloud, and overall thickness reduced from 0.8 to 0.36 inches (9.1 millimeters).']\n",
    "# simp = ['The Kindle 2 features several technological advances.']\n",
    "cmplx = [\"the other incorporated cities on the palos verdes peninsula include rancho palos verdes, rolling hills estates and rolling hills.\"]\n",
    "cmplx = ['in late 2004  suleman made headlines by cutting radio show from four citadel stations  citing stern  s frequent discussions regarding his upcoming move to sirius satellite radio .']\n",
    "cmplx = [\"in late 2004 , suleman made headlines by cutting howard stern ` s radio show from four citadel stations , citing stern ` s frequent discussions regarding his upcoming move to sirius satellite radio .suleman cut howard stern ` s radio show from four citadel stations in 2004 . he said it was because of stern ` s discussions regarding his move to sirius satellite radio . in late 2004 , suleman made headlines by cutting from four citadel stations , citing stern .\"]\n",
    "\n",
    "# cmplx = ['before the advent of the pocket calculator it was the most commonly used calculation tool in science and engineering .']\n",
    "# simp = ['It was the most commonly used calculation tool before the invention of the pocket calculator.']\n",
    "# cmplx = ['furthermore, she appeared in several music videos, including \"it girl\" by john oates and \"just lose it\" by eminem.']\n",
    "# simp = ['she was in music videos, including \"it girl\" by john oates and \"just lose it\" by eminem.']\n",
    "\n",
    "start = time.time()\n",
    "\n",
    "# cmplx[0] = all_norms(cmplx[0])\n",
    "\n",
    "sample(cmplx, simp, output_lang, tag_lang, dep_lang, lm_forward, lm_backward, output_embedding_weights, idf, unigram_prob, start)\n",
    "\n",
    "# end = time.time()\n",
    "# print(f\"Runtime of the program is {end - start}\")\n",
    "\n"
   ]
  },
  {
   "cell_type": "markdown",
   "metadata": {},
   "source": [
    "## Assessing sentences with methods other than SARI method"
   ]
  },
  {
   "cell_type": "code",
   "execution_count": 29,
   "metadata": {},
   "outputs": [],
   "source": [
    "def assess(output_path, orig_path):\n",
    "    \n",
    "    \n",
    "    output = open(output_path, encoding='utf-8').read().split('\\n')\n",
    "    orig = open(orig_path, encoding='utf-8').read().split('\\n')\n",
    "    \n",
    "    acu_score_similarity = 0.\n",
    "    acu_score_grammar_output = 0.\n",
    "    acu_score_grammar_orig = 0.\n",
    "    acu_score_simplicity_output = 0.\n",
    "    acu_score_simplicity_orig = 0.\n",
    "    acu_len_output = 0.\n",
    "    acu_len_orig = 0.\n",
    "    \n",
    "    for i in tqdm(range(len(output))):\n",
    "        \n",
    "        output_sent = output[i]\n",
    "        orig_sent = orig[i]\n",
    "    \n",
    "        score_similarity = semantic_sim(output_sent, orig_sent)\n",
    "        score_grammar_output = get_model_out(model_grammar_checker, tokenizer_deberta, output_sent)[\"prob\"]\n",
    "        score_grammar_orig = get_model_out(model_grammar_checker, tokenizer_deberta, orig_sent)[\"prob\"]\n",
    "        score_simplicity_output = 1 - get_model_out(comp_simp_class_model, tokenizer_deberta, output_sent)[\"prob\"]\n",
    "        score_simplicity_orig = 1 - get_model_out(comp_simp_class_model, tokenizer_deberta, orig_sent)[\"prob\"]\n",
    "        len_output = len(output_sent.split())\n",
    "        len_orig = len(orig_sent.split())\n",
    "\n",
    "        acu_score_similarity += score_similarity\n",
    "        acu_score_grammar_output += score_grammar_output\n",
    "        acu_score_grammar_orig += score_grammar_orig\n",
    "        acu_score_simplicity_output += score_simplicity_output\n",
    "        acu_score_simplicity_orig += score_simplicity_orig\n",
    "        acu_len_output += len_output\n",
    "        acu_len_orig += len_orig\n",
    "    \n",
    "    \n",
    "    \n",
    "    print(\"similarity socre :\", acu_score_similarity/len(output))\n",
    "    print(\"grammar socre out:\", acu_score_grammar_output/len(output))\n",
    "    print(\"grammar socre orig:\", acu_score_grammar_orig/len(output))\n",
    "    print(\"simplicity socre outpu:\", acu_score_simplicity_output/len(output))\n",
    "    print(\"simplicity socre orig:\", acu_score_simplicity_orig/len(output))\n",
    "    print(\"simplicity socre orig:\", acu_score_simplicity_orig/len(output))\n",
    "    print(\"len output:\", acu_len_output/len(output))\n",
    "    print(\"len orig:\", acu_len_orig/len(output))\n",
    "    \n",
    "    \n"
   ]
  },
  {
   "cell_type": "code",
   "execution_count": 26,
   "metadata": {
    "scrolled": true
   },
   "outputs": [
    {
     "name": "stderr",
     "output_type": "stream",
     "text": [
      "100%|██████████| 360/360 [00:00<00:00, 288103.31it/s]"
     ]
    },
    {
     "name": "stdout",
     "output_type": "stream",
     "text": [
      "len output: 19.372222222222224\n",
      "len orig: 23.163888888888888\n"
     ]
    },
    {
     "name": "stderr",
     "output_type": "stream",
     "text": [
      "\n"
     ]
    }
   ],
   "source": [
    "from tqdm import tqdm\n",
    "\n",
    "root_path = '/home/m25dehgh/simplification/controllable-simplification/src/Wikilarge/output'\n",
    "asset_path= \"/home/m25dehgh/simplification/datasets/asset/dataset\"\n",
    "orig_path = asset_path + '/' + \"asset.test.norm.orig\"\n",
    "ref_path = asset_path + '/' + \"asset.test.norm.simp.0\"\n",
    "\n",
    "assess(ref_path, orig_path)"
   ]
  },
  {
   "cell_type": "code",
   "execution_count": 27,
   "metadata": {},
   "outputs": [
    {
     "name": "stderr",
     "output_type": "stream",
     "text": [
      "100%|██████████| 360/360 [00:00<00:00, 141965.91it/s]"
     ]
    },
    {
     "name": "stdout",
     "output_type": "stream",
     "text": [
      "len output: 9.208333333333334\n",
      "len orig: 23.163888888888888\n"
     ]
    },
    {
     "name": "stderr",
     "output_type": "stream",
     "text": [
      "\n"
     ]
    }
   ],
   "source": [
    "from tqdm import tqdm\n",
    "\n",
    "root_path = '/home/m25dehgh/simplification/controllable-simplification/src/Wikilarge/output'\n",
    "asset_path= \"/home/m25dehgh/simplification/datasets/asset/dataset\"\n",
    "\n",
    "orig_path = asset_path + '/' + \"asset.test.norm.orig\"\n",
    "out_path = root_path + '/' + \"/dl:1-par:1-asset-comp-simp-class.txt\"\n",
    "\n",
    "assess(out_path, orig_path)"
   ]
  },
  {
   "cell_type": "code",
   "execution_count": 28,
   "metadata": {
    "scrolled": true
   },
   "outputs": [
    {
     "name": "stderr",
     "output_type": "stream",
     "text": [
      "100%|██████████| 360/360 [00:00<00:00, 107096.21it/s]"
     ]
    },
    {
     "name": "stdout",
     "output_type": "stream",
     "text": [
      "len output: 19.808333333333334\n",
      "len orig: 23.163888888888888\n"
     ]
    },
    {
     "name": "stderr",
     "output_type": "stream",
     "text": [
      "\n"
     ]
    }
   ],
   "source": [
    "from tqdm import tqdm\n",
    "\n",
    "root_path = '/home/m25dehgh/simplification/controllable-simplification/src/Wikilarge/output'\n",
    "asset_path= \"/home/m25dehgh/simplification/datasets/asset/dataset\"\n",
    "\n",
    "orig_path = asset_path + '/' + \"asset.test.norm.orig\"\n",
    "out_path = root_path + '/' + \"/dl:false-par:1-asset-comp-simp-class.txt\"\n",
    "\n",
    "assess(out_path, orig_path)"
   ]
  },
  {
   "cell_type": "code",
   "execution_count": null,
   "metadata": {},
   "outputs": [],
   "source": []
  },
  {
   "cell_type": "code",
   "execution_count": 30,
   "metadata": {},
   "outputs": [
    {
     "name": "stderr",
     "output_type": "stream",
     "text": [
      "  0%|          | 1/360 [00:01<06:19,  1.06s/it]"
     ]
    },
    {
     "name": "stdout",
     "output_type": "stream",
     "text": [
      "similarity of the two sentences:  tensor(0.9233, device='cuda:0')\n"
     ]
    },
    {
     "name": "stderr",
     "output_type": "stream",
     "text": [
      "\r",
      "  1%|          | 2/360 [00:02<06:07,  1.03s/it]"
     ]
    },
    {
     "name": "stdout",
     "output_type": "stream",
     "text": [
      "similarity of the two sentences:  tensor(0.8171, device='cuda:0')\n"
     ]
    },
    {
     "name": "stderr",
     "output_type": "stream",
     "text": [
      "\r",
      "  1%|          | 3/360 [00:03<06:03,  1.02s/it]"
     ]
    },
    {
     "name": "stdout",
     "output_type": "stream",
     "text": [
      "similarity of the two sentences:  tensor(0.7803, device='cuda:0')\n"
     ]
    },
    {
     "name": "stderr",
     "output_type": "stream",
     "text": [
      "\r",
      "  1%|          | 4/360 [00:04<06:03,  1.02s/it]"
     ]
    },
    {
     "name": "stdout",
     "output_type": "stream",
     "text": [
      "similarity of the two sentences:  tensor(1., device='cuda:0')\n"
     ]
    },
    {
     "name": "stderr",
     "output_type": "stream",
     "text": [
      "\r",
      "  1%|▏         | 5/360 [00:04<05:53,  1.01it/s]"
     ]
    },
    {
     "name": "stdout",
     "output_type": "stream",
     "text": [
      "similarity of the two sentences:  tensor(0.8675, device='cuda:0')\n"
     ]
    },
    {
     "name": "stderr",
     "output_type": "stream",
     "text": [
      "\r",
      "  2%|▏         | 6/360 [00:05<05:44,  1.03it/s]"
     ]
    },
    {
     "name": "stdout",
     "output_type": "stream",
     "text": [
      "similarity of the two sentences:  tensor(0.9930, device='cuda:0')\n"
     ]
    },
    {
     "name": "stderr",
     "output_type": "stream",
     "text": [
      "\r",
      "  2%|▏         | 7/360 [00:06<05:38,  1.04it/s]"
     ]
    },
    {
     "name": "stdout",
     "output_type": "stream",
     "text": [
      "similarity of the two sentences:  tensor(1.0000, device='cuda:0')\n"
     ]
    },
    {
     "name": "stderr",
     "output_type": "stream",
     "text": [
      "\r",
      "  2%|▏         | 8/360 [00:07<05:32,  1.06it/s]"
     ]
    },
    {
     "name": "stdout",
     "output_type": "stream",
     "text": [
      "similarity of the two sentences:  tensor(0.9165, device='cuda:0')\n"
     ]
    },
    {
     "name": "stderr",
     "output_type": "stream",
     "text": [
      "\r",
      "  2%|▎         | 9/360 [00:08<05:27,  1.07it/s]"
     ]
    },
    {
     "name": "stdout",
     "output_type": "stream",
     "text": [
      "similarity of the two sentences:  tensor(0.8213, device='cuda:0')\n"
     ]
    },
    {
     "name": "stderr",
     "output_type": "stream",
     "text": [
      "\r",
      "  3%|▎         | 10/360 [00:09<05:22,  1.08it/s]"
     ]
    },
    {
     "name": "stdout",
     "output_type": "stream",
     "text": [
      "similarity of the two sentences:  tensor(0.9636, device='cuda:0')\n"
     ]
    },
    {
     "name": "stderr",
     "output_type": "stream",
     "text": [
      "\r",
      "  3%|▎         | 11/360 [00:10<05:18,  1.10it/s]"
     ]
    },
    {
     "name": "stdout",
     "output_type": "stream",
     "text": [
      "similarity of the two sentences:  tensor(1.0000, device='cuda:0')\n"
     ]
    },
    {
     "name": "stderr",
     "output_type": "stream",
     "text": [
      "\r",
      "  3%|▎         | 12/360 [00:11<05:17,  1.10it/s]"
     ]
    },
    {
     "name": "stdout",
     "output_type": "stream",
     "text": [
      "similarity of the two sentences:  tensor(0.8106, device='cuda:0')\n"
     ]
    },
    {
     "name": "stderr",
     "output_type": "stream",
     "text": [
      "\r",
      "  4%|▎         | 13/360 [00:12<05:15,  1.10it/s]"
     ]
    },
    {
     "name": "stdout",
     "output_type": "stream",
     "text": [
      "similarity of the two sentences:  tensor(0.8544, device='cuda:0')\n"
     ]
    },
    {
     "name": "stderr",
     "output_type": "stream",
     "text": [
      "\r",
      "  4%|▍         | 14/360 [00:13<05:13,  1.10it/s]"
     ]
    },
    {
     "name": "stdout",
     "output_type": "stream",
     "text": [
      "similarity of the two sentences:  tensor(0.7829, device='cuda:0')\n"
     ]
    },
    {
     "name": "stderr",
     "output_type": "stream",
     "text": [
      "\r",
      "  4%|▍         | 15/360 [00:14<05:16,  1.09it/s]"
     ]
    },
    {
     "name": "stdout",
     "output_type": "stream",
     "text": [
      "similarity of the two sentences:  tensor(0.8914, device='cuda:0')\n"
     ]
    },
    {
     "name": "stderr",
     "output_type": "stream",
     "text": [
      "\r",
      "  4%|▍         | 16/360 [00:15<05:20,  1.07it/s]"
     ]
    },
    {
     "name": "stdout",
     "output_type": "stream",
     "text": [
      "similarity of the two sentences:  tensor(1.0000, device='cuda:0')\n"
     ]
    },
    {
     "name": "stderr",
     "output_type": "stream",
     "text": [
      "\r",
      "  5%|▍         | 17/360 [00:15<05:20,  1.07it/s]"
     ]
    },
    {
     "name": "stdout",
     "output_type": "stream",
     "text": [
      "similarity of the two sentences:  tensor(0.9834, device='cuda:0')\n"
     ]
    },
    {
     "name": "stderr",
     "output_type": "stream",
     "text": [
      "\r",
      "  5%|▌         | 18/360 [00:16<05:22,  1.06it/s]"
     ]
    },
    {
     "name": "stdout",
     "output_type": "stream",
     "text": [
      "similarity of the two sentences:  tensor(1.0000, device='cuda:0')\n"
     ]
    },
    {
     "name": "stderr",
     "output_type": "stream",
     "text": [
      "\r",
      "  5%|▌         | 19/360 [00:17<05:19,  1.07it/s]"
     ]
    },
    {
     "name": "stdout",
     "output_type": "stream",
     "text": [
      "similarity of the two sentences:  tensor(0.9299, device='cuda:0')\n"
     ]
    },
    {
     "name": "stderr",
     "output_type": "stream",
     "text": [
      "\r",
      "  6%|▌         | 20/360 [00:18<05:16,  1.07it/s]"
     ]
    },
    {
     "name": "stdout",
     "output_type": "stream",
     "text": [
      "similarity of the two sentences:  tensor(1., device='cuda:0')\n"
     ]
    },
    {
     "name": "stderr",
     "output_type": "stream",
     "text": [
      "\r",
      "  6%|▌         | 21/360 [00:19<05:15,  1.07it/s]"
     ]
    },
    {
     "name": "stdout",
     "output_type": "stream",
     "text": [
      "similarity of the two sentences:  tensor(0.8346, device='cuda:0')\n"
     ]
    },
    {
     "name": "stderr",
     "output_type": "stream",
     "text": [
      "\r",
      "  6%|▌         | 22/360 [00:20<05:16,  1.07it/s]"
     ]
    },
    {
     "name": "stdout",
     "output_type": "stream",
     "text": [
      "similarity of the two sentences:  tensor(1., device='cuda:0')\n"
     ]
    },
    {
     "name": "stderr",
     "output_type": "stream",
     "text": [
      "\r",
      "  6%|▋         | 23/360 [00:21<05:19,  1.05it/s]"
     ]
    },
    {
     "name": "stdout",
     "output_type": "stream",
     "text": [
      "similarity of the two sentences:  tensor(0.8458, device='cuda:0')\n"
     ]
    },
    {
     "name": "stderr",
     "output_type": "stream",
     "text": [
      "\r",
      "  7%|▋         | 24/360 [00:22<05:20,  1.05it/s]"
     ]
    },
    {
     "name": "stdout",
     "output_type": "stream",
     "text": [
      "similarity of the two sentences:  tensor(0.8842, device='cuda:0')\n"
     ]
    },
    {
     "name": "stderr",
     "output_type": "stream",
     "text": [
      "\r",
      "  7%|▋         | 25/360 [00:23<05:21,  1.04it/s]"
     ]
    },
    {
     "name": "stdout",
     "output_type": "stream",
     "text": [
      "similarity of the two sentences:  tensor(1.0000, device='cuda:0')\n"
     ]
    },
    {
     "name": "stderr",
     "output_type": "stream",
     "text": [
      "\r",
      "  7%|▋         | 26/360 [00:24<05:21,  1.04it/s]"
     ]
    },
    {
     "name": "stdout",
     "output_type": "stream",
     "text": [
      "similarity of the two sentences:  tensor(0.9936, device='cuda:0')\n"
     ]
    },
    {
     "name": "stderr",
     "output_type": "stream",
     "text": [
      "\r",
      "  8%|▊         | 27/360 [00:25<05:29,  1.01it/s]"
     ]
    },
    {
     "name": "stdout",
     "output_type": "stream",
     "text": [
      "similarity of the two sentences:  tensor(1.0000, device='cuda:0')\n"
     ]
    },
    {
     "name": "stderr",
     "output_type": "stream",
     "text": [
      "\r",
      "  8%|▊         | 28/360 [00:26<05:24,  1.02it/s]"
     ]
    },
    {
     "name": "stdout",
     "output_type": "stream",
     "text": [
      "similarity of the two sentences:  tensor(1.0000, device='cuda:0')\n"
     ]
    },
    {
     "name": "stderr",
     "output_type": "stream",
     "text": [
      "\r",
      "  8%|▊         | 29/360 [00:27<05:23,  1.02it/s]"
     ]
    },
    {
     "name": "stdout",
     "output_type": "stream",
     "text": [
      "similarity of the two sentences:  tensor(0.9707, device='cuda:0')\n"
     ]
    },
    {
     "name": "stderr",
     "output_type": "stream",
     "text": [
      "\r",
      "  8%|▊         | 30/360 [00:28<05:23,  1.02it/s]"
     ]
    },
    {
     "name": "stdout",
     "output_type": "stream",
     "text": [
      "similarity of the two sentences:  tensor(1.0000, device='cuda:0')\n"
     ]
    },
    {
     "name": "stderr",
     "output_type": "stream",
     "text": [
      "\r",
      "  9%|▊         | 31/360 [00:29<05:19,  1.03it/s]"
     ]
    },
    {
     "name": "stdout",
     "output_type": "stream",
     "text": [
      "similarity of the two sentences:  tensor(0.8900, device='cuda:0')\n"
     ]
    },
    {
     "name": "stderr",
     "output_type": "stream",
     "text": [
      "\r",
      "  9%|▉         | 32/360 [00:30<05:12,  1.05it/s]"
     ]
    },
    {
     "name": "stdout",
     "output_type": "stream",
     "text": [
      "similarity of the two sentences:  tensor(0.8429, device='cuda:0')\n"
     ]
    },
    {
     "name": "stderr",
     "output_type": "stream",
     "text": [
      "\r",
      "  9%|▉         | 33/360 [00:31<05:06,  1.07it/s]"
     ]
    },
    {
     "name": "stdout",
     "output_type": "stream",
     "text": [
      "similarity of the two sentences:  tensor(0.9057, device='cuda:0')\n"
     ]
    },
    {
     "name": "stderr",
     "output_type": "stream",
     "text": [
      "\r",
      "  9%|▉         | 34/360 [00:32<05:04,  1.07it/s]"
     ]
    },
    {
     "name": "stdout",
     "output_type": "stream",
     "text": [
      "similarity of the two sentences:  tensor(0.9125, device='cuda:0')\n"
     ]
    },
    {
     "name": "stderr",
     "output_type": "stream",
     "text": [
      "\r",
      " 10%|▉         | 35/360 [00:33<05:02,  1.07it/s]"
     ]
    },
    {
     "name": "stdout",
     "output_type": "stream",
     "text": [
      "similarity of the two sentences:  tensor(0.7939, device='cuda:0')\n"
     ]
    },
    {
     "name": "stderr",
     "output_type": "stream",
     "text": [
      "\r",
      " 10%|█         | 36/360 [00:34<05:02,  1.07it/s]"
     ]
    },
    {
     "name": "stdout",
     "output_type": "stream",
     "text": [
      "similarity of the two sentences:  tensor(0.8503, device='cuda:0')\n"
     ]
    },
    {
     "name": "stderr",
     "output_type": "stream",
     "text": [
      "\r",
      " 10%|█         | 37/360 [00:34<04:59,  1.08it/s]"
     ]
    },
    {
     "name": "stdout",
     "output_type": "stream",
     "text": [
      "similarity of the two sentences:  tensor(0.9722, device='cuda:0')\n"
     ]
    },
    {
     "name": "stderr",
     "output_type": "stream",
     "text": [
      "\r",
      " 11%|█         | 38/360 [00:35<04:56,  1.08it/s]"
     ]
    },
    {
     "name": "stdout",
     "output_type": "stream",
     "text": [
      "similarity of the two sentences:  tensor(0.8729, device='cuda:0')\n"
     ]
    },
    {
     "name": "stderr",
     "output_type": "stream",
     "text": [
      "\r",
      " 11%|█         | 39/360 [00:36<05:03,  1.06it/s]"
     ]
    },
    {
     "name": "stdout",
     "output_type": "stream",
     "text": [
      "similarity of the two sentences:  tensor(0.9760, device='cuda:0')\n"
     ]
    },
    {
     "name": "stderr",
     "output_type": "stream",
     "text": [
      "\r",
      " 11%|█         | 40/360 [00:37<05:03,  1.05it/s]"
     ]
    },
    {
     "name": "stdout",
     "output_type": "stream",
     "text": [
      "similarity of the two sentences:  tensor(0.7992, device='cuda:0')\n"
     ]
    },
    {
     "name": "stderr",
     "output_type": "stream",
     "text": [
      "\r",
      " 11%|█▏        | 41/360 [00:38<05:01,  1.06it/s]"
     ]
    },
    {
     "name": "stdout",
     "output_type": "stream",
     "text": [
      "similarity of the two sentences:  tensor(0.8923, device='cuda:0')\n"
     ]
    },
    {
     "name": "stderr",
     "output_type": "stream",
     "text": [
      "\r",
      " 12%|█▏        | 42/360 [00:39<04:59,  1.06it/s]"
     ]
    },
    {
     "name": "stdout",
     "output_type": "stream",
     "text": [
      "similarity of the two sentences:  tensor(0.9026, device='cuda:0')\n"
     ]
    },
    {
     "name": "stderr",
     "output_type": "stream",
     "text": [
      "\r",
      " 12%|█▏        | 43/360 [00:40<04:56,  1.07it/s]"
     ]
    },
    {
     "name": "stdout",
     "output_type": "stream",
     "text": [
      "similarity of the two sentences:  tensor(1., device='cuda:0')\n"
     ]
    },
    {
     "name": "stderr",
     "output_type": "stream",
     "text": [
      "\r",
      " 12%|█▏        | 44/360 [00:41<04:53,  1.08it/s]"
     ]
    },
    {
     "name": "stdout",
     "output_type": "stream",
     "text": [
      "similarity of the two sentences:  tensor(1., device='cuda:0')\n"
     ]
    },
    {
     "name": "stderr",
     "output_type": "stream",
     "text": [
      "\r",
      " 12%|█▎        | 45/360 [00:42<04:58,  1.06it/s]"
     ]
    },
    {
     "name": "stdout",
     "output_type": "stream",
     "text": [
      "similarity of the two sentences:  tensor(1.0000, device='cuda:0')\n"
     ]
    },
    {
     "name": "stderr",
     "output_type": "stream",
     "text": [
      "\r",
      " 13%|█▎        | 46/360 [00:43<04:56,  1.06it/s]"
     ]
    },
    {
     "name": "stdout",
     "output_type": "stream",
     "text": [
      "similarity of the two sentences:  tensor(0.8934, device='cuda:0')\n"
     ]
    },
    {
     "name": "stderr",
     "output_type": "stream",
     "text": [
      "\r",
      " 13%|█▎        | 47/360 [00:44<04:52,  1.07it/s]"
     ]
    },
    {
     "name": "stdout",
     "output_type": "stream",
     "text": [
      "similarity of the two sentences:  tensor(1.0000, device='cuda:0')\n"
     ]
    },
    {
     "name": "stderr",
     "output_type": "stream",
     "text": [
      "\r",
      " 13%|█▎        | 48/360 [00:45<04:49,  1.08it/s]"
     ]
    },
    {
     "name": "stdout",
     "output_type": "stream",
     "text": [
      "similarity of the two sentences:  tensor(0.9014, device='cuda:0')\n"
     ]
    },
    {
     "name": "stderr",
     "output_type": "stream",
     "text": [
      "\r",
      " 14%|█▎        | 49/360 [00:46<04:49,  1.08it/s]"
     ]
    },
    {
     "name": "stdout",
     "output_type": "stream",
     "text": [
      "similarity of the two sentences:  tensor(1.0000, device='cuda:0')\n"
     ]
    },
    {
     "name": "stderr",
     "output_type": "stream",
     "text": [
      "\r",
      " 14%|█▍        | 50/360 [00:47<04:50,  1.07it/s]"
     ]
    },
    {
     "name": "stdout",
     "output_type": "stream",
     "text": [
      "similarity of the two sentences:  tensor(1., device='cuda:0')\n"
     ]
    },
    {
     "name": "stderr",
     "output_type": "stream",
     "text": [
      "\r",
      " 14%|█▍        | 51/360 [00:48<04:48,  1.07it/s]"
     ]
    },
    {
     "name": "stdout",
     "output_type": "stream",
     "text": [
      "similarity of the two sentences:  tensor(0.8266, device='cuda:0')\n"
     ]
    },
    {
     "name": "stderr",
     "output_type": "stream",
     "text": [
      "\r",
      " 14%|█▍        | 52/360 [00:49<04:46,  1.07it/s]"
     ]
    },
    {
     "name": "stdout",
     "output_type": "stream",
     "text": [
      "similarity of the two sentences:  tensor(0.8978, device='cuda:0')\n"
     ]
    },
    {
     "name": "stderr",
     "output_type": "stream",
     "text": [
      "\r",
      " 15%|█▍        | 53/360 [00:49<04:43,  1.08it/s]"
     ]
    },
    {
     "name": "stdout",
     "output_type": "stream",
     "text": [
      "similarity of the two sentences:  tensor(0.8838, device='cuda:0')\n"
     ]
    },
    {
     "name": "stderr",
     "output_type": "stream",
     "text": [
      "\r",
      " 15%|█▌        | 54/360 [00:50<04:49,  1.06it/s]"
     ]
    },
    {
     "name": "stdout",
     "output_type": "stream",
     "text": [
      "similarity of the two sentences:  tensor(1., device='cuda:0')\n"
     ]
    },
    {
     "name": "stderr",
     "output_type": "stream",
     "text": [
      "\r",
      " 15%|█▌        | 55/360 [00:51<04:54,  1.03it/s]"
     ]
    },
    {
     "name": "stdout",
     "output_type": "stream",
     "text": [
      "similarity of the two sentences:  tensor(1.0000, device='cuda:0')\n"
     ]
    },
    {
     "name": "stderr",
     "output_type": "stream",
     "text": [
      "\r",
      " 16%|█▌        | 56/360 [00:52<04:51,  1.04it/s]"
     ]
    },
    {
     "name": "stdout",
     "output_type": "stream",
     "text": [
      "similarity of the two sentences:  tensor(1., device='cuda:0')\n"
     ]
    },
    {
     "name": "stderr",
     "output_type": "stream",
     "text": [
      "\r",
      " 16%|█▌        | 57/360 [00:53<04:46,  1.06it/s]"
     ]
    },
    {
     "name": "stdout",
     "output_type": "stream",
     "text": [
      "similarity of the two sentences:  tensor(0.9290, device='cuda:0')\n"
     ]
    },
    {
     "name": "stderr",
     "output_type": "stream",
     "text": [
      "\r",
      " 16%|█▌        | 58/360 [00:54<04:42,  1.07it/s]"
     ]
    },
    {
     "name": "stdout",
     "output_type": "stream",
     "text": [
      "similarity of the two sentences:  tensor(0.9738, device='cuda:0')\n"
     ]
    },
    {
     "name": "stderr",
     "output_type": "stream",
     "text": [
      "\r",
      " 16%|█▋        | 59/360 [00:55<04:39,  1.08it/s]"
     ]
    },
    {
     "name": "stdout",
     "output_type": "stream",
     "text": [
      "similarity of the two sentences:  tensor(1., device='cuda:0')\n"
     ]
    },
    {
     "name": "stderr",
     "output_type": "stream",
     "text": [
      "\r",
      " 17%|█▋        | 60/360 [00:56<04:48,  1.04it/s]"
     ]
    },
    {
     "name": "stdout",
     "output_type": "stream",
     "text": [
      "similarity of the two sentences:  tensor(0.7957, device='cuda:0')\n"
     ]
    },
    {
     "name": "stderr",
     "output_type": "stream",
     "text": [
      "\r",
      " 17%|█▋        | 61/360 [00:57<04:44,  1.05it/s]"
     ]
    },
    {
     "name": "stdout",
     "output_type": "stream",
     "text": [
      "similarity of the two sentences:  tensor(1.0000, device='cuda:0')\n"
     ]
    },
    {
     "name": "stderr",
     "output_type": "stream",
     "text": [
      "\r",
      " 17%|█▋        | 62/360 [00:58<04:41,  1.06it/s]"
     ]
    },
    {
     "name": "stdout",
     "output_type": "stream",
     "text": [
      "similarity of the two sentences:  tensor(0.9469, device='cuda:0')\n"
     ]
    },
    {
     "name": "stderr",
     "output_type": "stream",
     "text": [
      "\r",
      " 18%|█▊        | 63/360 [00:59<04:38,  1.07it/s]"
     ]
    },
    {
     "name": "stdout",
     "output_type": "stream",
     "text": [
      "similarity of the two sentences:  tensor(1.0000, device='cuda:0')\n"
     ]
    },
    {
     "name": "stderr",
     "output_type": "stream",
     "text": [
      "\r",
      " 18%|█▊        | 64/360 [01:00<04:35,  1.08it/s]"
     ]
    },
    {
     "name": "stdout",
     "output_type": "stream",
     "text": [
      "similarity of the two sentences:  tensor(0.7980, device='cuda:0')\n"
     ]
    },
    {
     "name": "stderr",
     "output_type": "stream",
     "text": [
      "\r",
      " 18%|█▊        | 65/360 [01:01<04:33,  1.08it/s]"
     ]
    },
    {
     "name": "stdout",
     "output_type": "stream",
     "text": [
      "similarity of the two sentences:  tensor(0.9141, device='cuda:0')\n"
     ]
    },
    {
     "name": "stderr",
     "output_type": "stream",
     "text": [
      "\r",
      " 18%|█▊        | 66/360 [01:02<04:39,  1.05it/s]"
     ]
    },
    {
     "name": "stdout",
     "output_type": "stream",
     "text": [
      "similarity of the two sentences:  tensor(0.9615, device='cuda:0')\n"
     ]
    },
    {
     "name": "stderr",
     "output_type": "stream",
     "text": [
      "\r",
      " 19%|█▊        | 67/360 [01:03<04:37,  1.06it/s]"
     ]
    },
    {
     "name": "stdout",
     "output_type": "stream",
     "text": [
      "similarity of the two sentences:  tensor(0.9061, device='cuda:0')\n"
     ]
    },
    {
     "name": "stderr",
     "output_type": "stream",
     "text": [
      "\r",
      " 19%|█▉        | 68/360 [01:04<04:33,  1.07it/s]"
     ]
    },
    {
     "name": "stdout",
     "output_type": "stream",
     "text": [
      "similarity of the two sentences:  tensor(1., device='cuda:0')\n"
     ]
    },
    {
     "name": "stderr",
     "output_type": "stream",
     "text": [
      "\r",
      " 19%|█▉        | 69/360 [01:05<04:34,  1.06it/s]"
     ]
    },
    {
     "name": "stdout",
     "output_type": "stream",
     "text": [
      "similarity of the two sentences:  tensor(1.0000, device='cuda:0')\n"
     ]
    },
    {
     "name": "stderr",
     "output_type": "stream",
     "text": [
      "\r",
      " 19%|█▉        | 70/360 [01:06<04:30,  1.07it/s]"
     ]
    },
    {
     "name": "stdout",
     "output_type": "stream",
     "text": [
      "similarity of the two sentences:  tensor(1., device='cuda:0')\n"
     ]
    },
    {
     "name": "stderr",
     "output_type": "stream",
     "text": [
      "\r",
      " 20%|█▉        | 71/360 [01:06<04:28,  1.08it/s]"
     ]
    },
    {
     "name": "stdout",
     "output_type": "stream",
     "text": [
      "similarity of the two sentences:  tensor(1.0000, device='cuda:0')\n"
     ]
    },
    {
     "name": "stderr",
     "output_type": "stream",
     "text": [
      "\r",
      " 20%|██        | 72/360 [01:07<04:26,  1.08it/s]"
     ]
    },
    {
     "name": "stdout",
     "output_type": "stream",
     "text": [
      "similarity of the two sentences:  tensor(0.9646, device='cuda:0')\n"
     ]
    },
    {
     "name": "stderr",
     "output_type": "stream",
     "text": [
      "\r",
      " 20%|██        | 73/360 [01:08<04:24,  1.09it/s]"
     ]
    },
    {
     "name": "stdout",
     "output_type": "stream",
     "text": [
      "similarity of the two sentences:  tensor(1., device='cuda:0')\n"
     ]
    },
    {
     "name": "stderr",
     "output_type": "stream",
     "text": [
      "\r",
      " 21%|██        | 74/360 [01:09<04:24,  1.08it/s]"
     ]
    },
    {
     "name": "stdout",
     "output_type": "stream",
     "text": [
      "similarity of the two sentences:  tensor(0.8430, device='cuda:0')\n"
     ]
    },
    {
     "name": "stderr",
     "output_type": "stream",
     "text": [
      "\r",
      " 21%|██        | 75/360 [01:10<04:29,  1.06it/s]"
     ]
    },
    {
     "name": "stdout",
     "output_type": "stream",
     "text": [
      "similarity of the two sentences:  tensor(0.8979, device='cuda:0')\n"
     ]
    },
    {
     "name": "stderr",
     "output_type": "stream",
     "text": [
      "\r",
      " 21%|██        | 76/360 [01:11<04:29,  1.05it/s]"
     ]
    },
    {
     "name": "stdout",
     "output_type": "stream",
     "text": [
      "similarity of the two sentences:  tensor(1.0000, device='cuda:0')\n"
     ]
    },
    {
     "name": "stderr",
     "output_type": "stream",
     "text": [
      "\r",
      " 21%|██▏       | 77/360 [01:12<04:28,  1.05it/s]"
     ]
    },
    {
     "name": "stdout",
     "output_type": "stream",
     "text": [
      "similarity of the two sentences:  tensor(1.0000, device='cuda:0')\n"
     ]
    },
    {
     "name": "stderr",
     "output_type": "stream",
     "text": [
      "\r",
      " 22%|██▏       | 78/360 [01:13<04:28,  1.05it/s]"
     ]
    },
    {
     "name": "stdout",
     "output_type": "stream",
     "text": [
      "similarity of the two sentences:  tensor(1., device='cuda:0')\n"
     ]
    },
    {
     "name": "stderr",
     "output_type": "stream",
     "text": [
      "\r",
      " 22%|██▏       | 79/360 [01:14<04:27,  1.05it/s]"
     ]
    },
    {
     "name": "stdout",
     "output_type": "stream",
     "text": [
      "similarity of the two sentences:  tensor(0.7837, device='cuda:0')\n"
     ]
    },
    {
     "name": "stderr",
     "output_type": "stream",
     "text": [
      "\r",
      " 22%|██▏       | 80/360 [01:15<04:23,  1.06it/s]"
     ]
    },
    {
     "name": "stdout",
     "output_type": "stream",
     "text": [
      "similarity of the two sentences:  tensor(0.8748, device='cuda:0')\n"
     ]
    },
    {
     "name": "stderr",
     "output_type": "stream",
     "text": [
      "\r",
      " 22%|██▎       | 81/360 [01:16<04:22,  1.06it/s]"
     ]
    },
    {
     "name": "stdout",
     "output_type": "stream",
     "text": [
      "similarity of the two sentences:  tensor(0.8307, device='cuda:0')\n"
     ]
    },
    {
     "name": "stderr",
     "output_type": "stream",
     "text": [
      "\r",
      " 23%|██▎       | 82/360 [01:17<04:18,  1.07it/s]"
     ]
    },
    {
     "name": "stdout",
     "output_type": "stream",
     "text": [
      "similarity of the two sentences:  tensor(0.9672, device='cuda:0')\n"
     ]
    },
    {
     "name": "stderr",
     "output_type": "stream",
     "text": [
      "\r",
      " 23%|██▎       | 83/360 [01:18<04:15,  1.08it/s]"
     ]
    },
    {
     "name": "stdout",
     "output_type": "stream",
     "text": [
      "similarity of the two sentences:  tensor(1.0000, device='cuda:0')\n"
     ]
    },
    {
     "name": "stderr",
     "output_type": "stream",
     "text": [
      "\r",
      " 23%|██▎       | 84/360 [01:19<04:14,  1.08it/s]"
     ]
    },
    {
     "name": "stdout",
     "output_type": "stream",
     "text": [
      "similarity of the two sentences:  tensor(0.9850, device='cuda:0')\n"
     ]
    },
    {
     "name": "stderr",
     "output_type": "stream",
     "text": [
      "\r",
      " 24%|██▎       | 85/360 [01:20<04:22,  1.05it/s]"
     ]
    },
    {
     "name": "stdout",
     "output_type": "stream",
     "text": [
      "similarity of the two sentences:  tensor(1.0000, device='cuda:0')\n"
     ]
    },
    {
     "name": "stderr",
     "output_type": "stream",
     "text": [
      "\r",
      " 24%|██▍       | 86/360 [01:21<04:17,  1.06it/s]"
     ]
    },
    {
     "name": "stdout",
     "output_type": "stream",
     "text": [
      "similarity of the two sentences:  tensor(0.8143, device='cuda:0')\n"
     ]
    },
    {
     "name": "stderr",
     "output_type": "stream",
     "text": [
      "\r",
      " 24%|██▍       | 87/360 [01:21<04:15,  1.07it/s]"
     ]
    },
    {
     "name": "stdout",
     "output_type": "stream",
     "text": [
      "similarity of the two sentences:  tensor(0.9196, device='cuda:0')\n"
     ]
    },
    {
     "name": "stderr",
     "output_type": "stream",
     "text": [
      "\r",
      " 24%|██▍       | 88/360 [01:22<04:13,  1.07it/s]"
     ]
    },
    {
     "name": "stdout",
     "output_type": "stream",
     "text": [
      "similarity of the two sentences:  tensor(0.9853, device='cuda:0')\n"
     ]
    },
    {
     "name": "stderr",
     "output_type": "stream",
     "text": [
      "\r",
      " 25%|██▍       | 89/360 [01:23<04:11,  1.08it/s]"
     ]
    },
    {
     "name": "stdout",
     "output_type": "stream",
     "text": [
      "similarity of the two sentences:  tensor(0.7831, device='cuda:0')\n"
     ]
    },
    {
     "name": "stderr",
     "output_type": "stream",
     "text": [
      "\r",
      " 25%|██▌       | 90/360 [01:24<04:15,  1.06it/s]"
     ]
    },
    {
     "name": "stdout",
     "output_type": "stream",
     "text": [
      "similarity of the two sentences:  tensor(1., device='cuda:0')\n"
     ]
    },
    {
     "name": "stderr",
     "output_type": "stream",
     "text": [
      "\r",
      " 25%|██▌       | 91/360 [01:25<04:14,  1.06it/s]"
     ]
    },
    {
     "name": "stdout",
     "output_type": "stream",
     "text": [
      "similarity of the two sentences:  tensor(1., device='cuda:0')\n"
     ]
    },
    {
     "name": "stderr",
     "output_type": "stream",
     "text": [
      "\r",
      " 26%|██▌       | 92/360 [01:26<04:09,  1.07it/s]"
     ]
    },
    {
     "name": "stdout",
     "output_type": "stream",
     "text": [
      "similarity of the two sentences:  tensor(0.8545, device='cuda:0')\n"
     ]
    },
    {
     "name": "stderr",
     "output_type": "stream",
     "text": [
      "\r",
      " 26%|██▌       | 93/360 [01:27<04:07,  1.08it/s]"
     ]
    },
    {
     "name": "stdout",
     "output_type": "stream",
     "text": [
      "similarity of the two sentences:  tensor(0.7692, device='cuda:0')\n"
     ]
    },
    {
     "name": "stderr",
     "output_type": "stream",
     "text": [
      "\r",
      " 26%|██▌       | 94/360 [01:28<04:09,  1.07it/s]"
     ]
    },
    {
     "name": "stdout",
     "output_type": "stream",
     "text": [
      "similarity of the two sentences:  tensor(1., device='cuda:0')\n"
     ]
    },
    {
     "name": "stderr",
     "output_type": "stream",
     "text": [
      "\r",
      " 26%|██▋       | 95/360 [01:29<04:14,  1.04it/s]"
     ]
    },
    {
     "name": "stdout",
     "output_type": "stream",
     "text": [
      "similarity of the two sentences:  tensor(0.8405, device='cuda:0')\n"
     ]
    },
    {
     "name": "stderr",
     "output_type": "stream",
     "text": [
      "\r",
      " 27%|██▋       | 96/360 [01:30<04:14,  1.04it/s]"
     ]
    },
    {
     "name": "stdout",
     "output_type": "stream",
     "text": [
      "similarity of the two sentences:  tensor(0.7573, device='cuda:0')\n"
     ]
    },
    {
     "name": "stderr",
     "output_type": "stream",
     "text": [
      "\r",
      " 27%|██▋       | 97/360 [01:31<04:15,  1.03it/s]"
     ]
    },
    {
     "name": "stdout",
     "output_type": "stream",
     "text": [
      "similarity of the two sentences:  tensor(0.8335, device='cuda:0')\n"
     ]
    },
    {
     "name": "stderr",
     "output_type": "stream",
     "text": [
      "\r",
      " 27%|██▋       | 98/360 [01:32<04:14,  1.03it/s]"
     ]
    },
    {
     "name": "stdout",
     "output_type": "stream",
     "text": [
      "similarity of the two sentences:  tensor(1.0000, device='cuda:0')\n"
     ]
    },
    {
     "name": "stderr",
     "output_type": "stream",
     "text": [
      "\r",
      " 28%|██▊       | 99/360 [01:33<04:15,  1.02it/s]"
     ]
    },
    {
     "name": "stdout",
     "output_type": "stream",
     "text": [
      "similarity of the two sentences:  tensor(1.0000, device='cuda:0')\n"
     ]
    },
    {
     "name": "stderr",
     "output_type": "stream",
     "text": [
      "\r",
      " 28%|██▊       | 100/360 [01:34<04:13,  1.02it/s]"
     ]
    },
    {
     "name": "stdout",
     "output_type": "stream",
     "text": [
      "similarity of the two sentences:  tensor(0.9780, device='cuda:0')\n"
     ]
    },
    {
     "name": "stderr",
     "output_type": "stream",
     "text": [
      "\r",
      " 28%|██▊       | 101/360 [01:35<04:07,  1.04it/s]"
     ]
    },
    {
     "name": "stdout",
     "output_type": "stream",
     "text": [
      "similarity of the two sentences:  tensor(0.7779, device='cuda:0')\n"
     ]
    },
    {
     "name": "stderr",
     "output_type": "stream",
     "text": [
      "\r",
      " 28%|██▊       | 102/360 [01:36<04:19,  1.01s/it]"
     ]
    },
    {
     "name": "stdout",
     "output_type": "stream",
     "text": [
      "similarity of the two sentences:  tensor(0.8038, device='cuda:0')\n"
     ]
    },
    {
     "name": "stderr",
     "output_type": "stream",
     "text": [
      "\r",
      " 29%|██▊       | 103/360 [01:37<04:16,  1.00it/s]"
     ]
    },
    {
     "name": "stdout",
     "output_type": "stream",
     "text": [
      "similarity of the two sentences:  tensor(0.8064, device='cuda:0')\n"
     ]
    },
    {
     "name": "stderr",
     "output_type": "stream",
     "text": [
      "\r",
      " 29%|██▉       | 104/360 [01:38<04:11,  1.02it/s]"
     ]
    },
    {
     "name": "stdout",
     "output_type": "stream",
     "text": [
      "similarity of the two sentences:  tensor(1.0000, device='cuda:0')\n"
     ]
    },
    {
     "name": "stderr",
     "output_type": "stream",
     "text": [
      "\r",
      " 29%|██▉       | 105/360 [01:39<04:12,  1.01it/s]"
     ]
    },
    {
     "name": "stdout",
     "output_type": "stream",
     "text": [
      "similarity of the two sentences:  tensor(0.8265, device='cuda:0')\n"
     ]
    },
    {
     "name": "stderr",
     "output_type": "stream",
     "text": [
      "\r",
      " 29%|██▉       | 106/360 [01:40<04:07,  1.03it/s]"
     ]
    },
    {
     "name": "stdout",
     "output_type": "stream",
     "text": [
      "similarity of the two sentences:  tensor(0.8609, device='cuda:0')\n"
     ]
    },
    {
     "name": "stderr",
     "output_type": "stream",
     "text": [
      "\r",
      " 30%|██▉       | 107/360 [01:41<04:04,  1.03it/s]"
     ]
    },
    {
     "name": "stdout",
     "output_type": "stream",
     "text": [
      "similarity of the two sentences:  tensor(0.8396, device='cuda:0')\n"
     ]
    },
    {
     "name": "stderr",
     "output_type": "stream",
     "text": [
      "\r",
      " 30%|███       | 108/360 [01:42<04:00,  1.05it/s]"
     ]
    },
    {
     "name": "stdout",
     "output_type": "stream",
     "text": [
      "similarity of the two sentences:  tensor(1.0000, device='cuda:0')\n"
     ]
    },
    {
     "name": "stderr",
     "output_type": "stream",
     "text": [
      "\r",
      " 30%|███       | 109/360 [01:43<03:58,  1.05it/s]"
     ]
    },
    {
     "name": "stdout",
     "output_type": "stream",
     "text": [
      "similarity of the two sentences:  tensor(0.8392, device='cuda:0')\n"
     ]
    },
    {
     "name": "stderr",
     "output_type": "stream",
     "text": [
      "\r",
      " 31%|███       | 110/360 [01:44<03:56,  1.06it/s]"
     ]
    },
    {
     "name": "stdout",
     "output_type": "stream",
     "text": [
      "similarity of the two sentences:  tensor(0.9600, device='cuda:0')\n"
     ]
    },
    {
     "name": "stderr",
     "output_type": "stream",
     "text": [
      "\r",
      " 31%|███       | 111/360 [01:45<03:54,  1.06it/s]"
     ]
    },
    {
     "name": "stdout",
     "output_type": "stream",
     "text": [
      "similarity of the two sentences:  tensor(0.7850, device='cuda:0')\n"
     ]
    },
    {
     "name": "stderr",
     "output_type": "stream",
     "text": [
      "\r",
      " 31%|███       | 112/360 [01:45<03:51,  1.07it/s]"
     ]
    },
    {
     "name": "stdout",
     "output_type": "stream",
     "text": [
      "similarity of the two sentences:  tensor(1.0000, device='cuda:0')\n"
     ]
    },
    {
     "name": "stderr",
     "output_type": "stream",
     "text": [
      "\r",
      " 31%|███▏      | 113/360 [01:46<03:48,  1.08it/s]"
     ]
    },
    {
     "name": "stdout",
     "output_type": "stream",
     "text": [
      "similarity of the two sentences:  tensor(0.9358, device='cuda:0')\n"
     ]
    },
    {
     "name": "stderr",
     "output_type": "stream",
     "text": [
      "\r",
      " 32%|███▏      | 114/360 [01:47<03:46,  1.09it/s]"
     ]
    },
    {
     "name": "stdout",
     "output_type": "stream",
     "text": [
      "similarity of the two sentences:  tensor(1.0000, device='cuda:0')\n"
     ]
    },
    {
     "name": "stderr",
     "output_type": "stream",
     "text": [
      "\r",
      " 32%|███▏      | 115/360 [01:48<03:45,  1.09it/s]"
     ]
    },
    {
     "name": "stdout",
     "output_type": "stream",
     "text": [
      "similarity of the two sentences:  tensor(0.9739, device='cuda:0')\n"
     ]
    },
    {
     "name": "stderr",
     "output_type": "stream",
     "text": [
      "\r",
      " 32%|███▏      | 116/360 [01:49<03:44,  1.09it/s]"
     ]
    },
    {
     "name": "stdout",
     "output_type": "stream",
     "text": [
      "similarity of the two sentences:  tensor(0.9912, device='cuda:0')\n"
     ]
    },
    {
     "name": "stderr",
     "output_type": "stream",
     "text": [
      "\r",
      " 32%|███▎      | 117/360 [01:50<03:47,  1.07it/s]"
     ]
    },
    {
     "name": "stdout",
     "output_type": "stream",
     "text": [
      "similarity of the two sentences:  tensor(1., device='cuda:0')\n"
     ]
    },
    {
     "name": "stderr",
     "output_type": "stream",
     "text": [
      "\r",
      " 33%|███▎      | 118/360 [01:51<03:47,  1.06it/s]"
     ]
    },
    {
     "name": "stdout",
     "output_type": "stream",
     "text": [
      "similarity of the two sentences:  tensor(0.8129, device='cuda:0')\n"
     ]
    },
    {
     "name": "stderr",
     "output_type": "stream",
     "text": [
      "\r",
      " 33%|███▎      | 119/360 [01:52<03:46,  1.06it/s]"
     ]
    },
    {
     "name": "stdout",
     "output_type": "stream",
     "text": [
      "similarity of the two sentences:  tensor(1., device='cuda:0')\n"
     ]
    },
    {
     "name": "stderr",
     "output_type": "stream",
     "text": [
      "\r",
      " 33%|███▎      | 120/360 [01:53<03:45,  1.06it/s]"
     ]
    },
    {
     "name": "stdout",
     "output_type": "stream",
     "text": [
      "similarity of the two sentences:  tensor(1.0000, device='cuda:0')\n"
     ]
    },
    {
     "name": "stderr",
     "output_type": "stream",
     "text": [
      "\r",
      " 34%|███▎      | 121/360 [01:54<03:45,  1.06it/s]"
     ]
    },
    {
     "name": "stdout",
     "output_type": "stream",
     "text": [
      "similarity of the two sentences:  tensor(1.0000, device='cuda:0')\n"
     ]
    },
    {
     "name": "stderr",
     "output_type": "stream",
     "text": [
      "\r",
      " 34%|███▍      | 122/360 [01:55<03:44,  1.06it/s]"
     ]
    },
    {
     "name": "stdout",
     "output_type": "stream",
     "text": [
      "similarity of the two sentences:  tensor(0.9260, device='cuda:0')\n"
     ]
    },
    {
     "name": "stderr",
     "output_type": "stream",
     "text": [
      "\r",
      " 34%|███▍      | 123/360 [01:56<03:43,  1.06it/s]"
     ]
    },
    {
     "name": "stdout",
     "output_type": "stream",
     "text": [
      "similarity of the two sentences:  tensor(0.9090, device='cuda:0')\n"
     ]
    },
    {
     "name": "stderr",
     "output_type": "stream",
     "text": [
      "\r",
      " 34%|███▍      | 124/360 [01:57<03:40,  1.07it/s]"
     ]
    },
    {
     "name": "stdout",
     "output_type": "stream",
     "text": [
      "similarity of the two sentences:  tensor(0.8826, device='cuda:0')\n"
     ]
    },
    {
     "name": "stderr",
     "output_type": "stream",
     "text": [
      "\r",
      " 35%|███▍      | 125/360 [01:58<03:37,  1.08it/s]"
     ]
    },
    {
     "name": "stdout",
     "output_type": "stream",
     "text": [
      "similarity of the two sentences:  tensor(0.9202, device='cuda:0')\n"
     ]
    },
    {
     "name": "stderr",
     "output_type": "stream",
     "text": [
      "\r",
      " 35%|███▌      | 126/360 [01:59<03:42,  1.05it/s]"
     ]
    },
    {
     "name": "stdout",
     "output_type": "stream",
     "text": [
      "similarity of the two sentences:  tensor(0.9158, device='cuda:0')\n"
     ]
    },
    {
     "name": "stderr",
     "output_type": "stream",
     "text": [
      "\r",
      " 35%|███▌      | 127/360 [01:59<03:40,  1.06it/s]"
     ]
    },
    {
     "name": "stdout",
     "output_type": "stream",
     "text": [
      "similarity of the two sentences:  tensor(0.7569, device='cuda:0')\n"
     ]
    },
    {
     "name": "stderr",
     "output_type": "stream",
     "text": [
      "\r",
      " 36%|███▌      | 128/360 [02:00<03:36,  1.07it/s]"
     ]
    },
    {
     "name": "stdout",
     "output_type": "stream",
     "text": [
      "similarity of the two sentences:  tensor(0.9233, device='cuda:0')\n"
     ]
    },
    {
     "name": "stderr",
     "output_type": "stream",
     "text": [
      "\r",
      " 36%|███▌      | 129/360 [02:01<03:35,  1.07it/s]"
     ]
    },
    {
     "name": "stdout",
     "output_type": "stream",
     "text": [
      "similarity of the two sentences:  tensor(0.9149, device='cuda:0')\n"
     ]
    },
    {
     "name": "stderr",
     "output_type": "stream",
     "text": [
      "\r",
      " 36%|███▌      | 130/360 [02:02<03:33,  1.08it/s]"
     ]
    },
    {
     "name": "stdout",
     "output_type": "stream",
     "text": [
      "similarity of the two sentences:  tensor(0.8985, device='cuda:0')\n"
     ]
    },
    {
     "name": "stderr",
     "output_type": "stream",
     "text": [
      "\r",
      " 36%|███▋      | 131/360 [02:03<03:31,  1.08it/s]"
     ]
    },
    {
     "name": "stdout",
     "output_type": "stream",
     "text": [
      "similarity of the two sentences:  tensor(0.9957, device='cuda:0')\n"
     ]
    },
    {
     "name": "stderr",
     "output_type": "stream",
     "text": [
      "\r",
      " 37%|███▋      | 132/360 [02:04<03:29,  1.09it/s]"
     ]
    },
    {
     "name": "stdout",
     "output_type": "stream",
     "text": [
      "similarity of the two sentences:  tensor(0.9941, device='cuda:0')\n"
     ]
    },
    {
     "name": "stderr",
     "output_type": "stream",
     "text": [
      "\r",
      " 37%|███▋      | 133/360 [02:05<03:27,  1.09it/s]"
     ]
    },
    {
     "name": "stdout",
     "output_type": "stream",
     "text": [
      "similarity of the two sentences:  tensor(0.8069, device='cuda:0')\n"
     ]
    },
    {
     "name": "stderr",
     "output_type": "stream",
     "text": [
      "\r",
      " 37%|███▋      | 134/360 [02:06<03:26,  1.09it/s]"
     ]
    },
    {
     "name": "stdout",
     "output_type": "stream",
     "text": [
      "similarity of the two sentences:  tensor(0.9059, device='cuda:0')\n"
     ]
    },
    {
     "name": "stderr",
     "output_type": "stream",
     "text": [
      "\r",
      " 38%|███▊      | 135/360 [02:07<03:26,  1.09it/s]"
     ]
    },
    {
     "name": "stdout",
     "output_type": "stream",
     "text": [
      "similarity of the two sentences:  tensor(0.8443, device='cuda:0')\n"
     ]
    },
    {
     "name": "stderr",
     "output_type": "stream",
     "text": [
      "\r",
      " 38%|███▊      | 136/360 [02:08<03:24,  1.09it/s]"
     ]
    },
    {
     "name": "stdout",
     "output_type": "stream",
     "text": [
      "similarity of the two sentences:  tensor(0.9249, device='cuda:0')\n"
     ]
    },
    {
     "name": "stderr",
     "output_type": "stream",
     "text": [
      "\r",
      " 38%|███▊      | 137/360 [02:09<03:29,  1.07it/s]"
     ]
    },
    {
     "name": "stdout",
     "output_type": "stream",
     "text": [
      "similarity of the two sentences:  tensor(0.9451, device='cuda:0')\n"
     ]
    },
    {
     "name": "stderr",
     "output_type": "stream",
     "text": [
      "\r",
      " 38%|███▊      | 138/360 [02:10<03:38,  1.02it/s]"
     ]
    },
    {
     "name": "stdout",
     "output_type": "stream",
     "text": [
      "similarity of the two sentences:  tensor(0.7863, device='cuda:0')\n"
     ]
    },
    {
     "name": "stderr",
     "output_type": "stream",
     "text": [
      "\r",
      " 39%|███▊      | 139/360 [02:11<03:37,  1.02it/s]"
     ]
    },
    {
     "name": "stdout",
     "output_type": "stream",
     "text": [
      "similarity of the two sentences:  tensor(0.8856, device='cuda:0')\n"
     ]
    },
    {
     "name": "stderr",
     "output_type": "stream",
     "text": [
      "\r",
      " 39%|███▉      | 140/360 [02:12<03:33,  1.03it/s]"
     ]
    },
    {
     "name": "stdout",
     "output_type": "stream",
     "text": [
      "similarity of the two sentences:  tensor(1.0000, device='cuda:0')\n"
     ]
    },
    {
     "name": "stderr",
     "output_type": "stream",
     "text": [
      "\r",
      " 39%|███▉      | 141/360 [02:13<03:33,  1.03it/s]"
     ]
    },
    {
     "name": "stdout",
     "output_type": "stream",
     "text": [
      "similarity of the two sentences:  tensor(0.8117, device='cuda:0')\n"
     ]
    },
    {
     "name": "stderr",
     "output_type": "stream",
     "text": [
      "\r",
      " 39%|███▉      | 142/360 [02:14<03:31,  1.03it/s]"
     ]
    },
    {
     "name": "stdout",
     "output_type": "stream",
     "text": [
      "similarity of the two sentences:  tensor(0.9667, device='cuda:0')\n"
     ]
    },
    {
     "name": "stderr",
     "output_type": "stream",
     "text": [
      "\r",
      " 40%|███▉      | 143/360 [02:15<03:27,  1.05it/s]"
     ]
    },
    {
     "name": "stdout",
     "output_type": "stream",
     "text": [
      "similarity of the two sentences:  tensor(0.8357, device='cuda:0')\n"
     ]
    },
    {
     "name": "stderr",
     "output_type": "stream",
     "text": [
      "\r",
      " 40%|████      | 144/360 [02:16<03:24,  1.06it/s]"
     ]
    },
    {
     "name": "stdout",
     "output_type": "stream",
     "text": [
      "similarity of the two sentences:  tensor(1., device='cuda:0')\n"
     ]
    },
    {
     "name": "stderr",
     "output_type": "stream",
     "text": [
      "\r",
      " 40%|████      | 145/360 [02:16<03:21,  1.07it/s]"
     ]
    },
    {
     "name": "stdout",
     "output_type": "stream",
     "text": [
      "similarity of the two sentences:  tensor(1.0000, device='cuda:0')\n"
     ]
    },
    {
     "name": "stderr",
     "output_type": "stream",
     "text": [
      "\r",
      " 41%|████      | 146/360 [02:17<03:18,  1.08it/s]"
     ]
    },
    {
     "name": "stdout",
     "output_type": "stream",
     "text": [
      "similarity of the two sentences:  tensor(1.0000, device='cuda:0')\n"
     ]
    },
    {
     "name": "stderr",
     "output_type": "stream",
     "text": [
      "\r",
      " 41%|████      | 147/360 [02:18<03:24,  1.04it/s]"
     ]
    },
    {
     "name": "stdout",
     "output_type": "stream",
     "text": [
      "similarity of the two sentences:  tensor(0.7656, device='cuda:0')\n"
     ]
    },
    {
     "name": "stderr",
     "output_type": "stream",
     "text": [
      "\r",
      " 41%|████      | 148/360 [02:19<03:23,  1.04it/s]"
     ]
    },
    {
     "name": "stdout",
     "output_type": "stream",
     "text": [
      "similarity of the two sentences:  tensor(0.8192, device='cuda:0')\n"
     ]
    },
    {
     "name": "stderr",
     "output_type": "stream",
     "text": [
      "\r",
      " 41%|████▏     | 149/360 [02:20<03:19,  1.06it/s]"
     ]
    },
    {
     "name": "stdout",
     "output_type": "stream",
     "text": [
      "similarity of the two sentences:  tensor(0.9603, device='cuda:0')\n"
     ]
    },
    {
     "name": "stderr",
     "output_type": "stream",
     "text": [
      "\r",
      " 42%|████▏     | 150/360 [02:21<03:20,  1.05it/s]"
     ]
    },
    {
     "name": "stdout",
     "output_type": "stream",
     "text": [
      "similarity of the two sentences:  tensor(1., device='cuda:0')\n"
     ]
    },
    {
     "name": "stderr",
     "output_type": "stream",
     "text": [
      "\r",
      " 42%|████▏     | 151/360 [02:22<03:21,  1.04it/s]"
     ]
    },
    {
     "name": "stdout",
     "output_type": "stream",
     "text": [
      "similarity of the two sentences:  tensor(1., device='cuda:0')\n"
     ]
    },
    {
     "name": "stderr",
     "output_type": "stream",
     "text": [
      "\r",
      " 42%|████▏     | 152/360 [02:23<03:16,  1.06it/s]"
     ]
    },
    {
     "name": "stdout",
     "output_type": "stream",
     "text": [
      "similarity of the two sentences:  tensor(0.9150, device='cuda:0')\n"
     ]
    },
    {
     "name": "stderr",
     "output_type": "stream",
     "text": [
      "\r",
      " 42%|████▎     | 153/360 [02:24<03:15,  1.06it/s]"
     ]
    },
    {
     "name": "stdout",
     "output_type": "stream",
     "text": [
      "similarity of the two sentences:  tensor(0.8010, device='cuda:0')\n"
     ]
    },
    {
     "name": "stderr",
     "output_type": "stream",
     "text": [
      "\r",
      " 43%|████▎     | 154/360 [02:25<03:13,  1.07it/s]"
     ]
    },
    {
     "name": "stdout",
     "output_type": "stream",
     "text": [
      "similarity of the two sentences:  tensor(0.9133, device='cuda:0')\n"
     ]
    },
    {
     "name": "stderr",
     "output_type": "stream",
     "text": [
      "\r",
      " 43%|████▎     | 155/360 [02:26<03:11,  1.07it/s]"
     ]
    },
    {
     "name": "stdout",
     "output_type": "stream",
     "text": [
      "similarity of the two sentences:  tensor(1.0000, device='cuda:0')\n"
     ]
    },
    {
     "name": "stderr",
     "output_type": "stream",
     "text": [
      "\r",
      " 43%|████▎     | 156/360 [02:27<03:10,  1.07it/s]"
     ]
    },
    {
     "name": "stdout",
     "output_type": "stream",
     "text": [
      "similarity of the two sentences:  tensor(0.8355, device='cuda:0')\n"
     ]
    },
    {
     "name": "stderr",
     "output_type": "stream",
     "text": [
      "\r",
      " 44%|████▎     | 157/360 [02:28<03:10,  1.07it/s]"
     ]
    },
    {
     "name": "stdout",
     "output_type": "stream",
     "text": [
      "similarity of the two sentences:  tensor(1., device='cuda:0')\n"
     ]
    },
    {
     "name": "stderr",
     "output_type": "stream",
     "text": [
      "\r",
      " 44%|████▍     | 158/360 [02:29<03:14,  1.04it/s]"
     ]
    },
    {
     "name": "stdout",
     "output_type": "stream",
     "text": [
      "similarity of the two sentences:  tensor(1.0000, device='cuda:0')\n"
     ]
    },
    {
     "name": "stderr",
     "output_type": "stream",
     "text": [
      "\r",
      " 44%|████▍     | 159/360 [02:30<03:13,  1.04it/s]"
     ]
    },
    {
     "name": "stdout",
     "output_type": "stream",
     "text": [
      "similarity of the two sentences:  tensor(0.9622, device='cuda:0')\n"
     ]
    },
    {
     "name": "stderr",
     "output_type": "stream",
     "text": [
      "\r",
      " 44%|████▍     | 160/360 [02:31<03:11,  1.05it/s]"
     ]
    },
    {
     "name": "stdout",
     "output_type": "stream",
     "text": [
      "similarity of the two sentences:  tensor(1.0000, device='cuda:0')\n"
     ]
    },
    {
     "name": "stderr",
     "output_type": "stream",
     "text": [
      "\r",
      " 45%|████▍     | 161/360 [02:32<03:10,  1.04it/s]"
     ]
    },
    {
     "name": "stdout",
     "output_type": "stream",
     "text": [
      "similarity of the two sentences:  tensor(0.8932, device='cuda:0')\n"
     ]
    },
    {
     "name": "stderr",
     "output_type": "stream",
     "text": [
      "\r",
      " 45%|████▌     | 162/360 [02:33<03:10,  1.04it/s]"
     ]
    },
    {
     "name": "stdout",
     "output_type": "stream",
     "text": [
      "similarity of the two sentences:  tensor(0.9446, device='cuda:0')\n"
     ]
    },
    {
     "name": "stderr",
     "output_type": "stream",
     "text": [
      "\r",
      " 45%|████▌     | 163/360 [02:34<03:11,  1.03it/s]"
     ]
    },
    {
     "name": "stdout",
     "output_type": "stream",
     "text": [
      "similarity of the two sentences:  tensor(1., device='cuda:0')\n"
     ]
    },
    {
     "name": "stderr",
     "output_type": "stream",
     "text": [
      "\r",
      " 46%|████▌     | 164/360 [02:35<03:12,  1.02it/s]"
     ]
    },
    {
     "name": "stdout",
     "output_type": "stream",
     "text": [
      "similarity of the two sentences:  tensor(1., device='cuda:0')\n"
     ]
    },
    {
     "name": "stderr",
     "output_type": "stream",
     "text": [
      "\r",
      " 46%|████▌     | 165/360 [02:36<03:16,  1.01s/it]"
     ]
    },
    {
     "name": "stdout",
     "output_type": "stream",
     "text": [
      "similarity of the two sentences:  tensor(1., device='cuda:0')\n"
     ]
    },
    {
     "name": "stderr",
     "output_type": "stream",
     "text": [
      "\r",
      " 46%|████▌     | 166/360 [02:37<03:15,  1.01s/it]"
     ]
    },
    {
     "name": "stdout",
     "output_type": "stream",
     "text": [
      "similarity of the two sentences:  tensor(0.9207, device='cuda:0')\n"
     ]
    },
    {
     "name": "stderr",
     "output_type": "stream",
     "text": [
      "\r",
      " 46%|████▋     | 167/360 [02:38<03:10,  1.02it/s]"
     ]
    },
    {
     "name": "stdout",
     "output_type": "stream",
     "text": [
      "similarity of the two sentences:  tensor(0.7764, device='cuda:0')\n"
     ]
    },
    {
     "name": "stderr",
     "output_type": "stream",
     "text": [
      "\r",
      " 47%|████▋     | 168/360 [02:39<03:05,  1.03it/s]"
     ]
    },
    {
     "name": "stdout",
     "output_type": "stream",
     "text": [
      "similarity of the two sentences:  tensor(0.7716, device='cuda:0')\n"
     ]
    },
    {
     "name": "stderr",
     "output_type": "stream",
     "text": [
      "\r",
      " 47%|████▋     | 169/360 [02:39<03:02,  1.05it/s]"
     ]
    },
    {
     "name": "stdout",
     "output_type": "stream",
     "text": [
      "similarity of the two sentences:  tensor(0.8707, device='cuda:0')\n"
     ]
    },
    {
     "name": "stderr",
     "output_type": "stream",
     "text": [
      "\r",
      " 47%|████▋     | 170/360 [02:40<02:59,  1.06it/s]"
     ]
    },
    {
     "name": "stdout",
     "output_type": "stream",
     "text": [
      "similarity of the two sentences:  tensor(1.0000, device='cuda:0')\n"
     ]
    },
    {
     "name": "stderr",
     "output_type": "stream",
     "text": [
      "\r",
      " 48%|████▊     | 171/360 [02:41<02:56,  1.07it/s]"
     ]
    },
    {
     "name": "stdout",
     "output_type": "stream",
     "text": [
      "similarity of the two sentences:  tensor(0.7702, device='cuda:0')\n"
     ]
    },
    {
     "name": "stderr",
     "output_type": "stream",
     "text": [
      "\r",
      " 48%|████▊     | 172/360 [02:42<02:54,  1.08it/s]"
     ]
    },
    {
     "name": "stdout",
     "output_type": "stream",
     "text": [
      "similarity of the two sentences:  tensor(0.9110, device='cuda:0')\n"
     ]
    },
    {
     "name": "stderr",
     "output_type": "stream",
     "text": [
      "\r",
      " 48%|████▊     | 173/360 [02:43<02:53,  1.08it/s]"
     ]
    },
    {
     "name": "stdout",
     "output_type": "stream",
     "text": [
      "similarity of the two sentences:  tensor(1., device='cuda:0')\n"
     ]
    },
    {
     "name": "stderr",
     "output_type": "stream",
     "text": [
      "\r",
      " 48%|████▊     | 174/360 [02:44<02:53,  1.07it/s]"
     ]
    },
    {
     "name": "stdout",
     "output_type": "stream",
     "text": [
      "similarity of the two sentences:  tensor(1., device='cuda:0')\n"
     ]
    },
    {
     "name": "stderr",
     "output_type": "stream",
     "text": [
      "\r",
      " 49%|████▊     | 175/360 [02:45<02:51,  1.08it/s]"
     ]
    },
    {
     "name": "stdout",
     "output_type": "stream",
     "text": [
      "similarity of the two sentences:  tensor(0.9272, device='cuda:0')\n"
     ]
    },
    {
     "name": "stderr",
     "output_type": "stream",
     "text": [
      "\r",
      " 49%|████▉     | 176/360 [02:46<02:49,  1.09it/s]"
     ]
    },
    {
     "name": "stdout",
     "output_type": "stream",
     "text": [
      "similarity of the two sentences:  tensor(0.9364, device='cuda:0')\n"
     ]
    },
    {
     "name": "stderr",
     "output_type": "stream",
     "text": [
      "\r",
      " 49%|████▉     | 177/360 [02:47<02:54,  1.05it/s]"
     ]
    },
    {
     "name": "stdout",
     "output_type": "stream",
     "text": [
      "similarity of the two sentences:  tensor(1.0000, device='cuda:0')\n"
     ]
    },
    {
     "name": "stderr",
     "output_type": "stream",
     "text": [
      "\r",
      " 49%|████▉     | 178/360 [02:48<02:56,  1.03it/s]"
     ]
    },
    {
     "name": "stdout",
     "output_type": "stream",
     "text": [
      "similarity of the two sentences:  tensor(0.7979, device='cuda:0')\n"
     ]
    },
    {
     "name": "stderr",
     "output_type": "stream",
     "text": [
      "\r",
      " 50%|████▉     | 179/360 [02:49<02:54,  1.04it/s]"
     ]
    },
    {
     "name": "stdout",
     "output_type": "stream",
     "text": [
      "similarity of the two sentences:  tensor(1., device='cuda:0')\n"
     ]
    },
    {
     "name": "stderr",
     "output_type": "stream",
     "text": [
      "\r",
      " 50%|█████     | 180/360 [02:50<02:50,  1.05it/s]"
     ]
    },
    {
     "name": "stdout",
     "output_type": "stream",
     "text": [
      "similarity of the two sentences:  tensor(1.0000, device='cuda:0')\n"
     ]
    },
    {
     "name": "stderr",
     "output_type": "stream",
     "text": [
      "\r",
      " 50%|█████     | 181/360 [02:51<02:47,  1.07it/s]"
     ]
    },
    {
     "name": "stdout",
     "output_type": "stream",
     "text": [
      "similarity of the two sentences:  tensor(0.9921, device='cuda:0')\n"
     ]
    },
    {
     "name": "stderr",
     "output_type": "stream",
     "text": [
      "\r",
      " 51%|█████     | 182/360 [02:52<02:48,  1.06it/s]"
     ]
    },
    {
     "name": "stdout",
     "output_type": "stream",
     "text": [
      "similarity of the two sentences:  tensor(1., device='cuda:0')\n"
     ]
    },
    {
     "name": "stderr",
     "output_type": "stream",
     "text": [
      "\r",
      " 51%|█████     | 183/360 [02:53<02:46,  1.06it/s]"
     ]
    },
    {
     "name": "stdout",
     "output_type": "stream",
     "text": [
      "similarity of the two sentences:  tensor(1., device='cuda:0')\n"
     ]
    },
    {
     "name": "stderr",
     "output_type": "stream",
     "text": [
      "\r",
      " 51%|█████     | 184/360 [02:54<02:44,  1.07it/s]"
     ]
    },
    {
     "name": "stdout",
     "output_type": "stream",
     "text": [
      "similarity of the two sentences:  tensor(0.7795, device='cuda:0')\n"
     ]
    },
    {
     "name": "stderr",
     "output_type": "stream",
     "text": [
      "\r",
      " 51%|█████▏    | 185/360 [02:54<02:42,  1.08it/s]"
     ]
    },
    {
     "name": "stdout",
     "output_type": "stream",
     "text": [
      "similarity of the two sentences:  tensor(0.9838, device='cuda:0')\n"
     ]
    },
    {
     "name": "stderr",
     "output_type": "stream",
     "text": [
      "\r",
      " 52%|█████▏    | 186/360 [02:55<02:40,  1.08it/s]"
     ]
    },
    {
     "name": "stdout",
     "output_type": "stream",
     "text": [
      "similarity of the two sentences:  tensor(1., device='cuda:0')\n"
     ]
    },
    {
     "name": "stderr",
     "output_type": "stream",
     "text": [
      "\r",
      " 52%|█████▏    | 187/360 [02:56<02:39,  1.09it/s]"
     ]
    },
    {
     "name": "stdout",
     "output_type": "stream",
     "text": [
      "similarity of the two sentences:  tensor(0.8346, device='cuda:0')\n"
     ]
    },
    {
     "name": "stderr",
     "output_type": "stream",
     "text": [
      "\r",
      " 52%|█████▏    | 188/360 [02:57<02:37,  1.09it/s]"
     ]
    },
    {
     "name": "stdout",
     "output_type": "stream",
     "text": [
      "similarity of the two sentences:  tensor(1., device='cuda:0')\n"
     ]
    },
    {
     "name": "stderr",
     "output_type": "stream",
     "text": [
      "\r",
      " 52%|█████▎    | 189/360 [02:58<02:36,  1.09it/s]"
     ]
    },
    {
     "name": "stdout",
     "output_type": "stream",
     "text": [
      "similarity of the two sentences:  tensor(0.9163, device='cuda:0')\n"
     ]
    },
    {
     "name": "stderr",
     "output_type": "stream",
     "text": [
      "\r",
      " 53%|█████▎    | 190/360 [02:59<02:35,  1.09it/s]"
     ]
    },
    {
     "name": "stdout",
     "output_type": "stream",
     "text": [
      "similarity of the two sentences:  tensor(1.0000, device='cuda:0')\n"
     ]
    },
    {
     "name": "stderr",
     "output_type": "stream",
     "text": [
      "\r",
      " 53%|█████▎    | 191/360 [03:00<02:34,  1.09it/s]"
     ]
    },
    {
     "name": "stdout",
     "output_type": "stream",
     "text": [
      "similarity of the two sentences:  tensor(0.9000, device='cuda:0')\n"
     ]
    },
    {
     "name": "stderr",
     "output_type": "stream",
     "text": [
      "\r",
      " 53%|█████▎    | 192/360 [03:01<02:33,  1.09it/s]"
     ]
    },
    {
     "name": "stdout",
     "output_type": "stream",
     "text": [
      "similarity of the two sentences:  tensor(1., device='cuda:0')\n"
     ]
    },
    {
     "name": "stderr",
     "output_type": "stream",
     "text": [
      "\r",
      " 54%|█████▎    | 193/360 [03:02<02:37,  1.06it/s]"
     ]
    },
    {
     "name": "stdout",
     "output_type": "stream",
     "text": [
      "similarity of the two sentences:  tensor(1., device='cuda:0')\n"
     ]
    },
    {
     "name": "stderr",
     "output_type": "stream",
     "text": [
      "\r",
      " 54%|█████▍    | 194/360 [03:03<02:37,  1.05it/s]"
     ]
    },
    {
     "name": "stdout",
     "output_type": "stream",
     "text": [
      "similarity of the two sentences:  tensor(1., device='cuda:0')\n"
     ]
    },
    {
     "name": "stderr",
     "output_type": "stream",
     "text": [
      "\r",
      " 54%|█████▍    | 195/360 [03:04<02:37,  1.05it/s]"
     ]
    },
    {
     "name": "stdout",
     "output_type": "stream",
     "text": [
      "similarity of the two sentences:  tensor(1.0000, device='cuda:0')\n"
     ]
    },
    {
     "name": "stderr",
     "output_type": "stream",
     "text": [
      "\r",
      " 54%|█████▍    | 196/360 [03:05<02:34,  1.06it/s]"
     ]
    },
    {
     "name": "stdout",
     "output_type": "stream",
     "text": [
      "similarity of the two sentences:  tensor(0.8900, device='cuda:0')\n"
     ]
    },
    {
     "name": "stderr",
     "output_type": "stream",
     "text": [
      "\r",
      " 55%|█████▍    | 197/360 [03:06<02:33,  1.06it/s]"
     ]
    },
    {
     "name": "stdout",
     "output_type": "stream",
     "text": [
      "similarity of the two sentences:  tensor(0.8057, device='cuda:0')\n"
     ]
    },
    {
     "name": "stderr",
     "output_type": "stream",
     "text": [
      "\r",
      " 55%|█████▌    | 198/360 [03:07<02:35,  1.04it/s]"
     ]
    },
    {
     "name": "stdout",
     "output_type": "stream",
     "text": [
      "similarity of the two sentences:  tensor(0.9942, device='cuda:0')\n"
     ]
    },
    {
     "name": "stderr",
     "output_type": "stream",
     "text": [
      "\r",
      " 55%|█████▌    | 199/360 [03:08<02:35,  1.04it/s]"
     ]
    },
    {
     "name": "stdout",
     "output_type": "stream",
     "text": [
      "similarity of the two sentences:  tensor(0.9342, device='cuda:0')\n"
     ]
    },
    {
     "name": "stderr",
     "output_type": "stream",
     "text": [
      "\r",
      " 56%|█████▌    | 200/360 [03:09<02:31,  1.05it/s]"
     ]
    },
    {
     "name": "stdout",
     "output_type": "stream",
     "text": [
      "similarity of the two sentences:  tensor(0.9751, device='cuda:0')\n"
     ]
    },
    {
     "name": "stderr",
     "output_type": "stream",
     "text": [
      "\r",
      " 56%|█████▌    | 201/360 [03:10<02:31,  1.05it/s]"
     ]
    },
    {
     "name": "stdout",
     "output_type": "stream",
     "text": [
      "similarity of the two sentences:  tensor(0.9878, device='cuda:0')\n"
     ]
    },
    {
     "name": "stderr",
     "output_type": "stream",
     "text": [
      "\r",
      " 56%|█████▌    | 202/360 [03:10<02:30,  1.05it/s]"
     ]
    },
    {
     "name": "stdout",
     "output_type": "stream",
     "text": [
      "similarity of the two sentences:  tensor(0.9861, device='cuda:0')\n"
     ]
    },
    {
     "name": "stderr",
     "output_type": "stream",
     "text": [
      "\r",
      " 56%|█████▋    | 203/360 [03:11<02:28,  1.06it/s]"
     ]
    },
    {
     "name": "stdout",
     "output_type": "stream",
     "text": [
      "similarity of the two sentences:  tensor(0.9334, device='cuda:0')\n"
     ]
    },
    {
     "name": "stderr",
     "output_type": "stream",
     "text": [
      "\r",
      " 57%|█████▋    | 204/360 [03:12<02:29,  1.04it/s]"
     ]
    },
    {
     "name": "stdout",
     "output_type": "stream",
     "text": [
      "similarity of the two sentences:  tensor(0.7539, device='cuda:0')\n"
     ]
    },
    {
     "name": "stderr",
     "output_type": "stream",
     "text": [
      "\r",
      " 57%|█████▋    | 205/360 [03:13<02:25,  1.07it/s]"
     ]
    },
    {
     "name": "stdout",
     "output_type": "stream",
     "text": [
      "similarity of the two sentences:  tensor(1.0000, device='cuda:0')\n"
     ]
    },
    {
     "name": "stderr",
     "output_type": "stream",
     "text": [
      "\r",
      " 57%|█████▋    | 206/360 [03:14<02:20,  1.09it/s]"
     ]
    },
    {
     "name": "stdout",
     "output_type": "stream",
     "text": [
      "similarity of the two sentences:  tensor(0.9541, device='cuda:0')\n"
     ]
    },
    {
     "name": "stderr",
     "output_type": "stream",
     "text": [
      "\r",
      " 57%|█████▊    | 207/360 [03:15<02:22,  1.07it/s]"
     ]
    },
    {
     "name": "stdout",
     "output_type": "stream",
     "text": [
      "similarity of the two sentences:  tensor(0.8601, device='cuda:0')\n"
     ]
    },
    {
     "name": "stderr",
     "output_type": "stream",
     "text": [
      "\r",
      " 58%|█████▊    | 208/360 [03:16<02:20,  1.08it/s]"
     ]
    },
    {
     "name": "stdout",
     "output_type": "stream",
     "text": [
      "similarity of the two sentences:  tensor(0.9933, device='cuda:0')\n"
     ]
    },
    {
     "name": "stderr",
     "output_type": "stream",
     "text": [
      "\r",
      " 58%|█████▊    | 209/360 [03:17<02:15,  1.11it/s]"
     ]
    },
    {
     "name": "stdout",
     "output_type": "stream",
     "text": [
      "similarity of the two sentences:  tensor(0.8017, device='cuda:0')\n"
     ]
    },
    {
     "name": "stderr",
     "output_type": "stream",
     "text": [
      "\r",
      " 58%|█████▊    | 210/360 [03:18<02:14,  1.11it/s]"
     ]
    },
    {
     "name": "stdout",
     "output_type": "stream",
     "text": [
      "similarity of the two sentences:  tensor(1., device='cuda:0')\n"
     ]
    },
    {
     "name": "stderr",
     "output_type": "stream",
     "text": [
      "\r",
      " 59%|█████▊    | 211/360 [03:19<02:12,  1.12it/s]"
     ]
    },
    {
     "name": "stdout",
     "output_type": "stream",
     "text": [
      "similarity of the two sentences:  tensor(1., device='cuda:0')\n"
     ]
    },
    {
     "name": "stderr",
     "output_type": "stream",
     "text": [
      "\r",
      " 59%|█████▉    | 212/360 [03:19<02:10,  1.13it/s]"
     ]
    },
    {
     "name": "stdout",
     "output_type": "stream",
     "text": [
      "similarity of the two sentences:  tensor(1., device='cuda:0')\n"
     ]
    },
    {
     "name": "stderr",
     "output_type": "stream",
     "text": [
      "\r",
      " 59%|█████▉    | 213/360 [03:20<02:14,  1.09it/s]"
     ]
    },
    {
     "name": "stdout",
     "output_type": "stream",
     "text": [
      "similarity of the two sentences:  tensor(1.0000, device='cuda:0')\n"
     ]
    },
    {
     "name": "stderr",
     "output_type": "stream",
     "text": [
      "\r",
      " 59%|█████▉    | 214/360 [03:21<02:11,  1.11it/s]"
     ]
    },
    {
     "name": "stdout",
     "output_type": "stream",
     "text": [
      "similarity of the two sentences:  tensor(1.0000, device='cuda:0')\n"
     ]
    },
    {
     "name": "stderr",
     "output_type": "stream",
     "text": [
      "\r",
      " 60%|█████▉    | 215/360 [03:22<02:08,  1.13it/s]"
     ]
    },
    {
     "name": "stdout",
     "output_type": "stream",
     "text": [
      "similarity of the two sentences:  tensor(0.8723, device='cuda:0')\n"
     ]
    },
    {
     "name": "stderr",
     "output_type": "stream",
     "text": [
      "\r",
      " 60%|██████    | 216/360 [03:23<02:09,  1.11it/s]"
     ]
    },
    {
     "name": "stdout",
     "output_type": "stream",
     "text": [
      "similarity of the two sentences:  tensor(1., device='cuda:0')\n"
     ]
    },
    {
     "name": "stderr",
     "output_type": "stream",
     "text": [
      "\r",
      " 60%|██████    | 217/360 [03:24<02:07,  1.12it/s]"
     ]
    },
    {
     "name": "stdout",
     "output_type": "stream",
     "text": [
      "similarity of the two sentences:  tensor(1.0000, device='cuda:0')\n"
     ]
    },
    {
     "name": "stderr",
     "output_type": "stream",
     "text": [
      "\r",
      " 61%|██████    | 218/360 [03:25<02:05,  1.13it/s]"
     ]
    },
    {
     "name": "stdout",
     "output_type": "stream",
     "text": [
      "similarity of the two sentences:  tensor(0.7645, device='cuda:0')\n"
     ]
    },
    {
     "name": "stderr",
     "output_type": "stream",
     "text": [
      "\r",
      " 61%|██████    | 219/360 [03:26<02:05,  1.12it/s]"
     ]
    },
    {
     "name": "stdout",
     "output_type": "stream",
     "text": [
      "similarity of the two sentences:  tensor(1., device='cuda:0')\n"
     ]
    },
    {
     "name": "stderr",
     "output_type": "stream",
     "text": [
      "\r",
      " 61%|██████    | 220/360 [03:27<02:04,  1.13it/s]"
     ]
    },
    {
     "name": "stdout",
     "output_type": "stream",
     "text": [
      "similarity of the two sentences:  tensor(1.0000, device='cuda:0')\n"
     ]
    },
    {
     "name": "stderr",
     "output_type": "stream",
     "text": [
      "\r",
      " 61%|██████▏   | 221/360 [03:28<02:02,  1.13it/s]"
     ]
    },
    {
     "name": "stdout",
     "output_type": "stream",
     "text": [
      "similarity of the two sentences:  tensor(1.0000, device='cuda:0')\n"
     ]
    },
    {
     "name": "stderr",
     "output_type": "stream",
     "text": [
      "\r",
      " 62%|██████▏   | 222/360 [03:29<02:05,  1.10it/s]"
     ]
    },
    {
     "name": "stdout",
     "output_type": "stream",
     "text": [
      "similarity of the two sentences:  tensor(0.8210, device='cuda:0')\n"
     ]
    },
    {
     "name": "stderr",
     "output_type": "stream",
     "text": [
      "\r",
      " 62%|██████▏   | 223/360 [03:29<02:04,  1.10it/s]"
     ]
    },
    {
     "name": "stdout",
     "output_type": "stream",
     "text": [
      "similarity of the two sentences:  tensor(0.7683, device='cuda:0')\n"
     ]
    },
    {
     "name": "stderr",
     "output_type": "stream",
     "text": [
      "\r",
      " 62%|██████▏   | 224/360 [03:30<02:01,  1.12it/s]"
     ]
    },
    {
     "name": "stdout",
     "output_type": "stream",
     "text": [
      "similarity of the two sentences:  tensor(1.0000, device='cuda:0')\n"
     ]
    },
    {
     "name": "stderr",
     "output_type": "stream",
     "text": [
      "\r",
      " 62%|██████▎   | 225/360 [03:31<02:02,  1.10it/s]"
     ]
    },
    {
     "name": "stdout",
     "output_type": "stream",
     "text": [
      "similarity of the two sentences:  tensor(1., device='cuda:0')\n"
     ]
    },
    {
     "name": "stderr",
     "output_type": "stream",
     "text": [
      "\r",
      " 63%|██████▎   | 226/360 [03:32<02:00,  1.12it/s]"
     ]
    },
    {
     "name": "stdout",
     "output_type": "stream",
     "text": [
      "similarity of the two sentences:  tensor(0.9593, device='cuda:0')\n"
     ]
    },
    {
     "name": "stderr",
     "output_type": "stream",
     "text": [
      "\r",
      " 63%|██████▎   | 227/360 [03:33<01:58,  1.12it/s]"
     ]
    },
    {
     "name": "stdout",
     "output_type": "stream",
     "text": [
      "similarity of the two sentences:  tensor(0.8646, device='cuda:0')\n"
     ]
    },
    {
     "name": "stderr",
     "output_type": "stream",
     "text": [
      "\r",
      " 63%|██████▎   | 228/360 [03:34<01:59,  1.10it/s]"
     ]
    },
    {
     "name": "stdout",
     "output_type": "stream",
     "text": [
      "similarity of the two sentences:  tensor(1.0000, device='cuda:0')\n"
     ]
    },
    {
     "name": "stderr",
     "output_type": "stream",
     "text": [
      "\r",
      " 64%|██████▎   | 229/360 [03:35<01:59,  1.10it/s]"
     ]
    },
    {
     "name": "stdout",
     "output_type": "stream",
     "text": [
      "similarity of the two sentences:  tensor(1.0000, device='cuda:0')\n"
     ]
    },
    {
     "name": "stderr",
     "output_type": "stream",
     "text": [
      "\r",
      " 64%|██████▍   | 230/360 [03:36<01:56,  1.12it/s]"
     ]
    },
    {
     "name": "stdout",
     "output_type": "stream",
     "text": [
      "similarity of the two sentences:  tensor(0.8374, device='cuda:0')\n"
     ]
    },
    {
     "name": "stderr",
     "output_type": "stream",
     "text": [
      "\r",
      " 64%|██████▍   | 231/360 [03:37<01:56,  1.10it/s]"
     ]
    },
    {
     "name": "stdout",
     "output_type": "stream",
     "text": [
      "similarity of the two sentences:  tensor(0.9967, device='cuda:0')\n"
     ]
    },
    {
     "name": "stderr",
     "output_type": "stream",
     "text": [
      "\r",
      " 64%|██████▍   | 232/360 [03:38<01:55,  1.11it/s]"
     ]
    },
    {
     "name": "stdout",
     "output_type": "stream",
     "text": [
      "similarity of the two sentences:  tensor(0.8443, device='cuda:0')\n"
     ]
    },
    {
     "name": "stderr",
     "output_type": "stream",
     "text": [
      "\r",
      " 65%|██████▍   | 233/360 [03:38<01:53,  1.12it/s]"
     ]
    },
    {
     "name": "stdout",
     "output_type": "stream",
     "text": [
      "similarity of the two sentences:  tensor(0.8679, device='cuda:0')\n"
     ]
    },
    {
     "name": "stderr",
     "output_type": "stream",
     "text": [
      "\r",
      " 65%|██████▌   | 234/360 [03:39<01:53,  1.11it/s]"
     ]
    },
    {
     "name": "stdout",
     "output_type": "stream",
     "text": [
      "similarity of the two sentences:  tensor(0.9900, device='cuda:0')\n"
     ]
    },
    {
     "name": "stderr",
     "output_type": "stream",
     "text": [
      "\r",
      " 65%|██████▌   | 235/360 [03:40<01:51,  1.12it/s]"
     ]
    },
    {
     "name": "stdout",
     "output_type": "stream",
     "text": [
      "similarity of the two sentences:  tensor(1., device='cuda:0')\n"
     ]
    },
    {
     "name": "stderr",
     "output_type": "stream",
     "text": [
      "\r",
      " 66%|██████▌   | 236/360 [03:41<01:48,  1.14it/s]"
     ]
    },
    {
     "name": "stdout",
     "output_type": "stream",
     "text": [
      "similarity of the two sentences:  tensor(0.9777, device='cuda:0')\n"
     ]
    },
    {
     "name": "stderr",
     "output_type": "stream",
     "text": [
      "\r",
      " 66%|██████▌   | 237/360 [03:42<01:49,  1.12it/s]"
     ]
    },
    {
     "name": "stdout",
     "output_type": "stream",
     "text": [
      "similarity of the two sentences:  tensor(0.9547, device='cuda:0')\n"
     ]
    },
    {
     "name": "stderr",
     "output_type": "stream",
     "text": [
      "\r",
      " 66%|██████▌   | 238/360 [03:43<01:49,  1.11it/s]"
     ]
    },
    {
     "name": "stdout",
     "output_type": "stream",
     "text": [
      "similarity of the two sentences:  tensor(0.7804, device='cuda:0')\n"
     ]
    },
    {
     "name": "stderr",
     "output_type": "stream",
     "text": [
      "\r",
      " 66%|██████▋   | 239/360 [03:44<01:49,  1.10it/s]"
     ]
    },
    {
     "name": "stdout",
     "output_type": "stream",
     "text": [
      "similarity of the two sentences:  tensor(0.7927, device='cuda:0')\n"
     ]
    },
    {
     "name": "stderr",
     "output_type": "stream",
     "text": [
      "\r",
      " 67%|██████▋   | 240/360 [03:45<01:50,  1.08it/s]"
     ]
    },
    {
     "name": "stdout",
     "output_type": "stream",
     "text": [
      "similarity of the two sentences:  tensor(1.0000, device='cuda:0')\n"
     ]
    },
    {
     "name": "stderr",
     "output_type": "stream",
     "text": [
      "\r",
      " 67%|██████▋   | 241/360 [03:46<01:48,  1.10it/s]"
     ]
    },
    {
     "name": "stdout",
     "output_type": "stream",
     "text": [
      "similarity of the two sentences:  tensor(0.8186, device='cuda:0')\n"
     ]
    },
    {
     "name": "stderr",
     "output_type": "stream",
     "text": [
      "\r",
      " 67%|██████▋   | 242/360 [03:46<01:45,  1.12it/s]"
     ]
    },
    {
     "name": "stdout",
     "output_type": "stream",
     "text": [
      "similarity of the two sentences:  tensor(1., device='cuda:0')\n"
     ]
    },
    {
     "name": "stderr",
     "output_type": "stream",
     "text": [
      "\r",
      " 68%|██████▊   | 243/360 [03:47<01:45,  1.10it/s]"
     ]
    },
    {
     "name": "stdout",
     "output_type": "stream",
     "text": [
      "similarity of the two sentences:  tensor(1.0000, device='cuda:0')\n"
     ]
    },
    {
     "name": "stderr",
     "output_type": "stream",
     "text": [
      "\r",
      " 68%|██████▊   | 244/360 [03:48<01:44,  1.11it/s]"
     ]
    },
    {
     "name": "stdout",
     "output_type": "stream",
     "text": [
      "similarity of the two sentences:  tensor(1.0000, device='cuda:0')\n"
     ]
    },
    {
     "name": "stderr",
     "output_type": "stream",
     "text": [
      "\r",
      " 68%|██████▊   | 245/360 [03:49<01:42,  1.12it/s]"
     ]
    },
    {
     "name": "stdout",
     "output_type": "stream",
     "text": [
      "similarity of the two sentences:  tensor(0.9864, device='cuda:0')\n"
     ]
    },
    {
     "name": "stderr",
     "output_type": "stream",
     "text": [
      "\r",
      " 68%|██████▊   | 246/360 [03:50<01:43,  1.11it/s]"
     ]
    },
    {
     "name": "stdout",
     "output_type": "stream",
     "text": [
      "similarity of the two sentences:  tensor(0.7570, device='cuda:0')\n"
     ]
    },
    {
     "name": "stderr",
     "output_type": "stream",
     "text": [
      "\r",
      " 69%|██████▊   | 247/360 [03:51<01:41,  1.11it/s]"
     ]
    },
    {
     "name": "stdout",
     "output_type": "stream",
     "text": [
      "similarity of the two sentences:  tensor(0.9506, device='cuda:0')\n"
     ]
    },
    {
     "name": "stderr",
     "output_type": "stream",
     "text": [
      "\r",
      " 69%|██████▉   | 248/360 [03:52<01:40,  1.12it/s]"
     ]
    },
    {
     "name": "stdout",
     "output_type": "stream",
     "text": [
      "similarity of the two sentences:  tensor(1.0000, device='cuda:0')\n"
     ]
    },
    {
     "name": "stderr",
     "output_type": "stream",
     "text": [
      "\r",
      " 69%|██████▉   | 249/360 [03:53<01:40,  1.10it/s]"
     ]
    },
    {
     "name": "stdout",
     "output_type": "stream",
     "text": [
      "similarity of the two sentences:  tensor(0.8462, device='cuda:0')\n"
     ]
    },
    {
     "name": "stderr",
     "output_type": "stream",
     "text": [
      "\r",
      " 69%|██████▉   | 250/360 [03:54<01:39,  1.11it/s]"
     ]
    },
    {
     "name": "stdout",
     "output_type": "stream",
     "text": [
      "similarity of the two sentences:  tensor(0.9552, device='cuda:0')\n"
     ]
    },
    {
     "name": "stderr",
     "output_type": "stream",
     "text": [
      "\r",
      " 70%|██████▉   | 251/360 [03:55<01:36,  1.13it/s]"
     ]
    },
    {
     "name": "stdout",
     "output_type": "stream",
     "text": [
      "similarity of the two sentences:  tensor(0.9363, device='cuda:0')\n"
     ]
    },
    {
     "name": "stderr",
     "output_type": "stream",
     "text": [
      "\r",
      " 70%|███████   | 252/360 [03:55<01:37,  1.11it/s]"
     ]
    },
    {
     "name": "stdout",
     "output_type": "stream",
     "text": [
      "similarity of the two sentences:  tensor(1.0000, device='cuda:0')\n"
     ]
    },
    {
     "name": "stderr",
     "output_type": "stream",
     "text": [
      "\r",
      " 70%|███████   | 253/360 [03:56<01:36,  1.11it/s]"
     ]
    },
    {
     "name": "stdout",
     "output_type": "stream",
     "text": [
      "similarity of the two sentences:  tensor(0.9291, device='cuda:0')\n"
     ]
    },
    {
     "name": "stderr",
     "output_type": "stream",
     "text": [
      "\r",
      " 71%|███████   | 254/360 [03:57<01:34,  1.13it/s]"
     ]
    },
    {
     "name": "stdout",
     "output_type": "stream",
     "text": [
      "similarity of the two sentences:  tensor(1., device='cuda:0')\n"
     ]
    },
    {
     "name": "stderr",
     "output_type": "stream",
     "text": [
      "\r",
      " 71%|███████   | 255/360 [03:58<01:35,  1.10it/s]"
     ]
    },
    {
     "name": "stdout",
     "output_type": "stream",
     "text": [
      "similarity of the two sentences:  tensor(0.9732, device='cuda:0')\n"
     ]
    },
    {
     "name": "stderr",
     "output_type": "stream",
     "text": [
      "\r",
      " 71%|███████   | 256/360 [03:59<01:32,  1.12it/s]"
     ]
    },
    {
     "name": "stdout",
     "output_type": "stream",
     "text": [
      "similarity of the two sentences:  tensor(1.0000, device='cuda:0')\n"
     ]
    },
    {
     "name": "stderr",
     "output_type": "stream",
     "text": [
      "\r",
      " 71%|███████▏  | 257/360 [04:00<01:30,  1.14it/s]"
     ]
    },
    {
     "name": "stdout",
     "output_type": "stream",
     "text": [
      "similarity of the two sentences:  tensor(0.7566, device='cuda:0')\n"
     ]
    },
    {
     "name": "stderr",
     "output_type": "stream",
     "text": [
      "\r",
      " 72%|███████▏  | 258/360 [04:01<01:30,  1.13it/s]"
     ]
    },
    {
     "name": "stdout",
     "output_type": "stream",
     "text": [
      "similarity of the two sentences:  tensor(0.7613, device='cuda:0')\n"
     ]
    },
    {
     "name": "stderr",
     "output_type": "stream",
     "text": [
      "\r",
      " 72%|███████▏  | 259/360 [04:02<01:32,  1.09it/s]"
     ]
    },
    {
     "name": "stdout",
     "output_type": "stream",
     "text": [
      "similarity of the two sentences:  tensor(0.9586, device='cuda:0')\n"
     ]
    },
    {
     "name": "stderr",
     "output_type": "stream",
     "text": [
      "\r",
      " 72%|███████▏  | 260/360 [04:03<01:31,  1.10it/s]"
     ]
    },
    {
     "name": "stdout",
     "output_type": "stream",
     "text": [
      "similarity of the two sentences:  tensor(0.8035, device='cuda:0')\n"
     ]
    },
    {
     "name": "stderr",
     "output_type": "stream",
     "text": [
      "\r",
      " 72%|███████▎  | 261/360 [04:04<01:30,  1.10it/s]"
     ]
    },
    {
     "name": "stdout",
     "output_type": "stream",
     "text": [
      "similarity of the two sentences:  tensor(0.8469, device='cuda:0')\n"
     ]
    },
    {
     "name": "stderr",
     "output_type": "stream",
     "text": [
      "\r",
      " 73%|███████▎  | 262/360 [04:04<01:28,  1.11it/s]"
     ]
    },
    {
     "name": "stdout",
     "output_type": "stream",
     "text": [
      "similarity of the two sentences:  tensor(0.9853, device='cuda:0')\n"
     ]
    },
    {
     "name": "stderr",
     "output_type": "stream",
     "text": [
      "\r",
      " 73%|███████▎  | 263/360 [04:05<01:26,  1.13it/s]"
     ]
    },
    {
     "name": "stdout",
     "output_type": "stream",
     "text": [
      "similarity of the two sentences:  tensor(0.8345, device='cuda:0')\n"
     ]
    },
    {
     "name": "stderr",
     "output_type": "stream",
     "text": [
      "\r",
      " 73%|███████▎  | 264/360 [04:06<01:25,  1.12it/s]"
     ]
    },
    {
     "name": "stdout",
     "output_type": "stream",
     "text": [
      "similarity of the two sentences:  tensor(0.9008, device='cuda:0')\n"
     ]
    },
    {
     "name": "stderr",
     "output_type": "stream",
     "text": [
      "\r",
      " 74%|███████▎  | 265/360 [04:07<01:24,  1.13it/s]"
     ]
    },
    {
     "name": "stdout",
     "output_type": "stream",
     "text": [
      "similarity of the two sentences:  tensor(1.0000, device='cuda:0')\n"
     ]
    },
    {
     "name": "stderr",
     "output_type": "stream",
     "text": [
      "\r",
      " 74%|███████▍  | 266/360 [04:08<01:21,  1.15it/s]"
     ]
    },
    {
     "name": "stdout",
     "output_type": "stream",
     "text": [
      "similarity of the two sentences:  tensor(1.0000, device='cuda:0')\n"
     ]
    },
    {
     "name": "stderr",
     "output_type": "stream",
     "text": [
      "\r",
      " 74%|███████▍  | 267/360 [04:09<01:24,  1.11it/s]"
     ]
    },
    {
     "name": "stdout",
     "output_type": "stream",
     "text": [
      "similarity of the two sentences:  tensor(0.9265, device='cuda:0')\n"
     ]
    },
    {
     "name": "stderr",
     "output_type": "stream",
     "text": [
      "\r",
      " 74%|███████▍  | 268/360 [04:10<01:24,  1.09it/s]"
     ]
    },
    {
     "name": "stdout",
     "output_type": "stream",
     "text": [
      "similarity of the two sentences:  tensor(0.7677, device='cuda:0')\n"
     ]
    },
    {
     "name": "stderr",
     "output_type": "stream",
     "text": [
      "\r",
      " 75%|███████▍  | 269/360 [04:11<01:23,  1.09it/s]"
     ]
    },
    {
     "name": "stdout",
     "output_type": "stream",
     "text": [
      "similarity of the two sentences:  tensor(1., device='cuda:0')\n"
     ]
    },
    {
     "name": "stderr",
     "output_type": "stream",
     "text": [
      "\r",
      " 75%|███████▌  | 270/360 [04:12<01:24,  1.07it/s]"
     ]
    },
    {
     "name": "stdout",
     "output_type": "stream",
     "text": [
      "similarity of the two sentences:  tensor(0.8838, device='cuda:0')\n"
     ]
    },
    {
     "name": "stderr",
     "output_type": "stream",
     "text": [
      "\r",
      " 75%|███████▌  | 271/360 [04:13<01:23,  1.07it/s]"
     ]
    },
    {
     "name": "stdout",
     "output_type": "stream",
     "text": [
      "similarity of the two sentences:  tensor(0.8509, device='cuda:0')\n"
     ]
    },
    {
     "name": "stderr",
     "output_type": "stream",
     "text": [
      "\r",
      " 76%|███████▌  | 272/360 [04:14<01:21,  1.08it/s]"
     ]
    },
    {
     "name": "stdout",
     "output_type": "stream",
     "text": [
      "similarity of the two sentences:  tensor(1., device='cuda:0')\n"
     ]
    },
    {
     "name": "stderr",
     "output_type": "stream",
     "text": [
      "\r",
      " 76%|███████▌  | 273/360 [04:15<01:21,  1.07it/s]"
     ]
    },
    {
     "name": "stdout",
     "output_type": "stream",
     "text": [
      "similarity of the two sentences:  tensor(1., device='cuda:0')\n"
     ]
    },
    {
     "name": "stderr",
     "output_type": "stream",
     "text": [
      "\r",
      " 76%|███████▌  | 274/360 [04:15<01:19,  1.08it/s]"
     ]
    },
    {
     "name": "stdout",
     "output_type": "stream",
     "text": [
      "similarity of the two sentences:  tensor(0.8642, device='cuda:0')\n"
     ]
    },
    {
     "name": "stderr",
     "output_type": "stream",
     "text": [
      "\r",
      " 76%|███████▋  | 275/360 [04:16<01:17,  1.10it/s]"
     ]
    },
    {
     "name": "stdout",
     "output_type": "stream",
     "text": [
      "similarity of the two sentences:  tensor(0.9446, device='cuda:0')\n"
     ]
    },
    {
     "name": "stderr",
     "output_type": "stream",
     "text": [
      "\r",
      " 77%|███████▋  | 276/360 [04:17<01:16,  1.10it/s]"
     ]
    },
    {
     "name": "stdout",
     "output_type": "stream",
     "text": [
      "similarity of the two sentences:  tensor(0.9090, device='cuda:0')\n"
     ]
    },
    {
     "name": "stderr",
     "output_type": "stream",
     "text": [
      "\r",
      " 77%|███████▋  | 277/360 [04:18<01:15,  1.10it/s]"
     ]
    },
    {
     "name": "stdout",
     "output_type": "stream",
     "text": [
      "similarity of the two sentences:  tensor(1., device='cuda:0')\n"
     ]
    },
    {
     "name": "stderr",
     "output_type": "stream",
     "text": [
      "\r",
      " 77%|███████▋  | 278/360 [04:19<01:13,  1.11it/s]"
     ]
    },
    {
     "name": "stdout",
     "output_type": "stream",
     "text": [
      "similarity of the two sentences:  tensor(0.7820, device='cuda:0')\n"
     ]
    },
    {
     "name": "stderr",
     "output_type": "stream",
     "text": [
      "\r",
      " 78%|███████▊  | 279/360 [04:20<01:13,  1.10it/s]"
     ]
    },
    {
     "name": "stdout",
     "output_type": "stream",
     "text": [
      "similarity of the two sentences:  tensor(0.9913, device='cuda:0')\n"
     ]
    },
    {
     "name": "stderr",
     "output_type": "stream",
     "text": [
      "\r",
      " 78%|███████▊  | 280/360 [04:21<01:12,  1.11it/s]"
     ]
    },
    {
     "name": "stdout",
     "output_type": "stream",
     "text": [
      "similarity of the two sentences:  tensor(0.9428, device='cuda:0')\n"
     ]
    },
    {
     "name": "stderr",
     "output_type": "stream",
     "text": [
      "\r",
      " 78%|███████▊  | 281/360 [04:22<01:10,  1.11it/s]"
     ]
    },
    {
     "name": "stdout",
     "output_type": "stream",
     "text": [
      "similarity of the two sentences:  tensor(0.9570, device='cuda:0')\n"
     ]
    },
    {
     "name": "stderr",
     "output_type": "stream",
     "text": [
      "\r",
      " 78%|███████▊  | 282/360 [04:23<01:11,  1.10it/s]"
     ]
    },
    {
     "name": "stdout",
     "output_type": "stream",
     "text": [
      "similarity of the two sentences:  tensor(1.0000, device='cuda:0')\n"
     ]
    },
    {
     "name": "stderr",
     "output_type": "stream",
     "text": [
      "\r",
      " 79%|███████▊  | 283/360 [04:24<01:11,  1.07it/s]"
     ]
    },
    {
     "name": "stdout",
     "output_type": "stream",
     "text": [
      "similarity of the two sentences:  tensor(0.9494, device='cuda:0')\n"
     ]
    },
    {
     "name": "stderr",
     "output_type": "stream",
     "text": [
      "\r",
      " 79%|███████▉  | 284/360 [04:25<01:10,  1.08it/s]"
     ]
    },
    {
     "name": "stdout",
     "output_type": "stream",
     "text": [
      "similarity of the two sentences:  tensor(0.8922, device='cuda:0')\n"
     ]
    },
    {
     "name": "stderr",
     "output_type": "stream",
     "text": [
      "\r",
      " 79%|███████▉  | 285/360 [04:25<01:08,  1.09it/s]"
     ]
    },
    {
     "name": "stdout",
     "output_type": "stream",
     "text": [
      "similarity of the two sentences:  tensor(0.8389, device='cuda:0')\n"
     ]
    },
    {
     "name": "stderr",
     "output_type": "stream",
     "text": [
      "\r",
      " 79%|███████▉  | 286/360 [04:26<01:06,  1.11it/s]"
     ]
    },
    {
     "name": "stdout",
     "output_type": "stream",
     "text": [
      "similarity of the two sentences:  tensor(0.9736, device='cuda:0')\n"
     ]
    },
    {
     "name": "stderr",
     "output_type": "stream",
     "text": [
      "\r",
      " 80%|███████▉  | 287/360 [04:27<01:04,  1.13it/s]"
     ]
    },
    {
     "name": "stdout",
     "output_type": "stream",
     "text": [
      "similarity of the two sentences:  tensor(1.0000, device='cuda:0')\n"
     ]
    },
    {
     "name": "stderr",
     "output_type": "stream",
     "text": [
      "\r",
      " 80%|████████  | 288/360 [04:28<01:04,  1.12it/s]"
     ]
    },
    {
     "name": "stdout",
     "output_type": "stream",
     "text": [
      "similarity of the two sentences:  tensor(0.7824, device='cuda:0')\n"
     ]
    },
    {
     "name": "stderr",
     "output_type": "stream",
     "text": [
      "\r",
      " 80%|████████  | 289/360 [04:29<01:04,  1.11it/s]"
     ]
    },
    {
     "name": "stdout",
     "output_type": "stream",
     "text": [
      "similarity of the two sentences:  tensor(0.9743, device='cuda:0')\n"
     ]
    },
    {
     "name": "stderr",
     "output_type": "stream",
     "text": [
      "\r",
      " 81%|████████  | 290/360 [04:30<01:02,  1.13it/s]"
     ]
    },
    {
     "name": "stdout",
     "output_type": "stream",
     "text": [
      "similarity of the two sentences:  tensor(1.0000, device='cuda:0')\n"
     ]
    },
    {
     "name": "stderr",
     "output_type": "stream",
     "text": [
      "\r",
      " 81%|████████  | 291/360 [04:31<01:03,  1.08it/s]"
     ]
    },
    {
     "name": "stdout",
     "output_type": "stream",
     "text": [
      "similarity of the two sentences:  tensor(1., device='cuda:0')\n"
     ]
    },
    {
     "name": "stderr",
     "output_type": "stream",
     "text": [
      "\r",
      " 81%|████████  | 292/360 [04:32<01:02,  1.08it/s]"
     ]
    },
    {
     "name": "stdout",
     "output_type": "stream",
     "text": [
      "similarity of the two sentences:  tensor(1., device='cuda:0')\n"
     ]
    },
    {
     "name": "stderr",
     "output_type": "stream",
     "text": [
      "\r",
      " 81%|████████▏ | 293/360 [04:33<01:00,  1.11it/s]"
     ]
    },
    {
     "name": "stdout",
     "output_type": "stream",
     "text": [
      "similarity of the two sentences:  tensor(0.7650, device='cuda:0')\n"
     ]
    },
    {
     "name": "stderr",
     "output_type": "stream",
     "text": [
      "\r",
      " 82%|████████▏ | 294/360 [04:34<01:00,  1.10it/s]"
     ]
    },
    {
     "name": "stdout",
     "output_type": "stream",
     "text": [
      "similarity of the two sentences:  tensor(0.8044, device='cuda:0')\n"
     ]
    },
    {
     "name": "stderr",
     "output_type": "stream",
     "text": [
      "\r",
      " 82%|████████▏ | 295/360 [04:34<00:58,  1.11it/s]"
     ]
    },
    {
     "name": "stdout",
     "output_type": "stream",
     "text": [
      "similarity of the two sentences:  tensor(0.8201, device='cuda:0')\n"
     ]
    },
    {
     "name": "stderr",
     "output_type": "stream",
     "text": [
      "\r",
      " 82%|████████▏ | 296/360 [04:35<00:57,  1.12it/s]"
     ]
    },
    {
     "name": "stdout",
     "output_type": "stream",
     "text": [
      "similarity of the two sentences:  tensor(0.9957, device='cuda:0')\n"
     ]
    },
    {
     "name": "stderr",
     "output_type": "stream",
     "text": [
      "\r",
      " 82%|████████▎ | 297/360 [04:36<00:57,  1.10it/s]"
     ]
    },
    {
     "name": "stdout",
     "output_type": "stream",
     "text": [
      "similarity of the two sentences:  tensor(0.8665, device='cuda:0')\n"
     ]
    },
    {
     "name": "stderr",
     "output_type": "stream",
     "text": [
      "\r",
      " 83%|████████▎ | 298/360 [04:37<00:56,  1.10it/s]"
     ]
    },
    {
     "name": "stdout",
     "output_type": "stream",
     "text": [
      "similarity of the two sentences:  tensor(0.9452, device='cuda:0')\n"
     ]
    },
    {
     "name": "stderr",
     "output_type": "stream",
     "text": [
      "\r",
      " 83%|████████▎ | 299/360 [04:38<00:54,  1.12it/s]"
     ]
    },
    {
     "name": "stdout",
     "output_type": "stream",
     "text": [
      "similarity of the two sentences:  tensor(0.9221, device='cuda:0')\n"
     ]
    },
    {
     "name": "stderr",
     "output_type": "stream",
     "text": [
      "\r",
      " 83%|████████▎ | 300/360 [04:39<00:54,  1.10it/s]"
     ]
    },
    {
     "name": "stdout",
     "output_type": "stream",
     "text": [
      "similarity of the two sentences:  tensor(0.8310, device='cuda:0')\n"
     ]
    },
    {
     "name": "stderr",
     "output_type": "stream",
     "text": [
      "\r",
      " 84%|████████▎ | 301/360 [04:40<00:53,  1.10it/s]"
     ]
    },
    {
     "name": "stdout",
     "output_type": "stream",
     "text": [
      "similarity of the two sentences:  tensor(0.8372, device='cuda:0')\n"
     ]
    },
    {
     "name": "stderr",
     "output_type": "stream",
     "text": [
      "\r",
      " 84%|████████▍ | 302/360 [04:41<00:52,  1.11it/s]"
     ]
    },
    {
     "name": "stdout",
     "output_type": "stream",
     "text": [
      "similarity of the two sentences:  tensor(0.9661, device='cuda:0')\n"
     ]
    },
    {
     "name": "stderr",
     "output_type": "stream",
     "text": [
      "\r",
      " 84%|████████▍ | 303/360 [04:42<00:51,  1.10it/s]"
     ]
    },
    {
     "name": "stdout",
     "output_type": "stream",
     "text": [
      "similarity of the two sentences:  tensor(0.7897, device='cuda:0')\n"
     ]
    },
    {
     "name": "stderr",
     "output_type": "stream",
     "text": [
      "\r",
      " 84%|████████▍ | 304/360 [04:43<00:50,  1.11it/s]"
     ]
    },
    {
     "name": "stdout",
     "output_type": "stream",
     "text": [
      "similarity of the two sentences:  tensor(0.9877, device='cuda:0')\n"
     ]
    },
    {
     "name": "stderr",
     "output_type": "stream",
     "text": [
      "\r",
      " 85%|████████▍ | 305/360 [04:43<00:49,  1.12it/s]"
     ]
    },
    {
     "name": "stdout",
     "output_type": "stream",
     "text": [
      "similarity of the two sentences:  tensor(0.8761, device='cuda:0')\n"
     ]
    },
    {
     "name": "stderr",
     "output_type": "stream",
     "text": [
      "\r",
      " 85%|████████▌ | 306/360 [04:44<00:48,  1.11it/s]"
     ]
    },
    {
     "name": "stdout",
     "output_type": "stream",
     "text": [
      "similarity of the two sentences:  tensor(0.7974, device='cuda:0')\n"
     ]
    },
    {
     "name": "stderr",
     "output_type": "stream",
     "text": [
      "\r",
      " 85%|████████▌ | 307/360 [04:45<00:47,  1.12it/s]"
     ]
    },
    {
     "name": "stdout",
     "output_type": "stream",
     "text": [
      "similarity of the two sentences:  tensor(0.7806, device='cuda:0')\n"
     ]
    },
    {
     "name": "stderr",
     "output_type": "stream",
     "text": [
      "\r",
      " 86%|████████▌ | 308/360 [04:46<00:45,  1.13it/s]"
     ]
    },
    {
     "name": "stdout",
     "output_type": "stream",
     "text": [
      "similarity of the two sentences:  tensor(0.9385, device='cuda:0')\n"
     ]
    },
    {
     "name": "stderr",
     "output_type": "stream",
     "text": [
      "\r",
      " 86%|████████▌ | 309/360 [04:47<00:45,  1.11it/s]"
     ]
    },
    {
     "name": "stdout",
     "output_type": "stream",
     "text": [
      "similarity of the two sentences:  tensor(0.7501, device='cuda:0')\n"
     ]
    },
    {
     "name": "stderr",
     "output_type": "stream",
     "text": [
      "\r",
      " 86%|████████▌ | 310/360 [04:48<00:46,  1.08it/s]"
     ]
    },
    {
     "name": "stdout",
     "output_type": "stream",
     "text": [
      "similarity of the two sentences:  tensor(1.0000, device='cuda:0')\n"
     ]
    },
    {
     "name": "stderr",
     "output_type": "stream",
     "text": [
      "\r",
      " 86%|████████▋ | 311/360 [04:49<00:44,  1.11it/s]"
     ]
    },
    {
     "name": "stdout",
     "output_type": "stream",
     "text": [
      "similarity of the two sentences:  tensor(1., device='cuda:0')\n"
     ]
    },
    {
     "name": "stderr",
     "output_type": "stream",
     "text": [
      "\r",
      " 87%|████████▋ | 312/360 [04:50<00:43,  1.11it/s]"
     ]
    },
    {
     "name": "stdout",
     "output_type": "stream",
     "text": [
      "similarity of the two sentences:  tensor(1., device='cuda:0')\n"
     ]
    },
    {
     "name": "stderr",
     "output_type": "stream",
     "text": [
      "\r",
      " 87%|████████▋ | 313/360 [04:51<00:42,  1.11it/s]"
     ]
    },
    {
     "name": "stdout",
     "output_type": "stream",
     "text": [
      "similarity of the two sentences:  tensor(1., device='cuda:0')\n"
     ]
    },
    {
     "name": "stderr",
     "output_type": "stream",
     "text": [
      "\r",
      " 87%|████████▋ | 314/360 [04:52<00:41,  1.12it/s]"
     ]
    },
    {
     "name": "stdout",
     "output_type": "stream",
     "text": [
      "similarity of the two sentences:  tensor(0.9751, device='cuda:0')\n"
     ]
    },
    {
     "name": "stderr",
     "output_type": "stream",
     "text": [
      "\r",
      " 88%|████████▊ | 315/360 [04:53<00:40,  1.10it/s]"
     ]
    },
    {
     "name": "stdout",
     "output_type": "stream",
     "text": [
      "similarity of the two sentences:  tensor(0.9571, device='cuda:0')\n"
     ]
    },
    {
     "name": "stderr",
     "output_type": "stream",
     "text": [
      "\r",
      " 88%|████████▊ | 316/360 [04:53<00:39,  1.11it/s]"
     ]
    },
    {
     "name": "stdout",
     "output_type": "stream",
     "text": [
      "similarity of the two sentences:  tensor(1., device='cuda:0')\n"
     ]
    },
    {
     "name": "stderr",
     "output_type": "stream",
     "text": [
      "\r",
      " 88%|████████▊ | 317/360 [04:54<00:38,  1.13it/s]"
     ]
    },
    {
     "name": "stdout",
     "output_type": "stream",
     "text": [
      "similarity of the two sentences:  tensor(0.9148, device='cuda:0')\n"
     ]
    },
    {
     "name": "stderr",
     "output_type": "stream",
     "text": [
      "\r",
      " 88%|████████▊ | 318/360 [04:55<00:37,  1.11it/s]"
     ]
    },
    {
     "name": "stdout",
     "output_type": "stream",
     "text": [
      "similarity of the two sentences:  tensor(1.0000, device='cuda:0')\n"
     ]
    },
    {
     "name": "stderr",
     "output_type": "stream",
     "text": [
      "\r",
      " 89%|████████▊ | 319/360 [04:56<00:36,  1.12it/s]"
     ]
    },
    {
     "name": "stdout",
     "output_type": "stream",
     "text": [
      "similarity of the two sentences:  tensor(0.9968, device='cuda:0')\n"
     ]
    },
    {
     "name": "stderr",
     "output_type": "stream",
     "text": [
      "\r",
      " 89%|████████▉ | 320/360 [04:57<00:35,  1.14it/s]"
     ]
    },
    {
     "name": "stdout",
     "output_type": "stream",
     "text": [
      "similarity of the two sentences:  tensor(0.9891, device='cuda:0')\n"
     ]
    },
    {
     "name": "stderr",
     "output_type": "stream",
     "text": [
      "\r",
      " 89%|████████▉ | 321/360 [04:58<00:34,  1.13it/s]"
     ]
    },
    {
     "name": "stdout",
     "output_type": "stream",
     "text": [
      "similarity of the two sentences:  tensor(0.7511, device='cuda:0')\n"
     ]
    },
    {
     "name": "stderr",
     "output_type": "stream",
     "text": [
      "\r",
      " 89%|████████▉ | 322/360 [04:59<00:33,  1.13it/s]"
     ]
    },
    {
     "name": "stdout",
     "output_type": "stream",
     "text": [
      "similarity of the two sentences:  tensor(0.9668, device='cuda:0')\n"
     ]
    },
    {
     "name": "stderr",
     "output_type": "stream",
     "text": [
      "\r",
      " 90%|████████▉ | 323/360 [05:00<00:32,  1.14it/s]"
     ]
    },
    {
     "name": "stdout",
     "output_type": "stream",
     "text": [
      "similarity of the two sentences:  tensor(1.0000, device='cuda:0')\n"
     ]
    },
    {
     "name": "stderr",
     "output_type": "stream",
     "text": [
      "\r",
      " 90%|█████████ | 324/360 [05:00<00:31,  1.13it/s]"
     ]
    },
    {
     "name": "stdout",
     "output_type": "stream",
     "text": [
      "similarity of the two sentences:  tensor(0.8518, device='cuda:0')\n"
     ]
    },
    {
     "name": "stderr",
     "output_type": "stream",
     "text": [
      "\r",
      " 90%|█████████ | 325/360 [05:01<00:30,  1.14it/s]"
     ]
    },
    {
     "name": "stdout",
     "output_type": "stream",
     "text": [
      "similarity of the two sentences:  tensor(0.8409, device='cuda:0')\n"
     ]
    },
    {
     "name": "stderr",
     "output_type": "stream",
     "text": [
      "\r",
      " 91%|█████████ | 326/360 [05:02<00:29,  1.15it/s]"
     ]
    },
    {
     "name": "stdout",
     "output_type": "stream",
     "text": [
      "similarity of the two sentences:  tensor(1., device='cuda:0')\n"
     ]
    },
    {
     "name": "stderr",
     "output_type": "stream",
     "text": [
      "\r",
      " 91%|█████████ | 327/360 [05:03<00:29,  1.13it/s]"
     ]
    },
    {
     "name": "stdout",
     "output_type": "stream",
     "text": [
      "similarity of the two sentences:  tensor(0.9419, device='cuda:0')\n"
     ]
    },
    {
     "name": "stderr",
     "output_type": "stream",
     "text": [
      "\r",
      " 91%|█████████ | 328/360 [05:04<00:28,  1.14it/s]"
     ]
    },
    {
     "name": "stdout",
     "output_type": "stream",
     "text": [
      "similarity of the two sentences:  tensor(0.7891, device='cuda:0')\n"
     ]
    },
    {
     "name": "stderr",
     "output_type": "stream",
     "text": [
      "\r",
      " 91%|█████████▏| 329/360 [05:05<00:27,  1.15it/s]"
     ]
    },
    {
     "name": "stdout",
     "output_type": "stream",
     "text": [
      "similarity of the two sentences:  tensor(0.8132, device='cuda:0')\n"
     ]
    },
    {
     "name": "stderr",
     "output_type": "stream",
     "text": [
      "\r",
      " 92%|█████████▏| 330/360 [05:06<00:26,  1.13it/s]"
     ]
    },
    {
     "name": "stdout",
     "output_type": "stream",
     "text": [
      "similarity of the two sentences:  tensor(0.9556, device='cuda:0')\n"
     ]
    },
    {
     "name": "stderr",
     "output_type": "stream",
     "text": [
      "\r",
      " 92%|█████████▏| 331/360 [05:07<00:25,  1.13it/s]"
     ]
    },
    {
     "name": "stdout",
     "output_type": "stream",
     "text": [
      "similarity of the two sentences:  tensor(0.8032, device='cuda:0')\n"
     ]
    },
    {
     "name": "stderr",
     "output_type": "stream",
     "text": [
      "\r",
      " 92%|█████████▏| 332/360 [05:07<00:24,  1.15it/s]"
     ]
    },
    {
     "name": "stdout",
     "output_type": "stream",
     "text": [
      "similarity of the two sentences:  tensor(0.7661, device='cuda:0')\n"
     ]
    },
    {
     "name": "stderr",
     "output_type": "stream",
     "text": [
      "\r",
      " 92%|█████████▎| 333/360 [05:08<00:24,  1.12it/s]"
     ]
    },
    {
     "name": "stdout",
     "output_type": "stream",
     "text": [
      "similarity of the two sentences:  tensor(0.9082, device='cuda:0')\n"
     ]
    },
    {
     "name": "stderr",
     "output_type": "stream",
     "text": [
      "\r",
      " 93%|█████████▎| 334/360 [05:09<00:23,  1.12it/s]"
     ]
    },
    {
     "name": "stdout",
     "output_type": "stream",
     "text": [
      "similarity of the two sentences:  tensor(1., device='cuda:0')\n"
     ]
    },
    {
     "name": "stderr",
     "output_type": "stream",
     "text": [
      "\r",
      " 93%|█████████▎| 335/360 [05:10<00:22,  1.10it/s]"
     ]
    },
    {
     "name": "stdout",
     "output_type": "stream",
     "text": [
      "similarity of the two sentences:  tensor(0.7805, device='cuda:0')\n"
     ]
    },
    {
     "name": "stderr",
     "output_type": "stream",
     "text": [
      "\r",
      " 93%|█████████▎| 336/360 [05:11<00:22,  1.08it/s]"
     ]
    },
    {
     "name": "stdout",
     "output_type": "stream",
     "text": [
      "similarity of the two sentences:  tensor(0.7932, device='cuda:0')\n"
     ]
    },
    {
     "name": "stderr",
     "output_type": "stream",
     "text": [
      "\r",
      " 94%|█████████▎| 337/360 [05:12<00:21,  1.09it/s]"
     ]
    },
    {
     "name": "stdout",
     "output_type": "stream",
     "text": [
      "similarity of the two sentences:  tensor(1., device='cuda:0')\n"
     ]
    },
    {
     "name": "stderr",
     "output_type": "stream",
     "text": [
      "\r",
      " 94%|█████████▍| 338/360 [05:13<00:19,  1.11it/s]"
     ]
    },
    {
     "name": "stdout",
     "output_type": "stream",
     "text": [
      "similarity of the two sentences:  tensor(0.9472, device='cuda:0')\n"
     ]
    },
    {
     "name": "stderr",
     "output_type": "stream",
     "text": [
      "\r",
      " 94%|█████████▍| 339/360 [05:14<00:19,  1.10it/s]"
     ]
    },
    {
     "name": "stdout",
     "output_type": "stream",
     "text": [
      "similarity of the two sentences:  tensor(0.9915, device='cuda:0')\n"
     ]
    },
    {
     "name": "stderr",
     "output_type": "stream",
     "text": [
      "\r",
      " 94%|█████████▍| 340/360 [05:15<00:18,  1.10it/s]"
     ]
    },
    {
     "name": "stdout",
     "output_type": "stream",
     "text": [
      "similarity of the two sentences:  tensor(1.0000, device='cuda:0')\n"
     ]
    },
    {
     "name": "stderr",
     "output_type": "stream",
     "text": [
      "\r",
      " 95%|█████████▍| 341/360 [05:16<00:17,  1.12it/s]"
     ]
    },
    {
     "name": "stdout",
     "output_type": "stream",
     "text": [
      "similarity of the two sentences:  tensor(0.9047, device='cuda:0')\n"
     ]
    },
    {
     "name": "stderr",
     "output_type": "stream",
     "text": [
      "\r",
      " 95%|█████████▌| 342/360 [05:17<00:16,  1.10it/s]"
     ]
    },
    {
     "name": "stdout",
     "output_type": "stream",
     "text": [
      "similarity of the two sentences:  tensor(1.0000, device='cuda:0')\n"
     ]
    },
    {
     "name": "stderr",
     "output_type": "stream",
     "text": [
      "\r",
      " 95%|█████████▌| 343/360 [05:18<00:15,  1.09it/s]"
     ]
    },
    {
     "name": "stdout",
     "output_type": "stream",
     "text": [
      "similarity of the two sentences:  tensor(1., device='cuda:0')\n"
     ]
    },
    {
     "name": "stderr",
     "output_type": "stream",
     "text": [
      "\r",
      " 96%|█████████▌| 344/360 [05:18<00:14,  1.09it/s]"
     ]
    },
    {
     "name": "stdout",
     "output_type": "stream",
     "text": [
      "similarity of the two sentences:  tensor(0.8980, device='cuda:0')\n"
     ]
    },
    {
     "name": "stderr",
     "output_type": "stream",
     "text": [
      "\r",
      " 96%|█████████▌| 345/360 [05:19<00:13,  1.08it/s]"
     ]
    },
    {
     "name": "stdout",
     "output_type": "stream",
     "text": [
      "similarity of the two sentences:  tensor(0.9234, device='cuda:0')\n"
     ]
    },
    {
     "name": "stderr",
     "output_type": "stream",
     "text": [
      "\r",
      " 96%|█████████▌| 346/360 [05:20<00:12,  1.10it/s]"
     ]
    },
    {
     "name": "stdout",
     "output_type": "stream",
     "text": [
      "similarity of the two sentences:  tensor(0.9906, device='cuda:0')\n"
     ]
    },
    {
     "name": "stderr",
     "output_type": "stream",
     "text": [
      "\r",
      " 96%|█████████▋| 347/360 [05:21<00:11,  1.12it/s]"
     ]
    },
    {
     "name": "stdout",
     "output_type": "stream",
     "text": [
      "similarity of the two sentences:  tensor(1.0000, device='cuda:0')\n"
     ]
    },
    {
     "name": "stderr",
     "output_type": "stream",
     "text": [
      "\r",
      " 97%|█████████▋| 348/360 [05:22<00:10,  1.10it/s]"
     ]
    },
    {
     "name": "stdout",
     "output_type": "stream",
     "text": [
      "similarity of the two sentences:  tensor(1.0000, device='cuda:0')\n"
     ]
    },
    {
     "name": "stderr",
     "output_type": "stream",
     "text": [
      "\r",
      " 97%|█████████▋| 349/360 [05:23<00:09,  1.10it/s]"
     ]
    },
    {
     "name": "stdout",
     "output_type": "stream",
     "text": [
      "similarity of the two sentences:  tensor(1.0000, device='cuda:0')\n"
     ]
    },
    {
     "name": "stderr",
     "output_type": "stream",
     "text": [
      "\r",
      " 97%|█████████▋| 350/360 [05:24<00:08,  1.11it/s]"
     ]
    },
    {
     "name": "stdout",
     "output_type": "stream",
     "text": [
      "similarity of the two sentences:  tensor(0.9415, device='cuda:0')\n"
     ]
    },
    {
     "name": "stderr",
     "output_type": "stream",
     "text": [
      "\r",
      " 98%|█████████▊| 351/360 [05:25<00:08,  1.10it/s]"
     ]
    },
    {
     "name": "stdout",
     "output_type": "stream",
     "text": [
      "similarity of the two sentences:  tensor(0.9477, device='cuda:0')\n"
     ]
    },
    {
     "name": "stderr",
     "output_type": "stream",
     "text": [
      "\r",
      " 98%|█████████▊| 352/360 [05:26<00:07,  1.10it/s]"
     ]
    },
    {
     "name": "stdout",
     "output_type": "stream",
     "text": [
      "similarity of the two sentences:  tensor(0.8988, device='cuda:0')\n"
     ]
    },
    {
     "name": "stderr",
     "output_type": "stream",
     "text": [
      "\r",
      " 98%|█████████▊| 353/360 [05:27<00:06,  1.12it/s]"
     ]
    },
    {
     "name": "stdout",
     "output_type": "stream",
     "text": [
      "similarity of the two sentences:  tensor(0.9950, device='cuda:0')\n"
     ]
    },
    {
     "name": "stderr",
     "output_type": "stream",
     "text": [
      "\r",
      " 98%|█████████▊| 354/360 [05:28<00:05,  1.09it/s]"
     ]
    },
    {
     "name": "stdout",
     "output_type": "stream",
     "text": [
      "similarity of the two sentences:  tensor(1.0000, device='cuda:0')\n"
     ]
    },
    {
     "name": "stderr",
     "output_type": "stream",
     "text": [
      "\r",
      " 99%|█████████▊| 355/360 [05:28<00:04,  1.08it/s]"
     ]
    },
    {
     "name": "stdout",
     "output_type": "stream",
     "text": [
      "similarity of the two sentences:  tensor(1.0000, device='cuda:0')\n"
     ]
    },
    {
     "name": "stderr",
     "output_type": "stream",
     "text": [
      "\r",
      " 99%|█████████▉| 356/360 [05:29<00:03,  1.11it/s]"
     ]
    },
    {
     "name": "stdout",
     "output_type": "stream",
     "text": [
      "similarity of the two sentences:  tensor(1.0000, device='cuda:0')\n"
     ]
    },
    {
     "name": "stderr",
     "output_type": "stream",
     "text": [
      "\r",
      " 99%|█████████▉| 357/360 [05:30<00:02,  1.10it/s]"
     ]
    },
    {
     "name": "stdout",
     "output_type": "stream",
     "text": [
      "similarity of the two sentences:  tensor(1., device='cuda:0')\n"
     ]
    },
    {
     "name": "stderr",
     "output_type": "stream",
     "text": [
      "\r",
      " 99%|█████████▉| 358/360 [05:31<00:01,  1.11it/s]"
     ]
    },
    {
     "name": "stdout",
     "output_type": "stream",
     "text": [
      "similarity of the two sentences:  tensor(0.8788, device='cuda:0')\n"
     ]
    },
    {
     "name": "stderr",
     "output_type": "stream",
     "text": [
      "\r",
      "100%|█████████▉| 359/360 [05:32<00:00,  1.13it/s]"
     ]
    },
    {
     "name": "stdout",
     "output_type": "stream",
     "text": [
      "similarity of the two sentences:  tensor(0.9962, device='cuda:0')\n"
     ]
    },
    {
     "name": "stderr",
     "output_type": "stream",
     "text": [
      "100%|██████████| 360/360 [05:33<00:00,  1.08it/s]"
     ]
    },
    {
     "name": "stdout",
     "output_type": "stream",
     "text": [
      "similarity of the two sentences:  tensor(1., device='cuda:0')\n",
      "similarity socre : tensor(0.9267, device='cuda:0')\n",
      "grammar socre out: 0.9017820441681478\n",
      "grammar socre orig: 0.8771238993025489\n",
      "simplicity socre outpu: 0.31068856445037657\n",
      "simplicity socre orig: 0.18939467115948597\n",
      "simplicity socre orig: 0.18939467115948597\n",
      "len output: 19.1\n",
      "len orig: 23.163888888888888\n"
     ]
    },
    {
     "name": "stderr",
     "output_type": "stream",
     "text": [
      "\n"
     ]
    }
   ],
   "source": [
    "from tqdm import tqdm\n",
    "\n",
    "root_path = '/home/m25dehgh/simplification/controllable-simplification/src/Wikilarge/output'\n",
    "asset_path= \"/home/m25dehgh/simplification/datasets/asset/dataset\"\n",
    "\n",
    "orig_path = asset_path + '/' + \"asset.test.norm.orig\"\n",
    "out_path = root_path + '/' + \"/dl:1-par:1.1-asset+g+mp.txt\" # sari : 36.54\n",
    "\n",
    "assess(out_path, orig_path)"
   ]
  },
  {
   "cell_type": "code",
   "execution_count": 31,
   "metadata": {},
   "outputs": [
    {
     "name": "stderr",
     "output_type": "stream",
     "text": [
      "  0%|          | 1/359 [00:01<06:25,  1.08s/it]"
     ]
    },
    {
     "name": "stdout",
     "output_type": "stream",
     "text": [
      "similarity of the two sentences:  tensor(0.9323, device='cuda:0')\n"
     ]
    },
    {
     "name": "stderr",
     "output_type": "stream",
     "text": [
      "\r",
      "  1%|          | 2/359 [00:02<06:19,  1.06s/it]"
     ]
    },
    {
     "name": "stdout",
     "output_type": "stream",
     "text": [
      "similarity of the two sentences:  tensor(0.9463, device='cuda:0')\n"
     ]
    },
    {
     "name": "stderr",
     "output_type": "stream",
     "text": [
      "\r",
      "  1%|          | 3/359 [00:03<06:11,  1.04s/it]"
     ]
    },
    {
     "name": "stdout",
     "output_type": "stream",
     "text": [
      "similarity of the two sentences:  tensor(0.7696, device='cuda:0')\n"
     ]
    },
    {
     "name": "stderr",
     "output_type": "stream",
     "text": [
      "\r",
      "  1%|          | 4/359 [00:04<05:59,  1.01s/it]"
     ]
    },
    {
     "name": "stdout",
     "output_type": "stream",
     "text": [
      "similarity of the two sentences:  tensor(0.9448, device='cuda:0')\n"
     ]
    },
    {
     "name": "stderr",
     "output_type": "stream",
     "text": [
      "\r",
      "  1%|▏         | 5/359 [00:04<05:47,  1.02it/s]"
     ]
    },
    {
     "name": "stdout",
     "output_type": "stream",
     "text": [
      "similarity of the two sentences:  tensor(0.8517, device='cuda:0')\n"
     ]
    },
    {
     "name": "stderr",
     "output_type": "stream",
     "text": [
      "\r",
      "  2%|▏         | 6/359 [00:05<05:38,  1.04it/s]"
     ]
    },
    {
     "name": "stdout",
     "output_type": "stream",
     "text": [
      "similarity of the two sentences:  tensor(0.9949, device='cuda:0')\n"
     ]
    },
    {
     "name": "stderr",
     "output_type": "stream",
     "text": [
      "\r",
      "  2%|▏         | 7/359 [00:06<05:39,  1.04it/s]"
     ]
    },
    {
     "name": "stdout",
     "output_type": "stream",
     "text": [
      "similarity of the two sentences:  tensor(1.0000, device='cuda:0')\n"
     ]
    },
    {
     "name": "stderr",
     "output_type": "stream",
     "text": [
      "\r",
      "  2%|▏         | 8/359 [00:07<05:43,  1.02it/s]"
     ]
    },
    {
     "name": "stdout",
     "output_type": "stream",
     "text": [
      "similarity of the two sentences:  tensor(0.9964, device='cuda:0')\n"
     ]
    },
    {
     "name": "stderr",
     "output_type": "stream",
     "text": [
      "\r",
      "  3%|▎         | 9/359 [00:08<05:43,  1.02it/s]"
     ]
    },
    {
     "name": "stdout",
     "output_type": "stream",
     "text": [
      "similarity of the two sentences:  tensor(0.8200, device='cuda:0')\n"
     ]
    },
    {
     "name": "stderr",
     "output_type": "stream",
     "text": [
      "\r",
      "  3%|▎         | 10/359 [00:09<05:39,  1.03it/s]"
     ]
    },
    {
     "name": "stdout",
     "output_type": "stream",
     "text": [
      "similarity of the two sentences:  tensor(0.9207, device='cuda:0')\n"
     ]
    },
    {
     "name": "stderr",
     "output_type": "stream",
     "text": [
      "\r",
      "  3%|▎         | 11/359 [00:10<05:42,  1.02it/s]"
     ]
    },
    {
     "name": "stdout",
     "output_type": "stream",
     "text": [
      "similarity of the two sentences:  tensor(0.9448, device='cuda:0')\n"
     ]
    },
    {
     "name": "stderr",
     "output_type": "stream",
     "text": [
      "\r",
      "  3%|▎         | 12/359 [00:11<05:36,  1.03it/s]"
     ]
    },
    {
     "name": "stdout",
     "output_type": "stream",
     "text": [
      "similarity of the two sentences:  tensor(0.7999, device='cuda:0')\n"
     ]
    },
    {
     "name": "stderr",
     "output_type": "stream",
     "text": [
      "\r",
      "  4%|▎         | 13/359 [00:12<05:36,  1.03it/s]"
     ]
    },
    {
     "name": "stdout",
     "output_type": "stream",
     "text": [
      "similarity of the two sentences:  tensor(0.8544, device='cuda:0')\n"
     ]
    },
    {
     "name": "stderr",
     "output_type": "stream",
     "text": [
      "\r",
      "  4%|▍         | 14/359 [00:13<05:37,  1.02it/s]"
     ]
    },
    {
     "name": "stdout",
     "output_type": "stream",
     "text": [
      "similarity of the two sentences:  tensor(0.7803, device='cuda:0')\n"
     ]
    },
    {
     "name": "stderr",
     "output_type": "stream",
     "text": [
      "\r",
      "  4%|▍         | 15/359 [00:14<05:31,  1.04it/s]"
     ]
    },
    {
     "name": "stdout",
     "output_type": "stream",
     "text": [
      "similarity of the two sentences:  tensor(0.8058, device='cuda:0')\n"
     ]
    },
    {
     "name": "stderr",
     "output_type": "stream",
     "text": [
      "\r",
      "  4%|▍         | 16/359 [00:15<05:25,  1.05it/s]"
     ]
    },
    {
     "name": "stdout",
     "output_type": "stream",
     "text": [
      "similarity of the two sentences:  tensor(1.0000, device='cuda:0')\n"
     ]
    },
    {
     "name": "stderr",
     "output_type": "stream",
     "text": [
      "\r",
      "  5%|▍         | 17/359 [00:16<05:23,  1.06it/s]"
     ]
    },
    {
     "name": "stdout",
     "output_type": "stream",
     "text": [
      "similarity of the two sentences:  tensor(1.0000, device='cuda:0')\n"
     ]
    },
    {
     "name": "stderr",
     "output_type": "stream",
     "text": [
      "\r",
      "  5%|▌         | 18/359 [00:17<05:19,  1.07it/s]"
     ]
    },
    {
     "name": "stdout",
     "output_type": "stream",
     "text": [
      "similarity of the two sentences:  tensor(1.0000, device='cuda:0')\n"
     ]
    },
    {
     "name": "stderr",
     "output_type": "stream",
     "text": [
      "\r",
      "  5%|▌         | 19/359 [00:18<05:15,  1.08it/s]"
     ]
    },
    {
     "name": "stdout",
     "output_type": "stream",
     "text": [
      "similarity of the two sentences:  tensor(1., device='cuda:0')\n"
     ]
    },
    {
     "name": "stderr",
     "output_type": "stream",
     "text": [
      "\r",
      "  6%|▌         | 20/359 [00:19<05:14,  1.08it/s]"
     ]
    },
    {
     "name": "stdout",
     "output_type": "stream",
     "text": [
      "similarity of the two sentences:  tensor(0.7456, device='cuda:0')\n"
     ]
    },
    {
     "name": "stderr",
     "output_type": "stream",
     "text": [
      "\r",
      "  6%|▌         | 21/359 [00:20<05:11,  1.08it/s]"
     ]
    },
    {
     "name": "stdout",
     "output_type": "stream",
     "text": [
      "similarity of the two sentences:  tensor(0.9211, device='cuda:0')\n"
     ]
    },
    {
     "name": "stderr",
     "output_type": "stream",
     "text": [
      "\r",
      "  6%|▌         | 22/359 [00:21<05:08,  1.09it/s]"
     ]
    },
    {
     "name": "stdout",
     "output_type": "stream",
     "text": [
      "similarity of the two sentences:  tensor(0.9584, device='cuda:0')\n"
     ]
    },
    {
     "name": "stderr",
     "output_type": "stream",
     "text": [
      "\r",
      "  6%|▋         | 23/359 [00:21<05:08,  1.09it/s]"
     ]
    },
    {
     "name": "stdout",
     "output_type": "stream",
     "text": [
      "similarity of the two sentences:  tensor(0.8574, device='cuda:0')\n"
     ]
    },
    {
     "name": "stderr",
     "output_type": "stream",
     "text": [
      "\r",
      "  7%|▋         | 24/359 [00:22<05:07,  1.09it/s]"
     ]
    },
    {
     "name": "stdout",
     "output_type": "stream",
     "text": [
      "similarity of the two sentences:  tensor(0.9566, device='cuda:0')\n"
     ]
    },
    {
     "name": "stderr",
     "output_type": "stream",
     "text": [
      "\r",
      "  7%|▋         | 25/359 [00:23<05:06,  1.09it/s]"
     ]
    },
    {
     "name": "stdout",
     "output_type": "stream",
     "text": [
      "similarity of the two sentences:  tensor(0.6907, device='cuda:0')\n"
     ]
    },
    {
     "name": "stderr",
     "output_type": "stream",
     "text": [
      "\r",
      "  7%|▋         | 26/359 [00:24<05:03,  1.10it/s]"
     ]
    },
    {
     "name": "stdout",
     "output_type": "stream",
     "text": [
      "similarity of the two sentences:  tensor(0.9716, device='cuda:0')\n"
     ]
    },
    {
     "name": "stderr",
     "output_type": "stream",
     "text": [
      "\r",
      "  8%|▊         | 27/359 [00:25<05:00,  1.10it/s]"
     ]
    },
    {
     "name": "stdout",
     "output_type": "stream",
     "text": [
      "similarity of the two sentences:  tensor(0.8040, device='cuda:0')\n"
     ]
    },
    {
     "name": "stderr",
     "output_type": "stream",
     "text": [
      "\r",
      "  8%|▊         | 28/359 [00:26<04:59,  1.10it/s]"
     ]
    },
    {
     "name": "stdout",
     "output_type": "stream",
     "text": [
      "similarity of the two sentences:  tensor(0.9116, device='cuda:0')\n"
     ]
    },
    {
     "name": "stderr",
     "output_type": "stream",
     "text": [
      "\r",
      "  8%|▊         | 29/359 [00:27<05:00,  1.10it/s]"
     ]
    },
    {
     "name": "stdout",
     "output_type": "stream",
     "text": [
      "similarity of the two sentences:  tensor(0.9707, device='cuda:0')\n"
     ]
    },
    {
     "name": "stderr",
     "output_type": "stream",
     "text": [
      "\r",
      "  8%|▊         | 30/359 [00:28<05:06,  1.07it/s]"
     ]
    },
    {
     "name": "stdout",
     "output_type": "stream",
     "text": [
      "similarity of the two sentences:  tensor(1.0000, device='cuda:0')\n"
     ]
    },
    {
     "name": "stderr",
     "output_type": "stream",
     "text": [
      "\r",
      "  9%|▊         | 31/359 [00:29<05:04,  1.08it/s]"
     ]
    },
    {
     "name": "stdout",
     "output_type": "stream",
     "text": [
      "similarity of the two sentences:  tensor(0.8900, device='cuda:0')\n"
     ]
    },
    {
     "name": "stderr",
     "output_type": "stream",
     "text": [
      "\r",
      "  9%|▉         | 32/359 [00:30<05:03,  1.08it/s]"
     ]
    },
    {
     "name": "stdout",
     "output_type": "stream",
     "text": [
      "similarity of the two sentences:  tensor(0.8249, device='cuda:0')\n"
     ]
    },
    {
     "name": "stderr",
     "output_type": "stream",
     "text": [
      "\r",
      "  9%|▉         | 33/359 [00:31<05:00,  1.08it/s]"
     ]
    },
    {
     "name": "stdout",
     "output_type": "stream",
     "text": [
      "similarity of the two sentences:  tensor(0.9766, device='cuda:0')\n"
     ]
    },
    {
     "name": "stderr",
     "output_type": "stream",
     "text": [
      "\r",
      "  9%|▉         | 34/359 [00:32<05:06,  1.06it/s]"
     ]
    },
    {
     "name": "stdout",
     "output_type": "stream",
     "text": [
      "similarity of the two sentences:  tensor(0.9125, device='cuda:0')\n"
     ]
    },
    {
     "name": "stderr",
     "output_type": "stream",
     "text": [
      "\r",
      " 10%|▉         | 35/359 [00:33<05:08,  1.05it/s]"
     ]
    },
    {
     "name": "stdout",
     "output_type": "stream",
     "text": [
      "similarity of the two sentences:  tensor(0.6911, device='cuda:0')\n"
     ]
    },
    {
     "name": "stderr",
     "output_type": "stream",
     "text": [
      "\r",
      " 10%|█         | 36/359 [00:34<05:16,  1.02it/s]"
     ]
    },
    {
     "name": "stdout",
     "output_type": "stream",
     "text": [
      "similarity of the two sentences:  tensor(0.6836, device='cuda:0')\n"
     ]
    },
    {
     "name": "stderr",
     "output_type": "stream",
     "text": [
      "\r",
      " 10%|█         | 37/359 [00:35<05:12,  1.03it/s]"
     ]
    },
    {
     "name": "stdout",
     "output_type": "stream",
     "text": [
      "similarity of the two sentences:  tensor(0.9071, device='cuda:0')\n"
     ]
    },
    {
     "name": "stderr",
     "output_type": "stream",
     "text": [
      "\r",
      " 11%|█         | 38/359 [00:36<05:10,  1.03it/s]"
     ]
    },
    {
     "name": "stdout",
     "output_type": "stream",
     "text": [
      "similarity of the two sentences:  tensor(0.7909, device='cuda:0')\n"
     ]
    },
    {
     "name": "stderr",
     "output_type": "stream",
     "text": [
      "\r",
      " 11%|█         | 39/359 [00:37<05:06,  1.05it/s]"
     ]
    },
    {
     "name": "stdout",
     "output_type": "stream",
     "text": [
      "similarity of the two sentences:  tensor(1., device='cuda:0')\n"
     ]
    },
    {
     "name": "stderr",
     "output_type": "stream",
     "text": [
      "\r",
      " 11%|█         | 40/359 [00:37<05:03,  1.05it/s]"
     ]
    },
    {
     "name": "stdout",
     "output_type": "stream",
     "text": [
      "similarity of the two sentences:  tensor(0.6891, device='cuda:0')\n"
     ]
    },
    {
     "name": "stderr",
     "output_type": "stream",
     "text": [
      "\r",
      " 11%|█▏        | 41/359 [00:38<04:58,  1.06it/s]"
     ]
    },
    {
     "name": "stdout",
     "output_type": "stream",
     "text": [
      "similarity of the two sentences:  tensor(0.3276, device='cuda:0')\n"
     ]
    },
    {
     "name": "stderr",
     "output_type": "stream",
     "text": [
      "\r",
      " 12%|█▏        | 42/359 [00:39<04:54,  1.08it/s]"
     ]
    },
    {
     "name": "stdout",
     "output_type": "stream",
     "text": [
      "similarity of the two sentences:  tensor(0.9026, device='cuda:0')\n"
     ]
    },
    {
     "name": "stderr",
     "output_type": "stream",
     "text": [
      "\r",
      " 12%|█▏        | 43/359 [00:40<04:52,  1.08it/s]"
     ]
    },
    {
     "name": "stdout",
     "output_type": "stream",
     "text": [
      "similarity of the two sentences:  tensor(0.9320, device='cuda:0')\n"
     ]
    },
    {
     "name": "stderr",
     "output_type": "stream",
     "text": [
      "\r",
      " 12%|█▏        | 44/359 [00:41<04:56,  1.06it/s]"
     ]
    },
    {
     "name": "stdout",
     "output_type": "stream",
     "text": [
      "similarity of the two sentences:  tensor(0.9037, device='cuda:0')\n"
     ]
    },
    {
     "name": "stderr",
     "output_type": "stream",
     "text": [
      "\r",
      " 13%|█▎        | 45/359 [00:42<04:54,  1.07it/s]"
     ]
    },
    {
     "name": "stdout",
     "output_type": "stream",
     "text": [
      "similarity of the two sentences:  tensor(0.9399, device='cuda:0')\n"
     ]
    },
    {
     "name": "stderr",
     "output_type": "stream",
     "text": [
      "\r",
      " 13%|█▎        | 46/359 [00:43<04:51,  1.07it/s]"
     ]
    },
    {
     "name": "stdout",
     "output_type": "stream",
     "text": [
      "similarity of the two sentences:  tensor(0.8267, device='cuda:0')\n"
     ]
    },
    {
     "name": "stderr",
     "output_type": "stream",
     "text": [
      "\r",
      " 13%|█▎        | 47/359 [00:44<04:49,  1.08it/s]"
     ]
    },
    {
     "name": "stdout",
     "output_type": "stream",
     "text": [
      "similarity of the two sentences:  tensor(0.7069, device='cuda:0')\n"
     ]
    },
    {
     "name": "stderr",
     "output_type": "stream",
     "text": [
      "\r",
      " 13%|█▎        | 48/359 [00:45<04:45,  1.09it/s]"
     ]
    },
    {
     "name": "stdout",
     "output_type": "stream",
     "text": [
      "similarity of the two sentences:  tensor(0.7138, device='cuda:0')\n"
     ]
    },
    {
     "name": "stderr",
     "output_type": "stream",
     "text": [
      "\r",
      " 14%|█▎        | 49/359 [00:46<04:43,  1.09it/s]"
     ]
    },
    {
     "name": "stdout",
     "output_type": "stream",
     "text": [
      "similarity of the two sentences:  tensor(0.8754, device='cuda:0')\n"
     ]
    },
    {
     "name": "stderr",
     "output_type": "stream",
     "text": [
      "\r",
      " 14%|█▍        | 50/359 [00:47<04:41,  1.10it/s]"
     ]
    },
    {
     "name": "stdout",
     "output_type": "stream",
     "text": [
      "similarity of the two sentences:  tensor(0.9977, device='cuda:0')\n"
     ]
    },
    {
     "name": "stderr",
     "output_type": "stream",
     "text": [
      "\r",
      " 14%|█▍        | 51/359 [00:48<04:45,  1.08it/s]"
     ]
    },
    {
     "name": "stdout",
     "output_type": "stream",
     "text": [
      "similarity of the two sentences:  tensor(0.8266, device='cuda:0')\n"
     ]
    },
    {
     "name": "stderr",
     "output_type": "stream",
     "text": [
      "\r",
      " 14%|█▍        | 52/359 [00:49<04:49,  1.06it/s]"
     ]
    },
    {
     "name": "stdout",
     "output_type": "stream",
     "text": [
      "similarity of the two sentences:  tensor(0.7283, device='cuda:0')\n"
     ]
    },
    {
     "name": "stderr",
     "output_type": "stream",
     "text": [
      "\r",
      " 15%|█▍        | 53/359 [00:50<04:47,  1.07it/s]"
     ]
    },
    {
     "name": "stdout",
     "output_type": "stream",
     "text": [
      "similarity of the two sentences:  tensor(0.7720, device='cuda:0')\n"
     ]
    },
    {
     "name": "stderr",
     "output_type": "stream",
     "text": [
      "\r",
      " 15%|█▌        | 54/359 [00:50<04:43,  1.08it/s]"
     ]
    },
    {
     "name": "stdout",
     "output_type": "stream",
     "text": [
      "similarity of the two sentences:  tensor(0.8567, device='cuda:0')\n"
     ]
    },
    {
     "name": "stderr",
     "output_type": "stream",
     "text": [
      "\r",
      " 15%|█▌        | 55/359 [00:51<04:43,  1.07it/s]"
     ]
    },
    {
     "name": "stdout",
     "output_type": "stream",
     "text": [
      "similarity of the two sentences:  tensor(0.4950, device='cuda:0')\n"
     ]
    },
    {
     "name": "stderr",
     "output_type": "stream",
     "text": [
      "\r",
      " 16%|█▌        | 56/359 [00:52<04:41,  1.08it/s]"
     ]
    },
    {
     "name": "stdout",
     "output_type": "stream",
     "text": [
      "similarity of the two sentences:  tensor(0.6902, device='cuda:0')\n"
     ]
    },
    {
     "name": "stderr",
     "output_type": "stream",
     "text": [
      "\r",
      " 16%|█▌        | 57/359 [00:53<04:39,  1.08it/s]"
     ]
    },
    {
     "name": "stdout",
     "output_type": "stream",
     "text": [
      "similarity of the two sentences:  tensor(0.8419, device='cuda:0')\n"
     ]
    },
    {
     "name": "stderr",
     "output_type": "stream",
     "text": [
      "\r",
      " 16%|█▌        | 58/359 [00:54<04:37,  1.08it/s]"
     ]
    },
    {
     "name": "stdout",
     "output_type": "stream",
     "text": [
      "similarity of the two sentences:  tensor(0.9039, device='cuda:0')\n"
     ]
    },
    {
     "name": "stderr",
     "output_type": "stream",
     "text": [
      "\r",
      " 16%|█▋        | 59/359 [00:55<04:37,  1.08it/s]"
     ]
    },
    {
     "name": "stdout",
     "output_type": "stream",
     "text": [
      "similarity of the two sentences:  tensor(0.9548, device='cuda:0')\n"
     ]
    },
    {
     "name": "stderr",
     "output_type": "stream",
     "text": [
      "\r",
      " 17%|█▋        | 60/359 [00:56<04:36,  1.08it/s]"
     ]
    },
    {
     "name": "stdout",
     "output_type": "stream",
     "text": [
      "similarity of the two sentences:  tensor(0.9693, device='cuda:0')\n"
     ]
    },
    {
     "name": "stderr",
     "output_type": "stream",
     "text": [
      "\r",
      " 17%|█▋        | 61/359 [00:57<04:35,  1.08it/s]"
     ]
    },
    {
     "name": "stdout",
     "output_type": "stream",
     "text": [
      "similarity of the two sentences:  tensor(0.8370, device='cuda:0')\n"
     ]
    },
    {
     "name": "stderr",
     "output_type": "stream",
     "text": [
      "\r",
      " 17%|█▋        | 62/359 [00:58<04:33,  1.09it/s]"
     ]
    },
    {
     "name": "stdout",
     "output_type": "stream",
     "text": [
      "similarity of the two sentences:  tensor(0.8216, device='cuda:0')\n"
     ]
    },
    {
     "name": "stderr",
     "output_type": "stream",
     "text": [
      "\r",
      " 18%|█▊        | 63/359 [00:59<04:31,  1.09it/s]"
     ]
    },
    {
     "name": "stdout",
     "output_type": "stream",
     "text": [
      "similarity of the two sentences:  tensor(1.0000, device='cuda:0')\n"
     ]
    },
    {
     "name": "stderr",
     "output_type": "stream",
     "text": [
      "\r",
      " 18%|█▊        | 64/359 [01:00<04:29,  1.09it/s]"
     ]
    },
    {
     "name": "stdout",
     "output_type": "stream",
     "text": [
      "similarity of the two sentences:  tensor(0.5812, device='cuda:0')\n"
     ]
    },
    {
     "name": "stderr",
     "output_type": "stream",
     "text": [
      "\r",
      " 18%|█▊        | 65/359 [01:01<04:27,  1.10it/s]"
     ]
    },
    {
     "name": "stdout",
     "output_type": "stream",
     "text": [
      "similarity of the two sentences:  tensor(1.0000, device='cuda:0')\n"
     ]
    },
    {
     "name": "stderr",
     "output_type": "stream",
     "text": [
      "\r",
      " 18%|█▊        | 66/359 [01:02<04:39,  1.05it/s]"
     ]
    },
    {
     "name": "stdout",
     "output_type": "stream",
     "text": [
      "similarity of the two sentences:  tensor(0.6810, device='cuda:0')\n"
     ]
    },
    {
     "name": "stderr",
     "output_type": "stream",
     "text": [
      "\r",
      " 19%|█▊        | 67/359 [01:03<04:41,  1.04it/s]"
     ]
    },
    {
     "name": "stdout",
     "output_type": "stream",
     "text": [
      "similarity of the two sentences:  tensor(0.8902, device='cuda:0')\n"
     ]
    },
    {
     "name": "stderr",
     "output_type": "stream",
     "text": [
      "\r",
      " 19%|█▉        | 68/359 [01:04<04:45,  1.02it/s]"
     ]
    },
    {
     "name": "stdout",
     "output_type": "stream",
     "text": [
      "similarity of the two sentences:  tensor(0.9186, device='cuda:0')\n"
     ]
    },
    {
     "name": "stderr",
     "output_type": "stream",
     "text": [
      "\r",
      " 19%|█▉        | 69/359 [01:05<04:59,  1.03s/it]"
     ]
    },
    {
     "name": "stdout",
     "output_type": "stream",
     "text": [
      "similarity of the two sentences:  tensor(1.0000, device='cuda:0')\n"
     ]
    },
    {
     "name": "stderr",
     "output_type": "stream",
     "text": [
      "\r",
      " 19%|█▉        | 70/359 [01:06<05:00,  1.04s/it]"
     ]
    },
    {
     "name": "stdout",
     "output_type": "stream",
     "text": [
      "similarity of the two sentences:  tensor(1., device='cuda:0')\n"
     ]
    },
    {
     "name": "stderr",
     "output_type": "stream",
     "text": [
      "\r",
      " 20%|█▉        | 71/359 [01:07<04:49,  1.00s/it]"
     ]
    },
    {
     "name": "stdout",
     "output_type": "stream",
     "text": [
      "similarity of the two sentences:  tensor(1.0000, device='cuda:0')\n"
     ]
    },
    {
     "name": "stderr",
     "output_type": "stream",
     "text": [
      "\r",
      " 20%|██        | 72/359 [01:08<04:43,  1.01it/s]"
     ]
    },
    {
     "name": "stdout",
     "output_type": "stream",
     "text": [
      "similarity of the two sentences:  tensor(0.9646, device='cuda:0')\n"
     ]
    },
    {
     "name": "stderr",
     "output_type": "stream",
     "text": [
      "\r",
      " 20%|██        | 73/359 [01:09<04:42,  1.01it/s]"
     ]
    },
    {
     "name": "stdout",
     "output_type": "stream",
     "text": [
      "similarity of the two sentences:  tensor(0.9349, device='cuda:0')\n"
     ]
    },
    {
     "name": "stderr",
     "output_type": "stream",
     "text": [
      "\r",
      " 21%|██        | 74/359 [01:10<04:40,  1.01it/s]"
     ]
    },
    {
     "name": "stdout",
     "output_type": "stream",
     "text": [
      "similarity of the two sentences:  tensor(0.8430, device='cuda:0')\n"
     ]
    },
    {
     "name": "stderr",
     "output_type": "stream",
     "text": [
      "\r",
      " 21%|██        | 75/359 [01:11<04:41,  1.01it/s]"
     ]
    },
    {
     "name": "stdout",
     "output_type": "stream",
     "text": [
      "similarity of the two sentences:  tensor(0.8629, device='cuda:0')\n"
     ]
    },
    {
     "name": "stderr",
     "output_type": "stream",
     "text": [
      "\r",
      " 21%|██        | 76/359 [01:12<04:36,  1.02it/s]"
     ]
    },
    {
     "name": "stdout",
     "output_type": "stream",
     "text": [
      "similarity of the two sentences:  tensor(0.8230, device='cuda:0')\n"
     ]
    },
    {
     "name": "stderr",
     "output_type": "stream",
     "text": [
      "\r",
      " 21%|██▏       | 77/359 [01:13<04:31,  1.04it/s]"
     ]
    },
    {
     "name": "stdout",
     "output_type": "stream",
     "text": [
      "similarity of the two sentences:  tensor(0.7920, device='cuda:0')\n"
     ]
    },
    {
     "name": "stderr",
     "output_type": "stream",
     "text": [
      "\r",
      " 22%|██▏       | 78/359 [01:13<04:27,  1.05it/s]"
     ]
    },
    {
     "name": "stdout",
     "output_type": "stream",
     "text": [
      "similarity of the two sentences:  tensor(1., device='cuda:0')\n"
     ]
    },
    {
     "name": "stderr",
     "output_type": "stream",
     "text": [
      "\r",
      " 22%|██▏       | 79/359 [01:14<04:23,  1.06it/s]"
     ]
    },
    {
     "name": "stdout",
     "output_type": "stream",
     "text": [
      "similarity of the two sentences:  tensor(0.5273, device='cuda:0')\n"
     ]
    },
    {
     "name": "stderr",
     "output_type": "stream",
     "text": [
      "\r",
      " 22%|██▏       | 80/359 [01:15<04:22,  1.06it/s]"
     ]
    },
    {
     "name": "stdout",
     "output_type": "stream",
     "text": [
      "similarity of the two sentences:  tensor(0.6810, device='cuda:0')\n"
     ]
    },
    {
     "name": "stderr",
     "output_type": "stream",
     "text": [
      "\r",
      " 23%|██▎       | 81/359 [01:16<04:20,  1.07it/s]"
     ]
    },
    {
     "name": "stdout",
     "output_type": "stream",
     "text": [
      "similarity of the two sentences:  tensor(0.9530, device='cuda:0')\n"
     ]
    },
    {
     "name": "stderr",
     "output_type": "stream",
     "text": [
      "\r",
      " 23%|██▎       | 82/359 [01:17<04:19,  1.07it/s]"
     ]
    },
    {
     "name": "stdout",
     "output_type": "stream",
     "text": [
      "similarity of the two sentences:  tensor(0.8857, device='cuda:0')\n"
     ]
    },
    {
     "name": "stderr",
     "output_type": "stream",
     "text": [
      "\r",
      " 23%|██▎       | 83/359 [01:18<04:17,  1.07it/s]"
     ]
    },
    {
     "name": "stdout",
     "output_type": "stream",
     "text": [
      "similarity of the two sentences:  tensor(1.0000, device='cuda:0')\n"
     ]
    },
    {
     "name": "stderr",
     "output_type": "stream",
     "text": [
      "\r",
      " 23%|██▎       | 84/359 [01:19<04:14,  1.08it/s]"
     ]
    },
    {
     "name": "stdout",
     "output_type": "stream",
     "text": [
      "similarity of the two sentences:  tensor(0.6248, device='cuda:0')\n"
     ]
    },
    {
     "name": "stderr",
     "output_type": "stream",
     "text": [
      "\r",
      " 24%|██▎       | 85/359 [01:20<04:13,  1.08it/s]"
     ]
    },
    {
     "name": "stdout",
     "output_type": "stream",
     "text": [
      "similarity of the two sentences:  tensor(0.6347, device='cuda:0')\n"
     ]
    },
    {
     "name": "stderr",
     "output_type": "stream",
     "text": [
      "\r",
      " 24%|██▍       | 86/359 [01:21<04:12,  1.08it/s]"
     ]
    },
    {
     "name": "stdout",
     "output_type": "stream",
     "text": [
      "similarity of the two sentences:  tensor(0.2766, device='cuda:0')\n"
     ]
    },
    {
     "name": "stderr",
     "output_type": "stream",
     "text": [
      "\r",
      " 24%|██▍       | 87/359 [01:22<04:08,  1.09it/s]"
     ]
    },
    {
     "name": "stdout",
     "output_type": "stream",
     "text": [
      "similarity of the two sentences:  tensor(0.8707, device='cuda:0')\n"
     ]
    },
    {
     "name": "stderr",
     "output_type": "stream",
     "text": [
      "\r",
      " 25%|██▍       | 88/359 [01:23<04:10,  1.08it/s]"
     ]
    },
    {
     "name": "stdout",
     "output_type": "stream",
     "text": [
      "similarity of the two sentences:  tensor(0.9853, device='cuda:0')\n"
     ]
    },
    {
     "name": "stderr",
     "output_type": "stream",
     "text": [
      "\r",
      " 25%|██▍       | 89/359 [01:24<04:13,  1.06it/s]"
     ]
    },
    {
     "name": "stdout",
     "output_type": "stream",
     "text": [
      "similarity of the two sentences:  tensor(0.2895, device='cuda:0')\n"
     ]
    },
    {
     "name": "stderr",
     "output_type": "stream",
     "text": [
      "\r",
      " 25%|██▌       | 90/359 [01:25<04:11,  1.07it/s]"
     ]
    },
    {
     "name": "stdout",
     "output_type": "stream",
     "text": [
      "similarity of the two sentences:  tensor(0.9345, device='cuda:0')\n"
     ]
    },
    {
     "name": "stderr",
     "output_type": "stream",
     "text": [
      "\r",
      " 25%|██▌       | 91/359 [01:26<04:09,  1.07it/s]"
     ]
    },
    {
     "name": "stdout",
     "output_type": "stream",
     "text": [
      "similarity of the two sentences:  tensor(0.8816, device='cuda:0')\n"
     ]
    },
    {
     "name": "stderr",
     "output_type": "stream",
     "text": [
      "\r",
      " 26%|██▌       | 92/359 [01:26<04:07,  1.08it/s]"
     ]
    },
    {
     "name": "stdout",
     "output_type": "stream",
     "text": [
      "similarity of the two sentences:  tensor(1., device='cuda:0')\n"
     ]
    },
    {
     "name": "stderr",
     "output_type": "stream",
     "text": [
      "\r",
      " 26%|██▌       | 93/359 [01:27<04:06,  1.08it/s]"
     ]
    },
    {
     "name": "stdout",
     "output_type": "stream",
     "text": [
      "similarity of the two sentences:  tensor(1.0000, device='cuda:0')\n"
     ]
    },
    {
     "name": "stderr",
     "output_type": "stream",
     "text": [
      "\r",
      " 26%|██▌       | 94/359 [01:28<04:08,  1.06it/s]"
     ]
    },
    {
     "name": "stdout",
     "output_type": "stream",
     "text": [
      "similarity of the two sentences:  tensor(0.9116, device='cuda:0')\n"
     ]
    },
    {
     "name": "stderr",
     "output_type": "stream",
     "text": [
      "\r",
      " 26%|██▋       | 95/359 [01:29<04:09,  1.06it/s]"
     ]
    },
    {
     "name": "stdout",
     "output_type": "stream",
     "text": [
      "similarity of the two sentences:  tensor(0.7497, device='cuda:0')\n"
     ]
    },
    {
     "name": "stderr",
     "output_type": "stream",
     "text": [
      "\r",
      " 27%|██▋       | 96/359 [01:30<04:06,  1.07it/s]"
     ]
    },
    {
     "name": "stdout",
     "output_type": "stream",
     "text": [
      "similarity of the two sentences:  tensor(0.7517, device='cuda:0')\n"
     ]
    },
    {
     "name": "stderr",
     "output_type": "stream",
     "text": [
      "\r",
      " 27%|██▋       | 97/359 [01:31<04:09,  1.05it/s]"
     ]
    },
    {
     "name": "stdout",
     "output_type": "stream",
     "text": [
      "similarity of the two sentences:  tensor(0.8335, device='cuda:0')\n"
     ]
    },
    {
     "name": "stderr",
     "output_type": "stream",
     "text": [
      "\r",
      " 27%|██▋       | 98/359 [01:32<04:05,  1.06it/s]"
     ]
    },
    {
     "name": "stdout",
     "output_type": "stream",
     "text": [
      "similarity of the two sentences:  tensor(1.0000, device='cuda:0')\n"
     ]
    },
    {
     "name": "stderr",
     "output_type": "stream",
     "text": [
      "\r",
      " 28%|██▊       | 99/359 [01:33<04:03,  1.07it/s]"
     ]
    },
    {
     "name": "stdout",
     "output_type": "stream",
     "text": [
      "similarity of the two sentences:  tensor(0.6007, device='cuda:0')\n"
     ]
    },
    {
     "name": "stderr",
     "output_type": "stream",
     "text": [
      "\r",
      " 28%|██▊       | 100/359 [01:34<04:00,  1.08it/s]"
     ]
    },
    {
     "name": "stdout",
     "output_type": "stream",
     "text": [
      "similarity of the two sentences:  tensor(0.9780, device='cuda:0')\n"
     ]
    },
    {
     "name": "stderr",
     "output_type": "stream",
     "text": [
      "\r",
      " 28%|██▊       | 101/359 [01:35<04:10,  1.03it/s]"
     ]
    },
    {
     "name": "stdout",
     "output_type": "stream",
     "text": [
      "similarity of the two sentences:  tensor(0.7779, device='cuda:0')\n"
     ]
    },
    {
     "name": "stderr",
     "output_type": "stream",
     "text": [
      "\r",
      " 28%|██▊       | 102/359 [01:36<04:11,  1.02it/s]"
     ]
    },
    {
     "name": "stdout",
     "output_type": "stream",
     "text": [
      "similarity of the two sentences:  tensor(0.6698, device='cuda:0')\n"
     ]
    },
    {
     "name": "stderr",
     "output_type": "stream",
     "text": [
      "\r",
      " 29%|██▊       | 103/359 [01:37<04:12,  1.01it/s]"
     ]
    },
    {
     "name": "stdout",
     "output_type": "stream",
     "text": [
      "similarity of the two sentences:  tensor(0.7021, device='cuda:0')\n"
     ]
    },
    {
     "name": "stderr",
     "output_type": "stream",
     "text": [
      "\r",
      " 29%|██▉       | 104/359 [01:38<04:08,  1.03it/s]"
     ]
    },
    {
     "name": "stdout",
     "output_type": "stream",
     "text": [
      "similarity of the two sentences:  tensor(1.0000, device='cuda:0')\n"
     ]
    },
    {
     "name": "stderr",
     "output_type": "stream",
     "text": [
      "\r",
      " 29%|██▉       | 105/359 [01:39<04:03,  1.04it/s]"
     ]
    },
    {
     "name": "stdout",
     "output_type": "stream",
     "text": [
      "similarity of the two sentences:  tensor(0.8265, device='cuda:0')\n"
     ]
    },
    {
     "name": "stderr",
     "output_type": "stream",
     "text": [
      "\r",
      " 30%|██▉       | 106/359 [01:40<04:01,  1.05it/s]"
     ]
    },
    {
     "name": "stdout",
     "output_type": "stream",
     "text": [
      "similarity of the two sentences:  tensor(0.8042, device='cuda:0')\n"
     ]
    },
    {
     "name": "stderr",
     "output_type": "stream",
     "text": [
      "\r",
      " 30%|██▉       | 107/359 [01:41<04:02,  1.04it/s]"
     ]
    },
    {
     "name": "stdout",
     "output_type": "stream",
     "text": [
      "similarity of the two sentences:  tensor(0.9926, device='cuda:0')\n"
     ]
    },
    {
     "name": "stderr",
     "output_type": "stream",
     "text": [
      "\r",
      " 30%|███       | 108/359 [01:42<04:00,  1.04it/s]"
     ]
    },
    {
     "name": "stdout",
     "output_type": "stream",
     "text": [
      "similarity of the two sentences:  tensor(0.9407, device='cuda:0')\n"
     ]
    },
    {
     "name": "stderr",
     "output_type": "stream",
     "text": [
      "\r",
      " 30%|███       | 109/359 [01:43<04:00,  1.04it/s]"
     ]
    },
    {
     "name": "stdout",
     "output_type": "stream",
     "text": [
      "similarity of the two sentences:  tensor(0.9402, device='cuda:0')\n"
     ]
    },
    {
     "name": "stderr",
     "output_type": "stream",
     "text": [
      "\r",
      " 31%|███       | 110/359 [01:44<03:59,  1.04it/s]"
     ]
    },
    {
     "name": "stdout",
     "output_type": "stream",
     "text": [
      "similarity of the two sentences:  tensor(0.9211, device='cuda:0')\n"
     ]
    },
    {
     "name": "stderr",
     "output_type": "stream",
     "text": [
      "\r",
      " 31%|███       | 111/359 [01:45<03:55,  1.05it/s]"
     ]
    },
    {
     "name": "stdout",
     "output_type": "stream",
     "text": [
      "similarity of the two sentences:  tensor(0.6753, device='cuda:0')\n"
     ]
    },
    {
     "name": "stderr",
     "output_type": "stream",
     "text": [
      "\r",
      " 31%|███       | 112/359 [01:46<03:51,  1.07it/s]"
     ]
    },
    {
     "name": "stdout",
     "output_type": "stream",
     "text": [
      "similarity of the two sentences:  tensor(0.8324, device='cuda:0')\n"
     ]
    },
    {
     "name": "stderr",
     "output_type": "stream",
     "text": [
      "\r",
      " 31%|███▏      | 113/359 [01:46<03:49,  1.07it/s]"
     ]
    },
    {
     "name": "stdout",
     "output_type": "stream",
     "text": [
      "similarity of the two sentences:  tensor(0.8993, device='cuda:0')\n"
     ]
    },
    {
     "name": "stderr",
     "output_type": "stream",
     "text": [
      "\r",
      " 32%|███▏      | 114/359 [01:47<03:49,  1.07it/s]"
     ]
    },
    {
     "name": "stdout",
     "output_type": "stream",
     "text": [
      "similarity of the two sentences:  tensor(0.7191, device='cuda:0')\n"
     ]
    },
    {
     "name": "stderr",
     "output_type": "stream",
     "text": [
      "\r",
      " 32%|███▏      | 115/359 [01:48<03:46,  1.08it/s]"
     ]
    },
    {
     "name": "stdout",
     "output_type": "stream",
     "text": [
      "similarity of the two sentences:  tensor(0.7266, device='cuda:0')\n"
     ]
    },
    {
     "name": "stderr",
     "output_type": "stream",
     "text": [
      "\r",
      " 32%|███▏      | 116/359 [01:49<03:48,  1.07it/s]"
     ]
    },
    {
     "name": "stdout",
     "output_type": "stream",
     "text": [
      "similarity of the two sentences:  tensor(0.9613, device='cuda:0')\n"
     ]
    },
    {
     "name": "stderr",
     "output_type": "stream",
     "text": [
      "\r",
      " 33%|███▎      | 117/359 [01:50<03:46,  1.07it/s]"
     ]
    },
    {
     "name": "stdout",
     "output_type": "stream",
     "text": [
      "similarity of the two sentences:  tensor(0.9361, device='cuda:0')\n"
     ]
    },
    {
     "name": "stderr",
     "output_type": "stream",
     "text": [
      "\r",
      " 33%|███▎      | 118/359 [01:51<03:43,  1.08it/s]"
     ]
    },
    {
     "name": "stdout",
     "output_type": "stream",
     "text": [
      "similarity of the two sentences:  tensor(0.7848, device='cuda:0')\n"
     ]
    },
    {
     "name": "stderr",
     "output_type": "stream",
     "text": [
      "\r",
      " 33%|███▎      | 119/359 [01:52<03:41,  1.08it/s]"
     ]
    },
    {
     "name": "stdout",
     "output_type": "stream",
     "text": [
      "similarity of the two sentences:  tensor(0.5666, device='cuda:0')\n"
     ]
    },
    {
     "name": "stderr",
     "output_type": "stream",
     "text": [
      "\r",
      " 33%|███▎      | 120/359 [01:53<03:39,  1.09it/s]"
     ]
    },
    {
     "name": "stdout",
     "output_type": "stream",
     "text": [
      "similarity of the two sentences:  tensor(1.0000, device='cuda:0')\n"
     ]
    },
    {
     "name": "stderr",
     "output_type": "stream",
     "text": [
      "\r",
      " 34%|███▎      | 121/359 [01:54<03:44,  1.06it/s]"
     ]
    },
    {
     "name": "stdout",
     "output_type": "stream",
     "text": [
      "similarity of the two sentences:  tensor(1.0000, device='cuda:0')\n"
     ]
    },
    {
     "name": "stderr",
     "output_type": "stream",
     "text": [
      "\r",
      " 34%|███▍      | 122/359 [01:55<03:44,  1.05it/s]"
     ]
    },
    {
     "name": "stdout",
     "output_type": "stream",
     "text": [
      "similarity of the two sentences:  tensor(0.9260, device='cuda:0')\n"
     ]
    },
    {
     "name": "stderr",
     "output_type": "stream",
     "text": [
      "\r",
      " 34%|███▍      | 123/359 [01:56<03:49,  1.03it/s]"
     ]
    },
    {
     "name": "stdout",
     "output_type": "stream",
     "text": [
      "similarity of the two sentences:  tensor(0.7745, device='cuda:0')\n"
     ]
    },
    {
     "name": "stderr",
     "output_type": "stream",
     "text": [
      "\r",
      " 35%|███▍      | 124/359 [01:57<03:48,  1.03it/s]"
     ]
    },
    {
     "name": "stdout",
     "output_type": "stream",
     "text": [
      "similarity of the two sentences:  tensor(0.9463, device='cuda:0')\n"
     ]
    },
    {
     "name": "stderr",
     "output_type": "stream",
     "text": [
      "\r",
      " 35%|███▍      | 125/359 [01:58<03:52,  1.01it/s]"
     ]
    },
    {
     "name": "stdout",
     "output_type": "stream",
     "text": [
      "similarity of the two sentences:  tensor(0.9202, device='cuda:0')\n"
     ]
    },
    {
     "name": "stderr",
     "output_type": "stream",
     "text": [
      "\r",
      " 35%|███▌      | 126/359 [01:59<03:47,  1.03it/s]"
     ]
    },
    {
     "name": "stdout",
     "output_type": "stream",
     "text": [
      "similarity of the two sentences:  tensor(0.9076, device='cuda:0')\n"
     ]
    },
    {
     "name": "stderr",
     "output_type": "stream",
     "text": [
      "\r",
      " 35%|███▌      | 127/359 [02:00<03:43,  1.04it/s]"
     ]
    },
    {
     "name": "stdout",
     "output_type": "stream",
     "text": [
      "similarity of the two sentences:  tensor(0.8736, device='cuda:0')\n"
     ]
    },
    {
     "name": "stderr",
     "output_type": "stream",
     "text": [
      "\r",
      " 36%|███▌      | 128/359 [02:01<03:40,  1.05it/s]"
     ]
    },
    {
     "name": "stdout",
     "output_type": "stream",
     "text": [
      "similarity of the two sentences:  tensor(0.9198, device='cuda:0')\n"
     ]
    },
    {
     "name": "stderr",
     "output_type": "stream",
     "text": [
      "\r",
      " 36%|███▌      | 129/359 [02:02<03:37,  1.06it/s]"
     ]
    },
    {
     "name": "stdout",
     "output_type": "stream",
     "text": [
      "similarity of the two sentences:  tensor(1., device='cuda:0')\n"
     ]
    },
    {
     "name": "stderr",
     "output_type": "stream",
     "text": [
      "\r",
      " 36%|███▌      | 130/359 [02:03<03:40,  1.04it/s]"
     ]
    },
    {
     "name": "stdout",
     "output_type": "stream",
     "text": [
      "similarity of the two sentences:  tensor(0.8985, device='cuda:0')\n"
     ]
    },
    {
     "name": "stderr",
     "output_type": "stream",
     "text": [
      "\r",
      " 36%|███▋      | 131/359 [02:04<03:37,  1.05it/s]"
     ]
    },
    {
     "name": "stdout",
     "output_type": "stream",
     "text": [
      "similarity of the two sentences:  tensor(0.9957, device='cuda:0')\n"
     ]
    },
    {
     "name": "stderr",
     "output_type": "stream",
     "text": [
      "\r",
      " 37%|███▋      | 132/359 [02:05<03:36,  1.05it/s]"
     ]
    },
    {
     "name": "stdout",
     "output_type": "stream",
     "text": [
      "similarity of the two sentences:  tensor(0.6448, device='cuda:0')\n"
     ]
    },
    {
     "name": "stderr",
     "output_type": "stream",
     "text": [
      "\r",
      " 37%|███▋      | 133/359 [02:06<03:40,  1.02it/s]"
     ]
    },
    {
     "name": "stdout",
     "output_type": "stream",
     "text": [
      "similarity of the two sentences:  tensor(0.8069, device='cuda:0')\n"
     ]
    },
    {
     "name": "stderr",
     "output_type": "stream",
     "text": [
      "\r",
      " 37%|███▋      | 134/359 [02:06<03:37,  1.03it/s]"
     ]
    },
    {
     "name": "stdout",
     "output_type": "stream",
     "text": [
      "similarity of the two sentences:  tensor(0.9382, device='cuda:0')\n"
     ]
    },
    {
     "name": "stderr",
     "output_type": "stream",
     "text": [
      "\r",
      " 38%|███▊      | 135/359 [02:07<03:35,  1.04it/s]"
     ]
    },
    {
     "name": "stdout",
     "output_type": "stream",
     "text": [
      "similarity of the two sentences:  tensor(0.5784, device='cuda:0')\n"
     ]
    },
    {
     "name": "stderr",
     "output_type": "stream",
     "text": [
      "\r",
      " 38%|███▊      | 136/359 [02:08<03:33,  1.04it/s]"
     ]
    },
    {
     "name": "stdout",
     "output_type": "stream",
     "text": [
      "similarity of the two sentences:  tensor(0.9958, device='cuda:0')\n"
     ]
    },
    {
     "name": "stderr",
     "output_type": "stream",
     "text": [
      "\r",
      " 38%|███▊      | 137/359 [02:09<03:29,  1.06it/s]"
     ]
    },
    {
     "name": "stdout",
     "output_type": "stream",
     "text": [
      "similarity of the two sentences:  tensor(0.8088, device='cuda:0')\n"
     ]
    },
    {
     "name": "stderr",
     "output_type": "stream",
     "text": [
      "\r",
      " 38%|███▊      | 138/359 [02:10<03:26,  1.07it/s]"
     ]
    },
    {
     "name": "stdout",
     "output_type": "stream",
     "text": [
      "similarity of the two sentences:  tensor(0.9689, device='cuda:0')\n"
     ]
    },
    {
     "name": "stderr",
     "output_type": "stream",
     "text": [
      "\r",
      " 39%|███▊      | 139/359 [02:11<03:23,  1.08it/s]"
     ]
    },
    {
     "name": "stdout",
     "output_type": "stream",
     "text": [
      "similarity of the two sentences:  tensor(0.8856, device='cuda:0')\n"
     ]
    },
    {
     "name": "stderr",
     "output_type": "stream",
     "text": [
      "\r",
      " 39%|███▉      | 140/359 [02:12<03:23,  1.07it/s]"
     ]
    },
    {
     "name": "stdout",
     "output_type": "stream",
     "text": [
      "similarity of the two sentences:  tensor(0.9479, device='cuda:0')\n"
     ]
    },
    {
     "name": "stderr",
     "output_type": "stream",
     "text": [
      "\r",
      " 39%|███▉      | 141/359 [02:13<03:26,  1.05it/s]"
     ]
    },
    {
     "name": "stdout",
     "output_type": "stream",
     "text": [
      "similarity of the two sentences:  tensor(0.7038, device='cuda:0')\n"
     ]
    },
    {
     "name": "stderr",
     "output_type": "stream",
     "text": [
      "\r",
      " 40%|███▉      | 142/359 [02:14<03:24,  1.06it/s]"
     ]
    },
    {
     "name": "stdout",
     "output_type": "stream",
     "text": [
      "similarity of the two sentences:  tensor(0.5637, device='cuda:0')\n"
     ]
    },
    {
     "name": "stderr",
     "output_type": "stream",
     "text": [
      "\r",
      " 40%|███▉      | 143/359 [02:15<03:21,  1.07it/s]"
     ]
    },
    {
     "name": "stdout",
     "output_type": "stream",
     "text": [
      "similarity of the two sentences:  tensor(0.9078, device='cuda:0')\n"
     ]
    },
    {
     "name": "stderr",
     "output_type": "stream",
     "text": [
      "\r",
      " 40%|████      | 144/359 [02:16<03:18,  1.08it/s]"
     ]
    },
    {
     "name": "stdout",
     "output_type": "stream",
     "text": [
      "similarity of the two sentences:  tensor(1., device='cuda:0')\n"
     ]
    },
    {
     "name": "stderr",
     "output_type": "stream",
     "text": [
      "\r",
      " 40%|████      | 145/359 [02:17<03:18,  1.08it/s]"
     ]
    },
    {
     "name": "stdout",
     "output_type": "stream",
     "text": [
      "similarity of the two sentences:  tensor(0.8316, device='cuda:0')\n"
     ]
    },
    {
     "name": "stderr",
     "output_type": "stream",
     "text": [
      "\r",
      " 41%|████      | 146/359 [02:18<03:17,  1.08it/s]"
     ]
    },
    {
     "name": "stdout",
     "output_type": "stream",
     "text": [
      "similarity of the two sentences:  tensor(0.9050, device='cuda:0')\n"
     ]
    },
    {
     "name": "stderr",
     "output_type": "stream",
     "text": [
      "\r",
      " 41%|████      | 147/359 [02:19<03:15,  1.08it/s]"
     ]
    },
    {
     "name": "stdout",
     "output_type": "stream",
     "text": [
      "similarity of the two sentences:  tensor(0.7752, device='cuda:0')\n"
     ]
    },
    {
     "name": "stderr",
     "output_type": "stream",
     "text": [
      "\r",
      " 41%|████      | 148/359 [02:20<03:16,  1.08it/s]"
     ]
    },
    {
     "name": "stdout",
     "output_type": "stream",
     "text": [
      "similarity of the two sentences:  tensor(0.8905, device='cuda:0')\n"
     ]
    },
    {
     "name": "stderr",
     "output_type": "stream",
     "text": [
      "\r",
      " 42%|████▏     | 149/359 [02:20<03:15,  1.08it/s]"
     ]
    },
    {
     "name": "stdout",
     "output_type": "stream",
     "text": [
      "similarity of the two sentences:  tensor(0.9101, device='cuda:0')\n"
     ]
    },
    {
     "name": "stderr",
     "output_type": "stream",
     "text": [
      "\r",
      " 42%|████▏     | 150/359 [02:21<03:14,  1.08it/s]"
     ]
    },
    {
     "name": "stdout",
     "output_type": "stream",
     "text": [
      "similarity of the two sentences:  tensor(1., device='cuda:0')\n"
     ]
    },
    {
     "name": "stderr",
     "output_type": "stream",
     "text": [
      "\r",
      " 42%|████▏     | 151/359 [02:22<03:13,  1.07it/s]"
     ]
    },
    {
     "name": "stdout",
     "output_type": "stream",
     "text": [
      "similarity of the two sentences:  tensor(0.9083, device='cuda:0')\n"
     ]
    },
    {
     "name": "stderr",
     "output_type": "stream",
     "text": [
      "\r",
      " 42%|████▏     | 152/359 [02:23<03:11,  1.08it/s]"
     ]
    },
    {
     "name": "stdout",
     "output_type": "stream",
     "text": [
      "similarity of the two sentences:  tensor(0.9150, device='cuda:0')\n"
     ]
    },
    {
     "name": "stderr",
     "output_type": "stream",
     "text": [
      "\r",
      " 43%|████▎     | 153/359 [02:24<03:09,  1.09it/s]"
     ]
    },
    {
     "name": "stdout",
     "output_type": "stream",
     "text": [
      "similarity of the two sentences:  tensor(0.7576, device='cuda:0')\n"
     ]
    },
    {
     "name": "stderr",
     "output_type": "stream",
     "text": [
      "\r",
      " 43%|████▎     | 154/359 [02:25<03:08,  1.09it/s]"
     ]
    },
    {
     "name": "stdout",
     "output_type": "stream",
     "text": [
      "similarity of the two sentences:  tensor(0.8709, device='cuda:0')\n"
     ]
    },
    {
     "name": "stderr",
     "output_type": "stream",
     "text": [
      "\r",
      " 43%|████▎     | 155/359 [02:26<03:12,  1.06it/s]"
     ]
    },
    {
     "name": "stdout",
     "output_type": "stream",
     "text": [
      "similarity of the two sentences:  tensor(0.9678, device='cuda:0')\n"
     ]
    },
    {
     "name": "stderr",
     "output_type": "stream",
     "text": [
      "\r",
      " 43%|████▎     | 156/359 [02:27<03:11,  1.06it/s]"
     ]
    },
    {
     "name": "stdout",
     "output_type": "stream",
     "text": [
      "similarity of the two sentences:  tensor(0.5825, device='cuda:0')\n"
     ]
    },
    {
     "name": "stderr",
     "output_type": "stream",
     "text": [
      "\r",
      " 44%|████▎     | 157/359 [02:28<03:12,  1.05it/s]"
     ]
    },
    {
     "name": "stdout",
     "output_type": "stream",
     "text": [
      "similarity of the two sentences:  tensor(0.7069, device='cuda:0')\n"
     ]
    },
    {
     "name": "stderr",
     "output_type": "stream",
     "text": [
      "\r",
      " 44%|████▍     | 158/359 [02:29<03:11,  1.05it/s]"
     ]
    },
    {
     "name": "stdout",
     "output_type": "stream",
     "text": [
      "similarity of the two sentences:  tensor(0.9514, device='cuda:0')\n"
     ]
    },
    {
     "name": "stderr",
     "output_type": "stream",
     "text": [
      "\r",
      " 44%|████▍     | 159/359 [02:30<03:10,  1.05it/s]"
     ]
    },
    {
     "name": "stdout",
     "output_type": "stream",
     "text": [
      "similarity of the two sentences:  tensor(0.7238, device='cuda:0')\n"
     ]
    },
    {
     "name": "stderr",
     "output_type": "stream",
     "text": [
      "\r",
      " 45%|████▍     | 160/359 [02:31<03:10,  1.04it/s]"
     ]
    },
    {
     "name": "stdout",
     "output_type": "stream",
     "text": [
      "similarity of the two sentences:  tensor(0.7139, device='cuda:0')\n"
     ]
    },
    {
     "name": "stderr",
     "output_type": "stream",
     "text": [
      "\r",
      " 45%|████▍     | 161/359 [02:32<03:07,  1.06it/s]"
     ]
    },
    {
     "name": "stdout",
     "output_type": "stream",
     "text": [
      "similarity of the two sentences:  tensor(0.4951, device='cuda:0')\n"
     ]
    },
    {
     "name": "stderr",
     "output_type": "stream",
     "text": [
      "\r",
      " 45%|████▌     | 162/359 [02:33<03:05,  1.06it/s]"
     ]
    },
    {
     "name": "stdout",
     "output_type": "stream",
     "text": [
      "similarity of the two sentences:  tensor(0.9738, device='cuda:0')\n"
     ]
    },
    {
     "name": "stderr",
     "output_type": "stream",
     "text": [
      "\r",
      " 45%|████▌     | 163/359 [02:34<03:02,  1.08it/s]"
     ]
    },
    {
     "name": "stdout",
     "output_type": "stream",
     "text": [
      "similarity of the two sentences:  tensor(0.5779, device='cuda:0')\n"
     ]
    },
    {
     "name": "stderr",
     "output_type": "stream",
     "text": [
      "\r",
      " 46%|████▌     | 164/359 [02:35<03:00,  1.08it/s]"
     ]
    },
    {
     "name": "stdout",
     "output_type": "stream",
     "text": [
      "similarity of the two sentences:  tensor(0.9801, device='cuda:0')\n"
     ]
    },
    {
     "name": "stderr",
     "output_type": "stream",
     "text": [
      "\r",
      " 46%|████▌     | 165/359 [02:35<03:00,  1.07it/s]"
     ]
    },
    {
     "name": "stdout",
     "output_type": "stream",
     "text": [
      "similarity of the two sentences:  tensor(0.8948, device='cuda:0')\n"
     ]
    },
    {
     "name": "stderr",
     "output_type": "stream",
     "text": [
      "\r",
      " 46%|████▌     | 166/359 [02:36<03:00,  1.07it/s]"
     ]
    },
    {
     "name": "stdout",
     "output_type": "stream",
     "text": [
      "similarity of the two sentences:  tensor(0.9207, device='cuda:0')\n"
     ]
    },
    {
     "name": "stderr",
     "output_type": "stream",
     "text": [
      "\r",
      " 47%|████▋     | 167/359 [02:37<02:59,  1.07it/s]"
     ]
    },
    {
     "name": "stdout",
     "output_type": "stream",
     "text": [
      "similarity of the two sentences:  tensor(0.7356, device='cuda:0')\n"
     ]
    },
    {
     "name": "stderr",
     "output_type": "stream",
     "text": [
      "\r",
      " 47%|████▋     | 168/359 [02:38<03:00,  1.06it/s]"
     ]
    },
    {
     "name": "stdout",
     "output_type": "stream",
     "text": [
      "similarity of the two sentences:  tensor(0.8165, device='cuda:0')\n"
     ]
    },
    {
     "name": "stderr",
     "output_type": "stream",
     "text": [
      "\r",
      " 47%|████▋     | 169/359 [02:39<03:00,  1.06it/s]"
     ]
    },
    {
     "name": "stdout",
     "output_type": "stream",
     "text": [
      "similarity of the two sentences:  tensor(0.8707, device='cuda:0')\n"
     ]
    },
    {
     "name": "stderr",
     "output_type": "stream",
     "text": [
      "\r",
      " 47%|████▋     | 170/359 [02:40<03:02,  1.04it/s]"
     ]
    },
    {
     "name": "stdout",
     "output_type": "stream",
     "text": [
      "similarity of the two sentences:  tensor(0.7626, device='cuda:0')\n"
     ]
    },
    {
     "name": "stderr",
     "output_type": "stream",
     "text": [
      "\r",
      " 48%|████▊     | 171/359 [02:41<02:58,  1.05it/s]"
     ]
    },
    {
     "name": "stdout",
     "output_type": "stream",
     "text": [
      "similarity of the two sentences:  tensor(1.0000, device='cuda:0')\n"
     ]
    },
    {
     "name": "stderr",
     "output_type": "stream",
     "text": [
      "\r",
      " 48%|████▊     | 172/359 [02:42<02:55,  1.07it/s]"
     ]
    },
    {
     "name": "stdout",
     "output_type": "stream",
     "text": [
      "similarity of the two sentences:  tensor(0.8460, device='cuda:0')\n"
     ]
    },
    {
     "name": "stderr",
     "output_type": "stream",
     "text": [
      "\r",
      " 48%|████▊     | 173/359 [02:43<02:54,  1.07it/s]"
     ]
    },
    {
     "name": "stdout",
     "output_type": "stream",
     "text": [
      "similarity of the two sentences:  tensor(0.8373, device='cuda:0')\n"
     ]
    },
    {
     "name": "stderr",
     "output_type": "stream",
     "text": [
      "\r",
      " 48%|████▊     | 174/359 [02:44<02:53,  1.06it/s]"
     ]
    },
    {
     "name": "stdout",
     "output_type": "stream",
     "text": [
      "similarity of the two sentences:  tensor(1., device='cuda:0')\n"
     ]
    },
    {
     "name": "stderr",
     "output_type": "stream",
     "text": [
      "\r",
      " 49%|████▊     | 175/359 [02:45<02:52,  1.07it/s]"
     ]
    },
    {
     "name": "stdout",
     "output_type": "stream",
     "text": [
      "similarity of the two sentences:  tensor(0.7877, device='cuda:0')\n"
     ]
    },
    {
     "name": "stderr",
     "output_type": "stream",
     "text": [
      "\r",
      " 49%|████▉     | 176/359 [02:46<02:50,  1.08it/s]"
     ]
    },
    {
     "name": "stdout",
     "output_type": "stream",
     "text": [
      "similarity of the two sentences:  tensor(0.7019, device='cuda:0')\n"
     ]
    },
    {
     "name": "stderr",
     "output_type": "stream",
     "text": [
      "\r",
      " 49%|████▉     | 177/359 [02:47<02:48,  1.08it/s]"
     ]
    },
    {
     "name": "stdout",
     "output_type": "stream",
     "text": [
      "similarity of the two sentences:  tensor(0.9495, device='cuda:0')\n"
     ]
    },
    {
     "name": "stderr",
     "output_type": "stream",
     "text": [
      "\r",
      " 50%|████▉     | 178/359 [02:48<02:48,  1.08it/s]"
     ]
    },
    {
     "name": "stdout",
     "output_type": "stream",
     "text": [
      "similarity of the two sentences:  tensor(0.8235, device='cuda:0')\n"
     ]
    },
    {
     "name": "stderr",
     "output_type": "stream",
     "text": [
      "\r",
      " 50%|████▉     | 179/359 [02:49<02:46,  1.08it/s]"
     ]
    },
    {
     "name": "stdout",
     "output_type": "stream",
     "text": [
      "similarity of the two sentences:  tensor(0.9567, device='cuda:0')\n"
     ]
    },
    {
     "name": "stderr",
     "output_type": "stream",
     "text": [
      "\r",
      " 50%|█████     | 180/359 [02:50<02:49,  1.06it/s]"
     ]
    },
    {
     "name": "stdout",
     "output_type": "stream",
     "text": [
      "similarity of the two sentences:  tensor(1.0000, device='cuda:0')\n"
     ]
    },
    {
     "name": "stderr",
     "output_type": "stream",
     "text": [
      "\r",
      " 50%|█████     | 181/359 [02:51<02:47,  1.06it/s]"
     ]
    },
    {
     "name": "stdout",
     "output_type": "stream",
     "text": [
      "similarity of the two sentences:  tensor(0.9052, device='cuda:0')\n"
     ]
    },
    {
     "name": "stderr",
     "output_type": "stream",
     "text": [
      "\r",
      " 51%|█████     | 182/359 [02:51<02:47,  1.06it/s]"
     ]
    },
    {
     "name": "stdout",
     "output_type": "stream",
     "text": [
      "similarity of the two sentences:  tensor(1., device='cuda:0')\n"
     ]
    },
    {
     "name": "stderr",
     "output_type": "stream",
     "text": [
      "\r",
      " 51%|█████     | 183/359 [02:52<02:46,  1.06it/s]"
     ]
    },
    {
     "name": "stdout",
     "output_type": "stream",
     "text": [
      "similarity of the two sentences:  tensor(0.9770, device='cuda:0')\n"
     ]
    },
    {
     "name": "stderr",
     "output_type": "stream",
     "text": [
      "\r",
      " 51%|█████▏    | 184/359 [02:53<02:48,  1.04it/s]"
     ]
    },
    {
     "name": "stdout",
     "output_type": "stream",
     "text": [
      "similarity of the two sentences:  tensor(0.7234, device='cuda:0')\n"
     ]
    },
    {
     "name": "stderr",
     "output_type": "stream",
     "text": [
      "\r",
      " 52%|█████▏    | 185/359 [02:54<02:45,  1.05it/s]"
     ]
    },
    {
     "name": "stdout",
     "output_type": "stream",
     "text": [
      "similarity of the two sentences:  tensor(1., device='cuda:0')\n"
     ]
    },
    {
     "name": "stderr",
     "output_type": "stream",
     "text": [
      "\r",
      " 52%|█████▏    | 186/359 [02:55<02:46,  1.04it/s]"
     ]
    },
    {
     "name": "stdout",
     "output_type": "stream",
     "text": [
      "similarity of the two sentences:  tensor(0.8903, device='cuda:0')\n"
     ]
    },
    {
     "name": "stderr",
     "output_type": "stream",
     "text": [
      "\r",
      " 52%|█████▏    | 187/359 [02:56<02:50,  1.01it/s]"
     ]
    },
    {
     "name": "stdout",
     "output_type": "stream",
     "text": [
      "similarity of the two sentences:  tensor(0.8857, device='cuda:0')\n"
     ]
    },
    {
     "name": "stderr",
     "output_type": "stream",
     "text": [
      "\r",
      " 52%|█████▏    | 188/359 [02:57<02:46,  1.03it/s]"
     ]
    },
    {
     "name": "stdout",
     "output_type": "stream",
     "text": [
      "similarity of the two sentences:  tensor(0.5394, device='cuda:0')\n"
     ]
    },
    {
     "name": "stderr",
     "output_type": "stream",
     "text": [
      "\r",
      " 53%|█████▎    | 189/359 [02:58<02:44,  1.03it/s]"
     ]
    },
    {
     "name": "stdout",
     "output_type": "stream",
     "text": [
      "similarity of the two sentences:  tensor(0.8810, device='cuda:0')\n"
     ]
    },
    {
     "name": "stderr",
     "output_type": "stream",
     "text": [
      "\r",
      " 53%|█████▎    | 190/359 [02:59<02:46,  1.01it/s]"
     ]
    },
    {
     "name": "stdout",
     "output_type": "stream",
     "text": [
      "similarity of the two sentences:  tensor(1.0000, device='cuda:0')\n"
     ]
    },
    {
     "name": "stderr",
     "output_type": "stream",
     "text": [
      "\r",
      " 53%|█████▎    | 191/359 [03:00<02:46,  1.01it/s]"
     ]
    },
    {
     "name": "stdout",
     "output_type": "stream",
     "text": [
      "similarity of the two sentences:  tensor(0.6765, device='cuda:0')\n"
     ]
    },
    {
     "name": "stderr",
     "output_type": "stream",
     "text": [
      "\r",
      " 53%|█████▎    | 192/359 [03:01<02:43,  1.02it/s]"
     ]
    },
    {
     "name": "stdout",
     "output_type": "stream",
     "text": [
      "similarity of the two sentences:  tensor(0.9873, device='cuda:0')\n"
     ]
    },
    {
     "name": "stderr",
     "output_type": "stream",
     "text": [
      "\r",
      " 54%|█████▍    | 193/359 [03:02<02:39,  1.04it/s]"
     ]
    },
    {
     "name": "stdout",
     "output_type": "stream",
     "text": [
      "similarity of the two sentences:  tensor(0.7466, device='cuda:0')\n"
     ]
    },
    {
     "name": "stderr",
     "output_type": "stream",
     "text": [
      "\r",
      " 54%|█████▍    | 194/359 [03:03<02:36,  1.05it/s]"
     ]
    },
    {
     "name": "stdout",
     "output_type": "stream",
     "text": [
      "similarity of the two sentences:  tensor(0.8550, device='cuda:0')\n"
     ]
    },
    {
     "name": "stderr",
     "output_type": "stream",
     "text": [
      "\r",
      " 54%|█████▍    | 195/359 [03:04<02:34,  1.06it/s]"
     ]
    },
    {
     "name": "stdout",
     "output_type": "stream",
     "text": [
      "similarity of the two sentences:  tensor(0.9866, device='cuda:0')\n"
     ]
    },
    {
     "name": "stderr",
     "output_type": "stream",
     "text": [
      "\r",
      " 55%|█████▍    | 196/359 [03:05<02:32,  1.07it/s]"
     ]
    },
    {
     "name": "stdout",
     "output_type": "stream",
     "text": [
      "similarity of the two sentences:  tensor(0.8975, device='cuda:0')\n"
     ]
    },
    {
     "name": "stderr",
     "output_type": "stream",
     "text": [
      "\r",
      " 55%|█████▍    | 197/359 [03:06<02:31,  1.07it/s]"
     ]
    },
    {
     "name": "stdout",
     "output_type": "stream",
     "text": [
      "similarity of the two sentences:  tensor(0.7358, device='cuda:0')\n"
     ]
    },
    {
     "name": "stderr",
     "output_type": "stream",
     "text": [
      "\r",
      " 55%|█████▌    | 198/359 [03:07<02:30,  1.07it/s]"
     ]
    },
    {
     "name": "stdout",
     "output_type": "stream",
     "text": [
      "similarity of the two sentences:  tensor(0.9063, device='cuda:0')\n"
     ]
    },
    {
     "name": "stderr",
     "output_type": "stream",
     "text": [
      "\r",
      " 55%|█████▌    | 199/359 [03:08<02:28,  1.08it/s]"
     ]
    },
    {
     "name": "stdout",
     "output_type": "stream",
     "text": [
      "similarity of the two sentences:  tensor(0.9425, device='cuda:0')\n"
     ]
    },
    {
     "name": "stderr",
     "output_type": "stream",
     "text": [
      "\r",
      " 56%|█████▌    | 200/359 [03:09<02:26,  1.09it/s]"
     ]
    },
    {
     "name": "stdout",
     "output_type": "stream",
     "text": [
      "similarity of the two sentences:  tensor(0.9751, device='cuda:0')\n"
     ]
    },
    {
     "name": "stderr",
     "output_type": "stream",
     "text": [
      "\r",
      " 56%|█████▌    | 201/359 [03:10<02:25,  1.08it/s]"
     ]
    },
    {
     "name": "stdout",
     "output_type": "stream",
     "text": [
      "similarity of the two sentences:  tensor(0.9878, device='cuda:0')\n"
     ]
    },
    {
     "name": "stderr",
     "output_type": "stream",
     "text": [
      "\r",
      " 56%|█████▋    | 202/359 [03:10<02:23,  1.09it/s]"
     ]
    },
    {
     "name": "stdout",
     "output_type": "stream",
     "text": [
      "similarity of the two sentences:  tensor(0.9721, device='cuda:0')\n"
     ]
    },
    {
     "name": "stderr",
     "output_type": "stream",
     "text": [
      "\r",
      " 57%|█████▋    | 203/359 [03:11<02:22,  1.10it/s]"
     ]
    },
    {
     "name": "stdout",
     "output_type": "stream",
     "text": [
      "similarity of the two sentences:  tensor(0.9534, device='cuda:0')\n"
     ]
    },
    {
     "name": "stderr",
     "output_type": "stream",
     "text": [
      "\r",
      " 57%|█████▋    | 204/359 [03:12<02:21,  1.10it/s]"
     ]
    },
    {
     "name": "stdout",
     "output_type": "stream",
     "text": [
      "similarity of the two sentences:  tensor(0.7739, device='cuda:0')\n"
     ]
    },
    {
     "name": "stderr",
     "output_type": "stream",
     "text": [
      "\r",
      " 57%|█████▋    | 205/359 [03:13<02:21,  1.09it/s]"
     ]
    },
    {
     "name": "stdout",
     "output_type": "stream",
     "text": [
      "similarity of the two sentences:  tensor(0.7169, device='cuda:0')\n"
     ]
    },
    {
     "name": "stderr",
     "output_type": "stream",
     "text": [
      "\r",
      " 57%|█████▋    | 206/359 [03:14<02:25,  1.05it/s]"
     ]
    },
    {
     "name": "stdout",
     "output_type": "stream",
     "text": [
      "similarity of the two sentences:  tensor(0.8634, device='cuda:0')\n"
     ]
    },
    {
     "name": "stderr",
     "output_type": "stream",
     "text": [
      "\r",
      " 58%|█████▊    | 207/359 [03:15<02:23,  1.06it/s]"
     ]
    },
    {
     "name": "stdout",
     "output_type": "stream",
     "text": [
      "similarity of the two sentences:  tensor(0.8601, device='cuda:0')\n"
     ]
    },
    {
     "name": "stderr",
     "output_type": "stream",
     "text": [
      "\r",
      " 58%|█████▊    | 208/359 [03:16<02:21,  1.07it/s]"
     ]
    },
    {
     "name": "stdout",
     "output_type": "stream",
     "text": [
      "similarity of the two sentences:  tensor(0.9933, device='cuda:0')\n"
     ]
    },
    {
     "name": "stderr",
     "output_type": "stream",
     "text": [
      "\r",
      " 58%|█████▊    | 209/359 [03:17<02:19,  1.08it/s]"
     ]
    },
    {
     "name": "stdout",
     "output_type": "stream",
     "text": [
      "similarity of the two sentences:  tensor(0.8661, device='cuda:0')\n"
     ]
    },
    {
     "name": "stderr",
     "output_type": "stream",
     "text": [
      "\r",
      " 58%|█████▊    | 210/359 [03:18<02:16,  1.09it/s]"
     ]
    },
    {
     "name": "stdout",
     "output_type": "stream",
     "text": [
      "similarity of the two sentences:  tensor(0.9747, device='cuda:0')\n"
     ]
    },
    {
     "name": "stderr",
     "output_type": "stream",
     "text": [
      "\r",
      " 59%|█████▉    | 211/359 [03:19<02:16,  1.09it/s]"
     ]
    },
    {
     "name": "stdout",
     "output_type": "stream",
     "text": [
      "similarity of the two sentences:  tensor(1., device='cuda:0')\n"
     ]
    },
    {
     "name": "stderr",
     "output_type": "stream",
     "text": [
      "\r",
      " 59%|█████▉    | 212/359 [03:20<02:22,  1.03it/s]"
     ]
    },
    {
     "name": "stdout",
     "output_type": "stream",
     "text": [
      "similarity of the two sentences:  tensor(0.6952, device='cuda:0')\n"
     ]
    },
    {
     "name": "stderr",
     "output_type": "stream",
     "text": [
      "\r",
      " 59%|█████▉    | 213/359 [03:21<02:20,  1.04it/s]"
     ]
    },
    {
     "name": "stdout",
     "output_type": "stream",
     "text": [
      "similarity of the two sentences:  tensor(0.7400, device='cuda:0')\n"
     ]
    },
    {
     "name": "stderr",
     "output_type": "stream",
     "text": [
      "\r",
      " 60%|█████▉    | 214/359 [03:22<02:18,  1.05it/s]"
     ]
    },
    {
     "name": "stdout",
     "output_type": "stream",
     "text": [
      "similarity of the two sentences:  tensor(0.9848, device='cuda:0')\n"
     ]
    },
    {
     "name": "stderr",
     "output_type": "stream",
     "text": [
      "\r",
      " 60%|█████▉    | 215/359 [03:23<02:17,  1.05it/s]"
     ]
    },
    {
     "name": "stdout",
     "output_type": "stream",
     "text": [
      "similarity of the two sentences:  tensor(0.9032, device='cuda:0')\n"
     ]
    },
    {
     "name": "stderr",
     "output_type": "stream",
     "text": [
      "\r",
      " 60%|██████    | 216/359 [03:24<02:15,  1.06it/s]"
     ]
    },
    {
     "name": "stdout",
     "output_type": "stream",
     "text": [
      "similarity of the two sentences:  tensor(0.9811, device='cuda:0')\n"
     ]
    },
    {
     "name": "stderr",
     "output_type": "stream",
     "text": [
      "\r",
      " 60%|██████    | 217/359 [03:25<02:14,  1.06it/s]"
     ]
    },
    {
     "name": "stdout",
     "output_type": "stream",
     "text": [
      "similarity of the two sentences:  tensor(1.0000, device='cuda:0')\n"
     ]
    },
    {
     "name": "stderr",
     "output_type": "stream",
     "text": [
      "\r",
      " 61%|██████    | 218/359 [03:26<02:14,  1.05it/s]"
     ]
    },
    {
     "name": "stdout",
     "output_type": "stream",
     "text": [
      "similarity of the two sentences:  tensor(0.9446, device='cuda:0')\n"
     ]
    },
    {
     "name": "stderr",
     "output_type": "stream",
     "text": [
      "\r",
      " 61%|██████    | 219/359 [03:27<02:13,  1.05it/s]"
     ]
    },
    {
     "name": "stdout",
     "output_type": "stream",
     "text": [
      "similarity of the two sentences:  tensor(0.9381, device='cuda:0')\n"
     ]
    },
    {
     "name": "stderr",
     "output_type": "stream",
     "text": [
      "\r",
      " 61%|██████▏   | 220/359 [03:27<02:13,  1.04it/s]"
     ]
    },
    {
     "name": "stdout",
     "output_type": "stream",
     "text": [
      "similarity of the two sentences:  tensor(0.9603, device='cuda:0')\n"
     ]
    },
    {
     "name": "stderr",
     "output_type": "stream",
     "text": [
      "\r",
      " 62%|██████▏   | 221/359 [03:28<02:10,  1.06it/s]"
     ]
    },
    {
     "name": "stdout",
     "output_type": "stream",
     "text": [
      "similarity of the two sentences:  tensor(0.7463, device='cuda:0')\n"
     ]
    },
    {
     "name": "stderr",
     "output_type": "stream",
     "text": [
      "\r",
      " 62%|██████▏   | 222/359 [03:29<02:08,  1.07it/s]"
     ]
    },
    {
     "name": "stdout",
     "output_type": "stream",
     "text": [
      "similarity of the two sentences:  tensor(0.7968, device='cuda:0')\n"
     ]
    },
    {
     "name": "stderr",
     "output_type": "stream",
     "text": [
      "\r",
      " 62%|██████▏   | 223/359 [03:30<02:06,  1.07it/s]"
     ]
    },
    {
     "name": "stdout",
     "output_type": "stream",
     "text": [
      "similarity of the two sentences:  tensor(0.8863, device='cuda:0')\n"
     ]
    },
    {
     "name": "stderr",
     "output_type": "stream",
     "text": [
      "\r",
      " 62%|██████▏   | 224/359 [03:31<02:06,  1.07it/s]"
     ]
    },
    {
     "name": "stdout",
     "output_type": "stream",
     "text": [
      "similarity of the two sentences:  tensor(0.6342, device='cuda:0')\n"
     ]
    },
    {
     "name": "stderr",
     "output_type": "stream",
     "text": [
      "\r",
      " 63%|██████▎   | 225/359 [03:32<02:05,  1.07it/s]"
     ]
    },
    {
     "name": "stdout",
     "output_type": "stream",
     "text": [
      "similarity of the two sentences:  tensor(0.8718, device='cuda:0')\n"
     ]
    },
    {
     "name": "stderr",
     "output_type": "stream",
     "text": [
      "\r",
      " 63%|██████▎   | 226/359 [03:33<02:03,  1.08it/s]"
     ]
    },
    {
     "name": "stdout",
     "output_type": "stream",
     "text": [
      "similarity of the two sentences:  tensor(0.9102, device='cuda:0')\n"
     ]
    },
    {
     "name": "stderr",
     "output_type": "stream",
     "text": [
      "\r",
      " 63%|██████▎   | 227/359 [03:34<02:01,  1.08it/s]"
     ]
    },
    {
     "name": "stdout",
     "output_type": "stream",
     "text": [
      "similarity of the two sentences:  tensor(0.7896, device='cuda:0')\n"
     ]
    },
    {
     "name": "stderr",
     "output_type": "stream",
     "text": [
      "\r",
      " 64%|██████▎   | 228/359 [03:35<02:00,  1.09it/s]"
     ]
    },
    {
     "name": "stdout",
     "output_type": "stream",
     "text": [
      "similarity of the two sentences:  tensor(0.5667, device='cuda:0')\n"
     ]
    },
    {
     "name": "stderr",
     "output_type": "stream",
     "text": [
      "\r",
      " 64%|██████▍   | 229/359 [03:36<01:59,  1.09it/s]"
     ]
    },
    {
     "name": "stdout",
     "output_type": "stream",
     "text": [
      "similarity of the two sentences:  tensor(1.0000, device='cuda:0')\n"
     ]
    },
    {
     "name": "stderr",
     "output_type": "stream",
     "text": [
      "\r",
      " 64%|██████▍   | 230/359 [03:37<01:58,  1.09it/s]"
     ]
    },
    {
     "name": "stdout",
     "output_type": "stream",
     "text": [
      "similarity of the two sentences:  tensor(0.8568, device='cuda:0')\n"
     ]
    },
    {
     "name": "stderr",
     "output_type": "stream",
     "text": [
      "\r",
      " 64%|██████▍   | 231/359 [03:38<01:57,  1.09it/s]"
     ]
    },
    {
     "name": "stdout",
     "output_type": "stream",
     "text": [
      "similarity of the two sentences:  tensor(0.9382, device='cuda:0')\n"
     ]
    },
    {
     "name": "stderr",
     "output_type": "stream",
     "text": [
      "\r",
      " 65%|██████▍   | 232/359 [03:39<01:57,  1.08it/s]"
     ]
    },
    {
     "name": "stdout",
     "output_type": "stream",
     "text": [
      "similarity of the two sentences:  tensor(0.7081, device='cuda:0')\n"
     ]
    },
    {
     "name": "stderr",
     "output_type": "stream",
     "text": [
      "\r",
      " 65%|██████▍   | 233/359 [03:39<01:56,  1.08it/s]"
     ]
    },
    {
     "name": "stdout",
     "output_type": "stream",
     "text": [
      "similarity of the two sentences:  tensor(0.8665, device='cuda:0')\n"
     ]
    },
    {
     "name": "stderr",
     "output_type": "stream",
     "text": [
      "\r",
      " 65%|██████▌   | 234/359 [03:40<01:55,  1.08it/s]"
     ]
    },
    {
     "name": "stdout",
     "output_type": "stream",
     "text": [
      "similarity of the two sentences:  tensor(0.9900, device='cuda:0')\n"
     ]
    },
    {
     "name": "stderr",
     "output_type": "stream",
     "text": [
      "\r",
      " 65%|██████▌   | 235/359 [03:41<01:54,  1.09it/s]"
     ]
    },
    {
     "name": "stdout",
     "output_type": "stream",
     "text": [
      "similarity of the two sentences:  tensor(0.9048, device='cuda:0')\n"
     ]
    },
    {
     "name": "stderr",
     "output_type": "stream",
     "text": [
      "\r",
      " 66%|██████▌   | 236/359 [03:42<01:52,  1.09it/s]"
     ]
    },
    {
     "name": "stdout",
     "output_type": "stream",
     "text": [
      "similarity of the two sentences:  tensor(0.9946, device='cuda:0')\n"
     ]
    },
    {
     "name": "stderr",
     "output_type": "stream",
     "text": [
      "\r",
      " 66%|██████▌   | 237/359 [03:43<01:52,  1.08it/s]"
     ]
    },
    {
     "name": "stdout",
     "output_type": "stream",
     "text": [
      "similarity of the two sentences:  tensor(0.8731, device='cuda:0')\n"
     ]
    },
    {
     "name": "stderr",
     "output_type": "stream",
     "text": [
      "\r",
      " 66%|██████▋   | 238/359 [03:44<01:55,  1.04it/s]"
     ]
    },
    {
     "name": "stdout",
     "output_type": "stream",
     "text": [
      "similarity of the two sentences:  tensor(0.8326, device='cuda:0')\n"
     ]
    },
    {
     "name": "stderr",
     "output_type": "stream",
     "text": [
      "\r",
      " 67%|██████▋   | 239/359 [03:45<01:55,  1.04it/s]"
     ]
    },
    {
     "name": "stdout",
     "output_type": "stream",
     "text": [
      "similarity of the two sentences:  tensor(0.9769, device='cuda:0')\n"
     ]
    },
    {
     "name": "stderr",
     "output_type": "stream",
     "text": [
      "\r",
      " 67%|██████▋   | 240/359 [03:46<01:53,  1.05it/s]"
     ]
    },
    {
     "name": "stdout",
     "output_type": "stream",
     "text": [
      "similarity of the two sentences:  tensor(1.0000, device='cuda:0')\n"
     ]
    },
    {
     "name": "stderr",
     "output_type": "stream",
     "text": [
      "\r",
      " 67%|██████▋   | 241/359 [03:47<01:51,  1.05it/s]"
     ]
    },
    {
     "name": "stdout",
     "output_type": "stream",
     "text": [
      "similarity of the two sentences:  tensor(0.9898, device='cuda:0')\n"
     ]
    },
    {
     "name": "stderr",
     "output_type": "stream",
     "text": [
      "\r",
      " 67%|██████▋   | 242/359 [03:48<01:50,  1.06it/s]"
     ]
    },
    {
     "name": "stdout",
     "output_type": "stream",
     "text": [
      "similarity of the two sentences:  tensor(0.8197, device='cuda:0')\n"
     ]
    },
    {
     "name": "stderr",
     "output_type": "stream",
     "text": [
      "\r",
      " 68%|██████▊   | 243/359 [03:49<01:52,  1.03it/s]"
     ]
    },
    {
     "name": "stdout",
     "output_type": "stream",
     "text": [
      "similarity of the two sentences:  tensor(0.5226, device='cuda:0')\n"
     ]
    },
    {
     "name": "stderr",
     "output_type": "stream",
     "text": [
      "\r",
      " 68%|██████▊   | 244/359 [03:50<01:49,  1.05it/s]"
     ]
    },
    {
     "name": "stdout",
     "output_type": "stream",
     "text": [
      "similarity of the two sentences:  tensor(0.6717, device='cuda:0')\n"
     ]
    },
    {
     "name": "stderr",
     "output_type": "stream",
     "text": [
      "\r",
      " 68%|██████▊   | 245/359 [03:51<01:50,  1.03it/s]"
     ]
    },
    {
     "name": "stdout",
     "output_type": "stream",
     "text": [
      "similarity of the two sentences:  tensor(0.9932, device='cuda:0')\n"
     ]
    },
    {
     "name": "stderr",
     "output_type": "stream",
     "text": [
      "\r",
      " 69%|██████▊   | 246/359 [03:52<01:47,  1.05it/s]"
     ]
    },
    {
     "name": "stdout",
     "output_type": "stream",
     "text": [
      "similarity of the two sentences:  tensor(0.9802, device='cuda:0')\n"
     ]
    },
    {
     "name": "stderr",
     "output_type": "stream",
     "text": [
      "\r",
      " 69%|██████▉   | 247/359 [03:53<01:44,  1.07it/s]"
     ]
    },
    {
     "name": "stdout",
     "output_type": "stream",
     "text": [
      "similarity of the two sentences:  tensor(0.8378, device='cuda:0')\n"
     ]
    },
    {
     "name": "stderr",
     "output_type": "stream",
     "text": [
      "\r",
      " 69%|██████▉   | 248/359 [03:54<01:43,  1.07it/s]"
     ]
    },
    {
     "name": "stdout",
     "output_type": "stream",
     "text": [
      "similarity of the two sentences:  tensor(0.9226, device='cuda:0')\n"
     ]
    },
    {
     "name": "stderr",
     "output_type": "stream",
     "text": [
      "\r",
      " 69%|██████▉   | 249/359 [03:55<01:42,  1.07it/s]"
     ]
    },
    {
     "name": "stdout",
     "output_type": "stream",
     "text": [
      "similarity of the two sentences:  tensor(0.8462, device='cuda:0')\n"
     ]
    },
    {
     "name": "stderr",
     "output_type": "stream",
     "text": [
      "\r",
      " 70%|██████▉   | 250/359 [03:56<01:43,  1.05it/s]"
     ]
    },
    {
     "name": "stdout",
     "output_type": "stream",
     "text": [
      "similarity of the two sentences:  tensor(0.9735, device='cuda:0')\n"
     ]
    },
    {
     "name": "stderr",
     "output_type": "stream",
     "text": [
      "\r",
      " 70%|██████▉   | 251/359 [03:57<01:42,  1.05it/s]"
     ]
    },
    {
     "name": "stdout",
     "output_type": "stream",
     "text": [
      "similarity of the two sentences:  tensor(0.8471, device='cuda:0')\n"
     ]
    },
    {
     "name": "stderr",
     "output_type": "stream",
     "text": [
      "\r",
      " 70%|███████   | 252/359 [03:57<01:40,  1.07it/s]"
     ]
    },
    {
     "name": "stdout",
     "output_type": "stream",
     "text": [
      "similarity of the two sentences:  tensor(0.9536, device='cuda:0')\n"
     ]
    },
    {
     "name": "stderr",
     "output_type": "stream",
     "text": [
      "\r",
      " 70%|███████   | 253/359 [03:58<01:38,  1.08it/s]"
     ]
    },
    {
     "name": "stdout",
     "output_type": "stream",
     "text": [
      "similarity of the two sentences:  tensor(1.0000, device='cuda:0')\n"
     ]
    },
    {
     "name": "stderr",
     "output_type": "stream",
     "text": [
      "\r",
      " 71%|███████   | 254/359 [03:59<01:37,  1.08it/s]"
     ]
    },
    {
     "name": "stdout",
     "output_type": "stream",
     "text": [
      "similarity of the two sentences:  tensor(0.9235, device='cuda:0')\n"
     ]
    },
    {
     "name": "stderr",
     "output_type": "stream",
     "text": [
      "\r",
      " 71%|███████   | 255/359 [04:00<01:35,  1.09it/s]"
     ]
    },
    {
     "name": "stdout",
     "output_type": "stream",
     "text": [
      "similarity of the two sentences:  tensor(0.8074, device='cuda:0')\n"
     ]
    },
    {
     "name": "stderr",
     "output_type": "stream",
     "text": [
      "\r",
      " 71%|███████▏  | 256/359 [04:01<01:35,  1.08it/s]"
     ]
    },
    {
     "name": "stdout",
     "output_type": "stream",
     "text": [
      "similarity of the two sentences:  tensor(0.7824, device='cuda:0')\n"
     ]
    },
    {
     "name": "stderr",
     "output_type": "stream",
     "text": [
      "\r",
      " 72%|███████▏  | 257/359 [04:02<01:34,  1.08it/s]"
     ]
    },
    {
     "name": "stdout",
     "output_type": "stream",
     "text": [
      "similarity of the two sentences:  tensor(0.7573, device='cuda:0')\n"
     ]
    },
    {
     "name": "stderr",
     "output_type": "stream",
     "text": [
      "\r",
      " 72%|███████▏  | 258/359 [04:03<01:33,  1.08it/s]"
     ]
    },
    {
     "name": "stdout",
     "output_type": "stream",
     "text": [
      "similarity of the two sentences:  tensor(0.6795, device='cuda:0')\n"
     ]
    },
    {
     "name": "stderr",
     "output_type": "stream",
     "text": [
      "\r",
      " 72%|███████▏  | 259/359 [04:04<01:32,  1.08it/s]"
     ]
    },
    {
     "name": "stdout",
     "output_type": "stream",
     "text": [
      "similarity of the two sentences:  tensor(0.8030, device='cuda:0')\n"
     ]
    },
    {
     "name": "stderr",
     "output_type": "stream",
     "text": [
      "\r",
      " 72%|███████▏  | 260/359 [04:05<01:31,  1.09it/s]"
     ]
    },
    {
     "name": "stdout",
     "output_type": "stream",
     "text": [
      "similarity of the two sentences:  tensor(0.9460, device='cuda:0')\n"
     ]
    },
    {
     "name": "stderr",
     "output_type": "stream",
     "text": [
      "\r",
      " 73%|███████▎  | 261/359 [04:06<01:29,  1.09it/s]"
     ]
    },
    {
     "name": "stdout",
     "output_type": "stream",
     "text": [
      "similarity of the two sentences:  tensor(0.8069, device='cuda:0')\n"
     ]
    },
    {
     "name": "stderr",
     "output_type": "stream",
     "text": [
      "\r",
      " 73%|███████▎  | 262/359 [04:07<01:30,  1.07it/s]"
     ]
    },
    {
     "name": "stdout",
     "output_type": "stream",
     "text": [
      "similarity of the two sentences:  tensor(0.7724, device='cuda:0')\n"
     ]
    },
    {
     "name": "stderr",
     "output_type": "stream",
     "text": [
      "\r",
      " 73%|███████▎  | 263/359 [04:08<01:31,  1.05it/s]"
     ]
    },
    {
     "name": "stdout",
     "output_type": "stream",
     "text": [
      "similarity of the two sentences:  tensor(1.0000, device='cuda:0')\n"
     ]
    },
    {
     "name": "stderr",
     "output_type": "stream",
     "text": [
      "\r",
      " 74%|███████▎  | 264/359 [04:09<01:30,  1.06it/s]"
     ]
    },
    {
     "name": "stdout",
     "output_type": "stream",
     "text": [
      "similarity of the two sentences:  tensor(0.9055, device='cuda:0')\n"
     ]
    },
    {
     "name": "stderr",
     "output_type": "stream",
     "text": [
      "\r",
      " 74%|███████▍  | 265/359 [04:10<01:28,  1.06it/s]"
     ]
    },
    {
     "name": "stdout",
     "output_type": "stream",
     "text": [
      "similarity of the two sentences:  tensor(0.7862, device='cuda:0')\n"
     ]
    },
    {
     "name": "stderr",
     "output_type": "stream",
     "text": [
      "\r",
      " 74%|███████▍  | 266/359 [04:10<01:27,  1.06it/s]"
     ]
    },
    {
     "name": "stdout",
     "output_type": "stream",
     "text": [
      "similarity of the two sentences:  tensor(1.0000, device='cuda:0')\n"
     ]
    },
    {
     "name": "stderr",
     "output_type": "stream",
     "text": [
      "\r",
      " 74%|███████▍  | 267/359 [04:11<01:28,  1.05it/s]"
     ]
    },
    {
     "name": "stdout",
     "output_type": "stream",
     "text": [
      "similarity of the two sentences:  tensor(0.2115, device='cuda:0')\n"
     ]
    },
    {
     "name": "stderr",
     "output_type": "stream",
     "text": [
      "\r",
      " 75%|███████▍  | 268/359 [04:12<01:27,  1.04it/s]"
     ]
    },
    {
     "name": "stdout",
     "output_type": "stream",
     "text": [
      "similarity of the two sentences:  tensor(0.9129, device='cuda:0')\n"
     ]
    },
    {
     "name": "stderr",
     "output_type": "stream",
     "text": [
      "\r",
      " 75%|███████▍  | 269/359 [04:13<01:25,  1.05it/s]"
     ]
    },
    {
     "name": "stdout",
     "output_type": "stream",
     "text": [
      "similarity of the two sentences:  tensor(0.9799, device='cuda:0')\n"
     ]
    },
    {
     "name": "stderr",
     "output_type": "stream",
     "text": [
      "\r",
      " 75%|███████▌  | 270/359 [04:14<01:23,  1.06it/s]"
     ]
    },
    {
     "name": "stdout",
     "output_type": "stream",
     "text": [
      "similarity of the two sentences:  tensor(0.8736, device='cuda:0')\n"
     ]
    },
    {
     "name": "stderr",
     "output_type": "stream",
     "text": [
      "\r",
      " 75%|███████▌  | 271/359 [04:15<01:22,  1.07it/s]"
     ]
    },
    {
     "name": "stdout",
     "output_type": "stream",
     "text": [
      "similarity of the two sentences:  tensor(0.9024, device='cuda:0')\n"
     ]
    },
    {
     "name": "stderr",
     "output_type": "stream",
     "text": [
      "\r",
      " 76%|███████▌  | 272/359 [04:16<01:21,  1.07it/s]"
     ]
    },
    {
     "name": "stdout",
     "output_type": "stream",
     "text": [
      "similarity of the two sentences:  tensor(0.9121, device='cuda:0')\n"
     ]
    },
    {
     "name": "stderr",
     "output_type": "stream",
     "text": [
      "\r",
      " 76%|███████▌  | 273/359 [04:17<01:21,  1.05it/s]"
     ]
    },
    {
     "name": "stdout",
     "output_type": "stream",
     "text": [
      "similarity of the two sentences:  tensor(0.9209, device='cuda:0')\n"
     ]
    },
    {
     "name": "stderr",
     "output_type": "stream",
     "text": [
      "\r",
      " 76%|███████▋  | 274/359 [04:18<01:20,  1.06it/s]"
     ]
    },
    {
     "name": "stdout",
     "output_type": "stream",
     "text": [
      "similarity of the two sentences:  tensor(0.8642, device='cuda:0')\n"
     ]
    },
    {
     "name": "stderr",
     "output_type": "stream",
     "text": [
      "\r",
      " 77%|███████▋  | 275/359 [04:19<01:18,  1.06it/s]"
     ]
    },
    {
     "name": "stdout",
     "output_type": "stream",
     "text": [
      "similarity of the two sentences:  tensor(0.7018, device='cuda:0')\n"
     ]
    },
    {
     "name": "stderr",
     "output_type": "stream",
     "text": [
      "\r",
      " 77%|███████▋  | 276/359 [04:20<01:17,  1.07it/s]"
     ]
    },
    {
     "name": "stdout",
     "output_type": "stream",
     "text": [
      "similarity of the two sentences:  tensor(0.8541, device='cuda:0')\n"
     ]
    },
    {
     "name": "stderr",
     "output_type": "stream",
     "text": [
      "\r",
      " 77%|███████▋  | 277/359 [04:21<01:15,  1.08it/s]"
     ]
    },
    {
     "name": "stdout",
     "output_type": "stream",
     "text": [
      "similarity of the two sentences:  tensor(0.7175, device='cuda:0')\n"
     ]
    },
    {
     "name": "stderr",
     "output_type": "stream",
     "text": [
      "\r",
      " 77%|███████▋  | 278/359 [04:22<01:14,  1.08it/s]"
     ]
    },
    {
     "name": "stdout",
     "output_type": "stream",
     "text": [
      "similarity of the two sentences:  tensor(0.8125, device='cuda:0')\n"
     ]
    },
    {
     "name": "stderr",
     "output_type": "stream",
     "text": [
      "\r",
      " 78%|███████▊  | 279/359 [04:23<01:13,  1.08it/s]"
     ]
    },
    {
     "name": "stdout",
     "output_type": "stream",
     "text": [
      "similarity of the two sentences:  tensor(0.9913, device='cuda:0')\n"
     ]
    },
    {
     "name": "stderr",
     "output_type": "stream",
     "text": [
      "\r",
      " 78%|███████▊  | 280/359 [04:24<01:12,  1.09it/s]"
     ]
    },
    {
     "name": "stdout",
     "output_type": "stream",
     "text": [
      "similarity of the two sentences:  tensor(0.9082, device='cuda:0')\n"
     ]
    },
    {
     "name": "stderr",
     "output_type": "stream",
     "text": [
      "\r",
      " 78%|███████▊  | 281/359 [04:25<01:11,  1.09it/s]"
     ]
    },
    {
     "name": "stdout",
     "output_type": "stream",
     "text": [
      "similarity of the two sentences:  tensor(0.8806, device='cuda:0')\n"
     ]
    },
    {
     "name": "stderr",
     "output_type": "stream",
     "text": [
      "\r",
      " 79%|███████▊  | 282/359 [04:25<01:10,  1.09it/s]"
     ]
    },
    {
     "name": "stdout",
     "output_type": "stream",
     "text": [
      "similarity of the two sentences:  tensor(0.7201, device='cuda:0')\n"
     ]
    },
    {
     "name": "stderr",
     "output_type": "stream",
     "text": [
      "\r",
      " 79%|███████▉  | 283/359 [04:26<01:09,  1.09it/s]"
     ]
    },
    {
     "name": "stdout",
     "output_type": "stream",
     "text": [
      "similarity of the two sentences:  tensor(0.8463, device='cuda:0')\n"
     ]
    },
    {
     "name": "stderr",
     "output_type": "stream",
     "text": [
      "\r",
      " 79%|███████▉  | 284/359 [04:27<01:08,  1.09it/s]"
     ]
    },
    {
     "name": "stdout",
     "output_type": "stream",
     "text": [
      "similarity of the two sentences:  tensor(0.8787, device='cuda:0')\n"
     ]
    },
    {
     "name": "stderr",
     "output_type": "stream",
     "text": [
      "\r",
      " 79%|███████▉  | 285/359 [04:28<01:09,  1.07it/s]"
     ]
    },
    {
     "name": "stdout",
     "output_type": "stream",
     "text": [
      "similarity of the two sentences:  tensor(0.9464, device='cuda:0')\n"
     ]
    },
    {
     "name": "stderr",
     "output_type": "stream",
     "text": [
      "\r",
      " 80%|███████▉  | 286/359 [04:29<01:08,  1.07it/s]"
     ]
    },
    {
     "name": "stdout",
     "output_type": "stream",
     "text": [
      "similarity of the two sentences:  tensor(0.9548, device='cuda:0')\n"
     ]
    },
    {
     "name": "stderr",
     "output_type": "stream",
     "text": [
      "\r",
      " 80%|███████▉  | 287/359 [04:30<01:07,  1.07it/s]"
     ]
    },
    {
     "name": "stdout",
     "output_type": "stream",
     "text": [
      "similarity of the two sentences:  tensor(0.9702, device='cuda:0')\n"
     ]
    },
    {
     "name": "stderr",
     "output_type": "stream",
     "text": [
      "\r",
      " 80%|████████  | 288/359 [04:31<01:06,  1.06it/s]"
     ]
    },
    {
     "name": "stdout",
     "output_type": "stream",
     "text": [
      "similarity of the two sentences:  tensor(0.7824, device='cuda:0')\n"
     ]
    },
    {
     "name": "stderr",
     "output_type": "stream",
     "text": [
      "\r",
      " 81%|████████  | 289/359 [04:32<01:05,  1.07it/s]"
     ]
    },
    {
     "name": "stdout",
     "output_type": "stream",
     "text": [
      "similarity of the two sentences:  tensor(0.9743, device='cuda:0')\n"
     ]
    },
    {
     "name": "stderr",
     "output_type": "stream",
     "text": [
      "\r",
      " 81%|████████  | 290/359 [04:33<01:03,  1.08it/s]"
     ]
    },
    {
     "name": "stdout",
     "output_type": "stream",
     "text": [
      "similarity of the two sentences:  tensor(0.9952, device='cuda:0')\n"
     ]
    },
    {
     "name": "stderr",
     "output_type": "stream",
     "text": [
      "\r",
      " 81%|████████  | 291/359 [04:34<01:02,  1.08it/s]"
     ]
    },
    {
     "name": "stdout",
     "output_type": "stream",
     "text": [
      "similarity of the two sentences:  tensor(1., device='cuda:0')\n"
     ]
    },
    {
     "name": "stderr",
     "output_type": "stream",
     "text": [
      "\r",
      " 81%|████████▏ | 292/359 [04:35<01:01,  1.09it/s]"
     ]
    },
    {
     "name": "stdout",
     "output_type": "stream",
     "text": [
      "similarity of the two sentences:  tensor(1., device='cuda:0')\n"
     ]
    },
    {
     "name": "stderr",
     "output_type": "stream",
     "text": [
      "\r",
      " 82%|████████▏ | 293/359 [04:36<01:00,  1.09it/s]"
     ]
    },
    {
     "name": "stdout",
     "output_type": "stream",
     "text": [
      "similarity of the two sentences:  tensor(0.7697, device='cuda:0')\n"
     ]
    },
    {
     "name": "stderr",
     "output_type": "stream",
     "text": [
      "\r",
      " 82%|████████▏ | 294/359 [04:37<01:00,  1.07it/s]"
     ]
    },
    {
     "name": "stdout",
     "output_type": "stream",
     "text": [
      "similarity of the two sentences:  tensor(0.8881, device='cuda:0')\n"
     ]
    },
    {
     "name": "stderr",
     "output_type": "stream",
     "text": [
      "\r",
      " 82%|████████▏ | 295/359 [04:38<01:00,  1.05it/s]"
     ]
    },
    {
     "name": "stdout",
     "output_type": "stream",
     "text": [
      "similarity of the two sentences:  tensor(0.8882, device='cuda:0')\n"
     ]
    },
    {
     "name": "stderr",
     "output_type": "stream",
     "text": [
      "\r",
      " 82%|████████▏ | 296/359 [04:39<00:59,  1.05it/s]"
     ]
    },
    {
     "name": "stdout",
     "output_type": "stream",
     "text": [
      "similarity of the two sentences:  tensor(0.6850, device='cuda:0')\n"
     ]
    },
    {
     "name": "stderr",
     "output_type": "stream",
     "text": [
      "\r",
      " 83%|████████▎ | 297/359 [04:39<00:58,  1.07it/s]"
     ]
    },
    {
     "name": "stdout",
     "output_type": "stream",
     "text": [
      "similarity of the two sentences:  tensor(0.7870, device='cuda:0')\n"
     ]
    },
    {
     "name": "stderr",
     "output_type": "stream",
     "text": [
      "\r",
      " 83%|████████▎ | 298/359 [04:40<00:56,  1.08it/s]"
     ]
    },
    {
     "name": "stdout",
     "output_type": "stream",
     "text": [
      "similarity of the two sentences:  tensor(0.5872, device='cuda:0')\n"
     ]
    },
    {
     "name": "stderr",
     "output_type": "stream",
     "text": [
      "\r",
      " 83%|████████▎ | 299/359 [04:41<00:55,  1.09it/s]"
     ]
    },
    {
     "name": "stdout",
     "output_type": "stream",
     "text": [
      "similarity of the two sentences:  tensor(0.9221, device='cuda:0')\n"
     ]
    },
    {
     "name": "stderr",
     "output_type": "stream",
     "text": [
      "\r",
      " 84%|████████▎ | 300/359 [04:42<00:54,  1.09it/s]"
     ]
    },
    {
     "name": "stdout",
     "output_type": "stream",
     "text": [
      "similarity of the two sentences:  tensor(0.5574, device='cuda:0')\n"
     ]
    },
    {
     "name": "stderr",
     "output_type": "stream",
     "text": [
      "\r",
      " 84%|████████▍ | 301/359 [04:43<00:55,  1.05it/s]"
     ]
    },
    {
     "name": "stdout",
     "output_type": "stream",
     "text": [
      "similarity of the two sentences:  tensor(0.4466, device='cuda:0')\n"
     ]
    },
    {
     "name": "stderr",
     "output_type": "stream",
     "text": [
      "\r",
      " 84%|████████▍ | 302/359 [04:44<00:55,  1.03it/s]"
     ]
    },
    {
     "name": "stdout",
     "output_type": "stream",
     "text": [
      "similarity of the two sentences:  tensor(0.8086, device='cuda:0')\n"
     ]
    },
    {
     "name": "stderr",
     "output_type": "stream",
     "text": [
      "\r",
      " 84%|████████▍ | 303/359 [04:45<00:53,  1.05it/s]"
     ]
    },
    {
     "name": "stdout",
     "output_type": "stream",
     "text": [
      "similarity of the two sentences:  tensor(0.7413, device='cuda:0')\n"
     ]
    },
    {
     "name": "stderr",
     "output_type": "stream",
     "text": [
      "\r",
      " 85%|████████▍ | 304/359 [04:46<00:51,  1.06it/s]"
     ]
    },
    {
     "name": "stdout",
     "output_type": "stream",
     "text": [
      "similarity of the two sentences:  tensor(0.9877, device='cuda:0')\n"
     ]
    },
    {
     "name": "stderr",
     "output_type": "stream",
     "text": [
      "\r",
      " 85%|████████▍ | 305/359 [04:47<00:50,  1.07it/s]"
     ]
    },
    {
     "name": "stdout",
     "output_type": "stream",
     "text": [
      "similarity of the two sentences:  tensor(0.8761, device='cuda:0')\n"
     ]
    },
    {
     "name": "stderr",
     "output_type": "stream",
     "text": [
      "\r",
      " 85%|████████▌ | 306/359 [04:48<00:49,  1.07it/s]"
     ]
    },
    {
     "name": "stdout",
     "output_type": "stream",
     "text": [
      "similarity of the two sentences:  tensor(0.7039, device='cuda:0')\n"
     ]
    },
    {
     "name": "stderr",
     "output_type": "stream",
     "text": [
      "\r",
      " 86%|████████▌ | 307/359 [04:49<00:48,  1.08it/s]"
     ]
    },
    {
     "name": "stdout",
     "output_type": "stream",
     "text": [
      "similarity of the two sentences:  tensor(0.6077, device='cuda:0')\n"
     ]
    },
    {
     "name": "stderr",
     "output_type": "stream",
     "text": [
      "\r",
      " 86%|████████▌ | 308/359 [04:50<00:47,  1.08it/s]"
     ]
    },
    {
     "name": "stdout",
     "output_type": "stream",
     "text": [
      "similarity of the two sentences:  tensor(0.6806, device='cuda:0')\n"
     ]
    },
    {
     "name": "stderr",
     "output_type": "stream",
     "text": [
      "\r",
      " 86%|████████▌ | 309/359 [04:51<00:45,  1.09it/s]"
     ]
    },
    {
     "name": "stdout",
     "output_type": "stream",
     "text": [
      "similarity of the two sentences:  tensor(0.9851, device='cuda:0')\n"
     ]
    },
    {
     "name": "stderr",
     "output_type": "stream",
     "text": [
      "\r",
      " 86%|████████▋ | 310/359 [04:52<00:44,  1.10it/s]"
     ]
    },
    {
     "name": "stdout",
     "output_type": "stream",
     "text": [
      "similarity of the two sentences:  tensor(1.0000, device='cuda:0')\n"
     ]
    },
    {
     "name": "stderr",
     "output_type": "stream",
     "text": [
      "\r",
      " 87%|████████▋ | 311/359 [04:52<00:44,  1.09it/s]"
     ]
    },
    {
     "name": "stdout",
     "output_type": "stream",
     "text": [
      "similarity of the two sentences:  tensor(0.8660, device='cuda:0')\n"
     ]
    },
    {
     "name": "stderr",
     "output_type": "stream",
     "text": [
      "\r",
      " 87%|████████▋ | 312/359 [04:53<00:43,  1.08it/s]"
     ]
    },
    {
     "name": "stdout",
     "output_type": "stream",
     "text": [
      "similarity of the two sentences:  tensor(0.8809, device='cuda:0')\n"
     ]
    },
    {
     "name": "stderr",
     "output_type": "stream",
     "text": [
      "\r",
      " 87%|████████▋ | 313/359 [04:54<00:42,  1.07it/s]"
     ]
    },
    {
     "name": "stdout",
     "output_type": "stream",
     "text": [
      "similarity of the two sentences:  tensor(0.7296, device='cuda:0')\n"
     ]
    },
    {
     "name": "stderr",
     "output_type": "stream",
     "text": [
      "\r",
      " 87%|████████▋ | 314/359 [04:55<00:42,  1.06it/s]"
     ]
    },
    {
     "name": "stdout",
     "output_type": "stream",
     "text": [
      "similarity of the two sentences:  tensor(0.7824, device='cuda:0')\n"
     ]
    },
    {
     "name": "stderr",
     "output_type": "stream",
     "text": [
      "\r",
      " 88%|████████▊ | 315/359 [04:56<00:42,  1.04it/s]"
     ]
    },
    {
     "name": "stdout",
     "output_type": "stream",
     "text": [
      "similarity of the two sentences:  tensor(0.7646, device='cuda:0')\n"
     ]
    },
    {
     "name": "stderr",
     "output_type": "stream",
     "text": [
      "\r",
      " 88%|████████▊ | 316/359 [04:57<00:40,  1.05it/s]"
     ]
    },
    {
     "name": "stdout",
     "output_type": "stream",
     "text": [
      "similarity of the two sentences:  tensor(0.7553, device='cuda:0')\n"
     ]
    },
    {
     "name": "stderr",
     "output_type": "stream",
     "text": [
      "\r",
      " 88%|████████▊ | 317/359 [04:58<00:39,  1.07it/s]"
     ]
    },
    {
     "name": "stdout",
     "output_type": "stream",
     "text": [
      "similarity of the two sentences:  tensor(0.8818, device='cuda:0')\n"
     ]
    },
    {
     "name": "stderr",
     "output_type": "stream",
     "text": [
      "\r",
      " 89%|████████▊ | 318/359 [04:59<00:37,  1.08it/s]"
     ]
    },
    {
     "name": "stdout",
     "output_type": "stream",
     "text": [
      "similarity of the two sentences:  tensor(0.6013, device='cuda:0')\n"
     ]
    },
    {
     "name": "stderr",
     "output_type": "stream",
     "text": [
      "\r",
      " 89%|████████▉ | 319/359 [05:00<00:37,  1.08it/s]"
     ]
    },
    {
     "name": "stdout",
     "output_type": "stream",
     "text": [
      "similarity of the two sentences:  tensor(0.9271, device='cuda:0')\n"
     ]
    },
    {
     "name": "stderr",
     "output_type": "stream",
     "text": [
      "\r",
      " 89%|████████▉ | 320/359 [05:01<00:36,  1.06it/s]"
     ]
    },
    {
     "name": "stdout",
     "output_type": "stream",
     "text": [
      "similarity of the two sentences:  tensor(0.9459, device='cuda:0')\n"
     ]
    },
    {
     "name": "stderr",
     "output_type": "stream",
     "text": [
      "\r",
      " 89%|████████▉ | 321/359 [05:02<00:36,  1.03it/s]"
     ]
    },
    {
     "name": "stdout",
     "output_type": "stream",
     "text": [
      "similarity of the two sentences:  tensor(0.7345, device='cuda:0')\n"
     ]
    },
    {
     "name": "stderr",
     "output_type": "stream",
     "text": [
      "\r",
      " 90%|████████▉ | 322/359 [05:03<00:35,  1.03it/s]"
     ]
    },
    {
     "name": "stdout",
     "output_type": "stream",
     "text": [
      "similarity of the two sentences:  tensor(0.9142, device='cuda:0')\n"
     ]
    },
    {
     "name": "stderr",
     "output_type": "stream",
     "text": [
      "\r",
      " 90%|████████▉ | 323/359 [05:04<00:34,  1.04it/s]"
     ]
    },
    {
     "name": "stdout",
     "output_type": "stream",
     "text": [
      "similarity of the two sentences:  tensor(0.6444, device='cuda:0')\n"
     ]
    },
    {
     "name": "stderr",
     "output_type": "stream",
     "text": [
      "\r",
      " 90%|█████████ | 324/359 [05:05<00:33,  1.05it/s]"
     ]
    },
    {
     "name": "stdout",
     "output_type": "stream",
     "text": [
      "similarity of the two sentences:  tensor(1.0000, device='cuda:0')\n"
     ]
    },
    {
     "name": "stderr",
     "output_type": "stream",
     "text": [
      "\r",
      " 91%|█████████ | 325/359 [05:06<00:31,  1.06it/s]"
     ]
    },
    {
     "name": "stdout",
     "output_type": "stream",
     "text": [
      "similarity of the two sentences:  tensor(0.7234, device='cuda:0')\n"
     ]
    },
    {
     "name": "stderr",
     "output_type": "stream",
     "text": [
      "\r",
      " 91%|█████████ | 326/359 [05:07<00:30,  1.07it/s]"
     ]
    },
    {
     "name": "stdout",
     "output_type": "stream",
     "text": [
      "similarity of the two sentences:  tensor(0.9471, device='cuda:0')\n"
     ]
    },
    {
     "name": "stderr",
     "output_type": "stream",
     "text": [
      "\r",
      " 91%|█████████ | 327/359 [05:08<00:29,  1.07it/s]"
     ]
    },
    {
     "name": "stdout",
     "output_type": "stream",
     "text": [
      "similarity of the two sentences:  tensor(0.7264, device='cuda:0')\n"
     ]
    },
    {
     "name": "stderr",
     "output_type": "stream",
     "text": [
      "\r",
      " 91%|█████████▏| 328/359 [05:09<00:28,  1.08it/s]"
     ]
    },
    {
     "name": "stdout",
     "output_type": "stream",
     "text": [
      "similarity of the two sentences:  tensor(0.7822, device='cuda:0')\n"
     ]
    },
    {
     "name": "stderr",
     "output_type": "stream",
     "text": [
      "\r",
      " 92%|█████████▏| 329/359 [05:09<00:27,  1.08it/s]"
     ]
    },
    {
     "name": "stdout",
     "output_type": "stream",
     "text": [
      "similarity of the two sentences:  tensor(0.7698, device='cuda:0')\n"
     ]
    },
    {
     "name": "stderr",
     "output_type": "stream",
     "text": [
      "\r",
      " 92%|█████████▏| 330/359 [05:10<00:26,  1.08it/s]"
     ]
    },
    {
     "name": "stdout",
     "output_type": "stream",
     "text": [
      "similarity of the two sentences:  tensor(0.9496, device='cuda:0')\n"
     ]
    },
    {
     "name": "stderr",
     "output_type": "stream",
     "text": [
      "\r",
      " 92%|█████████▏| 331/359 [05:11<00:25,  1.09it/s]"
     ]
    },
    {
     "name": "stdout",
     "output_type": "stream",
     "text": [
      "similarity of the two sentences:  tensor(0.7521, device='cuda:0')\n"
     ]
    },
    {
     "name": "stderr",
     "output_type": "stream",
     "text": [
      "\r",
      " 92%|█████████▏| 332/359 [05:12<00:24,  1.08it/s]"
     ]
    },
    {
     "name": "stdout",
     "output_type": "stream",
     "text": [
      "similarity of the two sentences:  tensor(0.8202, device='cuda:0')\n"
     ]
    },
    {
     "name": "stderr",
     "output_type": "stream",
     "text": [
      "\r",
      " 93%|█████████▎| 333/359 [05:13<00:24,  1.05it/s]"
     ]
    },
    {
     "name": "stdout",
     "output_type": "stream",
     "text": [
      "similarity of the two sentences:  tensor(0.6661, device='cuda:0')\n"
     ]
    },
    {
     "name": "stderr",
     "output_type": "stream",
     "text": [
      "\r",
      " 93%|█████████▎| 334/359 [05:14<00:23,  1.06it/s]"
     ]
    },
    {
     "name": "stdout",
     "output_type": "stream",
     "text": [
      "similarity of the two sentences:  tensor(0.9052, device='cuda:0')\n"
     ]
    },
    {
     "name": "stderr",
     "output_type": "stream",
     "text": [
      "\r",
      " 93%|█████████▎| 335/359 [05:15<00:22,  1.08it/s]"
     ]
    },
    {
     "name": "stdout",
     "output_type": "stream",
     "text": [
      "similarity of the two sentences:  tensor(0.7805, device='cuda:0')\n"
     ]
    },
    {
     "name": "stderr",
     "output_type": "stream",
     "text": [
      "\r",
      " 94%|█████████▎| 336/359 [05:16<00:21,  1.09it/s]"
     ]
    },
    {
     "name": "stdout",
     "output_type": "stream",
     "text": [
      "similarity of the two sentences:  tensor(0.7932, device='cuda:0')\n"
     ]
    },
    {
     "name": "stderr",
     "output_type": "stream",
     "text": [
      "\r",
      " 94%|█████████▍| 337/359 [05:17<00:20,  1.08it/s]"
     ]
    },
    {
     "name": "stdout",
     "output_type": "stream",
     "text": [
      "similarity of the two sentences:  tensor(0.9876, device='cuda:0')\n"
     ]
    },
    {
     "name": "stderr",
     "output_type": "stream",
     "text": [
      "\r",
      " 94%|█████████▍| 338/359 [05:18<00:19,  1.08it/s]"
     ]
    },
    {
     "name": "stdout",
     "output_type": "stream",
     "text": [
      "similarity of the two sentences:  tensor(0.9573, device='cuda:0')\n"
     ]
    },
    {
     "name": "stderr",
     "output_type": "stream",
     "text": [
      "\r",
      " 94%|█████████▍| 339/359 [05:19<00:18,  1.08it/s]"
     ]
    },
    {
     "name": "stdout",
     "output_type": "stream",
     "text": [
      "similarity of the two sentences:  tensor(0.9915, device='cuda:0')\n"
     ]
    },
    {
     "name": "stderr",
     "output_type": "stream",
     "text": [
      "\r",
      " 95%|█████████▍| 340/359 [05:20<00:17,  1.09it/s]"
     ]
    },
    {
     "name": "stdout",
     "output_type": "stream",
     "text": [
      "similarity of the two sentences:  tensor(1.0000, device='cuda:0')\n"
     ]
    },
    {
     "name": "stderr",
     "output_type": "stream",
     "text": [
      "\r",
      " 95%|█████████▍| 341/359 [05:21<00:16,  1.09it/s]"
     ]
    },
    {
     "name": "stdout",
     "output_type": "stream",
     "text": [
      "similarity of the two sentences:  tensor(0.8404, device='cuda:0')\n"
     ]
    },
    {
     "name": "stderr",
     "output_type": "stream",
     "text": [
      "\r",
      " 95%|█████████▌| 342/359 [05:21<00:15,  1.09it/s]"
     ]
    },
    {
     "name": "stdout",
     "output_type": "stream",
     "text": [
      "similarity of the two sentences:  tensor(1.0000, device='cuda:0')\n"
     ]
    },
    {
     "name": "stderr",
     "output_type": "stream",
     "text": [
      "\r",
      " 96%|█████████▌| 343/359 [05:22<00:14,  1.09it/s]"
     ]
    },
    {
     "name": "stdout",
     "output_type": "stream",
     "text": [
      "similarity of the two sentences:  tensor(0.9119, device='cuda:0')\n"
     ]
    },
    {
     "name": "stderr",
     "output_type": "stream",
     "text": [
      "\r",
      " 96%|█████████▌| 344/359 [05:23<00:14,  1.07it/s]"
     ]
    },
    {
     "name": "stdout",
     "output_type": "stream",
     "text": [
      "similarity of the two sentences:  tensor(0.8980, device='cuda:0')\n"
     ]
    },
    {
     "name": "stderr",
     "output_type": "stream",
     "text": [
      "\r",
      " 96%|█████████▌| 345/359 [05:24<00:12,  1.08it/s]"
     ]
    },
    {
     "name": "stdout",
     "output_type": "stream",
     "text": [
      "similarity of the two sentences:  tensor(0.9763, device='cuda:0')\n"
     ]
    },
    {
     "name": "stderr",
     "output_type": "stream",
     "text": [
      "\r",
      " 96%|█████████▋| 346/359 [05:25<00:12,  1.05it/s]"
     ]
    },
    {
     "name": "stdout",
     "output_type": "stream",
     "text": [
      "similarity of the two sentences:  tensor(0.9906, device='cuda:0')\n"
     ]
    },
    {
     "name": "stderr",
     "output_type": "stream",
     "text": [
      "\r",
      " 97%|█████████▋| 347/359 [05:26<00:11,  1.06it/s]"
     ]
    },
    {
     "name": "stdout",
     "output_type": "stream",
     "text": [
      "similarity of the two sentences:  tensor(0.8731, device='cuda:0')\n"
     ]
    },
    {
     "name": "stderr",
     "output_type": "stream",
     "text": [
      "\r",
      " 97%|█████████▋| 348/359 [05:27<00:10,  1.06it/s]"
     ]
    },
    {
     "name": "stdout",
     "output_type": "stream",
     "text": [
      "similarity of the two sentences:  tensor(0.9915, device='cuda:0')\n"
     ]
    },
    {
     "name": "stderr",
     "output_type": "stream",
     "text": [
      "\r",
      " 97%|█████████▋| 349/359 [05:28<00:09,  1.06it/s]"
     ]
    },
    {
     "name": "stdout",
     "output_type": "stream",
     "text": [
      "similarity of the two sentences:  tensor(0.8838, device='cuda:0')\n"
     ]
    },
    {
     "name": "stderr",
     "output_type": "stream",
     "text": [
      "\r",
      " 97%|█████████▋| 350/359 [05:29<00:08,  1.05it/s]"
     ]
    },
    {
     "name": "stdout",
     "output_type": "stream",
     "text": [
      "similarity of the two sentences:  tensor(0.9415, device='cuda:0')\n"
     ]
    },
    {
     "name": "stderr",
     "output_type": "stream",
     "text": [
      "\r",
      " 98%|█████████▊| 351/359 [05:30<00:07,  1.05it/s]"
     ]
    },
    {
     "name": "stdout",
     "output_type": "stream",
     "text": [
      "similarity of the two sentences:  tensor(0.7941, device='cuda:0')\n"
     ]
    },
    {
     "name": "stderr",
     "output_type": "stream",
     "text": [
      "\r",
      " 98%|█████████▊| 352/359 [05:31<00:06,  1.03it/s]"
     ]
    },
    {
     "name": "stdout",
     "output_type": "stream",
     "text": [
      "similarity of the two sentences:  tensor(0.8163, device='cuda:0')\n"
     ]
    },
    {
     "name": "stderr",
     "output_type": "stream",
     "text": [
      "\r",
      " 98%|█████████▊| 353/359 [05:32<00:05,  1.05it/s]"
     ]
    },
    {
     "name": "stdout",
     "output_type": "stream",
     "text": [
      "similarity of the two sentences:  tensor(0.6250, device='cuda:0')\n"
     ]
    },
    {
     "name": "stderr",
     "output_type": "stream",
     "text": [
      "\r",
      " 99%|█████████▊| 354/359 [05:33<00:04,  1.06it/s]"
     ]
    },
    {
     "name": "stdout",
     "output_type": "stream",
     "text": [
      "similarity of the two sentences:  tensor(0.8245, device='cuda:0')\n"
     ]
    },
    {
     "name": "stderr",
     "output_type": "stream",
     "text": [
      "\r",
      " 99%|█████████▉| 355/359 [05:34<00:03,  1.05it/s]"
     ]
    },
    {
     "name": "stdout",
     "output_type": "stream",
     "text": [
      "similarity of the two sentences:  tensor(0.9313, device='cuda:0')\n"
     ]
    },
    {
     "name": "stderr",
     "output_type": "stream",
     "text": [
      "\r",
      " 99%|█████████▉| 356/359 [05:35<00:02,  1.06it/s]"
     ]
    },
    {
     "name": "stdout",
     "output_type": "stream",
     "text": [
      "similarity of the two sentences:  tensor(0.8276, device='cuda:0')\n"
     ]
    },
    {
     "name": "stderr",
     "output_type": "stream",
     "text": [
      "\r",
      " 99%|█████████▉| 357/359 [05:36<00:01,  1.04it/s]"
     ]
    },
    {
     "name": "stdout",
     "output_type": "stream",
     "text": [
      "similarity of the two sentences:  tensor(0.7692, device='cuda:0')\n"
     ]
    },
    {
     "name": "stderr",
     "output_type": "stream",
     "text": [
      "\r",
      "100%|█████████▉| 358/359 [05:37<00:00,  1.03it/s]"
     ]
    },
    {
     "name": "stdout",
     "output_type": "stream",
     "text": [
      "similarity of the two sentences:  tensor(0.8355, device='cuda:0')\n"
     ]
    },
    {
     "name": "stderr",
     "output_type": "stream",
     "text": [
      "100%|██████████| 359/359 [05:38<00:00,  1.06it/s]"
     ]
    },
    {
     "name": "stdout",
     "output_type": "stream",
     "text": [
      "similarity of the two sentences:  tensor(0.9962, device='cuda:0')\n",
      "similarity socre : tensor(0.8528, device='cuda:0')\n",
      "grammar socre out: 0.6997928776542207\n",
      "grammar socre orig: 0.8770436297967241\n",
      "simplicity socre outpu: 0.4176600376211501\n",
      "simplicity socre orig: 0.18748164888793048\n",
      "simplicity socre orig: 0.18748164888793048\n",
      "len output: 15.016713091922005\n",
      "len orig: 23.228412256267408\n"
     ]
    },
    {
     "name": "stderr",
     "output_type": "stream",
     "text": [
      "\n"
     ]
    }
   ],
   "source": [
    "from tqdm import tqdm\n",
    "\n",
    "root_path = '/home/m25dehgh/simplification/controllable-simplification/src/Wikilarge/output'\n",
    "asset_path= \"/home/m25dehgh/simplification/datasets/asset/dataset\"\n",
    "\n",
    "orig_path = asset_path + '/' + \"asset.test.norm.orig\"\n",
    "out_path = root_path + '/' + \"/RM+PA-dl:1-par:1.25+classifier-Asset-norm.txt\" # sari : 38.03\n",
    "\n",
    "assess(out_path, orig_path)"
   ]
  },
  {
   "cell_type": "code",
   "execution_count": 32,
   "metadata": {},
   "outputs": [
    {
     "name": "stderr",
     "output_type": "stream",
     "text": [
      "  0%|          | 1/360 [00:00<05:35,  1.07it/s]"
     ]
    },
    {
     "name": "stdout",
     "output_type": "stream",
     "text": [
      "similarity of the two sentences:  tensor(0.9223, device='cuda:0')\n"
     ]
    },
    {
     "name": "stderr",
     "output_type": "stream",
     "text": [
      "\r",
      "  1%|          | 2/360 [00:01<05:42,  1.05it/s]"
     ]
    },
    {
     "name": "stdout",
     "output_type": "stream",
     "text": [
      "similarity of the two sentences:  tensor(0.9136, device='cuda:0')\n"
     ]
    },
    {
     "name": "stderr",
     "output_type": "stream",
     "text": [
      "\r",
      "  1%|          | 3/360 [00:02<05:48,  1.02it/s]"
     ]
    },
    {
     "name": "stdout",
     "output_type": "stream",
     "text": [
      "similarity of the two sentences:  tensor(0.8882, device='cuda:0')\n"
     ]
    },
    {
     "name": "stderr",
     "output_type": "stream",
     "text": [
      "\r",
      "  1%|          | 4/360 [00:03<05:46,  1.03it/s]"
     ]
    },
    {
     "name": "stdout",
     "output_type": "stream",
     "text": [
      "similarity of the two sentences:  tensor(0.8801, device='cuda:0')\n"
     ]
    },
    {
     "name": "stderr",
     "output_type": "stream",
     "text": [
      "\r",
      "  1%|▏         | 5/360 [00:04<05:42,  1.04it/s]"
     ]
    },
    {
     "name": "stdout",
     "output_type": "stream",
     "text": [
      "similarity of the two sentences:  tensor(0.6072, device='cuda:0')\n"
     ]
    },
    {
     "name": "stderr",
     "output_type": "stream",
     "text": [
      "\r",
      "  2%|▏         | 6/360 [00:05<05:42,  1.03it/s]"
     ]
    },
    {
     "name": "stdout",
     "output_type": "stream",
     "text": [
      "similarity of the two sentences:  tensor(0.9930, device='cuda:0')\n"
     ]
    },
    {
     "name": "stderr",
     "output_type": "stream",
     "text": [
      "\r",
      "  2%|▏         | 7/360 [00:06<05:38,  1.04it/s]"
     ]
    },
    {
     "name": "stdout",
     "output_type": "stream",
     "text": [
      "similarity of the two sentences:  tensor(1.0000, device='cuda:0')\n"
     ]
    },
    {
     "name": "stderr",
     "output_type": "stream",
     "text": [
      "\r",
      "  2%|▏         | 8/360 [00:07<05:42,  1.03it/s]"
     ]
    },
    {
     "name": "stdout",
     "output_type": "stream",
     "text": [
      "similarity of the two sentences:  tensor(0.9165, device='cuda:0')\n"
     ]
    },
    {
     "name": "stderr",
     "output_type": "stream",
     "text": [
      "\r",
      "  2%|▎         | 9/360 [00:08<05:46,  1.01it/s]"
     ]
    },
    {
     "name": "stdout",
     "output_type": "stream",
     "text": [
      "similarity of the two sentences:  tensor(0.8104, device='cuda:0')\n"
     ]
    },
    {
     "name": "stderr",
     "output_type": "stream",
     "text": [
      "\r",
      "  3%|▎         | 10/360 [00:09<05:51,  1.00s/it]"
     ]
    },
    {
     "name": "stdout",
     "output_type": "stream",
     "text": [
      "similarity of the two sentences:  tensor(0.9207, device='cuda:0')\n"
     ]
    },
    {
     "name": "stderr",
     "output_type": "stream",
     "text": [
      "\r",
      "  3%|▎         | 11/360 [00:10<05:46,  1.01it/s]"
     ]
    },
    {
     "name": "stdout",
     "output_type": "stream",
     "text": [
      "similarity of the two sentences:  tensor(0.9448, device='cuda:0')\n"
     ]
    },
    {
     "name": "stderr",
     "output_type": "stream",
     "text": [
      "\r",
      "  3%|▎         | 12/360 [00:11<05:46,  1.00it/s]"
     ]
    },
    {
     "name": "stdout",
     "output_type": "stream",
     "text": [
      "similarity of the two sentences:  tensor(0.7999, device='cuda:0')\n"
     ]
    },
    {
     "name": "stderr",
     "output_type": "stream",
     "text": [
      "\r",
      "  4%|▎         | 13/360 [00:12<05:48,  1.00s/it]"
     ]
    },
    {
     "name": "stdout",
     "output_type": "stream",
     "text": [
      "similarity of the two sentences:  tensor(0.8544, device='cuda:0')\n"
     ]
    },
    {
     "name": "stderr",
     "output_type": "stream",
     "text": [
      "\r",
      "  4%|▍         | 14/360 [00:13<05:38,  1.02it/s]"
     ]
    },
    {
     "name": "stdout",
     "output_type": "stream",
     "text": [
      "similarity of the two sentences:  tensor(0.7803, device='cuda:0')\n"
     ]
    },
    {
     "name": "stderr",
     "output_type": "stream",
     "text": [
      "\r",
      "  4%|▍         | 15/360 [00:14<05:38,  1.02it/s]"
     ]
    },
    {
     "name": "stdout",
     "output_type": "stream",
     "text": [
      "similarity of the two sentences:  tensor(0.8058, device='cuda:0')\n"
     ]
    },
    {
     "name": "stderr",
     "output_type": "stream",
     "text": [
      "\r",
      "  4%|▍         | 16/360 [00:15<05:32,  1.04it/s]"
     ]
    },
    {
     "name": "stdout",
     "output_type": "stream",
     "text": [
      "similarity of the two sentences:  tensor(1.0000, device='cuda:0')\n"
     ]
    },
    {
     "name": "stderr",
     "output_type": "stream",
     "text": [
      "\r",
      "  5%|▍         | 17/360 [00:16<05:26,  1.05it/s]"
     ]
    },
    {
     "name": "stdout",
     "output_type": "stream",
     "text": [
      "similarity of the two sentences:  tensor(0.9890, device='cuda:0')\n"
     ]
    },
    {
     "name": "stderr",
     "output_type": "stream",
     "text": [
      "\r",
      "  5%|▌         | 18/360 [00:17<05:41,  1.00it/s]"
     ]
    },
    {
     "name": "stdout",
     "output_type": "stream",
     "text": [
      "similarity of the two sentences:  tensor(1.0000, device='cuda:0')\n"
     ]
    },
    {
     "name": "stderr",
     "output_type": "stream",
     "text": [
      "\r",
      "  5%|▌         | 19/360 [00:18<05:36,  1.01it/s]"
     ]
    },
    {
     "name": "stdout",
     "output_type": "stream",
     "text": [
      "similarity of the two sentences:  tensor(1., device='cuda:0')\n"
     ]
    },
    {
     "name": "stderr",
     "output_type": "stream",
     "text": [
      "\r",
      "  6%|▌         | 20/360 [00:19<05:28,  1.04it/s]"
     ]
    },
    {
     "name": "stdout",
     "output_type": "stream",
     "text": [
      "similarity of the two sentences:  tensor(0.7456, device='cuda:0')\n"
     ]
    },
    {
     "name": "stderr",
     "output_type": "stream",
     "text": [
      "\r",
      "  6%|▌         | 21/360 [00:20<05:28,  1.03it/s]"
     ]
    },
    {
     "name": "stdout",
     "output_type": "stream",
     "text": [
      "similarity of the two sentences:  tensor(0.9211, device='cuda:0')\n"
     ]
    },
    {
     "name": "stderr",
     "output_type": "stream",
     "text": [
      "\r",
      "  6%|▌         | 22/360 [00:21<05:29,  1.02it/s]"
     ]
    },
    {
     "name": "stdout",
     "output_type": "stream",
     "text": [
      "similarity of the two sentences:  tensor(0.9122, device='cuda:0')\n"
     ]
    },
    {
     "name": "stderr",
     "output_type": "stream",
     "text": [
      "\r",
      "  6%|▋         | 23/360 [00:22<05:35,  1.00it/s]"
     ]
    },
    {
     "name": "stdout",
     "output_type": "stream",
     "text": [
      "similarity of the two sentences:  tensor(0.8276, device='cuda:0')\n"
     ]
    },
    {
     "name": "stderr",
     "output_type": "stream",
     "text": [
      "\r",
      "  7%|▋         | 24/360 [00:23<05:36,  1.00s/it]"
     ]
    },
    {
     "name": "stdout",
     "output_type": "stream",
     "text": [
      "similarity of the two sentences:  tensor(0.8366, device='cuda:0')\n"
     ]
    },
    {
     "name": "stderr",
     "output_type": "stream",
     "text": [
      "\r",
      "  7%|▋         | 25/360 [00:24<05:35,  1.00s/it]"
     ]
    },
    {
     "name": "stdout",
     "output_type": "stream",
     "text": [
      "similarity of the two sentences:  tensor(0.6907, device='cuda:0')\n"
     ]
    },
    {
     "name": "stderr",
     "output_type": "stream",
     "text": [
      "\r",
      "  7%|▋         | 26/360 [00:25<05:38,  1.01s/it]"
     ]
    },
    {
     "name": "stdout",
     "output_type": "stream",
     "text": [
      "similarity of the two sentences:  tensor(0.6636, device='cuda:0')\n"
     ]
    },
    {
     "name": "stderr",
     "output_type": "stream",
     "text": [
      "\r",
      "  8%|▊         | 27/360 [00:26<05:37,  1.01s/it]"
     ]
    },
    {
     "name": "stdout",
     "output_type": "stream",
     "text": [
      "similarity of the two sentences:  tensor(0.8505, device='cuda:0')\n"
     ]
    },
    {
     "name": "stderr",
     "output_type": "stream",
     "text": [
      "\r",
      "  8%|▊         | 28/360 [00:27<05:31,  1.00it/s]"
     ]
    },
    {
     "name": "stdout",
     "output_type": "stream",
     "text": [
      "similarity of the two sentences:  tensor(0.9116, device='cuda:0')\n"
     ]
    },
    {
     "name": "stderr",
     "output_type": "stream",
     "text": [
      "\r",
      "  8%|▊         | 29/360 [00:28<05:29,  1.00it/s]"
     ]
    },
    {
     "name": "stdout",
     "output_type": "stream",
     "text": [
      "similarity of the two sentences:  tensor(0.9897, device='cuda:0')\n"
     ]
    },
    {
     "name": "stderr",
     "output_type": "stream",
     "text": [
      "\r",
      "  8%|▊         | 30/360 [00:29<05:31,  1.00s/it]"
     ]
    },
    {
     "name": "stdout",
     "output_type": "stream",
     "text": [
      "similarity of the two sentences:  tensor(1.0000, device='cuda:0')\n"
     ]
    },
    {
     "name": "stderr",
     "output_type": "stream",
     "text": [
      "\r",
      "  9%|▊         | 31/360 [00:30<05:27,  1.00it/s]"
     ]
    },
    {
     "name": "stdout",
     "output_type": "stream",
     "text": [
      "similarity of the two sentences:  tensor(0.8900, device='cuda:0')\n"
     ]
    },
    {
     "name": "stderr",
     "output_type": "stream",
     "text": [
      "\r",
      "  9%|▉         | 32/360 [00:31<05:22,  1.02it/s]"
     ]
    },
    {
     "name": "stdout",
     "output_type": "stream",
     "text": [
      "similarity of the two sentences:  tensor(0.7845, device='cuda:0')\n"
     ]
    },
    {
     "name": "stderr",
     "output_type": "stream",
     "text": [
      "\r",
      "  9%|▉         | 33/360 [00:32<05:28,  1.00s/it]"
     ]
    },
    {
     "name": "stdout",
     "output_type": "stream",
     "text": [
      "similarity of the two sentences:  tensor(0.9766, device='cuda:0')\n"
     ]
    },
    {
     "name": "stderr",
     "output_type": "stream",
     "text": [
      "\r",
      "  9%|▉         | 34/360 [00:33<05:27,  1.01s/it]"
     ]
    },
    {
     "name": "stdout",
     "output_type": "stream",
     "text": [
      "similarity of the two sentences:  tensor(0.9125, device='cuda:0')\n"
     ]
    },
    {
     "name": "stderr",
     "output_type": "stream",
     "text": [
      "\r",
      " 10%|▉         | 35/360 [00:34<05:23,  1.00it/s]"
     ]
    },
    {
     "name": "stdout",
     "output_type": "stream",
     "text": [
      "similarity of the two sentences:  tensor(0.8136, device='cuda:0')\n"
     ]
    },
    {
     "name": "stderr",
     "output_type": "stream",
     "text": [
      "\r",
      " 10%|█         | 36/360 [00:35<05:47,  1.07s/it]"
     ]
    },
    {
     "name": "stdout",
     "output_type": "stream",
     "text": [
      "similarity of the two sentences:  tensor(0.6978, device='cuda:0')\n"
     ]
    },
    {
     "name": "stderr",
     "output_type": "stream",
     "text": [
      "\r",
      " 10%|█         | 37/360 [00:36<05:37,  1.05s/it]"
     ]
    },
    {
     "name": "stdout",
     "output_type": "stream",
     "text": [
      "similarity of the two sentences:  tensor(0.7947, device='cuda:0')\n"
     ]
    },
    {
     "name": "stderr",
     "output_type": "stream",
     "text": [
      "\r",
      " 11%|█         | 38/360 [00:37<05:33,  1.03s/it]"
     ]
    },
    {
     "name": "stdout",
     "output_type": "stream",
     "text": [
      "similarity of the two sentences:  tensor(0.7909, device='cuda:0')\n"
     ]
    },
    {
     "name": "stderr",
     "output_type": "stream",
     "text": [
      "\r",
      " 11%|█         | 39/360 [00:38<05:25,  1.01s/it]"
     ]
    },
    {
     "name": "stdout",
     "output_type": "stream",
     "text": [
      "similarity of the two sentences:  tensor(1., device='cuda:0')\n"
     ]
    },
    {
     "name": "stderr",
     "output_type": "stream",
     "text": [
      "\r",
      " 11%|█         | 40/360 [00:39<05:15,  1.01it/s]"
     ]
    },
    {
     "name": "stdout",
     "output_type": "stream",
     "text": [
      "similarity of the two sentences:  tensor(0.6935, device='cuda:0')\n"
     ]
    },
    {
     "name": "stderr",
     "output_type": "stream",
     "text": [
      "\r",
      " 11%|█▏        | 41/360 [00:40<05:07,  1.04it/s]"
     ]
    },
    {
     "name": "stdout",
     "output_type": "stream",
     "text": [
      "similarity of the two sentences:  tensor(0.3276, device='cuda:0')\n"
     ]
    },
    {
     "name": "stderr",
     "output_type": "stream",
     "text": [
      "\r",
      " 12%|█▏        | 42/360 [00:41<05:08,  1.03it/s]"
     ]
    },
    {
     "name": "stdout",
     "output_type": "stream",
     "text": [
      "similarity of the two sentences:  tensor(0.8608, device='cuda:0')\n"
     ]
    },
    {
     "name": "stderr",
     "output_type": "stream",
     "text": [
      "\r",
      " 12%|█▏        | 43/360 [00:42<05:04,  1.04it/s]"
     ]
    },
    {
     "name": "stdout",
     "output_type": "stream",
     "text": [
      "similarity of the two sentences:  tensor(0.8835, device='cuda:0')\n"
     ]
    },
    {
     "name": "stderr",
     "output_type": "stream",
     "text": [
      "\r",
      " 12%|█▏        | 44/360 [00:43<05:05,  1.03it/s]"
     ]
    },
    {
     "name": "stdout",
     "output_type": "stream",
     "text": [
      "similarity of the two sentences:  tensor(1., device='cuda:0')\n"
     ]
    },
    {
     "name": "stderr",
     "output_type": "stream",
     "text": [
      "\r",
      " 12%|█▎        | 45/360 [00:44<05:07,  1.02it/s]"
     ]
    },
    {
     "name": "stdout",
     "output_type": "stream",
     "text": [
      "similarity of the two sentences:  tensor(0.8732, device='cuda:0')\n"
     ]
    },
    {
     "name": "stderr",
     "output_type": "stream",
     "text": [
      "\r",
      " 13%|█▎        | 46/360 [00:45<05:12,  1.00it/s]"
     ]
    },
    {
     "name": "stdout",
     "output_type": "stream",
     "text": [
      "similarity of the two sentences:  tensor(0.8773, device='cuda:0')\n"
     ]
    },
    {
     "name": "stderr",
     "output_type": "stream",
     "text": [
      "\r",
      " 13%|█▎        | 47/360 [00:46<05:09,  1.01it/s]"
     ]
    },
    {
     "name": "stdout",
     "output_type": "stream",
     "text": [
      "similarity of the two sentences:  tensor(0.7069, device='cuda:0')\n"
     ]
    },
    {
     "name": "stderr",
     "output_type": "stream",
     "text": [
      "\r",
      " 13%|█▎        | 48/360 [00:47<05:02,  1.03it/s]"
     ]
    },
    {
     "name": "stdout",
     "output_type": "stream",
     "text": [
      "similarity of the two sentences:  tensor(0.6174, device='cuda:0')\n"
     ]
    },
    {
     "name": "stderr",
     "output_type": "stream",
     "text": [
      "\r",
      " 14%|█▎        | 49/360 [00:48<04:55,  1.05it/s]"
     ]
    },
    {
     "name": "stdout",
     "output_type": "stream",
     "text": [
      "similarity of the two sentences:  tensor(0.8754, device='cuda:0')\n"
     ]
    },
    {
     "name": "stderr",
     "output_type": "stream",
     "text": [
      "\r",
      " 14%|█▍        | 50/360 [00:49<04:50,  1.07it/s]"
     ]
    },
    {
     "name": "stdout",
     "output_type": "stream",
     "text": [
      "similarity of the two sentences:  tensor(0.9977, device='cuda:0')\n"
     ]
    },
    {
     "name": "stderr",
     "output_type": "stream",
     "text": [
      "\r",
      " 14%|█▍        | 51/360 [00:50<04:47,  1.07it/s]"
     ]
    },
    {
     "name": "stdout",
     "output_type": "stream",
     "text": [
      "similarity of the two sentences:  tensor(0.8266, device='cuda:0')\n"
     ]
    },
    {
     "name": "stderr",
     "output_type": "stream",
     "text": [
      "\r",
      " 14%|█▍        | 52/360 [00:51<04:46,  1.08it/s]"
     ]
    },
    {
     "name": "stdout",
     "output_type": "stream",
     "text": [
      "similarity of the two sentences:  tensor(0.7283, device='cuda:0')\n"
     ]
    },
    {
     "name": "stderr",
     "output_type": "stream",
     "text": [
      "\r",
      " 15%|█▍        | 53/360 [00:52<04:43,  1.08it/s]"
     ]
    },
    {
     "name": "stdout",
     "output_type": "stream",
     "text": [
      "similarity of the two sentences:  tensor(0.6608, device='cuda:0')\n"
     ]
    },
    {
     "name": "stderr",
     "output_type": "stream",
     "text": [
      "\r",
      " 15%|█▌        | 54/360 [00:52<04:41,  1.09it/s]"
     ]
    },
    {
     "name": "stdout",
     "output_type": "stream",
     "text": [
      "similarity of the two sentences:  tensor(0.8567, device='cuda:0')\n"
     ]
    },
    {
     "name": "stderr",
     "output_type": "stream",
     "text": [
      "\r",
      " 15%|█▌        | 55/360 [00:53<04:48,  1.06it/s]"
     ]
    },
    {
     "name": "stdout",
     "output_type": "stream",
     "text": [
      "similarity of the two sentences:  tensor(0.7525, device='cuda:0')\n"
     ]
    },
    {
     "name": "stderr",
     "output_type": "stream",
     "text": [
      "\r",
      " 16%|█▌        | 56/360 [00:54<04:46,  1.06it/s]"
     ]
    },
    {
     "name": "stdout",
     "output_type": "stream",
     "text": [
      "similarity of the two sentences:  tensor(0.7836, device='cuda:0')\n"
     ]
    },
    {
     "name": "stderr",
     "output_type": "stream",
     "text": [
      "\r",
      " 16%|█▌        | 57/360 [00:55<04:44,  1.06it/s]"
     ]
    },
    {
     "name": "stdout",
     "output_type": "stream",
     "text": [
      "similarity of the two sentences:  tensor(0.8419, device='cuda:0')\n"
     ]
    },
    {
     "name": "stderr",
     "output_type": "stream",
     "text": [
      "\r",
      " 16%|█▌        | 58/360 [00:56<04:45,  1.06it/s]"
     ]
    },
    {
     "name": "stdout",
     "output_type": "stream",
     "text": [
      "similarity of the two sentences:  tensor(0.8427, device='cuda:0')\n"
     ]
    },
    {
     "name": "stderr",
     "output_type": "stream",
     "text": [
      "\r",
      " 16%|█▋        | 59/360 [00:57<04:47,  1.05it/s]"
     ]
    },
    {
     "name": "stdout",
     "output_type": "stream",
     "text": [
      "similarity of the two sentences:  tensor(0.9211, device='cuda:0')\n"
     ]
    },
    {
     "name": "stderr",
     "output_type": "stream",
     "text": [
      "\r",
      " 17%|█▋        | 60/360 [00:58<04:47,  1.04it/s]"
     ]
    },
    {
     "name": "stdout",
     "output_type": "stream",
     "text": [
      "similarity of the two sentences:  tensor(0.8348, device='cuda:0')\n"
     ]
    },
    {
     "name": "stderr",
     "output_type": "stream",
     "text": [
      "\r",
      " 17%|█▋        | 61/360 [00:59<04:44,  1.05it/s]"
     ]
    },
    {
     "name": "stdout",
     "output_type": "stream",
     "text": [
      "similarity of the two sentences:  tensor(0.8370, device='cuda:0')\n"
     ]
    },
    {
     "name": "stderr",
     "output_type": "stream",
     "text": [
      "\r",
      " 17%|█▋        | 62/360 [01:00<04:41,  1.06it/s]"
     ]
    },
    {
     "name": "stdout",
     "output_type": "stream",
     "text": [
      "similarity of the two sentences:  tensor(0.8292, device='cuda:0')\n"
     ]
    },
    {
     "name": "stderr",
     "output_type": "stream",
     "text": [
      "\r",
      " 18%|█▊        | 63/360 [01:01<04:37,  1.07it/s]"
     ]
    },
    {
     "name": "stdout",
     "output_type": "stream",
     "text": [
      "similarity of the two sentences:  tensor(1.0000, device='cuda:0')\n"
     ]
    },
    {
     "name": "stderr",
     "output_type": "stream",
     "text": [
      "\r",
      " 18%|█▊        | 64/360 [01:02<04:36,  1.07it/s]"
     ]
    },
    {
     "name": "stdout",
     "output_type": "stream",
     "text": [
      "similarity of the two sentences:  tensor(0.5812, device='cuda:0')\n"
     ]
    },
    {
     "name": "stderr",
     "output_type": "stream",
     "text": [
      "\r",
      " 18%|█▊        | 65/360 [01:03<04:33,  1.08it/s]"
     ]
    },
    {
     "name": "stdout",
     "output_type": "stream",
     "text": [
      "similarity of the two sentences:  tensor(1.0000, device='cuda:0')\n"
     ]
    },
    {
     "name": "stderr",
     "output_type": "stream",
     "text": [
      "\r",
      " 18%|█▊        | 66/360 [01:04<04:33,  1.08it/s]"
     ]
    },
    {
     "name": "stdout",
     "output_type": "stream",
     "text": [
      "similarity of the two sentences:  tensor(0.6810, device='cuda:0')\n"
     ]
    },
    {
     "name": "stderr",
     "output_type": "stream",
     "text": [
      "\r",
      " 19%|█▊        | 67/360 [01:05<04:30,  1.08it/s]"
     ]
    },
    {
     "name": "stdout",
     "output_type": "stream",
     "text": [
      "similarity of the two sentences:  tensor(0.7121, device='cuda:0')\n"
     ]
    },
    {
     "name": "stderr",
     "output_type": "stream",
     "text": [
      "\r",
      " 19%|█▉        | 68/360 [01:06<04:34,  1.06it/s]"
     ]
    },
    {
     "name": "stdout",
     "output_type": "stream",
     "text": [
      "similarity of the two sentences:  tensor(0.9186, device='cuda:0')\n"
     ]
    },
    {
     "name": "stderr",
     "output_type": "stream",
     "text": [
      "\r",
      " 19%|█▉        | 69/360 [01:07<04:39,  1.04it/s]"
     ]
    },
    {
     "name": "stdout",
     "output_type": "stream",
     "text": [
      "similarity of the two sentences:  tensor(0.5254, device='cuda:0')\n"
     ]
    },
    {
     "name": "stderr",
     "output_type": "stream",
     "text": [
      "\r",
      " 19%|█▉        | 70/360 [01:08<04:32,  1.07it/s]"
     ]
    },
    {
     "name": "stdout",
     "output_type": "stream",
     "text": [
      "similarity of the two sentences:  tensor(1., device='cuda:0')\n"
     ]
    },
    {
     "name": "stderr",
     "output_type": "stream",
     "text": [
      "\r",
      " 20%|█▉        | 71/360 [01:08<04:28,  1.08it/s]"
     ]
    },
    {
     "name": "stdout",
     "output_type": "stream",
     "text": [
      "similarity of the two sentences:  tensor(1.0000, device='cuda:0')\n"
     ]
    },
    {
     "name": "stderr",
     "output_type": "stream",
     "text": [
      "\r",
      " 20%|██        | 72/360 [01:09<04:26,  1.08it/s]"
     ]
    },
    {
     "name": "stdout",
     "output_type": "stream",
     "text": [
      "similarity of the two sentences:  tensor(0.9646, device='cuda:0')\n"
     ]
    },
    {
     "name": "stderr",
     "output_type": "stream",
     "text": [
      "\r",
      " 20%|██        | 73/360 [01:10<04:34,  1.05it/s]"
     ]
    },
    {
     "name": "stdout",
     "output_type": "stream",
     "text": [
      "similarity of the two sentences:  tensor(0.9349, device='cuda:0')\n"
     ]
    },
    {
     "name": "stderr",
     "output_type": "stream",
     "text": [
      "\r",
      " 21%|██        | 74/360 [01:11<04:35,  1.04it/s]"
     ]
    },
    {
     "name": "stdout",
     "output_type": "stream",
     "text": [
      "similarity of the two sentences:  tensor(0.9301, device='cuda:0')\n"
     ]
    },
    {
     "name": "stderr",
     "output_type": "stream",
     "text": [
      "\r",
      " 21%|██        | 75/360 [01:12<04:30,  1.05it/s]"
     ]
    },
    {
     "name": "stdout",
     "output_type": "stream",
     "text": [
      "similarity of the two sentences:  tensor(0.6124, device='cuda:0')\n"
     ]
    },
    {
     "name": "stderr",
     "output_type": "stream",
     "text": [
      "\r",
      " 21%|██        | 76/360 [01:13<04:27,  1.06it/s]"
     ]
    },
    {
     "name": "stdout",
     "output_type": "stream",
     "text": [
      "similarity of the two sentences:  tensor(0.8186, device='cuda:0')\n"
     ]
    },
    {
     "name": "stderr",
     "output_type": "stream",
     "text": [
      "\r",
      " 21%|██▏       | 77/360 [01:14<04:25,  1.06it/s]"
     ]
    },
    {
     "name": "stdout",
     "output_type": "stream",
     "text": [
      "similarity of the two sentences:  tensor(0.8178, device='cuda:0')\n"
     ]
    },
    {
     "name": "stderr",
     "output_type": "stream",
     "text": [
      "\r",
      " 22%|██▏       | 78/360 [01:15<04:24,  1.07it/s]"
     ]
    },
    {
     "name": "stdout",
     "output_type": "stream",
     "text": [
      "similarity of the two sentences:  tensor(1., device='cuda:0')\n"
     ]
    },
    {
     "name": "stderr",
     "output_type": "stream",
     "text": [
      "\r",
      " 22%|██▏       | 79/360 [01:16<04:22,  1.07it/s]"
     ]
    },
    {
     "name": "stdout",
     "output_type": "stream",
     "text": [
      "similarity of the two sentences:  tensor(0.0569, device='cuda:0')\n"
     ]
    },
    {
     "name": "stderr",
     "output_type": "stream",
     "text": [
      "\r",
      " 22%|██▏       | 80/360 [01:17<04:24,  1.06it/s]"
     ]
    },
    {
     "name": "stdout",
     "output_type": "stream",
     "text": [
      "similarity of the two sentences:  tensor(0.6810, device='cuda:0')\n"
     ]
    },
    {
     "name": "stderr",
     "output_type": "stream",
     "text": [
      "\r",
      " 22%|██▎       | 81/360 [01:18<04:22,  1.06it/s]"
     ]
    },
    {
     "name": "stdout",
     "output_type": "stream",
     "text": [
      "similarity of the two sentences:  tensor(0.9403, device='cuda:0')\n"
     ]
    },
    {
     "name": "stderr",
     "output_type": "stream",
     "text": [
      "\r",
      " 23%|██▎       | 82/360 [01:19<04:19,  1.07it/s]"
     ]
    },
    {
     "name": "stdout",
     "output_type": "stream",
     "text": [
      "similarity of the two sentences:  tensor(0.8857, device='cuda:0')\n"
     ]
    },
    {
     "name": "stderr",
     "output_type": "stream",
     "text": [
      "\r",
      " 23%|██▎       | 83/360 [01:20<04:20,  1.06it/s]"
     ]
    },
    {
     "name": "stdout",
     "output_type": "stream",
     "text": [
      "similarity of the two sentences:  tensor(1.0000, device='cuda:0')\n"
     ]
    },
    {
     "name": "stderr",
     "output_type": "stream",
     "text": [
      "\r",
      " 23%|██▎       | 84/360 [01:21<04:17,  1.07it/s]"
     ]
    },
    {
     "name": "stdout",
     "output_type": "stream",
     "text": [
      "similarity of the two sentences:  tensor(0.6443, device='cuda:0')\n"
     ]
    },
    {
     "name": "stderr",
     "output_type": "stream",
     "text": [
      "\r",
      " 24%|██▎       | 85/360 [01:22<04:15,  1.07it/s]"
     ]
    },
    {
     "name": "stdout",
     "output_type": "stream",
     "text": [
      "similarity of the two sentences:  tensor(0.4602, device='cuda:0')\n"
     ]
    },
    {
     "name": "stderr",
     "output_type": "stream",
     "text": [
      "\r",
      " 24%|██▍       | 86/360 [01:23<04:24,  1.03it/s]"
     ]
    },
    {
     "name": "stdout",
     "output_type": "stream",
     "text": [
      "similarity of the two sentences:  tensor(0.7451, device='cuda:0')\n"
     ]
    },
    {
     "name": "stderr",
     "output_type": "stream",
     "text": [
      "\r",
      " 24%|██▍       | 87/360 [01:24<04:19,  1.05it/s]"
     ]
    },
    {
     "name": "stdout",
     "output_type": "stream",
     "text": [
      "similarity of the two sentences:  tensor(0.8926, device='cuda:0')\n"
     ]
    },
    {
     "name": "stderr",
     "output_type": "stream",
     "text": [
      "\r",
      " 24%|██▍       | 88/360 [01:25<04:16,  1.06it/s]"
     ]
    },
    {
     "name": "stdout",
     "output_type": "stream",
     "text": [
      "similarity of the two sentences:  tensor(0.9869, device='cuda:0')\n"
     ]
    },
    {
     "name": "stderr",
     "output_type": "stream",
     "text": [
      "\r",
      " 25%|██▍       | 89/360 [01:26<04:20,  1.04it/s]"
     ]
    },
    {
     "name": "stdout",
     "output_type": "stream",
     "text": [
      "similarity of the two sentences:  tensor(0.1443, device='cuda:0')\n"
     ]
    },
    {
     "name": "stderr",
     "output_type": "stream",
     "text": [
      "\r",
      " 25%|██▌       | 90/360 [01:27<04:21,  1.03it/s]"
     ]
    },
    {
     "name": "stdout",
     "output_type": "stream",
     "text": [
      "similarity of the two sentences:  tensor(0.9345, device='cuda:0')\n"
     ]
    },
    {
     "name": "stderr",
     "output_type": "stream",
     "text": [
      "\r",
      " 25%|██▌       | 91/360 [01:28<04:19,  1.03it/s]"
     ]
    },
    {
     "name": "stdout",
     "output_type": "stream",
     "text": [
      "similarity of the two sentences:  tensor(0.8816, device='cuda:0')\n"
     ]
    },
    {
     "name": "stderr",
     "output_type": "stream",
     "text": [
      "\r",
      " 26%|██▌       | 92/360 [01:28<04:20,  1.03it/s]"
     ]
    },
    {
     "name": "stdout",
     "output_type": "stream",
     "text": [
      "similarity of the two sentences:  tensor(1., device='cuda:0')\n"
     ]
    },
    {
     "name": "stderr",
     "output_type": "stream",
     "text": [
      "\r",
      " 26%|██▌       | 93/360 [01:30<04:25,  1.00it/s]"
     ]
    },
    {
     "name": "stdout",
     "output_type": "stream",
     "text": [
      "similarity of the two sentences:  tensor(1.0000, device='cuda:0')\n"
     ]
    },
    {
     "name": "stderr",
     "output_type": "stream",
     "text": [
      "\r",
      " 26%|██▌       | 94/360 [01:30<04:20,  1.02it/s]"
     ]
    },
    {
     "name": "stdout",
     "output_type": "stream",
     "text": [
      "similarity of the two sentences:  tensor(0.9116, device='cuda:0')\n"
     ]
    },
    {
     "name": "stderr",
     "output_type": "stream",
     "text": [
      "\r",
      " 26%|██▋       | 95/360 [01:31<04:18,  1.03it/s]"
     ]
    },
    {
     "name": "stdout",
     "output_type": "stream",
     "text": [
      "similarity of the two sentences:  tensor(0.7341, device='cuda:0')\n"
     ]
    },
    {
     "name": "stderr",
     "output_type": "stream",
     "text": [
      "\r",
      " 27%|██▋       | 96/360 [01:32<04:14,  1.04it/s]"
     ]
    },
    {
     "name": "stdout",
     "output_type": "stream",
     "text": [
      "similarity of the two sentences:  tensor(0.8108, device='cuda:0')\n"
     ]
    },
    {
     "name": "stderr",
     "output_type": "stream",
     "text": [
      "\r",
      " 27%|██▋       | 97/360 [01:33<04:18,  1.02it/s]"
     ]
    },
    {
     "name": "stdout",
     "output_type": "stream",
     "text": [
      "similarity of the two sentences:  tensor(0.8331, device='cuda:0')\n"
     ]
    },
    {
     "name": "stderr",
     "output_type": "stream",
     "text": [
      "\r",
      " 27%|██▋       | 98/360 [01:34<04:14,  1.03it/s]"
     ]
    },
    {
     "name": "stdout",
     "output_type": "stream",
     "text": [
      "similarity of the two sentences:  tensor(1.0000, device='cuda:0')\n"
     ]
    },
    {
     "name": "stderr",
     "output_type": "stream",
     "text": [
      "\r",
      " 28%|██▊       | 99/360 [01:35<04:15,  1.02it/s]"
     ]
    },
    {
     "name": "stdout",
     "output_type": "stream",
     "text": [
      "similarity of the two sentences:  tensor(0.4370, device='cuda:0')\n"
     ]
    },
    {
     "name": "stderr",
     "output_type": "stream",
     "text": [
      "\r",
      " 28%|██▊       | 100/360 [01:36<04:11,  1.03it/s]"
     ]
    },
    {
     "name": "stdout",
     "output_type": "stream",
     "text": [
      "similarity of the two sentences:  tensor(0.9804, device='cuda:0')\n"
     ]
    },
    {
     "name": "stderr",
     "output_type": "stream",
     "text": [
      "\r",
      " 28%|██▊       | 101/360 [01:37<04:10,  1.03it/s]"
     ]
    },
    {
     "name": "stdout",
     "output_type": "stream",
     "text": [
      "similarity of the two sentences:  tensor(0.7244, device='cuda:0')\n"
     ]
    },
    {
     "name": "stderr",
     "output_type": "stream",
     "text": [
      "\r",
      " 28%|██▊       | 102/360 [01:38<04:07,  1.04it/s]"
     ]
    },
    {
     "name": "stdout",
     "output_type": "stream",
     "text": [
      "similarity of the two sentences:  tensor(0.7239, device='cuda:0')\n"
     ]
    },
    {
     "name": "stderr",
     "output_type": "stream",
     "text": [
      "\r",
      " 29%|██▊       | 103/360 [01:39<04:05,  1.05it/s]"
     ]
    },
    {
     "name": "stdout",
     "output_type": "stream",
     "text": [
      "similarity of the two sentences:  tensor(0.4076, device='cuda:0')\n"
     ]
    },
    {
     "name": "stderr",
     "output_type": "stream",
     "text": [
      "\r",
      " 29%|██▉       | 104/360 [01:40<04:02,  1.06it/s]"
     ]
    },
    {
     "name": "stdout",
     "output_type": "stream",
     "text": [
      "similarity of the two sentences:  tensor(1.0000, device='cuda:0')\n"
     ]
    },
    {
     "name": "stderr",
     "output_type": "stream",
     "text": [
      "\r",
      " 29%|██▉       | 105/360 [01:41<04:00,  1.06it/s]"
     ]
    },
    {
     "name": "stdout",
     "output_type": "stream",
     "text": [
      "similarity of the two sentences:  tensor(1.0000, device='cuda:0')\n"
     ]
    },
    {
     "name": "stderr",
     "output_type": "stream",
     "text": [
      "\r",
      " 29%|██▉       | 106/360 [01:42<04:03,  1.04it/s]"
     ]
    },
    {
     "name": "stdout",
     "output_type": "stream",
     "text": [
      "similarity of the two sentences:  tensor(0.8042, device='cuda:0')\n"
     ]
    },
    {
     "name": "stderr",
     "output_type": "stream",
     "text": [
      "\r",
      " 30%|██▉       | 107/360 [01:43<04:03,  1.04it/s]"
     ]
    },
    {
     "name": "stdout",
     "output_type": "stream",
     "text": [
      "similarity of the two sentences:  tensor(0.9926, device='cuda:0')\n"
     ]
    },
    {
     "name": "stderr",
     "output_type": "stream",
     "text": [
      "\r",
      " 30%|███       | 108/360 [01:44<03:58,  1.06it/s]"
     ]
    },
    {
     "name": "stdout",
     "output_type": "stream",
     "text": [
      "similarity of the two sentences:  tensor(0.9001, device='cuda:0')\n"
     ]
    },
    {
     "name": "stderr",
     "output_type": "stream",
     "text": [
      "\r",
      " 30%|███       | 109/360 [01:45<03:54,  1.07it/s]"
     ]
    },
    {
     "name": "stdout",
     "output_type": "stream",
     "text": [
      "similarity of the two sentences:  tensor(0.8652, device='cuda:0')\n"
     ]
    },
    {
     "name": "stderr",
     "output_type": "stream",
     "text": [
      "\r",
      " 31%|███       | 110/360 [01:46<03:52,  1.08it/s]"
     ]
    },
    {
     "name": "stdout",
     "output_type": "stream",
     "text": [
      "similarity of the two sentences:  tensor(0.9211, device='cuda:0')\n"
     ]
    },
    {
     "name": "stderr",
     "output_type": "stream",
     "text": [
      "\r",
      " 31%|███       | 111/360 [01:47<03:56,  1.05it/s]"
     ]
    },
    {
     "name": "stdout",
     "output_type": "stream",
     "text": [
      "similarity of the two sentences:  tensor(0.6753, device='cuda:0')\n"
     ]
    },
    {
     "name": "stderr",
     "output_type": "stream",
     "text": [
      "\r",
      " 31%|███       | 112/360 [01:48<03:53,  1.06it/s]"
     ]
    },
    {
     "name": "stdout",
     "output_type": "stream",
     "text": [
      "similarity of the two sentences:  tensor(0.8324, device='cuda:0')\n"
     ]
    },
    {
     "name": "stderr",
     "output_type": "stream",
     "text": [
      "\r",
      " 31%|███▏      | 113/360 [01:49<03:51,  1.07it/s]"
     ]
    },
    {
     "name": "stdout",
     "output_type": "stream",
     "text": [
      "similarity of the two sentences:  tensor(0.8993, device='cuda:0')\n"
     ]
    },
    {
     "name": "stderr",
     "output_type": "stream",
     "text": [
      "\r",
      " 32%|███▏      | 114/360 [01:49<03:47,  1.08it/s]"
     ]
    },
    {
     "name": "stdout",
     "output_type": "stream",
     "text": [
      "similarity of the two sentences:  tensor(0.6831, device='cuda:0')\n"
     ]
    },
    {
     "name": "stderr",
     "output_type": "stream",
     "text": [
      "\r",
      " 32%|███▏      | 115/360 [01:50<03:49,  1.07it/s]"
     ]
    },
    {
     "name": "stdout",
     "output_type": "stream",
     "text": [
      "similarity of the two sentences:  tensor(0.7266, device='cuda:0')\n"
     ]
    },
    {
     "name": "stderr",
     "output_type": "stream",
     "text": [
      "\r",
      " 32%|███▏      | 116/360 [01:51<03:54,  1.04it/s]"
     ]
    },
    {
     "name": "stdout",
     "output_type": "stream",
     "text": [
      "similarity of the two sentences:  tensor(0.8710, device='cuda:0')\n"
     ]
    },
    {
     "name": "stderr",
     "output_type": "stream",
     "text": [
      "\r",
      " 32%|███▎      | 117/360 [01:52<03:53,  1.04it/s]"
     ]
    },
    {
     "name": "stdout",
     "output_type": "stream",
     "text": [
      "similarity of the two sentences:  tensor(0.9361, device='cuda:0')\n"
     ]
    },
    {
     "name": "stderr",
     "output_type": "stream",
     "text": [
      "\r",
      " 33%|███▎      | 118/360 [01:53<03:49,  1.05it/s]"
     ]
    },
    {
     "name": "stdout",
     "output_type": "stream",
     "text": [
      "similarity of the two sentences:  tensor(0.7836, device='cuda:0')\n"
     ]
    },
    {
     "name": "stderr",
     "output_type": "stream",
     "text": [
      "\r",
      " 33%|███▎      | 119/360 [01:54<03:47,  1.06it/s]"
     ]
    },
    {
     "name": "stdout",
     "output_type": "stream",
     "text": [
      "similarity of the two sentences:  tensor(0.5268, device='cuda:0')\n"
     ]
    },
    {
     "name": "stderr",
     "output_type": "stream",
     "text": [
      "\r",
      " 33%|███▎      | 120/360 [01:55<03:47,  1.05it/s]"
     ]
    },
    {
     "name": "stdout",
     "output_type": "stream",
     "text": [
      "similarity of the two sentences:  tensor(1.0000, device='cuda:0')\n"
     ]
    },
    {
     "name": "stderr",
     "output_type": "stream",
     "text": [
      "\r",
      " 34%|███▎      | 121/360 [01:56<03:51,  1.03it/s]"
     ]
    },
    {
     "name": "stdout",
     "output_type": "stream",
     "text": [
      "similarity of the two sentences:  tensor(1.0000, device='cuda:0')\n"
     ]
    },
    {
     "name": "stderr",
     "output_type": "stream",
     "text": [
      "\r",
      " 34%|███▍      | 122/360 [01:57<03:49,  1.04it/s]"
     ]
    },
    {
     "name": "stdout",
     "output_type": "stream",
     "text": [
      "similarity of the two sentences:  tensor(0.8357, device='cuda:0')\n"
     ]
    },
    {
     "name": "stderr",
     "output_type": "stream",
     "text": [
      "\r",
      " 34%|███▍      | 123/360 [01:58<03:59,  1.01s/it]"
     ]
    },
    {
     "name": "stdout",
     "output_type": "stream",
     "text": [
      "similarity of the two sentences:  tensor(0.5283, device='cuda:0')\n"
     ]
    },
    {
     "name": "stderr",
     "output_type": "stream",
     "text": [
      "\r",
      " 34%|███▍      | 124/360 [01:59<03:54,  1.01it/s]"
     ]
    },
    {
     "name": "stdout",
     "output_type": "stream",
     "text": [
      "similarity of the two sentences:  tensor(0.9347, device='cuda:0')\n"
     ]
    },
    {
     "name": "stderr",
     "output_type": "stream",
     "text": [
      "\r",
      " 35%|███▍      | 125/360 [02:00<03:47,  1.03it/s]"
     ]
    },
    {
     "name": "stdout",
     "output_type": "stream",
     "text": [
      "similarity of the two sentences:  tensor(0.8938, device='cuda:0')\n"
     ]
    },
    {
     "name": "stderr",
     "output_type": "stream",
     "text": [
      "\r",
      " 35%|███▌      | 126/360 [02:01<03:52,  1.01it/s]"
     ]
    },
    {
     "name": "stdout",
     "output_type": "stream",
     "text": [
      "similarity of the two sentences:  tensor(0.6402, device='cuda:0')\n"
     ]
    },
    {
     "name": "stderr",
     "output_type": "stream",
     "text": [
      "\r",
      " 35%|███▌      | 127/360 [02:02<03:51,  1.01it/s]"
     ]
    },
    {
     "name": "stdout",
     "output_type": "stream",
     "text": [
      "similarity of the two sentences:  tensor(0.7594, device='cuda:0')\n"
     ]
    },
    {
     "name": "stderr",
     "output_type": "stream",
     "text": [
      "\r",
      " 36%|███▌      | 128/360 [02:03<03:46,  1.03it/s]"
     ]
    },
    {
     "name": "stdout",
     "output_type": "stream",
     "text": [
      "similarity of the two sentences:  tensor(0.9198, device='cuda:0')\n"
     ]
    },
    {
     "name": "stderr",
     "output_type": "stream",
     "text": [
      "\r",
      " 36%|███▌      | 129/360 [02:04<03:42,  1.04it/s]"
     ]
    },
    {
     "name": "stdout",
     "output_type": "stream",
     "text": [
      "similarity of the two sentences:  tensor(1., device='cuda:0')\n"
     ]
    },
    {
     "name": "stderr",
     "output_type": "stream",
     "text": [
      "\r",
      " 36%|███▌      | 130/360 [02:05<03:40,  1.04it/s]"
     ]
    },
    {
     "name": "stdout",
     "output_type": "stream",
     "text": [
      "similarity of the two sentences:  tensor(0.8870, device='cuda:0')\n"
     ]
    },
    {
     "name": "stderr",
     "output_type": "stream",
     "text": [
      "\r",
      " 36%|███▋      | 131/360 [02:06<03:40,  1.04it/s]"
     ]
    },
    {
     "name": "stdout",
     "output_type": "stream",
     "text": [
      "similarity of the two sentences:  tensor(0.9205, device='cuda:0')\n"
     ]
    },
    {
     "name": "stderr",
     "output_type": "stream",
     "text": [
      "\r",
      " 37%|███▋      | 132/360 [02:07<03:38,  1.04it/s]"
     ]
    },
    {
     "name": "stdout",
     "output_type": "stream",
     "text": [
      "similarity of the two sentences:  tensor(0.6448, device='cuda:0')\n"
     ]
    },
    {
     "name": "stderr",
     "output_type": "stream",
     "text": [
      "\r",
      " 37%|███▋      | 133/360 [02:08<03:38,  1.04it/s]"
     ]
    },
    {
     "name": "stdout",
     "output_type": "stream",
     "text": [
      "similarity of the two sentences:  tensor(0.5763, device='cuda:0')\n"
     ]
    },
    {
     "name": "stderr",
     "output_type": "stream",
     "text": [
      "\r",
      " 37%|███▋      | 134/360 [02:09<03:44,  1.01it/s]"
     ]
    },
    {
     "name": "stdout",
     "output_type": "stream",
     "text": [
      "similarity of the two sentences:  tensor(0.9382, device='cuda:0')\n"
     ]
    },
    {
     "name": "stderr",
     "output_type": "stream",
     "text": [
      "\r",
      " 38%|███▊      | 135/360 [02:10<03:39,  1.03it/s]"
     ]
    },
    {
     "name": "stdout",
     "output_type": "stream",
     "text": [
      "similarity of the two sentences:  tensor(0.7658, device='cuda:0')\n"
     ]
    },
    {
     "name": "stderr",
     "output_type": "stream",
     "text": [
      "\r",
      " 38%|███▊      | 136/360 [02:11<03:35,  1.04it/s]"
     ]
    },
    {
     "name": "stdout",
     "output_type": "stream",
     "text": [
      "similarity of the two sentences:  tensor(0.9410, device='cuda:0')\n"
     ]
    },
    {
     "name": "stderr",
     "output_type": "stream",
     "text": [
      "\r",
      " 38%|███▊      | 137/360 [02:12<03:37,  1.03it/s]"
     ]
    },
    {
     "name": "stdout",
     "output_type": "stream",
     "text": [
      "similarity of the two sentences:  tensor(0.8088, device='cuda:0')\n"
     ]
    },
    {
     "name": "stderr",
     "output_type": "stream",
     "text": [
      "\r",
      " 38%|███▊      | 138/360 [02:13<03:34,  1.04it/s]"
     ]
    },
    {
     "name": "stdout",
     "output_type": "stream",
     "text": [
      "similarity of the two sentences:  tensor(0.9689, device='cuda:0')\n"
     ]
    },
    {
     "name": "stderr",
     "output_type": "stream",
     "text": [
      "\r",
      " 39%|███▊      | 139/360 [02:14<03:30,  1.05it/s]"
     ]
    },
    {
     "name": "stdout",
     "output_type": "stream",
     "text": [
      "similarity of the two sentences:  tensor(0.6859, device='cuda:0')\n"
     ]
    },
    {
     "name": "stderr",
     "output_type": "stream",
     "text": [
      "\r",
      " 39%|███▉      | 140/360 [02:15<03:28,  1.05it/s]"
     ]
    },
    {
     "name": "stdout",
     "output_type": "stream",
     "text": [
      "similarity of the two sentences:  tensor(0.9479, device='cuda:0')\n"
     ]
    },
    {
     "name": "stderr",
     "output_type": "stream",
     "text": [
      "\r",
      " 39%|███▉      | 141/360 [02:16<03:25,  1.07it/s]"
     ]
    },
    {
     "name": "stdout",
     "output_type": "stream",
     "text": [
      "similarity of the two sentences:  tensor(0.8199, device='cuda:0')\n"
     ]
    },
    {
     "name": "stderr",
     "output_type": "stream",
     "text": [
      "\r",
      " 39%|███▉      | 142/360 [02:16<03:24,  1.07it/s]"
     ]
    },
    {
     "name": "stdout",
     "output_type": "stream",
     "text": [
      "similarity of the two sentences:  tensor(0.8532, device='cuda:0')\n"
     ]
    },
    {
     "name": "stderr",
     "output_type": "stream",
     "text": [
      "\r",
      " 40%|███▉      | 143/360 [02:17<03:22,  1.07it/s]"
     ]
    },
    {
     "name": "stdout",
     "output_type": "stream",
     "text": [
      "similarity of the two sentences:  tensor(0.9078, device='cuda:0')\n"
     ]
    },
    {
     "name": "stderr",
     "output_type": "stream",
     "text": [
      "\r",
      " 40%|████      | 144/360 [02:18<03:20,  1.08it/s]"
     ]
    },
    {
     "name": "stdout",
     "output_type": "stream",
     "text": [
      "similarity of the two sentences:  tensor(1., device='cuda:0')\n"
     ]
    },
    {
     "name": "stderr",
     "output_type": "stream",
     "text": [
      "\r",
      " 40%|████      | 145/360 [02:19<03:19,  1.08it/s]"
     ]
    },
    {
     "name": "stdout",
     "output_type": "stream",
     "text": [
      "similarity of the two sentences:  tensor(0.8316, device='cuda:0')\n"
     ]
    },
    {
     "name": "stderr",
     "output_type": "stream",
     "text": [
      "\r",
      " 41%|████      | 146/360 [02:20<03:23,  1.05it/s]"
     ]
    },
    {
     "name": "stdout",
     "output_type": "stream",
     "text": [
      "similarity of the two sentences:  tensor(0.8750, device='cuda:0')\n"
     ]
    },
    {
     "name": "stderr",
     "output_type": "stream",
     "text": [
      "\r",
      " 41%|████      | 147/360 [02:21<03:21,  1.06it/s]"
     ]
    },
    {
     "name": "stdout",
     "output_type": "stream",
     "text": [
      "similarity of the two sentences:  tensor(0.7752, device='cuda:0')\n"
     ]
    },
    {
     "name": "stderr",
     "output_type": "stream",
     "text": [
      "\r",
      " 41%|████      | 148/360 [02:22<03:19,  1.06it/s]"
     ]
    },
    {
     "name": "stdout",
     "output_type": "stream",
     "text": [
      "similarity of the two sentences:  tensor(0.8732, device='cuda:0')\n"
     ]
    },
    {
     "name": "stderr",
     "output_type": "stream",
     "text": [
      "\r",
      " 41%|████▏     | 149/360 [02:23<03:17,  1.07it/s]"
     ]
    },
    {
     "name": "stdout",
     "output_type": "stream",
     "text": [
      "similarity of the two sentences:  tensor(0.9138, device='cuda:0')\n"
     ]
    },
    {
     "name": "stderr",
     "output_type": "stream",
     "text": [
      "\r",
      " 42%|████▏     | 150/360 [02:24<03:16,  1.07it/s]"
     ]
    },
    {
     "name": "stdout",
     "output_type": "stream",
     "text": [
      "similarity of the two sentences:  tensor(1., device='cuda:0')\n"
     ]
    },
    {
     "name": "stderr",
     "output_type": "stream",
     "text": [
      "\r",
      " 42%|████▏     | 151/360 [02:25<03:14,  1.08it/s]"
     ]
    },
    {
     "name": "stdout",
     "output_type": "stream",
     "text": [
      "similarity of the two sentences:  tensor(0.7723, device='cuda:0')\n"
     ]
    },
    {
     "name": "stderr",
     "output_type": "stream",
     "text": [
      "\r",
      " 42%|████▏     | 152/360 [02:26<03:17,  1.05it/s]"
     ]
    },
    {
     "name": "stdout",
     "output_type": "stream",
     "text": [
      "similarity of the two sentences:  tensor(0.8754, device='cuda:0')\n"
     ]
    },
    {
     "name": "stderr",
     "output_type": "stream",
     "text": [
      "\r",
      " 42%|████▎     | 153/360 [02:27<03:19,  1.04it/s]"
     ]
    },
    {
     "name": "stdout",
     "output_type": "stream",
     "text": [
      "similarity of the two sentences:  tensor(0.7576, device='cuda:0')\n"
     ]
    },
    {
     "name": "stderr",
     "output_type": "stream",
     "text": [
      "\r",
      " 43%|████▎     | 154/360 [02:28<03:20,  1.03it/s]"
     ]
    },
    {
     "name": "stdout",
     "output_type": "stream",
     "text": [
      "similarity of the two sentences:  tensor(0.9478, device='cuda:0')\n"
     ]
    },
    {
     "name": "stderr",
     "output_type": "stream",
     "text": [
      "\r",
      " 43%|████▎     | 155/360 [02:29<03:18,  1.03it/s]"
     ]
    },
    {
     "name": "stdout",
     "output_type": "stream",
     "text": [
      "similarity of the two sentences:  tensor(0.9678, device='cuda:0')\n"
     ]
    },
    {
     "name": "stderr",
     "output_type": "stream",
     "text": [
      "\r",
      " 43%|████▎     | 156/360 [02:30<03:16,  1.04it/s]"
     ]
    },
    {
     "name": "stdout",
     "output_type": "stream",
     "text": [
      "similarity of the two sentences:  tensor(0.7361, device='cuda:0')\n"
     ]
    },
    {
     "name": "stderr",
     "output_type": "stream",
     "text": [
      "\r",
      " 44%|████▎     | 157/360 [02:31<03:19,  1.02it/s]"
     ]
    },
    {
     "name": "stdout",
     "output_type": "stream",
     "text": [
      "similarity of the two sentences:  tensor(0.7069, device='cuda:0')\n"
     ]
    },
    {
     "name": "stderr",
     "output_type": "stream",
     "text": [
      "\r",
      " 44%|████▍     | 158/360 [02:32<03:16,  1.03it/s]"
     ]
    },
    {
     "name": "stdout",
     "output_type": "stream",
     "text": [
      "similarity of the two sentences:  tensor(0.9514, device='cuda:0')\n"
     ]
    },
    {
     "name": "stderr",
     "output_type": "stream",
     "text": [
      "\r",
      " 44%|████▍     | 159/360 [02:33<03:12,  1.05it/s]"
     ]
    },
    {
     "name": "stdout",
     "output_type": "stream",
     "text": [
      "similarity of the two sentences:  tensor(0.5794, device='cuda:0')\n"
     ]
    },
    {
     "name": "stderr",
     "output_type": "stream",
     "text": [
      "\r",
      " 44%|████▍     | 160/360 [02:34<03:09,  1.06it/s]"
     ]
    },
    {
     "name": "stdout",
     "output_type": "stream",
     "text": [
      "similarity of the two sentences:  tensor(0.7145, device='cuda:0')\n"
     ]
    },
    {
     "name": "stderr",
     "output_type": "stream",
     "text": [
      "\r",
      " 45%|████▍     | 161/360 [02:35<03:06,  1.07it/s]"
     ]
    },
    {
     "name": "stdout",
     "output_type": "stream",
     "text": [
      "similarity of the two sentences:  tensor(0.3840, device='cuda:0')\n"
     ]
    },
    {
     "name": "stderr",
     "output_type": "stream",
     "text": [
      "\r",
      " 45%|████▌     | 162/360 [02:35<03:04,  1.07it/s]"
     ]
    },
    {
     "name": "stdout",
     "output_type": "stream",
     "text": [
      "similarity of the two sentences:  tensor(0.9723, device='cuda:0')\n"
     ]
    },
    {
     "name": "stderr",
     "output_type": "stream",
     "text": [
      "\r",
      " 45%|████▌     | 163/360 [02:36<03:03,  1.07it/s]"
     ]
    },
    {
     "name": "stdout",
     "output_type": "stream",
     "text": [
      "similarity of the two sentences:  tensor(0.6843, device='cuda:0')\n"
     ]
    },
    {
     "name": "stderr",
     "output_type": "stream",
     "text": [
      "\r",
      " 46%|████▌     | 164/360 [02:37<03:02,  1.08it/s]"
     ]
    },
    {
     "name": "stdout",
     "output_type": "stream",
     "text": [
      "similarity of the two sentences:  tensor(0.9705, device='cuda:0')\n"
     ]
    },
    {
     "name": "stderr",
     "output_type": "stream",
     "text": [
      "\r",
      " 46%|████▌     | 165/360 [02:38<03:01,  1.07it/s]"
     ]
    },
    {
     "name": "stdout",
     "output_type": "stream",
     "text": [
      "similarity of the two sentences:  tensor(0.8948, device='cuda:0')\n"
     ]
    },
    {
     "name": "stderr",
     "output_type": "stream",
     "text": [
      "\r",
      " 46%|████▌     | 166/360 [02:39<02:59,  1.08it/s]"
     ]
    },
    {
     "name": "stdout",
     "output_type": "stream",
     "text": [
      "similarity of the two sentences:  tensor(0.8431, device='cuda:0')\n"
     ]
    },
    {
     "name": "stderr",
     "output_type": "stream",
     "text": [
      "\r",
      " 46%|████▋     | 167/360 [02:40<02:59,  1.07it/s]"
     ]
    },
    {
     "name": "stdout",
     "output_type": "stream",
     "text": [
      "similarity of the two sentences:  tensor(0.6323, device='cuda:0')\n"
     ]
    },
    {
     "name": "stderr",
     "output_type": "stream",
     "text": [
      "\r",
      " 47%|████▋     | 168/360 [02:41<02:58,  1.07it/s]"
     ]
    },
    {
     "name": "stdout",
     "output_type": "stream",
     "text": [
      "similarity of the two sentences:  tensor(0.8165, device='cuda:0')\n"
     ]
    },
    {
     "name": "stderr",
     "output_type": "stream",
     "text": [
      "\r",
      " 47%|████▋     | 169/360 [02:42<02:57,  1.07it/s]"
     ]
    },
    {
     "name": "stdout",
     "output_type": "stream",
     "text": [
      "similarity of the two sentences:  tensor(0.9240, device='cuda:0')\n"
     ]
    },
    {
     "name": "stderr",
     "output_type": "stream",
     "text": [
      "\r",
      " 47%|████▋     | 170/360 [02:43<02:56,  1.07it/s]"
     ]
    },
    {
     "name": "stdout",
     "output_type": "stream",
     "text": [
      "similarity of the two sentences:  tensor(0.7626, device='cuda:0')\n"
     ]
    },
    {
     "name": "stderr",
     "output_type": "stream",
     "text": [
      "\r",
      " 48%|████▊     | 171/360 [02:44<03:00,  1.05it/s]"
     ]
    },
    {
     "name": "stdout",
     "output_type": "stream",
     "text": [
      "similarity of the two sentences:  tensor(1.0000, device='cuda:0')\n"
     ]
    },
    {
     "name": "stderr",
     "output_type": "stream",
     "text": [
      "\r",
      " 48%|████▊     | 172/360 [02:45<02:59,  1.05it/s]"
     ]
    },
    {
     "name": "stdout",
     "output_type": "stream",
     "text": [
      "similarity of the two sentences:  tensor(0.8460, device='cuda:0')\n"
     ]
    },
    {
     "name": "stderr",
     "output_type": "stream",
     "text": [
      "\r",
      " 48%|████▊     | 173/360 [02:46<02:55,  1.06it/s]"
     ]
    },
    {
     "name": "stdout",
     "output_type": "stream",
     "text": [
      "similarity of the two sentences:  tensor(0.8744, device='cuda:0')\n"
     ]
    },
    {
     "name": "stderr",
     "output_type": "stream",
     "text": [
      "\r",
      " 48%|████▊     | 174/360 [02:47<02:52,  1.08it/s]"
     ]
    },
    {
     "name": "stdout",
     "output_type": "stream",
     "text": [
      "similarity of the two sentences:  tensor(1., device='cuda:0')\n"
     ]
    },
    {
     "name": "stderr",
     "output_type": "stream",
     "text": [
      "\r",
      " 49%|████▊     | 175/360 [02:48<02:54,  1.06it/s]"
     ]
    },
    {
     "name": "stdout",
     "output_type": "stream",
     "text": [
      "similarity of the two sentences:  tensor(0.5734, device='cuda:0')\n"
     ]
    },
    {
     "name": "stderr",
     "output_type": "stream",
     "text": [
      "\r",
      " 49%|████▉     | 176/360 [02:49<02:52,  1.06it/s]"
     ]
    },
    {
     "name": "stdout",
     "output_type": "stream",
     "text": [
      "similarity of the two sentences:  tensor(0.7019, device='cuda:0')\n"
     ]
    },
    {
     "name": "stderr",
     "output_type": "stream",
     "text": [
      "\r",
      " 49%|████▉     | 177/360 [02:50<02:52,  1.06it/s]"
     ]
    },
    {
     "name": "stdout",
     "output_type": "stream",
     "text": [
      "similarity of the two sentences:  tensor(0.9945, device='cuda:0')\n"
     ]
    },
    {
     "name": "stderr",
     "output_type": "stream",
     "text": [
      "\r",
      " 49%|████▉     | 178/360 [02:50<02:49,  1.07it/s]"
     ]
    },
    {
     "name": "stdout",
     "output_type": "stream",
     "text": [
      "similarity of the two sentences:  tensor(0.8216, device='cuda:0')\n"
     ]
    },
    {
     "name": "stderr",
     "output_type": "stream",
     "text": [
      "\r",
      " 50%|████▉     | 179/360 [02:51<02:47,  1.08it/s]"
     ]
    },
    {
     "name": "stdout",
     "output_type": "stream",
     "text": [
      "similarity of the two sentences:  tensor(0.9776, device='cuda:0')\n"
     ]
    },
    {
     "name": "stderr",
     "output_type": "stream",
     "text": [
      "\r",
      " 50%|█████     | 180/360 [02:52<02:47,  1.08it/s]"
     ]
    },
    {
     "name": "stdout",
     "output_type": "stream",
     "text": [
      "similarity of the two sentences:  tensor(1.0000, device='cuda:0')\n"
     ]
    },
    {
     "name": "stderr",
     "output_type": "stream",
     "text": [
      "\r",
      " 50%|█████     | 181/360 [02:53<02:45,  1.08it/s]"
     ]
    },
    {
     "name": "stdout",
     "output_type": "stream",
     "text": [
      "similarity of the two sentences:  tensor(0.9052, device='cuda:0')\n"
     ]
    },
    {
     "name": "stderr",
     "output_type": "stream",
     "text": [
      "\r",
      " 51%|█████     | 182/360 [02:54<02:43,  1.09it/s]"
     ]
    },
    {
     "name": "stdout",
     "output_type": "stream",
     "text": [
      "similarity of the two sentences:  tensor(1., device='cuda:0')\n"
     ]
    },
    {
     "name": "stderr",
     "output_type": "stream",
     "text": [
      "\r",
      " 51%|█████     | 183/360 [02:55<02:41,  1.09it/s]"
     ]
    },
    {
     "name": "stdout",
     "output_type": "stream",
     "text": [
      "similarity of the two sentences:  tensor(0.9770, device='cuda:0')\n"
     ]
    },
    {
     "name": "stderr",
     "output_type": "stream",
     "text": [
      "\r",
      " 51%|█████     | 184/360 [02:56<02:44,  1.07it/s]"
     ]
    },
    {
     "name": "stdout",
     "output_type": "stream",
     "text": [
      "similarity of the two sentences:  tensor(0.7234, device='cuda:0')\n"
     ]
    },
    {
     "name": "stderr",
     "output_type": "stream",
     "text": [
      "\r",
      " 51%|█████▏    | 185/360 [02:57<02:46,  1.05it/s]"
     ]
    },
    {
     "name": "stdout",
     "output_type": "stream",
     "text": [
      "similarity of the two sentences:  tensor(1., device='cuda:0')\n"
     ]
    },
    {
     "name": "stderr",
     "output_type": "stream",
     "text": [
      "\r",
      " 52%|█████▏    | 186/360 [02:58<02:48,  1.03it/s]"
     ]
    },
    {
     "name": "stdout",
     "output_type": "stream",
     "text": [
      "similarity of the two sentences:  tensor(0.9454, device='cuda:0')\n"
     ]
    },
    {
     "name": "stderr",
     "output_type": "stream",
     "text": [
      "\r",
      " 52%|█████▏    | 187/360 [02:59<02:47,  1.03it/s]"
     ]
    },
    {
     "name": "stdout",
     "output_type": "stream",
     "text": [
      "similarity of the two sentences:  tensor(0.6747, device='cuda:0')\n"
     ]
    },
    {
     "name": "stderr",
     "output_type": "stream",
     "text": [
      "\r",
      " 52%|█████▏    | 188/360 [03:00<02:46,  1.04it/s]"
     ]
    },
    {
     "name": "stdout",
     "output_type": "stream",
     "text": [
      "similarity of the two sentences:  tensor(0.4565, device='cuda:0')\n"
     ]
    },
    {
     "name": "stderr",
     "output_type": "stream",
     "text": [
      "\r",
      " 52%|█████▎    | 189/360 [03:01<02:47,  1.02it/s]"
     ]
    },
    {
     "name": "stdout",
     "output_type": "stream",
     "text": [
      "similarity of the two sentences:  tensor(0.8660, device='cuda:0')\n"
     ]
    },
    {
     "name": "stderr",
     "output_type": "stream",
     "text": [
      "\r",
      " 53%|█████▎    | 190/360 [03:02<02:45,  1.03it/s]"
     ]
    },
    {
     "name": "stdout",
     "output_type": "stream",
     "text": [
      "similarity of the two sentences:  tensor(1.0000, device='cuda:0')\n"
     ]
    },
    {
     "name": "stderr",
     "output_type": "stream",
     "text": [
      "\r",
      " 53%|█████▎    | 191/360 [03:03<02:45,  1.02it/s]"
     ]
    },
    {
     "name": "stdout",
     "output_type": "stream",
     "text": [
      "similarity of the two sentences:  tensor(0.6120, device='cuda:0')\n"
     ]
    },
    {
     "name": "stderr",
     "output_type": "stream",
     "text": [
      "\r",
      " 53%|█████▎    | 192/360 [03:04<02:42,  1.03it/s]"
     ]
    },
    {
     "name": "stdout",
     "output_type": "stream",
     "text": [
      "similarity of the two sentences:  tensor(0.9770, device='cuda:0')\n"
     ]
    },
    {
     "name": "stderr",
     "output_type": "stream",
     "text": [
      "\r",
      " 54%|█████▎    | 193/360 [03:05<02:39,  1.05it/s]"
     ]
    },
    {
     "name": "stdout",
     "output_type": "stream",
     "text": [
      "similarity of the two sentences:  tensor(0.7466, device='cuda:0')\n"
     ]
    },
    {
     "name": "stderr",
     "output_type": "stream",
     "text": [
      "\r",
      " 54%|█████▍    | 194/360 [03:06<02:36,  1.06it/s]"
     ]
    },
    {
     "name": "stdout",
     "output_type": "stream",
     "text": [
      "similarity of the two sentences:  tensor(0.8550, device='cuda:0')\n"
     ]
    },
    {
     "name": "stderr",
     "output_type": "stream",
     "text": [
      "\r",
      " 54%|█████▍    | 195/360 [03:07<02:36,  1.05it/s]"
     ]
    },
    {
     "name": "stdout",
     "output_type": "stream",
     "text": [
      "similarity of the two sentences:  tensor(1.0000, device='cuda:0')\n"
     ]
    },
    {
     "name": "stderr",
     "output_type": "stream",
     "text": [
      "\r",
      " 54%|█████▍    | 196/360 [03:08<02:35,  1.05it/s]"
     ]
    },
    {
     "name": "stdout",
     "output_type": "stream",
     "text": [
      "similarity of the two sentences:  tensor(0.8975, device='cuda:0')\n"
     ]
    },
    {
     "name": "stderr",
     "output_type": "stream",
     "text": [
      "\r",
      " 55%|█████▍    | 197/360 [03:09<02:33,  1.06it/s]"
     ]
    },
    {
     "name": "stdout",
     "output_type": "stream",
     "text": [
      "similarity of the two sentences:  tensor(0.7358, device='cuda:0')\n"
     ]
    },
    {
     "name": "stderr",
     "output_type": "stream",
     "text": [
      "\r",
      " 55%|█████▌    | 198/360 [03:09<02:31,  1.07it/s]"
     ]
    },
    {
     "name": "stdout",
     "output_type": "stream",
     "text": [
      "similarity of the two sentences:  tensor(0.9063, device='cuda:0')\n"
     ]
    },
    {
     "name": "stderr",
     "output_type": "stream",
     "text": [
      "\r",
      " 55%|█████▌    | 199/360 [03:10<02:33,  1.05it/s]"
     ]
    },
    {
     "name": "stdout",
     "output_type": "stream",
     "text": [
      "similarity of the two sentences:  tensor(0.9746, device='cuda:0')\n"
     ]
    },
    {
     "name": "stderr",
     "output_type": "stream",
     "text": [
      "\r",
      " 56%|█████▌    | 200/360 [03:11<02:33,  1.04it/s]"
     ]
    },
    {
     "name": "stdout",
     "output_type": "stream",
     "text": [
      "similarity of the two sentences:  tensor(0.9751, device='cuda:0')\n"
     ]
    },
    {
     "name": "stderr",
     "output_type": "stream",
     "text": [
      "\r",
      " 56%|█████▌    | 201/360 [03:12<02:32,  1.04it/s]"
     ]
    },
    {
     "name": "stdout",
     "output_type": "stream",
     "text": [
      "similarity of the two sentences:  tensor(0.9878, device='cuda:0')\n"
     ]
    },
    {
     "name": "stderr",
     "output_type": "stream",
     "text": [
      "\r",
      " 56%|█████▌    | 202/360 [03:13<02:36,  1.01it/s]"
     ]
    },
    {
     "name": "stdout",
     "output_type": "stream",
     "text": [
      "similarity of the two sentences:  tensor(0.9242, device='cuda:0')\n"
     ]
    },
    {
     "name": "stderr",
     "output_type": "stream",
     "text": [
      "\r",
      " 56%|█████▋    | 203/360 [03:14<02:33,  1.02it/s]"
     ]
    },
    {
     "name": "stdout",
     "output_type": "stream",
     "text": [
      "similarity of the two sentences:  tensor(0.9172, device='cuda:0')\n"
     ]
    },
    {
     "name": "stderr",
     "output_type": "stream",
     "text": [
      "\r",
      " 57%|█████▋    | 204/360 [03:15<02:33,  1.02it/s]"
     ]
    },
    {
     "name": "stdout",
     "output_type": "stream",
     "text": [
      "similarity of the two sentences:  tensor(0.7739, device='cuda:0')\n"
     ]
    },
    {
     "name": "stderr",
     "output_type": "stream",
     "text": [
      "\r",
      " 57%|█████▋    | 205/360 [03:16<02:33,  1.01it/s]"
     ]
    },
    {
     "name": "stdout",
     "output_type": "stream",
     "text": [
      "similarity of the two sentences:  tensor(0.5745, device='cuda:0')\n"
     ]
    },
    {
     "name": "stderr",
     "output_type": "stream",
     "text": [
      "\r",
      " 57%|█████▋    | 206/360 [03:17<02:33,  1.00it/s]"
     ]
    },
    {
     "name": "stdout",
     "output_type": "stream",
     "text": [
      "similarity of the two sentences:  tensor(0.8634, device='cuda:0')\n"
     ]
    },
    {
     "name": "stderr",
     "output_type": "stream",
     "text": [
      "\r",
      " 57%|█████▊    | 207/360 [03:18<02:28,  1.03it/s]"
     ]
    },
    {
     "name": "stdout",
     "output_type": "stream",
     "text": [
      "similarity of the two sentences:  tensor(0.8665, device='cuda:0')\n"
     ]
    },
    {
     "name": "stderr",
     "output_type": "stream",
     "text": [
      "\r",
      " 58%|█████▊    | 208/360 [03:19<02:25,  1.04it/s]"
     ]
    },
    {
     "name": "stdout",
     "output_type": "stream",
     "text": [
      "similarity of the two sentences:  tensor(1.0000, device='cuda:0')\n"
     ]
    },
    {
     "name": "stderr",
     "output_type": "stream",
     "text": [
      "\r",
      " 58%|█████▊    | 209/360 [03:20<02:22,  1.06it/s]"
     ]
    },
    {
     "name": "stdout",
     "output_type": "stream",
     "text": [
      "similarity of the two sentences:  tensor(0.9927, device='cuda:0')\n"
     ]
    },
    {
     "name": "stderr",
     "output_type": "stream",
     "text": [
      "\r",
      " 58%|█████▊    | 210/360 [03:21<02:20,  1.07it/s]"
     ]
    },
    {
     "name": "stdout",
     "output_type": "stream",
     "text": [
      "similarity of the two sentences:  tensor(0.9493, device='cuda:0')\n"
     ]
    },
    {
     "name": "stderr",
     "output_type": "stream",
     "text": [
      "\r",
      " 59%|█████▊    | 211/360 [03:22<02:18,  1.08it/s]"
     ]
    },
    {
     "name": "stdout",
     "output_type": "stream",
     "text": [
      "similarity of the two sentences:  tensor(1., device='cuda:0')\n"
     ]
    },
    {
     "name": "stderr",
     "output_type": "stream",
     "text": [
      "\r",
      " 59%|█████▉    | 212/360 [03:23<02:20,  1.05it/s]"
     ]
    },
    {
     "name": "stdout",
     "output_type": "stream",
     "text": [
      "similarity of the two sentences:  tensor(0.7144, device='cuda:0')\n"
     ]
    },
    {
     "name": "stderr",
     "output_type": "stream",
     "text": [
      "\r",
      " 59%|█████▉    | 213/360 [03:24<02:22,  1.03it/s]"
     ]
    },
    {
     "name": "stdout",
     "output_type": "stream",
     "text": [
      "similarity of the two sentences:  tensor(0.7400, device='cuda:0')\n"
     ]
    },
    {
     "name": "stderr",
     "output_type": "stream",
     "text": [
      "\r",
      " 59%|█████▉    | 214/360 [03:25<02:22,  1.02it/s]"
     ]
    },
    {
     "name": "stdout",
     "output_type": "stream",
     "text": [
      "similarity of the two sentences:  tensor(0.9848, device='cuda:0')\n"
     ]
    },
    {
     "name": "stderr",
     "output_type": "stream",
     "text": [
      "\r",
      " 60%|█████▉    | 215/360 [03:26<02:18,  1.05it/s]"
     ]
    },
    {
     "name": "stdout",
     "output_type": "stream",
     "text": [
      "similarity of the two sentences:  tensor(0.8248, device='cuda:0')\n"
     ]
    },
    {
     "name": "stderr",
     "output_type": "stream",
     "text": [
      "\r",
      " 60%|██████    | 216/360 [03:27<02:15,  1.06it/s]"
     ]
    },
    {
     "name": "stdout",
     "output_type": "stream",
     "text": [
      "similarity of the two sentences:  tensor(0.9811, device='cuda:0')\n"
     ]
    },
    {
     "name": "stderr",
     "output_type": "stream",
     "text": [
      "\r",
      " 60%|██████    | 217/360 [03:28<02:13,  1.07it/s]"
     ]
    },
    {
     "name": "stdout",
     "output_type": "stream",
     "text": [
      "similarity of the two sentences:  tensor(1.0000, device='cuda:0')\n"
     ]
    },
    {
     "name": "stderr",
     "output_type": "stream",
     "text": [
      "\r",
      " 61%|██████    | 218/360 [03:29<02:12,  1.07it/s]"
     ]
    },
    {
     "name": "stdout",
     "output_type": "stream",
     "text": [
      "similarity of the two sentences:  tensor(0.9086, device='cuda:0')\n"
     ]
    },
    {
     "name": "stderr",
     "output_type": "stream",
     "text": [
      "\r",
      " 61%|██████    | 219/360 [03:30<02:11,  1.07it/s]"
     ]
    },
    {
     "name": "stdout",
     "output_type": "stream",
     "text": [
      "similarity of the two sentences:  tensor(0.9381, device='cuda:0')\n"
     ]
    },
    {
     "name": "stderr",
     "output_type": "stream",
     "text": [
      "\r",
      " 61%|██████    | 220/360 [03:31<02:11,  1.07it/s]"
     ]
    },
    {
     "name": "stdout",
     "output_type": "stream",
     "text": [
      "similarity of the two sentences:  tensor(0.9603, device='cuda:0')\n"
     ]
    },
    {
     "name": "stderr",
     "output_type": "stream",
     "text": [
      "\r",
      " 61%|██████▏   | 221/360 [03:31<02:09,  1.07it/s]"
     ]
    },
    {
     "name": "stdout",
     "output_type": "stream",
     "text": [
      "similarity of the two sentences:  tensor(0.8656, device='cuda:0')\n"
     ]
    },
    {
     "name": "stderr",
     "output_type": "stream",
     "text": [
      "\r",
      " 62%|██████▏   | 222/360 [03:32<02:08,  1.07it/s]"
     ]
    },
    {
     "name": "stdout",
     "output_type": "stream",
     "text": [
      "similarity of the two sentences:  tensor(0.7968, device='cuda:0')\n"
     ]
    },
    {
     "name": "stderr",
     "output_type": "stream",
     "text": [
      "\r",
      " 62%|██████▏   | 223/360 [03:33<02:07,  1.07it/s]"
     ]
    },
    {
     "name": "stdout",
     "output_type": "stream",
     "text": [
      "similarity of the two sentences:  tensor(0.7219, device='cuda:0')\n"
     ]
    },
    {
     "name": "stderr",
     "output_type": "stream",
     "text": [
      "\r",
      " 62%|██████▏   | 224/360 [03:34<02:06,  1.07it/s]"
     ]
    },
    {
     "name": "stdout",
     "output_type": "stream",
     "text": [
      "similarity of the two sentences:  tensor(0.4987, device='cuda:0')\n"
     ]
    },
    {
     "name": "stderr",
     "output_type": "stream",
     "text": [
      "\r",
      " 62%|██████▎   | 225/360 [03:35<02:05,  1.08it/s]"
     ]
    },
    {
     "name": "stdout",
     "output_type": "stream",
     "text": [
      "similarity of the two sentences:  tensor(0.8718, device='cuda:0')\n"
     ]
    },
    {
     "name": "stderr",
     "output_type": "stream",
     "text": [
      "\r",
      " 63%|██████▎   | 226/360 [03:36<02:04,  1.08it/s]"
     ]
    },
    {
     "name": "stdout",
     "output_type": "stream",
     "text": [
      "similarity of the two sentences:  tensor(0.9102, device='cuda:0')\n"
     ]
    },
    {
     "name": "stderr",
     "output_type": "stream",
     "text": [
      "\r",
      " 63%|██████▎   | 227/360 [03:37<02:02,  1.09it/s]"
     ]
    },
    {
     "name": "stdout",
     "output_type": "stream",
     "text": [
      "similarity of the two sentences:  tensor(0.8807, device='cuda:0')\n"
     ]
    },
    {
     "name": "stderr",
     "output_type": "stream",
     "text": [
      "\r",
      " 63%|██████▎   | 228/360 [03:38<02:01,  1.09it/s]"
     ]
    },
    {
     "name": "stdout",
     "output_type": "stream",
     "text": [
      "similarity of the two sentences:  tensor(0.7586, device='cuda:0')\n"
     ]
    },
    {
     "name": "stderr",
     "output_type": "stream",
     "text": [
      "\r",
      " 64%|██████▎   | 229/360 [03:39<02:00,  1.09it/s]"
     ]
    },
    {
     "name": "stdout",
     "output_type": "stream",
     "text": [
      "similarity of the two sentences:  tensor(1.0000, device='cuda:0')\n"
     ]
    },
    {
     "name": "stderr",
     "output_type": "stream",
     "text": [
      "\r",
      " 64%|██████▍   | 230/360 [03:40<01:59,  1.09it/s]"
     ]
    },
    {
     "name": "stdout",
     "output_type": "stream",
     "text": [
      "similarity of the two sentences:  tensor(0.8568, device='cuda:0')\n"
     ]
    },
    {
     "name": "stderr",
     "output_type": "stream",
     "text": [
      "\r",
      " 64%|██████▍   | 231/360 [03:41<01:58,  1.09it/s]"
     ]
    },
    {
     "name": "stdout",
     "output_type": "stream",
     "text": [
      "similarity of the two sentences:  tensor(0.7833, device='cuda:0')\n"
     ]
    },
    {
     "name": "stderr",
     "output_type": "stream",
     "text": [
      "\r",
      " 64%|██████▍   | 232/360 [03:42<01:57,  1.09it/s]"
     ]
    },
    {
     "name": "stdout",
     "output_type": "stream",
     "text": [
      "similarity of the two sentences:  tensor(0.7081, device='cuda:0')\n"
     ]
    },
    {
     "name": "stderr",
     "output_type": "stream",
     "text": [
      "\r",
      " 65%|██████▍   | 233/360 [03:42<01:56,  1.09it/s]"
     ]
    },
    {
     "name": "stdout",
     "output_type": "stream",
     "text": [
      "similarity of the two sentences:  tensor(0.8665, device='cuda:0')\n"
     ]
    },
    {
     "name": "stderr",
     "output_type": "stream",
     "text": [
      "\r",
      " 65%|██████▌   | 234/360 [03:43<01:55,  1.09it/s]"
     ]
    },
    {
     "name": "stdout",
     "output_type": "stream",
     "text": [
      "similarity of the two sentences:  tensor(0.9900, device='cuda:0')\n"
     ]
    },
    {
     "name": "stderr",
     "output_type": "stream",
     "text": [
      "\r",
      " 65%|██████▌   | 235/360 [03:44<01:55,  1.08it/s]"
     ]
    },
    {
     "name": "stdout",
     "output_type": "stream",
     "text": [
      "similarity of the two sentences:  tensor(0.8043, device='cuda:0')\n"
     ]
    },
    {
     "name": "stderr",
     "output_type": "stream",
     "text": [
      "\r",
      " 66%|██████▌   | 236/360 [03:45<01:56,  1.07it/s]"
     ]
    },
    {
     "name": "stdout",
     "output_type": "stream",
     "text": [
      "similarity of the two sentences:  tensor(0.8876, device='cuda:0')\n"
     ]
    },
    {
     "name": "stderr",
     "output_type": "stream",
     "text": [
      "\r",
      " 66%|██████▌   | 237/360 [03:46<01:56,  1.06it/s]"
     ]
    },
    {
     "name": "stdout",
     "output_type": "stream",
     "text": [
      "similarity of the two sentences:  tensor(0.9483, device='cuda:0')\n"
     ]
    },
    {
     "name": "stderr",
     "output_type": "stream",
     "text": [
      "\r",
      " 66%|██████▌   | 238/360 [03:47<01:56,  1.04it/s]"
     ]
    },
    {
     "name": "stdout",
     "output_type": "stream",
     "text": [
      "similarity of the two sentences:  tensor(0.5093, device='cuda:0')\n"
     ]
    },
    {
     "name": "stderr",
     "output_type": "stream",
     "text": [
      "\r",
      " 66%|██████▋   | 239/360 [03:48<01:56,  1.04it/s]"
     ]
    },
    {
     "name": "stdout",
     "output_type": "stream",
     "text": [
      "similarity of the two sentences:  tensor(0.9769, device='cuda:0')\n"
     ]
    },
    {
     "name": "stderr",
     "output_type": "stream",
     "text": [
      "\r",
      " 67%|██████▋   | 240/360 [03:49<01:54,  1.05it/s]"
     ]
    },
    {
     "name": "stdout",
     "output_type": "stream",
     "text": [
      "similarity of the two sentences:  tensor(1.0000, device='cuda:0')\n"
     ]
    },
    {
     "name": "stderr",
     "output_type": "stream",
     "text": [
      "\r",
      " 67%|██████▋   | 241/360 [03:50<01:52,  1.06it/s]"
     ]
    },
    {
     "name": "stdout",
     "output_type": "stream",
     "text": [
      "similarity of the two sentences:  tensor(0.9929, device='cuda:0')\n"
     ]
    },
    {
     "name": "stderr",
     "output_type": "stream",
     "text": [
      "\r",
      " 67%|██████▋   | 242/360 [03:51<01:51,  1.06it/s]"
     ]
    },
    {
     "name": "stdout",
     "output_type": "stream",
     "text": [
      "similarity of the two sentences:  tensor(0.8197, device='cuda:0')\n"
     ]
    },
    {
     "name": "stderr",
     "output_type": "stream",
     "text": [
      "\r",
      " 68%|██████▊   | 243/360 [03:52<01:49,  1.07it/s]"
     ]
    },
    {
     "name": "stdout",
     "output_type": "stream",
     "text": [
      "similarity of the two sentences:  tensor(0.5226, device='cuda:0')\n"
     ]
    },
    {
     "name": "stderr",
     "output_type": "stream",
     "text": [
      "\r",
      " 68%|██████▊   | 244/360 [03:53<01:47,  1.08it/s]"
     ]
    },
    {
     "name": "stdout",
     "output_type": "stream",
     "text": [
      "similarity of the two sentences:  tensor(0.8783, device='cuda:0')\n"
     ]
    },
    {
     "name": "stderr",
     "output_type": "stream",
     "text": [
      "\r",
      " 68%|██████▊   | 245/360 [03:54<01:51,  1.03it/s]"
     ]
    },
    {
     "name": "stdout",
     "output_type": "stream",
     "text": [
      "similarity of the two sentences:  tensor(0.9932, device='cuda:0')\n"
     ]
    },
    {
     "name": "stderr",
     "output_type": "stream",
     "text": [
      "\r",
      " 68%|██████▊   | 246/360 [03:55<01:50,  1.03it/s]"
     ]
    },
    {
     "name": "stdout",
     "output_type": "stream",
     "text": [
      "similarity of the two sentences:  tensor(0.9802, device='cuda:0')\n"
     ]
    },
    {
     "name": "stderr",
     "output_type": "stream",
     "text": [
      "\r",
      " 69%|██████▊   | 247/360 [03:56<01:49,  1.03it/s]"
     ]
    },
    {
     "name": "stdout",
     "output_type": "stream",
     "text": [
      "similarity of the two sentences:  tensor(0.9599, device='cuda:0')\n"
     ]
    },
    {
     "name": "stderr",
     "output_type": "stream",
     "text": [
      "\r",
      " 69%|██████▉   | 248/360 [03:57<01:50,  1.01it/s]"
     ]
    },
    {
     "name": "stdout",
     "output_type": "stream",
     "text": [
      "similarity of the two sentences:  tensor(0.9226, device='cuda:0')\n"
     ]
    },
    {
     "name": "stderr",
     "output_type": "stream",
     "text": [
      "\r",
      " 69%|██████▉   | 249/360 [03:58<01:52,  1.01s/it]"
     ]
    },
    {
     "name": "stdout",
     "output_type": "stream",
     "text": [
      "similarity of the two sentences:  tensor(0.8462, device='cuda:0')\n"
     ]
    },
    {
     "name": "stderr",
     "output_type": "stream",
     "text": [
      "\r",
      " 69%|██████▉   | 250/360 [03:59<01:49,  1.00it/s]"
     ]
    },
    {
     "name": "stdout",
     "output_type": "stream",
     "text": [
      "similarity of the two sentences:  tensor(0.9541, device='cuda:0')\n"
     ]
    },
    {
     "name": "stderr",
     "output_type": "stream",
     "text": [
      "\r",
      " 70%|██████▉   | 251/360 [04:00<01:46,  1.02it/s]"
     ]
    },
    {
     "name": "stdout",
     "output_type": "stream",
     "text": [
      "similarity of the two sentences:  tensor(0.8471, device='cuda:0')\n"
     ]
    },
    {
     "name": "stderr",
     "output_type": "stream",
     "text": [
      "\r",
      " 70%|███████   | 252/360 [04:01<01:44,  1.03it/s]"
     ]
    },
    {
     "name": "stdout",
     "output_type": "stream",
     "text": [
      "similarity of the two sentences:  tensor(0.8721, device='cuda:0')\n"
     ]
    },
    {
     "name": "stderr",
     "output_type": "stream",
     "text": [
      "\r",
      " 70%|███████   | 253/360 [04:02<01:42,  1.04it/s]"
     ]
    },
    {
     "name": "stdout",
     "output_type": "stream",
     "text": [
      "similarity of the two sentences:  tensor(1.0000, device='cuda:0')\n"
     ]
    },
    {
     "name": "stderr",
     "output_type": "stream",
     "text": [
      "\r",
      " 71%|███████   | 254/360 [04:03<01:41,  1.05it/s]"
     ]
    },
    {
     "name": "stdout",
     "output_type": "stream",
     "text": [
      "similarity of the two sentences:  tensor(0.9235, device='cuda:0')\n"
     ]
    },
    {
     "name": "stderr",
     "output_type": "stream",
     "text": [
      "\r",
      " 71%|███████   | 255/360 [04:04<01:39,  1.05it/s]"
     ]
    },
    {
     "name": "stdout",
     "output_type": "stream",
     "text": [
      "similarity of the two sentences:  tensor(0.8136, device='cuda:0')\n"
     ]
    },
    {
     "name": "stderr",
     "output_type": "stream",
     "text": [
      "\r",
      " 71%|███████   | 256/360 [04:05<01:38,  1.06it/s]"
     ]
    },
    {
     "name": "stdout",
     "output_type": "stream",
     "text": [
      "similarity of the two sentences:  tensor(0.7821, device='cuda:0')\n"
     ]
    },
    {
     "name": "stderr",
     "output_type": "stream",
     "text": [
      "\r",
      " 71%|███████▏  | 257/360 [04:06<01:37,  1.06it/s]"
     ]
    },
    {
     "name": "stdout",
     "output_type": "stream",
     "text": [
      "similarity of the two sentences:  tensor(0.7573, device='cuda:0')\n"
     ]
    },
    {
     "name": "stderr",
     "output_type": "stream",
     "text": [
      "\r",
      " 72%|███████▏  | 258/360 [04:06<01:35,  1.07it/s]"
     ]
    },
    {
     "name": "stdout",
     "output_type": "stream",
     "text": [
      "similarity of the two sentences:  tensor(0.6455, device='cuda:0')\n"
     ]
    },
    {
     "name": "stderr",
     "output_type": "stream",
     "text": [
      "\r",
      " 72%|███████▏  | 259/360 [04:07<01:33,  1.08it/s]"
     ]
    },
    {
     "name": "stdout",
     "output_type": "stream",
     "text": [
      "similarity of the two sentences:  tensor(0.3526, device='cuda:0')\n"
     ]
    },
    {
     "name": "stderr",
     "output_type": "stream",
     "text": [
      "\r",
      " 72%|███████▏  | 260/360 [04:08<01:32,  1.08it/s]"
     ]
    },
    {
     "name": "stdout",
     "output_type": "stream",
     "text": [
      "similarity of the two sentences:  tensor(0.9460, device='cuda:0')\n"
     ]
    },
    {
     "name": "stderr",
     "output_type": "stream",
     "text": [
      "\r",
      " 72%|███████▎  | 261/360 [04:09<01:31,  1.08it/s]"
     ]
    },
    {
     "name": "stdout",
     "output_type": "stream",
     "text": [
      "similarity of the two sentences:  tensor(0.8069, device='cuda:0')\n"
     ]
    },
    {
     "name": "stderr",
     "output_type": "stream",
     "text": [
      "\r",
      " 73%|███████▎  | 262/360 [04:10<01:30,  1.08it/s]"
     ]
    },
    {
     "name": "stdout",
     "output_type": "stream",
     "text": [
      "similarity of the two sentences:  tensor(0.9415, device='cuda:0')\n"
     ]
    },
    {
     "name": "stderr",
     "output_type": "stream",
     "text": [
      "\r",
      " 73%|███████▎  | 263/360 [04:11<01:30,  1.07it/s]"
     ]
    },
    {
     "name": "stdout",
     "output_type": "stream",
     "text": [
      "similarity of the two sentences:  tensor(0.9779, device='cuda:0')\n"
     ]
    },
    {
     "name": "stderr",
     "output_type": "stream",
     "text": [
      "\r",
      " 73%|███████▎  | 264/360 [04:12<01:29,  1.08it/s]"
     ]
    },
    {
     "name": "stdout",
     "output_type": "stream",
     "text": [
      "similarity of the two sentences:  tensor(0.9055, device='cuda:0')\n"
     ]
    },
    {
     "name": "stderr",
     "output_type": "stream",
     "text": [
      "\r",
      " 74%|███████▎  | 265/360 [04:13<01:29,  1.07it/s]"
     ]
    },
    {
     "name": "stdout",
     "output_type": "stream",
     "text": [
      "similarity of the two sentences:  tensor(0.7862, device='cuda:0')\n"
     ]
    },
    {
     "name": "stderr",
     "output_type": "stream",
     "text": [
      "\r",
      " 74%|███████▍  | 266/360 [04:14<01:30,  1.03it/s]"
     ]
    },
    {
     "name": "stdout",
     "output_type": "stream",
     "text": [
      "similarity of the two sentences:  tensor(1.0000, device='cuda:0')\n"
     ]
    },
    {
     "name": "stderr",
     "output_type": "stream",
     "text": [
      "\r",
      " 74%|███████▍  | 267/360 [04:15<01:29,  1.04it/s]"
     ]
    },
    {
     "name": "stdout",
     "output_type": "stream",
     "text": [
      "similarity of the two sentences:  tensor(0.2623, device='cuda:0')\n"
     ]
    },
    {
     "name": "stderr",
     "output_type": "stream",
     "text": [
      "\r",
      " 74%|███████▍  | 268/360 [04:16<01:27,  1.05it/s]"
     ]
    },
    {
     "name": "stdout",
     "output_type": "stream",
     "text": [
      "similarity of the two sentences:  tensor(0.9129, device='cuda:0')\n"
     ]
    },
    {
     "name": "stderr",
     "output_type": "stream",
     "text": [
      "\r",
      " 75%|███████▍  | 269/360 [04:17<01:25,  1.06it/s]"
     ]
    },
    {
     "name": "stdout",
     "output_type": "stream",
     "text": [
      "similarity of the two sentences:  tensor(0.9799, device='cuda:0')\n"
     ]
    },
    {
     "name": "stderr",
     "output_type": "stream",
     "text": [
      "\r",
      " 75%|███████▌  | 270/360 [04:18<01:24,  1.07it/s]"
     ]
    },
    {
     "name": "stdout",
     "output_type": "stream",
     "text": [
      "similarity of the two sentences:  tensor(0.7532, device='cuda:0')\n"
     ]
    },
    {
     "name": "stderr",
     "output_type": "stream",
     "text": [
      "\r",
      " 75%|███████▌  | 271/360 [04:19<01:22,  1.07it/s]"
     ]
    },
    {
     "name": "stdout",
     "output_type": "stream",
     "text": [
      "similarity of the two sentences:  tensor(0.6826, device='cuda:0')\n"
     ]
    },
    {
     "name": "stderr",
     "output_type": "stream",
     "text": [
      "\r",
      " 76%|███████▌  | 272/360 [04:20<01:21,  1.07it/s]"
     ]
    },
    {
     "name": "stdout",
     "output_type": "stream",
     "text": [
      "similarity of the two sentences:  tensor(0.7775, device='cuda:0')\n"
     ]
    },
    {
     "name": "stderr",
     "output_type": "stream",
     "text": [
      "\r",
      " 76%|███████▌  | 273/360 [04:20<01:20,  1.07it/s]"
     ]
    },
    {
     "name": "stdout",
     "output_type": "stream",
     "text": [
      "similarity of the two sentences:  tensor(0.9209, device='cuda:0')\n"
     ]
    },
    {
     "name": "stderr",
     "output_type": "stream",
     "text": [
      "\r",
      " 76%|███████▌  | 274/360 [04:21<01:19,  1.08it/s]"
     ]
    },
    {
     "name": "stdout",
     "output_type": "stream",
     "text": [
      "similarity of the two sentences:  tensor(0.8642, device='cuda:0')\n"
     ]
    },
    {
     "name": "stderr",
     "output_type": "stream",
     "text": [
      "\r",
      " 76%|███████▋  | 275/360 [04:22<01:20,  1.06it/s]"
     ]
    },
    {
     "name": "stdout",
     "output_type": "stream",
     "text": [
      "similarity of the two sentences:  tensor(0.7018, device='cuda:0')\n"
     ]
    },
    {
     "name": "stderr",
     "output_type": "stream",
     "text": [
      "\r",
      " 77%|███████▋  | 276/360 [04:23<01:18,  1.07it/s]"
     ]
    },
    {
     "name": "stdout",
     "output_type": "stream",
     "text": [
      "similarity of the two sentences:  tensor(0.8547, device='cuda:0')\n"
     ]
    },
    {
     "name": "stderr",
     "output_type": "stream",
     "text": [
      "\r",
      " 77%|███████▋  | 277/360 [04:24<01:16,  1.08it/s]"
     ]
    },
    {
     "name": "stdout",
     "output_type": "stream",
     "text": [
      "similarity of the two sentences:  tensor(0.7175, device='cuda:0')\n"
     ]
    },
    {
     "name": "stderr",
     "output_type": "stream",
     "text": [
      "\r",
      " 77%|███████▋  | 278/360 [04:25<01:17,  1.06it/s]"
     ]
    },
    {
     "name": "stdout",
     "output_type": "stream",
     "text": [
      "similarity of the two sentences:  tensor(0.8125, device='cuda:0')\n"
     ]
    },
    {
     "name": "stderr",
     "output_type": "stream",
     "text": [
      "\r",
      " 78%|███████▊  | 279/360 [04:26<01:17,  1.05it/s]"
     ]
    },
    {
     "name": "stdout",
     "output_type": "stream",
     "text": [
      "similarity of the two sentences:  tensor(0.9913, device='cuda:0')\n"
     ]
    },
    {
     "name": "stderr",
     "output_type": "stream",
     "text": [
      "\r",
      " 78%|███████▊  | 280/360 [04:27<01:16,  1.04it/s]"
     ]
    },
    {
     "name": "stdout",
     "output_type": "stream",
     "text": [
      "similarity of the two sentences:  tensor(0.9115, device='cuda:0')\n"
     ]
    },
    {
     "name": "stderr",
     "output_type": "stream",
     "text": [
      "\r",
      " 78%|███████▊  | 281/360 [04:28<01:16,  1.03it/s]"
     ]
    },
    {
     "name": "stdout",
     "output_type": "stream",
     "text": [
      "similarity of the two sentences:  tensor(0.8806, device='cuda:0')\n"
     ]
    },
    {
     "name": "stderr",
     "output_type": "stream",
     "text": [
      "\r",
      " 78%|███████▊  | 282/360 [04:29<01:15,  1.03it/s]"
     ]
    },
    {
     "name": "stdout",
     "output_type": "stream",
     "text": [
      "similarity of the two sentences:  tensor(0.7201, device='cuda:0')\n"
     ]
    },
    {
     "name": "stderr",
     "output_type": "stream",
     "text": [
      "\r",
      " 79%|███████▊  | 283/360 [04:30<01:14,  1.04it/s]"
     ]
    },
    {
     "name": "stdout",
     "output_type": "stream",
     "text": [
      "similarity of the two sentences:  tensor(0.8266, device='cuda:0')\n"
     ]
    },
    {
     "name": "stderr",
     "output_type": "stream",
     "text": [
      "\r",
      " 79%|███████▉  | 284/360 [04:31<01:12,  1.04it/s]"
     ]
    },
    {
     "name": "stdout",
     "output_type": "stream",
     "text": [
      "similarity of the two sentences:  tensor(0.8012, device='cuda:0')\n"
     ]
    },
    {
     "name": "stderr",
     "output_type": "stream",
     "text": [
      "\r",
      " 79%|███████▉  | 285/360 [04:32<01:11,  1.05it/s]"
     ]
    },
    {
     "name": "stdout",
     "output_type": "stream",
     "text": [
      "similarity of the two sentences:  tensor(0.8382, device='cuda:0')\n"
     ]
    },
    {
     "name": "stderr",
     "output_type": "stream",
     "text": [
      "\r",
      " 79%|███████▉  | 286/360 [04:33<01:10,  1.05it/s]"
     ]
    },
    {
     "name": "stdout",
     "output_type": "stream",
     "text": [
      "similarity of the two sentences:  tensor(0.7034, device='cuda:0')\n"
     ]
    },
    {
     "name": "stderr",
     "output_type": "stream",
     "text": [
      "\r",
      " 80%|███████▉  | 287/360 [04:34<01:09,  1.05it/s]"
     ]
    },
    {
     "name": "stdout",
     "output_type": "stream",
     "text": [
      "similarity of the two sentences:  tensor(0.9155, device='cuda:0')\n"
     ]
    },
    {
     "name": "stderr",
     "output_type": "stream",
     "text": [
      "\r",
      " 80%|████████  | 288/360 [04:35<01:07,  1.06it/s]"
     ]
    },
    {
     "name": "stdout",
     "output_type": "stream",
     "text": [
      "similarity of the two sentences:  tensor(0.6895, device='cuda:0')\n"
     ]
    },
    {
     "name": "stderr",
     "output_type": "stream",
     "text": [
      "\r",
      " 80%|████████  | 289/360 [04:36<01:06,  1.07it/s]"
     ]
    },
    {
     "name": "stdout",
     "output_type": "stream",
     "text": [
      "similarity of the two sentences:  tensor(0.9743, device='cuda:0')\n"
     ]
    },
    {
     "name": "stderr",
     "output_type": "stream",
     "text": [
      "\r",
      " 81%|████████  | 290/360 [04:37<01:05,  1.07it/s]"
     ]
    },
    {
     "name": "stdout",
     "output_type": "stream",
     "text": [
      "similarity of the two sentences:  tensor(0.9928, device='cuda:0')\n"
     ]
    },
    {
     "name": "stderr",
     "output_type": "stream",
     "text": [
      "\r",
      " 81%|████████  | 291/360 [04:38<01:04,  1.07it/s]"
     ]
    },
    {
     "name": "stdout",
     "output_type": "stream",
     "text": [
      "similarity of the two sentences:  tensor(0.9325, device='cuda:0')\n"
     ]
    },
    {
     "name": "stderr",
     "output_type": "stream",
     "text": [
      "\r",
      " 81%|████████  | 292/360 [04:38<01:03,  1.07it/s]"
     ]
    },
    {
     "name": "stdout",
     "output_type": "stream",
     "text": [
      "similarity of the two sentences:  tensor(1., device='cuda:0')\n"
     ]
    },
    {
     "name": "stderr",
     "output_type": "stream",
     "text": [
      "\r",
      " 81%|████████▏ | 293/360 [04:39<01:02,  1.07it/s]"
     ]
    },
    {
     "name": "stdout",
     "output_type": "stream",
     "text": [
      "similarity of the two sentences:  tensor(0.7697, device='cuda:0')\n"
     ]
    },
    {
     "name": "stderr",
     "output_type": "stream",
     "text": [
      "\r",
      " 82%|████████▏ | 294/360 [04:40<01:01,  1.07it/s]"
     ]
    },
    {
     "name": "stdout",
     "output_type": "stream",
     "text": [
      "similarity of the two sentences:  tensor(0.8881, device='cuda:0')\n"
     ]
    },
    {
     "name": "stderr",
     "output_type": "stream",
     "text": [
      "\r",
      " 82%|████████▏ | 295/360 [04:41<01:00,  1.07it/s]"
     ]
    },
    {
     "name": "stdout",
     "output_type": "stream",
     "text": [
      "similarity of the two sentences:  tensor(0.9352, device='cuda:0')\n"
     ]
    },
    {
     "name": "stderr",
     "output_type": "stream",
     "text": [
      "\r",
      " 82%|████████▏ | 296/360 [04:42<01:01,  1.04it/s]"
     ]
    },
    {
     "name": "stdout",
     "output_type": "stream",
     "text": [
      "similarity of the two sentences:  tensor(0.6893, device='cuda:0')\n"
     ]
    },
    {
     "name": "stderr",
     "output_type": "stream",
     "text": [
      "\r",
      " 82%|████████▎ | 297/360 [04:43<01:00,  1.04it/s]"
     ]
    },
    {
     "name": "stdout",
     "output_type": "stream",
     "text": [
      "similarity of the two sentences:  tensor(0.7904, device='cuda:0')\n"
     ]
    },
    {
     "name": "stderr",
     "output_type": "stream",
     "text": [
      "\r",
      " 83%|████████▎ | 298/360 [04:44<00:59,  1.04it/s]"
     ]
    },
    {
     "name": "stdout",
     "output_type": "stream",
     "text": [
      "similarity of the two sentences:  tensor(0.7114, device='cuda:0')\n"
     ]
    },
    {
     "name": "stderr",
     "output_type": "stream",
     "text": [
      "\r",
      " 83%|████████▎ | 299/360 [04:45<00:58,  1.04it/s]"
     ]
    },
    {
     "name": "stdout",
     "output_type": "stream",
     "text": [
      "similarity of the two sentences:  tensor(0.8211, device='cuda:0')\n"
     ]
    },
    {
     "name": "stderr",
     "output_type": "stream",
     "text": [
      "\r",
      " 83%|████████▎ | 300/360 [04:46<00:57,  1.04it/s]"
     ]
    },
    {
     "name": "stdout",
     "output_type": "stream",
     "text": [
      "similarity of the two sentences:  tensor(0.7760, device='cuda:0')\n"
     ]
    },
    {
     "name": "stderr",
     "output_type": "stream",
     "text": [
      "\r",
      " 84%|████████▎ | 301/360 [04:47<00:56,  1.04it/s]"
     ]
    },
    {
     "name": "stdout",
     "output_type": "stream",
     "text": [
      "similarity of the two sentences:  tensor(0.4466, device='cuda:0')\n"
     ]
    },
    {
     "name": "stderr",
     "output_type": "stream",
     "text": [
      "\r",
      " 84%|████████▍ | 302/360 [04:48<00:57,  1.01it/s]"
     ]
    },
    {
     "name": "stdout",
     "output_type": "stream",
     "text": [
      "similarity of the two sentences:  tensor(0.8143, device='cuda:0')\n"
     ]
    },
    {
     "name": "stderr",
     "output_type": "stream",
     "text": [
      "\r",
      " 84%|████████▍ | 303/360 [04:49<00:55,  1.02it/s]"
     ]
    },
    {
     "name": "stdout",
     "output_type": "stream",
     "text": [
      "similarity of the two sentences:  tensor(0.7312, device='cuda:0')\n"
     ]
    },
    {
     "name": "stderr",
     "output_type": "stream",
     "text": [
      "\r",
      " 84%|████████▍ | 304/360 [04:50<00:53,  1.04it/s]"
     ]
    },
    {
     "name": "stdout",
     "output_type": "stream",
     "text": [
      "similarity of the two sentences:  tensor(0.9877, device='cuda:0')\n"
     ]
    },
    {
     "name": "stderr",
     "output_type": "stream",
     "text": [
      "\r",
      " 85%|████████▍ | 305/360 [04:51<00:53,  1.03it/s]"
     ]
    },
    {
     "name": "stdout",
     "output_type": "stream",
     "text": [
      "similarity of the two sentences:  tensor(0.7038, device='cuda:0')\n"
     ]
    },
    {
     "name": "stderr",
     "output_type": "stream",
     "text": [
      "\r",
      " 85%|████████▌ | 306/360 [04:52<00:51,  1.04it/s]"
     ]
    },
    {
     "name": "stdout",
     "output_type": "stream",
     "text": [
      "similarity of the two sentences:  tensor(0.6760, device='cuda:0')\n"
     ]
    },
    {
     "name": "stderr",
     "output_type": "stream",
     "text": [
      "\r",
      " 85%|████████▌ | 307/360 [04:53<00:50,  1.05it/s]"
     ]
    },
    {
     "name": "stdout",
     "output_type": "stream",
     "text": [
      "similarity of the two sentences:  tensor(0.4847, device='cuda:0')\n"
     ]
    },
    {
     "name": "stderr",
     "output_type": "stream",
     "text": [
      "\r",
      " 86%|████████▌ | 308/360 [04:54<00:48,  1.06it/s]"
     ]
    },
    {
     "name": "stdout",
     "output_type": "stream",
     "text": [
      "similarity of the two sentences:  tensor(0.5016, device='cuda:0')\n"
     ]
    },
    {
     "name": "stderr",
     "output_type": "stream",
     "text": [
      "\r",
      " 86%|████████▌ | 309/360 [04:55<00:47,  1.07it/s]"
     ]
    },
    {
     "name": "stdout",
     "output_type": "stream",
     "text": [
      "similarity of the two sentences:  tensor(0.9851, device='cuda:0')\n"
     ]
    },
    {
     "name": "stderr",
     "output_type": "stream",
     "text": [
      "\r",
      " 86%|████████▌ | 310/360 [04:56<00:47,  1.06it/s]"
     ]
    },
    {
     "name": "stdout",
     "output_type": "stream",
     "text": [
      "similarity of the two sentences:  tensor(0.9633, device='cuda:0')\n"
     ]
    },
    {
     "name": "stderr",
     "output_type": "stream",
     "text": [
      "\r",
      " 86%|████████▋ | 311/360 [04:57<00:45,  1.07it/s]"
     ]
    },
    {
     "name": "stdout",
     "output_type": "stream",
     "text": [
      "similarity of the two sentences:  tensor(0.5818, device='cuda:0')\n"
     ]
    },
    {
     "name": "stderr",
     "output_type": "stream",
     "text": [
      "\r",
      " 87%|████████▋ | 312/360 [04:58<00:45,  1.07it/s]"
     ]
    },
    {
     "name": "stdout",
     "output_type": "stream",
     "text": [
      "similarity of the two sentences:  tensor(0.7936, device='cuda:0')\n"
     ]
    },
    {
     "name": "stderr",
     "output_type": "stream",
     "text": [
      "\r",
      " 87%|████████▋ | 313/360 [04:58<00:44,  1.06it/s]"
     ]
    },
    {
     "name": "stdout",
     "output_type": "stream",
     "text": [
      "similarity of the two sentences:  tensor(0.7296, device='cuda:0')\n"
     ]
    },
    {
     "name": "stderr",
     "output_type": "stream",
     "text": [
      "\r",
      " 87%|████████▋ | 314/360 [04:59<00:44,  1.04it/s]"
     ]
    },
    {
     "name": "stdout",
     "output_type": "stream",
     "text": [
      "similarity of the two sentences:  tensor(0.7186, device='cuda:0')\n"
     ]
    },
    {
     "name": "stderr",
     "output_type": "stream",
     "text": [
      "\r",
      " 88%|████████▊ | 315/360 [05:00<00:43,  1.05it/s]"
     ]
    },
    {
     "name": "stdout",
     "output_type": "stream",
     "text": [
      "similarity of the two sentences:  tensor(0.7291, device='cuda:0')\n"
     ]
    },
    {
     "name": "stderr",
     "output_type": "stream",
     "text": [
      "\r",
      " 88%|████████▊ | 316/360 [05:01<00:41,  1.05it/s]"
     ]
    },
    {
     "name": "stdout",
     "output_type": "stream",
     "text": [
      "similarity of the two sentences:  tensor(0.8943, device='cuda:0')\n"
     ]
    },
    {
     "name": "stderr",
     "output_type": "stream",
     "text": [
      "\r",
      " 88%|████████▊ | 317/360 [05:02<00:42,  1.02it/s]"
     ]
    },
    {
     "name": "stdout",
     "output_type": "stream",
     "text": [
      "similarity of the two sentences:  tensor(0.8818, device='cuda:0')\n"
     ]
    },
    {
     "name": "stderr",
     "output_type": "stream",
     "text": [
      "\r",
      " 88%|████████▊ | 318/360 [05:03<00:41,  1.01it/s]"
     ]
    },
    {
     "name": "stdout",
     "output_type": "stream",
     "text": [
      "similarity of the two sentences:  tensor(0.6764, device='cuda:0')\n"
     ]
    },
    {
     "name": "stderr",
     "output_type": "stream",
     "text": [
      "\r",
      " 89%|████████▊ | 319/360 [05:04<00:40,  1.02it/s]"
     ]
    },
    {
     "name": "stdout",
     "output_type": "stream",
     "text": [
      "similarity of the two sentences:  tensor(0.9769, device='cuda:0')\n"
     ]
    },
    {
     "name": "stderr",
     "output_type": "stream",
     "text": [
      "\r",
      " 89%|████████▉ | 320/360 [05:05<00:39,  1.00it/s]"
     ]
    },
    {
     "name": "stdout",
     "output_type": "stream",
     "text": [
      "similarity of the two sentences:  tensor(0.9719, device='cuda:0')\n"
     ]
    },
    {
     "name": "stderr",
     "output_type": "stream",
     "text": [
      "\r",
      " 89%|████████▉ | 321/360 [05:06<00:38,  1.02it/s]"
     ]
    },
    {
     "name": "stdout",
     "output_type": "stream",
     "text": [
      "similarity of the two sentences:  tensor(0.7244, device='cuda:0')\n"
     ]
    },
    {
     "name": "stderr",
     "output_type": "stream",
     "text": [
      "\r",
      " 89%|████████▉ | 322/360 [05:07<00:37,  1.02it/s]"
     ]
    },
    {
     "name": "stdout",
     "output_type": "stream",
     "text": [
      "similarity of the two sentences:  tensor(0.9118, device='cuda:0')\n"
     ]
    },
    {
     "name": "stderr",
     "output_type": "stream",
     "text": [
      "\r",
      " 90%|████████▉ | 323/360 [05:08<00:35,  1.05it/s]"
     ]
    },
    {
     "name": "stdout",
     "output_type": "stream",
     "text": [
      "similarity of the two sentences:  tensor(0.6657, device='cuda:0')\n"
     ]
    },
    {
     "name": "stderr",
     "output_type": "stream",
     "text": [
      "\r",
      " 90%|█████████ | 324/360 [05:09<00:33,  1.07it/s]"
     ]
    },
    {
     "name": "stdout",
     "output_type": "stream",
     "text": [
      "similarity of the two sentences:  tensor(1.0000, device='cuda:0')\n"
     ]
    },
    {
     "name": "stderr",
     "output_type": "stream",
     "text": [
      "\r",
      " 90%|█████████ | 325/360 [05:10<00:32,  1.07it/s]"
     ]
    },
    {
     "name": "stdout",
     "output_type": "stream",
     "text": [
      "similarity of the two sentences:  tensor(0.8213, device='cuda:0')\n"
     ]
    },
    {
     "name": "stderr",
     "output_type": "stream",
     "text": [
      "\r",
      " 91%|█████████ | 326/360 [05:11<00:32,  1.03it/s]"
     ]
    },
    {
     "name": "stdout",
     "output_type": "stream",
     "text": [
      "similarity of the two sentences:  tensor(0.7618, device='cuda:0')\n"
     ]
    },
    {
     "name": "stderr",
     "output_type": "stream",
     "text": [
      "\r",
      " 91%|█████████ | 327/360 [05:12<00:32,  1.02it/s]"
     ]
    },
    {
     "name": "stdout",
     "output_type": "stream",
     "text": [
      "similarity of the two sentences:  tensor(0.7264, device='cuda:0')\n"
     ]
    },
    {
     "name": "stderr",
     "output_type": "stream",
     "text": [
      "\r",
      " 91%|█████████ | 328/360 [05:13<00:31,  1.01it/s]"
     ]
    },
    {
     "name": "stdout",
     "output_type": "stream",
     "text": [
      "similarity of the two sentences:  tensor(0.8407, device='cuda:0')\n"
     ]
    },
    {
     "name": "stderr",
     "output_type": "stream",
     "text": [
      "\r",
      " 91%|█████████▏| 329/360 [05:14<00:29,  1.03it/s]"
     ]
    },
    {
     "name": "stdout",
     "output_type": "stream",
     "text": [
      "similarity of the two sentences:  tensor(0.6566, device='cuda:0')\n"
     ]
    },
    {
     "name": "stderr",
     "output_type": "stream",
     "text": [
      "\r",
      " 92%|█████████▏| 330/360 [05:15<00:28,  1.05it/s]"
     ]
    },
    {
     "name": "stdout",
     "output_type": "stream",
     "text": [
      "similarity of the two sentences:  tensor(0.9496, device='cuda:0')\n"
     ]
    },
    {
     "name": "stderr",
     "output_type": "stream",
     "text": [
      "\r",
      " 92%|█████████▏| 331/360 [05:16<00:27,  1.06it/s]"
     ]
    },
    {
     "name": "stdout",
     "output_type": "stream",
     "text": [
      "similarity of the two sentences:  tensor(0.7684, device='cuda:0')\n"
     ]
    },
    {
     "name": "stderr",
     "output_type": "stream",
     "text": [
      "\r",
      " 92%|█████████▏| 332/360 [05:17<00:26,  1.07it/s]"
     ]
    },
    {
     "name": "stdout",
     "output_type": "stream",
     "text": [
      "similarity of the two sentences:  tensor(0.7752, device='cuda:0')\n"
     ]
    },
    {
     "name": "stderr",
     "output_type": "stream",
     "text": [
      "\r",
      " 92%|█████████▎| 333/360 [05:18<00:25,  1.08it/s]"
     ]
    },
    {
     "name": "stdout",
     "output_type": "stream",
     "text": [
      "similarity of the two sentences:  tensor(0.6661, device='cuda:0')\n"
     ]
    },
    {
     "name": "stderr",
     "output_type": "stream",
     "text": [
      "\r",
      " 93%|█████████▎| 334/360 [05:19<00:24,  1.06it/s]"
     ]
    },
    {
     "name": "stdout",
     "output_type": "stream",
     "text": [
      "similarity of the two sentences:  tensor(0.9052, device='cuda:0')\n"
     ]
    },
    {
     "name": "stderr",
     "output_type": "stream",
     "text": [
      "\r",
      " 93%|█████████▎| 335/360 [05:20<00:24,  1.03it/s]"
     ]
    },
    {
     "name": "stdout",
     "output_type": "stream",
     "text": [
      "similarity of the two sentences:  tensor(0.7794, device='cuda:0')\n"
     ]
    },
    {
     "name": "stderr",
     "output_type": "stream",
     "text": [
      "\r",
      " 93%|█████████▎| 336/360 [05:21<00:23,  1.02it/s]"
     ]
    },
    {
     "name": "stdout",
     "output_type": "stream",
     "text": [
      "similarity of the two sentences:  tensor(0.9718, device='cuda:0')\n"
     ]
    },
    {
     "name": "stderr",
     "output_type": "stream",
     "text": [
      "\r",
      " 94%|█████████▎| 337/360 [05:22<00:22,  1.03it/s]"
     ]
    },
    {
     "name": "stdout",
     "output_type": "stream",
     "text": [
      "similarity of the two sentences:  tensor(0.9244, device='cuda:0')\n"
     ]
    },
    {
     "name": "stderr",
     "output_type": "stream",
     "text": [
      "\r",
      " 94%|█████████▍| 338/360 [05:23<00:21,  1.03it/s]"
     ]
    },
    {
     "name": "stdout",
     "output_type": "stream",
     "text": [
      "similarity of the two sentences:  tensor(0.9573, device='cuda:0')\n"
     ]
    },
    {
     "name": "stderr",
     "output_type": "stream",
     "text": [
      "\r",
      " 94%|█████████▍| 339/360 [05:24<00:20,  1.02it/s]"
     ]
    },
    {
     "name": "stdout",
     "output_type": "stream",
     "text": [
      "similarity of the two sentences:  tensor(0.9915, device='cuda:0')\n"
     ]
    },
    {
     "name": "stderr",
     "output_type": "stream",
     "text": [
      "\r",
      " 94%|█████████▍| 340/360 [05:25<00:19,  1.02it/s]"
     ]
    },
    {
     "name": "stdout",
     "output_type": "stream",
     "text": [
      "similarity of the two sentences:  tensor(1.0000, device='cuda:0')\n"
     ]
    },
    {
     "name": "stderr",
     "output_type": "stream",
     "text": [
      "\r",
      " 95%|█████████▍| 341/360 [05:26<00:18,  1.02it/s]"
     ]
    },
    {
     "name": "stdout",
     "output_type": "stream",
     "text": [
      "similarity of the two sentences:  tensor(0.6257, device='cuda:0')\n"
     ]
    },
    {
     "name": "stderr",
     "output_type": "stream",
     "text": [
      "\r",
      " 95%|█████████▌| 342/360 [05:27<00:17,  1.02it/s]"
     ]
    },
    {
     "name": "stdout",
     "output_type": "stream",
     "text": [
      "similarity of the two sentences:  tensor(1.0000, device='cuda:0')\n"
     ]
    },
    {
     "name": "stderr",
     "output_type": "stream",
     "text": [
      "\r",
      " 95%|█████████▌| 343/360 [05:28<00:16,  1.01it/s]"
     ]
    },
    {
     "name": "stdout",
     "output_type": "stream",
     "text": [
      "similarity of the two sentences:  tensor(0.7964, device='cuda:0')\n"
     ]
    },
    {
     "name": "stderr",
     "output_type": "stream",
     "text": [
      "\r",
      " 96%|█████████▌| 344/360 [05:29<00:16,  1.00s/it]"
     ]
    },
    {
     "name": "stdout",
     "output_type": "stream",
     "text": [
      "similarity of the two sentences:  tensor(0.8980, device='cuda:0')\n"
     ]
    },
    {
     "name": "stderr",
     "output_type": "stream",
     "text": [
      "\r",
      " 96%|█████████▌| 345/360 [05:30<00:14,  1.01it/s]"
     ]
    },
    {
     "name": "stdout",
     "output_type": "stream",
     "text": [
      "similarity of the two sentences:  tensor(0.9763, device='cuda:0')\n"
     ]
    },
    {
     "name": "stderr",
     "output_type": "stream",
     "text": [
      "\r",
      " 96%|█████████▌| 346/360 [05:31<00:13,  1.03it/s]"
     ]
    },
    {
     "name": "stdout",
     "output_type": "stream",
     "text": [
      "similarity of the two sentences:  tensor(0.9906, device='cuda:0')\n"
     ]
    },
    {
     "name": "stderr",
     "output_type": "stream",
     "text": [
      "\r",
      " 96%|█████████▋| 347/360 [05:31<00:12,  1.04it/s]"
     ]
    },
    {
     "name": "stdout",
     "output_type": "stream",
     "text": [
      "similarity of the two sentences:  tensor(0.8997, device='cuda:0')\n"
     ]
    },
    {
     "name": "stderr",
     "output_type": "stream",
     "text": [
      "\r",
      " 97%|█████████▋| 348/360 [05:32<00:11,  1.03it/s]"
     ]
    },
    {
     "name": "stdout",
     "output_type": "stream",
     "text": [
      "similarity of the two sentences:  tensor(0.9915, device='cuda:0')\n"
     ]
    },
    {
     "name": "stderr",
     "output_type": "stream",
     "text": [
      "\r",
      " 97%|█████████▋| 349/360 [05:33<00:10,  1.03it/s]"
     ]
    },
    {
     "name": "stdout",
     "output_type": "stream",
     "text": [
      "similarity of the two sentences:  tensor(0.6014, device='cuda:0')\n"
     ]
    },
    {
     "name": "stderr",
     "output_type": "stream",
     "text": [
      "\r",
      " 97%|█████████▋| 350/360 [05:34<00:09,  1.04it/s]"
     ]
    },
    {
     "name": "stdout",
     "output_type": "stream",
     "text": [
      "similarity of the two sentences:  tensor(0.5814, device='cuda:0')\n"
     ]
    },
    {
     "name": "stderr",
     "output_type": "stream",
     "text": [
      "\r",
      " 98%|█████████▊| 351/360 [05:35<00:08,  1.03it/s]"
     ]
    },
    {
     "name": "stdout",
     "output_type": "stream",
     "text": [
      "similarity of the two sentences:  tensor(0.7792, device='cuda:0')\n"
     ]
    },
    {
     "name": "stderr",
     "output_type": "stream",
     "text": [
      "\r",
      " 98%|█████████▊| 352/360 [05:36<00:07,  1.03it/s]"
     ]
    },
    {
     "name": "stdout",
     "output_type": "stream",
     "text": [
      "similarity of the two sentences:  tensor(0.8929, device='cuda:0')\n"
     ]
    },
    {
     "name": "stderr",
     "output_type": "stream",
     "text": [
      "\r",
      " 98%|█████████▊| 353/360 [05:37<00:06,  1.03it/s]"
     ]
    },
    {
     "name": "stdout",
     "output_type": "stream",
     "text": [
      "similarity of the two sentences:  tensor(0.6241, device='cuda:0')\n"
     ]
    },
    {
     "name": "stderr",
     "output_type": "stream",
     "text": [
      "\r",
      " 98%|█████████▊| 354/360 [05:38<00:05,  1.04it/s]"
     ]
    },
    {
     "name": "stdout",
     "output_type": "stream",
     "text": [
      "similarity of the two sentences:  tensor(0.6569, device='cuda:0')\n"
     ]
    },
    {
     "name": "stderr",
     "output_type": "stream",
     "text": [
      "\r",
      " 99%|█████████▊| 355/360 [05:39<00:04,  1.05it/s]"
     ]
    },
    {
     "name": "stdout",
     "output_type": "stream",
     "text": [
      "similarity of the two sentences:  tensor(0.9313, device='cuda:0')\n"
     ]
    },
    {
     "name": "stderr",
     "output_type": "stream",
     "text": [
      "\r",
      " 99%|█████████▉| 356/360 [05:40<00:03,  1.06it/s]"
     ]
    },
    {
     "name": "stdout",
     "output_type": "stream",
     "text": [
      "similarity of the two sentences:  tensor(0.8276, device='cuda:0')\n"
     ]
    },
    {
     "name": "stderr",
     "output_type": "stream",
     "text": [
      "\r",
      " 99%|█████████▉| 357/360 [05:41<00:02,  1.07it/s]"
     ]
    },
    {
     "name": "stdout",
     "output_type": "stream",
     "text": [
      "similarity of the two sentences:  tensor(0.7184, device='cuda:0')\n"
     ]
    },
    {
     "name": "stderr",
     "output_type": "stream",
     "text": [
      "\r",
      " 99%|█████████▉| 358/360 [05:42<00:01,  1.07it/s]"
     ]
    },
    {
     "name": "stdout",
     "output_type": "stream",
     "text": [
      "similarity of the two sentences:  tensor(0.8041, device='cuda:0')\n"
     ]
    },
    {
     "name": "stderr",
     "output_type": "stream",
     "text": [
      "\r",
      "100%|█████████▉| 359/360 [05:43<00:00,  1.06it/s]"
     ]
    },
    {
     "name": "stdout",
     "output_type": "stream",
     "text": [
      "similarity of the two sentences:  tensor(0.9962, device='cuda:0')\n"
     ]
    },
    {
     "name": "stderr",
     "output_type": "stream",
     "text": [
      "100%|██████████| 360/360 [05:44<00:00,  1.05it/s]"
     ]
    },
    {
     "name": "stdout",
     "output_type": "stream",
     "text": [
      "similarity of the two sentences:  tensor(1., device='cuda:0')\n",
      "similarity socre : tensor(0.8326, device='cuda:0')\n",
      "grammar socre out: 0.7022251017262331\n",
      "grammar socre orig: 0.8771238993025489\n",
      "simplicity socre outpu: 0.41431141901347374\n",
      "simplicity socre orig: 0.18939467115948597\n",
      "simplicity socre orig: 0.18939467115948597\n",
      "len output: 14.71111111111111\n",
      "len orig: 23.163888888888888\n"
     ]
    },
    {
     "name": "stderr",
     "output_type": "stream",
     "text": [
      "\n"
     ]
    }
   ],
   "source": [
    "from tqdm import tqdm\n",
    "\n",
    "root_path = '/home/m25dehgh/simplification/controllable-simplification/src/Wikilarge/output'\n",
    "asset_path= \"/home/m25dehgh/simplification/datasets/asset/dataset\"\n",
    "\n",
    "orig_path = asset_path + '/' + \"asset.test.norm.orig\"\n",
    "out_path = root_path + '/' + \"/RM+PA-dl:1-par:1.25-Asset-norm.txt\" # sari : 38.21\n",
    "\n",
    "assess(out_path, orig_path)"
   ]
  },
  {
   "cell_type": "code",
   "execution_count": 33,
   "metadata": {},
   "outputs": [
    {
     "name": "stderr",
     "output_type": "stream",
     "text": [
      "  0%|          | 1/360 [00:00<05:22,  1.11it/s]"
     ]
    },
    {
     "name": "stdout",
     "output_type": "stream",
     "text": [
      "similarity of the two sentences:  tensor(0.9365, device='cuda:0')\n"
     ]
    },
    {
     "name": "stderr",
     "output_type": "stream",
     "text": [
      "\r",
      "  1%|          | 2/360 [00:01<05:20,  1.12it/s]"
     ]
    },
    {
     "name": "stdout",
     "output_type": "stream",
     "text": [
      "similarity of the two sentences:  tensor(0.8032, device='cuda:0')\n"
     ]
    },
    {
     "name": "stderr",
     "output_type": "stream",
     "text": [
      "\r",
      "  1%|          | 3/360 [00:02<05:18,  1.12it/s]"
     ]
    },
    {
     "name": "stdout",
     "output_type": "stream",
     "text": [
      "similarity of the two sentences:  tensor(0.7558, device='cuda:0')\n"
     ]
    },
    {
     "name": "stderr",
     "output_type": "stream",
     "text": [
      "\r",
      "  1%|          | 4/360 [00:03<05:21,  1.11it/s]"
     ]
    },
    {
     "name": "stdout",
     "output_type": "stream",
     "text": [
      "similarity of the two sentences:  tensor(0.6647, device='cuda:0')\n"
     ]
    },
    {
     "name": "stderr",
     "output_type": "stream",
     "text": [
      "\r",
      "  1%|▏         | 5/360 [00:04<05:21,  1.11it/s]"
     ]
    },
    {
     "name": "stdout",
     "output_type": "stream",
     "text": [
      "similarity of the two sentences:  tensor(0.8371, device='cuda:0')\n"
     ]
    },
    {
     "name": "stderr",
     "output_type": "stream",
     "text": [
      "\r",
      "  2%|▏         | 6/360 [00:05<05:18,  1.11it/s]"
     ]
    },
    {
     "name": "stdout",
     "output_type": "stream",
     "text": [
      "similarity of the two sentences:  tensor(0.9949, device='cuda:0')\n"
     ]
    },
    {
     "name": "stderr",
     "output_type": "stream",
     "text": [
      "\r",
      "  2%|▏         | 7/360 [00:06<05:13,  1.13it/s]"
     ]
    },
    {
     "name": "stdout",
     "output_type": "stream",
     "text": [
      "similarity of the two sentences:  tensor(1.0000, device='cuda:0')\n"
     ]
    },
    {
     "name": "stderr",
     "output_type": "stream",
     "text": [
      "\r",
      "  2%|▏         | 8/360 [00:07<05:08,  1.14it/s]"
     ]
    },
    {
     "name": "stdout",
     "output_type": "stream",
     "text": [
      "similarity of the two sentences:  tensor(0.9503, device='cuda:0')\n"
     ]
    },
    {
     "name": "stderr",
     "output_type": "stream",
     "text": [
      "\r",
      "  2%|▎         | 9/360 [00:07<05:06,  1.15it/s]"
     ]
    },
    {
     "name": "stdout",
     "output_type": "stream",
     "text": [
      "similarity of the two sentences:  tensor(0.8136, device='cuda:0')\n"
     ]
    },
    {
     "name": "stderr",
     "output_type": "stream",
     "text": [
      "\r",
      "  3%|▎         | 10/360 [00:08<05:06,  1.14it/s]"
     ]
    },
    {
     "name": "stdout",
     "output_type": "stream",
     "text": [
      "similarity of the two sentences:  tensor(0.8855, device='cuda:0')\n"
     ]
    },
    {
     "name": "stderr",
     "output_type": "stream",
     "text": [
      "\r",
      "  3%|▎         | 11/360 [00:09<05:07,  1.13it/s]"
     ]
    },
    {
     "name": "stdout",
     "output_type": "stream",
     "text": [
      "similarity of the two sentences:  tensor(0.9448, device='cuda:0')\n"
     ]
    },
    {
     "name": "stderr",
     "output_type": "stream",
     "text": [
      "\r",
      "  3%|▎         | 12/360 [00:10<05:06,  1.14it/s]"
     ]
    },
    {
     "name": "stdout",
     "output_type": "stream",
     "text": [
      "similarity of the two sentences:  tensor(0.7999, device='cuda:0')\n"
     ]
    },
    {
     "name": "stderr",
     "output_type": "stream",
     "text": [
      "\r",
      "  4%|▎         | 13/360 [00:11<05:02,  1.15it/s]"
     ]
    },
    {
     "name": "stdout",
     "output_type": "stream",
     "text": [
      "similarity of the two sentences:  tensor(0.8444, device='cuda:0')\n"
     ]
    },
    {
     "name": "stderr",
     "output_type": "stream",
     "text": [
      "\r",
      "  4%|▍         | 14/360 [00:12<04:58,  1.16it/s]"
     ]
    },
    {
     "name": "stdout",
     "output_type": "stream",
     "text": [
      "similarity of the two sentences:  tensor(0.5797, device='cuda:0')\n"
     ]
    },
    {
     "name": "stderr",
     "output_type": "stream",
     "text": [
      "\r",
      "  4%|▍         | 15/360 [00:13<04:56,  1.16it/s]"
     ]
    },
    {
     "name": "stdout",
     "output_type": "stream",
     "text": [
      "similarity of the two sentences:  tensor(0.8058, device='cuda:0')\n"
     ]
    },
    {
     "name": "stderr",
     "output_type": "stream",
     "text": [
      "\r",
      "  4%|▍         | 16/360 [00:14<04:52,  1.17it/s]"
     ]
    },
    {
     "name": "stdout",
     "output_type": "stream",
     "text": [
      "similarity of the two sentences:  tensor(1.0000, device='cuda:0')\n"
     ]
    },
    {
     "name": "stderr",
     "output_type": "stream",
     "text": [
      "\r",
      "  5%|▍         | 17/360 [00:14<04:55,  1.16it/s]"
     ]
    },
    {
     "name": "stdout",
     "output_type": "stream",
     "text": [
      "similarity of the two sentences:  tensor(0.9390, device='cuda:0')\n"
     ]
    },
    {
     "name": "stderr",
     "output_type": "stream",
     "text": [
      "\r",
      "  5%|▌         | 18/360 [00:15<04:54,  1.16it/s]"
     ]
    },
    {
     "name": "stdout",
     "output_type": "stream",
     "text": [
      "similarity of the two sentences:  tensor(1.0000, device='cuda:0')\n"
     ]
    },
    {
     "name": "stderr",
     "output_type": "stream",
     "text": [
      "\r",
      "  5%|▌         | 19/360 [00:16<04:54,  1.16it/s]"
     ]
    },
    {
     "name": "stdout",
     "output_type": "stream",
     "text": [
      "similarity of the two sentences:  tensor(0.9748, device='cuda:0')\n"
     ]
    },
    {
     "name": "stderr",
     "output_type": "stream",
     "text": [
      "\r",
      "  6%|▌         | 20/360 [00:17<04:59,  1.13it/s]"
     ]
    },
    {
     "name": "stdout",
     "output_type": "stream",
     "text": [
      "similarity of the two sentences:  tensor(0.7456, device='cuda:0')\n"
     ]
    },
    {
     "name": "stderr",
     "output_type": "stream",
     "text": [
      "\r",
      "  6%|▌         | 21/360 [00:18<04:59,  1.13it/s]"
     ]
    },
    {
     "name": "stdout",
     "output_type": "stream",
     "text": [
      "similarity of the two sentences:  tensor(0.9211, device='cuda:0')\n"
     ]
    },
    {
     "name": "stderr",
     "output_type": "stream",
     "text": [
      "\r",
      "  6%|▌         | 22/360 [00:19<04:58,  1.13it/s]"
     ]
    },
    {
     "name": "stdout",
     "output_type": "stream",
     "text": [
      "similarity of the two sentences:  tensor(0.6739, device='cuda:0')\n"
     ]
    },
    {
     "name": "stderr",
     "output_type": "stream",
     "text": [
      "\r",
      "  6%|▋         | 23/360 [00:20<04:58,  1.13it/s]"
     ]
    },
    {
     "name": "stdout",
     "output_type": "stream",
     "text": [
      "similarity of the two sentences:  tensor(0.8151, device='cuda:0')\n"
     ]
    },
    {
     "name": "stderr",
     "output_type": "stream",
     "text": [
      "\r",
      "  7%|▋         | 24/360 [00:21<04:55,  1.14it/s]"
     ]
    },
    {
     "name": "stdout",
     "output_type": "stream",
     "text": [
      "similarity of the two sentences:  tensor(0.8339, device='cuda:0')\n"
     ]
    },
    {
     "name": "stderr",
     "output_type": "stream",
     "text": [
      "\r",
      "  7%|▋         | 25/360 [00:21<04:51,  1.15it/s]"
     ]
    },
    {
     "name": "stdout",
     "output_type": "stream",
     "text": [
      "similarity of the two sentences:  tensor(0.6242, device='cuda:0')\n"
     ]
    },
    {
     "name": "stderr",
     "output_type": "stream",
     "text": [
      "\r",
      "  7%|▋         | 26/360 [00:22<04:48,  1.16it/s]"
     ]
    },
    {
     "name": "stdout",
     "output_type": "stream",
     "text": [
      "similarity of the two sentences:  tensor(0.6523, device='cuda:0')\n"
     ]
    },
    {
     "name": "stderr",
     "output_type": "stream",
     "text": [
      "\r",
      "  8%|▊         | 27/360 [00:23<04:48,  1.15it/s]"
     ]
    },
    {
     "name": "stdout",
     "output_type": "stream",
     "text": [
      "similarity of the two sentences:  tensor(0.8820, device='cuda:0')\n"
     ]
    },
    {
     "name": "stderr",
     "output_type": "stream",
     "text": [
      "\r",
      "  8%|▊         | 28/360 [00:24<04:45,  1.16it/s]"
     ]
    },
    {
     "name": "stdout",
     "output_type": "stream",
     "text": [
      "similarity of the two sentences:  tensor(0.9019, device='cuda:0')\n"
     ]
    },
    {
     "name": "stderr",
     "output_type": "stream",
     "text": [
      "\r",
      "  8%|▊         | 29/360 [00:25<04:46,  1.15it/s]"
     ]
    },
    {
     "name": "stdout",
     "output_type": "stream",
     "text": [
      "similarity of the two sentences:  tensor(0.8170, device='cuda:0')\n"
     ]
    },
    {
     "name": "stderr",
     "output_type": "stream",
     "text": [
      "\r",
      "  8%|▊         | 30/360 [00:26<04:49,  1.14it/s]"
     ]
    },
    {
     "name": "stdout",
     "output_type": "stream",
     "text": [
      "similarity of the two sentences:  tensor(0.9948, device='cuda:0')\n"
     ]
    },
    {
     "name": "stderr",
     "output_type": "stream",
     "text": [
      "\r",
      "  9%|▊         | 31/360 [00:27<04:53,  1.12it/s]"
     ]
    },
    {
     "name": "stdout",
     "output_type": "stream",
     "text": [
      "similarity of the two sentences:  tensor(0.8900, device='cuda:0')\n"
     ]
    },
    {
     "name": "stderr",
     "output_type": "stream",
     "text": [
      "\r",
      "  9%|▉         | 32/360 [00:28<04:54,  1.12it/s]"
     ]
    },
    {
     "name": "stdout",
     "output_type": "stream",
     "text": [
      "similarity of the two sentences:  tensor(0.7630, device='cuda:0')\n"
     ]
    },
    {
     "name": "stderr",
     "output_type": "stream",
     "text": [
      "\r",
      "  9%|▉         | 33/360 [00:29<04:54,  1.11it/s]"
     ]
    },
    {
     "name": "stdout",
     "output_type": "stream",
     "text": [
      "similarity of the two sentences:  tensor(0.9547, device='cuda:0')\n"
     ]
    },
    {
     "name": "stderr",
     "output_type": "stream",
     "text": [
      "\r",
      "  9%|▉         | 34/360 [00:29<04:52,  1.11it/s]"
     ]
    },
    {
     "name": "stdout",
     "output_type": "stream",
     "text": [
      "similarity of the two sentences:  tensor(0.8473, device='cuda:0')\n"
     ]
    },
    {
     "name": "stderr",
     "output_type": "stream",
     "text": [
      "\r",
      " 10%|▉         | 35/360 [00:30<04:51,  1.11it/s]"
     ]
    },
    {
     "name": "stdout",
     "output_type": "stream",
     "text": [
      "similarity of the two sentences:  tensor(0.3806, device='cuda:0')\n"
     ]
    },
    {
     "name": "stderr",
     "output_type": "stream",
     "text": [
      "\r",
      " 10%|█         | 36/360 [00:31<04:50,  1.11it/s]"
     ]
    },
    {
     "name": "stdout",
     "output_type": "stream",
     "text": [
      "similarity of the two sentences:  tensor(0.6834, device='cuda:0')\n"
     ]
    },
    {
     "name": "stderr",
     "output_type": "stream",
     "text": [
      "\r",
      " 10%|█         | 37/360 [00:32<04:53,  1.10it/s]"
     ]
    },
    {
     "name": "stdout",
     "output_type": "stream",
     "text": [
      "similarity of the two sentences:  tensor(0.7947, device='cuda:0')\n"
     ]
    },
    {
     "name": "stderr",
     "output_type": "stream",
     "text": [
      "\r",
      " 11%|█         | 38/360 [00:33<04:50,  1.11it/s]"
     ]
    },
    {
     "name": "stdout",
     "output_type": "stream",
     "text": [
      "similarity of the two sentences:  tensor(0.7909, device='cuda:0')\n"
     ]
    },
    {
     "name": "stderr",
     "output_type": "stream",
     "text": [
      "\r",
      " 11%|█         | 39/360 [00:34<04:46,  1.12it/s]"
     ]
    },
    {
     "name": "stdout",
     "output_type": "stream",
     "text": [
      "similarity of the two sentences:  tensor(1., device='cuda:0')\n"
     ]
    },
    {
     "name": "stderr",
     "output_type": "stream",
     "text": [
      "\r",
      " 11%|█         | 40/360 [00:35<04:41,  1.14it/s]"
     ]
    },
    {
     "name": "stdout",
     "output_type": "stream",
     "text": [
      "similarity of the two sentences:  tensor(0.7871, device='cuda:0')\n"
     ]
    },
    {
     "name": "stderr",
     "output_type": "stream",
     "text": [
      "\r",
      " 11%|█▏        | 41/360 [00:36<04:38,  1.15it/s]"
     ]
    },
    {
     "name": "stdout",
     "output_type": "stream",
     "text": [
      "similarity of the two sentences:  tensor(0.3222, device='cuda:0')\n"
     ]
    },
    {
     "name": "stderr",
     "output_type": "stream",
     "text": [
      "\r",
      " 12%|█▏        | 42/360 [00:37<04:42,  1.13it/s]"
     ]
    },
    {
     "name": "stdout",
     "output_type": "stream",
     "text": [
      "similarity of the two sentences:  tensor(0.8817, device='cuda:0')\n"
     ]
    },
    {
     "name": "stderr",
     "output_type": "stream",
     "text": [
      "\r",
      " 12%|█▏        | 43/360 [00:37<04:43,  1.12it/s]"
     ]
    },
    {
     "name": "stdout",
     "output_type": "stream",
     "text": [
      "similarity of the two sentences:  tensor(0.9305, device='cuda:0')\n"
     ]
    },
    {
     "name": "stderr",
     "output_type": "stream",
     "text": [
      "\r",
      " 12%|█▏        | 44/360 [00:38<04:38,  1.13it/s]"
     ]
    },
    {
     "name": "stdout",
     "output_type": "stream",
     "text": [
      "similarity of the two sentences:  tensor(1., device='cuda:0')\n"
     ]
    },
    {
     "name": "stderr",
     "output_type": "stream",
     "text": [
      "\r",
      " 12%|█▎        | 45/360 [00:39<04:34,  1.15it/s]"
     ]
    },
    {
     "name": "stdout",
     "output_type": "stream",
     "text": [
      "similarity of the two sentences:  tensor(0.8208, device='cuda:0')\n"
     ]
    },
    {
     "name": "stderr",
     "output_type": "stream",
     "text": [
      "\r",
      " 13%|█▎        | 46/360 [00:40<04:31,  1.16it/s]"
     ]
    },
    {
     "name": "stdout",
     "output_type": "stream",
     "text": [
      "similarity of the two sentences:  tensor(0.8511, device='cuda:0')\n"
     ]
    },
    {
     "name": "stderr",
     "output_type": "stream",
     "text": [
      "\r",
      " 13%|█▎        | 47/360 [00:41<04:34,  1.14it/s]"
     ]
    },
    {
     "name": "stdout",
     "output_type": "stream",
     "text": [
      "similarity of the two sentences:  tensor(0.7069, device='cuda:0')\n"
     ]
    },
    {
     "name": "stderr",
     "output_type": "stream",
     "text": [
      "\r",
      " 13%|█▎        | 48/360 [00:42<04:33,  1.14it/s]"
     ]
    },
    {
     "name": "stdout",
     "output_type": "stream",
     "text": [
      "similarity of the two sentences:  tensor(0.8169, device='cuda:0')\n"
     ]
    },
    {
     "name": "stderr",
     "output_type": "stream",
     "text": [
      "\r",
      " 14%|█▎        | 49/360 [00:43<04:39,  1.11it/s]"
     ]
    },
    {
     "name": "stdout",
     "output_type": "stream",
     "text": [
      "similarity of the two sentences:  tensor(0.8754, device='cuda:0')\n"
     ]
    },
    {
     "name": "stderr",
     "output_type": "stream",
     "text": [
      "\r",
      " 14%|█▍        | 50/360 [00:44<04:39,  1.11it/s]"
     ]
    },
    {
     "name": "stdout",
     "output_type": "stream",
     "text": [
      "similarity of the two sentences:  tensor(0.9973, device='cuda:0')\n"
     ]
    },
    {
     "name": "stderr",
     "output_type": "stream",
     "text": [
      "\r",
      " 14%|█▍        | 51/360 [00:45<04:37,  1.11it/s]"
     ]
    },
    {
     "name": "stdout",
     "output_type": "stream",
     "text": [
      "similarity of the two sentences:  tensor(0.8266, device='cuda:0')\n"
     ]
    },
    {
     "name": "stderr",
     "output_type": "stream",
     "text": [
      "\r",
      " 14%|█▍        | 52/360 [00:45<04:34,  1.12it/s]"
     ]
    },
    {
     "name": "stdout",
     "output_type": "stream",
     "text": [
      "similarity of the two sentences:  tensor(0.7197, device='cuda:0')\n"
     ]
    },
    {
     "name": "stderr",
     "output_type": "stream",
     "text": [
      "\r",
      " 15%|█▍        | 53/360 [00:46<04:38,  1.10it/s]"
     ]
    },
    {
     "name": "stdout",
     "output_type": "stream",
     "text": [
      "similarity of the two sentences:  tensor(0.7720, device='cuda:0')\n"
     ]
    },
    {
     "name": "stderr",
     "output_type": "stream",
     "text": [
      "\r",
      " 15%|█▌        | 54/360 [00:47<04:35,  1.11it/s]"
     ]
    },
    {
     "name": "stdout",
     "output_type": "stream",
     "text": [
      "similarity of the two sentences:  tensor(0.8567, device='cuda:0')\n"
     ]
    },
    {
     "name": "stderr",
     "output_type": "stream",
     "text": [
      "\r",
      " 15%|█▌        | 55/360 [00:48<04:31,  1.12it/s]"
     ]
    },
    {
     "name": "stdout",
     "output_type": "stream",
     "text": [
      "similarity of the two sentences:  tensor(0.4920, device='cuda:0')\n"
     ]
    },
    {
     "name": "stderr",
     "output_type": "stream",
     "text": [
      "\r",
      " 16%|█▌        | 56/360 [00:49<04:29,  1.13it/s]"
     ]
    },
    {
     "name": "stdout",
     "output_type": "stream",
     "text": [
      "similarity of the two sentences:  tensor(0.7185, device='cuda:0')\n"
     ]
    },
    {
     "name": "stderr",
     "output_type": "stream",
     "text": [
      "\r",
      " 16%|█▌        | 57/360 [00:50<04:27,  1.13it/s]"
     ]
    },
    {
     "name": "stdout",
     "output_type": "stream",
     "text": [
      "similarity of the two sentences:  tensor(0.8419, device='cuda:0')\n"
     ]
    },
    {
     "name": "stderr",
     "output_type": "stream",
     "text": [
      "\r",
      " 16%|█▌        | 58/360 [00:51<04:25,  1.14it/s]"
     ]
    },
    {
     "name": "stdout",
     "output_type": "stream",
     "text": [
      "similarity of the two sentences:  tensor(0.9670, device='cuda:0')\n"
     ]
    },
    {
     "name": "stderr",
     "output_type": "stream",
     "text": [
      "\r",
      " 16%|█▋        | 59/360 [00:52<04:24,  1.14it/s]"
     ]
    },
    {
     "name": "stdout",
     "output_type": "stream",
     "text": [
      "similarity of the two sentences:  tensor(0.9269, device='cuda:0')\n"
     ]
    },
    {
     "name": "stderr",
     "output_type": "stream",
     "text": [
      "\r",
      " 17%|█▋        | 60/360 [00:52<04:22,  1.14it/s]"
     ]
    },
    {
     "name": "stdout",
     "output_type": "stream",
     "text": [
      "similarity of the two sentences:  tensor(0.9693, device='cuda:0')\n"
     ]
    },
    {
     "name": "stderr",
     "output_type": "stream",
     "text": [
      "\r",
      " 17%|█▋        | 61/360 [00:53<04:18,  1.15it/s]"
     ]
    },
    {
     "name": "stdout",
     "output_type": "stream",
     "text": [
      "similarity of the two sentences:  tensor(0.8138, device='cuda:0')\n"
     ]
    },
    {
     "name": "stderr",
     "output_type": "stream",
     "text": [
      "\r",
      " 17%|█▋        | 62/360 [00:54<04:26,  1.12it/s]"
     ]
    },
    {
     "name": "stdout",
     "output_type": "stream",
     "text": [
      "similarity of the two sentences:  tensor(0.8292, device='cuda:0')\n"
     ]
    },
    {
     "name": "stderr",
     "output_type": "stream",
     "text": [
      "\r",
      " 18%|█▊        | 63/360 [00:55<04:24,  1.12it/s]"
     ]
    },
    {
     "name": "stdout",
     "output_type": "stream",
     "text": [
      "similarity of the two sentences:  tensor(1.0000, device='cuda:0')\n"
     ]
    },
    {
     "name": "stderr",
     "output_type": "stream",
     "text": [
      "\r",
      " 18%|█▊        | 64/360 [00:56<04:27,  1.11it/s]"
     ]
    },
    {
     "name": "stdout",
     "output_type": "stream",
     "text": [
      "similarity of the two sentences:  tensor(0.5812, device='cuda:0')\n"
     ]
    },
    {
     "name": "stderr",
     "output_type": "stream",
     "text": [
      "\r",
      " 18%|█▊        | 65/360 [00:57<04:23,  1.12it/s]"
     ]
    },
    {
     "name": "stdout",
     "output_type": "stream",
     "text": [
      "similarity of the two sentences:  tensor(1.0000, device='cuda:0')\n"
     ]
    },
    {
     "name": "stderr",
     "output_type": "stream",
     "text": [
      "\r",
      " 18%|█▊        | 66/360 [00:58<04:19,  1.13it/s]"
     ]
    },
    {
     "name": "stdout",
     "output_type": "stream",
     "text": [
      "similarity of the two sentences:  tensor(0.6512, device='cuda:0')\n"
     ]
    },
    {
     "name": "stderr",
     "output_type": "stream",
     "text": [
      "\r",
      " 19%|█▊        | 67/360 [00:59<04:15,  1.15it/s]"
     ]
    },
    {
     "name": "stdout",
     "output_type": "stream",
     "text": [
      "similarity of the two sentences:  tensor(0.8902, device='cuda:0')\n"
     ]
    },
    {
     "name": "stderr",
     "output_type": "stream",
     "text": [
      "\r",
      " 19%|█▉        | 68/360 [00:59<04:12,  1.16it/s]"
     ]
    },
    {
     "name": "stdout",
     "output_type": "stream",
     "text": [
      "similarity of the two sentences:  tensor(0.9186, device='cuda:0')\n"
     ]
    },
    {
     "name": "stderr",
     "output_type": "stream",
     "text": [
      "\r",
      " 19%|█▉        | 69/360 [01:00<04:19,  1.12it/s]"
     ]
    },
    {
     "name": "stdout",
     "output_type": "stream",
     "text": [
      "similarity of the two sentences:  tensor(0.4343, device='cuda:0')\n"
     ]
    },
    {
     "name": "stderr",
     "output_type": "stream",
     "text": [
      "\r",
      " 19%|█▉        | 70/360 [01:01<04:14,  1.14it/s]"
     ]
    },
    {
     "name": "stdout",
     "output_type": "stream",
     "text": [
      "similarity of the two sentences:  tensor(1., device='cuda:0')\n"
     ]
    },
    {
     "name": "stderr",
     "output_type": "stream",
     "text": [
      "\r",
      " 20%|█▉        | 71/360 [01:02<04:09,  1.16it/s]"
     ]
    },
    {
     "name": "stdout",
     "output_type": "stream",
     "text": [
      "similarity of the two sentences:  tensor(1.0000, device='cuda:0')\n"
     ]
    },
    {
     "name": "stderr",
     "output_type": "stream",
     "text": [
      "\r",
      " 20%|██        | 72/360 [01:03<04:06,  1.17it/s]"
     ]
    },
    {
     "name": "stdout",
     "output_type": "stream",
     "text": [
      "similarity of the two sentences:  tensor(1.0000, device='cuda:0')\n"
     ]
    },
    {
     "name": "stderr",
     "output_type": "stream",
     "text": [
      "\r",
      " 20%|██        | 73/360 [01:04<04:05,  1.17it/s]"
     ]
    },
    {
     "name": "stdout",
     "output_type": "stream",
     "text": [
      "similarity of the two sentences:  tensor(0.9361, device='cuda:0')\n"
     ]
    },
    {
     "name": "stderr",
     "output_type": "stream",
     "text": [
      "\r",
      " 21%|██        | 74/360 [01:05<04:04,  1.17it/s]"
     ]
    },
    {
     "name": "stdout",
     "output_type": "stream",
     "text": [
      "similarity of the two sentences:  tensor(0.7989, device='cuda:0')\n"
     ]
    },
    {
     "name": "stderr",
     "output_type": "stream",
     "text": [
      "\r",
      " 21%|██        | 75/360 [01:06<04:03,  1.17it/s]"
     ]
    },
    {
     "name": "stdout",
     "output_type": "stream",
     "text": [
      "similarity of the two sentences:  tensor(0.8539, device='cuda:0')\n"
     ]
    },
    {
     "name": "stderr",
     "output_type": "stream",
     "text": [
      "\r",
      " 21%|██        | 76/360 [01:06<04:01,  1.17it/s]"
     ]
    },
    {
     "name": "stdout",
     "output_type": "stream",
     "text": [
      "similarity of the two sentences:  tensor(0.8230, device='cuda:0')\n"
     ]
    },
    {
     "name": "stderr",
     "output_type": "stream",
     "text": [
      "\r",
      " 21%|██▏       | 77/360 [01:07<04:01,  1.17it/s]"
     ]
    },
    {
     "name": "stdout",
     "output_type": "stream",
     "text": [
      "similarity of the two sentences:  tensor(0.6779, device='cuda:0')\n"
     ]
    },
    {
     "name": "stderr",
     "output_type": "stream",
     "text": [
      "\r",
      " 22%|██▏       | 78/360 [01:08<03:58,  1.18it/s]"
     ]
    },
    {
     "name": "stdout",
     "output_type": "stream",
     "text": [
      "similarity of the two sentences:  tensor(1., device='cuda:0')\n"
     ]
    },
    {
     "name": "stderr",
     "output_type": "stream",
     "text": [
      "\r",
      " 22%|██▏       | 79/360 [01:09<03:58,  1.18it/s]"
     ]
    },
    {
     "name": "stdout",
     "output_type": "stream",
     "text": [
      "similarity of the two sentences:  tensor(0.3367, device='cuda:0')\n"
     ]
    },
    {
     "name": "stderr",
     "output_type": "stream",
     "text": [
      "\r",
      " 22%|██▏       | 80/360 [01:10<03:57,  1.18it/s]"
     ]
    },
    {
     "name": "stdout",
     "output_type": "stream",
     "text": [
      "similarity of the two sentences:  tensor(0.5103, device='cuda:0')\n"
     ]
    },
    {
     "name": "stderr",
     "output_type": "stream",
     "text": [
      "\r",
      " 22%|██▎       | 81/360 [01:11<03:57,  1.18it/s]"
     ]
    },
    {
     "name": "stdout",
     "output_type": "stream",
     "text": [
      "similarity of the two sentences:  tensor(0.8154, device='cuda:0')\n"
     ]
    },
    {
     "name": "stderr",
     "output_type": "stream",
     "text": [
      "\r",
      " 23%|██▎       | 82/360 [01:11<03:56,  1.18it/s]"
     ]
    },
    {
     "name": "stdout",
     "output_type": "stream",
     "text": [
      "similarity of the two sentences:  tensor(0.8857, device='cuda:0')\n"
     ]
    },
    {
     "name": "stderr",
     "output_type": "stream",
     "text": [
      "\r",
      " 23%|██▎       | 83/360 [01:12<03:55,  1.18it/s]"
     ]
    },
    {
     "name": "stdout",
     "output_type": "stream",
     "text": [
      "similarity of the two sentences:  tensor(1.0000, device='cuda:0')\n"
     ]
    },
    {
     "name": "stderr",
     "output_type": "stream",
     "text": [
      "\r",
      " 23%|██▎       | 84/360 [01:13<03:59,  1.15it/s]"
     ]
    },
    {
     "name": "stdout",
     "output_type": "stream",
     "text": [
      "similarity of the two sentences:  tensor(0.6049, device='cuda:0')\n"
     ]
    },
    {
     "name": "stderr",
     "output_type": "stream",
     "text": [
      "\r",
      " 24%|██▎       | 85/360 [01:14<04:01,  1.14it/s]"
     ]
    },
    {
     "name": "stdout",
     "output_type": "stream",
     "text": [
      "similarity of the two sentences:  tensor(0.6671, device='cuda:0')\n"
     ]
    },
    {
     "name": "stderr",
     "output_type": "stream",
     "text": [
      "\r",
      " 24%|██▍       | 86/360 [01:15<04:02,  1.13it/s]"
     ]
    },
    {
     "name": "stdout",
     "output_type": "stream",
     "text": [
      "similarity of the two sentences:  tensor(0.5937, device='cuda:0')\n"
     ]
    },
    {
     "name": "stderr",
     "output_type": "stream",
     "text": [
      "\r",
      " 24%|██▍       | 87/360 [01:16<04:02,  1.13it/s]"
     ]
    },
    {
     "name": "stdout",
     "output_type": "stream",
     "text": [
      "similarity of the two sentences:  tensor(0.7907, device='cuda:0')\n"
     ]
    },
    {
     "name": "stderr",
     "output_type": "stream",
     "text": [
      "\r",
      " 24%|██▍       | 88/360 [01:17<04:00,  1.13it/s]"
     ]
    },
    {
     "name": "stdout",
     "output_type": "stream",
     "text": [
      "similarity of the two sentences:  tensor(0.9950, device='cuda:0')\n"
     ]
    },
    {
     "name": "stderr",
     "output_type": "stream",
     "text": [
      "\r",
      " 25%|██▍       | 89/360 [01:18<04:00,  1.12it/s]"
     ]
    },
    {
     "name": "stdout",
     "output_type": "stream",
     "text": [
      "similarity of the two sentences:  tensor(0.2548, device='cuda:0')\n"
     ]
    },
    {
     "name": "stderr",
     "output_type": "stream",
     "text": [
      "\r",
      " 25%|██▌       | 90/360 [01:19<04:01,  1.12it/s]"
     ]
    },
    {
     "name": "stdout",
     "output_type": "stream",
     "text": [
      "similarity of the two sentences:  tensor(0.9345, device='cuda:0')\n"
     ]
    },
    {
     "name": "stderr",
     "output_type": "stream",
     "text": [
      "\r",
      " 25%|██▌       | 91/360 [01:20<04:03,  1.10it/s]"
     ]
    },
    {
     "name": "stdout",
     "output_type": "stream",
     "text": [
      "similarity of the two sentences:  tensor(0.8816, device='cuda:0')\n"
     ]
    },
    {
     "name": "stderr",
     "output_type": "stream",
     "text": [
      "\r",
      " 26%|██▌       | 92/360 [01:20<04:04,  1.09it/s]"
     ]
    },
    {
     "name": "stdout",
     "output_type": "stream",
     "text": [
      "similarity of the two sentences:  tensor(0.8787, device='cuda:0')\n"
     ]
    },
    {
     "name": "stderr",
     "output_type": "stream",
     "text": [
      "\r",
      " 26%|██▌       | 93/360 [01:21<03:57,  1.12it/s]"
     ]
    },
    {
     "name": "stdout",
     "output_type": "stream",
     "text": [
      "similarity of the two sentences:  tensor(0.9703, device='cuda:0')\n"
     ]
    },
    {
     "name": "stderr",
     "output_type": "stream",
     "text": [
      "\r",
      " 26%|██▌       | 94/360 [01:22<03:52,  1.14it/s]"
     ]
    },
    {
     "name": "stdout",
     "output_type": "stream",
     "text": [
      "similarity of the two sentences:  tensor(0.9116, device='cuda:0')\n"
     ]
    },
    {
     "name": "stderr",
     "output_type": "stream",
     "text": [
      "\r",
      " 26%|██▋       | 95/360 [01:23<03:50,  1.15it/s]"
     ]
    },
    {
     "name": "stdout",
     "output_type": "stream",
     "text": [
      "similarity of the two sentences:  tensor(0.7497, device='cuda:0')\n"
     ]
    },
    {
     "name": "stderr",
     "output_type": "stream",
     "text": [
      "\r",
      " 27%|██▋       | 96/360 [01:24<04:02,  1.09it/s]"
     ]
    },
    {
     "name": "stdout",
     "output_type": "stream",
     "text": [
      "similarity of the two sentences:  tensor(0.8091, device='cuda:0')\n"
     ]
    },
    {
     "name": "stderr",
     "output_type": "stream",
     "text": [
      "\r",
      " 27%|██▋       | 97/360 [01:25<04:01,  1.09it/s]"
     ]
    },
    {
     "name": "stdout",
     "output_type": "stream",
     "text": [
      "similarity of the two sentences:  tensor(0.7827, device='cuda:0')\n"
     ]
    },
    {
     "name": "stderr",
     "output_type": "stream",
     "text": [
      "\r",
      " 27%|██▋       | 98/360 [01:26<03:56,  1.11it/s]"
     ]
    },
    {
     "name": "stdout",
     "output_type": "stream",
     "text": [
      "similarity of the two sentences:  tensor(1.0000, device='cuda:0')\n"
     ]
    },
    {
     "name": "stderr",
     "output_type": "stream",
     "text": [
      "\r",
      " 28%|██▊       | 99/360 [01:27<03:52,  1.12it/s]"
     ]
    },
    {
     "name": "stdout",
     "output_type": "stream",
     "text": [
      "similarity of the two sentences:  tensor(0.4314, device='cuda:0')\n"
     ]
    },
    {
     "name": "stderr",
     "output_type": "stream",
     "text": [
      "\r",
      " 28%|██▊       | 100/360 [01:28<03:50,  1.13it/s]"
     ]
    },
    {
     "name": "stdout",
     "output_type": "stream",
     "text": [
      "similarity of the two sentences:  tensor(0.9780, device='cuda:0')\n"
     ]
    },
    {
     "name": "stderr",
     "output_type": "stream",
     "text": [
      "\r",
      " 28%|██▊       | 101/360 [01:28<03:47,  1.14it/s]"
     ]
    },
    {
     "name": "stdout",
     "output_type": "stream",
     "text": [
      "similarity of the two sentences:  tensor(0.8753, device='cuda:0')\n"
     ]
    },
    {
     "name": "stderr",
     "output_type": "stream",
     "text": [
      "\r",
      " 28%|██▊       | 102/360 [01:29<03:44,  1.15it/s]"
     ]
    },
    {
     "name": "stdout",
     "output_type": "stream",
     "text": [
      "similarity of the two sentences:  tensor(0.6605, device='cuda:0')\n"
     ]
    },
    {
     "name": "stderr",
     "output_type": "stream",
     "text": [
      "\r",
      " 29%|██▊       | 103/360 [01:30<03:43,  1.15it/s]"
     ]
    },
    {
     "name": "stdout",
     "output_type": "stream",
     "text": [
      "similarity of the two sentences:  tensor(0.8064, device='cuda:0')\n"
     ]
    },
    {
     "name": "stderr",
     "output_type": "stream",
     "text": [
      "\r",
      " 29%|██▉       | 104/360 [01:31<03:45,  1.13it/s]"
     ]
    },
    {
     "name": "stdout",
     "output_type": "stream",
     "text": [
      "similarity of the two sentences:  tensor(0.9799, device='cuda:0')\n"
     ]
    },
    {
     "name": "stderr",
     "output_type": "stream",
     "text": [
      "\r",
      " 29%|██▉       | 105/360 [01:32<03:46,  1.13it/s]"
     ]
    },
    {
     "name": "stdout",
     "output_type": "stream",
     "text": [
      "similarity of the two sentences:  tensor(0.9649, device='cuda:0')\n"
     ]
    },
    {
     "name": "stderr",
     "output_type": "stream",
     "text": [
      "\r",
      " 29%|██▉       | 106/360 [01:33<03:45,  1.13it/s]"
     ]
    },
    {
     "name": "stdout",
     "output_type": "stream",
     "text": [
      "similarity of the two sentences:  tensor(0.8042, device='cuda:0')\n"
     ]
    },
    {
     "name": "stderr",
     "output_type": "stream",
     "text": [
      "\r",
      " 30%|██▉       | 107/360 [01:34<03:46,  1.12it/s]"
     ]
    },
    {
     "name": "stdout",
     "output_type": "stream",
     "text": [
      "similarity of the two sentences:  tensor(0.9973, device='cuda:0')\n"
     ]
    },
    {
     "name": "stderr",
     "output_type": "stream",
     "text": [
      "\r",
      " 30%|███       | 108/360 [01:35<03:46,  1.11it/s]"
     ]
    },
    {
     "name": "stdout",
     "output_type": "stream",
     "text": [
      "similarity of the two sentences:  tensor(0.8523, device='cuda:0')\n"
     ]
    },
    {
     "name": "stderr",
     "output_type": "stream",
     "text": [
      "\r",
      " 30%|███       | 109/360 [01:36<03:49,  1.09it/s]"
     ]
    },
    {
     "name": "stdout",
     "output_type": "stream",
     "text": [
      "similarity of the two sentences:  tensor(0.8652, device='cuda:0')\n"
     ]
    },
    {
     "name": "stderr",
     "output_type": "stream",
     "text": [
      "\r",
      " 31%|███       | 110/360 [01:37<03:48,  1.10it/s]"
     ]
    },
    {
     "name": "stdout",
     "output_type": "stream",
     "text": [
      "similarity of the two sentences:  tensor(0.6766, device='cuda:0')\n"
     ]
    },
    {
     "name": "stderr",
     "output_type": "stream",
     "text": [
      "\r",
      " 31%|███       | 111/360 [01:37<03:46,  1.10it/s]"
     ]
    },
    {
     "name": "stdout",
     "output_type": "stream",
     "text": [
      "similarity of the two sentences:  tensor(0.9859, device='cuda:0')\n"
     ]
    },
    {
     "name": "stderr",
     "output_type": "stream",
     "text": [
      "\r",
      " 31%|███       | 112/360 [01:38<03:45,  1.10it/s]"
     ]
    },
    {
     "name": "stdout",
     "output_type": "stream",
     "text": [
      "similarity of the two sentences:  tensor(0.9452, device='cuda:0')\n"
     ]
    },
    {
     "name": "stderr",
     "output_type": "stream",
     "text": [
      "\r",
      " 31%|███▏      | 113/360 [01:39<03:45,  1.09it/s]"
     ]
    },
    {
     "name": "stdout",
     "output_type": "stream",
     "text": [
      "similarity of the two sentences:  tensor(0.8372, device='cuda:0')\n"
     ]
    },
    {
     "name": "stderr",
     "output_type": "stream",
     "text": [
      "\r",
      " 32%|███▏      | 114/360 [01:40<03:45,  1.09it/s]"
     ]
    },
    {
     "name": "stdout",
     "output_type": "stream",
     "text": [
      "similarity of the two sentences:  tensor(0.6871, device='cuda:0')\n"
     ]
    },
    {
     "name": "stderr",
     "output_type": "stream",
     "text": [
      "\r",
      " 32%|███▏      | 115/360 [01:41<03:47,  1.08it/s]"
     ]
    },
    {
     "name": "stdout",
     "output_type": "stream",
     "text": [
      "similarity of the two sentences:  tensor(0.9214, device='cuda:0')\n"
     ]
    },
    {
     "name": "stderr",
     "output_type": "stream",
     "text": [
      "\r",
      " 32%|███▏      | 116/360 [01:42<03:42,  1.10it/s]"
     ]
    },
    {
     "name": "stdout",
     "output_type": "stream",
     "text": [
      "similarity of the two sentences:  tensor(0.8007, device='cuda:0')\n"
     ]
    },
    {
     "name": "stderr",
     "output_type": "stream",
     "text": [
      "\r",
      " 32%|███▎      | 117/360 [01:43<03:37,  1.12it/s]"
     ]
    },
    {
     "name": "stdout",
     "output_type": "stream",
     "text": [
      "similarity of the two sentences:  tensor(0.9893, device='cuda:0')\n"
     ]
    },
    {
     "name": "stderr",
     "output_type": "stream",
     "text": [
      "\r",
      " 33%|███▎      | 118/360 [01:44<03:33,  1.14it/s]"
     ]
    },
    {
     "name": "stdout",
     "output_type": "stream",
     "text": [
      "similarity of the two sentences:  tensor(0.7801, device='cuda:0')\n"
     ]
    },
    {
     "name": "stderr",
     "output_type": "stream",
     "text": [
      "\r",
      " 33%|███▎      | 119/360 [01:45<03:29,  1.15it/s]"
     ]
    },
    {
     "name": "stdout",
     "output_type": "stream",
     "text": [
      "similarity of the two sentences:  tensor(0.5220, device='cuda:0')\n"
     ]
    },
    {
     "name": "stderr",
     "output_type": "stream",
     "text": [
      "\r",
      " 33%|███▎      | 120/360 [01:45<03:27,  1.16it/s]"
     ]
    },
    {
     "name": "stdout",
     "output_type": "stream",
     "text": [
      "similarity of the two sentences:  tensor(1.0000, device='cuda:0')\n"
     ]
    },
    {
     "name": "stderr",
     "output_type": "stream",
     "text": [
      "\r",
      " 34%|███▎      | 121/360 [01:46<03:30,  1.13it/s]"
     ]
    },
    {
     "name": "stdout",
     "output_type": "stream",
     "text": [
      "similarity of the two sentences:  tensor(1.0000, device='cuda:0')\n"
     ]
    },
    {
     "name": "stderr",
     "output_type": "stream",
     "text": [
      "\r",
      " 34%|███▍      | 122/360 [01:47<03:32,  1.12it/s]"
     ]
    },
    {
     "name": "stdout",
     "output_type": "stream",
     "text": [
      "similarity of the two sentences:  tensor(0.8357, device='cuda:0')\n"
     ]
    },
    {
     "name": "stderr",
     "output_type": "stream",
     "text": [
      "\r",
      " 34%|███▍      | 123/360 [01:48<03:33,  1.11it/s]"
     ]
    },
    {
     "name": "stdout",
     "output_type": "stream",
     "text": [
      "similarity of the two sentences:  tensor(0.8942, device='cuda:0')\n"
     ]
    },
    {
     "name": "stderr",
     "output_type": "stream",
     "text": [
      "\r",
      " 34%|███▍      | 124/360 [01:49<03:42,  1.06it/s]"
     ]
    },
    {
     "name": "stdout",
     "output_type": "stream",
     "text": [
      "similarity of the two sentences:  tensor(0.9603, device='cuda:0')\n"
     ]
    },
    {
     "name": "stderr",
     "output_type": "stream",
     "text": [
      "\r",
      " 35%|███▍      | 125/360 [01:50<03:38,  1.08it/s]"
     ]
    },
    {
     "name": "stdout",
     "output_type": "stream",
     "text": [
      "similarity of the two sentences:  tensor(0.8676, device='cuda:0')\n"
     ]
    },
    {
     "name": "stderr",
     "output_type": "stream",
     "text": [
      "\r",
      " 35%|███▌      | 126/360 [01:51<03:36,  1.08it/s]"
     ]
    },
    {
     "name": "stdout",
     "output_type": "stream",
     "text": [
      "similarity of the two sentences:  tensor(0.7628, device='cuda:0')\n"
     ]
    },
    {
     "name": "stderr",
     "output_type": "stream",
     "text": [
      "\r",
      " 35%|███▌      | 127/360 [01:52<03:32,  1.10it/s]"
     ]
    },
    {
     "name": "stdout",
     "output_type": "stream",
     "text": [
      "similarity of the two sentences:  tensor(0.8694, device='cuda:0')\n"
     ]
    },
    {
     "name": "stderr",
     "output_type": "stream",
     "text": [
      "\r",
      " 36%|███▌      | 128/360 [01:53<03:27,  1.12it/s]"
     ]
    },
    {
     "name": "stdout",
     "output_type": "stream",
     "text": [
      "similarity of the two sentences:  tensor(0.9198, device='cuda:0')\n"
     ]
    },
    {
     "name": "stderr",
     "output_type": "stream",
     "text": [
      "\r",
      " 36%|███▌      | 129/360 [01:54<03:22,  1.14it/s]"
     ]
    },
    {
     "name": "stdout",
     "output_type": "stream",
     "text": [
      "similarity of the two sentences:  tensor(0.9561, device='cuda:0')\n"
     ]
    },
    {
     "name": "stderr",
     "output_type": "stream",
     "text": [
      "\r",
      " 36%|███▌      | 130/360 [01:54<03:20,  1.15it/s]"
     ]
    },
    {
     "name": "stdout",
     "output_type": "stream",
     "text": [
      "similarity of the two sentences:  tensor(0.8826, device='cuda:0')\n"
     ]
    },
    {
     "name": "stderr",
     "output_type": "stream",
     "text": [
      "\r",
      " 36%|███▋      | 131/360 [01:55<03:17,  1.16it/s]"
     ]
    },
    {
     "name": "stdout",
     "output_type": "stream",
     "text": [
      "similarity of the two sentences:  tensor(0.8980, device='cuda:0')\n"
     ]
    },
    {
     "name": "stderr",
     "output_type": "stream",
     "text": [
      "\r",
      " 37%|███▋      | 132/360 [01:56<03:14,  1.17it/s]"
     ]
    },
    {
     "name": "stdout",
     "output_type": "stream",
     "text": [
      "similarity of the two sentences:  tensor(0.6448, device='cuda:0')\n"
     ]
    },
    {
     "name": "stderr",
     "output_type": "stream",
     "text": [
      "\r",
      " 37%|███▋      | 133/360 [01:57<03:14,  1.17it/s]"
     ]
    },
    {
     "name": "stdout",
     "output_type": "stream",
     "text": [
      "similarity of the two sentences:  tensor(0.7994, device='cuda:0')\n"
     ]
    },
    {
     "name": "stderr",
     "output_type": "stream",
     "text": [
      "\r",
      " 37%|███▋      | 134/360 [01:58<03:13,  1.17it/s]"
     ]
    },
    {
     "name": "stdout",
     "output_type": "stream",
     "text": [
      "similarity of the two sentences:  tensor(0.9382, device='cuda:0')\n"
     ]
    },
    {
     "name": "stderr",
     "output_type": "stream",
     "text": [
      "\r",
      " 38%|███▊      | 135/360 [01:59<03:13,  1.16it/s]"
     ]
    },
    {
     "name": "stdout",
     "output_type": "stream",
     "text": [
      "similarity of the two sentences:  tensor(0.6367, device='cuda:0')\n"
     ]
    },
    {
     "name": "stderr",
     "output_type": "stream",
     "text": [
      "\r",
      " 38%|███▊      | 136/360 [02:00<03:13,  1.16it/s]"
     ]
    },
    {
     "name": "stdout",
     "output_type": "stream",
     "text": [
      "similarity of the two sentences:  tensor(0.9413, device='cuda:0')\n"
     ]
    },
    {
     "name": "stderr",
     "output_type": "stream",
     "text": [
      "\r",
      " 38%|███▊      | 137/360 [02:00<03:12,  1.16it/s]"
     ]
    },
    {
     "name": "stdout",
     "output_type": "stream",
     "text": [
      "similarity of the two sentences:  tensor(0.9643, device='cuda:0')\n"
     ]
    },
    {
     "name": "stderr",
     "output_type": "stream",
     "text": [
      "\r",
      " 38%|███▊      | 138/360 [02:01<03:12,  1.15it/s]"
     ]
    },
    {
     "name": "stdout",
     "output_type": "stream",
     "text": [
      "similarity of the two sentences:  tensor(0.9601, device='cuda:0')\n"
     ]
    },
    {
     "name": "stderr",
     "output_type": "stream",
     "text": [
      "\r",
      " 39%|███▊      | 139/360 [02:02<03:15,  1.13it/s]"
     ]
    },
    {
     "name": "stdout",
     "output_type": "stream",
     "text": [
      "similarity of the two sentences:  tensor(0.9611, device='cuda:0')\n"
     ]
    },
    {
     "name": "stderr",
     "output_type": "stream",
     "text": [
      "\r",
      " 39%|███▉      | 140/360 [02:03<03:15,  1.13it/s]"
     ]
    },
    {
     "name": "stdout",
     "output_type": "stream",
     "text": [
      "similarity of the two sentences:  tensor(0.6979, device='cuda:0')\n"
     ]
    },
    {
     "name": "stderr",
     "output_type": "stream",
     "text": [
      "\r",
      " 39%|███▉      | 141/360 [02:04<03:13,  1.13it/s]"
     ]
    },
    {
     "name": "stdout",
     "output_type": "stream",
     "text": [
      "similarity of the two sentences:  tensor(0.7038, device='cuda:0')\n"
     ]
    },
    {
     "name": "stderr",
     "output_type": "stream",
     "text": [
      "\r",
      " 39%|███▉      | 142/360 [02:05<03:11,  1.14it/s]"
     ]
    },
    {
     "name": "stdout",
     "output_type": "stream",
     "text": [
      "similarity of the two sentences:  tensor(0.4826, device='cuda:0')\n"
     ]
    },
    {
     "name": "stderr",
     "output_type": "stream",
     "text": [
      "\r",
      " 40%|███▉      | 143/360 [02:06<03:10,  1.14it/s]"
     ]
    },
    {
     "name": "stdout",
     "output_type": "stream",
     "text": [
      "similarity of the two sentences:  tensor(0.9016, device='cuda:0')\n"
     ]
    },
    {
     "name": "stderr",
     "output_type": "stream",
     "text": [
      "\r",
      " 40%|████      | 144/360 [02:07<03:09,  1.14it/s]"
     ]
    },
    {
     "name": "stdout",
     "output_type": "stream",
     "text": [
      "similarity of the two sentences:  tensor(1., device='cuda:0')\n"
     ]
    },
    {
     "name": "stderr",
     "output_type": "stream",
     "text": [
      "\r",
      " 40%|████      | 145/360 [02:07<03:06,  1.15it/s]"
     ]
    },
    {
     "name": "stdout",
     "output_type": "stream",
     "text": [
      "similarity of the two sentences:  tensor(0.7125, device='cuda:0')\n"
     ]
    },
    {
     "name": "stderr",
     "output_type": "stream",
     "text": [
      "\r",
      " 41%|████      | 146/360 [02:08<03:04,  1.16it/s]"
     ]
    },
    {
     "name": "stdout",
     "output_type": "stream",
     "text": [
      "similarity of the two sentences:  tensor(0.8997, device='cuda:0')\n"
     ]
    },
    {
     "name": "stderr",
     "output_type": "stream",
     "text": [
      "\r",
      " 41%|████      | 147/360 [02:09<03:05,  1.15it/s]"
     ]
    },
    {
     "name": "stdout",
     "output_type": "stream",
     "text": [
      "similarity of the two sentences:  tensor(0.7593, device='cuda:0')\n"
     ]
    },
    {
     "name": "stderr",
     "output_type": "stream",
     "text": [
      "\r",
      " 41%|████      | 148/360 [02:10<03:05,  1.14it/s]"
     ]
    },
    {
     "name": "stdout",
     "output_type": "stream",
     "text": [
      "similarity of the two sentences:  tensor(0.7807, device='cuda:0')\n"
     ]
    },
    {
     "name": "stderr",
     "output_type": "stream",
     "text": [
      "\r",
      " 41%|████▏     | 149/360 [02:11<03:13,  1.09it/s]"
     ]
    },
    {
     "name": "stdout",
     "output_type": "stream",
     "text": [
      "similarity of the two sentences:  tensor(0.9505, device='cuda:0')\n"
     ]
    },
    {
     "name": "stderr",
     "output_type": "stream",
     "text": [
      "\r",
      " 42%|████▏     | 150/360 [02:12<03:08,  1.11it/s]"
     ]
    },
    {
     "name": "stdout",
     "output_type": "stream",
     "text": [
      "similarity of the two sentences:  tensor(1., device='cuda:0')\n"
     ]
    },
    {
     "name": "stderr",
     "output_type": "stream",
     "text": [
      "\r",
      " 42%|████▏     | 151/360 [02:13<03:05,  1.13it/s]"
     ]
    },
    {
     "name": "stdout",
     "output_type": "stream",
     "text": [
      "similarity of the two sentences:  tensor(0.8931, device='cuda:0')\n"
     ]
    },
    {
     "name": "stderr",
     "output_type": "stream",
     "text": [
      "\r",
      " 42%|████▏     | 152/360 [02:14<03:02,  1.14it/s]"
     ]
    },
    {
     "name": "stdout",
     "output_type": "stream",
     "text": [
      "similarity of the two sentences:  tensor(0.9174, device='cuda:0')\n"
     ]
    },
    {
     "name": "stderr",
     "output_type": "stream",
     "text": [
      "\r",
      " 42%|████▎     | 153/360 [02:15<03:00,  1.15it/s]"
     ]
    },
    {
     "name": "stdout",
     "output_type": "stream",
     "text": [
      "similarity of the two sentences:  tensor(0.7169, device='cuda:0')\n"
     ]
    },
    {
     "name": "stderr",
     "output_type": "stream",
     "text": [
      "\r",
      " 43%|████▎     | 154/360 [02:15<02:57,  1.16it/s]"
     ]
    },
    {
     "name": "stdout",
     "output_type": "stream",
     "text": [
      "similarity of the two sentences:  tensor(0.8669, device='cuda:0')\n"
     ]
    },
    {
     "name": "stderr",
     "output_type": "stream",
     "text": [
      "\r",
      " 43%|████▎     | 155/360 [02:16<02:57,  1.16it/s]"
     ]
    },
    {
     "name": "stdout",
     "output_type": "stream",
     "text": [
      "similarity of the two sentences:  tensor(0.9678, device='cuda:0')\n"
     ]
    },
    {
     "name": "stderr",
     "output_type": "stream",
     "text": [
      "\r",
      " 43%|████▎     | 156/360 [02:17<02:55,  1.16it/s]"
     ]
    },
    {
     "name": "stdout",
     "output_type": "stream",
     "text": [
      "similarity of the two sentences:  tensor(0.7157, device='cuda:0')\n"
     ]
    },
    {
     "name": "stderr",
     "output_type": "stream",
     "text": [
      "\r",
      " 44%|████▎     | 157/360 [02:18<02:53,  1.17it/s]"
     ]
    },
    {
     "name": "stdout",
     "output_type": "stream",
     "text": [
      "similarity of the two sentences:  tensor(0.7106, device='cuda:0')\n"
     ]
    },
    {
     "name": "stderr",
     "output_type": "stream",
     "text": [
      "\r",
      " 44%|████▍     | 158/360 [02:19<02:52,  1.17it/s]"
     ]
    },
    {
     "name": "stdout",
     "output_type": "stream",
     "text": [
      "similarity of the two sentences:  tensor(0.9514, device='cuda:0')\n"
     ]
    },
    {
     "name": "stderr",
     "output_type": "stream",
     "text": [
      "\r",
      " 44%|████▍     | 159/360 [02:20<02:51,  1.17it/s]"
     ]
    },
    {
     "name": "stdout",
     "output_type": "stream",
     "text": [
      "similarity of the two sentences:  tensor(0.7238, device='cuda:0')\n"
     ]
    },
    {
     "name": "stderr",
     "output_type": "stream",
     "text": [
      "\r",
      " 44%|████▍     | 160/360 [02:21<02:51,  1.16it/s]"
     ]
    },
    {
     "name": "stdout",
     "output_type": "stream",
     "text": [
      "similarity of the two sentences:  tensor(0.8207, device='cuda:0')\n"
     ]
    },
    {
     "name": "stderr",
     "output_type": "stream",
     "text": [
      "\r",
      " 45%|████▍     | 161/360 [02:21<02:52,  1.16it/s]"
     ]
    },
    {
     "name": "stdout",
     "output_type": "stream",
     "text": [
      "similarity of the two sentences:  tensor(0.3918, device='cuda:0')\n"
     ]
    },
    {
     "name": "stderr",
     "output_type": "stream",
     "text": [
      "\r",
      " 45%|████▌     | 162/360 [02:22<02:53,  1.14it/s]"
     ]
    },
    {
     "name": "stdout",
     "output_type": "stream",
     "text": [
      "similarity of the two sentences:  tensor(0.9395, device='cuda:0')\n"
     ]
    },
    {
     "name": "stderr",
     "output_type": "stream",
     "text": [
      "\r",
      " 45%|████▌     | 163/360 [02:23<02:52,  1.14it/s]"
     ]
    },
    {
     "name": "stdout",
     "output_type": "stream",
     "text": [
      "similarity of the two sentences:  tensor(0.4137, device='cuda:0')\n"
     ]
    },
    {
     "name": "stderr",
     "output_type": "stream",
     "text": [
      "\r",
      " 46%|████▌     | 164/360 [02:24<02:51,  1.15it/s]"
     ]
    },
    {
     "name": "stdout",
     "output_type": "stream",
     "text": [
      "similarity of the two sentences:  tensor(0.7080, device='cuda:0')\n"
     ]
    },
    {
     "name": "stderr",
     "output_type": "stream",
     "text": [
      "\r",
      " 46%|████▌     | 165/360 [02:25<02:50,  1.14it/s]"
     ]
    },
    {
     "name": "stdout",
     "output_type": "stream",
     "text": [
      "similarity of the two sentences:  tensor(0.8516, device='cuda:0')\n"
     ]
    },
    {
     "name": "stderr",
     "output_type": "stream",
     "text": [
      "\r",
      " 46%|████▌     | 166/360 [02:26<02:49,  1.15it/s]"
     ]
    },
    {
     "name": "stdout",
     "output_type": "stream",
     "text": [
      "similarity of the two sentences:  tensor(0.8494, device='cuda:0')\n"
     ]
    },
    {
     "name": "stderr",
     "output_type": "stream",
     "text": [
      "\r",
      " 46%|████▋     | 167/360 [02:27<02:48,  1.15it/s]"
     ]
    },
    {
     "name": "stdout",
     "output_type": "stream",
     "text": [
      "similarity of the two sentences:  tensor(0.5866, device='cuda:0')\n"
     ]
    },
    {
     "name": "stderr",
     "output_type": "stream",
     "text": [
      "\r",
      " 47%|████▋     | 168/360 [02:28<02:47,  1.15it/s]"
     ]
    },
    {
     "name": "stdout",
     "output_type": "stream",
     "text": [
      "similarity of the two sentences:  tensor(0.8241, device='cuda:0')\n"
     ]
    },
    {
     "name": "stderr",
     "output_type": "stream",
     "text": [
      "\r",
      " 47%|████▋     | 169/360 [02:29<02:54,  1.09it/s]"
     ]
    },
    {
     "name": "stdout",
     "output_type": "stream",
     "text": [
      "similarity of the two sentences:  tensor(0.8936, device='cuda:0')\n"
     ]
    },
    {
     "name": "stderr",
     "output_type": "stream",
     "text": [
      "\r",
      " 47%|████▋     | 170/360 [02:29<02:51,  1.11it/s]"
     ]
    },
    {
     "name": "stdout",
     "output_type": "stream",
     "text": [
      "similarity of the two sentences:  tensor(0.8108, device='cuda:0')\n"
     ]
    },
    {
     "name": "stderr",
     "output_type": "stream",
     "text": [
      "\r",
      " 48%|████▊     | 171/360 [02:30<02:51,  1.10it/s]"
     ]
    },
    {
     "name": "stdout",
     "output_type": "stream",
     "text": [
      "similarity of the two sentences:  tensor(1.0000, device='cuda:0')\n"
     ]
    },
    {
     "name": "stderr",
     "output_type": "stream",
     "text": [
      "\r",
      " 48%|████▊     | 172/360 [02:31<02:56,  1.07it/s]"
     ]
    },
    {
     "name": "stdout",
     "output_type": "stream",
     "text": [
      "similarity of the two sentences:  tensor(0.8390, device='cuda:0')\n"
     ]
    },
    {
     "name": "stderr",
     "output_type": "stream",
     "text": [
      "\r",
      " 48%|████▊     | 173/360 [02:32<02:51,  1.09it/s]"
     ]
    },
    {
     "name": "stdout",
     "output_type": "stream",
     "text": [
      "similarity of the two sentences:  tensor(0.8704, device='cuda:0')\n"
     ]
    },
    {
     "name": "stderr",
     "output_type": "stream",
     "text": [
      "\r",
      " 48%|████▊     | 174/360 [02:33<02:48,  1.11it/s]"
     ]
    },
    {
     "name": "stdout",
     "output_type": "stream",
     "text": [
      "similarity of the two sentences:  tensor(0.9811, device='cuda:0')\n"
     ]
    },
    {
     "name": "stderr",
     "output_type": "stream",
     "text": [
      "\r",
      " 49%|████▊     | 175/360 [02:34<02:45,  1.12it/s]"
     ]
    },
    {
     "name": "stdout",
     "output_type": "stream",
     "text": [
      "similarity of the two sentences:  tensor(0.8422, device='cuda:0')\n"
     ]
    },
    {
     "name": "stderr",
     "output_type": "stream",
     "text": [
      "\r",
      " 49%|████▉     | 176/360 [02:35<02:41,  1.14it/s]"
     ]
    },
    {
     "name": "stdout",
     "output_type": "stream",
     "text": [
      "similarity of the two sentences:  tensor(0.7263, device='cuda:0')\n"
     ]
    },
    {
     "name": "stderr",
     "output_type": "stream",
     "text": [
      "\r",
      " 49%|████▉     | 177/360 [02:36<02:39,  1.15it/s]"
     ]
    },
    {
     "name": "stdout",
     "output_type": "stream",
     "text": [
      "similarity of the two sentences:  tensor(1.0000, device='cuda:0')\n"
     ]
    },
    {
     "name": "stderr",
     "output_type": "stream",
     "text": [
      "\r",
      " 49%|████▉     | 178/360 [02:37<02:42,  1.12it/s]"
     ]
    },
    {
     "name": "stdout",
     "output_type": "stream",
     "text": [
      "similarity of the two sentences:  tensor(0.8265, device='cuda:0')\n"
     ]
    },
    {
     "name": "stderr",
     "output_type": "stream",
     "text": [
      "\r",
      " 50%|████▉     | 179/360 [02:37<02:39,  1.13it/s]"
     ]
    },
    {
     "name": "stdout",
     "output_type": "stream",
     "text": [
      "similarity of the two sentences:  tensor(0.9682, device='cuda:0')\n"
     ]
    },
    {
     "name": "stderr",
     "output_type": "stream",
     "text": [
      "\r",
      " 50%|█████     | 180/360 [02:38<02:36,  1.15it/s]"
     ]
    },
    {
     "name": "stdout",
     "output_type": "stream",
     "text": [
      "similarity of the two sentences:  tensor(0.9437, device='cuda:0')\n"
     ]
    },
    {
     "name": "stderr",
     "output_type": "stream",
     "text": [
      "\r",
      " 50%|█████     | 181/360 [02:39<02:33,  1.16it/s]"
     ]
    },
    {
     "name": "stdout",
     "output_type": "stream",
     "text": [
      "similarity of the two sentences:  tensor(0.8584, device='cuda:0')\n"
     ]
    },
    {
     "name": "stderr",
     "output_type": "stream",
     "text": [
      "\r",
      " 51%|█████     | 182/360 [02:40<02:33,  1.16it/s]"
     ]
    },
    {
     "name": "stdout",
     "output_type": "stream",
     "text": [
      "similarity of the two sentences:  tensor(0.9850, device='cuda:0')\n"
     ]
    },
    {
     "name": "stderr",
     "output_type": "stream",
     "text": [
      "\r",
      " 51%|█████     | 183/360 [02:41<02:34,  1.15it/s]"
     ]
    },
    {
     "name": "stdout",
     "output_type": "stream",
     "text": [
      "similarity of the two sentences:  tensor(0.9770, device='cuda:0')\n"
     ]
    },
    {
     "name": "stderr",
     "output_type": "stream",
     "text": [
      "\r",
      " 51%|█████     | 184/360 [02:42<02:37,  1.12it/s]"
     ]
    },
    {
     "name": "stdout",
     "output_type": "stream",
     "text": [
      "similarity of the two sentences:  tensor(0.7401, device='cuda:0')\n"
     ]
    },
    {
     "name": "stderr",
     "output_type": "stream",
     "text": [
      "\r",
      " 51%|█████▏    | 185/360 [02:43<02:35,  1.13it/s]"
     ]
    },
    {
     "name": "stdout",
     "output_type": "stream",
     "text": [
      "similarity of the two sentences:  tensor(1., device='cuda:0')\n"
     ]
    },
    {
     "name": "stderr",
     "output_type": "stream",
     "text": [
      "\r",
      " 52%|█████▏    | 186/360 [02:44<02:32,  1.14it/s]"
     ]
    },
    {
     "name": "stdout",
     "output_type": "stream",
     "text": [
      "similarity of the two sentences:  tensor(0.8841, device='cuda:0')\n"
     ]
    },
    {
     "name": "stderr",
     "output_type": "stream",
     "text": [
      "\r",
      " 52%|█████▏    | 187/360 [02:44<02:33,  1.13it/s]"
     ]
    },
    {
     "name": "stdout",
     "output_type": "stream",
     "text": [
      "similarity of the two sentences:  tensor(0.9722, device='cuda:0')\n"
     ]
    },
    {
     "name": "stderr",
     "output_type": "stream",
     "text": [
      "\r",
      " 52%|█████▏    | 188/360 [02:45<02:32,  1.12it/s]"
     ]
    },
    {
     "name": "stdout",
     "output_type": "stream",
     "text": [
      "similarity of the two sentences:  tensor(0.5005, device='cuda:0')\n"
     ]
    },
    {
     "name": "stderr",
     "output_type": "stream",
     "text": [
      "\r",
      " 52%|█████▎    | 189/360 [02:46<02:30,  1.13it/s]"
     ]
    },
    {
     "name": "stdout",
     "output_type": "stream",
     "text": [
      "similarity of the two sentences:  tensor(0.9196, device='cuda:0')\n"
     ]
    },
    {
     "name": "stderr",
     "output_type": "stream",
     "text": [
      "\r",
      " 53%|█████▎    | 190/360 [02:47<02:29,  1.14it/s]"
     ]
    },
    {
     "name": "stdout",
     "output_type": "stream",
     "text": [
      "similarity of the two sentences:  tensor(1.0000, device='cuda:0')\n"
     ]
    },
    {
     "name": "stderr",
     "output_type": "stream",
     "text": [
      "\r",
      " 53%|█████▎    | 191/360 [02:48<02:28,  1.14it/s]"
     ]
    },
    {
     "name": "stdout",
     "output_type": "stream",
     "text": [
      "similarity of the two sentences:  tensor(0.6446, device='cuda:0')\n"
     ]
    },
    {
     "name": "stderr",
     "output_type": "stream",
     "text": [
      "\r",
      " 53%|█████▎    | 192/360 [02:49<02:27,  1.14it/s]"
     ]
    },
    {
     "name": "stdout",
     "output_type": "stream",
     "text": [
      "similarity of the two sentences:  tensor(1., device='cuda:0')\n"
     ]
    },
    {
     "name": "stderr",
     "output_type": "stream",
     "text": [
      "\r",
      " 54%|█████▎    | 193/360 [02:50<02:26,  1.14it/s]"
     ]
    },
    {
     "name": "stdout",
     "output_type": "stream",
     "text": [
      "similarity of the two sentences:  tensor(0.9171, device='cuda:0')\n"
     ]
    },
    {
     "name": "stderr",
     "output_type": "stream",
     "text": [
      "\r",
      " 54%|█████▍    | 194/360 [02:51<02:28,  1.12it/s]"
     ]
    },
    {
     "name": "stdout",
     "output_type": "stream",
     "text": [
      "similarity of the two sentences:  tensor(0.8550, device='cuda:0')\n"
     ]
    },
    {
     "name": "stderr",
     "output_type": "stream",
     "text": [
      "\r",
      " 54%|█████▍    | 195/360 [02:52<02:30,  1.10it/s]"
     ]
    },
    {
     "name": "stdout",
     "output_type": "stream",
     "text": [
      "similarity of the two sentences:  tensor(1.0000, device='cuda:0')\n"
     ]
    },
    {
     "name": "stderr",
     "output_type": "stream",
     "text": [
      "\r",
      " 54%|█████▍    | 196/360 [02:52<02:27,  1.11it/s]"
     ]
    },
    {
     "name": "stdout",
     "output_type": "stream",
     "text": [
      "similarity of the two sentences:  tensor(0.8886, device='cuda:0')\n"
     ]
    },
    {
     "name": "stderr",
     "output_type": "stream",
     "text": [
      "\r",
      " 55%|█████▍    | 197/360 [02:53<02:25,  1.12it/s]"
     ]
    },
    {
     "name": "stdout",
     "output_type": "stream",
     "text": [
      "similarity of the two sentences:  tensor(0.8057, device='cuda:0')\n"
     ]
    },
    {
     "name": "stderr",
     "output_type": "stream",
     "text": [
      "\r",
      " 55%|█████▌    | 198/360 [02:54<02:23,  1.13it/s]"
     ]
    },
    {
     "name": "stdout",
     "output_type": "stream",
     "text": [
      "similarity of the two sentences:  tensor(0.6019, device='cuda:0')\n"
     ]
    },
    {
     "name": "stderr",
     "output_type": "stream",
     "text": [
      "\r",
      " 55%|█████▌    | 199/360 [02:55<02:20,  1.14it/s]"
     ]
    },
    {
     "name": "stdout",
     "output_type": "stream",
     "text": [
      "similarity of the two sentences:  tensor(0.8832, device='cuda:0')\n"
     ]
    },
    {
     "name": "stderr",
     "output_type": "stream",
     "text": [
      "\r",
      " 56%|█████▌    | 200/360 [02:56<02:19,  1.15it/s]"
     ]
    },
    {
     "name": "stdout",
     "output_type": "stream",
     "text": [
      "similarity of the two sentences:  tensor(0.9751, device='cuda:0')\n"
     ]
    },
    {
     "name": "stderr",
     "output_type": "stream",
     "text": [
      "\r",
      " 56%|█████▌    | 201/360 [02:57<02:17,  1.16it/s]"
     ]
    },
    {
     "name": "stdout",
     "output_type": "stream",
     "text": [
      "similarity of the two sentences:  tensor(0.9670, device='cuda:0')\n"
     ]
    },
    {
     "name": "stderr",
     "output_type": "stream",
     "text": [
      "\r",
      " 56%|█████▌    | 202/360 [02:58<02:15,  1.17it/s]"
     ]
    },
    {
     "name": "stdout",
     "output_type": "stream",
     "text": [
      "similarity of the two sentences:  tensor(0.9731, device='cuda:0')\n"
     ]
    },
    {
     "name": "stderr",
     "output_type": "stream",
     "text": [
      "\r",
      " 56%|█████▋    | 203/360 [02:59<02:17,  1.14it/s]"
     ]
    },
    {
     "name": "stdout",
     "output_type": "stream",
     "text": [
      "similarity of the two sentences:  tensor(0.8973, device='cuda:0')\n"
     ]
    },
    {
     "name": "stderr",
     "output_type": "stream",
     "text": [
      "\r",
      " 57%|█████▋    | 204/360 [02:59<02:18,  1.13it/s]"
     ]
    },
    {
     "name": "stdout",
     "output_type": "stream",
     "text": [
      "similarity of the two sentences:  tensor(0.6541, device='cuda:0')\n"
     ]
    },
    {
     "name": "stderr",
     "output_type": "stream",
     "text": [
      "\r",
      " 57%|█████▋    | 205/360 [03:00<02:17,  1.13it/s]"
     ]
    },
    {
     "name": "stdout",
     "output_type": "stream",
     "text": [
      "similarity of the two sentences:  tensor(0.8580, device='cuda:0')\n"
     ]
    },
    {
     "name": "stderr",
     "output_type": "stream",
     "text": [
      "\r",
      " 57%|█████▋    | 206/360 [03:01<02:17,  1.12it/s]"
     ]
    },
    {
     "name": "stdout",
     "output_type": "stream",
     "text": [
      "similarity of the two sentences:  tensor(0.8316, device='cuda:0')\n"
     ]
    },
    {
     "name": "stderr",
     "output_type": "stream",
     "text": [
      "\r",
      " 57%|█████▊    | 207/360 [03:02<02:15,  1.13it/s]"
     ]
    },
    {
     "name": "stdout",
     "output_type": "stream",
     "text": [
      "similarity of the two sentences:  tensor(0.8665, device='cuda:0')\n"
     ]
    },
    {
     "name": "stderr",
     "output_type": "stream",
     "text": [
      "\r",
      " 58%|█████▊    | 208/360 [03:03<02:17,  1.10it/s]"
     ]
    },
    {
     "name": "stdout",
     "output_type": "stream",
     "text": [
      "similarity of the two sentences:  tensor(1.0000, device='cuda:0')\n"
     ]
    },
    {
     "name": "stderr",
     "output_type": "stream",
     "text": [
      "\r",
      " 58%|█████▊    | 209/360 [03:04<02:16,  1.10it/s]"
     ]
    },
    {
     "name": "stdout",
     "output_type": "stream",
     "text": [
      "similarity of the two sentences:  tensor(0.8661, device='cuda:0')\n"
     ]
    },
    {
     "name": "stderr",
     "output_type": "stream",
     "text": [
      "\r",
      " 58%|█████▊    | 210/360 [03:05<02:13,  1.12it/s]"
     ]
    },
    {
     "name": "stdout",
     "output_type": "stream",
     "text": [
      "similarity of the two sentences:  tensor(1., device='cuda:0')\n"
     ]
    },
    {
     "name": "stderr",
     "output_type": "stream",
     "text": [
      "\r",
      " 59%|█████▊    | 211/360 [03:06<02:11,  1.13it/s]"
     ]
    },
    {
     "name": "stdout",
     "output_type": "stream",
     "text": [
      "similarity of the two sentences:  tensor(0.9613, device='cuda:0')\n"
     ]
    },
    {
     "name": "stderr",
     "output_type": "stream",
     "text": [
      "\r",
      " 59%|█████▉    | 212/360 [03:07<02:09,  1.14it/s]"
     ]
    },
    {
     "name": "stdout",
     "output_type": "stream",
     "text": [
      "similarity of the two sentences:  tensor(0.6744, device='cuda:0')\n"
     ]
    },
    {
     "name": "stderr",
     "output_type": "stream",
     "text": [
      "\r",
      " 59%|█████▉    | 213/360 [03:07<02:08,  1.15it/s]"
     ]
    },
    {
     "name": "stdout",
     "output_type": "stream",
     "text": [
      "similarity of the two sentences:  tensor(0.7400, device='cuda:0')\n"
     ]
    },
    {
     "name": "stderr",
     "output_type": "stream",
     "text": [
      "\r",
      " 59%|█████▉    | 214/360 [03:08<02:06,  1.16it/s]"
     ]
    },
    {
     "name": "stdout",
     "output_type": "stream",
     "text": [
      "similarity of the two sentences:  tensor(0.9734, device='cuda:0')\n"
     ]
    },
    {
     "name": "stderr",
     "output_type": "stream",
     "text": [
      "\r",
      " 60%|█████▉    | 215/360 [03:09<02:04,  1.17it/s]"
     ]
    },
    {
     "name": "stdout",
     "output_type": "stream",
     "text": [
      "similarity of the two sentences:  tensor(0.9032, device='cuda:0')\n"
     ]
    },
    {
     "name": "stderr",
     "output_type": "stream",
     "text": [
      "\r",
      " 60%|██████    | 216/360 [03:10<02:02,  1.18it/s]"
     ]
    },
    {
     "name": "stdout",
     "output_type": "stream",
     "text": [
      "similarity of the two sentences:  tensor(0.8677, device='cuda:0')\n"
     ]
    },
    {
     "name": "stderr",
     "output_type": "stream",
     "text": [
      "\r",
      " 60%|██████    | 217/360 [03:11<02:01,  1.18it/s]"
     ]
    },
    {
     "name": "stdout",
     "output_type": "stream",
     "text": [
      "similarity of the two sentences:  tensor(1.0000, device='cuda:0')\n"
     ]
    },
    {
     "name": "stderr",
     "output_type": "stream",
     "text": [
      "\r",
      " 61%|██████    | 218/360 [03:12<02:04,  1.14it/s]"
     ]
    },
    {
     "name": "stdout",
     "output_type": "stream",
     "text": [
      "similarity of the two sentences:  tensor(0.8247, device='cuda:0')\n"
     ]
    },
    {
     "name": "stderr",
     "output_type": "stream",
     "text": [
      "\r",
      " 61%|██████    | 219/360 [03:13<02:03,  1.15it/s]"
     ]
    },
    {
     "name": "stdout",
     "output_type": "stream",
     "text": [
      "similarity of the two sentences:  tensor(0.9381, device='cuda:0')\n"
     ]
    },
    {
     "name": "stderr",
     "output_type": "stream",
     "text": [
      "\r",
      " 61%|██████    | 220/360 [03:13<02:01,  1.15it/s]"
     ]
    },
    {
     "name": "stdout",
     "output_type": "stream",
     "text": [
      "similarity of the two sentences:  tensor(0.7658, device='cuda:0')\n"
     ]
    },
    {
     "name": "stderr",
     "output_type": "stream",
     "text": [
      "\r",
      " 61%|██████▏   | 221/360 [03:14<02:00,  1.16it/s]"
     ]
    },
    {
     "name": "stdout",
     "output_type": "stream",
     "text": [
      "similarity of the two sentences:  tensor(0.8524, device='cuda:0')\n"
     ]
    },
    {
     "name": "stderr",
     "output_type": "stream",
     "text": [
      "\r",
      " 62%|██████▏   | 222/360 [03:15<01:58,  1.16it/s]"
     ]
    },
    {
     "name": "stdout",
     "output_type": "stream",
     "text": [
      "similarity of the two sentences:  tensor(0.7070, device='cuda:0')\n"
     ]
    },
    {
     "name": "stderr",
     "output_type": "stream",
     "text": [
      "\r",
      " 62%|██████▏   | 223/360 [03:16<01:58,  1.16it/s]"
     ]
    },
    {
     "name": "stdout",
     "output_type": "stream",
     "text": [
      "similarity of the two sentences:  tensor(0.7234, device='cuda:0')\n"
     ]
    },
    {
     "name": "stderr",
     "output_type": "stream",
     "text": [
      "\r",
      " 62%|██████▏   | 224/360 [03:17<01:57,  1.16it/s]"
     ]
    },
    {
     "name": "stdout",
     "output_type": "stream",
     "text": [
      "similarity of the two sentences:  tensor(0.5169, device='cuda:0')\n"
     ]
    },
    {
     "name": "stderr",
     "output_type": "stream",
     "text": [
      "\r",
      " 62%|██████▎   | 225/360 [03:18<01:56,  1.16it/s]"
     ]
    },
    {
     "name": "stdout",
     "output_type": "stream",
     "text": [
      "similarity of the two sentences:  tensor(0.8756, device='cuda:0')\n"
     ]
    },
    {
     "name": "stderr",
     "output_type": "stream",
     "text": [
      "\r",
      " 63%|██████▎   | 226/360 [03:19<01:57,  1.14it/s]"
     ]
    },
    {
     "name": "stdout",
     "output_type": "stream",
     "text": [
      "similarity of the two sentences:  tensor(0.8285, device='cuda:0')\n"
     ]
    },
    {
     "name": "stderr",
     "output_type": "stream",
     "text": [
      "\r",
      " 63%|██████▎   | 227/360 [03:20<01:56,  1.14it/s]"
     ]
    },
    {
     "name": "stdout",
     "output_type": "stream",
     "text": [
      "similarity of the two sentences:  tensor(0.8127, device='cuda:0')\n"
     ]
    },
    {
     "name": "stderr",
     "output_type": "stream",
     "text": [
      "\r",
      " 63%|██████▎   | 228/360 [03:20<01:55,  1.14it/s]"
     ]
    },
    {
     "name": "stdout",
     "output_type": "stream",
     "text": [
      "similarity of the two sentences:  tensor(0.6346, device='cuda:0')\n"
     ]
    },
    {
     "name": "stderr",
     "output_type": "stream",
     "text": [
      "\r",
      " 64%|██████▎   | 229/360 [03:21<01:56,  1.13it/s]"
     ]
    },
    {
     "name": "stdout",
     "output_type": "stream",
     "text": [
      "similarity of the two sentences:  tensor(1.0000, device='cuda:0')\n"
     ]
    },
    {
     "name": "stderr",
     "output_type": "stream",
     "text": [
      "\r",
      " 64%|██████▍   | 230/360 [03:22<01:55,  1.12it/s]"
     ]
    },
    {
     "name": "stdout",
     "output_type": "stream",
     "text": [
      "similarity of the two sentences:  tensor(0.8568, device='cuda:0')\n"
     ]
    },
    {
     "name": "stderr",
     "output_type": "stream",
     "text": [
      "\r",
      " 64%|██████▍   | 231/360 [03:23<01:55,  1.12it/s]"
     ]
    },
    {
     "name": "stdout",
     "output_type": "stream",
     "text": [
      "similarity of the two sentences:  tensor(0.9287, device='cuda:0')\n"
     ]
    },
    {
     "name": "stderr",
     "output_type": "stream",
     "text": [
      "\r",
      " 64%|██████▍   | 232/360 [03:24<01:56,  1.10it/s]"
     ]
    },
    {
     "name": "stdout",
     "output_type": "stream",
     "text": [
      "similarity of the two sentences:  tensor(0.7081, device='cuda:0')\n"
     ]
    },
    {
     "name": "stderr",
     "output_type": "stream",
     "text": [
      "\r",
      " 65%|██████▍   | 233/360 [03:25<01:55,  1.10it/s]"
     ]
    },
    {
     "name": "stdout",
     "output_type": "stream",
     "text": [
      "similarity of the two sentences:  tensor(0.8665, device='cuda:0')\n"
     ]
    },
    {
     "name": "stderr",
     "output_type": "stream",
     "text": [
      "\r",
      " 65%|██████▌   | 234/360 [03:26<01:54,  1.10it/s]"
     ]
    },
    {
     "name": "stdout",
     "output_type": "stream",
     "text": [
      "similarity of the two sentences:  tensor(0.9900, device='cuda:0')\n"
     ]
    },
    {
     "name": "stderr",
     "output_type": "stream",
     "text": [
      "\r",
      " 65%|██████▌   | 235/360 [03:27<01:52,  1.11it/s]"
     ]
    },
    {
     "name": "stdout",
     "output_type": "stream",
     "text": [
      "similarity of the two sentences:  tensor(0.8845, device='cuda:0')\n"
     ]
    },
    {
     "name": "stderr",
     "output_type": "stream",
     "text": [
      "\r",
      " 66%|██████▌   | 236/360 [03:28<01:52,  1.10it/s]"
     ]
    },
    {
     "name": "stdout",
     "output_type": "stream",
     "text": [
      "similarity of the two sentences:  tensor(0.8937, device='cuda:0')\n"
     ]
    },
    {
     "name": "stderr",
     "output_type": "stream",
     "text": [
      "\r",
      " 66%|██████▌   | 237/360 [03:29<01:50,  1.11it/s]"
     ]
    },
    {
     "name": "stdout",
     "output_type": "stream",
     "text": [
      "similarity of the two sentences:  tensor(0.8731, device='cuda:0')\n"
     ]
    },
    {
     "name": "stderr",
     "output_type": "stream",
     "text": [
      "\r",
      " 66%|██████▌   | 238/360 [03:30<01:51,  1.09it/s]"
     ]
    },
    {
     "name": "stdout",
     "output_type": "stream",
     "text": [
      "similarity of the two sentences:  tensor(0.4723, device='cuda:0')\n"
     ]
    },
    {
     "name": "stderr",
     "output_type": "stream",
     "text": [
      "\r",
      " 66%|██████▋   | 239/360 [03:30<01:50,  1.10it/s]"
     ]
    },
    {
     "name": "stdout",
     "output_type": "stream",
     "text": [
      "similarity of the two sentences:  tensor(0.9769, device='cuda:0')\n"
     ]
    },
    {
     "name": "stderr",
     "output_type": "stream",
     "text": [
      "\r",
      " 67%|██████▋   | 240/360 [03:31<01:48,  1.11it/s]"
     ]
    },
    {
     "name": "stdout",
     "output_type": "stream",
     "text": [
      "similarity of the two sentences:  tensor(1.0000, device='cuda:0')\n"
     ]
    },
    {
     "name": "stderr",
     "output_type": "stream",
     "text": [
      "\r",
      " 67%|██████▋   | 241/360 [03:32<01:46,  1.12it/s]"
     ]
    },
    {
     "name": "stdout",
     "output_type": "stream",
     "text": [
      "similarity of the two sentences:  tensor(0.9929, device='cuda:0')\n"
     ]
    },
    {
     "name": "stderr",
     "output_type": "stream",
     "text": [
      "\r",
      " 67%|██████▋   | 242/360 [03:33<01:45,  1.12it/s]"
     ]
    },
    {
     "name": "stdout",
     "output_type": "stream",
     "text": [
      "similarity of the two sentences:  tensor(0.8857, device='cuda:0')\n"
     ]
    },
    {
     "name": "stderr",
     "output_type": "stream",
     "text": [
      "\r",
      " 68%|██████▊   | 243/360 [03:34<01:44,  1.12it/s]"
     ]
    },
    {
     "name": "stdout",
     "output_type": "stream",
     "text": [
      "similarity of the two sentences:  tensor(0.5226, device='cuda:0')\n"
     ]
    },
    {
     "name": "stderr",
     "output_type": "stream",
     "text": [
      "\r",
      " 68%|██████▊   | 244/360 [03:35<01:43,  1.12it/s]"
     ]
    },
    {
     "name": "stdout",
     "output_type": "stream",
     "text": [
      "similarity of the two sentences:  tensor(0.6717, device='cuda:0')\n"
     ]
    },
    {
     "name": "stderr",
     "output_type": "stream",
     "text": [
      "\r",
      " 68%|██████▊   | 245/360 [03:36<01:42,  1.12it/s]"
     ]
    },
    {
     "name": "stdout",
     "output_type": "stream",
     "text": [
      "similarity of the two sentences:  tensor(0.9642, device='cuda:0')\n"
     ]
    },
    {
     "name": "stderr",
     "output_type": "stream",
     "text": [
      "\r",
      " 68%|██████▊   | 246/360 [03:37<01:41,  1.12it/s]"
     ]
    },
    {
     "name": "stdout",
     "output_type": "stream",
     "text": [
      "similarity of the two sentences:  tensor(0.9787, device='cuda:0')\n"
     ]
    },
    {
     "name": "stderr",
     "output_type": "stream",
     "text": [
      "\r",
      " 69%|██████▊   | 247/360 [03:38<01:42,  1.10it/s]"
     ]
    },
    {
     "name": "stdout",
     "output_type": "stream",
     "text": [
      "similarity of the two sentences:  tensor(0.7549, device='cuda:0')\n"
     ]
    },
    {
     "name": "stderr",
     "output_type": "stream",
     "text": [
      "\r",
      " 69%|██████▉   | 248/360 [03:38<01:41,  1.10it/s]"
     ]
    },
    {
     "name": "stdout",
     "output_type": "stream",
     "text": [
      "similarity of the two sentences:  tensor(0.8327, device='cuda:0')\n"
     ]
    },
    {
     "name": "stderr",
     "output_type": "stream",
     "text": [
      "\r",
      " 69%|██████▉   | 249/360 [03:39<01:39,  1.12it/s]"
     ]
    },
    {
     "name": "stdout",
     "output_type": "stream",
     "text": [
      "similarity of the two sentences:  tensor(0.8462, device='cuda:0')\n"
     ]
    },
    {
     "name": "stderr",
     "output_type": "stream",
     "text": [
      "\r",
      " 69%|██████▉   | 250/360 [03:40<01:39,  1.11it/s]"
     ]
    },
    {
     "name": "stdout",
     "output_type": "stream",
     "text": [
      "similarity of the two sentences:  tensor(0.8140, device='cuda:0')\n"
     ]
    },
    {
     "name": "stderr",
     "output_type": "stream",
     "text": [
      "\r",
      " 70%|██████▉   | 251/360 [03:41<01:37,  1.12it/s]"
     ]
    },
    {
     "name": "stdout",
     "output_type": "stream",
     "text": [
      "similarity of the two sentences:  tensor(0.7966, device='cuda:0')\n"
     ]
    },
    {
     "name": "stderr",
     "output_type": "stream",
     "text": [
      "\r",
      " 70%|███████   | 252/360 [03:42<01:35,  1.13it/s]"
     ]
    },
    {
     "name": "stdout",
     "output_type": "stream",
     "text": [
      "similarity of the two sentences:  tensor(0.6108, device='cuda:0')\n"
     ]
    },
    {
     "name": "stderr",
     "output_type": "stream",
     "text": [
      "\r",
      " 70%|███████   | 253/360 [03:43<01:35,  1.13it/s]"
     ]
    },
    {
     "name": "stdout",
     "output_type": "stream",
     "text": [
      "similarity of the two sentences:  tensor(0.9655, device='cuda:0')\n"
     ]
    },
    {
     "name": "stderr",
     "output_type": "stream",
     "text": [
      "\r",
      " 71%|███████   | 254/360 [03:44<01:33,  1.13it/s]"
     ]
    },
    {
     "name": "stdout",
     "output_type": "stream",
     "text": [
      "similarity of the two sentences:  tensor(0.9585, device='cuda:0')\n"
     ]
    },
    {
     "name": "stderr",
     "output_type": "stream",
     "text": [
      "\r",
      " 71%|███████   | 255/360 [03:45<01:32,  1.14it/s]"
     ]
    },
    {
     "name": "stdout",
     "output_type": "stream",
     "text": [
      "similarity of the two sentences:  tensor(0.7292, device='cuda:0')\n"
     ]
    },
    {
     "name": "stderr",
     "output_type": "stream",
     "text": [
      "\r",
      " 71%|███████   | 256/360 [03:46<01:31,  1.14it/s]"
     ]
    },
    {
     "name": "stdout",
     "output_type": "stream",
     "text": [
      "similarity of the two sentences:  tensor(0.6352, device='cuda:0')\n"
     ]
    },
    {
     "name": "stderr",
     "output_type": "stream",
     "text": [
      "\r",
      " 71%|███████▏  | 257/360 [03:46<01:31,  1.13it/s]"
     ]
    },
    {
     "name": "stdout",
     "output_type": "stream",
     "text": [
      "similarity of the two sentences:  tensor(0.7573, device='cuda:0')\n"
     ]
    },
    {
     "name": "stderr",
     "output_type": "stream",
     "text": [
      "\r",
      " 72%|███████▏  | 258/360 [03:47<01:31,  1.11it/s]"
     ]
    },
    {
     "name": "stdout",
     "output_type": "stream",
     "text": [
      "similarity of the two sentences:  tensor(0.8125, device='cuda:0')\n"
     ]
    },
    {
     "name": "stderr",
     "output_type": "stream",
     "text": [
      "\r",
      " 72%|███████▏  | 259/360 [03:48<01:29,  1.13it/s]"
     ]
    },
    {
     "name": "stdout",
     "output_type": "stream",
     "text": [
      "similarity of the two sentences:  tensor(0.2859, device='cuda:0')\n"
     ]
    },
    {
     "name": "stderr",
     "output_type": "stream",
     "text": [
      "\r",
      " 72%|███████▏  | 260/360 [03:49<01:26,  1.15it/s]"
     ]
    },
    {
     "name": "stdout",
     "output_type": "stream",
     "text": [
      "similarity of the two sentences:  tensor(0.9460, device='cuda:0')\n"
     ]
    },
    {
     "name": "stderr",
     "output_type": "stream",
     "text": [
      "\r",
      " 72%|███████▎  | 261/360 [03:50<01:25,  1.16it/s]"
     ]
    },
    {
     "name": "stdout",
     "output_type": "stream",
     "text": [
      "similarity of the two sentences:  tensor(0.7968, device='cuda:0')\n"
     ]
    },
    {
     "name": "stderr",
     "output_type": "stream",
     "text": [
      "\r",
      " 73%|███████▎  | 262/360 [03:51<01:26,  1.13it/s]"
     ]
    },
    {
     "name": "stdout",
     "output_type": "stream",
     "text": [
      "similarity of the two sentences:  tensor(0.9788, device='cuda:0')\n"
     ]
    },
    {
     "name": "stderr",
     "output_type": "stream",
     "text": [
      "\r",
      " 73%|███████▎  | 263/360 [03:52<01:25,  1.14it/s]"
     ]
    },
    {
     "name": "stdout",
     "output_type": "stream",
     "text": [
      "similarity of the two sentences:  tensor(0.8707, device='cuda:0')\n"
     ]
    },
    {
     "name": "stderr",
     "output_type": "stream",
     "text": [
      "\r",
      " 73%|███████▎  | 264/360 [03:53<01:23,  1.15it/s]"
     ]
    },
    {
     "name": "stdout",
     "output_type": "stream",
     "text": [
      "similarity of the two sentences:  tensor(0.9055, device='cuda:0')\n"
     ]
    },
    {
     "name": "stderr",
     "output_type": "stream",
     "text": [
      "\r",
      " 74%|███████▎  | 265/360 [03:53<01:23,  1.14it/s]"
     ]
    },
    {
     "name": "stdout",
     "output_type": "stream",
     "text": [
      "similarity of the two sentences:  tensor(0.7862, device='cuda:0')\n"
     ]
    },
    {
     "name": "stderr",
     "output_type": "stream",
     "text": [
      "\r",
      " 74%|███████▍  | 266/360 [03:54<01:22,  1.14it/s]"
     ]
    },
    {
     "name": "stdout",
     "output_type": "stream",
     "text": [
      "similarity of the two sentences:  tensor(0.9965, device='cuda:0')\n"
     ]
    },
    {
     "name": "stderr",
     "output_type": "stream",
     "text": [
      "\r",
      " 74%|███████▍  | 267/360 [03:55<01:21,  1.15it/s]"
     ]
    },
    {
     "name": "stdout",
     "output_type": "stream",
     "text": [
      "similarity of the two sentences:  tensor(0.4407, device='cuda:0')\n"
     ]
    },
    {
     "name": "stderr",
     "output_type": "stream",
     "text": [
      "\r",
      " 74%|███████▍  | 268/360 [03:56<01:20,  1.14it/s]"
     ]
    },
    {
     "name": "stdout",
     "output_type": "stream",
     "text": [
      "similarity of the two sentences:  tensor(0.9393, device='cuda:0')\n"
     ]
    },
    {
     "name": "stderr",
     "output_type": "stream",
     "text": [
      "\r",
      " 75%|███████▍  | 269/360 [03:57<01:21,  1.11it/s]"
     ]
    },
    {
     "name": "stdout",
     "output_type": "stream",
     "text": [
      "similarity of the two sentences:  tensor(0.9084, device='cuda:0')\n"
     ]
    },
    {
     "name": "stderr",
     "output_type": "stream",
     "text": [
      "\r",
      " 75%|███████▌  | 270/360 [03:58<01:21,  1.11it/s]"
     ]
    },
    {
     "name": "stdout",
     "output_type": "stream",
     "text": [
      "similarity of the two sentences:  tensor(0.6277, device='cuda:0')\n"
     ]
    },
    {
     "name": "stderr",
     "output_type": "stream",
     "text": [
      "\r",
      " 75%|███████▌  | 271/360 [03:59<01:20,  1.10it/s]"
     ]
    },
    {
     "name": "stdout",
     "output_type": "stream",
     "text": [
      "similarity of the two sentences:  tensor(0.6826, device='cuda:0')\n"
     ]
    },
    {
     "name": "stderr",
     "output_type": "stream",
     "text": [
      "\r",
      " 76%|███████▌  | 272/360 [04:00<01:19,  1.10it/s]"
     ]
    },
    {
     "name": "stdout",
     "output_type": "stream",
     "text": [
      "similarity of the two sentences:  tensor(0.7775, device='cuda:0')\n"
     ]
    },
    {
     "name": "stderr",
     "output_type": "stream",
     "text": [
      "\r",
      " 76%|███████▌  | 273/360 [04:01<01:19,  1.10it/s]"
     ]
    },
    {
     "name": "stdout",
     "output_type": "stream",
     "text": [
      "similarity of the two sentences:  tensor(0.9165, device='cuda:0')\n"
     ]
    },
    {
     "name": "stderr",
     "output_type": "stream",
     "text": [
      "\r",
      " 76%|███████▌  | 274/360 [04:02<01:18,  1.10it/s]"
     ]
    },
    {
     "name": "stdout",
     "output_type": "stream",
     "text": [
      "similarity of the two sentences:  tensor(0.8642, device='cuda:0')\n"
     ]
    },
    {
     "name": "stderr",
     "output_type": "stream",
     "text": [
      "\r",
      " 76%|███████▋  | 275/360 [04:03<01:18,  1.09it/s]"
     ]
    },
    {
     "name": "stdout",
     "output_type": "stream",
     "text": [
      "similarity of the two sentences:  tensor(0.7018, device='cuda:0')\n"
     ]
    },
    {
     "name": "stderr",
     "output_type": "stream",
     "text": [
      "\r",
      " 77%|███████▋  | 276/360 [04:03<01:17,  1.08it/s]"
     ]
    },
    {
     "name": "stdout",
     "output_type": "stream",
     "text": [
      "similarity of the two sentences:  tensor(0.8669, device='cuda:0')\n"
     ]
    },
    {
     "name": "stderr",
     "output_type": "stream",
     "text": [
      "\r",
      " 77%|███████▋  | 277/360 [04:04<01:15,  1.09it/s]"
     ]
    },
    {
     "name": "stdout",
     "output_type": "stream",
     "text": [
      "similarity of the two sentences:  tensor(0.7175, device='cuda:0')\n"
     ]
    },
    {
     "name": "stderr",
     "output_type": "stream",
     "text": [
      "\r",
      " 77%|███████▋  | 278/360 [04:05<01:13,  1.11it/s]"
     ]
    },
    {
     "name": "stdout",
     "output_type": "stream",
     "text": [
      "similarity of the two sentences:  tensor(0.8178, device='cuda:0')\n"
     ]
    },
    {
     "name": "stderr",
     "output_type": "stream",
     "text": [
      "\r",
      " 78%|███████▊  | 279/360 [04:06<01:11,  1.13it/s]"
     ]
    },
    {
     "name": "stdout",
     "output_type": "stream",
     "text": [
      "similarity of the two sentences:  tensor(0.9913, device='cuda:0')\n"
     ]
    },
    {
     "name": "stderr",
     "output_type": "stream",
     "text": [
      "\r",
      " 78%|███████▊  | 280/360 [04:07<01:09,  1.14it/s]"
     ]
    },
    {
     "name": "stdout",
     "output_type": "stream",
     "text": [
      "similarity of the two sentences:  tensor(0.8987, device='cuda:0')\n"
     ]
    },
    {
     "name": "stderr",
     "output_type": "stream",
     "text": [
      "\r",
      " 78%|███████▊  | 281/360 [04:08<01:09,  1.14it/s]"
     ]
    },
    {
     "name": "stdout",
     "output_type": "stream",
     "text": [
      "similarity of the two sentences:  tensor(0.8596, device='cuda:0')\n"
     ]
    },
    {
     "name": "stderr",
     "output_type": "stream",
     "text": [
      "\r",
      " 78%|███████▊  | 282/360 [04:09<01:08,  1.14it/s]"
     ]
    },
    {
     "name": "stdout",
     "output_type": "stream",
     "text": [
      "similarity of the two sentences:  tensor(0.7201, device='cuda:0')\n"
     ]
    },
    {
     "name": "stderr",
     "output_type": "stream",
     "text": [
      "\r",
      " 79%|███████▊  | 283/360 [04:10<01:07,  1.15it/s]"
     ]
    },
    {
     "name": "stdout",
     "output_type": "stream",
     "text": [
      "similarity of the two sentences:  tensor(0.8516, device='cuda:0')\n"
     ]
    },
    {
     "name": "stderr",
     "output_type": "stream",
     "text": [
      "\r",
      " 79%|███████▉  | 284/360 [04:10<01:07,  1.13it/s]"
     ]
    },
    {
     "name": "stdout",
     "output_type": "stream",
     "text": [
      "similarity of the two sentences:  tensor(0.8397, device='cuda:0')\n"
     ]
    },
    {
     "name": "stderr",
     "output_type": "stream",
     "text": [
      "\r",
      " 79%|███████▉  | 285/360 [04:11<01:06,  1.13it/s]"
     ]
    },
    {
     "name": "stdout",
     "output_type": "stream",
     "text": [
      "similarity of the two sentences:  tensor(0.7576, device='cuda:0')\n"
     ]
    },
    {
     "name": "stderr",
     "output_type": "stream",
     "text": [
      "\r",
      " 79%|███████▉  | 286/360 [04:12<01:04,  1.15it/s]"
     ]
    },
    {
     "name": "stdout",
     "output_type": "stream",
     "text": [
      "similarity of the two sentences:  tensor(0.8294, device='cuda:0')\n"
     ]
    },
    {
     "name": "stderr",
     "output_type": "stream",
     "text": [
      "\r",
      " 80%|███████▉  | 287/360 [04:13<01:02,  1.16it/s]"
     ]
    },
    {
     "name": "stdout",
     "output_type": "stream",
     "text": [
      "similarity of the two sentences:  tensor(0.9516, device='cuda:0')\n"
     ]
    },
    {
     "name": "stderr",
     "output_type": "stream",
     "text": [
      "\r",
      " 80%|████████  | 288/360 [04:14<01:01,  1.17it/s]"
     ]
    },
    {
     "name": "stdout",
     "output_type": "stream",
     "text": [
      "similarity of the two sentences:  tensor(0.6895, device='cuda:0')\n"
     ]
    },
    {
     "name": "stderr",
     "output_type": "stream",
     "text": [
      "\r",
      " 80%|████████  | 289/360 [04:15<01:00,  1.17it/s]"
     ]
    },
    {
     "name": "stdout",
     "output_type": "stream",
     "text": [
      "similarity of the two sentences:  tensor(0.9743, device='cuda:0')\n"
     ]
    },
    {
     "name": "stderr",
     "output_type": "stream",
     "text": [
      "\r",
      " 81%|████████  | 290/360 [04:16<00:59,  1.17it/s]"
     ]
    },
    {
     "name": "stdout",
     "output_type": "stream",
     "text": [
      "similarity of the two sentences:  tensor(0.9348, device='cuda:0')\n"
     ]
    },
    {
     "name": "stderr",
     "output_type": "stream",
     "text": [
      "\r",
      " 81%|████████  | 291/360 [04:16<00:58,  1.18it/s]"
     ]
    },
    {
     "name": "stdout",
     "output_type": "stream",
     "text": [
      "similarity of the two sentences:  tensor(1., device='cuda:0')\n"
     ]
    },
    {
     "name": "stderr",
     "output_type": "stream",
     "text": [
      "\r",
      " 81%|████████  | 292/360 [04:17<00:57,  1.18it/s]"
     ]
    },
    {
     "name": "stdout",
     "output_type": "stream",
     "text": [
      "similarity of the two sentences:  tensor(0.9934, device='cuda:0')\n"
     ]
    },
    {
     "name": "stderr",
     "output_type": "stream",
     "text": [
      "\r",
      " 81%|████████▏ | 293/360 [04:18<00:58,  1.14it/s]"
     ]
    },
    {
     "name": "stdout",
     "output_type": "stream",
     "text": [
      "similarity of the two sentences:  tensor(0.7697, device='cuda:0')\n"
     ]
    },
    {
     "name": "stderr",
     "output_type": "stream",
     "text": [
      "\r",
      " 82%|████████▏ | 294/360 [04:19<00:58,  1.14it/s]"
     ]
    },
    {
     "name": "stdout",
     "output_type": "stream",
     "text": [
      "similarity of the two sentences:  tensor(0.8881, device='cuda:0')\n"
     ]
    },
    {
     "name": "stderr",
     "output_type": "stream",
     "text": [
      "\r",
      " 82%|████████▏ | 295/360 [04:20<00:58,  1.12it/s]"
     ]
    },
    {
     "name": "stdout",
     "output_type": "stream",
     "text": [
      "similarity of the two sentences:  tensor(0.8882, device='cuda:0')\n"
     ]
    },
    {
     "name": "stderr",
     "output_type": "stream",
     "text": [
      "\r",
      " 82%|████████▏ | 296/360 [04:21<00:57,  1.12it/s]"
     ]
    },
    {
     "name": "stdout",
     "output_type": "stream",
     "text": [
      "similarity of the two sentences:  tensor(0.6850, device='cuda:0')\n"
     ]
    },
    {
     "name": "stderr",
     "output_type": "stream",
     "text": [
      "\r",
      " 82%|████████▎ | 297/360 [04:22<00:55,  1.13it/s]"
     ]
    },
    {
     "name": "stdout",
     "output_type": "stream",
     "text": [
      "similarity of the two sentences:  tensor(0.7811, device='cuda:0')\n"
     ]
    },
    {
     "name": "stderr",
     "output_type": "stream",
     "text": [
      "\r",
      " 83%|████████▎ | 298/360 [04:23<00:54,  1.14it/s]"
     ]
    },
    {
     "name": "stdout",
     "output_type": "stream",
     "text": [
      "similarity of the two sentences:  tensor(0.6767, device='cuda:0')\n"
     ]
    },
    {
     "name": "stderr",
     "output_type": "stream",
     "text": [
      "\r",
      " 83%|████████▎ | 299/360 [04:24<00:53,  1.14it/s]"
     ]
    },
    {
     "name": "stdout",
     "output_type": "stream",
     "text": [
      "similarity of the two sentences:  tensor(0.7864, device='cuda:0')\n"
     ]
    },
    {
     "name": "stderr",
     "output_type": "stream",
     "text": [
      "\r",
      " 83%|████████▎ | 300/360 [04:24<00:52,  1.14it/s]"
     ]
    },
    {
     "name": "stdout",
     "output_type": "stream",
     "text": [
      "similarity of the two sentences:  tensor(0.8926, device='cuda:0')\n"
     ]
    },
    {
     "name": "stderr",
     "output_type": "stream",
     "text": [
      "\r",
      " 84%|████████▎ | 301/360 [04:25<00:52,  1.13it/s]"
     ]
    },
    {
     "name": "stdout",
     "output_type": "stream",
     "text": [
      "similarity of the two sentences:  tensor(0.4250, device='cuda:0')\n"
     ]
    },
    {
     "name": "stderr",
     "output_type": "stream",
     "text": [
      "\r",
      " 84%|████████▍ | 302/360 [04:26<00:51,  1.12it/s]"
     ]
    },
    {
     "name": "stdout",
     "output_type": "stream",
     "text": [
      "similarity of the two sentences:  tensor(0.8086, device='cuda:0')\n"
     ]
    },
    {
     "name": "stderr",
     "output_type": "stream",
     "text": [
      "\r",
      " 84%|████████▍ | 303/360 [04:27<00:51,  1.10it/s]"
     ]
    },
    {
     "name": "stdout",
     "output_type": "stream",
     "text": [
      "similarity of the two sentences:  tensor(0.9594, device='cuda:0')\n"
     ]
    },
    {
     "name": "stderr",
     "output_type": "stream",
     "text": [
      "\r",
      " 84%|████████▍ | 304/360 [04:28<00:50,  1.11it/s]"
     ]
    },
    {
     "name": "stdout",
     "output_type": "stream",
     "text": [
      "similarity of the two sentences:  tensor(0.8260, device='cuda:0')\n"
     ]
    },
    {
     "name": "stderr",
     "output_type": "stream",
     "text": [
      "\r",
      " 85%|████████▍ | 305/360 [04:29<00:48,  1.13it/s]"
     ]
    },
    {
     "name": "stdout",
     "output_type": "stream",
     "text": [
      "similarity of the two sentences:  tensor(0.7817, device='cuda:0')\n"
     ]
    },
    {
     "name": "stderr",
     "output_type": "stream",
     "text": [
      "\r",
      " 85%|████████▌ | 306/360 [04:30<00:46,  1.15it/s]"
     ]
    },
    {
     "name": "stdout",
     "output_type": "stream",
     "text": [
      "similarity of the two sentences:  tensor(0.7369, device='cuda:0')\n"
     ]
    },
    {
     "name": "stderr",
     "output_type": "stream",
     "text": [
      "\r",
      " 85%|████████▌ | 307/360 [04:31<00:46,  1.14it/s]"
     ]
    },
    {
     "name": "stdout",
     "output_type": "stream",
     "text": [
      "similarity of the two sentences:  tensor(0.3894, device='cuda:0')\n"
     ]
    },
    {
     "name": "stderr",
     "output_type": "stream",
     "text": [
      "\r",
      " 86%|████████▌ | 308/360 [04:31<00:45,  1.14it/s]"
     ]
    },
    {
     "name": "stdout",
     "output_type": "stream",
     "text": [
      "similarity of the two sentences:  tensor(0.3433, device='cuda:0')\n"
     ]
    },
    {
     "name": "stderr",
     "output_type": "stream",
     "text": [
      "\r",
      " 86%|████████▌ | 309/360 [04:32<00:44,  1.14it/s]"
     ]
    },
    {
     "name": "stdout",
     "output_type": "stream",
     "text": [
      "similarity of the two sentences:  tensor(0.9851, device='cuda:0')\n"
     ]
    },
    {
     "name": "stderr",
     "output_type": "stream",
     "text": [
      "\r",
      " 86%|████████▌ | 310/360 [04:33<00:43,  1.15it/s]"
     ]
    },
    {
     "name": "stdout",
     "output_type": "stream",
     "text": [
      "similarity of the two sentences:  tensor(1.0000, device='cuda:0')\n"
     ]
    },
    {
     "name": "stderr",
     "output_type": "stream",
     "text": [
      "\r",
      " 86%|████████▋ | 311/360 [04:34<00:42,  1.16it/s]"
     ]
    },
    {
     "name": "stdout",
     "output_type": "stream",
     "text": [
      "similarity of the two sentences:  tensor(0.6752, device='cuda:0')\n"
     ]
    },
    {
     "name": "stderr",
     "output_type": "stream",
     "text": [
      "\r",
      " 87%|████████▋ | 312/360 [04:35<00:41,  1.17it/s]"
     ]
    },
    {
     "name": "stdout",
     "output_type": "stream",
     "text": [
      "similarity of the two sentences:  tensor(0.7703, device='cuda:0')\n"
     ]
    },
    {
     "name": "stderr",
     "output_type": "stream",
     "text": [
      "\r",
      " 87%|████████▋ | 313/360 [04:36<00:40,  1.17it/s]"
     ]
    },
    {
     "name": "stdout",
     "output_type": "stream",
     "text": [
      "similarity of the two sentences:  tensor(0.4488, device='cuda:0')\n"
     ]
    },
    {
     "name": "stderr",
     "output_type": "stream",
     "text": [
      "\r",
      " 87%|████████▋ | 314/360 [04:37<00:40,  1.15it/s]"
     ]
    },
    {
     "name": "stdout",
     "output_type": "stream",
     "text": [
      "similarity of the two sentences:  tensor(0.7186, device='cuda:0')\n"
     ]
    },
    {
     "name": "stderr",
     "output_type": "stream",
     "text": [
      "\r",
      " 88%|████████▊ | 315/360 [04:38<00:39,  1.15it/s]"
     ]
    },
    {
     "name": "stdout",
     "output_type": "stream",
     "text": [
      "similarity of the two sentences:  tensor(0.7858, device='cuda:0')\n"
     ]
    },
    {
     "name": "stderr",
     "output_type": "stream",
     "text": [
      "\r",
      " 88%|████████▊ | 316/360 [04:38<00:38,  1.14it/s]"
     ]
    },
    {
     "name": "stdout",
     "output_type": "stream",
     "text": [
      "similarity of the two sentences:  tensor(0.8139, device='cuda:0')\n"
     ]
    },
    {
     "name": "stderr",
     "output_type": "stream",
     "text": [
      "\r",
      " 88%|████████▊ | 317/360 [04:39<00:38,  1.13it/s]"
     ]
    },
    {
     "name": "stdout",
     "output_type": "stream",
     "text": [
      "similarity of the two sentences:  tensor(0.8729, device='cuda:0')\n"
     ]
    },
    {
     "name": "stderr",
     "output_type": "stream",
     "text": [
      "\r",
      " 88%|████████▊ | 318/360 [04:40<00:37,  1.13it/s]"
     ]
    },
    {
     "name": "stdout",
     "output_type": "stream",
     "text": [
      "similarity of the two sentences:  tensor(0.5030, device='cuda:0')\n"
     ]
    },
    {
     "name": "stderr",
     "output_type": "stream",
     "text": [
      "\r",
      " 89%|████████▊ | 319/360 [04:41<00:36,  1.13it/s]"
     ]
    },
    {
     "name": "stdout",
     "output_type": "stream",
     "text": [
      "similarity of the two sentences:  tensor(0.9773, device='cuda:0')\n"
     ]
    },
    {
     "name": "stderr",
     "output_type": "stream",
     "text": [
      "\r",
      " 89%|████████▉ | 320/360 [04:42<00:35,  1.14it/s]"
     ]
    },
    {
     "name": "stdout",
     "output_type": "stream",
     "text": [
      "similarity of the two sentences:  tensor(0.9230, device='cuda:0')\n"
     ]
    },
    {
     "name": "stderr",
     "output_type": "stream",
     "text": [
      "\r",
      " 89%|████████▉ | 321/360 [04:43<00:34,  1.14it/s]"
     ]
    },
    {
     "name": "stdout",
     "output_type": "stream",
     "text": [
      "similarity of the two sentences:  tensor(0.7221, device='cuda:0')\n"
     ]
    },
    {
     "name": "stderr",
     "output_type": "stream",
     "text": [
      "\r",
      " 89%|████████▉ | 322/360 [04:44<00:33,  1.14it/s]"
     ]
    },
    {
     "name": "stdout",
     "output_type": "stream",
     "text": [
      "similarity of the two sentences:  tensor(0.8778, device='cuda:0')\n"
     ]
    },
    {
     "name": "stderr",
     "output_type": "stream",
     "text": [
      "\r",
      " 90%|████████▉ | 323/360 [04:45<00:32,  1.14it/s]"
     ]
    },
    {
     "name": "stdout",
     "output_type": "stream",
     "text": [
      "similarity of the two sentences:  tensor(0.6431, device='cuda:0')\n"
     ]
    },
    {
     "name": "stderr",
     "output_type": "stream",
     "text": [
      "\r",
      " 90%|█████████ | 324/360 [04:45<00:31,  1.14it/s]"
     ]
    },
    {
     "name": "stdout",
     "output_type": "stream",
     "text": [
      "similarity of the two sentences:  tensor(1.0000, device='cuda:0')\n"
     ]
    },
    {
     "name": "stderr",
     "output_type": "stream",
     "text": [
      "\r",
      " 90%|█████████ | 325/360 [04:46<00:31,  1.13it/s]"
     ]
    },
    {
     "name": "stdout",
     "output_type": "stream",
     "text": [
      "similarity of the two sentences:  tensor(0.8253, device='cuda:0')\n"
     ]
    },
    {
     "name": "stderr",
     "output_type": "stream",
     "text": [
      "\r",
      " 91%|█████████ | 326/360 [04:47<00:30,  1.12it/s]"
     ]
    },
    {
     "name": "stdout",
     "output_type": "stream",
     "text": [
      "similarity of the two sentences:  tensor(0.6508, device='cuda:0')\n"
     ]
    },
    {
     "name": "stderr",
     "output_type": "stream",
     "text": [
      "\r",
      " 91%|█████████ | 327/360 [04:48<00:29,  1.13it/s]"
     ]
    },
    {
     "name": "stdout",
     "output_type": "stream",
     "text": [
      "similarity of the two sentences:  tensor(0.7264, device='cuda:0')\n"
     ]
    },
    {
     "name": "stderr",
     "output_type": "stream",
     "text": [
      "\r",
      " 91%|█████████ | 328/360 [04:49<00:28,  1.14it/s]"
     ]
    },
    {
     "name": "stdout",
     "output_type": "stream",
     "text": [
      "similarity of the two sentences:  tensor(0.7797, device='cuda:0')\n"
     ]
    },
    {
     "name": "stderr",
     "output_type": "stream",
     "text": [
      "\r",
      " 91%|█████████▏| 329/360 [04:50<00:26,  1.15it/s]"
     ]
    },
    {
     "name": "stdout",
     "output_type": "stream",
     "text": [
      "similarity of the two sentences:  tensor(0.6262, device='cuda:0')\n"
     ]
    },
    {
     "name": "stderr",
     "output_type": "stream",
     "text": [
      "\r",
      " 92%|█████████▏| 330/360 [04:51<00:25,  1.16it/s]"
     ]
    },
    {
     "name": "stdout",
     "output_type": "stream",
     "text": [
      "similarity of the two sentences:  tensor(0.8819, device='cuda:0')\n"
     ]
    },
    {
     "name": "stderr",
     "output_type": "stream",
     "text": [
      "\r",
      " 92%|█████████▏| 331/360 [04:52<00:25,  1.16it/s]"
     ]
    },
    {
     "name": "stdout",
     "output_type": "stream",
     "text": [
      "similarity of the two sentences:  tensor(0.7684, device='cuda:0')\n"
     ]
    },
    {
     "name": "stderr",
     "output_type": "stream",
     "text": [
      "\r",
      " 92%|█████████▏| 332/360 [04:52<00:24,  1.15it/s]"
     ]
    },
    {
     "name": "stdout",
     "output_type": "stream",
     "text": [
      "similarity of the two sentences:  tensor(0.7853, device='cuda:0')\n"
     ]
    },
    {
     "name": "stderr",
     "output_type": "stream",
     "text": [
      "\r",
      " 92%|█████████▎| 333/360 [04:53<00:23,  1.15it/s]"
     ]
    },
    {
     "name": "stdout",
     "output_type": "stream",
     "text": [
      "similarity of the two sentences:  tensor(0.7495, device='cuda:0')\n"
     ]
    },
    {
     "name": "stderr",
     "output_type": "stream",
     "text": [
      "\r",
      " 93%|█████████▎| 334/360 [04:54<00:22,  1.15it/s]"
     ]
    },
    {
     "name": "stdout",
     "output_type": "stream",
     "text": [
      "similarity of the two sentences:  tensor(0.8936, device='cuda:0')\n"
     ]
    },
    {
     "name": "stderr",
     "output_type": "stream",
     "text": [
      "\r",
      " 93%|█████████▎| 335/360 [04:55<00:21,  1.16it/s]"
     ]
    },
    {
     "name": "stdout",
     "output_type": "stream",
     "text": [
      "similarity of the two sentences:  tensor(0.7578, device='cuda:0')\n"
     ]
    },
    {
     "name": "stderr",
     "output_type": "stream",
     "text": [
      "\r",
      " 93%|█████████▎| 336/360 [04:56<00:20,  1.17it/s]"
     ]
    },
    {
     "name": "stdout",
     "output_type": "stream",
     "text": [
      "similarity of the two sentences:  tensor(0.6868, device='cuda:0')\n"
     ]
    },
    {
     "name": "stderr",
     "output_type": "stream",
     "text": [
      "\r",
      " 94%|█████████▎| 337/360 [04:57<00:20,  1.13it/s]"
     ]
    },
    {
     "name": "stdout",
     "output_type": "stream",
     "text": [
      "similarity of the two sentences:  tensor(0.9777, device='cuda:0')\n"
     ]
    },
    {
     "name": "stderr",
     "output_type": "stream",
     "text": [
      "\r",
      " 94%|█████████▍| 338/360 [04:58<00:19,  1.11it/s]"
     ]
    },
    {
     "name": "stdout",
     "output_type": "stream",
     "text": [
      "similarity of the two sentences:  tensor(0.8284, device='cuda:0')\n"
     ]
    },
    {
     "name": "stderr",
     "output_type": "stream",
     "text": [
      "\r",
      " 94%|█████████▍| 339/360 [04:59<00:18,  1.12it/s]"
     ]
    },
    {
     "name": "stdout",
     "output_type": "stream",
     "text": [
      "similarity of the two sentences:  tensor(0.9034, device='cuda:0')\n"
     ]
    },
    {
     "name": "stderr",
     "output_type": "stream",
     "text": [
      "\r",
      " 94%|█████████▍| 340/360 [05:00<00:17,  1.12it/s]"
     ]
    },
    {
     "name": "stdout",
     "output_type": "stream",
     "text": [
      "similarity of the two sentences:  tensor(0.9878, device='cuda:0')\n"
     ]
    },
    {
     "name": "stderr",
     "output_type": "stream",
     "text": [
      "\r",
      " 95%|█████████▍| 341/360 [05:00<00:16,  1.13it/s]"
     ]
    },
    {
     "name": "stdout",
     "output_type": "stream",
     "text": [
      "similarity of the two sentences:  tensor(0.6477, device='cuda:0')\n"
     ]
    },
    {
     "name": "stderr",
     "output_type": "stream",
     "text": [
      "\r",
      " 95%|█████████▌| 342/360 [05:01<00:15,  1.14it/s]"
     ]
    },
    {
     "name": "stdout",
     "output_type": "stream",
     "text": [
      "similarity of the two sentences:  tensor(0.5847, device='cuda:0')\n"
     ]
    },
    {
     "name": "stderr",
     "output_type": "stream",
     "text": [
      "\r",
      " 95%|█████████▌| 343/360 [05:02<00:15,  1.13it/s]"
     ]
    },
    {
     "name": "stdout",
     "output_type": "stream",
     "text": [
      "similarity of the two sentences:  tensor(0.7829, device='cuda:0')\n"
     ]
    },
    {
     "name": "stderr",
     "output_type": "stream",
     "text": [
      "\r",
      " 96%|█████████▌| 344/360 [05:03<00:14,  1.14it/s]"
     ]
    },
    {
     "name": "stdout",
     "output_type": "stream",
     "text": [
      "similarity of the two sentences:  tensor(0.8980, device='cuda:0')\n"
     ]
    },
    {
     "name": "stderr",
     "output_type": "stream",
     "text": [
      "\r",
      " 96%|█████████▌| 345/360 [05:04<00:13,  1.13it/s]"
     ]
    },
    {
     "name": "stdout",
     "output_type": "stream",
     "text": [
      "similarity of the two sentences:  tensor(0.8358, device='cuda:0')\n"
     ]
    },
    {
     "name": "stderr",
     "output_type": "stream",
     "text": [
      "\r",
      " 96%|█████████▌| 346/360 [05:05<00:12,  1.13it/s]"
     ]
    },
    {
     "name": "stdout",
     "output_type": "stream",
     "text": [
      "similarity of the two sentences:  tensor(0.9477, device='cuda:0')\n"
     ]
    },
    {
     "name": "stderr",
     "output_type": "stream",
     "text": [
      "\r",
      " 96%|█████████▋| 347/360 [05:06<00:11,  1.13it/s]"
     ]
    },
    {
     "name": "stdout",
     "output_type": "stream",
     "text": [
      "similarity of the two sentences:  tensor(0.8232, device='cuda:0')\n"
     ]
    },
    {
     "name": "stderr",
     "output_type": "stream",
     "text": [
      "\r",
      " 97%|█████████▋| 348/360 [05:07<00:10,  1.13it/s]"
     ]
    },
    {
     "name": "stdout",
     "output_type": "stream",
     "text": [
      "similarity of the two sentences:  tensor(0.9915, device='cuda:0')\n"
     ]
    },
    {
     "name": "stderr",
     "output_type": "stream",
     "text": [
      "\r",
      " 97%|█████████▋| 349/360 [05:08<00:10,  1.09it/s]"
     ]
    },
    {
     "name": "stdout",
     "output_type": "stream",
     "text": [
      "similarity of the two sentences:  tensor(0.9780, device='cuda:0')\n"
     ]
    },
    {
     "name": "stderr",
     "output_type": "stream",
     "text": [
      "\r",
      " 97%|█████████▋| 350/360 [05:09<00:09,  1.08it/s]"
     ]
    },
    {
     "name": "stdout",
     "output_type": "stream",
     "text": [
      "similarity of the two sentences:  tensor(0.8690, device='cuda:0')\n"
     ]
    },
    {
     "name": "stderr",
     "output_type": "stream",
     "text": [
      "\r",
      " 98%|█████████▊| 351/360 [05:09<00:08,  1.09it/s]"
     ]
    },
    {
     "name": "stdout",
     "output_type": "stream",
     "text": [
      "similarity of the two sentences:  tensor(0.8141, device='cuda:0')\n"
     ]
    },
    {
     "name": "stderr",
     "output_type": "stream",
     "text": [
      "\r",
      " 98%|█████████▊| 352/360 [05:10<00:07,  1.06it/s]"
     ]
    },
    {
     "name": "stdout",
     "output_type": "stream",
     "text": [
      "similarity of the two sentences:  tensor(0.7858, device='cuda:0')\n"
     ]
    },
    {
     "name": "stderr",
     "output_type": "stream",
     "text": [
      "\r",
      " 98%|█████████▊| 353/360 [05:11<00:06,  1.04it/s]"
     ]
    },
    {
     "name": "stdout",
     "output_type": "stream",
     "text": [
      "similarity of the two sentences:  tensor(0.6250, device='cuda:0')\n"
     ]
    },
    {
     "name": "stderr",
     "output_type": "stream",
     "text": [
      "\r",
      " 98%|█████████▊| 354/360 [05:12<00:05,  1.09it/s]"
     ]
    },
    {
     "name": "stdout",
     "output_type": "stream",
     "text": [
      "similarity of the two sentences:  tensor(0.4767, device='cuda:0')\n"
     ]
    },
    {
     "name": "stderr",
     "output_type": "stream",
     "text": [
      "\r",
      " 99%|█████████▊| 355/360 [05:13<00:04,  1.09it/s]"
     ]
    },
    {
     "name": "stdout",
     "output_type": "stream",
     "text": [
      "similarity of the two sentences:  tensor(0.8974, device='cuda:0')\n"
     ]
    },
    {
     "name": "stderr",
     "output_type": "stream",
     "text": [
      "\r",
      " 99%|█████████▉| 356/360 [05:14<00:03,  1.11it/s]"
     ]
    },
    {
     "name": "stdout",
     "output_type": "stream",
     "text": [
      "similarity of the two sentences:  tensor(0.7660, device='cuda:0')\n"
     ]
    },
    {
     "name": "stderr",
     "output_type": "stream",
     "text": [
      "\r",
      " 99%|█████████▉| 357/360 [05:15<00:02,  1.13it/s]"
     ]
    },
    {
     "name": "stdout",
     "output_type": "stream",
     "text": [
      "similarity of the two sentences:  tensor(0.6745, device='cuda:0')\n"
     ]
    },
    {
     "name": "stderr",
     "output_type": "stream",
     "text": [
      "\r",
      " 99%|█████████▉| 358/360 [05:16<00:01,  1.11it/s]"
     ]
    },
    {
     "name": "stdout",
     "output_type": "stream",
     "text": [
      "similarity of the two sentences:  tensor(0.8620, device='cuda:0')\n"
     ]
    },
    {
     "name": "stderr",
     "output_type": "stream",
     "text": [
      "\r",
      "100%|█████████▉| 359/360 [05:17<00:00,  1.12it/s]"
     ]
    },
    {
     "name": "stdout",
     "output_type": "stream",
     "text": [
      "similarity of the two sentences:  tensor(0.9962, device='cuda:0')\n"
     ]
    },
    {
     "name": "stderr",
     "output_type": "stream",
     "text": [
      "100%|██████████| 360/360 [05:18<00:00,  1.13it/s]"
     ]
    },
    {
     "name": "stdout",
     "output_type": "stream",
     "text": [
      "similarity of the two sentences:  tensor(1., device='cuda:0')\n",
      "similarity socre : tensor(0.8225, device='cuda:0')\n",
      "grammar socre out: 0.6342413067352026\n",
      "grammar socre orig: 0.8771238993025489\n",
      "simplicity socre outpu: 0.4485312517939342\n",
      "simplicity socre orig: 0.18939467115948597\n",
      "simplicity socre orig: 0.18939467115948597\n",
      "len output: 14.333333333333334\n",
      "len orig: 23.163888888888888\n"
     ]
    },
    {
     "name": "stderr",
     "output_type": "stream",
     "text": [
      "\n"
     ]
    }
   ],
   "source": [
    "from tqdm import tqdm\n",
    "\n",
    "root_path = '/home/m25dehgh/simplification/controllable-simplification/src/Wikilarge/output'\n",
    "asset_path= \"/home/m25dehgh/simplification/datasets/asset/dataset\"\n",
    "\n",
    "orig_path = asset_path + '/' + \"asset.test.norm.orig\"\n",
    "out_path = root_path + '/' + \"/RM+LS+RO+EX-dl:1-ls:.8-Asset-norm-me.txt\" # sari : 37.59\n",
    "\n",
    "assess(out_path, orig_path)"
   ]
  },
  {
   "cell_type": "code",
   "execution_count": 34,
   "metadata": {
    "scrolled": true
   },
   "outputs": [
    {
     "name": "stderr",
     "output_type": "stream",
     "text": [
      "  0%|          | 1/360 [00:00<05:35,  1.07it/s]"
     ]
    },
    {
     "name": "stdout",
     "output_type": "stream",
     "text": [
      "similarity of the two sentences:  tensor(0.9443, device='cuda:0')\n"
     ]
    },
    {
     "name": "stderr",
     "output_type": "stream",
     "text": [
      "\r",
      "  1%|          | 2/360 [00:01<05:26,  1.10it/s]"
     ]
    },
    {
     "name": "stdout",
     "output_type": "stream",
     "text": [
      "similarity of the two sentences:  tensor(0.9569, device='cuda:0')\n"
     ]
    },
    {
     "name": "stderr",
     "output_type": "stream",
     "text": [
      "\r",
      "  1%|          | 3/360 [00:02<05:23,  1.10it/s]"
     ]
    },
    {
     "name": "stdout",
     "output_type": "stream",
     "text": [
      "similarity of the two sentences:  tensor(0.7803, device='cuda:0')\n"
     ]
    },
    {
     "name": "stderr",
     "output_type": "stream",
     "text": [
      "\r",
      "  1%|          | 4/360 [00:03<05:19,  1.11it/s]"
     ]
    },
    {
     "name": "stdout",
     "output_type": "stream",
     "text": [
      "similarity of the two sentences:  tensor(0.9448, device='cuda:0')\n"
     ]
    },
    {
     "name": "stderr",
     "output_type": "stream",
     "text": [
      "\r",
      "  1%|▏         | 5/360 [00:04<05:12,  1.14it/s]"
     ]
    },
    {
     "name": "stdout",
     "output_type": "stream",
     "text": [
      "similarity of the two sentences:  tensor(0.8696, device='cuda:0')\n"
     ]
    },
    {
     "name": "stderr",
     "output_type": "stream",
     "text": [
      "\r",
      "  2%|▏         | 6/360 [00:05<05:04,  1.16it/s]"
     ]
    },
    {
     "name": "stdout",
     "output_type": "stream",
     "text": [
      "similarity of the two sentences:  tensor(0.9930, device='cuda:0')\n"
     ]
    },
    {
     "name": "stderr",
     "output_type": "stream",
     "text": [
      "\r",
      "  2%|▏         | 7/360 [00:06<04:58,  1.18it/s]"
     ]
    },
    {
     "name": "stdout",
     "output_type": "stream",
     "text": [
      "similarity of the two sentences:  tensor(1.0000, device='cuda:0')\n"
     ]
    },
    {
     "name": "stderr",
     "output_type": "stream",
     "text": [
      "\r",
      "  2%|▏         | 8/360 [00:06<04:54,  1.19it/s]"
     ]
    },
    {
     "name": "stdout",
     "output_type": "stream",
     "text": [
      "similarity of the two sentences:  tensor(0.9964, device='cuda:0')\n"
     ]
    },
    {
     "name": "stderr",
     "output_type": "stream",
     "text": [
      "\r",
      "  2%|▎         | 9/360 [00:07<04:51,  1.20it/s]"
     ]
    },
    {
     "name": "stdout",
     "output_type": "stream",
     "text": [
      "similarity of the two sentences:  tensor(0.8527, device='cuda:0')\n"
     ]
    },
    {
     "name": "stderr",
     "output_type": "stream",
     "text": [
      "\r",
      "  3%|▎         | 10/360 [00:08<04:49,  1.21it/s]"
     ]
    },
    {
     "name": "stdout",
     "output_type": "stream",
     "text": [
      "similarity of the two sentences:  tensor(0.9207, device='cuda:0')\n"
     ]
    },
    {
     "name": "stderr",
     "output_type": "stream",
     "text": [
      "\r",
      "  3%|▎         | 11/360 [00:09<04:47,  1.22it/s]"
     ]
    },
    {
     "name": "stdout",
     "output_type": "stream",
     "text": [
      "similarity of the two sentences:  tensor(1.0000, device='cuda:0')\n"
     ]
    },
    {
     "name": "stderr",
     "output_type": "stream",
     "text": [
      "\r",
      "  3%|▎         | 12/360 [00:10<04:45,  1.22it/s]"
     ]
    },
    {
     "name": "stdout",
     "output_type": "stream",
     "text": [
      "similarity of the two sentences:  tensor(0.7999, device='cuda:0')\n"
     ]
    },
    {
     "name": "stderr",
     "output_type": "stream",
     "text": [
      "\r",
      "  4%|▎         | 13/360 [00:10<04:43,  1.22it/s]"
     ]
    },
    {
     "name": "stdout",
     "output_type": "stream",
     "text": [
      "similarity of the two sentences:  tensor(0.8247, device='cuda:0')\n"
     ]
    },
    {
     "name": "stderr",
     "output_type": "stream",
     "text": [
      "\r",
      "  4%|▍         | 14/360 [00:11<04:41,  1.23it/s]"
     ]
    },
    {
     "name": "stdout",
     "output_type": "stream",
     "text": [
      "similarity of the two sentences:  tensor(0.8386, device='cuda:0')\n"
     ]
    },
    {
     "name": "stderr",
     "output_type": "stream",
     "text": [
      "\r",
      "  4%|▍         | 15/360 [00:12<04:40,  1.23it/s]"
     ]
    },
    {
     "name": "stdout",
     "output_type": "stream",
     "text": [
      "similarity of the two sentences:  tensor(0.8058, device='cuda:0')\n"
     ]
    },
    {
     "name": "stderr",
     "output_type": "stream",
     "text": [
      "\r",
      "  4%|▍         | 16/360 [00:13<04:39,  1.23it/s]"
     ]
    },
    {
     "name": "stdout",
     "output_type": "stream",
     "text": [
      "similarity of the two sentences:  tensor(1.0000, device='cuda:0')\n"
     ]
    },
    {
     "name": "stderr",
     "output_type": "stream",
     "text": [
      "\r",
      "  5%|▍         | 17/360 [00:14<04:38,  1.23it/s]"
     ]
    },
    {
     "name": "stdout",
     "output_type": "stream",
     "text": [
      "similarity of the two sentences:  tensor(0.9834, device='cuda:0')\n"
     ]
    },
    {
     "name": "stderr",
     "output_type": "stream",
     "text": [
      "\r",
      "  5%|▌         | 18/360 [00:14<04:37,  1.23it/s]"
     ]
    },
    {
     "name": "stdout",
     "output_type": "stream",
     "text": [
      "similarity of the two sentences:  tensor(0.9413, device='cuda:0')\n"
     ]
    },
    {
     "name": "stderr",
     "output_type": "stream",
     "text": [
      "\r",
      "  5%|▌         | 19/360 [00:15<04:36,  1.23it/s]"
     ]
    },
    {
     "name": "stdout",
     "output_type": "stream",
     "text": [
      "similarity of the two sentences:  tensor(0.9299, device='cuda:0')\n"
     ]
    },
    {
     "name": "stderr",
     "output_type": "stream",
     "text": [
      "\r",
      "  6%|▌         | 20/360 [00:16<04:35,  1.23it/s]"
     ]
    },
    {
     "name": "stdout",
     "output_type": "stream",
     "text": [
      "similarity of the two sentences:  tensor(0.7527, device='cuda:0')\n"
     ]
    },
    {
     "name": "stderr",
     "output_type": "stream",
     "text": [
      "\r",
      "  6%|▌         | 21/360 [00:17<04:34,  1.24it/s]"
     ]
    },
    {
     "name": "stdout",
     "output_type": "stream",
     "text": [
      "similarity of the two sentences:  tensor(0.8346, device='cuda:0')\n"
     ]
    },
    {
     "name": "stderr",
     "output_type": "stream",
     "text": [
      "\r",
      "  6%|▌         | 22/360 [00:18<04:33,  1.24it/s]"
     ]
    },
    {
     "name": "stdout",
     "output_type": "stream",
     "text": [
      "similarity of the two sentences:  tensor(0.8882, device='cuda:0')\n"
     ]
    },
    {
     "name": "stderr",
     "output_type": "stream",
     "text": [
      "\r",
      "  6%|▋         | 23/360 [00:19<04:36,  1.22it/s]"
     ]
    },
    {
     "name": "stdout",
     "output_type": "stream",
     "text": [
      "similarity of the two sentences:  tensor(0.7663, device='cuda:0')\n"
     ]
    },
    {
     "name": "stderr",
     "output_type": "stream",
     "text": [
      "\r",
      "  7%|▋         | 24/360 [00:19<04:35,  1.22it/s]"
     ]
    },
    {
     "name": "stdout",
     "output_type": "stream",
     "text": [
      "similarity of the two sentences:  tensor(0.7821, device='cuda:0')\n"
     ]
    },
    {
     "name": "stderr",
     "output_type": "stream",
     "text": [
      "\r",
      "  7%|▋         | 25/360 [00:20<04:34,  1.22it/s]"
     ]
    },
    {
     "name": "stdout",
     "output_type": "stream",
     "text": [
      "similarity of the two sentences:  tensor(0.7773, device='cuda:0')\n"
     ]
    },
    {
     "name": "stderr",
     "output_type": "stream",
     "text": [
      "\r",
      "  7%|▋         | 26/360 [00:21<04:32,  1.22it/s]"
     ]
    },
    {
     "name": "stdout",
     "output_type": "stream",
     "text": [
      "similarity of the two sentences:  tensor(0.9410, device='cuda:0')\n"
     ]
    },
    {
     "name": "stderr",
     "output_type": "stream",
     "text": [
      "\r",
      "  8%|▊         | 27/360 [00:22<04:32,  1.22it/s]"
     ]
    },
    {
     "name": "stdout",
     "output_type": "stream",
     "text": [
      "similarity of the two sentences:  tensor(0.8040, device='cuda:0')\n"
     ]
    },
    {
     "name": "stderr",
     "output_type": "stream",
     "text": [
      "\r",
      "  8%|▊         | 28/360 [00:23<04:31,  1.22it/s]"
     ]
    },
    {
     "name": "stdout",
     "output_type": "stream",
     "text": [
      "similarity of the two sentences:  tensor(0.9116, device='cuda:0')\n"
     ]
    },
    {
     "name": "stderr",
     "output_type": "stream",
     "text": [
      "\r",
      "  8%|▊         | 29/360 [00:23<04:30,  1.23it/s]"
     ]
    },
    {
     "name": "stdout",
     "output_type": "stream",
     "text": [
      "similarity of the two sentences:  tensor(0.9707, device='cuda:0')\n"
     ]
    },
    {
     "name": "stderr",
     "output_type": "stream",
     "text": [
      "\r",
      "  8%|▊         | 30/360 [00:24<04:29,  1.22it/s]"
     ]
    },
    {
     "name": "stdout",
     "output_type": "stream",
     "text": [
      "similarity of the two sentences:  tensor(1.0000, device='cuda:0')\n"
     ]
    },
    {
     "name": "stderr",
     "output_type": "stream",
     "text": [
      "\r",
      "  9%|▊         | 31/360 [00:25<04:28,  1.22it/s]"
     ]
    },
    {
     "name": "stdout",
     "output_type": "stream",
     "text": [
      "similarity of the two sentences:  tensor(0.8900, device='cuda:0')\n"
     ]
    },
    {
     "name": "stderr",
     "output_type": "stream",
     "text": [
      "\r",
      "  9%|▉         | 32/360 [00:26<04:27,  1.23it/s]"
     ]
    },
    {
     "name": "stdout",
     "output_type": "stream",
     "text": [
      "similarity of the two sentences:  tensor(0.7796, device='cuda:0')\n"
     ]
    },
    {
     "name": "stderr",
     "output_type": "stream",
     "text": [
      "\r",
      "  9%|▉         | 33/360 [00:27<04:29,  1.22it/s]"
     ]
    },
    {
     "name": "stdout",
     "output_type": "stream",
     "text": [
      "similarity of the two sentences:  tensor(0.9766, device='cuda:0')\n"
     ]
    },
    {
     "name": "stderr",
     "output_type": "stream",
     "text": [
      "\r",
      "  9%|▉         | 34/360 [00:28<04:26,  1.22it/s]"
     ]
    },
    {
     "name": "stdout",
     "output_type": "stream",
     "text": [
      "similarity of the two sentences:  tensor(0.9125, device='cuda:0')\n"
     ]
    },
    {
     "name": "stderr",
     "output_type": "stream",
     "text": [
      "\r",
      " 10%|▉         | 35/360 [00:28<04:25,  1.23it/s]"
     ]
    },
    {
     "name": "stdout",
     "output_type": "stream",
     "text": [
      "similarity of the two sentences:  tensor(0.7551, device='cuda:0')\n"
     ]
    },
    {
     "name": "stderr",
     "output_type": "stream",
     "text": [
      "\r",
      " 10%|█         | 36/360 [00:29<04:23,  1.23it/s]"
     ]
    },
    {
     "name": "stdout",
     "output_type": "stream",
     "text": [
      "similarity of the two sentences:  tensor(0.8503, device='cuda:0')\n"
     ]
    },
    {
     "name": "stderr",
     "output_type": "stream",
     "text": [
      "\r",
      " 10%|█         | 37/360 [00:30<04:22,  1.23it/s]"
     ]
    },
    {
     "name": "stdout",
     "output_type": "stream",
     "text": [
      "similarity of the two sentences:  tensor(0.8987, device='cuda:0')\n"
     ]
    },
    {
     "name": "stderr",
     "output_type": "stream",
     "text": [
      "\r",
      " 11%|█         | 38/360 [00:31<04:21,  1.23it/s]"
     ]
    },
    {
     "name": "stdout",
     "output_type": "stream",
     "text": [
      "similarity of the two sentences:  tensor(0.7909, device='cuda:0')\n"
     ]
    },
    {
     "name": "stderr",
     "output_type": "stream",
     "text": [
      "\r",
      " 11%|█         | 39/360 [00:32<04:20,  1.23it/s]"
     ]
    },
    {
     "name": "stdout",
     "output_type": "stream",
     "text": [
      "similarity of the two sentences:  tensor(0.9760, device='cuda:0')\n"
     ]
    },
    {
     "name": "stderr",
     "output_type": "stream",
     "text": [
      "\r",
      " 11%|█         | 40/360 [00:32<04:19,  1.23it/s]"
     ]
    },
    {
     "name": "stdout",
     "output_type": "stream",
     "text": [
      "similarity of the two sentences:  tensor(0.7537, device='cuda:0')\n"
     ]
    },
    {
     "name": "stderr",
     "output_type": "stream",
     "text": [
      "\r",
      " 11%|█▏        | 41/360 [00:33<04:18,  1.23it/s]"
     ]
    },
    {
     "name": "stdout",
     "output_type": "stream",
     "text": [
      "similarity of the two sentences:  tensor(0.8461, device='cuda:0')\n"
     ]
    },
    {
     "name": "stderr",
     "output_type": "stream",
     "text": [
      "\r",
      " 12%|█▏        | 42/360 [00:34<04:18,  1.23it/s]"
     ]
    },
    {
     "name": "stdout",
     "output_type": "stream",
     "text": [
      "similarity of the two sentences:  tensor(0.9026, device='cuda:0')\n"
     ]
    },
    {
     "name": "stderr",
     "output_type": "stream",
     "text": [
      "\r",
      " 12%|█▏        | 43/360 [00:35<04:17,  1.23it/s]"
     ]
    },
    {
     "name": "stdout",
     "output_type": "stream",
     "text": [
      "similarity of the two sentences:  tensor(0.9320, device='cuda:0')\n"
     ]
    },
    {
     "name": "stderr",
     "output_type": "stream",
     "text": [
      "\r",
      " 12%|█▏        | 44/360 [00:36<04:16,  1.23it/s]"
     ]
    },
    {
     "name": "stdout",
     "output_type": "stream",
     "text": [
      "similarity of the two sentences:  tensor(0.9037, device='cuda:0')\n"
     ]
    },
    {
     "name": "stderr",
     "output_type": "stream",
     "text": [
      "\r",
      " 12%|█▎        | 45/360 [00:36<04:16,  1.23it/s]"
     ]
    },
    {
     "name": "stdout",
     "output_type": "stream",
     "text": [
      "similarity of the two sentences:  tensor(0.8484, device='cuda:0')\n"
     ]
    },
    {
     "name": "stderr",
     "output_type": "stream",
     "text": [
      "\r",
      " 13%|█▎        | 46/360 [00:37<04:14,  1.23it/s]"
     ]
    },
    {
     "name": "stdout",
     "output_type": "stream",
     "text": [
      "similarity of the two sentences:  tensor(0.8934, device='cuda:0')\n"
     ]
    },
    {
     "name": "stderr",
     "output_type": "stream",
     "text": [
      "\r",
      " 13%|█▎        | 47/360 [00:38<04:13,  1.23it/s]"
     ]
    },
    {
     "name": "stdout",
     "output_type": "stream",
     "text": [
      "similarity of the two sentences:  tensor(0.9294, device='cuda:0')\n"
     ]
    },
    {
     "name": "stderr",
     "output_type": "stream",
     "text": [
      "\r",
      " 13%|█▎        | 48/360 [00:39<04:13,  1.23it/s]"
     ]
    },
    {
     "name": "stdout",
     "output_type": "stream",
     "text": [
      "similarity of the two sentences:  tensor(0.8007, device='cuda:0')\n"
     ]
    },
    {
     "name": "stderr",
     "output_type": "stream",
     "text": [
      "\r",
      " 14%|█▎        | 49/360 [00:40<04:12,  1.23it/s]"
     ]
    },
    {
     "name": "stdout",
     "output_type": "stream",
     "text": [
      "similarity of the two sentences:  tensor(0.8754, device='cuda:0')\n"
     ]
    },
    {
     "name": "stderr",
     "output_type": "stream",
     "text": [
      "\r",
      " 14%|█▍        | 50/360 [00:41<04:11,  1.23it/s]"
     ]
    },
    {
     "name": "stdout",
     "output_type": "stream",
     "text": [
      "similarity of the two sentences:  tensor(0.9977, device='cuda:0')\n"
     ]
    },
    {
     "name": "stderr",
     "output_type": "stream",
     "text": [
      "\r",
      " 14%|█▍        | 51/360 [00:41<04:10,  1.23it/s]"
     ]
    },
    {
     "name": "stdout",
     "output_type": "stream",
     "text": [
      "similarity of the two sentences:  tensor(0.8266, device='cuda:0')\n"
     ]
    },
    {
     "name": "stderr",
     "output_type": "stream",
     "text": [
      "\r",
      " 14%|█▍        | 52/360 [00:42<04:10,  1.23it/s]"
     ]
    },
    {
     "name": "stdout",
     "output_type": "stream",
     "text": [
      "similarity of the two sentences:  tensor(0.8623, device='cuda:0')\n"
     ]
    },
    {
     "name": "stderr",
     "output_type": "stream",
     "text": [
      "\r",
      " 15%|█▍        | 53/360 [00:43<04:09,  1.23it/s]"
     ]
    },
    {
     "name": "stdout",
     "output_type": "stream",
     "text": [
      "similarity of the two sentences:  tensor(0.7720, device='cuda:0')\n"
     ]
    },
    {
     "name": "stderr",
     "output_type": "stream",
     "text": [
      "\r",
      " 15%|█▌        | 54/360 [00:44<04:08,  1.23it/s]"
     ]
    },
    {
     "name": "stdout",
     "output_type": "stream",
     "text": [
      "similarity of the two sentences:  tensor(0.8567, device='cuda:0')\n"
     ]
    },
    {
     "name": "stderr",
     "output_type": "stream",
     "text": [
      "\r",
      " 15%|█▌        | 55/360 [00:45<04:07,  1.23it/s]"
     ]
    },
    {
     "name": "stdout",
     "output_type": "stream",
     "text": [
      "similarity of the two sentences:  tensor(0.7952, device='cuda:0')\n"
     ]
    },
    {
     "name": "stderr",
     "output_type": "stream",
     "text": [
      "\r",
      " 16%|█▌        | 56/360 [00:45<04:06,  1.23it/s]"
     ]
    },
    {
     "name": "stdout",
     "output_type": "stream",
     "text": [
      "similarity of the two sentences:  tensor(0.7709, device='cuda:0')\n"
     ]
    },
    {
     "name": "stderr",
     "output_type": "stream",
     "text": [
      "\r",
      " 16%|█▌        | 57/360 [00:46<04:06,  1.23it/s]"
     ]
    },
    {
     "name": "stdout",
     "output_type": "stream",
     "text": [
      "similarity of the two sentences:  tensor(0.8035, device='cuda:0')\n"
     ]
    },
    {
     "name": "stderr",
     "output_type": "stream",
     "text": [
      "\r",
      " 16%|█▌        | 58/360 [00:47<04:05,  1.23it/s]"
     ]
    },
    {
     "name": "stdout",
     "output_type": "stream",
     "text": [
      "similarity of the two sentences:  tensor(0.9738, device='cuda:0')\n"
     ]
    },
    {
     "name": "stderr",
     "output_type": "stream",
     "text": [
      "\r",
      " 16%|█▋        | 59/360 [00:48<04:04,  1.23it/s]"
     ]
    },
    {
     "name": "stdout",
     "output_type": "stream",
     "text": [
      "similarity of the two sentences:  tensor(0.9548, device='cuda:0')\n"
     ]
    },
    {
     "name": "stderr",
     "output_type": "stream",
     "text": [
      "\r",
      " 17%|█▋        | 60/360 [00:49<04:03,  1.23it/s]"
     ]
    },
    {
     "name": "stdout",
     "output_type": "stream",
     "text": [
      "similarity of the two sentences:  tensor(0.7833, device='cuda:0')\n"
     ]
    },
    {
     "name": "stderr",
     "output_type": "stream",
     "text": [
      "\r",
      " 17%|█▋        | 61/360 [00:49<04:02,  1.23it/s]"
     ]
    },
    {
     "name": "stdout",
     "output_type": "stream",
     "text": [
      "similarity of the two sentences:  tensor(0.8370, device='cuda:0')\n"
     ]
    },
    {
     "name": "stderr",
     "output_type": "stream",
     "text": [
      "\r",
      " 17%|█▋        | 62/360 [00:50<04:02,  1.23it/s]"
     ]
    },
    {
     "name": "stdout",
     "output_type": "stream",
     "text": [
      "similarity of the two sentences:  tensor(0.8292, device='cuda:0')\n"
     ]
    },
    {
     "name": "stderr",
     "output_type": "stream",
     "text": [
      "\r",
      " 18%|█▊        | 63/360 [00:51<04:02,  1.22it/s]"
     ]
    },
    {
     "name": "stdout",
     "output_type": "stream",
     "text": [
      "similarity of the two sentences:  tensor(1.0000, device='cuda:0')\n"
     ]
    },
    {
     "name": "stderr",
     "output_type": "stream",
     "text": [
      "\r",
      " 18%|█▊        | 64/360 [00:52<04:03,  1.22it/s]"
     ]
    },
    {
     "name": "stdout",
     "output_type": "stream",
     "text": [
      "similarity of the two sentences:  tensor(0.7563, device='cuda:0')\n"
     ]
    },
    {
     "name": "stderr",
     "output_type": "stream",
     "text": [
      "\r",
      " 18%|█▊        | 65/360 [00:53<04:01,  1.22it/s]"
     ]
    },
    {
     "name": "stdout",
     "output_type": "stream",
     "text": [
      "similarity of the two sentences:  tensor(1.0000, device='cuda:0')\n"
     ]
    },
    {
     "name": "stderr",
     "output_type": "stream",
     "text": [
      "\r",
      " 18%|█▊        | 66/360 [00:54<04:00,  1.22it/s]"
     ]
    },
    {
     "name": "stdout",
     "output_type": "stream",
     "text": [
      "similarity of the two sentences:  tensor(0.8863, device='cuda:0')\n"
     ]
    },
    {
     "name": "stderr",
     "output_type": "stream",
     "text": [
      "\r",
      " 19%|█▊        | 67/360 [00:54<03:59,  1.22it/s]"
     ]
    },
    {
     "name": "stdout",
     "output_type": "stream",
     "text": [
      "similarity of the two sentences:  tensor(0.8658, device='cuda:0')\n"
     ]
    },
    {
     "name": "stderr",
     "output_type": "stream",
     "text": [
      "\r",
      " 19%|█▉        | 68/360 [00:55<03:58,  1.22it/s]"
     ]
    },
    {
     "name": "stdout",
     "output_type": "stream",
     "text": [
      "similarity of the two sentences:  tensor(0.8793, device='cuda:0')\n"
     ]
    },
    {
     "name": "stderr",
     "output_type": "stream",
     "text": [
      "\r",
      " 19%|█▉        | 69/360 [00:56<03:57,  1.22it/s]"
     ]
    },
    {
     "name": "stdout",
     "output_type": "stream",
     "text": [
      "similarity of the two sentences:  tensor(1.0000, device='cuda:0')\n"
     ]
    },
    {
     "name": "stderr",
     "output_type": "stream",
     "text": [
      "\r",
      " 19%|█▉        | 70/360 [00:57<03:56,  1.23it/s]"
     ]
    },
    {
     "name": "stdout",
     "output_type": "stream",
     "text": [
      "similarity of the two sentences:  tensor(1., device='cuda:0')\n"
     ]
    },
    {
     "name": "stderr",
     "output_type": "stream",
     "text": [
      "\r",
      " 20%|█▉        | 71/360 [00:58<03:55,  1.23it/s]"
     ]
    },
    {
     "name": "stdout",
     "output_type": "stream",
     "text": [
      "similarity of the two sentences:  tensor(1.0000, device='cuda:0')\n"
     ]
    },
    {
     "name": "stderr",
     "output_type": "stream",
     "text": [
      "\r",
      " 20%|██        | 72/360 [00:58<03:54,  1.23it/s]"
     ]
    },
    {
     "name": "stdout",
     "output_type": "stream",
     "text": [
      "similarity of the two sentences:  tensor(0.9534, device='cuda:0')\n"
     ]
    },
    {
     "name": "stderr",
     "output_type": "stream",
     "text": [
      "\r",
      " 20%|██        | 73/360 [00:59<03:53,  1.23it/s]"
     ]
    },
    {
     "name": "stdout",
     "output_type": "stream",
     "text": [
      "similarity of the two sentences:  tensor(0.9349, device='cuda:0')\n"
     ]
    },
    {
     "name": "stderr",
     "output_type": "stream",
     "text": [
      "\r",
      " 21%|██        | 74/360 [01:00<03:52,  1.23it/s]"
     ]
    },
    {
     "name": "stdout",
     "output_type": "stream",
     "text": [
      "similarity of the two sentences:  tensor(0.8430, device='cuda:0')\n"
     ]
    },
    {
     "name": "stderr",
     "output_type": "stream",
     "text": [
      "\r",
      " 21%|██        | 75/360 [01:01<03:52,  1.23it/s]"
     ]
    },
    {
     "name": "stdout",
     "output_type": "stream",
     "text": [
      "similarity of the two sentences:  tensor(0.8098, device='cuda:0')\n"
     ]
    },
    {
     "name": "stderr",
     "output_type": "stream",
     "text": [
      "\r",
      " 21%|██        | 76/360 [01:02<03:53,  1.22it/s]"
     ]
    },
    {
     "name": "stdout",
     "output_type": "stream",
     "text": [
      "similarity of the two sentences:  tensor(0.9217, device='cuda:0')\n"
     ]
    },
    {
     "name": "stderr",
     "output_type": "stream",
     "text": [
      "\r",
      " 21%|██▏       | 77/360 [01:03<03:52,  1.22it/s]"
     ]
    },
    {
     "name": "stdout",
     "output_type": "stream",
     "text": [
      "similarity of the two sentences:  tensor(0.7958, device='cuda:0')\n"
     ]
    },
    {
     "name": "stderr",
     "output_type": "stream",
     "text": [
      "\r",
      " 22%|██▏       | 78/360 [01:03<03:52,  1.21it/s]"
     ]
    },
    {
     "name": "stdout",
     "output_type": "stream",
     "text": [
      "similarity of the two sentences:  tensor(1., device='cuda:0')\n"
     ]
    },
    {
     "name": "stderr",
     "output_type": "stream",
     "text": [
      "\r",
      " 22%|██▏       | 79/360 [01:04<03:52,  1.21it/s]"
     ]
    },
    {
     "name": "stdout",
     "output_type": "stream",
     "text": [
      "similarity of the two sentences:  tensor(0.8090, device='cuda:0')\n"
     ]
    },
    {
     "name": "stderr",
     "output_type": "stream",
     "text": [
      "\r",
      " 22%|██▏       | 80/360 [01:05<03:50,  1.21it/s]"
     ]
    },
    {
     "name": "stdout",
     "output_type": "stream",
     "text": [
      "similarity of the two sentences:  tensor(0.8364, device='cuda:0')\n"
     ]
    },
    {
     "name": "stderr",
     "output_type": "stream",
     "text": [
      "\r",
      " 22%|██▎       | 81/360 [01:06<03:48,  1.22it/s]"
     ]
    },
    {
     "name": "stdout",
     "output_type": "stream",
     "text": [
      "similarity of the two sentences:  tensor(0.8307, device='cuda:0')\n"
     ]
    },
    {
     "name": "stderr",
     "output_type": "stream",
     "text": [
      "\r",
      " 23%|██▎       | 82/360 [01:07<03:47,  1.22it/s]"
     ]
    },
    {
     "name": "stdout",
     "output_type": "stream",
     "text": [
      "similarity of the two sentences:  tensor(0.8857, device='cuda:0')\n"
     ]
    },
    {
     "name": "stderr",
     "output_type": "stream",
     "text": [
      "\r",
      " 23%|██▎       | 83/360 [01:07<03:46,  1.22it/s]"
     ]
    },
    {
     "name": "stdout",
     "output_type": "stream",
     "text": [
      "similarity of the two sentences:  tensor(1.0000, device='cuda:0')\n"
     ]
    },
    {
     "name": "stderr",
     "output_type": "stream",
     "text": [
      "\r",
      " 23%|██▎       | 84/360 [01:08<03:45,  1.22it/s]"
     ]
    },
    {
     "name": "stdout",
     "output_type": "stream",
     "text": [
      "similarity of the two sentences:  tensor(0.7569, device='cuda:0')\n"
     ]
    },
    {
     "name": "stderr",
     "output_type": "stream",
     "text": [
      "\r",
      " 24%|██▎       | 85/360 [01:09<03:44,  1.22it/s]"
     ]
    },
    {
     "name": "stdout",
     "output_type": "stream",
     "text": [
      "similarity of the two sentences:  tensor(0.8947, device='cuda:0')\n"
     ]
    },
    {
     "name": "stderr",
     "output_type": "stream",
     "text": [
      "\r",
      " 24%|██▍       | 86/360 [01:10<03:43,  1.23it/s]"
     ]
    },
    {
     "name": "stdout",
     "output_type": "stream",
     "text": [
      "similarity of the two sentences:  tensor(0.8804, device='cuda:0')\n"
     ]
    },
    {
     "name": "stderr",
     "output_type": "stream",
     "text": [
      "\r",
      " 24%|██▍       | 87/360 [01:11<03:42,  1.22it/s]"
     ]
    },
    {
     "name": "stdout",
     "output_type": "stream",
     "text": [
      "similarity of the two sentences:  tensor(0.9196, device='cuda:0')\n"
     ]
    },
    {
     "name": "stderr",
     "output_type": "stream",
     "text": [
      "\r",
      " 24%|██▍       | 88/360 [01:12<03:43,  1.22it/s]"
     ]
    },
    {
     "name": "stdout",
     "output_type": "stream",
     "text": [
      "similarity of the two sentences:  tensor(0.9853, device='cuda:0')\n"
     ]
    },
    {
     "name": "stderr",
     "output_type": "stream",
     "text": [
      "\r",
      " 25%|██▍       | 89/360 [01:12<03:41,  1.22it/s]"
     ]
    },
    {
     "name": "stdout",
     "output_type": "stream",
     "text": [
      "similarity of the two sentences:  tensor(0.7678, device='cuda:0')\n"
     ]
    },
    {
     "name": "stderr",
     "output_type": "stream",
     "text": [
      "\r",
      " 25%|██▌       | 90/360 [01:13<03:40,  1.22it/s]"
     ]
    },
    {
     "name": "stdout",
     "output_type": "stream",
     "text": [
      "similarity of the two sentences:  tensor(0.9345, device='cuda:0')\n"
     ]
    },
    {
     "name": "stderr",
     "output_type": "stream",
     "text": [
      "\r",
      " 25%|██▌       | 91/360 [01:14<03:40,  1.22it/s]"
     ]
    },
    {
     "name": "stdout",
     "output_type": "stream",
     "text": [
      "similarity of the two sentences:  tensor(0.8029, device='cuda:0')\n"
     ]
    },
    {
     "name": "stderr",
     "output_type": "stream",
     "text": [
      "\r",
      " 26%|██▌       | 92/360 [01:15<03:39,  1.22it/s]"
     ]
    },
    {
     "name": "stdout",
     "output_type": "stream",
     "text": [
      "similarity of the two sentences:  tensor(0.8299, device='cuda:0')\n"
     ]
    },
    {
     "name": "stderr",
     "output_type": "stream",
     "text": [
      "\r",
      " 26%|██▌       | 93/360 [01:16<03:38,  1.22it/s]"
     ]
    },
    {
     "name": "stdout",
     "output_type": "stream",
     "text": [
      "similarity of the two sentences:  tensor(0.9610, device='cuda:0')\n"
     ]
    },
    {
     "name": "stderr",
     "output_type": "stream",
     "text": [
      "\r",
      " 26%|██▌       | 94/360 [01:16<03:37,  1.22it/s]"
     ]
    },
    {
     "name": "stdout",
     "output_type": "stream",
     "text": [
      "similarity of the two sentences:  tensor(0.7508, device='cuda:0')\n"
     ]
    },
    {
     "name": "stderr",
     "output_type": "stream",
     "text": [
      "\r",
      " 26%|██▋       | 95/360 [01:17<03:40,  1.20it/s]"
     ]
    },
    {
     "name": "stdout",
     "output_type": "stream",
     "text": [
      "similarity of the two sentences:  tensor(0.8070, device='cuda:0')\n"
     ]
    },
    {
     "name": "stderr",
     "output_type": "stream",
     "text": [
      "\r",
      " 27%|██▋       | 96/360 [01:18<03:41,  1.19it/s]"
     ]
    },
    {
     "name": "stdout",
     "output_type": "stream",
     "text": [
      "similarity of the two sentences:  tensor(0.7501, device='cuda:0')\n"
     ]
    },
    {
     "name": "stderr",
     "output_type": "stream",
     "text": [
      "\r",
      " 27%|██▋       | 97/360 [01:19<03:40,  1.19it/s]"
     ]
    },
    {
     "name": "stdout",
     "output_type": "stream",
     "text": [
      "similarity of the two sentences:  tensor(0.8184, device='cuda:0')\n"
     ]
    },
    {
     "name": "stderr",
     "output_type": "stream",
     "text": [
      "\r",
      " 27%|██▋       | 98/360 [01:20<03:39,  1.19it/s]"
     ]
    },
    {
     "name": "stdout",
     "output_type": "stream",
     "text": [
      "similarity of the two sentences:  tensor(1.0000, device='cuda:0')\n"
     ]
    },
    {
     "name": "stderr",
     "output_type": "stream",
     "text": [
      "\r",
      " 28%|██▊       | 99/360 [01:21<03:37,  1.20it/s]"
     ]
    },
    {
     "name": "stdout",
     "output_type": "stream",
     "text": [
      "similarity of the two sentences:  tensor(0.8679, device='cuda:0')\n"
     ]
    },
    {
     "name": "stderr",
     "output_type": "stream",
     "text": [
      "\r",
      " 28%|██▊       | 100/360 [01:22<03:35,  1.21it/s]"
     ]
    },
    {
     "name": "stdout",
     "output_type": "stream",
     "text": [
      "similarity of the two sentences:  tensor(0.9780, device='cuda:0')\n"
     ]
    },
    {
     "name": "stderr",
     "output_type": "stream",
     "text": [
      "\r",
      " 28%|██▊       | 101/360 [01:22<03:33,  1.21it/s]"
     ]
    },
    {
     "name": "stdout",
     "output_type": "stream",
     "text": [
      "similarity of the two sentences:  tensor(0.8857, device='cuda:0')\n"
     ]
    },
    {
     "name": "stderr",
     "output_type": "stream",
     "text": [
      "\r",
      " 28%|██▊       | 102/360 [01:23<03:32,  1.21it/s]"
     ]
    },
    {
     "name": "stdout",
     "output_type": "stream",
     "text": [
      "similarity of the two sentences:  tensor(0.8038, device='cuda:0')\n"
     ]
    },
    {
     "name": "stderr",
     "output_type": "stream",
     "text": [
      "\r",
      " 29%|██▊       | 103/360 [01:24<03:32,  1.21it/s]"
     ]
    },
    {
     "name": "stdout",
     "output_type": "stream",
     "text": [
      "similarity of the two sentences:  tensor(0.8077, device='cuda:0')\n"
     ]
    },
    {
     "name": "stderr",
     "output_type": "stream",
     "text": [
      "\r",
      " 29%|██▉       | 104/360 [01:25<03:32,  1.21it/s]"
     ]
    },
    {
     "name": "stdout",
     "output_type": "stream",
     "text": [
      "similarity of the two sentences:  tensor(1.0000, device='cuda:0')\n"
     ]
    },
    {
     "name": "stderr",
     "output_type": "stream",
     "text": [
      "\r",
      " 29%|██▉       | 105/360 [01:26<03:31,  1.20it/s]"
     ]
    },
    {
     "name": "stdout",
     "output_type": "stream",
     "text": [
      "similarity of the two sentences:  tensor(0.8265, device='cuda:0')\n"
     ]
    },
    {
     "name": "stderr",
     "output_type": "stream",
     "text": [
      "\r",
      " 29%|██▉       | 106/360 [01:26<03:31,  1.20it/s]"
     ]
    },
    {
     "name": "stdout",
     "output_type": "stream",
     "text": [
      "similarity of the two sentences:  tensor(0.8206, device='cuda:0')\n"
     ]
    },
    {
     "name": "stderr",
     "output_type": "stream",
     "text": [
      "\r",
      " 30%|██▉       | 107/360 [01:27<03:29,  1.21it/s]"
     ]
    },
    {
     "name": "stdout",
     "output_type": "stream",
     "text": [
      "similarity of the two sentences:  tensor(0.8396, device='cuda:0')\n"
     ]
    },
    {
     "name": "stderr",
     "output_type": "stream",
     "text": [
      "\r",
      " 30%|███       | 108/360 [01:28<03:27,  1.21it/s]"
     ]
    },
    {
     "name": "stdout",
     "output_type": "stream",
     "text": [
      "similarity of the two sentences:  tensor(0.9407, device='cuda:0')\n"
     ]
    },
    {
     "name": "stderr",
     "output_type": "stream",
     "text": [
      "\r",
      " 30%|███       | 109/360 [01:29<03:26,  1.21it/s]"
     ]
    },
    {
     "name": "stdout",
     "output_type": "stream",
     "text": [
      "similarity of the two sentences:  tensor(0.8392, device='cuda:0')\n"
     ]
    },
    {
     "name": "stderr",
     "output_type": "stream",
     "text": [
      "\r",
      " 31%|███       | 110/360 [01:30<03:25,  1.21it/s]"
     ]
    },
    {
     "name": "stdout",
     "output_type": "stream",
     "text": [
      "similarity of the two sentences:  tensor(0.9075, device='cuda:0')\n"
     ]
    },
    {
     "name": "stderr",
     "output_type": "stream",
     "text": [
      "\r",
      " 31%|███       | 111/360 [01:31<03:26,  1.21it/s]"
     ]
    },
    {
     "name": "stdout",
     "output_type": "stream",
     "text": [
      "similarity of the two sentences:  tensor(0.7850, device='cuda:0')\n"
     ]
    },
    {
     "name": "stderr",
     "output_type": "stream",
     "text": [
      "\r",
      " 31%|███       | 112/360 [01:31<03:26,  1.20it/s]"
     ]
    },
    {
     "name": "stdout",
     "output_type": "stream",
     "text": [
      "similarity of the two sentences:  tensor(0.8324, device='cuda:0')\n"
     ]
    },
    {
     "name": "stderr",
     "output_type": "stream",
     "text": [
      "\r",
      " 31%|███▏      | 113/360 [01:32<03:25,  1.20it/s]"
     ]
    },
    {
     "name": "stdout",
     "output_type": "stream",
     "text": [
      "similarity of the two sentences:  tensor(0.8993, device='cuda:0')\n"
     ]
    },
    {
     "name": "stderr",
     "output_type": "stream",
     "text": [
      "\r",
      " 32%|███▏      | 114/360 [01:33<03:25,  1.20it/s]"
     ]
    },
    {
     "name": "stdout",
     "output_type": "stream",
     "text": [
      "similarity of the two sentences:  tensor(0.8490, device='cuda:0')\n"
     ]
    },
    {
     "name": "stderr",
     "output_type": "stream",
     "text": [
      "\r",
      " 32%|███▏      | 115/360 [01:34<03:24,  1.20it/s]"
     ]
    },
    {
     "name": "stdout",
     "output_type": "stream",
     "text": [
      "similarity of the two sentences:  tensor(0.7803, device='cuda:0')\n"
     ]
    },
    {
     "name": "stderr",
     "output_type": "stream",
     "text": [
      "\r",
      " 32%|███▏      | 116/360 [01:35<03:29,  1.17it/s]"
     ]
    },
    {
     "name": "stdout",
     "output_type": "stream",
     "text": [
      "similarity of the two sentences:  tensor(0.9156, device='cuda:0')\n"
     ]
    },
    {
     "name": "stderr",
     "output_type": "stream",
     "text": [
      "\r",
      " 32%|███▎      | 117/360 [01:36<03:27,  1.17it/s]"
     ]
    },
    {
     "name": "stdout",
     "output_type": "stream",
     "text": [
      "similarity of the two sentences:  tensor(0.7743, device='cuda:0')\n"
     ]
    },
    {
     "name": "stderr",
     "output_type": "stream",
     "text": [
      "\r",
      " 33%|███▎      | 118/360 [01:37<03:27,  1.17it/s]"
     ]
    },
    {
     "name": "stdout",
     "output_type": "stream",
     "text": [
      "similarity of the two sentences:  tensor(0.7659, device='cuda:0')\n"
     ]
    },
    {
     "name": "stderr",
     "output_type": "stream",
     "text": [
      "\r",
      " 33%|███▎      | 119/360 [01:37<03:27,  1.16it/s]"
     ]
    },
    {
     "name": "stdout",
     "output_type": "stream",
     "text": [
      "similarity of the two sentences:  tensor(0.8290, device='cuda:0')\n"
     ]
    },
    {
     "name": "stderr",
     "output_type": "stream",
     "text": [
      "\r",
      " 33%|███▎      | 120/360 [01:38<03:24,  1.17it/s]"
     ]
    },
    {
     "name": "stdout",
     "output_type": "stream",
     "text": [
      "similarity of the two sentences:  tensor(1.0000, device='cuda:0')\n"
     ]
    },
    {
     "name": "stderr",
     "output_type": "stream",
     "text": [
      "\r",
      " 34%|███▎      | 121/360 [01:39<03:22,  1.18it/s]"
     ]
    },
    {
     "name": "stdout",
     "output_type": "stream",
     "text": [
      "similarity of the two sentences:  tensor(1.0000, device='cuda:0')\n"
     ]
    },
    {
     "name": "stderr",
     "output_type": "stream",
     "text": [
      "\r",
      " 34%|███▍      | 122/360 [01:40<03:21,  1.18it/s]"
     ]
    },
    {
     "name": "stdout",
     "output_type": "stream",
     "text": [
      "similarity of the two sentences:  tensor(0.9260, device='cuda:0')\n"
     ]
    },
    {
     "name": "stderr",
     "output_type": "stream",
     "text": [
      "\r",
      " 34%|███▍      | 123/360 [01:41<03:19,  1.19it/s]"
     ]
    },
    {
     "name": "stdout",
     "output_type": "stream",
     "text": [
      "similarity of the two sentences:  tensor(0.7745, device='cuda:0')\n"
     ]
    },
    {
     "name": "stderr",
     "output_type": "stream",
     "text": [
      "\r",
      " 34%|███▍      | 124/360 [01:42<03:18,  1.19it/s]"
     ]
    },
    {
     "name": "stdout",
     "output_type": "stream",
     "text": [
      "similarity of the two sentences:  tensor(0.8826, device='cuda:0')\n"
     ]
    },
    {
     "name": "stderr",
     "output_type": "stream",
     "text": [
      "\r",
      " 35%|███▍      | 125/360 [01:42<03:17,  1.19it/s]"
     ]
    },
    {
     "name": "stdout",
     "output_type": "stream",
     "text": [
      "similarity of the two sentences:  tensor(0.9202, device='cuda:0')\n"
     ]
    },
    {
     "name": "stderr",
     "output_type": "stream",
     "text": [
      "\r",
      " 35%|███▌      | 126/360 [01:43<03:15,  1.20it/s]"
     ]
    },
    {
     "name": "stdout",
     "output_type": "stream",
     "text": [
      "similarity of the two sentences:  tensor(0.9158, device='cuda:0')\n"
     ]
    },
    {
     "name": "stderr",
     "output_type": "stream",
     "text": [
      "\r",
      " 35%|███▌      | 127/360 [01:44<03:13,  1.21it/s]"
     ]
    },
    {
     "name": "stdout",
     "output_type": "stream",
     "text": [
      "similarity of the two sentences:  tensor(0.7593, device='cuda:0')\n"
     ]
    },
    {
     "name": "stderr",
     "output_type": "stream",
     "text": [
      "\r",
      " 36%|███▌      | 128/360 [01:45<03:11,  1.21it/s]"
     ]
    },
    {
     "name": "stdout",
     "output_type": "stream",
     "text": [
      "similarity of the two sentences:  tensor(0.9233, device='cuda:0')\n"
     ]
    },
    {
     "name": "stderr",
     "output_type": "stream",
     "text": [
      "\r",
      " 36%|███▌      | 129/360 [01:46<03:10,  1.21it/s]"
     ]
    },
    {
     "name": "stdout",
     "output_type": "stream",
     "text": [
      "similarity of the two sentences:  tensor(0.9149, device='cuda:0')\n"
     ]
    },
    {
     "name": "stderr",
     "output_type": "stream",
     "text": [
      "\r",
      " 36%|███▌      | 130/360 [01:47<03:08,  1.22it/s]"
     ]
    },
    {
     "name": "stdout",
     "output_type": "stream",
     "text": [
      "similarity of the two sentences:  tensor(0.8985, device='cuda:0')\n"
     ]
    },
    {
     "name": "stderr",
     "output_type": "stream",
     "text": [
      "\r",
      " 36%|███▋      | 131/360 [01:47<03:07,  1.22it/s]"
     ]
    },
    {
     "name": "stdout",
     "output_type": "stream",
     "text": [
      "similarity of the two sentences:  tensor(0.8133, device='cuda:0')\n"
     ]
    },
    {
     "name": "stderr",
     "output_type": "stream",
     "text": [
      "\r",
      " 37%|███▋      | 132/360 [01:48<03:07,  1.22it/s]"
     ]
    },
    {
     "name": "stdout",
     "output_type": "stream",
     "text": [
      "similarity of the two sentences:  tensor(0.9941, device='cuda:0')\n"
     ]
    },
    {
     "name": "stderr",
     "output_type": "stream",
     "text": [
      "\r",
      " 37%|███▋      | 133/360 [01:49<03:06,  1.22it/s]"
     ]
    },
    {
     "name": "stdout",
     "output_type": "stream",
     "text": [
      "similarity of the two sentences:  tensor(0.8069, device='cuda:0')\n"
     ]
    },
    {
     "name": "stderr",
     "output_type": "stream",
     "text": [
      "\r",
      " 37%|███▋      | 134/360 [01:50<03:05,  1.22it/s]"
     ]
    },
    {
     "name": "stdout",
     "output_type": "stream",
     "text": [
      "similarity of the two sentences:  tensor(0.9059, device='cuda:0')\n"
     ]
    },
    {
     "name": "stderr",
     "output_type": "stream",
     "text": [
      "\r",
      " 38%|███▊      | 135/360 [01:51<03:04,  1.22it/s]"
     ]
    },
    {
     "name": "stdout",
     "output_type": "stream",
     "text": [
      "similarity of the two sentences:  tensor(0.8263, device='cuda:0')\n"
     ]
    },
    {
     "name": "stderr",
     "output_type": "stream",
     "text": [
      "\r",
      " 38%|███▊      | 136/360 [01:51<03:03,  1.22it/s]"
     ]
    },
    {
     "name": "stdout",
     "output_type": "stream",
     "text": [
      "similarity of the two sentences:  tensor(0.9249, device='cuda:0')\n"
     ]
    },
    {
     "name": "stderr",
     "output_type": "stream",
     "text": [
      "\r",
      " 38%|███▊      | 137/360 [01:52<03:02,  1.22it/s]"
     ]
    },
    {
     "name": "stdout",
     "output_type": "stream",
     "text": [
      "similarity of the two sentences:  tensor(0.8088, device='cuda:0')\n"
     ]
    },
    {
     "name": "stderr",
     "output_type": "stream",
     "text": [
      "\r",
      " 38%|███▊      | 138/360 [01:53<03:01,  1.22it/s]"
     ]
    },
    {
     "name": "stdout",
     "output_type": "stream",
     "text": [
      "similarity of the two sentences:  tensor(0.9074, device='cuda:0')\n"
     ]
    },
    {
     "name": "stderr",
     "output_type": "stream",
     "text": [
      "\r",
      " 39%|███▊      | 139/360 [01:54<03:00,  1.22it/s]"
     ]
    },
    {
     "name": "stdout",
     "output_type": "stream",
     "text": [
      "similarity of the two sentences:  tensor(0.8856, device='cuda:0')\n"
     ]
    },
    {
     "name": "stderr",
     "output_type": "stream",
     "text": [
      "\r",
      " 39%|███▉      | 140/360 [01:55<02:59,  1.22it/s]"
     ]
    },
    {
     "name": "stdout",
     "output_type": "stream",
     "text": [
      "similarity of the two sentences:  tensor(0.9479, device='cuda:0')\n"
     ]
    },
    {
     "name": "stderr",
     "output_type": "stream",
     "text": [
      "\r",
      " 39%|███▉      | 141/360 [01:56<02:58,  1.22it/s]"
     ]
    },
    {
     "name": "stdout",
     "output_type": "stream",
     "text": [
      "similarity of the two sentences:  tensor(0.7749, device='cuda:0')\n"
     ]
    },
    {
     "name": "stderr",
     "output_type": "stream",
     "text": [
      "\r",
      " 39%|███▉      | 142/360 [01:56<02:58,  1.22it/s]"
     ]
    },
    {
     "name": "stdout",
     "output_type": "stream",
     "text": [
      "similarity of the two sentences:  tensor(0.9224, device='cuda:0')\n"
     ]
    },
    {
     "name": "stderr",
     "output_type": "stream",
     "text": [
      "\r",
      " 40%|███▉      | 143/360 [01:57<02:56,  1.23it/s]"
     ]
    },
    {
     "name": "stdout",
     "output_type": "stream",
     "text": [
      "similarity of the two sentences:  tensor(0.8357, device='cuda:0')\n"
     ]
    },
    {
     "name": "stderr",
     "output_type": "stream",
     "text": [
      "\r",
      " 40%|████      | 144/360 [01:58<02:55,  1.23it/s]"
     ]
    },
    {
     "name": "stdout",
     "output_type": "stream",
     "text": [
      "similarity of the two sentences:  tensor(1., device='cuda:0')\n"
     ]
    },
    {
     "name": "stderr",
     "output_type": "stream",
     "text": [
      "\r",
      " 40%|████      | 145/360 [01:59<02:55,  1.23it/s]"
     ]
    },
    {
     "name": "stdout",
     "output_type": "stream",
     "text": [
      "similarity of the two sentences:  tensor(0.7964, device='cuda:0')\n"
     ]
    },
    {
     "name": "stderr",
     "output_type": "stream",
     "text": [
      "\r",
      " 41%|████      | 146/360 [02:00<02:54,  1.23it/s]"
     ]
    },
    {
     "name": "stdout",
     "output_type": "stream",
     "text": [
      "similarity of the two sentences:  tensor(0.9050, device='cuda:0')\n"
     ]
    },
    {
     "name": "stderr",
     "output_type": "stream",
     "text": [
      "\r",
      " 41%|████      | 147/360 [02:01<03:03,  1.16it/s]"
     ]
    },
    {
     "name": "stdout",
     "output_type": "stream",
     "text": [
      "similarity of the two sentences:  tensor(0.7656, device='cuda:0')\n"
     ]
    },
    {
     "name": "stderr",
     "output_type": "stream",
     "text": [
      "\r",
      " 41%|████      | 148/360 [02:01<03:02,  1.16it/s]"
     ]
    },
    {
     "name": "stdout",
     "output_type": "stream",
     "text": [
      "similarity of the two sentences:  tensor(0.9137, device='cuda:0')\n"
     ]
    },
    {
     "name": "stderr",
     "output_type": "stream",
     "text": [
      "\r",
      " 41%|████▏     | 149/360 [02:02<03:03,  1.15it/s]"
     ]
    },
    {
     "name": "stdout",
     "output_type": "stream",
     "text": [
      "similarity of the two sentences:  tensor(0.8175, device='cuda:0')\n"
     ]
    },
    {
     "name": "stderr",
     "output_type": "stream",
     "text": [
      "\r",
      " 42%|████▏     | 150/360 [02:03<02:59,  1.17it/s]"
     ]
    },
    {
     "name": "stdout",
     "output_type": "stream",
     "text": [
      "similarity of the two sentences:  tensor(0.9491, device='cuda:0')\n"
     ]
    },
    {
     "name": "stderr",
     "output_type": "stream",
     "text": [
      "\r",
      " 42%|████▏     | 151/360 [02:04<02:57,  1.17it/s]"
     ]
    },
    {
     "name": "stdout",
     "output_type": "stream",
     "text": [
      "similarity of the two sentences:  tensor(0.9083, device='cuda:0')\n"
     ]
    },
    {
     "name": "stderr",
     "output_type": "stream",
     "text": [
      "\r",
      " 42%|████▏     | 152/360 [02:05<02:54,  1.19it/s]"
     ]
    },
    {
     "name": "stdout",
     "output_type": "stream",
     "text": [
      "similarity of the two sentences:  tensor(0.9150, device='cuda:0')\n"
     ]
    },
    {
     "name": "stderr",
     "output_type": "stream",
     "text": [
      "\r",
      " 42%|████▎     | 153/360 [02:06<02:52,  1.20it/s]"
     ]
    },
    {
     "name": "stdout",
     "output_type": "stream",
     "text": [
      "similarity of the two sentences:  tensor(0.8010, device='cuda:0')\n"
     ]
    },
    {
     "name": "stderr",
     "output_type": "stream",
     "text": [
      "\r",
      " 43%|████▎     | 154/360 [02:06<02:50,  1.21it/s]"
     ]
    },
    {
     "name": "stdout",
     "output_type": "stream",
     "text": [
      "similarity of the two sentences:  tensor(0.8709, device='cuda:0')\n"
     ]
    },
    {
     "name": "stderr",
     "output_type": "stream",
     "text": [
      "\r",
      " 43%|████▎     | 155/360 [02:07<02:48,  1.22it/s]"
     ]
    },
    {
     "name": "stdout",
     "output_type": "stream",
     "text": [
      "similarity of the two sentences:  tensor(0.9678, device='cuda:0')\n"
     ]
    },
    {
     "name": "stderr",
     "output_type": "stream",
     "text": [
      "\r",
      " 43%|████▎     | 156/360 [02:08<02:47,  1.22it/s]"
     ]
    },
    {
     "name": "stdout",
     "output_type": "stream",
     "text": [
      "similarity of the two sentences:  tensor(0.8355, device='cuda:0')\n"
     ]
    },
    {
     "name": "stderr",
     "output_type": "stream",
     "text": [
      "\r",
      " 44%|████▎     | 157/360 [02:09<02:48,  1.20it/s]"
     ]
    },
    {
     "name": "stdout",
     "output_type": "stream",
     "text": [
      "similarity of the two sentences:  tensor(0.8940, device='cuda:0')\n"
     ]
    },
    {
     "name": "stderr",
     "output_type": "stream",
     "text": [
      "\r",
      " 44%|████▍     | 158/360 [02:10<02:50,  1.18it/s]"
     ]
    },
    {
     "name": "stdout",
     "output_type": "stream",
     "text": [
      "similarity of the two sentences:  tensor(0.9514, device='cuda:0')\n"
     ]
    },
    {
     "name": "stderr",
     "output_type": "stream",
     "text": [
      "\r",
      " 44%|████▍     | 159/360 [02:11<02:54,  1.16it/s]"
     ]
    },
    {
     "name": "stdout",
     "output_type": "stream",
     "text": [
      "similarity of the two sentences:  tensor(0.8486, device='cuda:0')\n"
     ]
    },
    {
     "name": "stderr",
     "output_type": "stream",
     "text": [
      "\r",
      " 44%|████▍     | 160/360 [02:12<02:51,  1.17it/s]"
     ]
    },
    {
     "name": "stdout",
     "output_type": "stream",
     "text": [
      "similarity of the two sentences:  tensor(0.8192, device='cuda:0')\n"
     ]
    },
    {
     "name": "stderr",
     "output_type": "stream",
     "text": [
      "\r",
      " 45%|████▍     | 161/360 [02:12<02:48,  1.18it/s]"
     ]
    },
    {
     "name": "stdout",
     "output_type": "stream",
     "text": [
      "similarity of the two sentences:  tensor(0.8761, device='cuda:0')\n"
     ]
    },
    {
     "name": "stderr",
     "output_type": "stream",
     "text": [
      "\r",
      " 45%|████▌     | 162/360 [02:13<02:49,  1.17it/s]"
     ]
    },
    {
     "name": "stdout",
     "output_type": "stream",
     "text": [
      "similarity of the two sentences:  tensor(0.9317, device='cuda:0')\n"
     ]
    },
    {
     "name": "stderr",
     "output_type": "stream",
     "text": [
      "\r",
      " 45%|████▌     | 163/360 [02:14<02:47,  1.17it/s]"
     ]
    },
    {
     "name": "stdout",
     "output_type": "stream",
     "text": [
      "similarity of the two sentences:  tensor(0.7506, device='cuda:0')\n"
     ]
    },
    {
     "name": "stderr",
     "output_type": "stream",
     "text": [
      "\r",
      " 46%|████▌     | 164/360 [02:15<02:45,  1.18it/s]"
     ]
    },
    {
     "name": "stdout",
     "output_type": "stream",
     "text": [
      "similarity of the two sentences:  tensor(0.9963, device='cuda:0')\n"
     ]
    },
    {
     "name": "stderr",
     "output_type": "stream",
     "text": [
      "\r",
      " 46%|████▌     | 165/360 [02:16<02:46,  1.17it/s]"
     ]
    },
    {
     "name": "stdout",
     "output_type": "stream",
     "text": [
      "similarity of the two sentences:  tensor(0.9176, device='cuda:0')\n"
     ]
    },
    {
     "name": "stderr",
     "output_type": "stream",
     "text": [
      "\r",
      " 46%|████▌     | 166/360 [02:17<02:45,  1.17it/s]"
     ]
    },
    {
     "name": "stdout",
     "output_type": "stream",
     "text": [
      "similarity of the two sentences:  tensor(0.9207, device='cuda:0')\n"
     ]
    },
    {
     "name": "stderr",
     "output_type": "stream",
     "text": [
      "\r",
      " 46%|████▋     | 167/360 [02:18<02:42,  1.19it/s]"
     ]
    },
    {
     "name": "stdout",
     "output_type": "stream",
     "text": [
      "similarity of the two sentences:  tensor(0.7929, device='cuda:0')\n"
     ]
    },
    {
     "name": "stderr",
     "output_type": "stream",
     "text": [
      "\r",
      " 47%|████▋     | 168/360 [02:18<02:40,  1.19it/s]"
     ]
    },
    {
     "name": "stdout",
     "output_type": "stream",
     "text": [
      "similarity of the two sentences:  tensor(0.8529, device='cuda:0')\n"
     ]
    },
    {
     "name": "stderr",
     "output_type": "stream",
     "text": [
      "\r",
      " 47%|████▋     | 169/360 [02:19<02:39,  1.20it/s]"
     ]
    },
    {
     "name": "stdout",
     "output_type": "stream",
     "text": [
      "similarity of the two sentences:  tensor(0.8707, device='cuda:0')\n"
     ]
    },
    {
     "name": "stderr",
     "output_type": "stream",
     "text": [
      "\r",
      " 47%|████▋     | 170/360 [02:20<02:37,  1.20it/s]"
     ]
    },
    {
     "name": "stdout",
     "output_type": "stream",
     "text": [
      "similarity of the two sentences:  tensor(0.9501, device='cuda:0')\n"
     ]
    },
    {
     "name": "stderr",
     "output_type": "stream",
     "text": [
      "\r",
      " 48%|████▊     | 171/360 [02:21<02:36,  1.20it/s]"
     ]
    },
    {
     "name": "stdout",
     "output_type": "stream",
     "text": [
      "similarity of the two sentences:  tensor(1.0000, device='cuda:0')\n"
     ]
    },
    {
     "name": "stderr",
     "output_type": "stream",
     "text": [
      "\r",
      " 48%|████▊     | 172/360 [02:22<02:36,  1.20it/s]"
     ]
    },
    {
     "name": "stdout",
     "output_type": "stream",
     "text": [
      "similarity of the two sentences:  tensor(0.8460, device='cuda:0')\n"
     ]
    },
    {
     "name": "stderr",
     "output_type": "stream",
     "text": [
      "\r",
      " 48%|████▊     | 173/360 [02:22<02:35,  1.21it/s]"
     ]
    },
    {
     "name": "stdout",
     "output_type": "stream",
     "text": [
      "similarity of the two sentences:  tensor(0.7595, device='cuda:0')\n"
     ]
    },
    {
     "name": "stderr",
     "output_type": "stream",
     "text": [
      "\r",
      " 48%|████▊     | 174/360 [02:23<02:34,  1.21it/s]"
     ]
    },
    {
     "name": "stdout",
     "output_type": "stream",
     "text": [
      "similarity of the two sentences:  tensor(1., device='cuda:0')\n"
     ]
    },
    {
     "name": "stderr",
     "output_type": "stream",
     "text": [
      "\r",
      " 49%|████▊     | 175/360 [02:24<02:33,  1.21it/s]"
     ]
    },
    {
     "name": "stdout",
     "output_type": "stream",
     "text": [
      "similarity of the two sentences:  tensor(0.7728, device='cuda:0')\n"
     ]
    },
    {
     "name": "stderr",
     "output_type": "stream",
     "text": [
      "\r",
      " 49%|████▉     | 176/360 [02:25<02:31,  1.21it/s]"
     ]
    },
    {
     "name": "stdout",
     "output_type": "stream",
     "text": [
      "similarity of the two sentences:  tensor(0.7763, device='cuda:0')\n"
     ]
    },
    {
     "name": "stderr",
     "output_type": "stream",
     "text": [
      "\r",
      " 49%|████▉     | 177/360 [02:26<02:31,  1.21it/s]"
     ]
    },
    {
     "name": "stdout",
     "output_type": "stream",
     "text": [
      "similarity of the two sentences:  tensor(0.9495, device='cuda:0')\n"
     ]
    },
    {
     "name": "stderr",
     "output_type": "stream",
     "text": [
      "\r",
      " 49%|████▉     | 178/360 [02:27<02:30,  1.21it/s]"
     ]
    },
    {
     "name": "stdout",
     "output_type": "stream",
     "text": [
      "similarity of the two sentences:  tensor(0.7534, device='cuda:0')\n"
     ]
    },
    {
     "name": "stderr",
     "output_type": "stream",
     "text": [
      "\r",
      " 50%|████▉     | 179/360 [02:27<02:31,  1.20it/s]"
     ]
    },
    {
     "name": "stdout",
     "output_type": "stream",
     "text": [
      "similarity of the two sentences:  tensor(0.9507, device='cuda:0')\n"
     ]
    },
    {
     "name": "stderr",
     "output_type": "stream",
     "text": [
      "\r",
      " 50%|█████     | 180/360 [02:28<02:30,  1.20it/s]"
     ]
    },
    {
     "name": "stdout",
     "output_type": "stream",
     "text": [
      "similarity of the two sentences:  tensor(0.8091, device='cuda:0')\n"
     ]
    },
    {
     "name": "stderr",
     "output_type": "stream",
     "text": [
      "\r",
      " 50%|█████     | 181/360 [02:29<02:29,  1.20it/s]"
     ]
    },
    {
     "name": "stdout",
     "output_type": "stream",
     "text": [
      "similarity of the two sentences:  tensor(0.8769, device='cuda:0')\n"
     ]
    },
    {
     "name": "stderr",
     "output_type": "stream",
     "text": [
      "\r",
      " 51%|█████     | 182/360 [02:30<02:27,  1.21it/s]"
     ]
    },
    {
     "name": "stdout",
     "output_type": "stream",
     "text": [
      "similarity of the two sentences:  tensor(1., device='cuda:0')\n"
     ]
    },
    {
     "name": "stderr",
     "output_type": "stream",
     "text": [
      "\r",
      " 51%|█████     | 183/360 [02:31<02:26,  1.21it/s]"
     ]
    },
    {
     "name": "stdout",
     "output_type": "stream",
     "text": [
      "similarity of the two sentences:  tensor(1., device='cuda:0')\n"
     ]
    },
    {
     "name": "stderr",
     "output_type": "stream",
     "text": [
      "\r",
      " 51%|█████     | 184/360 [02:32<02:25,  1.21it/s]"
     ]
    },
    {
     "name": "stdout",
     "output_type": "stream",
     "text": [
      "similarity of the two sentences:  tensor(0.7795, device='cuda:0')\n"
     ]
    },
    {
     "name": "stderr",
     "output_type": "stream",
     "text": [
      "\r",
      " 51%|█████▏    | 185/360 [02:32<02:24,  1.21it/s]"
     ]
    },
    {
     "name": "stdout",
     "output_type": "stream",
     "text": [
      "similarity of the two sentences:  tensor(0.9838, device='cuda:0')\n"
     ]
    },
    {
     "name": "stderr",
     "output_type": "stream",
     "text": [
      "\r",
      " 52%|█████▏    | 186/360 [02:33<02:22,  1.22it/s]"
     ]
    },
    {
     "name": "stdout",
     "output_type": "stream",
     "text": [
      "similarity of the two sentences:  tensor(0.8822, device='cuda:0')\n"
     ]
    },
    {
     "name": "stderr",
     "output_type": "stream",
     "text": [
      "\r",
      " 52%|█████▏    | 187/360 [02:34<02:20,  1.23it/s]"
     ]
    },
    {
     "name": "stdout",
     "output_type": "stream",
     "text": [
      "similarity of the two sentences:  tensor(0.7654, device='cuda:0')\n"
     ]
    },
    {
     "name": "stderr",
     "output_type": "stream",
     "text": [
      "\r",
      " 52%|█████▏    | 188/360 [02:35<02:20,  1.23it/s]"
     ]
    },
    {
     "name": "stdout",
     "output_type": "stream",
     "text": [
      "similarity of the two sentences:  tensor(0.9251, device='cuda:0')\n"
     ]
    },
    {
     "name": "stderr",
     "output_type": "stream",
     "text": [
      "\r",
      " 52%|█████▎    | 189/360 [02:36<02:20,  1.22it/s]"
     ]
    },
    {
     "name": "stdout",
     "output_type": "stream",
     "text": [
      "similarity of the two sentences:  tensor(0.8810, device='cuda:0')\n"
     ]
    },
    {
     "name": "stderr",
     "output_type": "stream",
     "text": [
      "\r",
      " 53%|█████▎    | 190/360 [02:36<02:19,  1.22it/s]"
     ]
    },
    {
     "name": "stdout",
     "output_type": "stream",
     "text": [
      "similarity of the two sentences:  tensor(1.0000, device='cuda:0')\n"
     ]
    },
    {
     "name": "stderr",
     "output_type": "stream",
     "text": [
      "\r",
      " 53%|█████▎    | 191/360 [02:37<02:19,  1.21it/s]"
     ]
    },
    {
     "name": "stdout",
     "output_type": "stream",
     "text": [
      "similarity of the two sentences:  tensor(0.8487, device='cuda:0')\n"
     ]
    },
    {
     "name": "stderr",
     "output_type": "stream",
     "text": [
      "\r",
      " 53%|█████▎    | 192/360 [02:38<02:18,  1.21it/s]"
     ]
    },
    {
     "name": "stdout",
     "output_type": "stream",
     "text": [
      "similarity of the two sentences:  tensor(0.7844, device='cuda:0')\n"
     ]
    },
    {
     "name": "stderr",
     "output_type": "stream",
     "text": [
      "\r",
      " 54%|█████▎    | 193/360 [02:39<02:18,  1.20it/s]"
     ]
    },
    {
     "name": "stdout",
     "output_type": "stream",
     "text": [
      "similarity of the two sentences:  tensor(0.9021, device='cuda:0')\n"
     ]
    },
    {
     "name": "stderr",
     "output_type": "stream",
     "text": [
      "\r",
      " 54%|█████▍    | 194/360 [02:40<02:17,  1.21it/s]"
     ]
    },
    {
     "name": "stdout",
     "output_type": "stream",
     "text": [
      "similarity of the two sentences:  tensor(0.8550, device='cuda:0')\n"
     ]
    },
    {
     "name": "stderr",
     "output_type": "stream",
     "text": [
      "\r",
      " 54%|█████▍    | 195/360 [02:41<02:16,  1.21it/s]"
     ]
    },
    {
     "name": "stdout",
     "output_type": "stream",
     "text": [
      "similarity of the two sentences:  tensor(0.9866, device='cuda:0')\n"
     ]
    },
    {
     "name": "stderr",
     "output_type": "stream",
     "text": [
      "\r",
      " 54%|█████▍    | 196/360 [02:42<02:19,  1.17it/s]"
     ]
    },
    {
     "name": "stdout",
     "output_type": "stream",
     "text": [
      "similarity of the two sentences:  tensor(0.8975, device='cuda:0')\n"
     ]
    },
    {
     "name": "stderr",
     "output_type": "stream",
     "text": [
      "\r",
      " 55%|█████▍    | 197/360 [02:42<02:18,  1.18it/s]"
     ]
    },
    {
     "name": "stdout",
     "output_type": "stream",
     "text": [
      "similarity of the two sentences:  tensor(0.8057, device='cuda:0')\n"
     ]
    },
    {
     "name": "stderr",
     "output_type": "stream",
     "text": [
      "\r",
      " 55%|█████▌    | 198/360 [02:43<02:17,  1.18it/s]"
     ]
    },
    {
     "name": "stdout",
     "output_type": "stream",
     "text": [
      "similarity of the two sentences:  tensor(0.9063, device='cuda:0')\n"
     ]
    },
    {
     "name": "stderr",
     "output_type": "stream",
     "text": [
      "\r",
      " 55%|█████▌    | 199/360 [02:44<02:15,  1.19it/s]"
     ]
    },
    {
     "name": "stdout",
     "output_type": "stream",
     "text": [
      "similarity of the two sentences:  tensor(0.9425, device='cuda:0')\n"
     ]
    },
    {
     "name": "stderr",
     "output_type": "stream",
     "text": [
      "\r",
      " 56%|█████▌    | 200/360 [02:45<02:13,  1.20it/s]"
     ]
    },
    {
     "name": "stdout",
     "output_type": "stream",
     "text": [
      "similarity of the two sentences:  tensor(0.9751, device='cuda:0')\n"
     ]
    },
    {
     "name": "stderr",
     "output_type": "stream",
     "text": [
      "\r",
      " 56%|█████▌    | 201/360 [02:46<02:12,  1.20it/s]"
     ]
    },
    {
     "name": "stdout",
     "output_type": "stream",
     "text": [
      "similarity of the two sentences:  tensor(0.9878, device='cuda:0')\n"
     ]
    },
    {
     "name": "stderr",
     "output_type": "stream",
     "text": [
      "\r",
      " 56%|█████▌    | 202/360 [02:47<02:11,  1.20it/s]"
     ]
    },
    {
     "name": "stdout",
     "output_type": "stream",
     "text": [
      "similarity of the two sentences:  tensor(0.9550, device='cuda:0')\n"
     ]
    },
    {
     "name": "stderr",
     "output_type": "stream",
     "text": [
      "\r",
      " 56%|█████▋    | 203/360 [02:47<02:10,  1.21it/s]"
     ]
    },
    {
     "name": "stdout",
     "output_type": "stream",
     "text": [
      "similarity of the two sentences:  tensor(0.9207, device='cuda:0')\n"
     ]
    },
    {
     "name": "stderr",
     "output_type": "stream",
     "text": [
      "\r",
      " 57%|█████▋    | 204/360 [02:48<02:09,  1.21it/s]"
     ]
    },
    {
     "name": "stdout",
     "output_type": "stream",
     "text": [
      "similarity of the two sentences:  tensor(0.8590, device='cuda:0')\n"
     ]
    },
    {
     "name": "stderr",
     "output_type": "stream",
     "text": [
      "\r",
      " 57%|█████▋    | 205/360 [02:49<02:08,  1.21it/s]"
     ]
    },
    {
     "name": "stdout",
     "output_type": "stream",
     "text": [
      "similarity of the two sentences:  tensor(0.7590, device='cuda:0')\n"
     ]
    },
    {
     "name": "stderr",
     "output_type": "stream",
     "text": [
      "\r",
      " 57%|█████▋    | 206/360 [02:50<02:08,  1.20it/s]"
     ]
    },
    {
     "name": "stdout",
     "output_type": "stream",
     "text": [
      "similarity of the two sentences:  tensor(0.8147, device='cuda:0')\n"
     ]
    },
    {
     "name": "stderr",
     "output_type": "stream",
     "text": [
      "\r",
      " 57%|█████▊    | 207/360 [02:51<02:07,  1.20it/s]"
     ]
    },
    {
     "name": "stdout",
     "output_type": "stream",
     "text": [
      "similarity of the two sentences:  tensor(0.8601, device='cuda:0')\n"
     ]
    },
    {
     "name": "stderr",
     "output_type": "stream",
     "text": [
      "\r",
      " 58%|█████▊    | 208/360 [02:52<02:06,  1.20it/s]"
     ]
    },
    {
     "name": "stdout",
     "output_type": "stream",
     "text": [
      "similarity of the two sentences:  tensor(0.9572, device='cuda:0')\n"
     ]
    },
    {
     "name": "stderr",
     "output_type": "stream",
     "text": [
      "\r",
      " 58%|█████▊    | 209/360 [02:52<02:05,  1.21it/s]"
     ]
    },
    {
     "name": "stdout",
     "output_type": "stream",
     "text": [
      "similarity of the two sentences:  tensor(0.8017, device='cuda:0')\n"
     ]
    },
    {
     "name": "stderr",
     "output_type": "stream",
     "text": [
      "\r",
      " 58%|█████▊    | 210/360 [02:53<02:03,  1.21it/s]"
     ]
    },
    {
     "name": "stdout",
     "output_type": "stream",
     "text": [
      "similarity of the two sentences:  tensor(0.9590, device='cuda:0')\n"
     ]
    },
    {
     "name": "stderr",
     "output_type": "stream",
     "text": [
      "\r",
      " 59%|█████▊    | 211/360 [02:54<02:03,  1.21it/s]"
     ]
    },
    {
     "name": "stdout",
     "output_type": "stream",
     "text": [
      "similarity of the two sentences:  tensor(0.8542, device='cuda:0')\n"
     ]
    },
    {
     "name": "stderr",
     "output_type": "stream",
     "text": [
      "\r",
      " 59%|█████▉    | 212/360 [02:55<02:02,  1.21it/s]"
     ]
    },
    {
     "name": "stdout",
     "output_type": "stream",
     "text": [
      "similarity of the two sentences:  tensor(0.7903, device='cuda:0')\n"
     ]
    },
    {
     "name": "stderr",
     "output_type": "stream",
     "text": [
      "\r",
      " 59%|█████▉    | 213/360 [02:56<02:01,  1.21it/s]"
     ]
    },
    {
     "name": "stdout",
     "output_type": "stream",
     "text": [
      "similarity of the two sentences:  tensor(0.8218, device='cuda:0')\n"
     ]
    },
    {
     "name": "stderr",
     "output_type": "stream",
     "text": [
      "\r",
      " 59%|█████▉    | 214/360 [02:56<02:00,  1.21it/s]"
     ]
    },
    {
     "name": "stdout",
     "output_type": "stream",
     "text": [
      "similarity of the two sentences:  tensor(0.9959, device='cuda:0')\n"
     ]
    },
    {
     "name": "stderr",
     "output_type": "stream",
     "text": [
      "\r",
      " 60%|█████▉    | 215/360 [02:57<01:59,  1.22it/s]"
     ]
    },
    {
     "name": "stdout",
     "output_type": "stream",
     "text": [
      "similarity of the two sentences:  tensor(0.8723, device='cuda:0')\n"
     ]
    },
    {
     "name": "stderr",
     "output_type": "stream",
     "text": [
      "\r",
      " 60%|██████    | 216/360 [02:58<01:58,  1.22it/s]"
     ]
    },
    {
     "name": "stdout",
     "output_type": "stream",
     "text": [
      "similarity of the two sentences:  tensor(0.7954, device='cuda:0')\n"
     ]
    },
    {
     "name": "stderr",
     "output_type": "stream",
     "text": [
      "\r",
      " 60%|██████    | 217/360 [02:59<01:57,  1.22it/s]"
     ]
    },
    {
     "name": "stdout",
     "output_type": "stream",
     "text": [
      "similarity of the two sentences:  tensor(0.8397, device='cuda:0')\n"
     ]
    },
    {
     "name": "stderr",
     "output_type": "stream",
     "text": [
      "\r",
      " 61%|██████    | 218/360 [03:00<01:56,  1.22it/s]"
     ]
    },
    {
     "name": "stdout",
     "output_type": "stream",
     "text": [
      "similarity of the two sentences:  tensor(0.9439, device='cuda:0')\n"
     ]
    },
    {
     "name": "stderr",
     "output_type": "stream",
     "text": [
      "\r",
      " 61%|██████    | 219/360 [03:01<01:56,  1.21it/s]"
     ]
    },
    {
     "name": "stdout",
     "output_type": "stream",
     "text": [
      "similarity of the two sentences:  tensor(0.9381, device='cuda:0')\n"
     ]
    },
    {
     "name": "stderr",
     "output_type": "stream",
     "text": [
      "\r",
      " 61%|██████    | 220/360 [03:01<01:55,  1.21it/s]"
     ]
    },
    {
     "name": "stdout",
     "output_type": "stream",
     "text": [
      "similarity of the two sentences:  tensor(0.8174, device='cuda:0')\n"
     ]
    },
    {
     "name": "stderr",
     "output_type": "stream",
     "text": [
      "\r",
      " 61%|██████▏   | 221/360 [03:02<01:55,  1.20it/s]"
     ]
    },
    {
     "name": "stdout",
     "output_type": "stream",
     "text": [
      "similarity of the two sentences:  tensor(0.9451, device='cuda:0')\n"
     ]
    },
    {
     "name": "stderr",
     "output_type": "stream",
     "text": [
      "\r",
      " 62%|██████▏   | 222/360 [03:03<01:54,  1.21it/s]"
     ]
    },
    {
     "name": "stdout",
     "output_type": "stream",
     "text": [
      "similarity of the two sentences:  tensor(0.8144, device='cuda:0')\n"
     ]
    },
    {
     "name": "stderr",
     "output_type": "stream",
     "text": [
      "\r",
      " 62%|██████▏   | 223/360 [03:04<01:53,  1.20it/s]"
     ]
    },
    {
     "name": "stdout",
     "output_type": "stream",
     "text": [
      "similarity of the two sentences:  tensor(0.7970, device='cuda:0')\n"
     ]
    },
    {
     "name": "stderr",
     "output_type": "stream",
     "text": [
      "\r",
      " 62%|██████▏   | 224/360 [03:05<01:53,  1.20it/s]"
     ]
    },
    {
     "name": "stdout",
     "output_type": "stream",
     "text": [
      "similarity of the two sentences:  tensor(0.7882, device='cuda:0')\n"
     ]
    },
    {
     "name": "stderr",
     "output_type": "stream",
     "text": [
      "\r",
      " 62%|██████▎   | 225/360 [03:06<01:54,  1.17it/s]"
     ]
    },
    {
     "name": "stdout",
     "output_type": "stream",
     "text": [
      "similarity of the two sentences:  tensor(0.8718, device='cuda:0')\n"
     ]
    },
    {
     "name": "stderr",
     "output_type": "stream",
     "text": [
      "\r",
      " 63%|██████▎   | 226/360 [03:06<01:53,  1.18it/s]"
     ]
    },
    {
     "name": "stdout",
     "output_type": "stream",
     "text": [
      "similarity of the two sentences:  tensor(0.9593, device='cuda:0')\n"
     ]
    },
    {
     "name": "stderr",
     "output_type": "stream",
     "text": [
      "\r",
      " 63%|██████▎   | 227/360 [03:07<01:51,  1.19it/s]"
     ]
    },
    {
     "name": "stdout",
     "output_type": "stream",
     "text": [
      "similarity of the two sentences:  tensor(0.8003, device='cuda:0')\n"
     ]
    },
    {
     "name": "stderr",
     "output_type": "stream",
     "text": [
      "\r",
      " 63%|██████▎   | 228/360 [03:08<01:50,  1.20it/s]"
     ]
    },
    {
     "name": "stdout",
     "output_type": "stream",
     "text": [
      "similarity of the two sentences:  tensor(0.7723, device='cuda:0')\n"
     ]
    },
    {
     "name": "stderr",
     "output_type": "stream",
     "text": [
      "\r",
      " 64%|██████▎   | 229/360 [03:09<01:48,  1.20it/s]"
     ]
    },
    {
     "name": "stdout",
     "output_type": "stream",
     "text": [
      "similarity of the two sentences:  tensor(1.0000, device='cuda:0')\n"
     ]
    },
    {
     "name": "stderr",
     "output_type": "stream",
     "text": [
      "\r",
      " 64%|██████▍   | 230/360 [03:10<01:47,  1.21it/s]"
     ]
    },
    {
     "name": "stdout",
     "output_type": "stream",
     "text": [
      "similarity of the two sentences:  tensor(0.8374, device='cuda:0')\n"
     ]
    },
    {
     "name": "stderr",
     "output_type": "stream",
     "text": [
      "\r",
      " 64%|██████▍   | 231/360 [03:11<01:48,  1.19it/s]"
     ]
    },
    {
     "name": "stdout",
     "output_type": "stream",
     "text": [
      "similarity of the two sentences:  tensor(0.9382, device='cuda:0')\n"
     ]
    },
    {
     "name": "stderr",
     "output_type": "stream",
     "text": [
      "\r",
      " 64%|██████▍   | 232/360 [03:11<01:47,  1.19it/s]"
     ]
    },
    {
     "name": "stdout",
     "output_type": "stream",
     "text": [
      "similarity of the two sentences:  tensor(0.8443, device='cuda:0')\n"
     ]
    },
    {
     "name": "stderr",
     "output_type": "stream",
     "text": [
      "\r",
      " 65%|██████▍   | 233/360 [03:12<01:46,  1.19it/s]"
     ]
    },
    {
     "name": "stdout",
     "output_type": "stream",
     "text": [
      "similarity of the two sentences:  tensor(0.8364, device='cuda:0')\n"
     ]
    },
    {
     "name": "stderr",
     "output_type": "stream",
     "text": [
      "\r",
      " 65%|██████▌   | 234/360 [03:13<01:47,  1.17it/s]"
     ]
    },
    {
     "name": "stdout",
     "output_type": "stream",
     "text": [
      "similarity of the two sentences:  tensor(0.9900, device='cuda:0')\n"
     ]
    },
    {
     "name": "stderr",
     "output_type": "stream",
     "text": [
      "\r",
      " 65%|██████▌   | 235/360 [03:14<01:47,  1.16it/s]"
     ]
    },
    {
     "name": "stdout",
     "output_type": "stream",
     "text": [
      "similarity of the two sentences:  tensor(0.7605, device='cuda:0')\n"
     ]
    },
    {
     "name": "stderr",
     "output_type": "stream",
     "text": [
      "\r",
      " 66%|██████▌   | 236/360 [03:15<01:46,  1.16it/s]"
     ]
    },
    {
     "name": "stdout",
     "output_type": "stream",
     "text": [
      "similarity of the two sentences:  tensor(0.9946, device='cuda:0')\n"
     ]
    },
    {
     "name": "stderr",
     "output_type": "stream",
     "text": [
      "\r",
      " 66%|██████▌   | 237/360 [03:16<01:46,  1.15it/s]"
     ]
    },
    {
     "name": "stdout",
     "output_type": "stream",
     "text": [
      "similarity of the two sentences:  tensor(0.8731, device='cuda:0')\n"
     ]
    },
    {
     "name": "stderr",
     "output_type": "stream",
     "text": [
      "\r",
      " 66%|██████▌   | 238/360 [03:17<01:43,  1.17it/s]"
     ]
    },
    {
     "name": "stdout",
     "output_type": "stream",
     "text": [
      "similarity of the two sentences:  tensor(0.7804, device='cuda:0')\n"
     ]
    },
    {
     "name": "stderr",
     "output_type": "stream",
     "text": [
      "\r",
      " 66%|██████▋   | 239/360 [03:17<01:41,  1.19it/s]"
     ]
    },
    {
     "name": "stdout",
     "output_type": "stream",
     "text": [
      "similarity of the two sentences:  tensor(0.7927, device='cuda:0')\n"
     ]
    },
    {
     "name": "stderr",
     "output_type": "stream",
     "text": [
      "\r",
      " 67%|██████▋   | 240/360 [03:18<01:40,  1.19it/s]"
     ]
    },
    {
     "name": "stdout",
     "output_type": "stream",
     "text": [
      "similarity of the two sentences:  tensor(0.7533, device='cuda:0')\n"
     ]
    },
    {
     "name": "stderr",
     "output_type": "stream",
     "text": [
      "\r",
      " 67%|██████▋   | 241/360 [03:19<01:39,  1.19it/s]"
     ]
    },
    {
     "name": "stdout",
     "output_type": "stream",
     "text": [
      "similarity of the two sentences:  tensor(0.8186, device='cuda:0')\n"
     ]
    },
    {
     "name": "stderr",
     "output_type": "stream",
     "text": [
      "\r",
      " 67%|██████▋   | 242/360 [03:20<01:38,  1.19it/s]"
     ]
    },
    {
     "name": "stdout",
     "output_type": "stream",
     "text": [
      "similarity of the two sentences:  tensor(0.9843, device='cuda:0')\n"
     ]
    },
    {
     "name": "stderr",
     "output_type": "stream",
     "text": [
      "\r",
      " 68%|██████▊   | 243/360 [03:21<01:39,  1.18it/s]"
     ]
    },
    {
     "name": "stdout",
     "output_type": "stream",
     "text": [
      "similarity of the two sentences:  tensor(0.8538, device='cuda:0')\n"
     ]
    },
    {
     "name": "stderr",
     "output_type": "stream",
     "text": [
      "\r",
      " 68%|██████▊   | 244/360 [03:22<01:38,  1.18it/s]"
     ]
    },
    {
     "name": "stdout",
     "output_type": "stream",
     "text": [
      "similarity of the two sentences:  tensor(0.7858, device='cuda:0')\n"
     ]
    },
    {
     "name": "stderr",
     "output_type": "stream",
     "text": [
      "\r",
      " 68%|██████▊   | 245/360 [03:22<01:35,  1.20it/s]"
     ]
    },
    {
     "name": "stdout",
     "output_type": "stream",
     "text": [
      "similarity of the two sentences:  tensor(0.9932, device='cuda:0')\n"
     ]
    },
    {
     "name": "stderr",
     "output_type": "stream",
     "text": [
      "\r",
      " 68%|██████▊   | 246/360 [03:23<01:33,  1.21it/s]"
     ]
    },
    {
     "name": "stdout",
     "output_type": "stream",
     "text": [
      "similarity of the two sentences:  tensor(0.7947, device='cuda:0')\n"
     ]
    },
    {
     "name": "stderr",
     "output_type": "stream",
     "text": [
      "\r",
      " 69%|██████▊   | 247/360 [03:24<01:33,  1.21it/s]"
     ]
    },
    {
     "name": "stdout",
     "output_type": "stream",
     "text": [
      "similarity of the two sentences:  tensor(0.9695, device='cuda:0')\n"
     ]
    },
    {
     "name": "stderr",
     "output_type": "stream",
     "text": [
      "\r",
      " 69%|██████▉   | 248/360 [03:25<01:31,  1.22it/s]"
     ]
    },
    {
     "name": "stdout",
     "output_type": "stream",
     "text": [
      "similarity of the two sentences:  tensor(0.8485, device='cuda:0')\n"
     ]
    },
    {
     "name": "stderr",
     "output_type": "stream",
     "text": [
      "\r",
      " 69%|██████▉   | 249/360 [03:26<01:32,  1.20it/s]"
     ]
    },
    {
     "name": "stdout",
     "output_type": "stream",
     "text": [
      "similarity of the two sentences:  tensor(0.8462, device='cuda:0')\n"
     ]
    },
    {
     "name": "stderr",
     "output_type": "stream",
     "text": [
      "\r",
      " 69%|██████▉   | 250/360 [03:27<01:31,  1.20it/s]"
     ]
    },
    {
     "name": "stdout",
     "output_type": "stream",
     "text": [
      "similarity of the two sentences:  tensor(0.9026, device='cuda:0')\n"
     ]
    },
    {
     "name": "stderr",
     "output_type": "stream",
     "text": [
      "\r",
      " 70%|██████▉   | 251/360 [03:27<01:29,  1.21it/s]"
     ]
    },
    {
     "name": "stdout",
     "output_type": "stream",
     "text": [
      "similarity of the two sentences:  tensor(0.8394, device='cuda:0')\n"
     ]
    },
    {
     "name": "stderr",
     "output_type": "stream",
     "text": [
      "\r",
      " 70%|███████   | 252/360 [03:28<01:28,  1.22it/s]"
     ]
    },
    {
     "name": "stdout",
     "output_type": "stream",
     "text": [
      "similarity of the two sentences:  tensor(0.8789, device='cuda:0')\n"
     ]
    },
    {
     "name": "stderr",
     "output_type": "stream",
     "text": [
      "\r",
      " 70%|███████   | 253/360 [03:29<01:27,  1.23it/s]"
     ]
    },
    {
     "name": "stdout",
     "output_type": "stream",
     "text": [
      "similarity of the two sentences:  tensor(0.9291, device='cuda:0')\n"
     ]
    },
    {
     "name": "stderr",
     "output_type": "stream",
     "text": [
      "\r",
      " 71%|███████   | 254/360 [03:30<01:26,  1.23it/s]"
     ]
    },
    {
     "name": "stdout",
     "output_type": "stream",
     "text": [
      "similarity of the two sentences:  tensor(0.8800, device='cuda:0')\n"
     ]
    },
    {
     "name": "stderr",
     "output_type": "stream",
     "text": [
      "\r",
      " 71%|███████   | 255/360 [03:31<01:25,  1.23it/s]"
     ]
    },
    {
     "name": "stdout",
     "output_type": "stream",
     "text": [
      "similarity of the two sentences:  tensor(0.9221, device='cuda:0')\n"
     ]
    },
    {
     "name": "stderr",
     "output_type": "stream",
     "text": [
      "\r",
      " 71%|███████   | 256/360 [03:31<01:24,  1.23it/s]"
     ]
    },
    {
     "name": "stdout",
     "output_type": "stream",
     "text": [
      "similarity of the two sentences:  tensor(0.7824, device='cuda:0')\n"
     ]
    },
    {
     "name": "stderr",
     "output_type": "stream",
     "text": [
      "\r",
      " 71%|███████▏  | 257/360 [03:32<01:23,  1.24it/s]"
     ]
    },
    {
     "name": "stdout",
     "output_type": "stream",
     "text": [
      "similarity of the two sentences:  tensor(0.7573, device='cuda:0')\n"
     ]
    },
    {
     "name": "stderr",
     "output_type": "stream",
     "text": [
      "\r",
      " 72%|███████▏  | 258/360 [03:33<01:22,  1.24it/s]"
     ]
    },
    {
     "name": "stdout",
     "output_type": "stream",
     "text": [
      "similarity of the two sentences:  tensor(0.8263, device='cuda:0')\n"
     ]
    },
    {
     "name": "stderr",
     "output_type": "stream",
     "text": [
      "\r",
      " 72%|███████▏  | 259/360 [03:34<01:21,  1.24it/s]"
     ]
    },
    {
     "name": "stdout",
     "output_type": "stream",
     "text": [
      "similarity of the two sentences:  tensor(0.7600, device='cuda:0')\n"
     ]
    },
    {
     "name": "stderr",
     "output_type": "stream",
     "text": [
      "\r",
      " 72%|███████▏  | 260/360 [03:35<01:20,  1.24it/s]"
     ]
    },
    {
     "name": "stdout",
     "output_type": "stream",
     "text": [
      "similarity of the two sentences:  tensor(0.8035, device='cuda:0')\n"
     ]
    },
    {
     "name": "stderr",
     "output_type": "stream",
     "text": [
      "\r",
      " 72%|███████▎  | 261/360 [03:36<01:20,  1.24it/s]"
     ]
    },
    {
     "name": "stdout",
     "output_type": "stream",
     "text": [
      "similarity of the two sentences:  tensor(0.8789, device='cuda:0')\n"
     ]
    },
    {
     "name": "stderr",
     "output_type": "stream",
     "text": [
      "\r",
      " 73%|███████▎  | 262/360 [03:36<01:19,  1.24it/s]"
     ]
    },
    {
     "name": "stdout",
     "output_type": "stream",
     "text": [
      "similarity of the two sentences:  tensor(0.7724, device='cuda:0')\n"
     ]
    },
    {
     "name": "stderr",
     "output_type": "stream",
     "text": [
      "\r",
      " 73%|███████▎  | 263/360 [03:37<01:18,  1.24it/s]"
     ]
    },
    {
     "name": "stdout",
     "output_type": "stream",
     "text": [
      "similarity of the two sentences:  tensor(0.8345, device='cuda:0')\n"
     ]
    },
    {
     "name": "stderr",
     "output_type": "stream",
     "text": [
      "\r",
      " 73%|███████▎  | 264/360 [03:38<01:17,  1.23it/s]"
     ]
    },
    {
     "name": "stdout",
     "output_type": "stream",
     "text": [
      "similarity of the two sentences:  tensor(0.9055, device='cuda:0')\n"
     ]
    },
    {
     "name": "stderr",
     "output_type": "stream",
     "text": [
      "\r",
      " 74%|███████▎  | 265/360 [03:39<01:16,  1.24it/s]"
     ]
    },
    {
     "name": "stdout",
     "output_type": "stream",
     "text": [
      "similarity of the two sentences:  tensor(0.7862, device='cuda:0')\n"
     ]
    },
    {
     "name": "stderr",
     "output_type": "stream",
     "text": [
      "\r",
      " 74%|███████▍  | 266/360 [03:40<01:16,  1.23it/s]"
     ]
    },
    {
     "name": "stdout",
     "output_type": "stream",
     "text": [
      "similarity of the two sentences:  tensor(1.0000, device='cuda:0')\n"
     ]
    },
    {
     "name": "stderr",
     "output_type": "stream",
     "text": [
      "\r",
      " 74%|███████▍  | 267/360 [03:40<01:15,  1.23it/s]"
     ]
    },
    {
     "name": "stdout",
     "output_type": "stream",
     "text": [
      "similarity of the two sentences:  tensor(0.9199, device='cuda:0')\n"
     ]
    },
    {
     "name": "stderr",
     "output_type": "stream",
     "text": [
      "\r",
      " 74%|███████▍  | 268/360 [03:41<01:14,  1.23it/s]"
     ]
    },
    {
     "name": "stdout",
     "output_type": "stream",
     "text": [
      "similarity of the two sentences:  tensor(0.9129, device='cuda:0')\n"
     ]
    },
    {
     "name": "stderr",
     "output_type": "stream",
     "text": [
      "\r",
      " 75%|███████▍  | 269/360 [03:42<01:13,  1.24it/s]"
     ]
    },
    {
     "name": "stdout",
     "output_type": "stream",
     "text": [
      "similarity of the two sentences:  tensor(0.9799, device='cuda:0')\n"
     ]
    },
    {
     "name": "stderr",
     "output_type": "stream",
     "text": [
      "\r",
      " 75%|███████▌  | 270/360 [03:43<01:12,  1.24it/s]"
     ]
    },
    {
     "name": "stdout",
     "output_type": "stream",
     "text": [
      "similarity of the two sentences:  tensor(0.8748, device='cuda:0')\n"
     ]
    },
    {
     "name": "stderr",
     "output_type": "stream",
     "text": [
      "\r",
      " 75%|███████▌  | 271/360 [03:44<01:11,  1.24it/s]"
     ]
    },
    {
     "name": "stdout",
     "output_type": "stream",
     "text": [
      "similarity of the two sentences:  tensor(0.7987, device='cuda:0')\n"
     ]
    },
    {
     "name": "stderr",
     "output_type": "stream",
     "text": [
      "\r",
      " 76%|███████▌  | 272/360 [03:44<01:10,  1.24it/s]"
     ]
    },
    {
     "name": "stdout",
     "output_type": "stream",
     "text": [
      "similarity of the two sentences:  tensor(0.9371, device='cuda:0')\n"
     ]
    },
    {
     "name": "stderr",
     "output_type": "stream",
     "text": [
      "\r",
      " 76%|███████▌  | 273/360 [03:45<01:10,  1.24it/s]"
     ]
    },
    {
     "name": "stdout",
     "output_type": "stream",
     "text": [
      "similarity of the two sentences:  tensor(0.9209, device='cuda:0')\n"
     ]
    },
    {
     "name": "stderr",
     "output_type": "stream",
     "text": [
      "\r",
      " 76%|███████▌  | 274/360 [03:46<01:09,  1.24it/s]"
     ]
    },
    {
     "name": "stdout",
     "output_type": "stream",
     "text": [
      "similarity of the two sentences:  tensor(0.8642, device='cuda:0')\n"
     ]
    },
    {
     "name": "stderr",
     "output_type": "stream",
     "text": [
      "\r",
      " 76%|███████▋  | 275/360 [03:47<01:08,  1.24it/s]"
     ]
    },
    {
     "name": "stdout",
     "output_type": "stream",
     "text": [
      "similarity of the two sentences:  tensor(0.9552, device='cuda:0')\n"
     ]
    },
    {
     "name": "stderr",
     "output_type": "stream",
     "text": [
      "\r",
      " 77%|███████▋  | 276/360 [03:48<01:09,  1.20it/s]"
     ]
    },
    {
     "name": "stdout",
     "output_type": "stream",
     "text": [
      "similarity of the two sentences:  tensor(0.8541, device='cuda:0')\n"
     ]
    },
    {
     "name": "stderr",
     "output_type": "stream",
     "text": [
      "\r",
      " 77%|███████▋  | 277/360 [03:49<01:08,  1.20it/s]"
     ]
    },
    {
     "name": "stdout",
     "output_type": "stream",
     "text": [
      "similarity of the two sentences:  tensor(0.8447, device='cuda:0')\n"
     ]
    },
    {
     "name": "stderr",
     "output_type": "stream",
     "text": [
      "\r",
      " 77%|███████▋  | 278/360 [03:49<01:07,  1.22it/s]"
     ]
    },
    {
     "name": "stdout",
     "output_type": "stream",
     "text": [
      "similarity of the two sentences:  tensor(0.8313, device='cuda:0')\n"
     ]
    },
    {
     "name": "stderr",
     "output_type": "stream",
     "text": [
      "\r",
      " 78%|███████▊  | 279/360 [03:50<01:06,  1.23it/s]"
     ]
    },
    {
     "name": "stdout",
     "output_type": "stream",
     "text": [
      "similarity of the two sentences:  tensor(0.9913, device='cuda:0')\n"
     ]
    },
    {
     "name": "stderr",
     "output_type": "stream",
     "text": [
      "\r",
      " 78%|███████▊  | 280/360 [03:51<01:04,  1.23it/s]"
     ]
    },
    {
     "name": "stdout",
     "output_type": "stream",
     "text": [
      "similarity of the two sentences:  tensor(0.7759, device='cuda:0')\n"
     ]
    },
    {
     "name": "stderr",
     "output_type": "stream",
     "text": [
      "\r",
      " 78%|███████▊  | 281/360 [03:52<01:03,  1.24it/s]"
     ]
    },
    {
     "name": "stdout",
     "output_type": "stream",
     "text": [
      "similarity of the two sentences:  tensor(0.8932, device='cuda:0')\n"
     ]
    },
    {
     "name": "stderr",
     "output_type": "stream",
     "text": [
      "\r",
      " 78%|███████▊  | 282/360 [03:53<01:02,  1.24it/s]"
     ]
    },
    {
     "name": "stdout",
     "output_type": "stream",
     "text": [
      "similarity of the two sentences:  tensor(1.0000, device='cuda:0')\n"
     ]
    },
    {
     "name": "stderr",
     "output_type": "stream",
     "text": [
      "\r",
      " 79%|███████▊  | 283/360 [03:53<01:02,  1.24it/s]"
     ]
    },
    {
     "name": "stdout",
     "output_type": "stream",
     "text": [
      "similarity of the two sentences:  tensor(0.8463, device='cuda:0')\n"
     ]
    },
    {
     "name": "stderr",
     "output_type": "stream",
     "text": [
      "\r",
      " 79%|███████▉  | 284/360 [03:54<01:01,  1.24it/s]"
     ]
    },
    {
     "name": "stdout",
     "output_type": "stream",
     "text": [
      "similarity of the two sentences:  tensor(0.8922, device='cuda:0')\n"
     ]
    },
    {
     "name": "stderr",
     "output_type": "stream",
     "text": [
      "\r",
      " 79%|███████▉  | 285/360 [03:55<01:00,  1.24it/s]"
     ]
    },
    {
     "name": "stdout",
     "output_type": "stream",
     "text": [
      "similarity of the two sentences:  tensor(0.8773, device='cuda:0')\n"
     ]
    },
    {
     "name": "stderr",
     "output_type": "stream",
     "text": [
      "\r",
      " 79%|███████▉  | 286/360 [03:56<00:59,  1.24it/s]"
     ]
    },
    {
     "name": "stdout",
     "output_type": "stream",
     "text": [
      "similarity of the two sentences:  tensor(0.9548, device='cuda:0')\n"
     ]
    },
    {
     "name": "stderr",
     "output_type": "stream",
     "text": [
      "\r",
      " 80%|███████▉  | 287/360 [03:57<00:58,  1.24it/s]"
     ]
    },
    {
     "name": "stdout",
     "output_type": "stream",
     "text": [
      "similarity of the two sentences:  tensor(0.9702, device='cuda:0')\n"
     ]
    },
    {
     "name": "stderr",
     "output_type": "stream",
     "text": [
      "\r",
      " 80%|████████  | 288/360 [03:57<00:57,  1.24it/s]"
     ]
    },
    {
     "name": "stdout",
     "output_type": "stream",
     "text": [
      "similarity of the two sentences:  tensor(0.7824, device='cuda:0')\n"
     ]
    },
    {
     "name": "stderr",
     "output_type": "stream",
     "text": [
      "\r",
      " 80%|████████  | 289/360 [03:58<00:57,  1.24it/s]"
     ]
    },
    {
     "name": "stdout",
     "output_type": "stream",
     "text": [
      "similarity of the two sentences:  tensor(0.9743, device='cuda:0')\n"
     ]
    },
    {
     "name": "stderr",
     "output_type": "stream",
     "text": [
      "\r",
      " 81%|████████  | 290/360 [03:59<00:56,  1.24it/s]"
     ]
    },
    {
     "name": "stdout",
     "output_type": "stream",
     "text": [
      "similarity of the two sentences:  tensor(0.9952, device='cuda:0')\n"
     ]
    },
    {
     "name": "stderr",
     "output_type": "stream",
     "text": [
      "\r",
      " 81%|████████  | 291/360 [04:00<00:55,  1.24it/s]"
     ]
    },
    {
     "name": "stdout",
     "output_type": "stream",
     "text": [
      "similarity of the two sentences:  tensor(1., device='cuda:0')\n"
     ]
    },
    {
     "name": "stderr",
     "output_type": "stream",
     "text": [
      "\r",
      " 81%|████████  | 292/360 [04:01<00:54,  1.24it/s]"
     ]
    },
    {
     "name": "stdout",
     "output_type": "stream",
     "text": [
      "similarity of the two sentences:  tensor(1., device='cuda:0')\n"
     ]
    },
    {
     "name": "stderr",
     "output_type": "stream",
     "text": [
      "\r",
      " 81%|████████▏ | 293/360 [04:01<00:54,  1.24it/s]"
     ]
    },
    {
     "name": "stdout",
     "output_type": "stream",
     "text": [
      "similarity of the two sentences:  tensor(0.7650, device='cuda:0')\n"
     ]
    },
    {
     "name": "stderr",
     "output_type": "stream",
     "text": [
      "\r",
      " 82%|████████▏ | 294/360 [04:02<00:53,  1.24it/s]"
     ]
    },
    {
     "name": "stdout",
     "output_type": "stream",
     "text": [
      "similarity of the two sentences:  tensor(0.8881, device='cuda:0')\n"
     ]
    },
    {
     "name": "stderr",
     "output_type": "stream",
     "text": [
      "\r",
      " 82%|████████▏ | 295/360 [04:03<00:52,  1.24it/s]"
     ]
    },
    {
     "name": "stdout",
     "output_type": "stream",
     "text": [
      "similarity of the two sentences:  tensor(0.8201, device='cuda:0')\n"
     ]
    },
    {
     "name": "stderr",
     "output_type": "stream",
     "text": [
      "\r",
      " 82%|████████▏ | 296/360 [04:04<00:52,  1.23it/s]"
     ]
    },
    {
     "name": "stdout",
     "output_type": "stream",
     "text": [
      "similarity of the two sentences:  tensor(0.7695, device='cuda:0')\n"
     ]
    },
    {
     "name": "stderr",
     "output_type": "stream",
     "text": [
      "\r",
      " 82%|████████▎ | 297/360 [04:05<00:52,  1.20it/s]"
     ]
    },
    {
     "name": "stdout",
     "output_type": "stream",
     "text": [
      "similarity of the two sentences:  tensor(0.7870, device='cuda:0')\n"
     ]
    },
    {
     "name": "stderr",
     "output_type": "stream",
     "text": [
      "\r",
      " 83%|████████▎ | 298/360 [04:06<00:51,  1.20it/s]"
     ]
    },
    {
     "name": "stdout",
     "output_type": "stream",
     "text": [
      "similarity of the two sentences:  tensor(0.9452, device='cuda:0')\n"
     ]
    },
    {
     "name": "stderr",
     "output_type": "stream",
     "text": [
      "\r",
      " 83%|████████▎ | 299/360 [04:06<00:50,  1.21it/s]"
     ]
    },
    {
     "name": "stdout",
     "output_type": "stream",
     "text": [
      "similarity of the two sentences:  tensor(0.9221, device='cuda:0')\n"
     ]
    },
    {
     "name": "stderr",
     "output_type": "stream",
     "text": [
      "\r",
      " 83%|████████▎ | 300/360 [04:07<00:49,  1.22it/s]"
     ]
    },
    {
     "name": "stdout",
     "output_type": "stream",
     "text": [
      "similarity of the two sentences:  tensor(0.7756, device='cuda:0')\n"
     ]
    },
    {
     "name": "stderr",
     "output_type": "stream",
     "text": [
      "\r",
      " 84%|████████▎ | 301/360 [04:08<00:48,  1.22it/s]"
     ]
    },
    {
     "name": "stdout",
     "output_type": "stream",
     "text": [
      "similarity of the two sentences:  tensor(0.8040, device='cuda:0')\n"
     ]
    },
    {
     "name": "stderr",
     "output_type": "stream",
     "text": [
      "\r",
      " 84%|████████▍ | 302/360 [04:09<00:47,  1.23it/s]"
     ]
    },
    {
     "name": "stdout",
     "output_type": "stream",
     "text": [
      "similarity of the two sentences:  tensor(0.7977, device='cuda:0')\n"
     ]
    },
    {
     "name": "stderr",
     "output_type": "stream",
     "text": [
      "\r",
      " 84%|████████▍ | 303/360 [04:10<00:46,  1.23it/s]"
     ]
    },
    {
     "name": "stdout",
     "output_type": "stream",
     "text": [
      "similarity of the two sentences:  tensor(0.8215, device='cuda:0')\n"
     ]
    },
    {
     "name": "stderr",
     "output_type": "stream",
     "text": [
      "\r",
      " 84%|████████▍ | 304/360 [04:10<00:45,  1.23it/s]"
     ]
    },
    {
     "name": "stdout",
     "output_type": "stream",
     "text": [
      "similarity of the two sentences:  tensor(0.9877, device='cuda:0')\n"
     ]
    },
    {
     "name": "stderr",
     "output_type": "stream",
     "text": [
      "\r",
      " 85%|████████▍ | 305/360 [04:11<00:44,  1.23it/s]"
     ]
    },
    {
     "name": "stdout",
     "output_type": "stream",
     "text": [
      "similarity of the two sentences:  tensor(0.8761, device='cuda:0')\n"
     ]
    },
    {
     "name": "stderr",
     "output_type": "stream",
     "text": [
      "\r",
      " 85%|████████▌ | 306/360 [04:12<00:43,  1.23it/s]"
     ]
    },
    {
     "name": "stdout",
     "output_type": "stream",
     "text": [
      "similarity of the two sentences:  tensor(0.7974, device='cuda:0')\n"
     ]
    },
    {
     "name": "stderr",
     "output_type": "stream",
     "text": [
      "\r",
      " 85%|████████▌ | 307/360 [04:13<00:42,  1.24it/s]"
     ]
    },
    {
     "name": "stdout",
     "output_type": "stream",
     "text": [
      "similarity of the two sentences:  tensor(0.7528, device='cuda:0')\n"
     ]
    },
    {
     "name": "stderr",
     "output_type": "stream",
     "text": [
      "\r",
      " 86%|████████▌ | 308/360 [04:14<00:42,  1.24it/s]"
     ]
    },
    {
     "name": "stdout",
     "output_type": "stream",
     "text": [
      "similarity of the two sentences:  tensor(0.8067, device='cuda:0')\n"
     ]
    },
    {
     "name": "stderr",
     "output_type": "stream",
     "text": [
      "\r",
      " 86%|████████▌ | 309/360 [04:14<00:41,  1.24it/s]"
     ]
    },
    {
     "name": "stdout",
     "output_type": "stream",
     "text": [
      "similarity of the two sentences:  tensor(0.9851, device='cuda:0')\n"
     ]
    },
    {
     "name": "stderr",
     "output_type": "stream",
     "text": [
      "\r",
      " 86%|████████▌ | 310/360 [04:15<00:40,  1.24it/s]"
     ]
    },
    {
     "name": "stdout",
     "output_type": "stream",
     "text": [
      "similarity of the two sentences:  tensor(0.8172, device='cuda:0')\n"
     ]
    },
    {
     "name": "stderr",
     "output_type": "stream",
     "text": [
      "\r",
      " 86%|████████▋ | 311/360 [04:16<00:39,  1.24it/s]"
     ]
    },
    {
     "name": "stdout",
     "output_type": "stream",
     "text": [
      "similarity of the two sentences:  tensor(0.8406, device='cuda:0')\n"
     ]
    },
    {
     "name": "stderr",
     "output_type": "stream",
     "text": [
      "\r",
      " 87%|████████▋ | 312/360 [04:17<00:38,  1.23it/s]"
     ]
    },
    {
     "name": "stdout",
     "output_type": "stream",
     "text": [
      "similarity of the two sentences:  tensor(0.8104, device='cuda:0')\n"
     ]
    },
    {
     "name": "stderr",
     "output_type": "stream",
     "text": [
      "\r",
      " 87%|████████▋ | 313/360 [04:18<00:38,  1.24it/s]"
     ]
    },
    {
     "name": "stdout",
     "output_type": "stream",
     "text": [
      "similarity of the two sentences:  tensor(1., device='cuda:0')\n"
     ]
    },
    {
     "name": "stderr",
     "output_type": "stream",
     "text": [
      "\r",
      " 87%|████████▋ | 314/360 [04:18<00:37,  1.24it/s]"
     ]
    },
    {
     "name": "stdout",
     "output_type": "stream",
     "text": [
      "similarity of the two sentences:  tensor(0.7824, device='cuda:0')\n"
     ]
    },
    {
     "name": "stderr",
     "output_type": "stream",
     "text": [
      "\r",
      " 88%|████████▊ | 315/360 [04:19<00:36,  1.23it/s]"
     ]
    },
    {
     "name": "stdout",
     "output_type": "stream",
     "text": [
      "similarity of the two sentences:  tensor(0.7646, device='cuda:0')\n"
     ]
    },
    {
     "name": "stderr",
     "output_type": "stream",
     "text": [
      "\r",
      " 88%|████████▊ | 316/360 [04:20<00:35,  1.24it/s]"
     ]
    },
    {
     "name": "stdout",
     "output_type": "stream",
     "text": [
      "similarity of the two sentences:  tensor(0.7553, device='cuda:0')\n"
     ]
    },
    {
     "name": "stderr",
     "output_type": "stream",
     "text": [
      "\r",
      " 88%|████████▊ | 317/360 [04:21<00:34,  1.24it/s]"
     ]
    },
    {
     "name": "stdout",
     "output_type": "stream",
     "text": [
      "similarity of the two sentences:  tensor(0.9148, device='cuda:0')\n"
     ]
    },
    {
     "name": "stderr",
     "output_type": "stream",
     "text": [
      "\r",
      " 88%|████████▊ | 318/360 [04:22<00:34,  1.22it/s]"
     ]
    },
    {
     "name": "stdout",
     "output_type": "stream",
     "text": [
      "similarity of the two sentences:  tensor(0.7516, device='cuda:0')\n"
     ]
    },
    {
     "name": "stderr",
     "output_type": "stream",
     "text": [
      "\r",
      " 89%|████████▊ | 319/360 [04:23<00:33,  1.22it/s]"
     ]
    },
    {
     "name": "stdout",
     "output_type": "stream",
     "text": [
      "similarity of the two sentences:  tensor(0.9968, device='cuda:0')\n"
     ]
    },
    {
     "name": "stderr",
     "output_type": "stream",
     "text": [
      "\r",
      " 89%|████████▉ | 320/360 [04:23<00:32,  1.23it/s]"
     ]
    },
    {
     "name": "stdout",
     "output_type": "stream",
     "text": [
      "similarity of the two sentences:  tensor(0.9135, device='cuda:0')\n"
     ]
    },
    {
     "name": "stderr",
     "output_type": "stream",
     "text": [
      "\r",
      " 89%|████████▉ | 321/360 [04:24<00:32,  1.21it/s]"
     ]
    },
    {
     "name": "stdout",
     "output_type": "stream",
     "text": [
      "similarity of the two sentences:  tensor(0.8535, device='cuda:0')\n"
     ]
    },
    {
     "name": "stderr",
     "output_type": "stream",
     "text": [
      "\r",
      " 89%|████████▉ | 322/360 [04:25<00:31,  1.21it/s]"
     ]
    },
    {
     "name": "stdout",
     "output_type": "stream",
     "text": [
      "similarity of the two sentences:  tensor(0.9668, device='cuda:0')\n"
     ]
    },
    {
     "name": "stderr",
     "output_type": "stream",
     "text": [
      "\r",
      " 90%|████████▉ | 323/360 [04:26<00:30,  1.22it/s]"
     ]
    },
    {
     "name": "stdout",
     "output_type": "stream",
     "text": [
      "similarity of the two sentences:  tensor(0.8299, device='cuda:0')\n"
     ]
    },
    {
     "name": "stderr",
     "output_type": "stream",
     "text": [
      "\r",
      " 90%|█████████ | 324/360 [04:27<00:30,  1.20it/s]"
     ]
    },
    {
     "name": "stdout",
     "output_type": "stream",
     "text": [
      "similarity of the two sentences:  tensor(0.8518, device='cuda:0')\n"
     ]
    },
    {
     "name": "stderr",
     "output_type": "stream",
     "text": [
      "\r",
      " 90%|█████████ | 325/360 [04:28<00:29,  1.20it/s]"
     ]
    },
    {
     "name": "stdout",
     "output_type": "stream",
     "text": [
      "similarity of the two sentences:  tensor(0.8348, device='cuda:0')\n"
     ]
    },
    {
     "name": "stderr",
     "output_type": "stream",
     "text": [
      "\r",
      " 91%|█████████ | 326/360 [04:28<00:27,  1.22it/s]"
     ]
    },
    {
     "name": "stdout",
     "output_type": "stream",
     "text": [
      "similarity of the two sentences:  tensor(0.9471, device='cuda:0')\n"
     ]
    },
    {
     "name": "stderr",
     "output_type": "stream",
     "text": [
      "\r",
      " 91%|█████████ | 327/360 [04:29<00:27,  1.20it/s]"
     ]
    },
    {
     "name": "stdout",
     "output_type": "stream",
     "text": [
      "similarity of the two sentences:  tensor(0.9419, device='cuda:0')\n"
     ]
    },
    {
     "name": "stderr",
     "output_type": "stream",
     "text": [
      "\r",
      " 91%|█████████ | 328/360 [04:30<00:26,  1.20it/s]"
     ]
    },
    {
     "name": "stdout",
     "output_type": "stream",
     "text": [
      "similarity of the two sentences:  tensor(0.7822, device='cuda:0')\n"
     ]
    },
    {
     "name": "stderr",
     "output_type": "stream",
     "text": [
      "\r",
      " 91%|█████████▏| 329/360 [04:31<00:25,  1.22it/s]"
     ]
    },
    {
     "name": "stdout",
     "output_type": "stream",
     "text": [
      "similarity of the two sentences:  tensor(0.7698, device='cuda:0')\n"
     ]
    },
    {
     "name": "stderr",
     "output_type": "stream",
     "text": [
      "\r",
      " 92%|█████████▏| 330/360 [04:32<00:25,  1.20it/s]"
     ]
    },
    {
     "name": "stdout",
     "output_type": "stream",
     "text": [
      "similarity of the two sentences:  tensor(0.9496, device='cuda:0')\n"
     ]
    },
    {
     "name": "stderr",
     "output_type": "stream",
     "text": [
      "\r",
      " 92%|█████████▏| 331/360 [04:33<00:24,  1.20it/s]"
     ]
    },
    {
     "name": "stdout",
     "output_type": "stream",
     "text": [
      "similarity of the two sentences:  tensor(0.7521, device='cuda:0')\n"
     ]
    },
    {
     "name": "stderr",
     "output_type": "stream",
     "text": [
      "\r",
      " 92%|█████████▏| 332/360 [04:33<00:22,  1.22it/s]"
     ]
    },
    {
     "name": "stdout",
     "output_type": "stream",
     "text": [
      "similarity of the two sentences:  tensor(0.7661, device='cuda:0')\n"
     ]
    },
    {
     "name": "stderr",
     "output_type": "stream",
     "text": [
      "\r",
      " 92%|█████████▎| 333/360 [04:34<00:22,  1.20it/s]"
     ]
    },
    {
     "name": "stdout",
     "output_type": "stream",
     "text": [
      "similarity of the two sentences:  tensor(0.9082, device='cuda:0')\n"
     ]
    },
    {
     "name": "stderr",
     "output_type": "stream",
     "text": [
      "\r",
      " 93%|█████████▎| 334/360 [04:35<00:21,  1.20it/s]"
     ]
    },
    {
     "name": "stdout",
     "output_type": "stream",
     "text": [
      "similarity of the two sentences:  tensor(0.9052, device='cuda:0')\n"
     ]
    },
    {
     "name": "stderr",
     "output_type": "stream",
     "text": [
      "\r",
      " 93%|█████████▎| 335/360 [04:36<00:20,  1.22it/s]"
     ]
    },
    {
     "name": "stdout",
     "output_type": "stream",
     "text": [
      "similarity of the two sentences:  tensor(0.7805, device='cuda:0')\n"
     ]
    },
    {
     "name": "stderr",
     "output_type": "stream",
     "text": [
      "\r",
      " 93%|█████████▎| 336/360 [04:37<00:20,  1.19it/s]"
     ]
    },
    {
     "name": "stdout",
     "output_type": "stream",
     "text": [
      "similarity of the two sentences:  tensor(0.7932, device='cuda:0')\n"
     ]
    },
    {
     "name": "stderr",
     "output_type": "stream",
     "text": [
      "\r",
      " 94%|█████████▎| 337/360 [04:38<00:19,  1.20it/s]"
     ]
    },
    {
     "name": "stdout",
     "output_type": "stream",
     "text": [
      "similarity of the two sentences:  tensor(0.9102, device='cuda:0')\n"
     ]
    },
    {
     "name": "stderr",
     "output_type": "stream",
     "text": [
      "\r",
      " 94%|█████████▍| 338/360 [04:38<00:18,  1.21it/s]"
     ]
    },
    {
     "name": "stdout",
     "output_type": "stream",
     "text": [
      "similarity of the two sentences:  tensor(0.9472, device='cuda:0')\n"
     ]
    },
    {
     "name": "stderr",
     "output_type": "stream",
     "text": [
      "\r",
      " 94%|█████████▍| 339/360 [04:39<00:17,  1.19it/s]"
     ]
    },
    {
     "name": "stdout",
     "output_type": "stream",
     "text": [
      "similarity of the two sentences:  tensor(0.9915, device='cuda:0')\n"
     ]
    },
    {
     "name": "stderr",
     "output_type": "stream",
     "text": [
      "\r",
      " 94%|█████████▍| 340/360 [04:40<00:16,  1.20it/s]"
     ]
    },
    {
     "name": "stdout",
     "output_type": "stream",
     "text": [
      "similarity of the two sentences:  tensor(1.0000, device='cuda:0')\n"
     ]
    },
    {
     "name": "stderr",
     "output_type": "stream",
     "text": [
      "\r",
      " 95%|█████████▍| 341/360 [04:41<00:15,  1.21it/s]"
     ]
    },
    {
     "name": "stdout",
     "output_type": "stream",
     "text": [
      "similarity of the two sentences:  tensor(0.8138, device='cuda:0')\n"
     ]
    },
    {
     "name": "stderr",
     "output_type": "stream",
     "text": [
      "\r",
      " 95%|█████████▌| 342/360 [04:42<00:15,  1.19it/s]"
     ]
    },
    {
     "name": "stdout",
     "output_type": "stream",
     "text": [
      "similarity of the two sentences:  tensor(1.0000, device='cuda:0')\n"
     ]
    },
    {
     "name": "stderr",
     "output_type": "stream",
     "text": [
      "\r",
      " 95%|█████████▌| 343/360 [04:43<00:14,  1.20it/s]"
     ]
    },
    {
     "name": "stdout",
     "output_type": "stream",
     "text": [
      "similarity of the two sentences:  tensor(0.8988, device='cuda:0')\n"
     ]
    },
    {
     "name": "stderr",
     "output_type": "stream",
     "text": [
      "\r",
      " 96%|█████████▌| 344/360 [04:43<00:13,  1.22it/s]"
     ]
    },
    {
     "name": "stdout",
     "output_type": "stream",
     "text": [
      "similarity of the two sentences:  tensor(0.8980, device='cuda:0')\n"
     ]
    },
    {
     "name": "stderr",
     "output_type": "stream",
     "text": [
      "\r",
      " 96%|█████████▌| 345/360 [04:44<00:12,  1.19it/s]"
     ]
    },
    {
     "name": "stdout",
     "output_type": "stream",
     "text": [
      "similarity of the two sentences:  tensor(0.9763, device='cuda:0')\n"
     ]
    },
    {
     "name": "stderr",
     "output_type": "stream",
     "text": [
      "\r",
      " 96%|█████████▌| 346/360 [04:45<00:11,  1.20it/s]"
     ]
    },
    {
     "name": "stdout",
     "output_type": "stream",
     "text": [
      "similarity of the two sentences:  tensor(0.9906, device='cuda:0')\n"
     ]
    },
    {
     "name": "stderr",
     "output_type": "stream",
     "text": [
      "\r",
      " 96%|█████████▋| 347/360 [04:46<00:10,  1.21it/s]"
     ]
    },
    {
     "name": "stdout",
     "output_type": "stream",
     "text": [
      "similarity of the two sentences:  tensor(0.8549, device='cuda:0')\n"
     ]
    },
    {
     "name": "stderr",
     "output_type": "stream",
     "text": [
      "\r",
      " 97%|█████████▋| 348/360 [04:47<00:10,  1.20it/s]"
     ]
    },
    {
     "name": "stdout",
     "output_type": "stream",
     "text": [
      "similarity of the two sentences:  tensor(1.0000, device='cuda:0')\n"
     ]
    },
    {
     "name": "stderr",
     "output_type": "stream",
     "text": [
      "\r",
      " 97%|█████████▋| 349/360 [04:48<00:09,  1.20it/s]"
     ]
    },
    {
     "name": "stdout",
     "output_type": "stream",
     "text": [
      "similarity of the two sentences:  tensor(0.7664, device='cuda:0')\n"
     ]
    },
    {
     "name": "stderr",
     "output_type": "stream",
     "text": [
      "\r",
      " 97%|█████████▋| 350/360 [04:48<00:08,  1.21it/s]"
     ]
    },
    {
     "name": "stdout",
     "output_type": "stream",
     "text": [
      "similarity of the two sentences:  tensor(0.8244, device='cuda:0')\n"
     ]
    },
    {
     "name": "stderr",
     "output_type": "stream",
     "text": [
      "\r",
      " 98%|█████████▊| 351/360 [04:49<00:07,  1.19it/s]"
     ]
    },
    {
     "name": "stdout",
     "output_type": "stream",
     "text": [
      "similarity of the two sentences:  tensor(0.8084, device='cuda:0')\n"
     ]
    },
    {
     "name": "stderr",
     "output_type": "stream",
     "text": [
      "\r",
      " 98%|█████████▊| 352/360 [04:50<00:06,  1.20it/s]"
     ]
    },
    {
     "name": "stdout",
     "output_type": "stream",
     "text": [
      "similarity of the two sentences:  tensor(0.7740, device='cuda:0')\n"
     ]
    },
    {
     "name": "stderr",
     "output_type": "stream",
     "text": [
      "\r",
      " 98%|█████████▊| 353/360 [04:51<00:05,  1.21it/s]"
     ]
    },
    {
     "name": "stdout",
     "output_type": "stream",
     "text": [
      "similarity of the two sentences:  tensor(0.8390, device='cuda:0')\n"
     ]
    },
    {
     "name": "stderr",
     "output_type": "stream",
     "text": [
      "\r",
      " 98%|█████████▊| 354/360 [04:52<00:05,  1.19it/s]"
     ]
    },
    {
     "name": "stdout",
     "output_type": "stream",
     "text": [
      "similarity of the two sentences:  tensor(0.8245, device='cuda:0')\n"
     ]
    },
    {
     "name": "stderr",
     "output_type": "stream",
     "text": [
      "\r",
      " 99%|█████████▊| 355/360 [04:53<00:04,  1.20it/s]"
     ]
    },
    {
     "name": "stdout",
     "output_type": "stream",
     "text": [
      "similarity of the two sentences:  tensor(0.9313, device='cuda:0')\n"
     ]
    },
    {
     "name": "stderr",
     "output_type": "stream",
     "text": [
      "\r",
      " 99%|█████████▉| 356/360 [04:53<00:03,  1.21it/s]"
     ]
    },
    {
     "name": "stdout",
     "output_type": "stream",
     "text": [
      "similarity of the two sentences:  tensor(0.8276, device='cuda:0')\n"
     ]
    },
    {
     "name": "stderr",
     "output_type": "stream",
     "text": [
      "\r",
      " 99%|█████████▉| 357/360 [04:54<00:02,  1.19it/s]"
     ]
    },
    {
     "name": "stdout",
     "output_type": "stream",
     "text": [
      "similarity of the two sentences:  tensor(0.7692, device='cuda:0')\n"
     ]
    },
    {
     "name": "stderr",
     "output_type": "stream",
     "text": [
      "\r",
      " 99%|█████████▉| 358/360 [04:55<00:01,  1.20it/s]"
     ]
    },
    {
     "name": "stdout",
     "output_type": "stream",
     "text": [
      "similarity of the two sentences:  tensor(0.8335, device='cuda:0')\n"
     ]
    },
    {
     "name": "stderr",
     "output_type": "stream",
     "text": [
      "\r",
      "100%|█████████▉| 359/360 [04:56<00:00,  1.21it/s]"
     ]
    },
    {
     "name": "stdout",
     "output_type": "stream",
     "text": [
      "similarity of the two sentences:  tensor(0.9962, device='cuda:0')\n"
     ]
    },
    {
     "name": "stderr",
     "output_type": "stream",
     "text": [
      "100%|██████████| 360/360 [04:57<00:00,  1.21it/s]"
     ]
    },
    {
     "name": "stdout",
     "output_type": "stream",
     "text": [
      "similarity of the two sentences:  tensor(1., device='cuda:0')\n",
      "similarity socre : tensor(0.8760, device='cuda:0')\n",
      "grammar socre out: 0.7231835963256243\n",
      "grammar socre orig: 0.8771238993025489\n",
      "simplicity socre outpu: 0.43013281070937714\n",
      "simplicity socre orig: 0.18939467115948597\n",
      "simplicity socre orig: 0.18939467115948597\n",
      "len output: 16.019444444444446\n",
      "len orig: 23.163888888888888\n"
     ]
    },
    {
     "name": "stderr",
     "output_type": "stream",
     "text": [
      "\n"
     ]
    }
   ],
   "source": [
    "from tqdm import tqdm\n",
    "\n",
    "root_path = '/home/m25dehgh/simplification/controllable-simplification/src/Wikilarge/output'\n",
    "asset_path= \"/home/m25dehgh/simplification/datasets/asset/dataset\"\n",
    "\n",
    "orig_path = asset_path + '/' + \"asset.test.norm.orig\"\n",
    "out_path = root_path + '/' + \"/dl:1-par:1-asset-mp.txt\" # sari : 39.30\n",
    "\n",
    "assess(out_path, orig_path)"
   ]
  },
  {
   "cell_type": "code",
   "execution_count": 53,
   "metadata": {},
   "outputs": [
    {
     "name": "stderr",
     "output_type": "stream",
     "text": [
      "  0%|          | 1/360 [00:00<05:28,  1.09it/s]"
     ]
    },
    {
     "name": "stdout",
     "output_type": "stream",
     "text": [
      "similarity of the two sentences:  tensor(0.9175, device='cuda:0')\n"
     ]
    },
    {
     "name": "stderr",
     "output_type": "stream",
     "text": [
      "\r",
      "  1%|          | 2/360 [00:01<05:26,  1.10it/s]"
     ]
    },
    {
     "name": "stdout",
     "output_type": "stream",
     "text": [
      "similarity of the two sentences:  tensor(0.9807, device='cuda:0')\n"
     ]
    },
    {
     "name": "stderr",
     "output_type": "stream",
     "text": [
      "\r",
      "  1%|          | 3/360 [00:02<05:27,  1.09it/s]"
     ]
    },
    {
     "name": "stdout",
     "output_type": "stream",
     "text": [
      "similarity of the two sentences:  tensor(1.0000, device='cuda:0')\n"
     ]
    },
    {
     "name": "stderr",
     "output_type": "stream",
     "text": [
      "\r",
      "  1%|          | 4/360 [00:03<05:23,  1.10it/s]"
     ]
    },
    {
     "name": "stdout",
     "output_type": "stream",
     "text": [
      "similarity of the two sentences:  tensor(0.9432, device='cuda:0')\n"
     ]
    },
    {
     "name": "stderr",
     "output_type": "stream",
     "text": [
      "\r",
      "  1%|▏         | 5/360 [00:04<05:20,  1.11it/s]"
     ]
    },
    {
     "name": "stdout",
     "output_type": "stream",
     "text": [
      "similarity of the two sentences:  tensor(0.9341, device='cuda:0')\n"
     ]
    },
    {
     "name": "stderr",
     "output_type": "stream",
     "text": [
      "\r",
      "  2%|▏         | 6/360 [00:05<05:17,  1.11it/s]"
     ]
    },
    {
     "name": "stdout",
     "output_type": "stream",
     "text": [
      "similarity of the two sentences:  tensor(0.9930, device='cuda:0')\n"
     ]
    },
    {
     "name": "stderr",
     "output_type": "stream",
     "text": [
      "\r",
      "  2%|▏         | 7/360 [00:06<05:15,  1.12it/s]"
     ]
    },
    {
     "name": "stdout",
     "output_type": "stream",
     "text": [
      "similarity of the two sentences:  tensor(1.0000, device='cuda:0')\n"
     ]
    },
    {
     "name": "stderr",
     "output_type": "stream",
     "text": [
      "\r",
      "  2%|▏         | 8/360 [00:07<05:15,  1.12it/s]"
     ]
    },
    {
     "name": "stdout",
     "output_type": "stream",
     "text": [
      "similarity of the two sentences:  tensor(0.9178, device='cuda:0')\n"
     ]
    },
    {
     "name": "stderr",
     "output_type": "stream",
     "text": [
      "\r",
      "  2%|▎         | 9/360 [00:08<05:15,  1.11it/s]"
     ]
    },
    {
     "name": "stdout",
     "output_type": "stream",
     "text": [
      "similarity of the two sentences:  tensor(1.0000, device='cuda:0')\n"
     ]
    },
    {
     "name": "stderr",
     "output_type": "stream",
     "text": [
      "\r",
      "  3%|▎         | 10/360 [00:09<05:16,  1.11it/s]"
     ]
    },
    {
     "name": "stdout",
     "output_type": "stream",
     "text": [
      "similarity of the two sentences:  tensor(0.8775, device='cuda:0')\n"
     ]
    },
    {
     "name": "stderr",
     "output_type": "stream",
     "text": [
      "\r",
      "  3%|▎         | 11/360 [00:09<05:16,  1.10it/s]"
     ]
    },
    {
     "name": "stdout",
     "output_type": "stream",
     "text": [
      "similarity of the two sentences:  tensor(1.0000, device='cuda:0')\n"
     ]
    },
    {
     "name": "stderr",
     "output_type": "stream",
     "text": [
      "\r",
      "  3%|▎         | 12/360 [00:10<05:13,  1.11it/s]"
     ]
    },
    {
     "name": "stdout",
     "output_type": "stream",
     "text": [
      "similarity of the two sentences:  tensor(1., device='cuda:0')\n"
     ]
    },
    {
     "name": "stderr",
     "output_type": "stream",
     "text": [
      "\r",
      "  4%|▎         | 13/360 [00:11<05:09,  1.12it/s]"
     ]
    },
    {
     "name": "stdout",
     "output_type": "stream",
     "text": [
      "similarity of the two sentences:  tensor(0.8544, device='cuda:0')\n"
     ]
    },
    {
     "name": "stderr",
     "output_type": "stream",
     "text": [
      "\r",
      "  4%|▍         | 14/360 [00:12<05:06,  1.13it/s]"
     ]
    },
    {
     "name": "stdout",
     "output_type": "stream",
     "text": [
      "similarity of the two sentences:  tensor(0.9173, device='cuda:0')\n"
     ]
    },
    {
     "name": "stderr",
     "output_type": "stream",
     "text": [
      "\r",
      "  4%|▍         | 15/360 [00:13<05:11,  1.11it/s]"
     ]
    },
    {
     "name": "stdout",
     "output_type": "stream",
     "text": [
      "similarity of the two sentences:  tensor(0.8058, device='cuda:0')\n"
     ]
    },
    {
     "name": "stderr",
     "output_type": "stream",
     "text": [
      "\r",
      "  4%|▍         | 16/360 [00:14<05:07,  1.12it/s]"
     ]
    },
    {
     "name": "stdout",
     "output_type": "stream",
     "text": [
      "similarity of the two sentences:  tensor(1.0000, device='cuda:0')\n"
     ]
    },
    {
     "name": "stderr",
     "output_type": "stream",
     "text": [
      "\r",
      "  5%|▍         | 17/360 [00:15<05:08,  1.11it/s]"
     ]
    },
    {
     "name": "stdout",
     "output_type": "stream",
     "text": [
      "similarity of the two sentences:  tensor(1.0000, device='cuda:0')\n"
     ]
    },
    {
     "name": "stderr",
     "output_type": "stream",
     "text": [
      "\r",
      "  5%|▌         | 18/360 [00:16<05:05,  1.12it/s]"
     ]
    },
    {
     "name": "stdout",
     "output_type": "stream",
     "text": [
      "similarity of the two sentences:  tensor(0.9413, device='cuda:0')\n"
     ]
    },
    {
     "name": "stderr",
     "output_type": "stream",
     "text": [
      "\r",
      "  5%|▌         | 19/360 [00:17<05:05,  1.12it/s]"
     ]
    },
    {
     "name": "stdout",
     "output_type": "stream",
     "text": [
      "similarity of the two sentences:  tensor(1., device='cuda:0')\n"
     ]
    },
    {
     "name": "stderr",
     "output_type": "stream",
     "text": [
      "\r",
      "  6%|▌         | 20/360 [00:17<05:06,  1.11it/s]"
     ]
    },
    {
     "name": "stdout",
     "output_type": "stream",
     "text": [
      "similarity of the two sentences:  tensor(1., device='cuda:0')\n"
     ]
    },
    {
     "name": "stderr",
     "output_type": "stream",
     "text": [
      "\r",
      "  6%|▌         | 21/360 [00:18<05:05,  1.11it/s]"
     ]
    },
    {
     "name": "stdout",
     "output_type": "stream",
     "text": [
      "similarity of the two sentences:  tensor(0.9211, device='cuda:0')\n"
     ]
    },
    {
     "name": "stderr",
     "output_type": "stream",
     "text": [
      "\r",
      "  6%|▌         | 22/360 [00:19<05:04,  1.11it/s]"
     ]
    },
    {
     "name": "stdout",
     "output_type": "stream",
     "text": [
      "similarity of the two sentences:  tensor(0.9552, device='cuda:0')\n"
     ]
    },
    {
     "name": "stderr",
     "output_type": "stream",
     "text": [
      "\r",
      "  6%|▋         | 23/360 [00:20<05:02,  1.11it/s]"
     ]
    },
    {
     "name": "stdout",
     "output_type": "stream",
     "text": [
      "similarity of the two sentences:  tensor(0.8409, device='cuda:0')\n"
     ]
    },
    {
     "name": "stderr",
     "output_type": "stream",
     "text": [
      "\r",
      "  7%|▋         | 24/360 [00:21<05:00,  1.12it/s]"
     ]
    },
    {
     "name": "stdout",
     "output_type": "stream",
     "text": [
      "similarity of the two sentences:  tensor(1.0000, device='cuda:0')\n"
     ]
    },
    {
     "name": "stderr",
     "output_type": "stream",
     "text": [
      "\r",
      "  7%|▋         | 25/360 [00:22<05:00,  1.11it/s]"
     ]
    },
    {
     "name": "stdout",
     "output_type": "stream",
     "text": [
      "similarity of the two sentences:  tensor(0.8524, device='cuda:0')\n"
     ]
    },
    {
     "name": "stderr",
     "output_type": "stream",
     "text": [
      "\r",
      "  7%|▋         | 26/360 [00:23<04:58,  1.12it/s]"
     ]
    },
    {
     "name": "stdout",
     "output_type": "stream",
     "text": [
      "similarity of the two sentences:  tensor(0.8874, device='cuda:0')\n"
     ]
    },
    {
     "name": "stderr",
     "output_type": "stream",
     "text": [
      "\r",
      "  8%|▊         | 27/360 [00:24<04:56,  1.12it/s]"
     ]
    },
    {
     "name": "stdout",
     "output_type": "stream",
     "text": [
      "similarity of the two sentences:  tensor(1.0000, device='cuda:0')\n"
     ]
    },
    {
     "name": "stderr",
     "output_type": "stream",
     "text": [
      "\r",
      "  8%|▊         | 28/360 [00:25<04:56,  1.12it/s]"
     ]
    },
    {
     "name": "stdout",
     "output_type": "stream",
     "text": [
      "similarity of the two sentences:  tensor(1.0000, device='cuda:0')\n"
     ]
    },
    {
     "name": "stderr",
     "output_type": "stream",
     "text": [
      "\r",
      "  8%|▊         | 29/360 [00:26<04:54,  1.12it/s]"
     ]
    },
    {
     "name": "stdout",
     "output_type": "stream",
     "text": [
      "similarity of the two sentences:  tensor(1.0000, device='cuda:0')\n"
     ]
    },
    {
     "name": "stderr",
     "output_type": "stream",
     "text": [
      "\r",
      "  8%|▊         | 30/360 [00:26<04:55,  1.12it/s]"
     ]
    },
    {
     "name": "stdout",
     "output_type": "stream",
     "text": [
      "similarity of the two sentences:  tensor(0.9162, device='cuda:0')\n"
     ]
    },
    {
     "name": "stderr",
     "output_type": "stream",
     "text": [
      "\r",
      "  9%|▊         | 31/360 [00:27<04:55,  1.11it/s]"
     ]
    },
    {
     "name": "stdout",
     "output_type": "stream",
     "text": [
      "similarity of the two sentences:  tensor(0.8900, device='cuda:0')\n"
     ]
    },
    {
     "name": "stderr",
     "output_type": "stream",
     "text": [
      "\r",
      "  9%|▉         | 32/360 [00:28<04:53,  1.12it/s]"
     ]
    },
    {
     "name": "stdout",
     "output_type": "stream",
     "text": [
      "similarity of the two sentences:  tensor(0.8196, device='cuda:0')\n"
     ]
    },
    {
     "name": "stderr",
     "output_type": "stream",
     "text": [
      "\r",
      "  9%|▉         | 33/360 [00:29<04:51,  1.12it/s]"
     ]
    },
    {
     "name": "stdout",
     "output_type": "stream",
     "text": [
      "similarity of the two sentences:  tensor(0.9766, device='cuda:0')\n"
     ]
    },
    {
     "name": "stderr",
     "output_type": "stream",
     "text": [
      "\r",
      "  9%|▉         | 34/360 [00:30<04:50,  1.12it/s]"
     ]
    },
    {
     "name": "stdout",
     "output_type": "stream",
     "text": [
      "similarity of the two sentences:  tensor(1.0000, device='cuda:0')\n"
     ]
    },
    {
     "name": "stderr",
     "output_type": "stream",
     "text": [
      "\r",
      " 10%|▉         | 35/360 [00:31<04:51,  1.11it/s]"
     ]
    },
    {
     "name": "stdout",
     "output_type": "stream",
     "text": [
      "similarity of the two sentences:  tensor(0.8031, device='cuda:0')\n"
     ]
    },
    {
     "name": "stderr",
     "output_type": "stream",
     "text": [
      "\r",
      " 10%|█         | 36/360 [00:32<04:50,  1.12it/s]"
     ]
    },
    {
     "name": "stdout",
     "output_type": "stream",
     "text": [
      "similarity of the two sentences:  tensor(0.8755, device='cuda:0')\n"
     ]
    },
    {
     "name": "stderr",
     "output_type": "stream",
     "text": [
      "\r",
      " 10%|█         | 37/360 [00:33<04:47,  1.12it/s]"
     ]
    },
    {
     "name": "stdout",
     "output_type": "stream",
     "text": [
      "similarity of the two sentences:  tensor(0.9760, device='cuda:0')\n"
     ]
    },
    {
     "name": "stderr",
     "output_type": "stream",
     "text": [
      "\r",
      " 11%|█         | 38/360 [00:34<04:46,  1.12it/s]"
     ]
    },
    {
     "name": "stdout",
     "output_type": "stream",
     "text": [
      "similarity of the two sentences:  tensor(0.8729, device='cuda:0')\n"
     ]
    },
    {
     "name": "stderr",
     "output_type": "stream",
     "text": [
      "\r",
      " 11%|█         | 39/360 [00:34<04:44,  1.13it/s]"
     ]
    },
    {
     "name": "stdout",
     "output_type": "stream",
     "text": [
      "similarity of the two sentences:  tensor(0.9760, device='cuda:0')\n"
     ]
    },
    {
     "name": "stderr",
     "output_type": "stream",
     "text": [
      "\r",
      " 11%|█         | 40/360 [00:35<04:43,  1.13it/s]"
     ]
    },
    {
     "name": "stdout",
     "output_type": "stream",
     "text": [
      "similarity of the two sentences:  tensor(0.8434, device='cuda:0')\n"
     ]
    },
    {
     "name": "stderr",
     "output_type": "stream",
     "text": [
      "\r",
      " 11%|█▏        | 41/360 [00:36<04:42,  1.13it/s]"
     ]
    },
    {
     "name": "stdout",
     "output_type": "stream",
     "text": [
      "similarity of the two sentences:  tensor(0.8964, device='cuda:0')\n"
     ]
    },
    {
     "name": "stderr",
     "output_type": "stream",
     "text": [
      "\r",
      " 12%|█▏        | 42/360 [00:37<04:41,  1.13it/s]"
     ]
    },
    {
     "name": "stdout",
     "output_type": "stream",
     "text": [
      "similarity of the two sentences:  tensor(0.9881, device='cuda:0')\n"
     ]
    },
    {
     "name": "stderr",
     "output_type": "stream",
     "text": [
      "\r",
      " 12%|█▏        | 43/360 [00:38<04:40,  1.13it/s]"
     ]
    },
    {
     "name": "stdout",
     "output_type": "stream",
     "text": [
      "similarity of the two sentences:  tensor(1., device='cuda:0')\n"
     ]
    },
    {
     "name": "stderr",
     "output_type": "stream",
     "text": [
      "\r",
      " 12%|█▏        | 44/360 [00:39<04:39,  1.13it/s]"
     ]
    },
    {
     "name": "stdout",
     "output_type": "stream",
     "text": [
      "similarity of the two sentences:  tensor(0.8859, device='cuda:0')\n"
     ]
    },
    {
     "name": "stderr",
     "output_type": "stream",
     "text": [
      "\r",
      " 12%|█▎        | 45/360 [00:40<04:38,  1.13it/s]"
     ]
    },
    {
     "name": "stdout",
     "output_type": "stream",
     "text": [
      "similarity of the two sentences:  tensor(0.9399, device='cuda:0')\n"
     ]
    },
    {
     "name": "stderr",
     "output_type": "stream",
     "text": [
      "\r",
      " 13%|█▎        | 46/360 [00:41<04:38,  1.13it/s]"
     ]
    },
    {
     "name": "stdout",
     "output_type": "stream",
     "text": [
      "similarity of the two sentences:  tensor(0.8773, device='cuda:0')\n"
     ]
    },
    {
     "name": "stderr",
     "output_type": "stream",
     "text": [
      "\r",
      " 13%|█▎        | 47/360 [00:42<04:37,  1.13it/s]"
     ]
    },
    {
     "name": "stdout",
     "output_type": "stream",
     "text": [
      "similarity of the two sentences:  tensor(0.9294, device='cuda:0')\n"
     ]
    },
    {
     "name": "stderr",
     "output_type": "stream",
     "text": [
      "\r",
      " 13%|█▎        | 48/360 [00:42<04:37,  1.12it/s]"
     ]
    },
    {
     "name": "stdout",
     "output_type": "stream",
     "text": [
      "similarity of the two sentences:  tensor(0.9243, device='cuda:0')\n"
     ]
    },
    {
     "name": "stderr",
     "output_type": "stream",
     "text": [
      "\r",
      " 14%|█▎        | 49/360 [00:43<04:34,  1.13it/s]"
     ]
    },
    {
     "name": "stdout",
     "output_type": "stream",
     "text": [
      "similarity of the two sentences:  tensor(1.0000, device='cuda:0')\n"
     ]
    },
    {
     "name": "stderr",
     "output_type": "stream",
     "text": [
      "\r",
      " 14%|█▍        | 50/360 [00:44<04:32,  1.14it/s]"
     ]
    },
    {
     "name": "stdout",
     "output_type": "stream",
     "text": [
      "similarity of the two sentences:  tensor(1., device='cuda:0')\n"
     ]
    },
    {
     "name": "stderr",
     "output_type": "stream",
     "text": [
      "\r",
      " 14%|█▍        | 51/360 [00:45<04:30,  1.14it/s]"
     ]
    },
    {
     "name": "stdout",
     "output_type": "stream",
     "text": [
      "similarity of the two sentences:  tensor(0.9444, device='cuda:0')\n"
     ]
    },
    {
     "name": "stderr",
     "output_type": "stream",
     "text": [
      "\r",
      " 14%|█▍        | 52/360 [00:46<04:29,  1.14it/s]"
     ]
    },
    {
     "name": "stdout",
     "output_type": "stream",
     "text": [
      "similarity of the two sentences:  tensor(0.8978, device='cuda:0')\n"
     ]
    },
    {
     "name": "stderr",
     "output_type": "stream",
     "text": [
      "\r",
      " 15%|█▍        | 53/360 [00:47<04:28,  1.14it/s]"
     ]
    },
    {
     "name": "stdout",
     "output_type": "stream",
     "text": [
      "similarity of the two sentences:  tensor(0.8838, device='cuda:0')\n"
     ]
    },
    {
     "name": "stderr",
     "output_type": "stream",
     "text": [
      "\r",
      " 15%|█▌        | 54/360 [00:48<04:28,  1.14it/s]"
     ]
    },
    {
     "name": "stdout",
     "output_type": "stream",
     "text": [
      "similarity of the two sentences:  tensor(1., device='cuda:0')\n"
     ]
    },
    {
     "name": "stderr",
     "output_type": "stream",
     "text": [
      "\r",
      " 15%|█▌        | 55/360 [00:49<04:27,  1.14it/s]"
     ]
    },
    {
     "name": "stdout",
     "output_type": "stream",
     "text": [
      "similarity of the two sentences:  tensor(1.0000, device='cuda:0')\n"
     ]
    },
    {
     "name": "stderr",
     "output_type": "stream",
     "text": [
      "\r",
      " 16%|█▌        | 56/360 [00:49<04:26,  1.14it/s]"
     ]
    },
    {
     "name": "stdout",
     "output_type": "stream",
     "text": [
      "similarity of the two sentences:  tensor(0.8722, device='cuda:0')\n"
     ]
    },
    {
     "name": "stderr",
     "output_type": "stream",
     "text": [
      "\r",
      " 16%|█▌        | 57/360 [00:50<04:25,  1.14it/s]"
     ]
    },
    {
     "name": "stdout",
     "output_type": "stream",
     "text": [
      "similarity of the two sentences:  tensor(0.8087, device='cuda:0')\n"
     ]
    },
    {
     "name": "stderr",
     "output_type": "stream",
     "text": [
      "\r",
      " 16%|█▌        | 58/360 [00:51<04:24,  1.14it/s]"
     ]
    },
    {
     "name": "stdout",
     "output_type": "stream",
     "text": [
      "similarity of the two sentences:  tensor(0.8392, device='cuda:0')\n"
     ]
    },
    {
     "name": "stderr",
     "output_type": "stream",
     "text": [
      "\r",
      " 16%|█▋        | 59/360 [00:52<04:23,  1.14it/s]"
     ]
    },
    {
     "name": "stdout",
     "output_type": "stream",
     "text": [
      "similarity of the two sentences:  tensor(0.9927, device='cuda:0')\n"
     ]
    },
    {
     "name": "stderr",
     "output_type": "stream",
     "text": [
      "\r",
      " 17%|█▋        | 60/360 [00:53<04:23,  1.14it/s]"
     ]
    },
    {
     "name": "stdout",
     "output_type": "stream",
     "text": [
      "similarity of the two sentences:  tensor(0.8078, device='cuda:0')\n"
     ]
    },
    {
     "name": "stderr",
     "output_type": "stream",
     "text": [
      "\r",
      " 17%|█▋        | 61/360 [00:54<04:24,  1.13it/s]"
     ]
    },
    {
     "name": "stdout",
     "output_type": "stream",
     "text": [
      "similarity of the two sentences:  tensor(1.0000, device='cuda:0')\n"
     ]
    },
    {
     "name": "stderr",
     "output_type": "stream",
     "text": [
      "\r",
      " 17%|█▋        | 62/360 [00:55<04:25,  1.12it/s]"
     ]
    },
    {
     "name": "stdout",
     "output_type": "stream",
     "text": [
      "similarity of the two sentences:  tensor(0.8457, device='cuda:0')\n"
     ]
    },
    {
     "name": "stderr",
     "output_type": "stream",
     "text": [
      "\r",
      " 18%|█▊        | 63/360 [00:56<04:27,  1.11it/s]"
     ]
    },
    {
     "name": "stdout",
     "output_type": "stream",
     "text": [
      "similarity of the two sentences:  tensor(1.0000, device='cuda:0')\n"
     ]
    },
    {
     "name": "stderr",
     "output_type": "stream",
     "text": [
      "\r",
      " 18%|█▊        | 64/360 [00:57<04:28,  1.10it/s]"
     ]
    },
    {
     "name": "stdout",
     "output_type": "stream",
     "text": [
      "similarity of the two sentences:  tensor(1.0000, device='cuda:0')\n"
     ]
    },
    {
     "name": "stderr",
     "output_type": "stream",
     "text": [
      "\r",
      " 18%|█▊        | 65/360 [00:57<04:27,  1.10it/s]"
     ]
    },
    {
     "name": "stdout",
     "output_type": "stream",
     "text": [
      "similarity of the two sentences:  tensor(1.0000, device='cuda:0')\n"
     ]
    },
    {
     "name": "stderr",
     "output_type": "stream",
     "text": [
      "\r",
      " 18%|█▊        | 66/360 [00:58<04:26,  1.10it/s]"
     ]
    },
    {
     "name": "stdout",
     "output_type": "stream",
     "text": [
      "similarity of the two sentences:  tensor(0.8981, device='cuda:0')\n"
     ]
    },
    {
     "name": "stderr",
     "output_type": "stream",
     "text": [
      "\r",
      " 19%|█▊        | 67/360 [00:59<04:25,  1.10it/s]"
     ]
    },
    {
     "name": "stdout",
     "output_type": "stream",
     "text": [
      "similarity of the two sentences:  tensor(0.9061, device='cuda:0')\n"
     ]
    },
    {
     "name": "stderr",
     "output_type": "stream",
     "text": [
      "\r",
      " 19%|█▉        | 68/360 [01:00<04:24,  1.10it/s]"
     ]
    },
    {
     "name": "stdout",
     "output_type": "stream",
     "text": [
      "similarity of the two sentences:  tensor(0.9649, device='cuda:0')\n"
     ]
    },
    {
     "name": "stderr",
     "output_type": "stream",
     "text": [
      "\r",
      " 19%|█▉        | 69/360 [01:01<04:22,  1.11it/s]"
     ]
    },
    {
     "name": "stdout",
     "output_type": "stream",
     "text": [
      "similarity of the two sentences:  tensor(1.0000, device='cuda:0')\n"
     ]
    },
    {
     "name": "stderr",
     "output_type": "stream",
     "text": [
      "\r",
      " 19%|█▉        | 70/360 [01:02<04:20,  1.11it/s]"
     ]
    },
    {
     "name": "stdout",
     "output_type": "stream",
     "text": [
      "similarity of the two sentences:  tensor(1., device='cuda:0')\n"
     ]
    },
    {
     "name": "stderr",
     "output_type": "stream",
     "text": [
      "\r",
      " 20%|█▉        | 71/360 [01:03<04:18,  1.12it/s]"
     ]
    },
    {
     "name": "stdout",
     "output_type": "stream",
     "text": [
      "similarity of the two sentences:  tensor(1.0000, device='cuda:0')\n"
     ]
    },
    {
     "name": "stderr",
     "output_type": "stream",
     "text": [
      "\r",
      " 20%|██        | 72/360 [01:04<04:18,  1.11it/s]"
     ]
    },
    {
     "name": "stdout",
     "output_type": "stream",
     "text": [
      "similarity of the two sentences:  tensor(1.0000, device='cuda:0')\n"
     ]
    },
    {
     "name": "stderr",
     "output_type": "stream",
     "text": [
      "\r",
      " 20%|██        | 73/360 [01:05<04:17,  1.12it/s]"
     ]
    },
    {
     "name": "stdout",
     "output_type": "stream",
     "text": [
      "similarity of the two sentences:  tensor(1., device='cuda:0')\n"
     ]
    },
    {
     "name": "stderr",
     "output_type": "stream",
     "text": [
      "\r",
      " 21%|██        | 74/360 [01:06<04:16,  1.11it/s]"
     ]
    },
    {
     "name": "stdout",
     "output_type": "stream",
     "text": [
      "similarity of the two sentences:  tensor(0.9134, device='cuda:0')\n"
     ]
    },
    {
     "name": "stderr",
     "output_type": "stream",
     "text": [
      "\r",
      " 21%|██        | 75/360 [01:06<04:14,  1.12it/s]"
     ]
    },
    {
     "name": "stdout",
     "output_type": "stream",
     "text": [
      "similarity of the two sentences:  tensor(0.9454, device='cuda:0')\n"
     ]
    },
    {
     "name": "stderr",
     "output_type": "stream",
     "text": [
      "\r",
      " 21%|██        | 76/360 [01:07<04:11,  1.13it/s]"
     ]
    },
    {
     "name": "stdout",
     "output_type": "stream",
     "text": [
      "similarity of the two sentences:  tensor(0.9217, device='cuda:0')\n"
     ]
    },
    {
     "name": "stderr",
     "output_type": "stream",
     "text": [
      "\r",
      " 21%|██▏       | 77/360 [01:08<04:10,  1.13it/s]"
     ]
    },
    {
     "name": "stdout",
     "output_type": "stream",
     "text": [
      "similarity of the two sentences:  tensor(0.8458, device='cuda:0')\n"
     ]
    },
    {
     "name": "stderr",
     "output_type": "stream",
     "text": [
      "\r",
      " 22%|██▏       | 78/360 [01:09<04:08,  1.13it/s]"
     ]
    },
    {
     "name": "stdout",
     "output_type": "stream",
     "text": [
      "similarity of the two sentences:  tensor(1., device='cuda:0')\n"
     ]
    },
    {
     "name": "stderr",
     "output_type": "stream",
     "text": [
      "\r",
      " 22%|██▏       | 79/360 [01:10<04:07,  1.13it/s]"
     ]
    },
    {
     "name": "stdout",
     "output_type": "stream",
     "text": [
      "similarity of the two sentences:  tensor(0.9062, device='cuda:0')\n"
     ]
    },
    {
     "name": "stderr",
     "output_type": "stream",
     "text": [
      "\r",
      " 22%|██▏       | 80/360 [01:11<04:06,  1.14it/s]"
     ]
    },
    {
     "name": "stdout",
     "output_type": "stream",
     "text": [
      "similarity of the two sentences:  tensor(0.9147, device='cuda:0')\n"
     ]
    },
    {
     "name": "stderr",
     "output_type": "stream",
     "text": [
      "\r",
      " 22%|██▎       | 81/360 [01:12<04:05,  1.14it/s]"
     ]
    },
    {
     "name": "stdout",
     "output_type": "stream",
     "text": [
      "similarity of the two sentences:  tensor(0.8307, device='cuda:0')\n"
     ]
    },
    {
     "name": "stderr",
     "output_type": "stream",
     "text": [
      "\r",
      " 23%|██▎       | 82/360 [01:13<04:03,  1.14it/s]"
     ]
    },
    {
     "name": "stdout",
     "output_type": "stream",
     "text": [
      "similarity of the two sentences:  tensor(0.8857, device='cuda:0')\n"
     ]
    },
    {
     "name": "stderr",
     "output_type": "stream",
     "text": [
      "\r",
      " 23%|██▎       | 83/360 [01:13<04:03,  1.14it/s]"
     ]
    },
    {
     "name": "stdout",
     "output_type": "stream",
     "text": [
      "similarity of the two sentences:  tensor(1.0000, device='cuda:0')\n"
     ]
    },
    {
     "name": "stderr",
     "output_type": "stream",
     "text": [
      "\r",
      " 23%|██▎       | 84/360 [01:14<04:02,  1.14it/s]"
     ]
    },
    {
     "name": "stdout",
     "output_type": "stream",
     "text": [
      "similarity of the two sentences:  tensor(0.9879, device='cuda:0')\n"
     ]
    },
    {
     "name": "stderr",
     "output_type": "stream",
     "text": [
      "\r",
      " 24%|██▎       | 85/360 [01:15<04:01,  1.14it/s]"
     ]
    },
    {
     "name": "stdout",
     "output_type": "stream",
     "text": [
      "similarity of the two sentences:  tensor(0.8947, device='cuda:0')\n"
     ]
    },
    {
     "name": "stderr",
     "output_type": "stream",
     "text": [
      "\r",
      " 24%|██▍       | 86/360 [01:16<04:00,  1.14it/s]"
     ]
    },
    {
     "name": "stdout",
     "output_type": "stream",
     "text": [
      "similarity of the two sentences:  tensor(0.8855, device='cuda:0')\n"
     ]
    },
    {
     "name": "stderr",
     "output_type": "stream",
     "text": [
      "\r",
      " 24%|██▍       | 87/360 [01:17<04:00,  1.14it/s]"
     ]
    },
    {
     "name": "stdout",
     "output_type": "stream",
     "text": [
      "similarity of the two sentences:  tensor(0.9218, device='cuda:0')\n"
     ]
    },
    {
     "name": "stderr",
     "output_type": "stream",
     "text": [
      "\r",
      " 24%|██▍       | 88/360 [01:18<03:58,  1.14it/s]"
     ]
    },
    {
     "name": "stdout",
     "output_type": "stream",
     "text": [
      "similarity of the two sentences:  tensor(1., device='cuda:0')\n"
     ]
    },
    {
     "name": "stderr",
     "output_type": "stream",
     "text": [
      "\r",
      " 25%|██▍       | 89/360 [01:19<03:56,  1.14it/s]"
     ]
    },
    {
     "name": "stdout",
     "output_type": "stream",
     "text": [
      "similarity of the two sentences:  tensor(0.8117, device='cuda:0')\n"
     ]
    },
    {
     "name": "stderr",
     "output_type": "stream",
     "text": [
      "\r",
      " 25%|██▌       | 90/360 [01:20<03:55,  1.15it/s]"
     ]
    },
    {
     "name": "stdout",
     "output_type": "stream",
     "text": [
      "similarity of the two sentences:  tensor(0.9991, device='cuda:0')\n"
     ]
    },
    {
     "name": "stderr",
     "output_type": "stream",
     "text": [
      "\r",
      " 25%|██▌       | 91/360 [01:20<03:54,  1.15it/s]"
     ]
    },
    {
     "name": "stdout",
     "output_type": "stream",
     "text": [
      "similarity of the two sentences:  tensor(1., device='cuda:0')\n"
     ]
    },
    {
     "name": "stderr",
     "output_type": "stream",
     "text": [
      "\r",
      " 26%|██▌       | 92/360 [01:21<03:53,  1.15it/s]"
     ]
    },
    {
     "name": "stdout",
     "output_type": "stream",
     "text": [
      "similarity of the two sentences:  tensor(1., device='cuda:0')\n"
     ]
    },
    {
     "name": "stderr",
     "output_type": "stream",
     "text": [
      "\r",
      " 26%|██▌       | 93/360 [01:22<03:52,  1.15it/s]"
     ]
    },
    {
     "name": "stdout",
     "output_type": "stream",
     "text": [
      "similarity of the two sentences:  tensor(0.9059, device='cuda:0')\n"
     ]
    },
    {
     "name": "stderr",
     "output_type": "stream",
     "text": [
      "\r",
      " 26%|██▌       | 94/360 [01:23<03:51,  1.15it/s]"
     ]
    },
    {
     "name": "stdout",
     "output_type": "stream",
     "text": [
      "similarity of the two sentences:  tensor(1., device='cuda:0')\n"
     ]
    },
    {
     "name": "stderr",
     "output_type": "stream",
     "text": [
      "\r",
      " 26%|██▋       | 95/360 [01:24<03:51,  1.15it/s]"
     ]
    },
    {
     "name": "stdout",
     "output_type": "stream",
     "text": [
      "similarity of the two sentences:  tensor(0.9054, device='cuda:0')\n"
     ]
    },
    {
     "name": "stderr",
     "output_type": "stream",
     "text": [
      "\r",
      " 27%|██▋       | 96/360 [01:25<03:51,  1.14it/s]"
     ]
    },
    {
     "name": "stdout",
     "output_type": "stream",
     "text": [
      "similarity of the two sentences:  tensor(0.9069, device='cuda:0')\n"
     ]
    },
    {
     "name": "stderr",
     "output_type": "stream",
     "text": [
      "\r",
      " 27%|██▋       | 97/360 [01:26<03:50,  1.14it/s]"
     ]
    },
    {
     "name": "stdout",
     "output_type": "stream",
     "text": [
      "similarity of the two sentences:  tensor(0.8335, device='cuda:0')\n"
     ]
    },
    {
     "name": "stderr",
     "output_type": "stream",
     "text": [
      "\r",
      " 27%|██▋       | 98/360 [01:27<03:49,  1.14it/s]"
     ]
    },
    {
     "name": "stdout",
     "output_type": "stream",
     "text": [
      "similarity of the two sentences:  tensor(1.0000, device='cuda:0')\n"
     ]
    },
    {
     "name": "stderr",
     "output_type": "stream",
     "text": [
      "\r",
      " 28%|██▊       | 99/360 [01:27<03:49,  1.14it/s]"
     ]
    },
    {
     "name": "stdout",
     "output_type": "stream",
     "text": [
      "similarity of the two sentences:  tensor(1.0000, device='cuda:0')\n"
     ]
    },
    {
     "name": "stderr",
     "output_type": "stream",
     "text": [
      "\r",
      " 28%|██▊       | 100/360 [01:28<03:47,  1.14it/s]"
     ]
    },
    {
     "name": "stdout",
     "output_type": "stream",
     "text": [
      "similarity of the two sentences:  tensor(0.9780, device='cuda:0')\n"
     ]
    },
    {
     "name": "stderr",
     "output_type": "stream",
     "text": [
      "\r",
      " 28%|██▊       | 101/360 [01:29<03:46,  1.14it/s]"
     ]
    },
    {
     "name": "stdout",
     "output_type": "stream",
     "text": [
      "similarity of the two sentences:  tensor(1.0000, device='cuda:0')\n"
     ]
    },
    {
     "name": "stderr",
     "output_type": "stream",
     "text": [
      "\r",
      " 28%|██▊       | 102/360 [01:30<03:47,  1.13it/s]"
     ]
    },
    {
     "name": "stdout",
     "output_type": "stream",
     "text": [
      "similarity of the two sentences:  tensor(0.9397, device='cuda:0')\n"
     ]
    },
    {
     "name": "stderr",
     "output_type": "stream",
     "text": [
      "\r",
      " 29%|██▊       | 103/360 [01:31<03:51,  1.11it/s]"
     ]
    },
    {
     "name": "stdout",
     "output_type": "stream",
     "text": [
      "similarity of the two sentences:  tensor(0.8119, device='cuda:0')\n"
     ]
    },
    {
     "name": "stderr",
     "output_type": "stream",
     "text": [
      "\r",
      " 29%|██▉       | 104/360 [01:32<03:48,  1.12it/s]"
     ]
    },
    {
     "name": "stdout",
     "output_type": "stream",
     "text": [
      "similarity of the two sentences:  tensor(1.0000, device='cuda:0')\n"
     ]
    },
    {
     "name": "stderr",
     "output_type": "stream",
     "text": [
      "\r",
      " 29%|██▉       | 105/360 [01:33<03:46,  1.13it/s]"
     ]
    },
    {
     "name": "stdout",
     "output_type": "stream",
     "text": [
      "similarity of the two sentences:  tensor(1.0000, device='cuda:0')\n"
     ]
    },
    {
     "name": "stderr",
     "output_type": "stream",
     "text": [
      "\r",
      " 29%|██▉       | 106/360 [01:34<03:45,  1.13it/s]"
     ]
    },
    {
     "name": "stdout",
     "output_type": "stream",
     "text": [
      "similarity of the two sentences:  tensor(0.8264, device='cuda:0')\n"
     ]
    },
    {
     "name": "stderr",
     "output_type": "stream",
     "text": [
      "\r",
      " 30%|██▉       | 107/360 [01:35<03:43,  1.13it/s]"
     ]
    },
    {
     "name": "stdout",
     "output_type": "stream",
     "text": [
      "similarity of the two sentences:  tensor(0.9973, device='cuda:0')\n"
     ]
    },
    {
     "name": "stderr",
     "output_type": "stream",
     "text": [
      "\r",
      " 30%|███       | 108/360 [01:35<03:41,  1.14it/s]"
     ]
    },
    {
     "name": "stdout",
     "output_type": "stream",
     "text": [
      "similarity of the two sentences:  tensor(0.9774, device='cuda:0')\n"
     ]
    },
    {
     "name": "stderr",
     "output_type": "stream",
     "text": [
      "\r",
      " 30%|███       | 109/360 [01:36<03:40,  1.14it/s]"
     ]
    },
    {
     "name": "stdout",
     "output_type": "stream",
     "text": [
      "similarity of the two sentences:  tensor(0.8392, device='cuda:0')\n"
     ]
    },
    {
     "name": "stderr",
     "output_type": "stream",
     "text": [
      "\r",
      " 31%|███       | 110/360 [01:37<03:39,  1.14it/s]"
     ]
    },
    {
     "name": "stdout",
     "output_type": "stream",
     "text": [
      "similarity of the two sentences:  tensor(1., device='cuda:0')\n"
     ]
    },
    {
     "name": "stderr",
     "output_type": "stream",
     "text": [
      "\r",
      " 31%|███       | 111/360 [01:38<03:38,  1.14it/s]"
     ]
    },
    {
     "name": "stdout",
     "output_type": "stream",
     "text": [
      "similarity of the two sentences:  tensor(1.0000, device='cuda:0')\n"
     ]
    },
    {
     "name": "stderr",
     "output_type": "stream",
     "text": [
      "\r",
      " 31%|███       | 112/360 [01:39<03:37,  1.14it/s]"
     ]
    },
    {
     "name": "stdout",
     "output_type": "stream",
     "text": [
      "similarity of the two sentences:  tensor(1.0000, device='cuda:0')\n"
     ]
    },
    {
     "name": "stderr",
     "output_type": "stream",
     "text": [
      "\r",
      " 31%|███▏      | 113/360 [01:40<03:36,  1.14it/s]"
     ]
    },
    {
     "name": "stdout",
     "output_type": "stream",
     "text": [
      "similarity of the two sentences:  tensor(1., device='cuda:0')\n"
     ]
    },
    {
     "name": "stderr",
     "output_type": "stream",
     "text": [
      "\r",
      " 32%|███▏      | 114/360 [01:41<03:35,  1.14it/s]"
     ]
    },
    {
     "name": "stdout",
     "output_type": "stream",
     "text": [
      "similarity of the two sentences:  tensor(0.8945, device='cuda:0')\n"
     ]
    },
    {
     "name": "stderr",
     "output_type": "stream",
     "text": [
      "\r",
      " 32%|███▏      | 115/360 [01:42<03:34,  1.14it/s]"
     ]
    },
    {
     "name": "stdout",
     "output_type": "stream",
     "text": [
      "similarity of the two sentences:  tensor(1.0000, device='cuda:0')\n"
     ]
    },
    {
     "name": "stderr",
     "output_type": "stream",
     "text": [
      "\r",
      " 32%|███▏      | 116/360 [01:42<03:34,  1.14it/s]"
     ]
    },
    {
     "name": "stdout",
     "output_type": "stream",
     "text": [
      "similarity of the two sentences:  tensor(1.0000, device='cuda:0')\n"
     ]
    },
    {
     "name": "stderr",
     "output_type": "stream",
     "text": [
      "\r",
      " 32%|███▎      | 117/360 [01:43<03:33,  1.14it/s]"
     ]
    },
    {
     "name": "stdout",
     "output_type": "stream",
     "text": [
      "similarity of the two sentences:  tensor(1., device='cuda:0')\n"
     ]
    },
    {
     "name": "stderr",
     "output_type": "stream",
     "text": [
      "\r",
      " 33%|███▎      | 118/360 [01:44<03:32,  1.14it/s]"
     ]
    },
    {
     "name": "stdout",
     "output_type": "stream",
     "text": [
      "similarity of the two sentences:  tensor(1.0000, device='cuda:0')\n"
     ]
    },
    {
     "name": "stderr",
     "output_type": "stream",
     "text": [
      "\r",
      " 33%|███▎      | 119/360 [01:45<03:31,  1.14it/s]"
     ]
    },
    {
     "name": "stdout",
     "output_type": "stream",
     "text": [
      "similarity of the two sentences:  tensor(0.8718, device='cuda:0')\n"
     ]
    },
    {
     "name": "stderr",
     "output_type": "stream",
     "text": [
      "\r",
      " 33%|███▎      | 120/360 [01:46<03:29,  1.14it/s]"
     ]
    },
    {
     "name": "stdout",
     "output_type": "stream",
     "text": [
      "similarity of the two sentences:  tensor(1.0000, device='cuda:0')\n"
     ]
    },
    {
     "name": "stderr",
     "output_type": "stream",
     "text": [
      "\r",
      " 34%|███▎      | 121/360 [01:47<03:28,  1.15it/s]"
     ]
    },
    {
     "name": "stdout",
     "output_type": "stream",
     "text": [
      "similarity of the two sentences:  tensor(1.0000, device='cuda:0')\n"
     ]
    },
    {
     "name": "stderr",
     "output_type": "stream",
     "text": [
      "\r",
      " 34%|███▍      | 122/360 [01:48<03:27,  1.15it/s]"
     ]
    },
    {
     "name": "stdout",
     "output_type": "stream",
     "text": [
      "similarity of the two sentences:  tensor(0.9260, device='cuda:0')\n"
     ]
    },
    {
     "name": "stderr",
     "output_type": "stream",
     "text": [
      "\r",
      " 34%|███▍      | 123/360 [01:49<03:26,  1.15it/s]"
     ]
    },
    {
     "name": "stdout",
     "output_type": "stream",
     "text": [
      "similarity of the two sentences:  tensor(1., device='cuda:0')\n"
     ]
    },
    {
     "name": "stderr",
     "output_type": "stream",
     "text": [
      "\r",
      " 34%|███▍      | 124/360 [01:49<03:25,  1.15it/s]"
     ]
    },
    {
     "name": "stdout",
     "output_type": "stream",
     "text": [
      "similarity of the two sentences:  tensor(1.0000, device='cuda:0')\n"
     ]
    },
    {
     "name": "stderr",
     "output_type": "stream",
     "text": [
      "\r",
      " 35%|███▍      | 125/360 [01:50<03:24,  1.15it/s]"
     ]
    },
    {
     "name": "stdout",
     "output_type": "stream",
     "text": [
      "similarity of the two sentences:  tensor(0.9742, device='cuda:0')\n"
     ]
    },
    {
     "name": "stderr",
     "output_type": "stream",
     "text": [
      "\r",
      " 35%|███▌      | 126/360 [01:51<03:23,  1.15it/s]"
     ]
    },
    {
     "name": "stdout",
     "output_type": "stream",
     "text": [
      "similarity of the two sentences:  tensor(0.9606, device='cuda:0')\n"
     ]
    },
    {
     "name": "stderr",
     "output_type": "stream",
     "text": [
      "\r",
      " 35%|███▌      | 127/360 [01:52<03:22,  1.15it/s]"
     ]
    },
    {
     "name": "stdout",
     "output_type": "stream",
     "text": [
      "similarity of the two sentences:  tensor(0.8954, device='cuda:0')\n"
     ]
    },
    {
     "name": "stderr",
     "output_type": "stream",
     "text": [
      "\r",
      " 36%|███▌      | 128/360 [01:53<03:22,  1.15it/s]"
     ]
    },
    {
     "name": "stdout",
     "output_type": "stream",
     "text": [
      "similarity of the two sentences:  tensor(1.0000, device='cuda:0')\n"
     ]
    },
    {
     "name": "stderr",
     "output_type": "stream",
     "text": [
      "\r",
      " 36%|███▌      | 129/360 [01:54<03:20,  1.15it/s]"
     ]
    },
    {
     "name": "stdout",
     "output_type": "stream",
     "text": [
      "similarity of the two sentences:  tensor(0.8928, device='cuda:0')\n"
     ]
    },
    {
     "name": "stderr",
     "output_type": "stream",
     "text": [
      "\r",
      " 36%|███▌      | 130/360 [01:55<03:20,  1.15it/s]"
     ]
    },
    {
     "name": "stdout",
     "output_type": "stream",
     "text": [
      "similarity of the two sentences:  tensor(0.8308, device='cuda:0')\n"
     ]
    },
    {
     "name": "stderr",
     "output_type": "stream",
     "text": [
      "\r",
      " 36%|███▋      | 131/360 [01:56<03:18,  1.15it/s]"
     ]
    },
    {
     "name": "stdout",
     "output_type": "stream",
     "text": [
      "similarity of the two sentences:  tensor(0.8183, device='cuda:0')\n"
     ]
    },
    {
     "name": "stderr",
     "output_type": "stream",
     "text": [
      "\r",
      " 37%|███▋      | 132/360 [01:56<03:17,  1.15it/s]"
     ]
    },
    {
     "name": "stdout",
     "output_type": "stream",
     "text": [
      "similarity of the two sentences:  tensor(1.0000, device='cuda:0')\n"
     ]
    },
    {
     "name": "stderr",
     "output_type": "stream",
     "text": [
      "\r",
      " 37%|███▋      | 133/360 [01:57<03:18,  1.15it/s]"
     ]
    },
    {
     "name": "stdout",
     "output_type": "stream",
     "text": [
      "similarity of the two sentences:  tensor(0.8069, device='cuda:0')\n"
     ]
    },
    {
     "name": "stderr",
     "output_type": "stream",
     "text": [
      "\r",
      " 37%|███▋      | 134/360 [01:58<03:17,  1.15it/s]"
     ]
    },
    {
     "name": "stdout",
     "output_type": "stream",
     "text": [
      "similarity of the two sentences:  tensor(0.9208, device='cuda:0')\n"
     ]
    },
    {
     "name": "stderr",
     "output_type": "stream",
     "text": [
      "\r",
      " 38%|███▊      | 135/360 [01:59<03:16,  1.15it/s]"
     ]
    },
    {
     "name": "stdout",
     "output_type": "stream",
     "text": [
      "similarity of the two sentences:  tensor(0.8628, device='cuda:0')\n"
     ]
    },
    {
     "name": "stderr",
     "output_type": "stream",
     "text": [
      "\r",
      " 38%|███▊      | 136/360 [02:00<03:15,  1.15it/s]"
     ]
    },
    {
     "name": "stdout",
     "output_type": "stream",
     "text": [
      "similarity of the two sentences:  tensor(0.9549, device='cuda:0')\n"
     ]
    },
    {
     "name": "stderr",
     "output_type": "stream",
     "text": [
      "\r",
      " 38%|███▊      | 137/360 [02:01<03:14,  1.14it/s]"
     ]
    },
    {
     "name": "stdout",
     "output_type": "stream",
     "text": [
      "similarity of the two sentences:  tensor(0.8329, device='cuda:0')\n"
     ]
    },
    {
     "name": "stderr",
     "output_type": "stream",
     "text": [
      "\r",
      " 38%|███▊      | 138/360 [02:02<03:14,  1.14it/s]"
     ]
    },
    {
     "name": "stdout",
     "output_type": "stream",
     "text": [
      "similarity of the two sentences:  tensor(0.9074, device='cuda:0')\n"
     ]
    },
    {
     "name": "stderr",
     "output_type": "stream",
     "text": [
      "\r",
      " 39%|███▊      | 139/360 [02:03<03:14,  1.14it/s]"
     ]
    },
    {
     "name": "stdout",
     "output_type": "stream",
     "text": [
      "similarity of the two sentences:  tensor(0.9611, device='cuda:0')\n"
     ]
    },
    {
     "name": "stderr",
     "output_type": "stream",
     "text": [
      "\r",
      " 39%|███▉      | 140/360 [02:03<03:14,  1.13it/s]"
     ]
    },
    {
     "name": "stdout",
     "output_type": "stream",
     "text": [
      "similarity of the two sentences:  tensor(0.9737, device='cuda:0')\n"
     ]
    },
    {
     "name": "stderr",
     "output_type": "stream",
     "text": [
      "\r",
      " 39%|███▉      | 141/360 [02:04<03:13,  1.13it/s]"
     ]
    },
    {
     "name": "stdout",
     "output_type": "stream",
     "text": [
      "similarity of the two sentences:  tensor(0.8990, device='cuda:0')\n"
     ]
    },
    {
     "name": "stderr",
     "output_type": "stream",
     "text": [
      "\r",
      " 39%|███▉      | 142/360 [02:05<03:13,  1.12it/s]"
     ]
    },
    {
     "name": "stdout",
     "output_type": "stream",
     "text": [
      "similarity of the two sentences:  tensor(0.9698, device='cuda:0')\n"
     ]
    },
    {
     "name": "stderr",
     "output_type": "stream",
     "text": [
      "\r",
      " 40%|███▉      | 143/360 [02:06<03:13,  1.12it/s]"
     ]
    },
    {
     "name": "stdout",
     "output_type": "stream",
     "text": [
      "similarity of the two sentences:  tensor(0.8010, device='cuda:0')\n"
     ]
    },
    {
     "name": "stderr",
     "output_type": "stream",
     "text": [
      "\r",
      " 40%|████      | 144/360 [02:07<03:11,  1.13it/s]"
     ]
    },
    {
     "name": "stdout",
     "output_type": "stream",
     "text": [
      "similarity of the two sentences:  tensor(1., device='cuda:0')\n"
     ]
    },
    {
     "name": "stderr",
     "output_type": "stream",
     "text": [
      "\r",
      " 40%|████      | 145/360 [02:08<03:10,  1.13it/s]"
     ]
    },
    {
     "name": "stdout",
     "output_type": "stream",
     "text": [
      "similarity of the two sentences:  tensor(1.0000, device='cuda:0')\n"
     ]
    },
    {
     "name": "stderr",
     "output_type": "stream",
     "text": [
      "\r",
      " 41%|████      | 146/360 [02:09<03:09,  1.13it/s]"
     ]
    },
    {
     "name": "stdout",
     "output_type": "stream",
     "text": [
      "similarity of the two sentences:  tensor(0.9960, device='cuda:0')\n"
     ]
    },
    {
     "name": "stderr",
     "output_type": "stream",
     "text": [
      "\r",
      " 41%|████      | 147/360 [02:10<03:07,  1.13it/s]"
     ]
    },
    {
     "name": "stdout",
     "output_type": "stream",
     "text": [
      "similarity of the two sentences:  tensor(0.9773, device='cuda:0')\n"
     ]
    },
    {
     "name": "stderr",
     "output_type": "stream",
     "text": [
      "\r",
      " 41%|████      | 148/360 [02:10<03:06,  1.13it/s]"
     ]
    },
    {
     "name": "stdout",
     "output_type": "stream",
     "text": [
      "similarity of the two sentences:  tensor(0.8192, device='cuda:0')\n"
     ]
    },
    {
     "name": "stderr",
     "output_type": "stream",
     "text": [
      "\r",
      " 41%|████▏     | 149/360 [02:11<03:06,  1.13it/s]"
     ]
    },
    {
     "name": "stdout",
     "output_type": "stream",
     "text": [
      "similarity of the two sentences:  tensor(1.0000, device='cuda:0')\n"
     ]
    },
    {
     "name": "stderr",
     "output_type": "stream",
     "text": [
      "\r",
      " 42%|████▏     | 150/360 [02:12<03:05,  1.13it/s]"
     ]
    },
    {
     "name": "stdout",
     "output_type": "stream",
     "text": [
      "similarity of the two sentences:  tensor(0.9491, device='cuda:0')\n"
     ]
    },
    {
     "name": "stderr",
     "output_type": "stream",
     "text": [
      "\r",
      " 42%|████▏     | 151/360 [02:13<03:04,  1.13it/s]"
     ]
    },
    {
     "name": "stdout",
     "output_type": "stream",
     "text": [
      "similarity of the two sentences:  tensor(0.9083, device='cuda:0')\n"
     ]
    },
    {
     "name": "stderr",
     "output_type": "stream",
     "text": [
      "\r",
      " 42%|████▏     | 152/360 [02:14<03:04,  1.13it/s]"
     ]
    },
    {
     "name": "stdout",
     "output_type": "stream",
     "text": [
      "similarity of the two sentences:  tensor(0.9150, device='cuda:0')\n"
     ]
    },
    {
     "name": "stderr",
     "output_type": "stream",
     "text": [
      "\r",
      " 42%|████▎     | 153/360 [02:15<03:02,  1.13it/s]"
     ]
    },
    {
     "name": "stdout",
     "output_type": "stream",
     "text": [
      "similarity of the two sentences:  tensor(0.8176, device='cuda:0')\n"
     ]
    },
    {
     "name": "stderr",
     "output_type": "stream",
     "text": [
      "\r",
      " 43%|████▎     | 154/360 [02:16<03:01,  1.13it/s]"
     ]
    },
    {
     "name": "stdout",
     "output_type": "stream",
     "text": [
      "similarity of the two sentences:  tensor(0.9134, device='cuda:0')\n"
     ]
    },
    {
     "name": "stderr",
     "output_type": "stream",
     "text": [
      "\r",
      " 43%|████▎     | 155/360 [02:17<03:00,  1.13it/s]"
     ]
    },
    {
     "name": "stdout",
     "output_type": "stream",
     "text": [
      "similarity of the two sentences:  tensor(0.9967, device='cuda:0')\n"
     ]
    },
    {
     "name": "stderr",
     "output_type": "stream",
     "text": [
      "\r",
      " 43%|████▎     | 156/360 [02:18<03:00,  1.13it/s]"
     ]
    },
    {
     "name": "stdout",
     "output_type": "stream",
     "text": [
      "similarity of the two sentences:  tensor(0.8355, device='cuda:0')\n"
     ]
    },
    {
     "name": "stderr",
     "output_type": "stream",
     "text": [
      "\r",
      " 44%|████▎     | 157/360 [02:18<02:59,  1.13it/s]"
     ]
    },
    {
     "name": "stdout",
     "output_type": "stream",
     "text": [
      "similarity of the two sentences:  tensor(0.9738, device='cuda:0')\n"
     ]
    },
    {
     "name": "stderr",
     "output_type": "stream",
     "text": [
      "\r",
      " 44%|████▍     | 158/360 [02:19<02:58,  1.13it/s]"
     ]
    },
    {
     "name": "stdout",
     "output_type": "stream",
     "text": [
      "similarity of the two sentences:  tensor(1.0000, device='cuda:0')\n"
     ]
    },
    {
     "name": "stderr",
     "output_type": "stream",
     "text": [
      "\r",
      " 44%|████▍     | 159/360 [02:20<02:56,  1.14it/s]"
     ]
    },
    {
     "name": "stdout",
     "output_type": "stream",
     "text": [
      "similarity of the two sentences:  tensor(0.9622, device='cuda:0')\n"
     ]
    },
    {
     "name": "stderr",
     "output_type": "stream",
     "text": [
      "\r",
      " 44%|████▍     | 160/360 [02:21<02:55,  1.14it/s]"
     ]
    },
    {
     "name": "stdout",
     "output_type": "stream",
     "text": [
      "similarity of the two sentences:  tensor(0.8208, device='cuda:0')\n"
     ]
    },
    {
     "name": "stderr",
     "output_type": "stream",
     "text": [
      "\r",
      " 45%|████▍     | 161/360 [02:22<02:55,  1.14it/s]"
     ]
    },
    {
     "name": "stdout",
     "output_type": "stream",
     "text": [
      "similarity of the two sentences:  tensor(0.8761, device='cuda:0')\n"
     ]
    },
    {
     "name": "stderr",
     "output_type": "stream",
     "text": [
      "\r",
      " 45%|████▌     | 162/360 [02:23<02:54,  1.14it/s]"
     ]
    },
    {
     "name": "stdout",
     "output_type": "stream",
     "text": [
      "similarity of the two sentences:  tensor(0.9524, device='cuda:0')\n"
     ]
    },
    {
     "name": "stderr",
     "output_type": "stream",
     "text": [
      "\r",
      " 45%|████▌     | 163/360 [02:24<02:53,  1.14it/s]"
     ]
    },
    {
     "name": "stdout",
     "output_type": "stream",
     "text": [
      "similarity of the two sentences:  tensor(0.8718, device='cuda:0')\n"
     ]
    },
    {
     "name": "stderr",
     "output_type": "stream",
     "text": [
      "\r",
      " 46%|████▌     | 164/360 [02:25<02:53,  1.13it/s]"
     ]
    },
    {
     "name": "stdout",
     "output_type": "stream",
     "text": [
      "similarity of the two sentences:  tensor(1., device='cuda:0')\n"
     ]
    },
    {
     "name": "stderr",
     "output_type": "stream",
     "text": [
      "\r",
      " 46%|████▌     | 165/360 [02:26<02:52,  1.13it/s]"
     ]
    },
    {
     "name": "stdout",
     "output_type": "stream",
     "text": [
      "similarity of the two sentences:  tensor(1., device='cuda:0')\n"
     ]
    },
    {
     "name": "stderr",
     "output_type": "stream",
     "text": [
      "\r",
      " 46%|████▌     | 166/360 [02:26<02:51,  1.13it/s]"
     ]
    },
    {
     "name": "stdout",
     "output_type": "stream",
     "text": [
      "similarity of the two sentences:  tensor(0.8431, device='cuda:0')\n"
     ]
    },
    {
     "name": "stderr",
     "output_type": "stream",
     "text": [
      "\r",
      " 46%|████▋     | 167/360 [02:27<02:49,  1.14it/s]"
     ]
    },
    {
     "name": "stdout",
     "output_type": "stream",
     "text": [
      "similarity of the two sentences:  tensor(0.9331, device='cuda:0')\n"
     ]
    },
    {
     "name": "stderr",
     "output_type": "stream",
     "text": [
      "\r",
      " 47%|████▋     | 168/360 [02:28<02:50,  1.13it/s]"
     ]
    },
    {
     "name": "stdout",
     "output_type": "stream",
     "text": [
      "similarity of the two sentences:  tensor(0.8165, device='cuda:0')\n"
     ]
    },
    {
     "name": "stderr",
     "output_type": "stream",
     "text": [
      "\r",
      " 47%|████▋     | 169/360 [02:29<02:48,  1.13it/s]"
     ]
    },
    {
     "name": "stdout",
     "output_type": "stream",
     "text": [
      "similarity of the two sentences:  tensor(1., device='cuda:0')\n"
     ]
    },
    {
     "name": "stderr",
     "output_type": "stream",
     "text": [
      "\r",
      " 47%|████▋     | 170/360 [02:30<02:47,  1.13it/s]"
     ]
    },
    {
     "name": "stdout",
     "output_type": "stream",
     "text": [
      "similarity of the two sentences:  tensor(0.9654, device='cuda:0')\n"
     ]
    },
    {
     "name": "stderr",
     "output_type": "stream",
     "text": [
      "\r",
      " 48%|████▊     | 171/360 [02:31<02:46,  1.14it/s]"
     ]
    },
    {
     "name": "stdout",
     "output_type": "stream",
     "text": [
      "similarity of the two sentences:  tensor(0.9079, device='cuda:0')\n"
     ]
    },
    {
     "name": "stderr",
     "output_type": "stream",
     "text": [
      "\r",
      " 48%|████▊     | 172/360 [02:32<02:45,  1.14it/s]"
     ]
    },
    {
     "name": "stdout",
     "output_type": "stream",
     "text": [
      "similarity of the two sentences:  tensor(1.0000, device='cuda:0')\n"
     ]
    },
    {
     "name": "stderr",
     "output_type": "stream",
     "text": [
      "\r",
      " 48%|████▊     | 173/360 [02:33<02:44,  1.14it/s]"
     ]
    },
    {
     "name": "stdout",
     "output_type": "stream",
     "text": [
      "similarity of the two sentences:  tensor(0.9260, device='cuda:0')\n"
     ]
    },
    {
     "name": "stderr",
     "output_type": "stream",
     "text": [
      "\r",
      " 48%|████▊     | 174/360 [02:33<02:43,  1.14it/s]"
     ]
    },
    {
     "name": "stdout",
     "output_type": "stream",
     "text": [
      "similarity of the two sentences:  tensor(0.9436, device='cuda:0')\n"
     ]
    },
    {
     "name": "stderr",
     "output_type": "stream",
     "text": [
      "\r",
      " 49%|████▊     | 175/360 [02:34<02:42,  1.14it/s]"
     ]
    },
    {
     "name": "stdout",
     "output_type": "stream",
     "text": [
      "similarity of the two sentences:  tensor(0.9052, device='cuda:0')\n"
     ]
    },
    {
     "name": "stderr",
     "output_type": "stream",
     "text": [
      "\r",
      " 49%|████▉     | 176/360 [02:35<02:41,  1.14it/s]"
     ]
    },
    {
     "name": "stdout",
     "output_type": "stream",
     "text": [
      "similarity of the two sentences:  tensor(0.8860, device='cuda:0')\n"
     ]
    },
    {
     "name": "stderr",
     "output_type": "stream",
     "text": [
      "\r",
      " 49%|████▉     | 177/360 [02:36<02:40,  1.14it/s]"
     ]
    },
    {
     "name": "stdout",
     "output_type": "stream",
     "text": [
      "similarity of the two sentences:  tensor(0.9075, device='cuda:0')\n"
     ]
    },
    {
     "name": "stderr",
     "output_type": "stream",
     "text": [
      "\r",
      " 49%|████▉     | 178/360 [02:37<02:39,  1.14it/s]"
     ]
    },
    {
     "name": "stdout",
     "output_type": "stream",
     "text": [
      "similarity of the two sentences:  tensor(0.8434, device='cuda:0')\n"
     ]
    },
    {
     "name": "stderr",
     "output_type": "stream",
     "text": [
      "\r",
      " 50%|████▉     | 179/360 [02:38<02:38,  1.14it/s]"
     ]
    },
    {
     "name": "stdout",
     "output_type": "stream",
     "text": [
      "similarity of the two sentences:  tensor(1., device='cuda:0')\n"
     ]
    },
    {
     "name": "stderr",
     "output_type": "stream",
     "text": [
      "\r",
      " 50%|█████     | 180/360 [02:39<02:37,  1.14it/s]"
     ]
    },
    {
     "name": "stdout",
     "output_type": "stream",
     "text": [
      "similarity of the two sentences:  tensor(0.8346, device='cuda:0')\n"
     ]
    },
    {
     "name": "stderr",
     "output_type": "stream",
     "text": [
      "\r",
      " 50%|█████     | 181/360 [02:40<02:36,  1.14it/s]"
     ]
    },
    {
     "name": "stdout",
     "output_type": "stream",
     "text": [
      "similarity of the two sentences:  tensor(1., device='cuda:0')\n"
     ]
    },
    {
     "name": "stderr",
     "output_type": "stream",
     "text": [
      "\r",
      " 51%|█████     | 182/360 [02:40<02:35,  1.14it/s]"
     ]
    },
    {
     "name": "stdout",
     "output_type": "stream",
     "text": [
      "similarity of the two sentences:  tensor(1., device='cuda:0')\n"
     ]
    },
    {
     "name": "stderr",
     "output_type": "stream",
     "text": [
      "\r",
      " 51%|█████     | 183/360 [02:41<02:34,  1.15it/s]"
     ]
    },
    {
     "name": "stdout",
     "output_type": "stream",
     "text": [
      "similarity of the two sentences:  tensor(1., device='cuda:0')\n"
     ]
    },
    {
     "name": "stderr",
     "output_type": "stream",
     "text": [
      "\r",
      " 51%|█████     | 184/360 [02:42<02:33,  1.15it/s]"
     ]
    },
    {
     "name": "stdout",
     "output_type": "stream",
     "text": [
      "similarity of the two sentences:  tensor(0.9831, device='cuda:0')\n"
     ]
    },
    {
     "name": "stderr",
     "output_type": "stream",
     "text": [
      "\r",
      " 51%|█████▏    | 185/360 [02:43<02:32,  1.15it/s]"
     ]
    },
    {
     "name": "stdout",
     "output_type": "stream",
     "text": [
      "similarity of the two sentences:  tensor(0.9838, device='cuda:0')\n"
     ]
    },
    {
     "name": "stderr",
     "output_type": "stream",
     "text": [
      "\r",
      " 52%|█████▏    | 186/360 [02:44<02:31,  1.15it/s]"
     ]
    },
    {
     "name": "stdout",
     "output_type": "stream",
     "text": [
      "similarity of the two sentences:  tensor(0.8878, device='cuda:0')\n"
     ]
    },
    {
     "name": "stderr",
     "output_type": "stream",
     "text": [
      "\r",
      " 52%|█████▏    | 187/360 [02:45<02:31,  1.14it/s]"
     ]
    },
    {
     "name": "stdout",
     "output_type": "stream",
     "text": [
      "similarity of the two sentences:  tensor(0.8658, device='cuda:0')\n"
     ]
    },
    {
     "name": "stderr",
     "output_type": "stream",
     "text": [
      "\r",
      " 52%|█████▏    | 188/360 [02:46<02:31,  1.13it/s]"
     ]
    },
    {
     "name": "stdout",
     "output_type": "stream",
     "text": [
      "similarity of the two sentences:  tensor(0.9632, device='cuda:0')\n"
     ]
    },
    {
     "name": "stderr",
     "output_type": "stream",
     "text": [
      "\r",
      " 52%|█████▎    | 189/360 [02:47<02:30,  1.14it/s]"
     ]
    },
    {
     "name": "stdout",
     "output_type": "stream",
     "text": [
      "similarity of the two sentences:  tensor(0.9680, device='cuda:0')\n"
     ]
    },
    {
     "name": "stderr",
     "output_type": "stream",
     "text": [
      "\r",
      " 53%|█████▎    | 190/360 [02:47<02:30,  1.13it/s]"
     ]
    },
    {
     "name": "stdout",
     "output_type": "stream",
     "text": [
      "similarity of the two sentences:  tensor(1.0000, device='cuda:0')\n"
     ]
    },
    {
     "name": "stderr",
     "output_type": "stream",
     "text": [
      "\r",
      " 53%|█████▎    | 191/360 [02:48<02:29,  1.13it/s]"
     ]
    },
    {
     "name": "stdout",
     "output_type": "stream",
     "text": [
      "similarity of the two sentences:  tensor(1., device='cuda:0')\n"
     ]
    },
    {
     "name": "stderr",
     "output_type": "stream",
     "text": [
      "\r",
      " 53%|█████▎    | 192/360 [02:49<02:28,  1.13it/s]"
     ]
    },
    {
     "name": "stdout",
     "output_type": "stream",
     "text": [
      "similarity of the two sentences:  tensor(0.9559, device='cuda:0')\n"
     ]
    },
    {
     "name": "stderr",
     "output_type": "stream",
     "text": [
      "\r",
      " 54%|█████▎    | 193/360 [02:50<02:27,  1.14it/s]"
     ]
    },
    {
     "name": "stdout",
     "output_type": "stream",
     "text": [
      "similarity of the two sentences:  tensor(0.9021, device='cuda:0')\n"
     ]
    },
    {
     "name": "stderr",
     "output_type": "stream",
     "text": [
      "\r",
      " 54%|█████▍    | 194/360 [02:51<02:26,  1.14it/s]"
     ]
    },
    {
     "name": "stdout",
     "output_type": "stream",
     "text": [
      "similarity of the two sentences:  tensor(0.9037, device='cuda:0')\n"
     ]
    },
    {
     "name": "stderr",
     "output_type": "stream",
     "text": [
      "\r",
      " 54%|█████▍    | 195/360 [02:52<02:24,  1.14it/s]"
     ]
    },
    {
     "name": "stdout",
     "output_type": "stream",
     "text": [
      "similarity of the two sentences:  tensor(0.8538, device='cuda:0')\n"
     ]
    },
    {
     "name": "stderr",
     "output_type": "stream",
     "text": [
      "\r",
      " 54%|█████▍    | 196/360 [02:53<02:23,  1.14it/s]"
     ]
    },
    {
     "name": "stdout",
     "output_type": "stream",
     "text": [
      "similarity of the two sentences:  tensor(1.0000, device='cuda:0')\n"
     ]
    },
    {
     "name": "stderr",
     "output_type": "stream",
     "text": [
      "\r",
      " 55%|█████▍    | 197/360 [02:54<02:22,  1.14it/s]"
     ]
    },
    {
     "name": "stdout",
     "output_type": "stream",
     "text": [
      "similarity of the two sentences:  tensor(1.0000, device='cuda:0')\n"
     ]
    },
    {
     "name": "stderr",
     "output_type": "stream",
     "text": [
      "\r",
      " 55%|█████▌    | 198/360 [02:54<02:21,  1.14it/s]"
     ]
    },
    {
     "name": "stdout",
     "output_type": "stream",
     "text": [
      "similarity of the two sentences:  tensor(0.9555, device='cuda:0')\n"
     ]
    },
    {
     "name": "stderr",
     "output_type": "stream",
     "text": [
      "\r",
      " 55%|█████▌    | 199/360 [02:55<02:21,  1.14it/s]"
     ]
    },
    {
     "name": "stdout",
     "output_type": "stream",
     "text": [
      "similarity of the two sentences:  tensor(1.0000, device='cuda:0')\n"
     ]
    },
    {
     "name": "stderr",
     "output_type": "stream",
     "text": [
      "\r",
      " 56%|█████▌    | 200/360 [02:56<02:20,  1.14it/s]"
     ]
    },
    {
     "name": "stdout",
     "output_type": "stream",
     "text": [
      "similarity of the two sentences:  tensor(0.9781, device='cuda:0')\n"
     ]
    },
    {
     "name": "stderr",
     "output_type": "stream",
     "text": [
      "\r",
      " 56%|█████▌    | 201/360 [02:57<02:19,  1.14it/s]"
     ]
    },
    {
     "name": "stdout",
     "output_type": "stream",
     "text": [
      "similarity of the two sentences:  tensor(1., device='cuda:0')\n"
     ]
    },
    {
     "name": "stderr",
     "output_type": "stream",
     "text": [
      "\r",
      " 56%|█████▌    | 202/360 [02:58<02:16,  1.15it/s]"
     ]
    },
    {
     "name": "stdout",
     "output_type": "stream",
     "text": [
      "similarity of the two sentences:  tensor(0.9861, device='cuda:0')\n"
     ]
    },
    {
     "name": "stderr",
     "output_type": "stream",
     "text": [
      "\r",
      " 56%|█████▋    | 203/360 [02:59<02:15,  1.16it/s]"
     ]
    },
    {
     "name": "stdout",
     "output_type": "stream",
     "text": [
      "similarity of the two sentences:  tensor(1., device='cuda:0')\n"
     ]
    },
    {
     "name": "stderr",
     "output_type": "stream",
     "text": [
      "\r",
      " 57%|█████▋    | 204/360 [03:00<02:13,  1.17it/s]"
     ]
    },
    {
     "name": "stdout",
     "output_type": "stream",
     "text": [
      "similarity of the two sentences:  tensor(0.8011, device='cuda:0')\n"
     ]
    },
    {
     "name": "stderr",
     "output_type": "stream",
     "text": [
      "\r",
      " 57%|█████▋    | 205/360 [03:00<02:12,  1.17it/s]"
     ]
    },
    {
     "name": "stdout",
     "output_type": "stream",
     "text": [
      "similarity of the two sentences:  tensor(0.8383, device='cuda:0')\n"
     ]
    },
    {
     "name": "stderr",
     "output_type": "stream",
     "text": [
      "\r",
      " 57%|█████▋    | 206/360 [03:01<02:11,  1.17it/s]"
     ]
    },
    {
     "name": "stdout",
     "output_type": "stream",
     "text": [
      "similarity of the two sentences:  tensor(1.0000, device='cuda:0')\n"
     ]
    },
    {
     "name": "stderr",
     "output_type": "stream",
     "text": [
      "\r",
      " 57%|█████▊    | 207/360 [03:02<02:11,  1.16it/s]"
     ]
    },
    {
     "name": "stdout",
     "output_type": "stream",
     "text": [
      "similarity of the two sentences:  tensor(0.8601, device='cuda:0')\n"
     ]
    },
    {
     "name": "stderr",
     "output_type": "stream",
     "text": [
      "\r",
      " 58%|█████▊    | 208/360 [03:03<02:10,  1.16it/s]"
     ]
    },
    {
     "name": "stdout",
     "output_type": "stream",
     "text": [
      "similarity of the two sentences:  tensor(0.9226, device='cuda:0')\n"
     ]
    },
    {
     "name": "stderr",
     "output_type": "stream",
     "text": [
      "\r",
      " 58%|█████▊    | 209/360 [03:04<02:09,  1.17it/s]"
     ]
    },
    {
     "name": "stdout",
     "output_type": "stream",
     "text": [
      "similarity of the two sentences:  tensor(0.8661, device='cuda:0')\n"
     ]
    },
    {
     "name": "stderr",
     "output_type": "stream",
     "text": [
      "\r",
      " 58%|█████▊    | 210/360 [03:05<02:10,  1.15it/s]"
     ]
    },
    {
     "name": "stdout",
     "output_type": "stream",
     "text": [
      "similarity of the two sentences:  tensor(0.9337, device='cuda:0')\n"
     ]
    },
    {
     "name": "stderr",
     "output_type": "stream",
     "text": [
      "\r",
      " 59%|█████▊    | 211/360 [03:06<02:10,  1.14it/s]"
     ]
    },
    {
     "name": "stdout",
     "output_type": "stream",
     "text": [
      "similarity of the two sentences:  tensor(0.8680, device='cuda:0')\n"
     ]
    },
    {
     "name": "stderr",
     "output_type": "stream",
     "text": [
      "\r",
      " 59%|█████▉    | 212/360 [03:07<02:09,  1.14it/s]"
     ]
    },
    {
     "name": "stdout",
     "output_type": "stream",
     "text": [
      "similarity of the two sentences:  tensor(0.9691, device='cuda:0')\n"
     ]
    },
    {
     "name": "stderr",
     "output_type": "stream",
     "text": [
      "\r",
      " 59%|█████▉    | 213/360 [03:07<02:09,  1.14it/s]"
     ]
    },
    {
     "name": "stdout",
     "output_type": "stream",
     "text": [
      "similarity of the two sentences:  tensor(0.8218, device='cuda:0')\n"
     ]
    },
    {
     "name": "stderr",
     "output_type": "stream",
     "text": [
      "\r",
      " 59%|█████▉    | 214/360 [03:08<02:08,  1.13it/s]"
     ]
    },
    {
     "name": "stdout",
     "output_type": "stream",
     "text": [
      "similarity of the two sentences:  tensor(1.0000, device='cuda:0')\n"
     ]
    },
    {
     "name": "stderr",
     "output_type": "stream",
     "text": [
      "\r",
      " 60%|█████▉    | 215/360 [03:09<02:08,  1.13it/s]"
     ]
    },
    {
     "name": "stdout",
     "output_type": "stream",
     "text": [
      "similarity of the two sentences:  tensor(1., device='cuda:0')\n"
     ]
    },
    {
     "name": "stderr",
     "output_type": "stream",
     "text": [
      "\r",
      " 60%|██████    | 216/360 [03:10<02:06,  1.14it/s]"
     ]
    },
    {
     "name": "stdout",
     "output_type": "stream",
     "text": [
      "similarity of the two sentences:  tensor(0.9811, device='cuda:0')\n"
     ]
    },
    {
     "name": "stderr",
     "output_type": "stream",
     "text": [
      "\r",
      " 60%|██████    | 217/360 [03:11<02:05,  1.14it/s]"
     ]
    },
    {
     "name": "stdout",
     "output_type": "stream",
     "text": [
      "similarity of the two sentences:  tensor(0.8397, device='cuda:0')\n"
     ]
    },
    {
     "name": "stderr",
     "output_type": "stream",
     "text": [
      "\r",
      " 61%|██████    | 218/360 [03:12<02:03,  1.15it/s]"
     ]
    },
    {
     "name": "stdout",
     "output_type": "stream",
     "text": [
      "similarity of the two sentences:  tensor(0.9458, device='cuda:0')\n"
     ]
    },
    {
     "name": "stderr",
     "output_type": "stream",
     "text": [
      "\r",
      " 61%|██████    | 219/360 [03:14<02:42,  1.15s/it]"
     ]
    },
    {
     "name": "stdout",
     "output_type": "stream",
     "text": [
      "similarity of the two sentences:  tensor(0.9381, device='cuda:0')\n"
     ]
    },
    {
     "name": "stderr",
     "output_type": "stream",
     "text": [
      "\r",
      " 61%|██████    | 220/360 [03:15<02:28,  1.06s/it]"
     ]
    },
    {
     "name": "stdout",
     "output_type": "stream",
     "text": [
      "similarity of the two sentences:  tensor(0.9570, device='cuda:0')\n"
     ]
    },
    {
     "name": "stderr",
     "output_type": "stream",
     "text": [
      "\r",
      " 61%|██████▏   | 221/360 [03:15<02:19,  1.01s/it]"
     ]
    },
    {
     "name": "stdout",
     "output_type": "stream",
     "text": [
      "similarity of the two sentences:  tensor(1.0000, device='cuda:0')\n"
     ]
    },
    {
     "name": "stderr",
     "output_type": "stream",
     "text": [
      "\r",
      " 62%|██████▏   | 222/360 [03:16<02:13,  1.04it/s]"
     ]
    },
    {
     "name": "stdout",
     "output_type": "stream",
     "text": [
      "similarity of the two sentences:  tensor(0.8343, device='cuda:0')\n"
     ]
    },
    {
     "name": "stderr",
     "output_type": "stream",
     "text": [
      "\r",
      " 62%|██████▏   | 223/360 [03:17<02:06,  1.08it/s]"
     ]
    },
    {
     "name": "stdout",
     "output_type": "stream",
     "text": [
      "similarity of the two sentences:  tensor(0.8514, device='cuda:0')\n"
     ]
    },
    {
     "name": "stderr",
     "output_type": "stream",
     "text": [
      "\r",
      " 62%|██████▏   | 224/360 [03:18<02:01,  1.12it/s]"
     ]
    },
    {
     "name": "stdout",
     "output_type": "stream",
     "text": [
      "similarity of the two sentences:  tensor(0.8372, device='cuda:0')\n"
     ]
    },
    {
     "name": "stderr",
     "output_type": "stream",
     "text": [
      "\r",
      " 62%|██████▎   | 225/360 [03:19<01:58,  1.14it/s]"
     ]
    },
    {
     "name": "stdout",
     "output_type": "stream",
     "text": [
      "similarity of the two sentences:  tensor(0.9218, device='cuda:0')\n"
     ]
    },
    {
     "name": "stderr",
     "output_type": "stream",
     "text": [
      "\r",
      " 63%|██████▎   | 226/360 [03:20<01:55,  1.16it/s]"
     ]
    },
    {
     "name": "stdout",
     "output_type": "stream",
     "text": [
      "similarity of the two sentences:  tensor(0.9593, device='cuda:0')\n"
     ]
    },
    {
     "name": "stderr",
     "output_type": "stream",
     "text": [
      "\r",
      " 63%|██████▎   | 227/360 [03:20<01:54,  1.16it/s]"
     ]
    },
    {
     "name": "stdout",
     "output_type": "stream",
     "text": [
      "similarity of the two sentences:  tensor(0.8646, device='cuda:0')\n"
     ]
    },
    {
     "name": "stderr",
     "output_type": "stream",
     "text": [
      "\r",
      " 63%|██████▎   | 228/360 [03:21<01:52,  1.18it/s]"
     ]
    },
    {
     "name": "stdout",
     "output_type": "stream",
     "text": [
      "similarity of the two sentences:  tensor(0.8259, device='cuda:0')\n"
     ]
    },
    {
     "name": "stderr",
     "output_type": "stream",
     "text": [
      "\r",
      " 64%|██████▎   | 229/360 [03:22<01:50,  1.19it/s]"
     ]
    },
    {
     "name": "stdout",
     "output_type": "stream",
     "text": [
      "similarity of the two sentences:  tensor(1.0000, device='cuda:0')\n"
     ]
    },
    {
     "name": "stderr",
     "output_type": "stream",
     "text": [
      "\r",
      " 64%|██████▍   | 230/360 [03:23<01:49,  1.19it/s]"
     ]
    },
    {
     "name": "stdout",
     "output_type": "stream",
     "text": [
      "similarity of the two sentences:  tensor(0.8568, device='cuda:0')\n"
     ]
    },
    {
     "name": "stderr",
     "output_type": "stream",
     "text": [
      "\r",
      " 64%|██████▍   | 231/360 [03:24<01:48,  1.19it/s]"
     ]
    },
    {
     "name": "stdout",
     "output_type": "stream",
     "text": [
      "similarity of the two sentences:  tensor(0.9382, device='cuda:0')\n"
     ]
    },
    {
     "name": "stderr",
     "output_type": "stream",
     "text": [
      "\r",
      " 64%|██████▍   | 232/360 [03:25<01:46,  1.20it/s]"
     ]
    },
    {
     "name": "stdout",
     "output_type": "stream",
     "text": [
      "similarity of the two sentences:  tensor(0.8525, device='cuda:0')\n"
     ]
    },
    {
     "name": "stderr",
     "output_type": "stream",
     "text": [
      "\r",
      " 65%|██████▍   | 233/360 [03:25<01:45,  1.20it/s]"
     ]
    },
    {
     "name": "stdout",
     "output_type": "stream",
     "text": [
      "similarity of the two sentences:  tensor(0.8499, device='cuda:0')\n"
     ]
    },
    {
     "name": "stderr",
     "output_type": "stream",
     "text": [
      "\r",
      " 65%|██████▌   | 234/360 [03:26<01:44,  1.21it/s]"
     ]
    },
    {
     "name": "stdout",
     "output_type": "stream",
     "text": [
      "similarity of the two sentences:  tensor(0.9900, device='cuda:0')\n"
     ]
    },
    {
     "name": "stderr",
     "output_type": "stream",
     "text": [
      "\r",
      " 65%|██████▌   | 235/360 [03:27<01:43,  1.21it/s]"
     ]
    },
    {
     "name": "stdout",
     "output_type": "stream",
     "text": [
      "similarity of the two sentences:  tensor(1., device='cuda:0')\n"
     ]
    },
    {
     "name": "stderr",
     "output_type": "stream",
     "text": [
      "\r",
      " 66%|██████▌   | 236/360 [03:28<01:42,  1.20it/s]"
     ]
    },
    {
     "name": "stdout",
     "output_type": "stream",
     "text": [
      "similarity of the two sentences:  tensor(1., device='cuda:0')\n"
     ]
    },
    {
     "name": "stderr",
     "output_type": "stream",
     "text": [
      "\r",
      " 66%|██████▌   | 237/360 [03:29<01:41,  1.21it/s]"
     ]
    },
    {
     "name": "stdout",
     "output_type": "stream",
     "text": [
      "similarity of the two sentences:  tensor(1., device='cuda:0')\n"
     ]
    },
    {
     "name": "stderr",
     "output_type": "stream",
     "text": [
      "\r",
      " 66%|██████▌   | 238/360 [03:30<01:40,  1.21it/s]"
     ]
    },
    {
     "name": "stdout",
     "output_type": "stream",
     "text": [
      "similarity of the two sentences:  tensor(0.8332, device='cuda:0')\n"
     ]
    },
    {
     "name": "stderr",
     "output_type": "stream",
     "text": [
      "\r",
      " 66%|██████▋   | 239/360 [03:30<01:39,  1.21it/s]"
     ]
    },
    {
     "name": "stdout",
     "output_type": "stream",
     "text": [
      "similarity of the two sentences:  tensor(1., device='cuda:0')\n"
     ]
    },
    {
     "name": "stderr",
     "output_type": "stream",
     "text": [
      "\r",
      " 67%|██████▋   | 240/360 [03:31<01:38,  1.22it/s]"
     ]
    },
    {
     "name": "stdout",
     "output_type": "stream",
     "text": [
      "similarity of the two sentences:  tensor(1.0000, device='cuda:0')\n"
     ]
    },
    {
     "name": "stderr",
     "output_type": "stream",
     "text": [
      "\r",
      " 67%|██████▋   | 241/360 [03:32<01:37,  1.22it/s]"
     ]
    },
    {
     "name": "stdout",
     "output_type": "stream",
     "text": [
      "similarity of the two sentences:  tensor(1.0000, device='cuda:0')\n"
     ]
    },
    {
     "name": "stderr",
     "output_type": "stream",
     "text": [
      "\r",
      " 67%|██████▋   | 242/360 [03:33<01:37,  1.21it/s]"
     ]
    },
    {
     "name": "stdout",
     "output_type": "stream",
     "text": [
      "similarity of the two sentences:  tensor(0.9843, device='cuda:0')\n"
     ]
    },
    {
     "name": "stderr",
     "output_type": "stream",
     "text": [
      "\r",
      " 68%|██████▊   | 243/360 [03:34<01:36,  1.21it/s]"
     ]
    },
    {
     "name": "stdout",
     "output_type": "stream",
     "text": [
      "similarity of the two sentences:  tensor(0.9898, device='cuda:0')\n"
     ]
    },
    {
     "name": "stderr",
     "output_type": "stream",
     "text": [
      "\r",
      " 68%|██████▊   | 244/360 [03:34<01:35,  1.21it/s]"
     ]
    },
    {
     "name": "stdout",
     "output_type": "stream",
     "text": [
      "similarity of the two sentences:  tensor(0.9884, device='cuda:0')\n"
     ]
    },
    {
     "name": "stderr",
     "output_type": "stream",
     "text": [
      "\r",
      " 68%|██████▊   | 245/360 [03:35<01:35,  1.21it/s]"
     ]
    },
    {
     "name": "stdout",
     "output_type": "stream",
     "text": [
      "similarity of the two sentences:  tensor(1., device='cuda:0')\n"
     ]
    },
    {
     "name": "stderr",
     "output_type": "stream",
     "text": [
      "\r",
      " 68%|██████▊   | 246/360 [03:36<01:34,  1.21it/s]"
     ]
    },
    {
     "name": "stdout",
     "output_type": "stream",
     "text": [
      "similarity of the two sentences:  tensor(1., device='cuda:0')\n"
     ]
    },
    {
     "name": "stderr",
     "output_type": "stream",
     "text": [
      "\r",
      " 69%|██████▊   | 247/360 [03:37<01:33,  1.21it/s]"
     ]
    },
    {
     "name": "stdout",
     "output_type": "stream",
     "text": [
      "similarity of the two sentences:  tensor(0.8378, device='cuda:0')\n"
     ]
    },
    {
     "name": "stderr",
     "output_type": "stream",
     "text": [
      "\r",
      " 69%|██████▉   | 248/360 [03:38<01:32,  1.21it/s]"
     ]
    },
    {
     "name": "stdout",
     "output_type": "stream",
     "text": [
      "similarity of the two sentences:  tensor(1.0000, device='cuda:0')\n"
     ]
    },
    {
     "name": "stderr",
     "output_type": "stream",
     "text": [
      "\r",
      " 69%|██████▉   | 249/360 [03:39<01:31,  1.21it/s]"
     ]
    },
    {
     "name": "stdout",
     "output_type": "stream",
     "text": [
      "similarity of the two sentences:  tensor(0.8462, device='cuda:0')\n"
     ]
    },
    {
     "name": "stderr",
     "output_type": "stream",
     "text": [
      "\r",
      " 69%|██████▉   | 250/360 [03:39<01:31,  1.21it/s]"
     ]
    },
    {
     "name": "stdout",
     "output_type": "stream",
     "text": [
      "similarity of the two sentences:  tensor(0.8056, device='cuda:0')\n"
     ]
    },
    {
     "name": "stderr",
     "output_type": "stream",
     "text": [
      "\r",
      " 70%|██████▉   | 251/360 [03:40<01:30,  1.21it/s]"
     ]
    },
    {
     "name": "stdout",
     "output_type": "stream",
     "text": [
      "similarity of the two sentences:  tensor(0.9026, device='cuda:0')\n"
     ]
    },
    {
     "name": "stderr",
     "output_type": "stream",
     "text": [
      "\r",
      " 70%|███████   | 252/360 [03:41<01:29,  1.21it/s]"
     ]
    },
    {
     "name": "stdout",
     "output_type": "stream",
     "text": [
      "similarity of the two sentences:  tensor(0.9353, device='cuda:0')\n"
     ]
    },
    {
     "name": "stderr",
     "output_type": "stream",
     "text": [
      "\r",
      " 70%|███████   | 253/360 [03:42<01:28,  1.21it/s]"
     ]
    },
    {
     "name": "stdout",
     "output_type": "stream",
     "text": [
      "similarity of the two sentences:  tensor(0.9291, device='cuda:0')\n"
     ]
    },
    {
     "name": "stderr",
     "output_type": "stream",
     "text": [
      "\r",
      " 71%|███████   | 254/360 [03:43<01:27,  1.21it/s]"
     ]
    },
    {
     "name": "stdout",
     "output_type": "stream",
     "text": [
      "similarity of the two sentences:  tensor(1., device='cuda:0')\n"
     ]
    },
    {
     "name": "stderr",
     "output_type": "stream",
     "text": [
      "\r",
      " 71%|███████   | 255/360 [03:44<01:26,  1.21it/s]"
     ]
    },
    {
     "name": "stdout",
     "output_type": "stream",
     "text": [
      "similarity of the two sentences:  tensor(0.9990, device='cuda:0')\n"
     ]
    },
    {
     "name": "stderr",
     "output_type": "stream",
     "text": [
      "\r",
      " 71%|███████   | 256/360 [03:44<01:26,  1.21it/s]"
     ]
    },
    {
     "name": "stdout",
     "output_type": "stream",
     "text": [
      "similarity of the two sentences:  tensor(1.0000, device='cuda:0')\n"
     ]
    },
    {
     "name": "stderr",
     "output_type": "stream",
     "text": [
      "\r",
      " 71%|███████▏  | 257/360 [03:45<01:25,  1.21it/s]"
     ]
    },
    {
     "name": "stdout",
     "output_type": "stream",
     "text": [
      "similarity of the two sentences:  tensor(0.8731, device='cuda:0')\n"
     ]
    },
    {
     "name": "stderr",
     "output_type": "stream",
     "text": [
      "\r",
      " 72%|███████▏  | 258/360 [03:46<01:24,  1.21it/s]"
     ]
    },
    {
     "name": "stdout",
     "output_type": "stream",
     "text": [
      "similarity of the two sentences:  tensor(0.9022, device='cuda:0')\n"
     ]
    },
    {
     "name": "stderr",
     "output_type": "stream",
     "text": [
      "\r",
      " 72%|███████▏  | 259/360 [03:47<01:23,  1.21it/s]"
     ]
    },
    {
     "name": "stdout",
     "output_type": "stream",
     "text": [
      "similarity of the two sentences:  tensor(0.8159, device='cuda:0')\n"
     ]
    },
    {
     "name": "stderr",
     "output_type": "stream",
     "text": [
      "\r",
      " 72%|███████▏  | 260/360 [03:48<01:22,  1.21it/s]"
     ]
    },
    {
     "name": "stdout",
     "output_type": "stream",
     "text": [
      "similarity of the two sentences:  tensor(0.8035, device='cuda:0')\n"
     ]
    },
    {
     "name": "stderr",
     "output_type": "stream",
     "text": [
      "\r",
      " 72%|███████▎  | 261/360 [03:49<01:21,  1.21it/s]"
     ]
    },
    {
     "name": "stdout",
     "output_type": "stream",
     "text": [
      "similarity of the two sentences:  tensor(0.8793, device='cuda:0')\n"
     ]
    },
    {
     "name": "stderr",
     "output_type": "stream",
     "text": [
      "\r",
      " 73%|███████▎  | 262/360 [03:49<01:21,  1.21it/s]"
     ]
    },
    {
     "name": "stdout",
     "output_type": "stream",
     "text": [
      "similarity of the two sentences:  tensor(1., device='cuda:0')\n"
     ]
    },
    {
     "name": "stderr",
     "output_type": "stream",
     "text": [
      "\r",
      " 73%|███████▎  | 263/360 [03:50<01:20,  1.21it/s]"
     ]
    },
    {
     "name": "stdout",
     "output_type": "stream",
     "text": [
      "similarity of the two sentences:  tensor(0.8298, device='cuda:0')\n"
     ]
    },
    {
     "name": "stderr",
     "output_type": "stream",
     "text": [
      "\r",
      " 73%|███████▎  | 264/360 [03:51<01:19,  1.21it/s]"
     ]
    },
    {
     "name": "stdout",
     "output_type": "stream",
     "text": [
      "similarity of the two sentences:  tensor(0.9055, device='cuda:0')\n"
     ]
    },
    {
     "name": "stderr",
     "output_type": "stream",
     "text": [
      "\r",
      " 74%|███████▎  | 265/360 [03:52<01:18,  1.21it/s]"
     ]
    },
    {
     "name": "stdout",
     "output_type": "stream",
     "text": [
      "similarity of the two sentences:  tensor(0.8883, device='cuda:0')\n"
     ]
    },
    {
     "name": "stderr",
     "output_type": "stream",
     "text": [
      "\r",
      " 74%|███████▍  | 266/360 [03:53<01:17,  1.21it/s]"
     ]
    },
    {
     "name": "stdout",
     "output_type": "stream",
     "text": [
      "similarity of the two sentences:  tensor(1.0000, device='cuda:0')\n"
     ]
    },
    {
     "name": "stderr",
     "output_type": "stream",
     "text": [
      "\r",
      " 74%|███████▍  | 267/360 [03:54<01:16,  1.21it/s]"
     ]
    },
    {
     "name": "stdout",
     "output_type": "stream",
     "text": [
      "similarity of the two sentences:  tensor(0.9210, device='cuda:0')\n"
     ]
    },
    {
     "name": "stderr",
     "output_type": "stream",
     "text": [
      "\r",
      " 74%|███████▍  | 268/360 [03:54<01:16,  1.21it/s]"
     ]
    },
    {
     "name": "stdout",
     "output_type": "stream",
     "text": [
      "similarity of the two sentences:  tensor(1.0000, device='cuda:0')\n"
     ]
    },
    {
     "name": "stderr",
     "output_type": "stream",
     "text": [
      "\r",
      " 75%|███████▍  | 269/360 [03:55<01:15,  1.21it/s]"
     ]
    },
    {
     "name": "stdout",
     "output_type": "stream",
     "text": [
      "similarity of the two sentences:  tensor(1., device='cuda:0')\n"
     ]
    },
    {
     "name": "stderr",
     "output_type": "stream",
     "text": [
      "\r",
      " 75%|███████▌  | 270/360 [03:56<01:15,  1.20it/s]"
     ]
    },
    {
     "name": "stdout",
     "output_type": "stream",
     "text": [
      "similarity of the two sentences:  tensor(0.8917, device='cuda:0')\n"
     ]
    },
    {
     "name": "stderr",
     "output_type": "stream",
     "text": [
      "\r",
      " 75%|███████▌  | 271/360 [03:57<01:13,  1.20it/s]"
     ]
    },
    {
     "name": "stdout",
     "output_type": "stream",
     "text": [
      "similarity of the two sentences:  tensor(0.8509, device='cuda:0')\n"
     ]
    },
    {
     "name": "stderr",
     "output_type": "stream",
     "text": [
      "\r",
      " 76%|███████▌  | 272/360 [03:58<01:12,  1.21it/s]"
     ]
    },
    {
     "name": "stdout",
     "output_type": "stream",
     "text": [
      "similarity of the two sentences:  tensor(0.9800, device='cuda:0')\n"
     ]
    },
    {
     "name": "stderr",
     "output_type": "stream",
     "text": [
      "\r",
      " 76%|███████▌  | 273/360 [03:58<01:11,  1.21it/s]"
     ]
    },
    {
     "name": "stdout",
     "output_type": "stream",
     "text": [
      "similarity of the two sentences:  tensor(0.9209, device='cuda:0')\n"
     ]
    },
    {
     "name": "stderr",
     "output_type": "stream",
     "text": [
      "\r",
      " 76%|███████▌  | 274/360 [03:59<01:10,  1.21it/s]"
     ]
    },
    {
     "name": "stdout",
     "output_type": "stream",
     "text": [
      "similarity of the two sentences:  tensor(0.8642, device='cuda:0')\n"
     ]
    },
    {
     "name": "stderr",
     "output_type": "stream",
     "text": [
      "\r",
      " 76%|███████▋  | 275/360 [04:00<01:10,  1.21it/s]"
     ]
    },
    {
     "name": "stdout",
     "output_type": "stream",
     "text": [
      "similarity of the two sentences:  tensor(0.9578, device='cuda:0')\n"
     ]
    },
    {
     "name": "stderr",
     "output_type": "stream",
     "text": [
      "\r",
      " 77%|███████▋  | 276/360 [04:01<01:09,  1.21it/s]"
     ]
    },
    {
     "name": "stdout",
     "output_type": "stream",
     "text": [
      "similarity of the two sentences:  tensor(0.8650, device='cuda:0')\n"
     ]
    },
    {
     "name": "stderr",
     "output_type": "stream",
     "text": [
      "\r",
      " 77%|███████▋  | 277/360 [04:02<01:08,  1.21it/s]"
     ]
    },
    {
     "name": "stdout",
     "output_type": "stream",
     "text": [
      "similarity of the two sentences:  tensor(1., device='cuda:0')\n"
     ]
    },
    {
     "name": "stderr",
     "output_type": "stream",
     "text": [
      "\r",
      " 77%|███████▋  | 278/360 [04:03<01:07,  1.21it/s]"
     ]
    },
    {
     "name": "stdout",
     "output_type": "stream",
     "text": [
      "similarity of the two sentences:  tensor(0.8313, device='cuda:0')\n"
     ]
    },
    {
     "name": "stderr",
     "output_type": "stream",
     "text": [
      "\r",
      " 78%|███████▊  | 279/360 [04:03<01:07,  1.21it/s]"
     ]
    },
    {
     "name": "stdout",
     "output_type": "stream",
     "text": [
      "similarity of the two sentences:  tensor(1.0000, device='cuda:0')\n"
     ]
    },
    {
     "name": "stderr",
     "output_type": "stream",
     "text": [
      "\r",
      " 78%|███████▊  | 280/360 [04:04<01:06,  1.21it/s]"
     ]
    },
    {
     "name": "stdout",
     "output_type": "stream",
     "text": [
      "similarity of the two sentences:  tensor(0.9816, device='cuda:0')\n"
     ]
    },
    {
     "name": "stderr",
     "output_type": "stream",
     "text": [
      "\r",
      " 78%|███████▊  | 281/360 [04:05<01:05,  1.21it/s]"
     ]
    },
    {
     "name": "stdout",
     "output_type": "stream",
     "text": [
      "similarity of the two sentences:  tensor(0.9729, device='cuda:0')\n"
     ]
    },
    {
     "name": "stderr",
     "output_type": "stream",
     "text": [
      "\r",
      " 78%|███████▊  | 282/360 [04:06<01:04,  1.21it/s]"
     ]
    },
    {
     "name": "stdout",
     "output_type": "stream",
     "text": [
      "similarity of the two sentences:  tensor(1.0000, device='cuda:0')\n"
     ]
    },
    {
     "name": "stderr",
     "output_type": "stream",
     "text": [
      "\r",
      " 79%|███████▊  | 283/360 [04:07<01:03,  1.20it/s]"
     ]
    },
    {
     "name": "stdout",
     "output_type": "stream",
     "text": [
      "similarity of the two sentences:  tensor(0.9503, device='cuda:0')\n"
     ]
    },
    {
     "name": "stderr",
     "output_type": "stream",
     "text": [
      "\r",
      " 79%|███████▉  | 284/360 [04:08<01:03,  1.20it/s]"
     ]
    },
    {
     "name": "stdout",
     "output_type": "stream",
     "text": [
      "similarity of the two sentences:  tensor(0.8808, device='cuda:0')\n"
     ]
    },
    {
     "name": "stderr",
     "output_type": "stream",
     "text": [
      "\r",
      " 79%|███████▉  | 285/360 [04:08<01:02,  1.21it/s]"
     ]
    },
    {
     "name": "stdout",
     "output_type": "stream",
     "text": [
      "similarity of the two sentences:  tensor(0.9224, device='cuda:0')\n"
     ]
    },
    {
     "name": "stderr",
     "output_type": "stream",
     "text": [
      "\r",
      " 79%|███████▉  | 286/360 [04:09<01:01,  1.21it/s]"
     ]
    },
    {
     "name": "stdout",
     "output_type": "stream",
     "text": [
      "similarity of the two sentences:  tensor(0.9577, device='cuda:0')\n"
     ]
    },
    {
     "name": "stderr",
     "output_type": "stream",
     "text": [
      "\r",
      " 80%|███████▉  | 287/360 [04:10<01:00,  1.21it/s]"
     ]
    },
    {
     "name": "stdout",
     "output_type": "stream",
     "text": [
      "similarity of the two sentences:  tensor(0.9702, device='cuda:0')\n"
     ]
    },
    {
     "name": "stderr",
     "output_type": "stream",
     "text": [
      "\r",
      " 80%|████████  | 288/360 [04:11<00:59,  1.21it/s]"
     ]
    },
    {
     "name": "stdout",
     "output_type": "stream",
     "text": [
      "similarity of the two sentences:  tensor(0.9374, device='cuda:0')\n"
     ]
    },
    {
     "name": "stderr",
     "output_type": "stream",
     "text": [
      "\r",
      " 80%|████████  | 289/360 [04:12<00:58,  1.21it/s]"
     ]
    },
    {
     "name": "stdout",
     "output_type": "stream",
     "text": [
      "similarity of the two sentences:  tensor(0.9748, device='cuda:0')\n"
     ]
    },
    {
     "name": "stderr",
     "output_type": "stream",
     "text": [
      "\r",
      " 81%|████████  | 290/360 [04:13<00:58,  1.21it/s]"
     ]
    },
    {
     "name": "stdout",
     "output_type": "stream",
     "text": [
      "similarity of the two sentences:  tensor(0.9696, device='cuda:0')\n"
     ]
    },
    {
     "name": "stderr",
     "output_type": "stream",
     "text": [
      "\r",
      " 81%|████████  | 291/360 [04:13<00:57,  1.20it/s]"
     ]
    },
    {
     "name": "stdout",
     "output_type": "stream",
     "text": [
      "similarity of the two sentences:  tensor(1., device='cuda:0')\n"
     ]
    },
    {
     "name": "stderr",
     "output_type": "stream",
     "text": [
      "\r",
      " 81%|████████  | 292/360 [04:14<00:56,  1.20it/s]"
     ]
    },
    {
     "name": "stdout",
     "output_type": "stream",
     "text": [
      "similarity of the two sentences:  tensor(1., device='cuda:0')\n"
     ]
    },
    {
     "name": "stderr",
     "output_type": "stream",
     "text": [
      "\r",
      " 81%|████████▏ | 293/360 [04:15<00:55,  1.20it/s]"
     ]
    },
    {
     "name": "stdout",
     "output_type": "stream",
     "text": [
      "similarity of the two sentences:  tensor(0.8949, device='cuda:0')\n"
     ]
    },
    {
     "name": "stderr",
     "output_type": "stream",
     "text": [
      "\r",
      " 82%|████████▏ | 294/360 [04:16<00:54,  1.20it/s]"
     ]
    },
    {
     "name": "stdout",
     "output_type": "stream",
     "text": [
      "similarity of the two sentences:  tensor(0.8881, device='cuda:0')\n"
     ]
    },
    {
     "name": "stderr",
     "output_type": "stream",
     "text": [
      "\r",
      " 82%|████████▏ | 295/360 [04:17<00:54,  1.20it/s]"
     ]
    },
    {
     "name": "stdout",
     "output_type": "stream",
     "text": [
      "similarity of the two sentences:  tensor(0.8201, device='cuda:0')\n"
     ]
    },
    {
     "name": "stderr",
     "output_type": "stream",
     "text": [
      "\r",
      " 82%|████████▏ | 296/360 [04:18<00:53,  1.20it/s]"
     ]
    },
    {
     "name": "stdout",
     "output_type": "stream",
     "text": [
      "similarity of the two sentences:  tensor(1.0000, device='cuda:0')\n"
     ]
    },
    {
     "name": "stderr",
     "output_type": "stream",
     "text": [
      "\r",
      " 82%|████████▎ | 297/360 [04:18<00:52,  1.19it/s]"
     ]
    },
    {
     "name": "stdout",
     "output_type": "stream",
     "text": [
      "similarity of the two sentences:  tensor(0.9626, device='cuda:0')\n"
     ]
    },
    {
     "name": "stderr",
     "output_type": "stream",
     "text": [
      "\r",
      " 83%|████████▎ | 298/360 [04:19<00:51,  1.20it/s]"
     ]
    },
    {
     "name": "stdout",
     "output_type": "stream",
     "text": [
      "similarity of the two sentences:  tensor(0.9706, device='cuda:0')\n"
     ]
    },
    {
     "name": "stderr",
     "output_type": "stream",
     "text": [
      "\r",
      " 83%|████████▎ | 299/360 [04:20<00:50,  1.20it/s]"
     ]
    },
    {
     "name": "stdout",
     "output_type": "stream",
     "text": [
      "similarity of the two sentences:  tensor(0.8877, device='cuda:0')\n"
     ]
    },
    {
     "name": "stderr",
     "output_type": "stream",
     "text": [
      "\r",
      " 83%|████████▎ | 300/360 [04:21<00:50,  1.20it/s]"
     ]
    },
    {
     "name": "stdout",
     "output_type": "stream",
     "text": [
      "similarity of the two sentences:  tensor(0.9569, device='cuda:0')\n"
     ]
    },
    {
     "name": "stderr",
     "output_type": "stream",
     "text": [
      "\r",
      " 84%|████████▎ | 301/360 [04:22<00:49,  1.20it/s]"
     ]
    },
    {
     "name": "stdout",
     "output_type": "stream",
     "text": [
      "similarity of the two sentences:  tensor(0.8040, device='cuda:0')\n"
     ]
    },
    {
     "name": "stderr",
     "output_type": "stream",
     "text": [
      "\r",
      " 84%|████████▍ | 302/360 [04:23<00:48,  1.19it/s]"
     ]
    },
    {
     "name": "stdout",
     "output_type": "stream",
     "text": [
      "similarity of the two sentences:  tensor(0.9860, device='cuda:0')\n"
     ]
    },
    {
     "name": "stderr",
     "output_type": "stream",
     "text": [
      "\r",
      " 84%|████████▍ | 303/360 [04:23<00:47,  1.19it/s]"
     ]
    },
    {
     "name": "stdout",
     "output_type": "stream",
     "text": [
      "similarity of the two sentences:  tensor(0.8936, device='cuda:0')\n"
     ]
    },
    {
     "name": "stderr",
     "output_type": "stream",
     "text": [
      "\r",
      " 84%|████████▍ | 304/360 [04:24<00:46,  1.20it/s]"
     ]
    },
    {
     "name": "stdout",
     "output_type": "stream",
     "text": [
      "similarity of the two sentences:  tensor(0.9877, device='cuda:0')\n"
     ]
    },
    {
     "name": "stderr",
     "output_type": "stream",
     "text": [
      "\r",
      " 85%|████████▍ | 305/360 [04:25<00:45,  1.21it/s]"
     ]
    },
    {
     "name": "stdout",
     "output_type": "stream",
     "text": [
      "similarity of the two sentences:  tensor(0.9268, device='cuda:0')\n"
     ]
    },
    {
     "name": "stderr",
     "output_type": "stream",
     "text": [
      "\r",
      " 85%|████████▌ | 306/360 [04:26<00:45,  1.20it/s]"
     ]
    },
    {
     "name": "stdout",
     "output_type": "stream",
     "text": [
      "similarity of the two sentences:  tensor(0.8137, device='cuda:0')\n"
     ]
    },
    {
     "name": "stderr",
     "output_type": "stream",
     "text": [
      "\r",
      " 85%|████████▌ | 307/360 [04:27<00:44,  1.19it/s]"
     ]
    },
    {
     "name": "stdout",
     "output_type": "stream",
     "text": [
      "similarity of the two sentences:  tensor(0.8343, device='cuda:0')\n"
     ]
    },
    {
     "name": "stderr",
     "output_type": "stream",
     "text": [
      "\r",
      " 86%|████████▌ | 308/360 [04:28<00:43,  1.18it/s]"
     ]
    },
    {
     "name": "stdout",
     "output_type": "stream",
     "text": [
      "similarity of the two sentences:  tensor(0.9385, device='cuda:0')\n"
     ]
    },
    {
     "name": "stderr",
     "output_type": "stream",
     "text": [
      "\r",
      " 86%|████████▌ | 309/360 [04:29<00:43,  1.18it/s]"
     ]
    },
    {
     "name": "stdout",
     "output_type": "stream",
     "text": [
      "similarity of the two sentences:  tensor(1., device='cuda:0')\n"
     ]
    },
    {
     "name": "stderr",
     "output_type": "stream",
     "text": [
      "\r",
      " 86%|████████▌ | 310/360 [04:29<00:42,  1.18it/s]"
     ]
    },
    {
     "name": "stdout",
     "output_type": "stream",
     "text": [
      "similarity of the two sentences:  tensor(0.8172, device='cuda:0')\n"
     ]
    },
    {
     "name": "stderr",
     "output_type": "stream",
     "text": [
      "\r",
      " 86%|████████▋ | 311/360 [04:30<00:41,  1.18it/s]"
     ]
    },
    {
     "name": "stdout",
     "output_type": "stream",
     "text": [
      "similarity of the two sentences:  tensor(0.8879, device='cuda:0')\n"
     ]
    },
    {
     "name": "stderr",
     "output_type": "stream",
     "text": [
      "\r",
      " 87%|████████▋ | 312/360 [04:31<00:40,  1.19it/s]"
     ]
    },
    {
     "name": "stdout",
     "output_type": "stream",
     "text": [
      "similarity of the two sentences:  tensor(0.8104, device='cuda:0')\n"
     ]
    },
    {
     "name": "stderr",
     "output_type": "stream",
     "text": [
      "\r",
      " 87%|████████▋ | 313/360 [04:32<00:39,  1.19it/s]"
     ]
    },
    {
     "name": "stdout",
     "output_type": "stream",
     "text": [
      "similarity of the two sentences:  tensor(1., device='cuda:0')\n"
     ]
    },
    {
     "name": "stderr",
     "output_type": "stream",
     "text": [
      "\r",
      " 87%|████████▋ | 314/360 [04:33<00:38,  1.20it/s]"
     ]
    },
    {
     "name": "stdout",
     "output_type": "stream",
     "text": [
      "similarity of the two sentences:  tensor(0.9196, device='cuda:0')\n"
     ]
    },
    {
     "name": "stderr",
     "output_type": "stream",
     "text": [
      "\r",
      " 88%|████████▊ | 315/360 [04:34<00:38,  1.18it/s]"
     ]
    },
    {
     "name": "stdout",
     "output_type": "stream",
     "text": [
      "similarity of the two sentences:  tensor(0.9571, device='cuda:0')\n"
     ]
    },
    {
     "name": "stderr",
     "output_type": "stream",
     "text": [
      "\r",
      " 88%|████████▊ | 316/360 [04:35<00:39,  1.13it/s]"
     ]
    },
    {
     "name": "stdout",
     "output_type": "stream",
     "text": [
      "similarity of the two sentences:  tensor(0.8347, device='cuda:0')\n"
     ]
    },
    {
     "name": "stderr",
     "output_type": "stream",
     "text": [
      "\r",
      " 88%|████████▊ | 317/360 [04:35<00:38,  1.13it/s]"
     ]
    },
    {
     "name": "stdout",
     "output_type": "stream",
     "text": [
      "similarity of the two sentences:  tensor(0.8714, device='cuda:0')\n"
     ]
    },
    {
     "name": "stderr",
     "output_type": "stream",
     "text": [
      "\r",
      " 88%|████████▊ | 318/360 [04:36<00:36,  1.14it/s]"
     ]
    },
    {
     "name": "stdout",
     "output_type": "stream",
     "text": [
      "similarity of the two sentences:  tensor(0.8044, device='cuda:0')\n"
     ]
    },
    {
     "name": "stderr",
     "output_type": "stream",
     "text": [
      "\r",
      " 89%|████████▊ | 319/360 [04:37<00:35,  1.16it/s]"
     ]
    },
    {
     "name": "stdout",
     "output_type": "stream",
     "text": [
      "similarity of the two sentences:  tensor(1.0000, device='cuda:0')\n"
     ]
    },
    {
     "name": "stderr",
     "output_type": "stream",
     "text": [
      "\r",
      " 89%|████████▉ | 320/360 [04:38<00:34,  1.17it/s]"
     ]
    },
    {
     "name": "stdout",
     "output_type": "stream",
     "text": [
      "similarity of the two sentences:  tensor(0.9854, device='cuda:0')\n"
     ]
    },
    {
     "name": "stderr",
     "output_type": "stream",
     "text": [
      "\r",
      " 89%|████████▉ | 321/360 [04:39<00:33,  1.18it/s]"
     ]
    },
    {
     "name": "stdout",
     "output_type": "stream",
     "text": [
      "similarity of the two sentences:  tensor(1., device='cuda:0')\n"
     ]
    },
    {
     "name": "stderr",
     "output_type": "stream",
     "text": [
      "\r",
      " 89%|████████▉ | 322/360 [04:40<00:32,  1.18it/s]"
     ]
    },
    {
     "name": "stdout",
     "output_type": "stream",
     "text": [
      "similarity of the two sentences:  tensor(0.9329, device='cuda:0')\n"
     ]
    },
    {
     "name": "stderr",
     "output_type": "stream",
     "text": [
      "\r",
      " 90%|████████▉ | 323/360 [04:40<00:31,  1.19it/s]"
     ]
    },
    {
     "name": "stdout",
     "output_type": "stream",
     "text": [
      "similarity of the two sentences:  tensor(0.8414, device='cuda:0')\n"
     ]
    },
    {
     "name": "stderr",
     "output_type": "stream",
     "text": [
      "\r",
      " 90%|█████████ | 324/360 [04:41<00:30,  1.19it/s]"
     ]
    },
    {
     "name": "stdout",
     "output_type": "stream",
     "text": [
      "similarity of the two sentences:  tensor(1.0000, device='cuda:0')\n"
     ]
    },
    {
     "name": "stderr",
     "output_type": "stream",
     "text": [
      "\r",
      " 90%|█████████ | 325/360 [04:42<00:29,  1.19it/s]"
     ]
    },
    {
     "name": "stdout",
     "output_type": "stream",
     "text": [
      "similarity of the two sentences:  tensor(0.8478, device='cuda:0')\n"
     ]
    },
    {
     "name": "stderr",
     "output_type": "stream",
     "text": [
      "\r",
      " 91%|█████████ | 326/360 [04:43<00:28,  1.20it/s]"
     ]
    },
    {
     "name": "stdout",
     "output_type": "stream",
     "text": [
      "similarity of the two sentences:  tensor(0.9372, device='cuda:0')\n"
     ]
    },
    {
     "name": "stderr",
     "output_type": "stream",
     "text": [
      "\r",
      " 91%|█████████ | 327/360 [04:44<00:27,  1.20it/s]"
     ]
    },
    {
     "name": "stdout",
     "output_type": "stream",
     "text": [
      "similarity of the two sentences:  tensor(0.9419, device='cuda:0')\n"
     ]
    },
    {
     "name": "stderr",
     "output_type": "stream",
     "text": [
      "\r",
      " 91%|█████████ | 328/360 [04:45<00:26,  1.20it/s]"
     ]
    },
    {
     "name": "stdout",
     "output_type": "stream",
     "text": [
      "similarity of the two sentences:  tensor(0.8864, device='cuda:0')\n"
     ]
    },
    {
     "name": "stderr",
     "output_type": "stream",
     "text": [
      "\r",
      " 91%|█████████▏| 329/360 [04:45<00:25,  1.19it/s]"
     ]
    },
    {
     "name": "stdout",
     "output_type": "stream",
     "text": [
      "similarity of the two sentences:  tensor(0.8761, device='cuda:0')\n"
     ]
    },
    {
     "name": "stderr",
     "output_type": "stream",
     "text": [
      "\r",
      " 92%|█████████▏| 330/360 [04:46<00:25,  1.19it/s]"
     ]
    },
    {
     "name": "stdout",
     "output_type": "stream",
     "text": [
      "similarity of the two sentences:  tensor(0.9682, device='cuda:0')\n"
     ]
    },
    {
     "name": "stderr",
     "output_type": "stream",
     "text": [
      "\r",
      " 92%|█████████▏| 331/360 [04:47<00:24,  1.18it/s]"
     ]
    },
    {
     "name": "stdout",
     "output_type": "stream",
     "text": [
      "similarity of the two sentences:  tensor(0.9616, device='cuda:0')\n"
     ]
    },
    {
     "name": "stderr",
     "output_type": "stream",
     "text": [
      "\r",
      " 92%|█████████▏| 332/360 [04:48<00:23,  1.18it/s]"
     ]
    },
    {
     "name": "stdout",
     "output_type": "stream",
     "text": [
      "similarity of the two sentences:  tensor(0.8048, device='cuda:0')\n"
     ]
    },
    {
     "name": "stderr",
     "output_type": "stream",
     "text": [
      "\r",
      " 92%|█████████▎| 333/360 [04:49<00:22,  1.17it/s]"
     ]
    },
    {
     "name": "stdout",
     "output_type": "stream",
     "text": [
      "similarity of the two sentences:  tensor(0.8326, device='cuda:0')\n"
     ]
    },
    {
     "name": "stderr",
     "output_type": "stream",
     "text": [
      "\r",
      " 93%|█████████▎| 334/360 [04:50<00:22,  1.17it/s]"
     ]
    },
    {
     "name": "stdout",
     "output_type": "stream",
     "text": [
      "similarity of the two sentences:  tensor(0.8266, device='cuda:0')\n"
     ]
    },
    {
     "name": "stderr",
     "output_type": "stream",
     "text": [
      "\r",
      " 93%|█████████▎| 335/360 [04:51<00:21,  1.17it/s]"
     ]
    },
    {
     "name": "stdout",
     "output_type": "stream",
     "text": [
      "similarity of the two sentences:  tensor(0.9277, device='cuda:0')\n"
     ]
    },
    {
     "name": "stderr",
     "output_type": "stream",
     "text": [
      "\r",
      " 93%|█████████▎| 336/360 [04:51<00:20,  1.17it/s]"
     ]
    },
    {
     "name": "stdout",
     "output_type": "stream",
     "text": [
      "similarity of the two sentences:  tensor(0.8800, device='cuda:0')\n"
     ]
    },
    {
     "name": "stderr",
     "output_type": "stream",
     "text": [
      "\r",
      " 94%|█████████▎| 337/360 [04:52<00:19,  1.17it/s]"
     ]
    },
    {
     "name": "stdout",
     "output_type": "stream",
     "text": [
      "similarity of the two sentences:  tensor(0.9102, device='cuda:0')\n"
     ]
    },
    {
     "name": "stderr",
     "output_type": "stream",
     "text": [
      "\r",
      " 94%|█████████▍| 338/360 [04:53<00:18,  1.18it/s]"
     ]
    },
    {
     "name": "stdout",
     "output_type": "stream",
     "text": [
      "similarity of the two sentences:  tensor(0.9573, device='cuda:0')\n"
     ]
    },
    {
     "name": "stderr",
     "output_type": "stream",
     "text": [
      "\r",
      " 94%|█████████▍| 339/360 [04:54<00:17,  1.19it/s]"
     ]
    },
    {
     "name": "stdout",
     "output_type": "stream",
     "text": [
      "similarity of the two sentences:  tensor(0.8763, device='cuda:0')\n"
     ]
    },
    {
     "name": "stderr",
     "output_type": "stream",
     "text": [
      "\r",
      " 94%|█████████▍| 340/360 [04:55<00:16,  1.20it/s]"
     ]
    },
    {
     "name": "stdout",
     "output_type": "stream",
     "text": [
      "similarity of the two sentences:  tensor(1.0000, device='cuda:0')\n"
     ]
    },
    {
     "name": "stderr",
     "output_type": "stream",
     "text": [
      "\r",
      " 95%|█████████▍| 341/360 [04:56<00:15,  1.20it/s]"
     ]
    },
    {
     "name": "stdout",
     "output_type": "stream",
     "text": [
      "similarity of the two sentences:  tensor(0.9479, device='cuda:0')\n"
     ]
    },
    {
     "name": "stderr",
     "output_type": "stream",
     "text": [
      "\r",
      " 95%|█████████▌| 342/360 [04:56<00:14,  1.20it/s]"
     ]
    },
    {
     "name": "stdout",
     "output_type": "stream",
     "text": [
      "similarity of the two sentences:  tensor(1.0000, device='cuda:0')\n"
     ]
    },
    {
     "name": "stderr",
     "output_type": "stream",
     "text": [
      "\r",
      " 95%|█████████▌| 343/360 [04:57<00:14,  1.20it/s]"
     ]
    },
    {
     "name": "stdout",
     "output_type": "stream",
     "text": [
      "similarity of the two sentences:  tensor(0.9394, device='cuda:0')\n"
     ]
    },
    {
     "name": "stderr",
     "output_type": "stream",
     "text": [
      "\r",
      " 96%|█████████▌| 344/360 [04:58<00:13,  1.21it/s]"
     ]
    },
    {
     "name": "stdout",
     "output_type": "stream",
     "text": [
      "similarity of the two sentences:  tensor(0.8980, device='cuda:0')\n"
     ]
    },
    {
     "name": "stderr",
     "output_type": "stream",
     "text": [
      "\r",
      " 96%|█████████▌| 345/360 [04:59<00:12,  1.21it/s]"
     ]
    },
    {
     "name": "stdout",
     "output_type": "stream",
     "text": [
      "similarity of the two sentences:  tensor(0.9737, device='cuda:0')\n"
     ]
    },
    {
     "name": "stderr",
     "output_type": "stream",
     "text": [
      "\r",
      " 96%|█████████▌| 346/360 [05:00<00:11,  1.21it/s]"
     ]
    },
    {
     "name": "stdout",
     "output_type": "stream",
     "text": [
      "similarity of the two sentences:  tensor(1.0000, device='cuda:0')\n"
     ]
    },
    {
     "name": "stderr",
     "output_type": "stream",
     "text": [
      "\r",
      " 96%|█████████▋| 347/360 [05:01<00:10,  1.22it/s]"
     ]
    },
    {
     "name": "stdout",
     "output_type": "stream",
     "text": [
      "similarity of the two sentences:  tensor(0.8815, device='cuda:0')\n"
     ]
    },
    {
     "name": "stderr",
     "output_type": "stream",
     "text": [
      "\r",
      " 97%|█████████▋| 348/360 [05:01<00:09,  1.22it/s]"
     ]
    },
    {
     "name": "stdout",
     "output_type": "stream",
     "text": [
      "similarity of the two sentences:  tensor(1.0000, device='cuda:0')\n"
     ]
    },
    {
     "name": "stderr",
     "output_type": "stream",
     "text": [
      "\r",
      " 97%|█████████▋| 349/360 [05:02<00:09,  1.22it/s]"
     ]
    },
    {
     "name": "stdout",
     "output_type": "stream",
     "text": [
      "similarity of the two sentences:  tensor(0.8370, device='cuda:0')\n"
     ]
    },
    {
     "name": "stderr",
     "output_type": "stream",
     "text": [
      "\r",
      " 97%|█████████▋| 350/360 [05:03<00:08,  1.22it/s]"
     ]
    },
    {
     "name": "stdout",
     "output_type": "stream",
     "text": [
      "similarity of the two sentences:  tensor(1.0000, device='cuda:0')\n"
     ]
    },
    {
     "name": "stderr",
     "output_type": "stream",
     "text": [
      "\r",
      " 98%|█████████▊| 351/360 [05:04<00:07,  1.21it/s]"
     ]
    },
    {
     "name": "stdout",
     "output_type": "stream",
     "text": [
      "similarity of the two sentences:  tensor(1.0000, device='cuda:0')\n"
     ]
    },
    {
     "name": "stderr",
     "output_type": "stream",
     "text": [
      "\r",
      " 98%|█████████▊| 352/360 [05:05<00:06,  1.21it/s]"
     ]
    },
    {
     "name": "stdout",
     "output_type": "stream",
     "text": [
      "similarity of the two sentences:  tensor(0.8988, device='cuda:0')\n"
     ]
    },
    {
     "name": "stderr",
     "output_type": "stream",
     "text": [
      "\r",
      " 98%|█████████▊| 353/360 [05:05<00:05,  1.21it/s]"
     ]
    },
    {
     "name": "stdout",
     "output_type": "stream",
     "text": [
      "similarity of the two sentences:  tensor(0.9848, device='cuda:0')\n"
     ]
    },
    {
     "name": "stderr",
     "output_type": "stream",
     "text": [
      "\r",
      " 98%|█████████▊| 354/360 [05:06<00:04,  1.21it/s]"
     ]
    },
    {
     "name": "stdout",
     "output_type": "stream",
     "text": [
      "similarity of the two sentences:  tensor(0.9847, device='cuda:0')\n"
     ]
    },
    {
     "name": "stderr",
     "output_type": "stream",
     "text": [
      "\r",
      " 99%|█████████▊| 355/360 [05:07<00:04,  1.21it/s]"
     ]
    },
    {
     "name": "stdout",
     "output_type": "stream",
     "text": [
      "similarity of the two sentences:  tensor(0.9313, device='cuda:0')\n"
     ]
    },
    {
     "name": "stderr",
     "output_type": "stream",
     "text": [
      "\r",
      " 99%|█████████▉| 356/360 [05:08<00:03,  1.21it/s]"
     ]
    },
    {
     "name": "stdout",
     "output_type": "stream",
     "text": [
      "similarity of the two sentences:  tensor(0.8289, device='cuda:0')\n"
     ]
    },
    {
     "name": "stderr",
     "output_type": "stream",
     "text": [
      "\r",
      " 99%|█████████▉| 357/360 [05:09<00:02,  1.21it/s]"
     ]
    },
    {
     "name": "stdout",
     "output_type": "stream",
     "text": [
      "similarity of the two sentences:  tensor(0.8469, device='cuda:0')\n"
     ]
    },
    {
     "name": "stderr",
     "output_type": "stream",
     "text": [
      "\r",
      " 99%|█████████▉| 358/360 [05:10<00:01,  1.21it/s]"
     ]
    },
    {
     "name": "stdout",
     "output_type": "stream",
     "text": [
      "similarity of the two sentences:  tensor(0.9302, device='cuda:0')\n"
     ]
    },
    {
     "name": "stderr",
     "output_type": "stream",
     "text": [
      "\r",
      "100%|█████████▉| 359/360 [05:10<00:00,  1.21it/s]"
     ]
    },
    {
     "name": "stdout",
     "output_type": "stream",
     "text": [
      "similarity of the two sentences:  tensor(0.9962, device='cuda:0')\n"
     ]
    },
    {
     "name": "stderr",
     "output_type": "stream",
     "text": [
      "100%|██████████| 360/360 [05:11<00:00,  1.15it/s]"
     ]
    },
    {
     "name": "stdout",
     "output_type": "stream",
     "text": [
      "similarity of the two sentences:  tensor(1., device='cuda:0')\n",
      "similarity socre : tensor(0.9329, device='cuda:0')\n",
      "grammar socre out: 0.8610641021281481\n",
      "grammar socre orig: 0.8771238993025489\n",
      "simplicity socre outpu: 0.30273295936899053\n",
      "simplicity socre orig: 0.18939467115948597\n",
      "simplicity socre orig: 0.18939467115948597\n",
      "len output: 18.92222222222222\n",
      "len orig: 23.163888888888888\n"
     ]
    },
    {
     "name": "stderr",
     "output_type": "stream",
     "text": [
      "\n"
     ]
    }
   ],
   "source": [
    "from tqdm import tqdm\n",
    "\n",
    "root_path = '/home/m25dehgh/simplification/controllable-simplification/src/Wikilarge/output'\n",
    "asset_path= \"/home/m25dehgh/simplification/datasets/asset/dataset\"\n",
    "\n",
    "orig_path = asset_path + '/' + \"asset.test.norm.orig\"\n",
    "out_path = root_path + '/' + \"/dl:1.25-par:1-asset-mp:80+gV3:67+ent:0.txt\" # sari : 36.07\n",
    "\n",
    "assess(out_path, orig_path)"
   ]
  },
  {
   "cell_type": "code",
   "execution_count": 6,
   "metadata": {
    "pycharm": {
     "name": "#%%\n"
    }
   },
   "outputs": [
    {
     "data": {
      "text/plain": [
       "'before the advent of the pocket calculator it was the most commonly used calculation tool in science and engineering .'"
      ]
     },
     "execution_count": 6,
     "metadata": {},
     "output_type": "execute_result"
    }
   ],
   "source": [
    "from nltk.parse.corenlp import CoreNLPParser\n",
    "parser = CoreNLPParser('http://localhost:9000')\n",
    "\n",
    "\n",
    "# sent = 'one side of the armed conflicts is composed mainly of the sudanese military and the janjaweed, a sudanese militia group recruited mostly from the afro-arab abbala tribes of the northern rizeigat region in sudan.'\n",
    "# sent = \"Jeddah is the principal gateway to Mecca, Islam's holiest city, which able-bodied Muslims are required to visit at least once in their lifetime.\"\n",
    "# sent = \"Since 2000, the recipient of the Kate Greenaway Medal has also been presented with the Colin Mears Award to the value of £5000.\"\n",
    "sent = \"It was originally thought that the debris thrown up by the collision filled in the smaller craters.\"\n",
    "# sent = \"The Great Dark Spot is thought to represent a hole in the methane cloud deck of Neptune.\" \n",
    "# sent = \"The great dark spot is thought to be a hole in the methane cloud deck of neptune\"\n",
    "# sent = \"below are some useful links to facilitate your involvement .\"\n",
    "# sent = \"one side of the armed conflict consists mainly of the sudanese army and the janjaweed of one of the sudanese militia groups .\"\n",
    "# sent = \"below are some useful links to facilitate your involvement .\"\n",
    "# sent = \"none of the authors , contributors , sponsors , administrators , vandals , or anyone else connected with wikipedia , in any way whatsoever , can be responsible for your use of the information contained in or linked from these web pages .\"\n",
    "# sent = 'They are culturally akin to the coastal peoples of Papua New Guinea.'\n",
    "# sent = 'this was demonstrated in the miller-urey experiment by stanley Miller and Harold in 1953 .'\n",
    "# sent = 'this was shown in the Miller - Urey experiment by stanley Miller and Harold in 1953 .'\n",
    "sent = 'Kindle 2 characteristics 16 levels of grayscale enhanced 20 faster page refurbishment of text for speech reading the text aloud and overall thickness reduced from 08 to 036 inches of lrb 91 mm rrb.'\n",
    "sent = 'furthermore, she appeared in several music videos, including \"it girl\" by john oates and \"just lose it\" by eminem.'\n",
    "sent = 'before the advent of the pocket calculator it was the most commonly used calculation tool in science and engineering .'\n",
    "# sent = 'Before proceeding with the pocket calculator, it was the most commonly used computation tool in science and engineering'\n",
    "# sent = 'in late 2004  suleman made headlines by cutting s radio show from four citadel stations  citing stern  s frequent discussions regarding his upcoming move to sirius satellite radio .'\n",
    "\n",
    "sent = all_norms(sent)\n",
    "tree = next(parser.raw_parse(sent))\n",
    "sent\n",
    "\n"
   ]
  },
  {
   "cell_type": "code",
   "execution_count": 56,
   "metadata": {},
   "outputs": [
    {
     "name": "stdout",
     "output_type": "stream",
     "text": [
      "{'clip': 50, 'lr': 0.001, 'num_steps': 87, 'threshold': {'ls': 0.8, 'dl': 1.1, 'las': 3.0, 'rl': 1.25, 'par': 1.1}, 'epochs': 100, 'set': 'test', 'lm_name': 'Wikilarge/structured_lm_forward_300_150_0_4_freq5', 'use_structural_as_standard': False, 'lm_backward': False, 'embedding_dim': 300, 'tag_dim': 150, 'dep_dim': 150, 'hidden_size': 256, 'num_layers': 2, 'freq': 0, 'min_length': 100, 'dataset': 'Wikilarge', 'ver': 'glove.6B.', 'dropout': 0.4, 'batch_size': 64, 'print_every': 100, 'MAX_LENGTH': 85, 'double_LM': False, 'gpu': 1, 'awd': False, 'file_name': 'Wikilarge/output/simplifications.txt', 'fre': True, 'SLOR': True, 'beam_size': 1, 'elmo': False, 'min_length_of_edited_sent': 6, 'lexical_simplification': False, 'constrained_paraphrasing': True, 'delete_leaves': True, 'leaves_as_sent': False, 'reorder_leaves': False, 'check_min_length': True, 'cos_similarity_threshold': 0.5, 'cos_value_for_synonym_acceptance': 0.5, 'min_idf_value_for_ls': 11, 'sentence_probability_power': 1.0, 'named_entity_score_power': 1.0, 'len_power': 0.25, 'fre_power': 1.0, 'operation': 'sample'}\n"
     ]
    }
   ],
   "source": [
    "import utils\n",
    "importlib.reload(sys.modules['utils'])\n",
    "from utils import *"
   ]
  },
  {
   "cell_type": "code",
   "execution_count": 4,
   "metadata": {
    "scrolled": true
   },
   "outputs": [
    {
     "name": "stdout",
     "output_type": "stream",
     "text": [
      "2004\n",
      "four\n"
     ]
    },
    {
     "ename": "NameError",
     "evalue": "name 'stemmer' is not defined",
     "output_type": "error",
     "traceback": [
      "\u001b[0;31m---------------------------------------------------------------------------\u001b[0m",
      "\u001b[0;31mNameError\u001b[0m                                 Traceback (most recent call last)",
      "\u001b[0;32m<ipython-input-4-c7ac2ae3cdf0>\u001b[0m in \u001b[0;36m<module>\u001b[0;34m\u001b[0m\n\u001b[1;32m      6\u001b[0m     \u001b[0mprint\u001b[0m\u001b[0;34m(\u001b[0m\u001b[0ment\u001b[0m\u001b[0;34m.\u001b[0m\u001b[0mtext\u001b[0m\u001b[0;34m)\u001b[0m\u001b[0;34m\u001b[0m\u001b[0;34m\u001b[0m\u001b[0m\n\u001b[1;32m      7\u001b[0m \u001b[0;34m\u001b[0m\u001b[0m\n\u001b[0;32m----> 8\u001b[0;31m \u001b[0mprint\u001b[0m\u001b[0;34m(\u001b[0m\u001b[0mparaph\u001b[0m\u001b[0;34m(\u001b[0m\u001b[0msent\u001b[0m\u001b[0;34m,\u001b[0m \u001b[0;34m\"advent\"\u001b[0m\u001b[0;34m,\u001b[0m \u001b[0mentits\u001b[0m\u001b[0;34m,\u001b[0m \u001b[0mstemmer\u001b[0m\u001b[0;34m,\u001b[0m \u001b[0mrest_pos_const\u001b[0m\u001b[0;34m=\u001b[0m\u001b[0;32mFalse\u001b[0m\u001b[0;34m)\u001b[0m\u001b[0;34m)\u001b[0m\u001b[0;34m\u001b[0m\u001b[0;34m\u001b[0m\u001b[0m\n\u001b[0m\u001b[1;32m      9\u001b[0m \u001b[0;34m\u001b[0m\u001b[0m\n\u001b[1;32m     10\u001b[0m \u001b[0;34m\u001b[0m\u001b[0m\n",
      "\u001b[0;31mNameError\u001b[0m: name 'stemmer' is not defined"
     ]
    }
   ],
   "source": [
    "\n",
    "doc = nlp(sent)\n",
    "entits = []\n",
    "\n",
    "for ent in doc.ents:\n",
    "    entits.append(ent.text)\n",
    "    print(ent.text)\n",
    "    \n",
    "print(paraph(sent, \"advent\", entits, stemmer, rest_pos_const=False))\n",
    "\n",
    "\n",
    "\n",
    "# ans"
   ]
  },
  {
   "cell_type": "code",
   "execution_count": 8,
   "metadata": {
    "pycharm": {
     "name": "#%%\n"
    }
   },
   "outputs": [
    {
     "name": "stdout",
     "output_type": "stream",
     "text": [
      "neg constraints:  advent proceeding\n",
      "entities are:  ['2004', 'four']\n",
      "input:  before the advent of the pocket calculator it was the most commonly used calculation tool in science and engineering ..\tadvent|proceeding\t\n"
     ]
    },
    {
     "data": {
      "text/plain": [
       "'Before the development of the pocket calculator, it was the most commonly used computation tool in science and engineering...\\n'"
      ]
     },
     "execution_count": 8,
     "metadata": {},
     "output_type": "execute_result"
    }
   ],
   "source": [
    "const_paraph(all_norms(sent), [\"advent\", \"proceeding\"] , entits, rest_pos_const=False)"
   ]
  },
  {
   "cell_type": "code",
   "execution_count": 5,
   "metadata": {},
   "outputs": [],
   "source": [
    "import transformers\n",
    "from transformers import DebertaForSequenceClassification, Trainer, TrainingArguments, DebertaTokenizerFast\n",
    "\n",
    "root = \"/home/m25dehgh/simplification/complex-classifier\"\n",
    "model_name = \"newsela-auto-high-quality\"\n",
    "path_model = root + '/results' + '/' + model_name + \"/whole-high-quality/checkpoint-44361/\"\n",
    "comp_simp_class_model = DebertaForSequenceClassification.from_pretrained(path_model)\n",
    "tokenizer = DebertaTokenizerFast.from_pretrained('microsoft/deberta-base')"
   ]
  },
  {
   "cell_type": "code",
   "execution_count": 55,
   "metadata": {},
   "outputs": [],
   "source": [
    "\n",
    "def get_model_out(model, tokenizer, sent):\n",
    "    \"returns a dict contaiting : attention mat for all layers, tokens of the input sent, complexity probability\"\n",
    "\n",
    "    device = torch.device(\"cuda:0\" if torch.cuda.is_available() else \"cpu\")  \n",
    "\n",
    "    model.to(device)\n",
    "    model.eval()\n",
    "    \n",
    "    toks = tokenizer(text = sent, truncation=True, padding=True, max_length = 100, return_tensors='pt')\n",
    "    \n",
    "    input_ids = toks['input_ids'].to(device)\n",
    "    attention_mask = toks['attention_mask'].to(device)\n",
    "    token_type_ids=toks['token_type_ids'].to(device)\n",
    "    output = model(input_ids, attention_mask=attention_mask, token_type_ids=token_type_ids, output_attentions = True, return_dict = True)\n",
    "\n",
    "    tokens = tokenizer.convert_ids_to_tokens(input_ids.squeeze())\n",
    "    attention = output.attentions\n",
    "    \n",
    "    out = {\"attention\": attention, \"tokens\": tokens, \"prob\": output.logits.squeeze().softmax(dim=0)[1].item()}\n",
    "    \n",
    "    return out\n",
    "\n",
    "def comp_extract(sent, comp_simp_class_model, tokenizer):\n",
    "    'extracting complex tokens from'\n",
    "    \n",
    "    out = get_model_out(comp_simp_class_model, tokenizer, sent)\n",
    "    attention = out['attention']\n",
    "    tokens = out['tokens']\n",
    "    prob = out[\"prob\"]\n",
    "\n",
    "    layer = 1\n",
    "    CLS_attended_tokens = attention[layer].sum(dim=1)[0][0].topk(10)\n",
    "    # [tokens[i] if for i in CLS_attended_tokens[1]], attention[layer].sum(dim=1)[0][0].topk(10)[0]\n",
    "\n",
    "    more_than_thresh = []\n",
    "    less_than_thresh = []\n",
    "    thresh = attention[layer].sum(dim=1)[0][0].mean() * 3/2\n",
    "\n",
    "    for i in range(len(CLS_attended_tokens[0])):\n",
    "        if CLS_attended_tokens[0][i] > thresh:\n",
    "            more_than_thresh.append(tokens[CLS_attended_tokens[1][i]])\n",
    "        else:\n",
    "            less_than_thresh.append(tokens[CLS_attended_tokens[1][i]])\n",
    "    \n",
    "    extracted_comps = {\"comp_toks\": more_than_thresh, \n",
    "                       \"not_comp_toks\": less_than_thresh,\n",
    "                       \"threshold\": thresh.item(),\n",
    "                       \"attention\": attention,\n",
    "                       'tokens': tokens,\n",
    "                       'prob': prob,\n",
    "                      }\n",
    "    return extracted_comps\n",
    "\n",
    "\n",
    "def word_from_toks(comp_toks, tokens):\n",
    "    '''returns words for negative constraints'''\n",
    "\n",
    "    # maximum number of accepted negative constraints\n",
    "    max_num_accepted_consts = 4\n",
    "    negs = []\n",
    "    special_toks = ['[SEP]', '[CLS]', '.', 'Ġ.']\n",
    "    \n",
    "    for tok in comp_toks:\n",
    "        \n",
    "        # Each token should be a word, not a part of word\n",
    "        if tok[0] == 'Ġ' and tok not in special_toks:\n",
    "        \n",
    "            # first word is usually selected mistakably so we do not pass it to the paraphraser\n",
    "            if tokens.index(tok) + 1 != len(tokens) and tokens.index(tok) != 1: \n",
    "        \n",
    "                # We want the token be single word, not a starting part of a word\n",
    "                if tokens[tokens.index(tok) + 1][0] == 'Ġ':\n",
    "                    negs.append(tok[1:])\n",
    "\n",
    "    new_neg = []\n",
    "    # adding all words with similar root \n",
    "    for tok in negs[:max_num_accepted_consts]:\n",
    "        new_neg += lexeme(tok)\n",
    "    \n",
    "    return new_neg"
   ]
  }
 ],
 "metadata": {
  "kernelspec": {
   "display_name": "simpenv38",
   "language": "python",
   "name": "simpenv38"
  },
  "language_info": {
   "codemirror_mode": {
    "name": "ipython",
    "version": 3
   },
   "file_extension": ".py",
   "mimetype": "text/x-python",
   "name": "python",
   "nbconvert_exporter": "python",
   "pygments_lexer": "ipython3",
   "version": "3.8.5"
  }
 },
 "nbformat": 4,
 "nbformat_minor": 1
}

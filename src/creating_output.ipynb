{
 "cells": [
  {
   "cell_type": "code",
   "execution_count": 1,
   "metadata": {
    "pycharm": {
     "name": "#%%\n"
    }
   },
   "outputs": [
    {
     "data": {
      "text/plain": [
       "<torch.cuda.device at 0x7f3c24d42f40>"
      ]
     },
     "execution_count": 1,
     "metadata": {},
     "output_type": "execute_result"
    }
   ],
   "source": [
    "import torch\n",
    "\n",
    "torch.cuda.device(0)"
   ]
  },
  {
   "cell_type": "code",
   "execution_count": 3,
   "metadata": {},
   "outputs": [],
   "source": [
    "! ref_dir=/home/m25dehgh/simplification/datasets/asset/dataset\n",
    "! orig=$ref_dir/asset.test.norm.orig\n",
    "! ref=$ref_dir/asset.test.norm.simp\n",
    "! output=/home/m25dehgh/simplification/controllable-simplification/src/Wikilarge/output/dl:1-par:1-asset-mp.txt"
   ]
  },
  {
   "cell_type": "code",
   "execution_count": 9,
   "metadata": {
    "pycharm": {
     "name": "#%%\n"
    }
   },
   "outputs": [
    {
     "name": "stdout",
     "output_type": "stream",
     "text": [
      "Traceback (most recent call last):\r\n",
      "  File \"/home/m25dehgh/anaconda3/envs/easenv/bin/easse\", line 8, in <module>\r\n",
      "    sys.exit(cli())\r\n",
      "  File \"/home/m25dehgh/anaconda3/envs/easenv/lib/python3.6/site-packages/click/core.py\", line 829, in __call__\r\n",
      "    return self.main(*args, **kwargs)\r\n",
      "  File \"/home/m25dehgh/anaconda3/envs/easenv/lib/python3.6/site-packages/click/core.py\", line 782, in main\r\n",
      "    rv = self.invoke(ctx)\r\n",
      "  File \"/home/m25dehgh/anaconda3/envs/easenv/lib/python3.6/site-packages/click/core.py\", line 1259, in invoke\r\n",
      "    return _process_result(sub_ctx.command.invoke(sub_ctx))\r\n",
      "  File \"/home/m25dehgh/anaconda3/envs/easenv/lib/python3.6/site-packages/click/core.py\", line 1066, in invoke\r\n",
      "    return ctx.invoke(self.callback, **ctx.params)\r\n",
      "  File \"/home/m25dehgh/anaconda3/envs/easenv/lib/python3.6/site-packages/click/core.py\", line 610, in invoke\r\n",
      "    return callback(*args, **kwargs)\r\n",
      "  File \"/home/m25dehgh/anaconda3/envs/easenv/lib/python3.6/site-packages/easse/cli.py\", line 124, in _evaluate_system_output\r\n",
      "    metrics_scores = evaluate_system_output(*args, **kwargs)\r\n",
      "  File \"/home/m25dehgh/anaconda3/envs/easenv/lib/python3.6/site-packages/easse/cli.py\", line 160, in evaluate_system_output\r\n",
      "    orig_sents, refs_sents = get_orig_and_refs_sents(test_set, orig_sents_path, refs_sents_paths)\r\n",
      "  File \"/home/m25dehgh/anaconda3/envs/easenv/lib/python3.6/site-packages/easse/cli.py\", line 37, in get_orig_and_refs_sents\r\n",
      "    orig_sents = read_lines(orig_sents_path)\r\n",
      "  File \"/home/m25dehgh/anaconda3/envs/easenv/lib/python3.6/site-packages/easse/utils/helpers.py\", line 14, in read_lines\r\n",
      "    with open(filename, encoding=\"utf-8\") as f:\r\n",
      "FileNotFoundError: [Errno 2] No such file or directory: 'orig'\r\n"
     ]
    }
   ],
   "source": [
    "# %cd /home/m25dehgh/simplification/Edit-Unsup-TS/src/asset\n",
    "# %cd /home/m25dehgh/simplification/controllable-simplification/src/Wikilarge/output\n",
    "\n",
    "# !/home/m25dehgh/anaconda3/envs/easenv/bin/easse evaluate --orig_sents_path asset.test.orig.2 --sys_sents_path asset.handgenerated --refs_sents_paths 'asset.testing.simp' -t custom -m 'sari,bleu' -q\n",
    "!/home/m25dehgh/anaconda3/envs/easenv/bin/easse evaluate --orig_sents_path orig --sys_sents_path /home/m25dehgh/simplification/Edit-Unsup-TS/src/asset/asset.handgenerated --refs_sents_paths '/home/m25dehgh/simplification/Edit-Unsup-TS/src/asset/asset.testing.simp' -t custom -m 'sari,bleu' -q\n"
   ]
  },
  {
   "cell_type": "code",
   "execution_count": 6,
   "metadata": {},
   "outputs": [],
   "source": [
    "orig = \"/home/m25dehgh/simplification/Edit-Unsup-TS/src/asset/asset.test.orig.2\""
   ]
  },
  {
   "cell_type": "code",
   "execution_count": null,
   "metadata": {},
   "outputs": [],
   "source": [
    "import normalizing\n",
    "print('one side of the armed conflicts is composed mainly of the sudanese military and the janjaweed , a sudanese militia group recruited mostly from the afro-arab abbala tribes of the northern rizeigat region in sudan .')\n",
    "print(normalizing.all_norms('one side of the armed conflicts is composed mainly of the sudanese military and the janjaweed , a sudanese militia group recruited mostly from the afro-arab abbala tribes of the northern rizeigat region in sudan .'))"
   ]
  },
  {
   "cell_type": "code",
   "execution_count": null,
   "metadata": {},
   "outputs": [],
   "source": [
    "from nltk.parse import CoreNLPParser\n",
    "\n",
    "parser = CoreNLPParser(url='http://localhost:9000')\n",
    "con_tree = list(parser.parse('one side of the armed conflicts is composed mainly of the sudanese military and the janjaweed, a sudanese militia group recruited mostly from the afro-arab abbala tribes of the northern rizeigat region in sudan.'.split()))\n",
    "con_tree = list(parser.parse('the great dark spot is thought to represent a hole in the methane cloud deck of neptune.'.split()))\n",
    "con_tree"
   ]
  },
  {
   "cell_type": "code",
   "execution_count": null,
   "metadata": {},
   "outputs": [],
   "source": [
    "# parse = next(parser.raw_parse(\"I put the book in the box on the table.\"))\n",
    "for i in con_tree:\n",
    "    print(i)"
   ]
  },
  {
   "cell_type": "code",
   "execution_count": null,
   "metadata": {},
   "outputs": [],
   "source": []
  },
  {
   "cell_type": "code",
   "execution_count": null,
   "metadata": {},
   "outputs": [],
   "source": [
    "import os\n",
    "from nltk.tree import Tree\n",
    "from nltk.draw.tree import TreeView\n",
    "t = Tree.fromstring('(S (NP this tree) (VP (V is) (AdjP pretty)))')\n",
    "# t = con_tree[0]\n",
    "TreeView(t)._cframe.print_to_file('output.ps')\n",
    "os.system('convert output.ps output.png')"
   ]
  },
  {
   "cell_type": "code",
   "execution_count": null,
   "metadata": {},
   "outputs": [],
   "source": [
    "from nltk import Tree\n",
    "from nltk.draw.util import CanvasFrame\n",
    "from nltk.draw import TreeWidget\n",
    "from IPython.display import display\n",
    "from IPython.display import Image\n",
    "sentence = 'I saw a dog'\n",
    "# parser = Parser()\n",
    "parsed = parser.parse(sentence)\n",
    "cf = CanvasFrame()\n",
    "tc = TreeWidget(cf.canvas(),parsed)\n",
    "cf.add_widget(tc,10,10) # (10,10) offsets\n",
    "cf.print_to_file('tree.ps')\n",
    "cf.destroy()\n",
    "! convert tree.ps tree.png\n",
    "! rm tree.ps"
   ]
  },
  {
   "cell_type": "code",
   "execution_count": null,
   "metadata": {},
   "outputs": [],
   "source": [
    "type(con_tree[0])"
   ]
  },
  {
   "cell_type": "code",
   "execution_count": 2,
   "metadata": {},
   "outputs": [],
   "source": [
    "# %cd /home/m25dehgh/simplification/Edit-Unsup-TS/\n",
    "\n",
    "# wiki_orig_out = open('src/Wikilarge/output/RM+EX+LS+RO.txt', encoding='utf-8').read().split('\\n')\n",
    "root_path = '/home/m25dehgh/simplification/controllable-simplification/src/'\n",
    "wiki_me_out = open(root_path + 'Wikilarge/output/simplifications.txt', encoding='utf-8').read().split('\\n')\n",
    "\n",
    "wiki_me_out \n",
    "\n",
    "new_wiki = []\n",
    "for i in range(len(wiki_me_out)):\n",
    "    if i % 8 == 2:\n",
    "        new_wiki.append(wiki_me_out[i])\n",
    "\n",
    "# new_wiki = new_wiki[-359:]\n",
    "        \n",
    "with open(root_path + '/Wikilarge/output/dl:1.25-par:1-asset-mp:80+gV3:67+ent:0.txt', \"w\") as file:\n",
    "    for i in range(len(new_wiki)):\n",
    "        file.write(new_wiki[i] + \"\\n\")"
   ]
  },
  {
   "cell_type": "code",
   "execution_count": 4,
   "metadata": {},
   "outputs": [
    {
     "data": {
      "text/plain": [
       "'a string can vibrate in different ways and each form is shown .'"
      ]
     },
     "execution_count": 4,
     "metadata": {},
     "output_type": "execute_result"
    }
   ],
   "source": [
    "new_wiki[-1]"
   ]
  },
  {
   "cell_type": "markdown",
   "metadata": {},
   "source": [
    "# Be careful"
   ]
  },
  {
   "cell_type": "code",
   "execution_count": null,
   "metadata": {},
   "outputs": [],
   "source": [
    "newsela_test_dst = []\n",
    "for i in range(10):\n",
    "    newsela_test_dst.append(open('/home/m25dehgh/simplification/datasets/asset/dataset/asset.test.simp.{}'.format(i), encoding='utf-8').read().split('\\n'))\n",
    "\n",
    "    newsela_test_dst[i] = [normalizing.all_norms(j) for j in newsela_test_dst[i]]\n",
    "\n",
    "\n",
    "    with open('/home/m25dehgh/simplification/datasets/asset/dataset/asset.test.norm.simp.{}'.format(i), \"w\") as file:\n",
    "        for j in range(len(newsela_test_dst[i])):\n",
    "            file.write(newsela_test_dst[i][j] + \"\\n\")\n",
    "        \n"
   ]
  },
  {
   "cell_type": "code",
   "execution_count": null,
   "metadata": {},
   "outputs": [],
   "source": [
    "newsela_test_dst = open('/home/m25dehgh/simplification/datasets/asset/dataset/asset.test.orig', encoding='utf-8').read().split('\\n')\n",
    "\n",
    "newsela_test_dst = [normalizing.all_norms(j) for j in newsela_test_dst]\n",
    "\n",
    "\n",
    "with open('/home/m25dehgh/simplification/datasets/asset/dataset/asset.test.norm.orig', \"w\") as file:\n",
    "    for j in range(len(newsela_test_dst)):\n",
    "        file.write(newsela_test_dst[j] + \"\\n\")"
   ]
  },
  {
   "cell_type": "code",
   "execution_count": null,
   "metadata": {},
   "outputs": [],
   "source": [
    "valid_src = open('/home/m25dehgh/simplification/Edit-Unsup-TS/src/turkcorpus/test.8turkers.tok.norm', encoding='utf-8').read().split('\\n')"
   ]
  }
 ],
 "metadata": {
  "kernelspec": {
   "display_name": "simpenv38",
   "language": "python",
   "name": "simpenv38"
  },
  "language_info": {
   "codemirror_mode": {
    "name": "ipython",
    "version": 3
   },
   "file_extension": ".py",
   "mimetype": "text/x-python",
   "name": "python",
   "nbconvert_exporter": "python",
   "pygments_lexer": "ipython3",
   "version": "3.8.5"
  }
 },
 "nbformat": 4,
 "nbformat_minor": 1
}

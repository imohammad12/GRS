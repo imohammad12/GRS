{
 "cells": [
  {
   "cell_type": "code",
   "execution_count": 6,
   "metadata": {
    "collapsed": true,
    "pycharm": {
     "name": "#%%\n"
    }
   },
   "outputs": [
    {
     "name": "stdout",
     "output_type": "stream",
     "text": [
      "{'clip': 50, 'lr': 0.001, 'num_steps': 87, 'threshold': {'ls': 0.8, 'dl': 1, 'las': 3.0, 'rl': 1.25, 'pa': 1.25}, 'epochs': 100, 'set': 'test', 'lm_name': 'Wikilarge/structured_lm_forward_300_150_0_4_freq5', 'use_structural_as_standard': False, 'lm_backward': False, 'embedding_dim': 300, 'tag_dim': 150, 'dep_dim': 150, 'hidden_size': 256, 'num_layers': 2, 'freq': 0, 'min_length': 100, 'dataset': 'Wikilarge', 'ver': 'glove.6B.', 'dropout': 0.4, 'batch_size': 64, 'print_every': 100, 'MAX_LENGTH': 85, 'double_LM': False, 'gpu': 0, 'awd': False, 'file_name': 'Wikilarge/output/simplifications_Asset.txt', 'fre': True, 'SLOR': True, 'beam_size': 1, 'elmo': False, 'min_length_of_edited_sent': 6, 'lexical_simplification': True, 'delete_leaves': True, 'leaves_as_sent': True, 'reorder_leaves': True, 'check_min_length': True, 'cos_similarity_threshold': 0.7, 'cos_value_for_synonym_acceptance': 0.5, 'min_idf_value_for_ls': 11, 'sentence_probability_power': 1.0, 'named_entity_score_power': 1.0, 'len_power': 0.5, 'fre_power': 1.0, 'operation': 'sample'}\n",
      "loading glove\n",
      "loading word2vec\n",
      "Mode is\n",
      "sample\n",
      "cuda:0\n"
     ]
    }
   ],
   "source": [
    "\n",
    "from utils import *\n",
    "print(\"Mode is\")\n",
    "print(config['operation'])\n",
    "print(device)\n"
   ]
  },
  {
   "cell_type": "code",
   "execution_count": 3,
   "metadata": {
    "pycharm": {
     "name": "#%%\n"
    }
   },
   "outputs": [
    {
     "name": "stdout",
     "output_type": "stream",
     "text": [
      "/home/m25dehgh/simplification/Edit-Unsup-TS/src\n",
      "/home/m25dehgh/anaconda3/envs/simpenv38/bin/python\r\n"
     ]
    }
   ],
   "source": [
    "%cd ~/simplification/Edit-Unsup-TS/src/\n",
    "! which python"
   ]
  },
  {
   "cell_type": "code",
   "execution_count": 16,
   "metadata": {
    "pycharm": {
     "name": "#%%\n"
    }
   },
   "outputs": [
    {
     "name": "stdout",
     "output_type": "stream",
     "text": [
      "Reading lines...\n",
      "loading Wikilarge data\n",
      "Read 296402 train sentence pairs\n",
      "Read 1999 valid sentence pairs\n",
      "Read 358 test sentence pairs\n",
      "Read 237052 unique train sentence pairs\n",
      "Read 1999 unique valid sentence pairs\n",
      "Read 358 unique test sentence pairs\n",
      "Trimmed to 296402 train sentence pairs\n",
      "Trimmed to 1999 valid sentence pairs\n",
      "Trimmed to 358 test sentence pairs\n",
      "Trimmed to 237052 unique train sentence pairs\n",
      "Trimmed to 1999 unique valid sentence pairs\n",
      "Trimmed to 358 unique test sentence pairs\n",
      "Loading/Building vocabulary\n",
      "outputword2count (Vocab) file present\n",
      "Generating tf-idf file using simple sentences from the training set\n",
      "Calculating unigram probabilities\n",
      "OOV count\n",
      "1213\n",
      "Total vocabulary size:\n",
      "simple 35650\n"
     ]
    }
   ],
   "source": [
    "from model.structural_decoder import DecoderGRU\n",
    "\n",
    "idf, unigram_prob, output_lang, tag_lang, dep_lang, train_simple, valid_simple, test_simple, train_complex, valid_complex, test_complex, output_embedding_weights, tag_embedding_weights, dep_embedding_weights = prepareData(config['embedding_dim'],\n",
    "config['freq'], config['ver'], config['dataset'], config['operation'])\n",
    "\n",
    "lm_forward = DecoderGRU(config['hidden_size'], output_lang.n_words, tag_lang.n_words, dep_lang.n_words, config['num_layers'],\n",
    "    output_embedding_weights, tag_embedding_weights, dep_embedding_weights, config['embedding_dim'], config['tag_dim'], config['dep_dim'], config['dropout'], config['use_structural_as_standard']).to(device)\n",
    "lm_backward = DecoderGRU(config['hidden_size'], output_lang.n_words, tag_lang.n_words, dep_lang.n_words, config['num_layers'],\n",
    "    output_embedding_weights, tag_embedding_weights, dep_embedding_weights, config['embedding_dim'], config['tag_dim'], config['dep_dim'], config['dropout'], config['use_structural_as_standard']).to(device)"
   ]
  },
  {
   "cell_type": "code",
   "execution_count": 95,
   "metadata": {
    "pycharm": {
     "name": "#%%\n"
    }
   },
   "outputs": [],
   "source": [
    "from nltk.parse.corenlp import CoreNLPParser\n",
    "parser = CoreNLPParser('http://localhost:9000')\n",
    "\n",
    "\n",
    "sent = 'I want to know if you love me'\n",
    "sent = 'one side of the armed conflicts is composed mainly of the sudanese military and the janjaweed, a sudanese militia group recruited mostly from the afro-arab abbala tribes of the northern rizeigat region in sudan.'\n",
    "sent = \"Jeddah is the principal gateway to Mecca, Islam's holiest city, which able-bodied Muslims are required to visit at least once in their lifetime.\"\n",
    "sent = \"Since 2000, the recipient of the Kate Greenaway Medal has also been presented with the Colin Mears Award to the value of £5000.\"\n",
    "tree = next(parser.raw_parse(sent))\n",
    "\n",
    "\n"
   ]
  },
  {
   "cell_type": "code",
   "execution_count": 96,
   "metadata": {
    "pycharm": {
     "name": "#%%\n"
    }
   },
   "outputs": [
    {
     "data": {
      "text/plain": [
       "[(),\n",
       " (0,),\n",
       " (0, 0),\n",
       " (0, 0, 0),\n",
       " (0, 0, 0, 0),\n",
       " (0, 0, 1),\n",
       " (0, 0, 1, 0),\n",
       " (0, 0, 1, 0, 0),\n",
       " (0, 1),\n",
       " (0, 1, 0),\n",
       " (0, 2),\n",
       " (0, 2, 0),\n",
       " (0, 2, 0, 0),\n",
       " (0, 2, 0, 0, 0),\n",
       " (0, 2, 0, 1),\n",
       " (0, 2, 0, 1, 0),\n",
       " (0, 2, 1),\n",
       " (0, 2, 1, 0),\n",
       " (0, 2, 1, 0, 0),\n",
       " (0, 2, 1, 1),\n",
       " (0, 2, 1, 1, 0),\n",
       " (0, 2, 1, 1, 0, 0),\n",
       " (0, 2, 1, 1, 1),\n",
       " (0, 2, 1, 1, 1, 0),\n",
       " (0, 2, 1, 1, 2),\n",
       " (0, 2, 1, 1, 2, 0),\n",
       " (0, 2, 1, 1, 3),\n",
       " (0, 2, 1, 1, 3, 0),\n",
       " (0, 3),\n",
       " (0, 3, 0),\n",
       " (0, 3, 0, 0),\n",
       " (0, 3, 1),\n",
       " (0, 3, 1, 0),\n",
       " (0, 3, 1, 0, 0),\n",
       " (0, 3, 2),\n",
       " (0, 3, 2, 0),\n",
       " (0, 3, 2, 0, 0),\n",
       " (0, 3, 2, 1),\n",
       " (0, 3, 2, 1, 0),\n",
       " (0, 3, 2, 1, 0, 0),\n",
       " (0, 3, 2, 1, 1),\n",
       " (0, 3, 2, 1, 1, 0),\n",
       " (0, 3, 2, 1, 1, 0, 0),\n",
       " (0, 3, 2, 1, 1, 1),\n",
       " (0, 3, 2, 1, 1, 1, 0),\n",
       " (0, 3, 2, 1, 1, 1, 0, 0),\n",
       " (0, 3, 2, 1, 1, 1, 1),\n",
       " (0, 3, 2, 1, 1, 1, 1, 0),\n",
       " (0, 3, 2, 1, 1, 1, 2),\n",
       " (0, 3, 2, 1, 1, 1, 2, 0),\n",
       " (0, 3, 2, 1, 1, 1, 3),\n",
       " (0, 3, 2, 1, 1, 1, 3, 0),\n",
       " (0, 3, 2, 1, 2),\n",
       " (0, 3, 2, 1, 2, 0),\n",
       " (0, 3, 2, 1, 2, 0, 0),\n",
       " (0, 3, 2, 1, 2, 1),\n",
       " (0, 3, 2, 1, 2, 1, 0),\n",
       " (0, 3, 2, 1, 2, 1, 0, 0),\n",
       " (0, 3, 2, 1, 2, 1, 0, 0, 0),\n",
       " (0, 3, 2, 1, 2, 1, 0, 1),\n",
       " (0, 3, 2, 1, 2, 1, 0, 1, 0),\n",
       " (0, 3, 2, 1, 2, 1, 1),\n",
       " (0, 3, 2, 1, 2, 1, 1, 0),\n",
       " (0, 3, 2, 1, 2, 1, 1, 0, 0),\n",
       " (0, 3, 2, 1, 2, 1, 1, 1),\n",
       " (0, 3, 2, 1, 2, 1, 1, 1, 0),\n",
       " (0, 3, 2, 1, 2, 1, 1, 1, 0, 0),\n",
       " (0, 3, 2, 1, 2, 1, 1, 1, 1),\n",
       " (0, 3, 2, 1, 2, 1, 1, 1, 1, 0),\n",
       " (0, 4),\n",
       " (0, 4, 0)]"
      ]
     },
     "execution_count": 96,
     "metadata": {},
     "output_type": "execute_result"
    }
   ],
   "source": [
    "tree.treepositions()"
   ]
  },
  {
   "cell_type": "code",
   "execution_count": 97,
   "metadata": {
    "pycharm": {
     "name": "#%%\n"
    }
   },
   "outputs": [
    {
     "data": {
      "text/plain": [
       "71"
      ]
     },
     "execution_count": 97,
     "metadata": {},
     "output_type": "execute_result"
    }
   ],
   "source": [
    "pos = tree.treepositions()\n",
    "len(pos)\n"
   ]
  },
  {
   "cell_type": "code",
   "execution_count": 98,
   "metadata": {
    "pycharm": {
     "name": "#%%\n"
    }
   },
   "outputs": [],
   "source": [
    "phrase_tags = ['S', 'ADJP', 'ADVP', 'CONJP', 'FRAG', 'INTJ', 'LST', 'NAC', 'NP', 'NX', 'PP', 'PRN', 'PRT',\n",
    "               'QP', 'RRC', 'UCP', 'VP', 'WHADJP', 'WHAVP', 'WHNP', 'WHPP', 'X', 'SBAR']\n",
    "p = []\n",
    "pos = tree.treepositions()\n",
    "for i in range(len(pos) - 1, 1, -1):\n",
    "    if not isinstance(tree[pos[i]], str):\n",
    "        if tree[pos[i]].label() in phrase_tags:\n",
    "            p.append(tree[pos[i]].leaves())"
   ]
  },
  {
   "cell_type": "code",
   "execution_count": 99,
   "metadata": {
    "pycharm": {
     "name": "#%%\n"
    }
   },
   "outputs": [
    {
     "data": {
      "text/plain": [
       "[['£', '5000'],\n",
       " ['of', '£', '5000'],\n",
       " ['the', 'value'],\n",
       " ['the', 'value', 'of', '£', '5000'],\n",
       " ['to', 'the', 'value', 'of', '£', '5000'],\n",
       " ['the', 'Colin', 'Mears', 'Award'],\n",
       " ['with', 'the', 'Colin', 'Mears', 'Award'],\n",
       " ['presented',\n",
       "  'with',\n",
       "  'the',\n",
       "  'Colin',\n",
       "  'Mears',\n",
       "  'Award',\n",
       "  'to',\n",
       "  'the',\n",
       "  'value',\n",
       "  'of',\n",
       "  '£',\n",
       "  '5000'],\n",
       " ['been',\n",
       "  'presented',\n",
       "  'with',\n",
       "  'the',\n",
       "  'Colin',\n",
       "  'Mears',\n",
       "  'Award',\n",
       "  'to',\n",
       "  'the',\n",
       "  'value',\n",
       "  'of',\n",
       "  '£',\n",
       "  '5000'],\n",
       " ['also'],\n",
       " ['has',\n",
       "  'also',\n",
       "  'been',\n",
       "  'presented',\n",
       "  'with',\n",
       "  'the',\n",
       "  'Colin',\n",
       "  'Mears',\n",
       "  'Award',\n",
       "  'to',\n",
       "  'the',\n",
       "  'value',\n",
       "  'of',\n",
       "  '£',\n",
       "  '5000'],\n",
       " ['the', 'Kate', 'Greenaway', 'Medal'],\n",
       " ['of', 'the', 'Kate', 'Greenaway', 'Medal'],\n",
       " ['the', 'recipient'],\n",
       " ['the', 'recipient', 'of', 'the', 'Kate', 'Greenaway', 'Medal'],\n",
       " ['2000'],\n",
       " ['Since', '2000']]"
      ]
     },
     "execution_count": 99,
     "metadata": {},
     "output_type": "execute_result"
    }
   ],
   "source": [
    "p"
   ]
  },
  {
   "cell_type": "code",
   "execution_count": 100,
   "metadata": {
    "pycharm": {
     "name": "#%%\n"
    }
   },
   "outputs": [
    {
     "name": "stdout",
     "output_type": "stream",
     "text": [
      "out put for dlt : Since 2000, the recipient of the Kate Greenaway Medal has also been presented with the Colin Mears Award to the value of £5000.\n",
      "out put for dlt : Since 2000, the recipient of the Kate Greenaway Medal has also been presented with the Colin Mears Award to the value of £5000.\n",
      "out put for dlt : Since 2000, the recipient of the Kate Greenaway Medal has also been presented with the Colin Mears Award to of £5000.\n",
      "out put for dlt : Since 2000, the recipient of the Kate Greenaway Medal has also been presented with the Colin Mears Award to the value of £5000.\n",
      "out put for dlt : Since 2000, the recipient of the Kate Greenaway Medal has also been presented with the Colin Mears Award to the value of £5000.\n",
      "out put for dlt : Since 2000, the recipient of the Kate Greenaway Medal has also been presented with to the value of £5000.\n",
      "out put for dlt : Since 2000, the recipient of the Kate Greenaway Medal has also been presented to the value of £5000.\n",
      "out put for dlt : Since 2000, the recipient of the Kate Greenaway Medal has also been presented with the Colin Mears Award to the value of £5000.\n",
      "out put for dlt : Since 2000, the recipient of the Kate Greenaway Medal has also been presented with the Colin Mears Award to the value of £5000.\n",
      "out put for dlt : Since 2000, the recipient of the Kate Greenaway Medal has been presented with the Colin Mears Award to the value of £5000.\n",
      "out put for dlt : Since 2000, the recipient of the Kate Greenaway Medal has also been presented with the Colin Mears Award to the value of £5000.\n",
      "out put for dlt : Since 2000, the recipient of has also been presented with the Colin Mears Award to the value of £5000.\n",
      "out put for dlt : Since 2000, the recipient has also been presented with the Colin Mears Award to the value of £5000.\n",
      "out put for dlt : Since 2000, of the Kate Greenaway Medal has also been presented with the Colin Mears Award to the value of £5000.\n",
      "out put for dlt : Since 2000, has also been presented with the Colin Mears Award to the value of £5000.\n",
      "out put for dlt : Since 2000, the recipient of the Kate Greenaway Medal has also been presented with the Colin Mears Award to the value of £5000.\n",
      "out put for dlt : Since 2000, the recipient of the Kate Greenaway Medal has also been presented with the Colin Mears Award to the value of £5000.\n"
     ]
    }
   ],
   "source": [
    "for i in p:\n",
    "    # print(\"p[i] is :\", i)\n",
    "    print(\"out put for dlt :\", delete_leaves(sent, i))"
   ]
  },
  {
   "cell_type": "code",
   "execution_count": 101,
   "metadata": {
    "pycharm": {
     "name": "#%%\n"
    }
   },
   "outputs": [
    {
     "data": {
      "text/plain": [
       "['the', 'value', 'of', '£', '5000']"
      ]
     },
     "execution_count": 101,
     "metadata": {},
     "output_type": "execute_result"
    }
   ],
   "source": [
    "p[3]"
   ]
  },
  {
   "cell_type": "code",
   "execution_count": 102,
   "metadata": {
    "pycharm": {
     "name": "#%%\n"
    }
   },
   "outputs": [],
   "source": [
    "# def cons_paraphrase(sent, leaves):\n",
    "def paraph(sent, leaves):\n",
    "    phrase = ''\n",
    "    # print(leaves)\n",
    "    for i in range(len(leaves)):\n",
    "        phrase = phrase + ' ' + leaves[i]\n",
    "    phrase = phrase + ' '\n",
    "    old = sent\n",
    "    # print(\"deleting\", phrase)\n",
    "\n",
    "    sent = const_paraph(sent, phrase)\n",
    "\n",
    "    print('new: ', sent)\n",
    "    if old == sent:\n",
    "        sent = sent.replace(phrase[1:], ' ')\n",
    "        if sent[0] == ' ':\n",
    "            sent = sent[1:]\n",
    "    return correct(sent)"
   ]
  },
  {
   "cell_type": "code",
   "execution_count": 103,
   "metadata": {
    "pycharm": {
     "name": "#%%\n"
    }
   },
   "outputs": [],
   "source": [
    "def const_paraph(sent, neg_const, rest_pos_const=False):\n",
    "\n",
    "    stp_words = nltk.corpus.stopwords.words('english')\n",
    "\n",
    "    sent = sent.translate(str.maketrans('', '', string.punctuation))\n",
    "\n",
    "    neg_const = neg_const.split(\" \")\n",
    "    entities = get_entities(sent)\n",
    "    pos_const = []\n",
    "\n",
    "    neg_const = [x for x in neg_const if x not in entities]\n",
    "\n",
    "    if rest_pos_const:\n",
    "        for i in sent.split():\n",
    "            if i not in neg_const and i not in stp_words:\n",
    "                pos_const.append(i.lower())\n",
    "    else:\n",
    "        pos_const = entities\n",
    "\n",
    "    inp = sent + '.' + \"\\t\" + \"|\".join(neg_const) + '\\t' + \"|\".join(pos_const)\n",
    "\n",
    "    print(inp)\n",
    "\n",
    "    f = open(\"inp_par.txt\", \"w\")\n",
    "    f.write(inp)\n",
    "    f.close()\n",
    "\n",
    "    f = open(\"out_par.txt\", \"w\")\n",
    "    f.close()\n",
    "\n",
    "    imr_dir_path = '/home/m25dehgh/simplification/improved-ParaBank-rewriter'\n",
    "    bashCommand = f\"{imr_dir_path}/paraphrase.sh < ./inp_par.txt > ./out_par.txt \"\n",
    "\n",
    "    os.system(bashCommand)\n",
    "\n",
    "    f = open(\"out_par.txt\", \"r\")\n",
    "    return f.read()"
   ]
  },
  {
   "cell_type": "code",
   "execution_count": 104,
   "metadata": {
    "pycharm": {
     "name": "#%%\n"
    }
   },
   "outputs": [
    {
     "data": {
      "text/plain": [
       "'Since 2000, the recipient of the Kate Greenaway Medal has also been presented with the Colin Mears Award to the value of £5000.'"
      ]
     },
     "execution_count": 104,
     "metadata": {},
     "output_type": "execute_result"
    }
   ],
   "source": [
    "# paraph(sent, p[9])\n",
    "sent"
   ]
  },
  {
   "cell_type": "code",
   "execution_count": 105,
   "metadata": {
    "pycharm": {
     "name": "#%%\n"
    }
   },
   "outputs": [
    {
     "name": "stdout",
     "output_type": "stream",
     "text": [
      "since 2000  the recipient of the kate greenaway medal has also been presented with the colin mears award to the value of £ 5000 .\thas|also|been|presented|with\t2000|5000\n"
     ]
    },
    {
     "data": {
      "text/plain": [
       "'Since 2000, the recipient of the Kate greenaway medal 5000 colon mears was submitted.\\n'"
      ]
     },
     "execution_count": 105,
     "metadata": {},
     "output_type": "execute_result"
    }
   ],
   "source": [
    "const_paraph(all_norms(sent), \"has also been presented with\", rest_pos_const=False)"
   ]
  },
  {
   "cell_type": "code",
   "execution_count": 66,
   "metadata": {
    "pycharm": {
     "name": "#%%\n"
    }
   },
   "outputs": [],
   "source": [
    "phrase = ''\n",
    "# print(leaves)\n",
    "for i in range(len(p[12])):\n",
    "    phrase = phrase + ' ' + p[12][i]\n",
    "phrase = phrase + ' '"
   ]
  },
  {
   "cell_type": "code",
   "execution_count": 72,
   "metadata": {
    "pycharm": {
     "name": "#%%\n"
    }
   },
   "outputs": [
    {
     "data": {
      "text/plain": [
       "'a sudanese militia group'"
      ]
     },
     "execution_count": 72,
     "metadata": {},
     "output_type": "execute_result"
    }
   ],
   "source": [
    "\" \".join(p[12])"
   ]
  },
  {
   "cell_type": "code",
   "execution_count": 71,
   "metadata": {
    "pycharm": {
     "name": "#%%\n"
    }
   },
   "outputs": [
    {
     "data": {
      "text/plain": [
       "' a sudanese militia group '"
      ]
     },
     "execution_count": 71,
     "metadata": {},
     "output_type": "execute_result"
    }
   ],
   "source": [
    "phrase"
   ]
  },
  {
   "cell_type": "code",
   "execution_count": null,
   "metadata": {
    "pycharm": {
     "name": "#%%\n"
    }
   },
   "outputs": [],
   "source": []
  }
 ],
 "metadata": {
  "kernelspec": {
   "display_name": "simpenv38",
   "language": "python",
   "name": "simpenv38"
  },
  "language_info": {
   "codemirror_mode": {
    "name": "ipython",
    "version": 3
   },
   "file_extension": ".py",
   "mimetype": "text/x-python",
   "name": "python",
   "nbconvert_exporter": "python",
   "pygments_lexer": "ipython3",
   "version": "3.8.5"
  }
 },
 "nbformat": 4,
 "nbformat_minor": 1
}
